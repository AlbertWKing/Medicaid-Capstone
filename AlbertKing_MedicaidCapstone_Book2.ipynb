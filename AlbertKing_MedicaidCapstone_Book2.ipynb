{
 "cells": [
  {
   "attachments": {},
   "cell_type": "markdown",
   "metadata": {},
   "source": [
    "Markdown Shit\n",
    "\n",
    "This book will detail fitting - focus first on getting a general example, sum of all prescriptions, then following books will look at specific examples\n",
    "\n",
    "In order to manage the data downloaded from https://data.medicaid.gov/datasets?theme%5B0%5D=State+Drug+Utilization the CSV files were brought into MySQL initially using command line as MySQL was not able to handle the size of the files. "
   ]
  },
  {
   "cell_type": "code",
   "execution_count": null,
   "metadata": {},
   "outputs": [],
   "source": [
    "import pandas as pd\n",
    "import plotly.graph_objects as go\n",
    "from pandas.tseries.offsets import QuarterEnd\n",
    "# from datetime import datetime, date, time\n",
    "from statsmodels.api import tsa\n",
    "from plotly.subplots import make_subplots\n",
    "import matplotlib.pyplot as plt\n",
    "from statsmodels.graphics.tsaplots import plot_acf, plot_pacf\n",
    "import seaborn as sns\n",
    "import numpy as np\n",
    "from statsmodels.tsa.statespace.sarimax import SARIMAX\n",
    "import plotly.express as px\n",
    "from prophet import Prophet\n",
    "from prophet.plot import plot_plotly\n",
    "# WARNING WARNING WARNING\n",
    "import warnings\n",
    "warnings.filterwarnings(\"ignore\")\n",
    "# WARNING WARNING WARNING"
   ]
  },
  {
   "cell_type": "code",
   "execution_count": null,
   "metadata": {},
   "outputs": [],
   "source": [
    "# import data exported from Book 1\n",
    "parent_df = pd.read_csv('data/quarterly_rx_state.csv',index_col=0).T\n",
    "\n",
    "# make sure data look as expected\n",
    "parent_df.head(3)"
   ]
  },
  {
   "cell_type": "code",
   "execution_count": null,
   "metadata": {},
   "outputs": [],
   "source": [
    "parent_df.drop(['TN','WA','SD'],axis=1,inplace=True)\n",
    "parent_df.drop(['09/30/2022'],axis=0,inplace=True)"
   ]
  },
  {
   "cell_type": "code",
   "execution_count": null,
   "metadata": {},
   "outputs": [],
   "source": [
    "# find total for each date\n",
    "\n",
    "# instantiate empty dict \n",
    "summary_dict = {}\n",
    "\n",
    "# loop through rows\n",
    "for i in parent_df.index:\n",
    "    # for each date add sum of that quarter to dict\n",
    "    summary_dict[i] = parent_df.loc[i].sum()\n",
    "\n",
    "# convert to a dataframe\n",
    "summary_df = pd.DataFrame.from_dict(summary_dict, orient='index', columns=['Prescriptions'])\n",
    "\n",
    "# ensure that index is datetime type\n",
    "summary_df.index = pd.to_datetime(summary_df.index)"
   ]
  },
  {
   "cell_type": "code",
   "execution_count": null,
   "metadata": {},
   "outputs": [],
   "source": [
    "layout = go.Layout(xaxis={'title': 'Year'}, yaxis={'title': 'Prescriptions'}, title={'text': 'Prescriptions Reimbursed Annually, 1991-2022'})\n",
    "fig = go.Figure(data=go.Scatter(x = list(summary_df.index), y = list(summary_df['Prescriptions']), mode='markers'),layout=layout)\n",
    "fig.update()\n",
    "fig.show()"
   ]
  },
  {
   "attachments": {},
   "cell_type": "markdown",
   "metadata": {},
   "source": [
    "Let's do some classic time series analysis, trend, seasonal, and residual decomposition\n",
    "\n"
   ]
  },
  {
   "cell_type": "code",
   "execution_count": null,
   "metadata": {},
   "outputs": [],
   "source": [
    "# analysis_dict = {}\n",
    "analysis_df_full = pd.DataFrame.empty\n",
    "\n",
    "\n",
    "decomposition = tsa.seasonal_decompose(summary_df, model='additive')\n",
    "\n",
    "analysis_dict={'trend':dict(decomposition.trend),'seasonal':dict(decomposition.seasonal),'residual':dict(decomposition.resid)}\n",
    "analysis_df_full = pd.DataFrame(analysis_dict)\n",
    "\n",
    "\n",
    "fig = make_subplots(rows=3, cols=1)\n",
    "fig.append_trace(go.Scatter(\n",
    "    name = 'Trend',\n",
    "    x = list(analysis_df_full.index),\n",
    "    y = list(analysis_df_full['trend']),\n",
    "), row=1, col=1)\n",
    "fig.append_trace(go.Scatter(\n",
    "    name = 'Seasonal',\n",
    "    x = list(analysis_df_full.index),\n",
    "    y = list(analysis_df_full['seasonal']),\n",
    "), row=2, col=1)\n",
    "fig.append_trace(go.Scatter(\n",
    "    name = 'Residuals',\n",
    "    x = list(analysis_df_full.index),\n",
    "    y = list(analysis_df_full['residual']),\n",
    "), row=3, col=1)\n",
    "fig.update_layout(height=600, width=800, title_text=f\"Prescription Stacked Subplots\")\n",
    "fig.show()"
   ]
  },
  {
   "attachments": {},
   "cell_type": "markdown",
   "metadata": {},
   "source": [
    "Let's try differencing by quarters."
   ]
  },
  {
   "cell_type": "code",
   "execution_count": null,
   "metadata": {},
   "outputs": [],
   "source": [
    "# differencing 1 quarter\n",
    "\n",
    "increment_1_df = summary_df.copy(deep=True)\n",
    "\n",
    "new_prescription_values = []\n",
    "\n",
    "for h, i in enumerate(increment_1_df.index):\n",
    "    if h == 0:\n",
    "        pass\n",
    "    else:\n",
    "        increment = i-QuarterEnd(1)\n",
    "        new_prescription_values.append(increment_1_df.loc[i]['Prescriptions'] - increment_1_df.loc[increment]['Prescriptions'])\n",
    "\n",
    "increment_1_df.drop(increment_1_df.index[0],axis=0,inplace=True)\n",
    "increment_1_df['Prescriptions'] = new_prescription_values\n",
    "\n",
    "layout = go.Layout(xaxis={'title': 'Year'}, yaxis={'title': 'Prescriptions'}, title={'text': 'Prescriptions Reimbursed Annually, 1991-2022'})\n",
    "fig = go.Figure(data=go.Scatter(x = list(increment_1_df.index), y = list(increment_1_df['Prescriptions']), mode='markers'),layout=layout)\n",
    "fig.update()\n",
    "fig.show()\n",
    "\n",
    "# analysis_dict = {}\n",
    "analysis_df_full = pd.DataFrame.empty\n",
    "\n",
    "\n",
    "decomposition = tsa.seasonal_decompose(increment_1_df, model='additive')\n",
    "\n",
    "analysis_dict={'trend':dict(decomposition.trend),'seasonal':dict(decomposition.seasonal),'residual':dict(decomposition.resid)}\n",
    "analysis_df_full = pd.DataFrame(analysis_dict)\n",
    "\n",
    "\n",
    "fig = make_subplots(rows=3, cols=1)\n",
    "fig.append_trace(go.Scatter(\n",
    "    name = 'Trend',\n",
    "    x = list(analysis_df_full.index),\n",
    "    y = list(analysis_df_full['trend']),\n",
    "), row=1, col=1)\n",
    "fig.append_trace(go.Scatter(\n",
    "    name = 'Seasonal',\n",
    "    x = list(analysis_df_full.index),\n",
    "    y = list(analysis_df_full['seasonal']),\n",
    "), row=2, col=1)\n",
    "fig.append_trace(go.Scatter(\n",
    "    name = 'Residuals',\n",
    "    x = list(analysis_df_full.index),\n",
    "    y = list(analysis_df_full['residual']),\n",
    "), row=3, col=1)\n",
    "fig.update_layout(height=600, width=800, title_text=f\"Prescription Stacked Subplots\")\n",
    "fig.show()"
   ]
  },
  {
   "cell_type": "code",
   "execution_count": null,
   "metadata": {},
   "outputs": [],
   "source": [
    "# differencing 2 quarters\n",
    "\n",
    "increment_2_df = summary_df.copy(deep=True)\n",
    "\n",
    "new_prescription_values = []\n",
    "\n",
    "for h, i in enumerate(increment_2_df.index):\n",
    "    if h < 2:\n",
    "        pass\n",
    "    else:\n",
    "        increment = i-QuarterEnd(2)\n",
    "        new_prescription_values.append(increment_2_df.loc[i]['Prescriptions'] - increment_2_df.loc[increment]['Prescriptions'])\n",
    "\n",
    "increment_2_df.drop(increment_2_df.index[0:2],axis=0,inplace=True)\n",
    "increment_2_df['Prescriptions'] = new_prescription_values\n",
    "\n",
    "layout = go.Layout(xaxis={'title': 'Year'}, yaxis={'title': 'Prescriptions'}, title={'text': 'Prescriptions Reimbursed Annually, 1991-2022'})\n",
    "fig = go.Figure(data=go.Scatter(x = list(increment_2_df.index), y = list(increment_2_df['Prescriptions']), mode='markers'),layout=layout)\n",
    "fig.update()\n",
    "fig.show()\n",
    "\n",
    "# analysis_dict = {}\n",
    "analysis_df_full = pd.DataFrame.empty\n",
    "\n",
    "\n",
    "decomposition = tsa.seasonal_decompose(increment_2_df, model='additive')\n",
    "\n",
    "analysis_dict={'trend':dict(decomposition.trend),'seasonal':dict(decomposition.seasonal),'residual':dict(decomposition.resid)}\n",
    "analysis_df_full = pd.DataFrame(analysis_dict)\n",
    "\n",
    "\n",
    "fig = make_subplots(rows=3, cols=1)\n",
    "fig.append_trace(go.Scatter(\n",
    "    name = 'Trend',\n",
    "    x = list(analysis_df_full.index),\n",
    "    y = list(analysis_df_full['trend']),\n",
    "), row=1, col=1)\n",
    "fig.append_trace(go.Scatter(\n",
    "    name = 'Seasonal',\n",
    "    x = list(analysis_df_full.index),\n",
    "    y = list(analysis_df_full['seasonal']),\n",
    "), row=2, col=1)\n",
    "fig.append_trace(go.Scatter(\n",
    "    name = 'Residuals',\n",
    "    x = list(analysis_df_full.index),\n",
    "    y = list(analysis_df_full['residual']),\n",
    "), row=3, col=1)\n",
    "fig.update_layout(height=600, width=800, title_text=f\"Prescription Stacked Subplots\")\n",
    "fig.show()"
   ]
  },
  {
   "cell_type": "code",
   "execution_count": null,
   "metadata": {},
   "outputs": [],
   "source": [
    "# differencing 3 quarters\n",
    "\n",
    "increment_3_df = summary_df.copy(deep=True)\n",
    "\n",
    "new_prescription_values = []\n",
    "\n",
    "for h, i in enumerate(increment_3_df.index):\n",
    "    if h < 3:\n",
    "        pass\n",
    "    else:\n",
    "        increment = i-QuarterEnd(2)\n",
    "        new_prescription_values.append(increment_3_df.loc[i]['Prescriptions'] - increment_3_df.loc[increment]['Prescriptions'])\n",
    "\n",
    "increment_3_df.drop(increment_3_df.index[0:3],axis=0,inplace=True)\n",
    "increment_3_df['Prescriptions'] = new_prescription_values\n",
    "\n",
    "layout = go.Layout(xaxis={'title': 'Year'}, yaxis={'title': 'Prescriptions'}, title={'text': 'Prescriptions Reimbursed Annually, 1991-2022'})\n",
    "fig = go.Figure(data=go.Scatter(x = list(increment_3_df.index), y = list(increment_3_df['Prescriptions']), mode='markers'),layout=layout)\n",
    "fig.update()\n",
    "fig.show()\n",
    "\n",
    "# analysis_dict = {}\n",
    "analysis_df_full = pd.DataFrame.empty\n",
    "\n",
    "\n",
    "decomposition = tsa.seasonal_decompose(increment_3_df, model='additive')\n",
    "\n",
    "analysis_dict={'trend':dict(decomposition.trend),'seasonal':dict(decomposition.seasonal),'residual':dict(decomposition.resid)}\n",
    "analysis_df_full = pd.DataFrame(analysis_dict)\n",
    "\n",
    "\n",
    "fig = make_subplots(rows=3, cols=1)\n",
    "fig.append_trace(go.Scatter(\n",
    "    name = 'Trend',\n",
    "    x = list(analysis_df_full.index),\n",
    "    y = list(analysis_df_full['trend']),\n",
    "), row=1, col=1)\n",
    "fig.append_trace(go.Scatter(\n",
    "    name = 'Seasonal',\n",
    "    x = list(analysis_df_full.index),\n",
    "    y = list(analysis_df_full['seasonal']),\n",
    "), row=2, col=1)\n",
    "fig.append_trace(go.Scatter(\n",
    "    name = 'Residuals',\n",
    "    x = list(analysis_df_full.index),\n",
    "    y = list(analysis_df_full['residual']),\n",
    "), row=3, col=1)\n",
    "fig.update_layout(height=600, width=800, title_text=f\"Prescription Stacked Subplots\")\n",
    "fig.show()"
   ]
  },
  {
   "cell_type": "code",
   "execution_count": null,
   "metadata": {},
   "outputs": [],
   "source": [
    "# differencing 4 quarters\n",
    "\n",
    "increment_4_df = summary_df.copy(deep=True)\n",
    "\n",
    "new_prescription_values = []\n",
    "\n",
    "for h, i in enumerate(increment_4_df.index):\n",
    "    if h < 4:\n",
    "        pass\n",
    "    else:\n",
    "        increment = i-QuarterEnd(2)\n",
    "        new_prescription_values.append(increment_4_df.loc[i]['Prescriptions'] - increment_4_df.loc[increment]['Prescriptions'])\n",
    "\n",
    "increment_4_df.drop(increment_4_df.index[0:4],axis=0,inplace=True)\n",
    "increment_4_df['Prescriptions'] = new_prescription_values\n",
    "\n",
    "layout = go.Layout(xaxis={'title': 'Year'}, yaxis={'title': 'Prescriptions'}, title={'text': 'Prescriptions Reimbursed Annually, 1991-2022'})\n",
    "fig = go.Figure(data=go.Scatter(x = list(increment_4_df.index), y = list(increment_4_df['Prescriptions']), mode='markers'),layout=layout)\n",
    "fig.update()\n",
    "fig.show()\n",
    "\n",
    "# analysis_dict = {}\n",
    "analysis_df_full = pd.DataFrame.empty\n",
    "\n",
    "\n",
    "decomposition = tsa.seasonal_decompose(increment_4_df, model='additive')\n",
    "\n",
    "analysis_dict={'trend':dict(decomposition.trend),'seasonal':dict(decomposition.seasonal),'residual':dict(decomposition.resid)}\n",
    "analysis_df_full = pd.DataFrame(analysis_dict)\n",
    "\n",
    "\n",
    "fig = make_subplots(rows=3, cols=1)\n",
    "fig.append_trace(go.Scatter(\n",
    "    name = 'Trend',\n",
    "    x = list(analysis_df_full.index),\n",
    "    y = list(analysis_df_full['trend']),\n",
    "), row=1, col=1)\n",
    "fig.append_trace(go.Scatter(\n",
    "    name = 'Seasonal',\n",
    "    x = list(analysis_df_full.index),\n",
    "    y = list(analysis_df_full['seasonal']),\n",
    "), row=2, col=1)\n",
    "fig.append_trace(go.Scatter(\n",
    "    name = 'Residuals',\n",
    "    x = list(analysis_df_full.index),\n",
    "    y = list(analysis_df_full['residual']),\n",
    "), row=3, col=1)\n",
    "fig.update_layout(height=600, width=800, title_text=f\"Prescription Stacked Subplots\")\n",
    "fig.show()"
   ]
  },
  {
   "cell_type": "code",
   "execution_count": null,
   "metadata": {},
   "outputs": [],
   "source": [
    "# autocorrelation function\n",
    "\n",
    "plt.figure(figsize=(15, 5))\n",
    "plot_acf(summary_df, lags=15, ax=plt.gca())\n",
    "plt.xlabel('Lag')\n",
    "plt.ylabel('AC')\n",
    "plt.show()"
   ]
  },
  {
   "cell_type": "code",
   "execution_count": null,
   "metadata": {},
   "outputs": [],
   "source": [
    "# partial autocorrelation function\n",
    "\n",
    "plt.figure(figsize=(15, 5))\n",
    "plot_pacf(summary_df, lags=15, ax=plt.gca(), method='ywm')\n",
    "plt.xlabel('Lag')\n",
    "plt.ylabel('Partial AC')\n",
    "plt.show()"
   ]
  },
  {
   "attachments": {},
   "cell_type": "markdown",
   "metadata": {},
   "source": [
    "It looks like differencing will be important. Let's get a baseline - just the mean - and calculate MAPE and SMAPE"
   ]
  },
  {
   "cell_type": "code",
   "execution_count": null,
   "metadata": {},
   "outputs": [],
   "source": [
    "def mean_absolute_percentage_error(true_values, predicted_values):\n",
    "    \"\"\"\n",
    "    Calculate the mean absolute percentage error. \n",
    "    Find the prediction error and divide by the true value, then average.\n",
    "    \"\"\"\n",
    "    \n",
    "    error = true_values - predicted_values\n",
    "    absolute_percentage_error = np.abs(error/true_values)\n",
    "    mape = round((absolute_percentage_error.mean() * 100),2)\n",
    "    \n",
    "    return mape\n",
    "\n",
    "def symmetric_mean_absolute_percentage_error(true_values, predicted_values):\n",
    "    numerator = abs(predicted_values-true_values)\n",
    "    denominator = abs(true_values)+abs(predicted_values)\n",
    "    division = numerator/denominator\n",
    "    summed_div = division.sum()\n",
    "    smape = round(((100/(len(true_values)))*summed_div),2)\n",
    "    return smape"
   ]
  },
  {
   "cell_type": "code",
   "execution_count": null,
   "metadata": {},
   "outputs": [],
   "source": [
    "print(f\"The mean quarterly number of prescriptions for all available data is {round(summary_df['Prescriptions'].mean(),0)}, plotted as a red line below.\")\n",
    "\n",
    "layout = go.Layout(xaxis={'title': 'Year'}, yaxis={'title': 'Prescriptions'}, title={'text': 'Prescriptions Reimbursed Quarterly, 1991-2022'})\n",
    "fig = go.Figure(data=go.Scatter(x = list(summary_df.index), y = list(summary_df['Prescriptions']), mode='markers'),layout=layout)\n",
    "fig.add_hline(y=summary_df['Prescriptions'].mean(), line_color='red')\n",
    "fig.show()\n",
    "\n",
    "mean_prescriptions = pd.DataFrame.from_dict({i: 136620699 for i in summary_df.index}, orient='index', columns=['Prescriptions'])\n",
    "\n",
    "print(f\"Using mean prescriptions, the MAPE is {mean_absolute_percentage_error(summary_df['Prescriptions'],mean_prescriptions['Prescriptions'])}%;\\\n",
    " the SMAPE is {symmetric_mean_absolute_percentage_error(summary_df['Prescriptions'],mean_prescriptions['Prescriptions'])}%.\")"
   ]
  },
  {
   "cell_type": "code",
   "execution_count": null,
   "metadata": {},
   "outputs": [],
   "source": [
    "# finding parameters\n",
    "\n",
    "cutoff = '2020-12-31'\n",
    "cutoff = pd.to_datetime(cutoff)\n",
    "\n",
    "train_dict = {}\n",
    "test_dict = {}\n",
    "run_num = 0\n",
    "\n",
    "for p in range(0,11):\n",
    "    for d in range(0,11):\n",
    "        for q in range(0,11):\n",
    "            print(f\"Running series p {p}, d {d}, q {q}\",end=\"\\r\")\n",
    "            try:\n",
    "                predict_df = summary_df.copy(deep=True)\n",
    "                # predict_df.set_index('date',inplace=True)\n",
    "                predict_df.index = pd.to_datetime(predict_df.index)\n",
    "                first_day = predict_df.index.min()\n",
    "                last_day = predict_df.index.max()\n",
    "                full_range = pd.date_range(start=first_day, end=last_day, freq=\"Q\")\n",
    "                # predict_df = predict_df.reindex(full_range)\n",
    "                predict_df.fillna(method='ffill',inplace=True)\n",
    "\n",
    "                train = predict_df.loc[predict_df.index <= cutoff].dropna()\n",
    "                test = predict_df.loc[predict_df.index > cutoff]\n",
    "\n",
    "                model = SARIMAX(train, order=(p, d, q), trend=\"c\")\n",
    "                model_fit = model.fit(disp=0)\n",
    "\n",
    "                # model_fit.summary()\n",
    "\n",
    "                predictions = model_fit.predict(start=0, end=len(train)+len(test)-1)\n",
    "                \n",
    "                train_smape = symmetric_mean_absolute_percentage_error(pd.Series(list(train['Prescriptions'])), pd.Series(list(predictions[train.index])))\n",
    "                test_smape = symmetric_mean_absolute_percentage_error(pd.Series(list(test['Prescriptions'])), pd.Series(list(predictions[test.index])))\n",
    "\n",
    "                train_dict[run_num] = {'p':p,'d':d,'q':q,'val':train_smape}\n",
    "                test_dict[run_num] = {'p':p,'d':d,'q':q,'val':test_smape}\n",
    "                run_num+=1\n",
    "            except:\n",
    "                pass\n",
    "\n",
    "\n",
    "train_vals_df = (pd.DataFrame(train_dict).T)\n",
    "test_vals_df = (pd.DataFrame(test_dict).T)\n",
    "px.scatter_3d(train_vals_df, x='p',y='d',z='q',color='val',range_color=[6,9]).show()"
   ]
  },
  {
   "cell_type": "code",
   "execution_count": null,
   "metadata": {},
   "outputs": [],
   "source": [
    "# RUN select hyperparameters\n",
    "combined_dict = {}\n",
    "for i in train_vals_df.index: # make a list of places where they overlap then plot\n",
    "    if 0 < train_vals_df.loc[i,'val'] < 100 and 0 < test_vals_df.loc[i,'val'] < 100:\n",
    "        combined_dict[i] = {'p':train_vals_df.loc[i,'p'],\n",
    "                            'd':train_vals_df.loc[i,'d'],\n",
    "                            'q':train_vals_df.loc[i,'q'],\n",
    "                            'val':(train_vals_df.loc[i,'val']+test_vals_df.loc[i,'val'])/2}\n",
    "combined_df = pd.DataFrame(combined_dict).T\n",
    "for i in combined_df.index:\n",
    "    if combined_df.loc[i,'val'] > combined_df['val'].mean():\n",
    "        combined_df.drop(index=i,inplace=True)\n",
    "high_threshold = combined_df.describe()['val'][4]\n",
    "low_threshold = combined_df.describe()['val'][3]\n",
    "\n",
    "px.scatter_3d(combined_df, x='p',y='d',z='q',color='val',range_color=[low_threshold,high_threshold]).show()\n",
    "\n",
    "display(combined_df.sort_values('val'))"
   ]
  },
  {
   "cell_type": "code",
   "execution_count": null,
   "metadata": {},
   "outputs": [],
   "source": [
    "p, d, q = 10, 1, 6\n",
    "\n",
    "predict_df = summary_df.copy(deep=True)\n",
    "predict_df.index = pd.to_datetime(predict_df.index)\n",
    "first_day = predict_df.index.min()\n",
    "last_day = predict_df.index.max()\n",
    "full_range = pd.date_range(start=first_day, end=last_day, freq=\"Q\")\n",
    "predict_df.fillna(method='ffill',inplace=True)\n",
    "\n",
    "train = predict_df.loc[predict_df.index <= cutoff].dropna()\n",
    "test = predict_df.loc[predict_df.index > cutoff]\n",
    "\n",
    "model = SARIMAX(train, order=(p, d, q), trend=\"c\")\n",
    "model_fit = model.fit(disp=0)\n",
    "\n",
    "\n",
    "predictions = model_fit.predict(start=0, end=len(train)+len(test)-1)\n",
    "\n",
    "train_smape = mean_absolute_percentage_error(pd.Series(list(train['Prescriptions'])), pd.Series(list(predictions[train.index])))\n",
    "test_smape = mean_absolute_percentage_error(pd.Series(list(test['Prescriptions'])), pd.Series(list(predictions[test.index])))\n",
    "\n",
    "display(model_fit.summary())\n",
    "\n",
    "fig = go.Figure()\n",
    "fig.add_trace(go.Scatter(x=list(train.index), y = train['Prescriptions'], name = 'Train'))\n",
    "fig.add_trace(go.Scatter(x=list(test.index), y = test['Prescriptions'], name = 'Test'))\n",
    "fig.add_trace(go.Scatter(x=list(predictions.index), y = predictions, name = 'Fit'))\n",
    "fig.update_layout(title=f\"Prescriptions Annually<Br>p = {p}, d = {d}, q = {q},\")\n",
    "fig.update_xaxes(rangeslider_visible=True)\n",
    "fig.update_layout(xaxis_title = 'Year', yaxis_title='Prescriptions')\n",
    "fig.show()\n",
    "\n",
    "print(f\"The train SMAPE is {train_smape}% and the test SMAPE is {test_smape}% with the parameters p = {p}, d = {d}, q = {q}.\")"
   ]
  },
  {
   "cell_type": "code",
   "execution_count": 464,
   "metadata": {},
   "outputs": [
    {
     "data": {
      "application/vnd.plotly.v1+json": {
       "config": {
        "plotlyServerURL": "https://plot.ly"
       },
       "data": [
        {
         "name": "Train",
         "type": "scatter",
         "x": [
          "1991-03-31T00:00:00",
          "1991-06-30T00:00:00",
          "1991-09-30T00:00:00",
          "1991-12-31T00:00:00",
          "1992-03-31T00:00:00",
          "1992-06-30T00:00:00",
          "1992-09-30T00:00:00",
          "1992-12-31T00:00:00",
          "1993-03-31T00:00:00",
          "1993-06-30T00:00:00",
          "1993-09-30T00:00:00",
          "1993-12-31T00:00:00",
          "1994-03-31T00:00:00",
          "1994-06-30T00:00:00",
          "1994-09-30T00:00:00",
          "1994-12-31T00:00:00",
          "1995-03-31T00:00:00",
          "1995-06-30T00:00:00",
          "1995-09-30T00:00:00",
          "1995-12-31T00:00:00",
          "1996-03-31T00:00:00",
          "1996-06-30T00:00:00",
          "1996-09-30T00:00:00",
          "1996-12-31T00:00:00",
          "1997-03-31T00:00:00",
          "1997-06-30T00:00:00",
          "1997-09-30T00:00:00",
          "1997-12-31T00:00:00",
          "1998-03-31T00:00:00",
          "1998-06-30T00:00:00",
          "1998-09-30T00:00:00",
          "1998-12-31T00:00:00",
          "1999-03-31T00:00:00",
          "1999-06-30T00:00:00",
          "1999-09-30T00:00:00",
          "1999-12-31T00:00:00",
          "2000-03-31T00:00:00",
          "2000-06-30T00:00:00",
          "2000-09-30T00:00:00",
          "2000-12-31T00:00:00",
          "2001-03-31T00:00:00",
          "2001-06-30T00:00:00",
          "2001-09-30T00:00:00",
          "2001-12-31T00:00:00",
          "2002-03-31T00:00:00",
          "2002-06-30T00:00:00",
          "2002-09-30T00:00:00",
          "2002-12-31T00:00:00",
          "2003-03-31T00:00:00",
          "2003-06-30T00:00:00",
          "2003-09-30T00:00:00",
          "2003-12-31T00:00:00",
          "2004-03-31T00:00:00",
          "2004-06-30T00:00:00",
          "2004-09-30T00:00:00",
          "2004-12-31T00:00:00",
          "2005-03-31T00:00:00",
          "2005-06-30T00:00:00",
          "2005-09-30T00:00:00",
          "2005-12-31T00:00:00",
          "2006-03-31T00:00:00",
          "2006-06-30T00:00:00",
          "2006-09-30T00:00:00",
          "2006-12-31T00:00:00",
          "2007-03-31T00:00:00",
          "2007-06-30T00:00:00",
          "2007-09-30T00:00:00",
          "2007-12-31T00:00:00",
          "2008-03-31T00:00:00",
          "2008-06-30T00:00:00",
          "2008-09-30T00:00:00",
          "2008-12-31T00:00:00",
          "2009-03-31T00:00:00",
          "2009-06-30T00:00:00",
          "2009-09-30T00:00:00",
          "2009-12-31T00:00:00",
          "2010-03-31T00:00:00",
          "2010-06-30T00:00:00",
          "2010-09-30T00:00:00",
          "2010-12-31T00:00:00",
          "2011-03-31T00:00:00",
          "2011-06-30T00:00:00",
          "2011-09-30T00:00:00",
          "2011-12-31T00:00:00",
          "2012-03-31T00:00:00",
          "2012-06-30T00:00:00",
          "2012-09-30T00:00:00",
          "2012-12-31T00:00:00",
          "2013-03-31T00:00:00",
          "2013-06-30T00:00:00",
          "2013-09-30T00:00:00",
          "2013-12-31T00:00:00",
          "2014-03-31T00:00:00",
          "2014-06-30T00:00:00",
          "2014-09-30T00:00:00",
          "2014-12-31T00:00:00",
          "2015-03-31T00:00:00",
          "2015-06-30T00:00:00",
          "2015-09-30T00:00:00",
          "2015-12-31T00:00:00",
          "2016-03-31T00:00:00",
          "2016-06-30T00:00:00",
          "2016-09-30T00:00:00",
          "2016-12-31T00:00:00",
          "2017-03-31T00:00:00",
          "2017-06-30T00:00:00",
          "2017-09-30T00:00:00",
          "2017-12-31T00:00:00",
          "2018-03-31T00:00:00",
          "2018-06-30T00:00:00",
          "2018-09-30T00:00:00",
          "2018-12-31T00:00:00",
          "2019-03-31T00:00:00",
          "2019-06-30T00:00:00",
          "2019-09-30T00:00:00",
          "2019-12-31T00:00:00",
          "2020-03-31T00:00:00",
          "2020-06-30T00:00:00",
          "2020-09-30T00:00:00",
          "2020-12-31T00:00:00"
         ],
         "y": [
          38188343,
          55827567,
          64032730,
          70450273,
          78274945,
          74338168,
          70892175,
          81257483,
          89665709,
          82504655,
          85363858,
          89062315,
          93217320,
          84790529,
          78747651,
          83474993,
          81168886,
          83399206,
          117043149,
          116369783,
          117147316,
          107886467,
          106288468,
          108374335,
          106004394,
          101835009,
          99471858,
          100578255,
          112934116,
          112522128,
          107778249,
          114737783,
          116168655,
          110516949,
          105704679,
          116442528,
          111502113,
          111490894,
          114495185,
          120937480,
          126588457,
          124570536,
          122617622,
          125322240,
          127116379,
          128838464,
          131788062,
          136676615,
          136254996,
          140012600,
          143400920,
          150588266,
          147507792,
          153577383,
          137337933,
          157314034,
          155791169,
          155862232,
          156144705,
          165748234,
          96099097,
          91090872,
          80535517,
          87704967,
          87747247,
          83417084,
          81620224,
          80542629,
          86508832,
          92227286,
          81488800,
          88438829,
          88972257,
          105357102,
          93676444,
          95927814,
          105218948,
          140542001,
          146795640,
          158447436,
          162127532,
          158911736,
          138654421,
          154760694,
          159280459,
          158660817,
          161426596,
          158527010,
          157304950,
          153554464,
          146504083,
          149325815,
          150188306,
          166503516,
          168298772,
          173660448,
          172038137,
          180667794,
          179725050,
          185029278,
          196544890,
          186883808,
          183266041,
          202477399,
          200240407,
          204761614,
          186054344,
          198710924,
          214846197,
          210888987,
          200006116,
          206331768,
          212553427,
          205091468,
          204424117,
          207425516,
          209635114,
          176710736,
          200795598,
          209231713
         ]
        },
        {
         "name": "Test",
         "type": "scatter",
         "x": [
          "2021-03-31T00:00:00",
          "2021-06-30T00:00:00",
          "2021-09-30T00:00:00",
          "2021-12-31T00:00:00",
          "2022-03-31T00:00:00",
          "2022-06-30T00:00:00"
         ],
         "y": [
          215519163,
          224633377,
          230760979,
          233660453,
          227457638,
          213842131
         ]
        },
        {
         "name": "Averaged Fit",
         "type": "scatter",
         "x": [
          "1991-03-31T00:00:00",
          "1991-06-30T00:00:00",
          "1991-09-30T00:00:00",
          "1991-12-31T00:00:00",
          "1992-03-31T00:00:00",
          "1992-06-30T00:00:00",
          "1992-09-30T00:00:00",
          "1992-12-31T00:00:00",
          "1993-03-31T00:00:00",
          "1993-06-30T00:00:00",
          "1993-09-30T00:00:00",
          "1993-12-31T00:00:00",
          "1994-03-31T00:00:00",
          "1994-06-30T00:00:00",
          "1994-09-30T00:00:00",
          "1994-12-31T00:00:00",
          "1995-03-31T00:00:00",
          "1995-06-30T00:00:00",
          "1995-09-30T00:00:00",
          "1995-12-31T00:00:00",
          "1996-03-31T00:00:00",
          "1996-06-30T00:00:00",
          "1996-09-30T00:00:00",
          "1996-12-31T00:00:00",
          "1997-03-31T00:00:00",
          "1997-06-30T00:00:00",
          "1997-09-30T00:00:00",
          "1997-12-31T00:00:00",
          "1998-03-31T00:00:00",
          "1998-06-30T00:00:00",
          "1998-09-30T00:00:00",
          "1998-12-31T00:00:00",
          "1999-03-31T00:00:00",
          "1999-06-30T00:00:00",
          "1999-09-30T00:00:00",
          "1999-12-31T00:00:00",
          "2000-03-31T00:00:00",
          "2000-06-30T00:00:00",
          "2000-09-30T00:00:00",
          "2000-12-31T00:00:00",
          "2001-03-31T00:00:00",
          "2001-06-30T00:00:00",
          "2001-09-30T00:00:00",
          "2001-12-31T00:00:00",
          "2002-03-31T00:00:00",
          "2002-06-30T00:00:00",
          "2002-09-30T00:00:00",
          "2002-12-31T00:00:00",
          "2003-03-31T00:00:00",
          "2003-06-30T00:00:00",
          "2003-09-30T00:00:00",
          "2003-12-31T00:00:00",
          "2004-03-31T00:00:00",
          "2004-06-30T00:00:00",
          "2004-09-30T00:00:00",
          "2004-12-31T00:00:00",
          "2005-03-31T00:00:00",
          "2005-06-30T00:00:00",
          "2005-09-30T00:00:00",
          "2005-12-31T00:00:00",
          "2006-03-31T00:00:00",
          "2006-06-30T00:00:00",
          "2006-09-30T00:00:00",
          "2006-12-31T00:00:00",
          "2007-03-31T00:00:00",
          "2007-06-30T00:00:00",
          "2007-09-30T00:00:00",
          "2007-12-31T00:00:00",
          "2008-03-31T00:00:00",
          "2008-06-30T00:00:00",
          "2008-09-30T00:00:00",
          "2008-12-31T00:00:00",
          "2009-03-31T00:00:00",
          "2009-06-30T00:00:00",
          "2009-09-30T00:00:00",
          "2009-12-31T00:00:00",
          "2010-03-31T00:00:00",
          "2010-06-30T00:00:00",
          "2010-09-30T00:00:00",
          "2010-12-31T00:00:00",
          "2011-03-31T00:00:00",
          "2011-06-30T00:00:00",
          "2011-09-30T00:00:00",
          "2011-12-31T00:00:00",
          "2012-03-31T00:00:00",
          "2012-06-30T00:00:00",
          "2012-09-30T00:00:00",
          "2012-12-31T00:00:00",
          "2013-03-31T00:00:00",
          "2013-06-30T00:00:00",
          "2013-09-30T00:00:00",
          "2013-12-31T00:00:00",
          "2014-03-31T00:00:00",
          "2014-06-30T00:00:00",
          "2014-09-30T00:00:00",
          "2014-12-31T00:00:00",
          "2015-03-31T00:00:00",
          "2015-06-30T00:00:00",
          "2015-09-30T00:00:00",
          "2015-12-31T00:00:00",
          "2016-03-31T00:00:00",
          "2016-06-30T00:00:00",
          "2016-09-30T00:00:00",
          "2016-12-31T00:00:00",
          "2017-03-31T00:00:00",
          "2017-06-30T00:00:00",
          "2017-09-30T00:00:00",
          "2017-12-31T00:00:00",
          "2018-03-31T00:00:00",
          "2018-06-30T00:00:00",
          "2018-09-30T00:00:00",
          "2018-12-31T00:00:00",
          "2019-03-31T00:00:00",
          "2019-06-30T00:00:00",
          "2019-09-30T00:00:00",
          "2019-12-31T00:00:00",
          "2020-03-31T00:00:00",
          "2020-06-30T00:00:00",
          "2020-09-30T00:00:00",
          "2020-12-31T00:00:00",
          "2021-03-31T00:00:00",
          "2021-06-30T00:00:00",
          "2021-09-30T00:00:00",
          "2021-12-31T00:00:00",
          "2022-03-31T00:00:00",
          "2022-06-30T00:00:00"
         ],
         "y": [
          1141555.1918126622,
          49316544.587845825,
          66829968.04325614,
          68702059.36872737,
          79712149.54448195,
          80292808.92144318,
          78381975.60443003,
          74465634.59652585,
          87167748.08612116,
          89074644.62016459,
          82984000.07183668,
          88789014.30658032,
          90825581.48295951,
          91324912.34318872,
          85321040.10842969,
          80008645.02086379,
          84050257.28218898,
          78763722.86378758,
          85120501.36003397,
          119211860.08799,
          117879627.46410668,
          115999054.79429597,
          112651134.49981345,
          106415718.53517283,
          112839689.33894628,
          107975599.20037138,
          105710991.5838996,
          99840124.90712214,
          103237608.15989749,
          114968941.7999895,
          115124921.08200456,
          108373128.56065743,
          115808119.7741038,
          116767710.83011933,
          112253223.3981738,
          108046114.99067843,
          116436744.75928698,
          110862736.69257756,
          113717030.4260658,
          117915617.37330349,
          119247335.42489044,
          127611223.44455238,
          127266976.15048945,
          126127795.2621017,
          124477529.10684836,
          129082195.76176734,
          133147315.42364198,
          134958238.86778262,
          137518159.71565342,
          137313178.34581602,
          144432503.09620264,
          146946797.65427268,
          151294888.43486562,
          149091296.86815223,
          155885843.62740862,
          142624772.80583563,
          155844764.59010664,
          159140644.40236685,
          155604836.51907796,
          163698667.34260067,
          162304783.62303838,
          98416987.97525632,
          91278916.1430793,
          89724089.24179383,
          81887462.49743414,
          96218971.44843614,
          81220284.47360192,
          85529825.97885036,
          76194992.72473365,
          94240870.02927952,
          95485429.5951968,
          82709381.5916421,
          89498210.26719566,
          93562790.26410015,
          110844031.06714211,
          97763040.4122984,
          96137872.29158492,
          110438287.70423596,
          140546291.03502253,
          157571695.65033403,
          154589486.72014764,
          166145548.44744352,
          155653324.56282577,
          147664561.45301327,
          155557133.7953875,
          159087544.84801814,
          159126788.52310088,
          165458996.61163214,
          158873775.3544301,
          155482741.16092566,
          154836629.22361755,
          151897820.052986,
          148436019.8160319,
          151668152.68061528,
          166867631.36063427,
          176438080.89764273,
          174013917.13113442,
          172986786.6376296,
          182572467.66814625,
          188409217.02523276,
          189603133.44332352,
          197483536.37657246,
          187916122.25402978,
          190997258.8690915,
          208142445.60277054,
          200393189.7707812,
          204143846.3608315,
          193195327.77732208,
          199941938.2812893,
          216506503.34598097,
          208558715.15391573,
          207024244.61490166,
          205329045.35498643,
          211915279.90888473,
          205553759.33529016,
          211091524.00965416,
          208546703.44159615,
          206121445.2801646,
          181359646.6266315,
          205511803.34016702,
          214535501.1391523,
          209958242.05893934,
          218264818.13511422,
          220528116.16393778,
          224401149.00436115,
          223904750.05712894
         ]
        }
       ],
       "layout": {
        "template": {
         "data": {
          "bar": [
           {
            "error_x": {
             "color": "#2a3f5f"
            },
            "error_y": {
             "color": "#2a3f5f"
            },
            "marker": {
             "line": {
              "color": "#E5ECF6",
              "width": 0.5
             },
             "pattern": {
              "fillmode": "overlay",
              "size": 10,
              "solidity": 0.2
             }
            },
            "type": "bar"
           }
          ],
          "barpolar": [
           {
            "marker": {
             "line": {
              "color": "#E5ECF6",
              "width": 0.5
             },
             "pattern": {
              "fillmode": "overlay",
              "size": 10,
              "solidity": 0.2
             }
            },
            "type": "barpolar"
           }
          ],
          "carpet": [
           {
            "aaxis": {
             "endlinecolor": "#2a3f5f",
             "gridcolor": "white",
             "linecolor": "white",
             "minorgridcolor": "white",
             "startlinecolor": "#2a3f5f"
            },
            "baxis": {
             "endlinecolor": "#2a3f5f",
             "gridcolor": "white",
             "linecolor": "white",
             "minorgridcolor": "white",
             "startlinecolor": "#2a3f5f"
            },
            "type": "carpet"
           }
          ],
          "choropleth": [
           {
            "colorbar": {
             "outlinewidth": 0,
             "ticks": ""
            },
            "type": "choropleth"
           }
          ],
          "contour": [
           {
            "colorbar": {
             "outlinewidth": 0,
             "ticks": ""
            },
            "colorscale": [
             [
              0,
              "#0d0887"
             ],
             [
              0.1111111111111111,
              "#46039f"
             ],
             [
              0.2222222222222222,
              "#7201a8"
             ],
             [
              0.3333333333333333,
              "#9c179e"
             ],
             [
              0.4444444444444444,
              "#bd3786"
             ],
             [
              0.5555555555555556,
              "#d8576b"
             ],
             [
              0.6666666666666666,
              "#ed7953"
             ],
             [
              0.7777777777777778,
              "#fb9f3a"
             ],
             [
              0.8888888888888888,
              "#fdca26"
             ],
             [
              1,
              "#f0f921"
             ]
            ],
            "type": "contour"
           }
          ],
          "contourcarpet": [
           {
            "colorbar": {
             "outlinewidth": 0,
             "ticks": ""
            },
            "type": "contourcarpet"
           }
          ],
          "heatmap": [
           {
            "colorbar": {
             "outlinewidth": 0,
             "ticks": ""
            },
            "colorscale": [
             [
              0,
              "#0d0887"
             ],
             [
              0.1111111111111111,
              "#46039f"
             ],
             [
              0.2222222222222222,
              "#7201a8"
             ],
             [
              0.3333333333333333,
              "#9c179e"
             ],
             [
              0.4444444444444444,
              "#bd3786"
             ],
             [
              0.5555555555555556,
              "#d8576b"
             ],
             [
              0.6666666666666666,
              "#ed7953"
             ],
             [
              0.7777777777777778,
              "#fb9f3a"
             ],
             [
              0.8888888888888888,
              "#fdca26"
             ],
             [
              1,
              "#f0f921"
             ]
            ],
            "type": "heatmap"
           }
          ],
          "heatmapgl": [
           {
            "colorbar": {
             "outlinewidth": 0,
             "ticks": ""
            },
            "colorscale": [
             [
              0,
              "#0d0887"
             ],
             [
              0.1111111111111111,
              "#46039f"
             ],
             [
              0.2222222222222222,
              "#7201a8"
             ],
             [
              0.3333333333333333,
              "#9c179e"
             ],
             [
              0.4444444444444444,
              "#bd3786"
             ],
             [
              0.5555555555555556,
              "#d8576b"
             ],
             [
              0.6666666666666666,
              "#ed7953"
             ],
             [
              0.7777777777777778,
              "#fb9f3a"
             ],
             [
              0.8888888888888888,
              "#fdca26"
             ],
             [
              1,
              "#f0f921"
             ]
            ],
            "type": "heatmapgl"
           }
          ],
          "histogram": [
           {
            "marker": {
             "pattern": {
              "fillmode": "overlay",
              "size": 10,
              "solidity": 0.2
             }
            },
            "type": "histogram"
           }
          ],
          "histogram2d": [
           {
            "colorbar": {
             "outlinewidth": 0,
             "ticks": ""
            },
            "colorscale": [
             [
              0,
              "#0d0887"
             ],
             [
              0.1111111111111111,
              "#46039f"
             ],
             [
              0.2222222222222222,
              "#7201a8"
             ],
             [
              0.3333333333333333,
              "#9c179e"
             ],
             [
              0.4444444444444444,
              "#bd3786"
             ],
             [
              0.5555555555555556,
              "#d8576b"
             ],
             [
              0.6666666666666666,
              "#ed7953"
             ],
             [
              0.7777777777777778,
              "#fb9f3a"
             ],
             [
              0.8888888888888888,
              "#fdca26"
             ],
             [
              1,
              "#f0f921"
             ]
            ],
            "type": "histogram2d"
           }
          ],
          "histogram2dcontour": [
           {
            "colorbar": {
             "outlinewidth": 0,
             "ticks": ""
            },
            "colorscale": [
             [
              0,
              "#0d0887"
             ],
             [
              0.1111111111111111,
              "#46039f"
             ],
             [
              0.2222222222222222,
              "#7201a8"
             ],
             [
              0.3333333333333333,
              "#9c179e"
             ],
             [
              0.4444444444444444,
              "#bd3786"
             ],
             [
              0.5555555555555556,
              "#d8576b"
             ],
             [
              0.6666666666666666,
              "#ed7953"
             ],
             [
              0.7777777777777778,
              "#fb9f3a"
             ],
             [
              0.8888888888888888,
              "#fdca26"
             ],
             [
              1,
              "#f0f921"
             ]
            ],
            "type": "histogram2dcontour"
           }
          ],
          "mesh3d": [
           {
            "colorbar": {
             "outlinewidth": 0,
             "ticks": ""
            },
            "type": "mesh3d"
           }
          ],
          "parcoords": [
           {
            "line": {
             "colorbar": {
              "outlinewidth": 0,
              "ticks": ""
             }
            },
            "type": "parcoords"
           }
          ],
          "pie": [
           {
            "automargin": true,
            "type": "pie"
           }
          ],
          "scatter": [
           {
            "fillpattern": {
             "fillmode": "overlay",
             "size": 10,
             "solidity": 0.2
            },
            "type": "scatter"
           }
          ],
          "scatter3d": [
           {
            "line": {
             "colorbar": {
              "outlinewidth": 0,
              "ticks": ""
             }
            },
            "marker": {
             "colorbar": {
              "outlinewidth": 0,
              "ticks": ""
             }
            },
            "type": "scatter3d"
           }
          ],
          "scattercarpet": [
           {
            "marker": {
             "colorbar": {
              "outlinewidth": 0,
              "ticks": ""
             }
            },
            "type": "scattercarpet"
           }
          ],
          "scattergeo": [
           {
            "marker": {
             "colorbar": {
              "outlinewidth": 0,
              "ticks": ""
             }
            },
            "type": "scattergeo"
           }
          ],
          "scattergl": [
           {
            "marker": {
             "colorbar": {
              "outlinewidth": 0,
              "ticks": ""
             }
            },
            "type": "scattergl"
           }
          ],
          "scattermapbox": [
           {
            "marker": {
             "colorbar": {
              "outlinewidth": 0,
              "ticks": ""
             }
            },
            "type": "scattermapbox"
           }
          ],
          "scatterpolar": [
           {
            "marker": {
             "colorbar": {
              "outlinewidth": 0,
              "ticks": ""
             }
            },
            "type": "scatterpolar"
           }
          ],
          "scatterpolargl": [
           {
            "marker": {
             "colorbar": {
              "outlinewidth": 0,
              "ticks": ""
             }
            },
            "type": "scatterpolargl"
           }
          ],
          "scatterternary": [
           {
            "marker": {
             "colorbar": {
              "outlinewidth": 0,
              "ticks": ""
             }
            },
            "type": "scatterternary"
           }
          ],
          "surface": [
           {
            "colorbar": {
             "outlinewidth": 0,
             "ticks": ""
            },
            "colorscale": [
             [
              0,
              "#0d0887"
             ],
             [
              0.1111111111111111,
              "#46039f"
             ],
             [
              0.2222222222222222,
              "#7201a8"
             ],
             [
              0.3333333333333333,
              "#9c179e"
             ],
             [
              0.4444444444444444,
              "#bd3786"
             ],
             [
              0.5555555555555556,
              "#d8576b"
             ],
             [
              0.6666666666666666,
              "#ed7953"
             ],
             [
              0.7777777777777778,
              "#fb9f3a"
             ],
             [
              0.8888888888888888,
              "#fdca26"
             ],
             [
              1,
              "#f0f921"
             ]
            ],
            "type": "surface"
           }
          ],
          "table": [
           {
            "cells": {
             "fill": {
              "color": "#EBF0F8"
             },
             "line": {
              "color": "white"
             }
            },
            "header": {
             "fill": {
              "color": "#C8D4E3"
             },
             "line": {
              "color": "white"
             }
            },
            "type": "table"
           }
          ]
         },
         "layout": {
          "annotationdefaults": {
           "arrowcolor": "#2a3f5f",
           "arrowhead": 0,
           "arrowwidth": 1
          },
          "autotypenumbers": "strict",
          "coloraxis": {
           "colorbar": {
            "outlinewidth": 0,
            "ticks": ""
           }
          },
          "colorscale": {
           "diverging": [
            [
             0,
             "#8e0152"
            ],
            [
             0.1,
             "#c51b7d"
            ],
            [
             0.2,
             "#de77ae"
            ],
            [
             0.3,
             "#f1b6da"
            ],
            [
             0.4,
             "#fde0ef"
            ],
            [
             0.5,
             "#f7f7f7"
            ],
            [
             0.6,
             "#e6f5d0"
            ],
            [
             0.7,
             "#b8e186"
            ],
            [
             0.8,
             "#7fbc41"
            ],
            [
             0.9,
             "#4d9221"
            ],
            [
             1,
             "#276419"
            ]
           ],
           "sequential": [
            [
             0,
             "#0d0887"
            ],
            [
             0.1111111111111111,
             "#46039f"
            ],
            [
             0.2222222222222222,
             "#7201a8"
            ],
            [
             0.3333333333333333,
             "#9c179e"
            ],
            [
             0.4444444444444444,
             "#bd3786"
            ],
            [
             0.5555555555555556,
             "#d8576b"
            ],
            [
             0.6666666666666666,
             "#ed7953"
            ],
            [
             0.7777777777777778,
             "#fb9f3a"
            ],
            [
             0.8888888888888888,
             "#fdca26"
            ],
            [
             1,
             "#f0f921"
            ]
           ],
           "sequentialminus": [
            [
             0,
             "#0d0887"
            ],
            [
             0.1111111111111111,
             "#46039f"
            ],
            [
             0.2222222222222222,
             "#7201a8"
            ],
            [
             0.3333333333333333,
             "#9c179e"
            ],
            [
             0.4444444444444444,
             "#bd3786"
            ],
            [
             0.5555555555555556,
             "#d8576b"
            ],
            [
             0.6666666666666666,
             "#ed7953"
            ],
            [
             0.7777777777777778,
             "#fb9f3a"
            ],
            [
             0.8888888888888888,
             "#fdca26"
            ],
            [
             1,
             "#f0f921"
            ]
           ]
          },
          "colorway": [
           "#636efa",
           "#EF553B",
           "#00cc96",
           "#ab63fa",
           "#FFA15A",
           "#19d3f3",
           "#FF6692",
           "#B6E880",
           "#FF97FF",
           "#FECB52"
          ],
          "font": {
           "color": "#2a3f5f"
          },
          "geo": {
           "bgcolor": "white",
           "lakecolor": "white",
           "landcolor": "#E5ECF6",
           "showlakes": true,
           "showland": true,
           "subunitcolor": "white"
          },
          "hoverlabel": {
           "align": "left"
          },
          "hovermode": "closest",
          "mapbox": {
           "style": "light"
          },
          "paper_bgcolor": "white",
          "plot_bgcolor": "#E5ECF6",
          "polar": {
           "angularaxis": {
            "gridcolor": "white",
            "linecolor": "white",
            "ticks": ""
           },
           "bgcolor": "#E5ECF6",
           "radialaxis": {
            "gridcolor": "white",
            "linecolor": "white",
            "ticks": ""
           }
          },
          "scene": {
           "xaxis": {
            "backgroundcolor": "#E5ECF6",
            "gridcolor": "white",
            "gridwidth": 2,
            "linecolor": "white",
            "showbackground": true,
            "ticks": "",
            "zerolinecolor": "white"
           },
           "yaxis": {
            "backgroundcolor": "#E5ECF6",
            "gridcolor": "white",
            "gridwidth": 2,
            "linecolor": "white",
            "showbackground": true,
            "ticks": "",
            "zerolinecolor": "white"
           },
           "zaxis": {
            "backgroundcolor": "#E5ECF6",
            "gridcolor": "white",
            "gridwidth": 2,
            "linecolor": "white",
            "showbackground": true,
            "ticks": "",
            "zerolinecolor": "white"
           }
          },
          "shapedefaults": {
           "line": {
            "color": "#2a3f5f"
           }
          },
          "ternary": {
           "aaxis": {
            "gridcolor": "white",
            "linecolor": "white",
            "ticks": ""
           },
           "baxis": {
            "gridcolor": "white",
            "linecolor": "white",
            "ticks": ""
           },
           "bgcolor": "#E5ECF6",
           "caxis": {
            "gridcolor": "white",
            "linecolor": "white",
            "ticks": ""
           }
          },
          "title": {
           "x": 0.05
          },
          "xaxis": {
           "automargin": true,
           "gridcolor": "white",
           "linecolor": "white",
           "ticks": "",
           "title": {
            "standoff": 15
           },
           "zerolinecolor": "white",
           "zerolinewidth": 2
          },
          "yaxis": {
           "automargin": true,
           "gridcolor": "white",
           "linecolor": "white",
           "ticks": "",
           "title": {
            "standoff": 15
           },
           "zerolinecolor": "white",
           "zerolinewidth": 2
          }
         }
        },
        "title": {
         "text": "Prescriptions Annually<Br>Averaged Fit"
        },
        "xaxis": {
         "rangeslider": {
          "visible": true
         },
         "title": {
          "text": "Year"
         }
        },
        "yaxis": {
         "title": {
          "text": "Prescriptions"
         }
        }
       }
      }
     },
     "metadata": {},
     "output_type": "display_data"
    },
    {
     "name": "stdout",
     "output_type": "stream",
     "text": [
      "The train SMAPE is 2.23% and the test SMAPE is 3270.44% with the top 5 predictions averaged.\n"
     ]
    }
   ],
   "source": [
    "# display avg of top parameters\n",
    "top_combined = combined_df.sort_values('val').index[0:6]\n",
    "avgd_fit_dict = {}\n",
    "for ind in top_combined:\n",
    "    p, d, q = combined_df.loc[ind,'p'], combined_df.loc[ind,'d'], combined_df.loc[ind,'q']\n",
    "    predict_df = summary_df.copy(deep=True)\n",
    "    predict_df.index = pd.to_datetime(predict_df.index)\n",
    "    first_day = predict_df.index.min()\n",
    "    last_day = predict_df.index.max()\n",
    "    full_range = pd.date_range(start=first_day, end=last_day, freq=\"Q\")\n",
    "    predict_df = predict_df.reindex(full_range)\n",
    "    predict_df.fillna(method='ffill',inplace=True)\n",
    "\n",
    "    train = predict_df.loc[predict_df.index <= cutoff].dropna()\n",
    "    test = predict_df.loc[predict_df.index > cutoff]\n",
    "\n",
    "    model = SARIMAX(train, order=(p, d, q), trend=\"c\")\n",
    "    model_fit = model.fit(disp=0)\n",
    "\n",
    "    predictions = model_fit.predict(start=0, end=len(train)+len(test)-1)\n",
    "\n",
    "    avgd_fit_dict[f'p{p}, d{d}, q{q}'] = predictions\n",
    "\n",
    "avgd_fit_df = pd.DataFrame(avgd_fit_dict, index = list(predictions.index))\n",
    "avgd_fit_df['mean'] = avgd_fit_df.mean(axis=1)\n",
    "\n",
    "\n",
    "train_smape = mean_absolute_percentage_error(pd.Series(list(avgd_fit_df['mean'][0:len(predictions[train.index])])), pd.Series(list(predictions[train.index])))\n",
    "test_smape = mean_absolute_percentage_error(pd.Series(list(avgd_fit_df['mean'][len(predictions[train.index]):])), pd.Series(list(predictions[test.index])))\n",
    "\n",
    "fig = go.Figure()\n",
    "fig.add_trace(go.Scatter(x=list(train.index), y = train['Prescriptions'], name = 'Train'))\n",
    "fig.add_trace(go.Scatter(x=list(test.index), y = test['Prescriptions'], name = 'Test'))\n",
    "fig.add_trace(go.Scatter(x=list(avgd_fit_df.index), y = avgd_fit_df['mean'], name = 'Averaged Fit'))\n",
    "fig.update_layout(title=\"Prescriptions Annually<Br>Averaged Fit\")\n",
    "fig.update_xaxes(rangeslider_visible=True)\n",
    "fig.update_layout(xaxis_title = 'Year', yaxis_title='Prescriptions')\n",
    "fig.show()\n",
    "\n",
    "print(f\"The train SMAPE is {train_smape}% and the test SMAPE is {test_smape}% with the top 5 predictions averaged.\")"
   ]
  },
  {
   "cell_type": "code",
   "execution_count": null,
   "metadata": {},
   "outputs": [],
   "source": [
    "from statsmodels.tsa.statespace.sarimax import SARIMAX\n",
    "\n",
    "p_param = 2\n",
    "\n",
    "model = SARIMAX(train, order=(p_param, 0, 0), trend=\"c\")\n",
    "model_fit = model.fit(disp=0)\n",
    "\n",
    "model_fit.summary()"
   ]
  },
  {
   "attachments": {},
   "cell_type": "markdown",
   "metadata": {},
   "source": [
    "# Facebook Prophet"
   ]
  },
  {
   "attachments": {},
   "cell_type": "markdown",
   "metadata": {},
   "source": [
    "We can also take a look at the Facebook Prophet tool."
   ]
  },
  {
   "cell_type": "code",
   "execution_count": 465,
   "metadata": {},
   "outputs": [
    {
     "name": "stderr",
     "output_type": "stream",
     "text": [
      "10:42:31 - cmdstanpy - INFO - Chain [1] start processing\n",
      "10:42:31 - cmdstanpy - INFO - Chain [1] done processing\n"
     ]
    },
    {
     "data": {
      "application/vnd.plotly.v1+json": {
       "config": {
        "plotlyServerURL": "https://plot.ly"
       },
       "data": [
        {
         "marker": {
          "color": "black",
          "size": 4
         },
         "mode": "markers",
         "name": "Actual",
         "type": "scatter",
         "x": [
          "1991-03-31T00:00:00",
          "1991-06-30T00:00:00",
          "1991-09-30T00:00:00",
          "1991-12-31T00:00:00",
          "1992-03-31T00:00:00",
          "1992-06-30T00:00:00",
          "1992-09-30T00:00:00",
          "1992-12-31T00:00:00",
          "1993-03-31T00:00:00",
          "1993-06-30T00:00:00",
          "1993-09-30T00:00:00",
          "1993-12-31T00:00:00",
          "1994-03-31T00:00:00",
          "1994-06-30T00:00:00",
          "1994-09-30T00:00:00",
          "1994-12-31T00:00:00",
          "1995-03-31T00:00:00",
          "1995-06-30T00:00:00",
          "1995-09-30T00:00:00",
          "1995-12-31T00:00:00",
          "1996-03-31T00:00:00",
          "1996-06-30T00:00:00",
          "1996-09-30T00:00:00",
          "1996-12-31T00:00:00",
          "1997-03-31T00:00:00",
          "1997-06-30T00:00:00",
          "1997-09-30T00:00:00",
          "1997-12-31T00:00:00",
          "1998-03-31T00:00:00",
          "1998-06-30T00:00:00",
          "1998-09-30T00:00:00",
          "1998-12-31T00:00:00",
          "1999-03-31T00:00:00",
          "1999-06-30T00:00:00",
          "1999-09-30T00:00:00",
          "1999-12-31T00:00:00",
          "2000-03-31T00:00:00",
          "2000-06-30T00:00:00",
          "2000-09-30T00:00:00",
          "2000-12-31T00:00:00",
          "2001-03-31T00:00:00",
          "2001-06-30T00:00:00",
          "2001-09-30T00:00:00",
          "2001-12-31T00:00:00",
          "2002-03-31T00:00:00",
          "2002-06-30T00:00:00",
          "2002-09-30T00:00:00",
          "2002-12-31T00:00:00",
          "2003-03-31T00:00:00",
          "2003-06-30T00:00:00",
          "2003-09-30T00:00:00",
          "2003-12-31T00:00:00",
          "2004-03-31T00:00:00",
          "2004-06-30T00:00:00",
          "2004-09-30T00:00:00",
          "2004-12-31T00:00:00",
          "2005-03-31T00:00:00",
          "2005-06-30T00:00:00",
          "2005-09-30T00:00:00",
          "2005-12-31T00:00:00",
          "2006-03-31T00:00:00",
          "2006-06-30T00:00:00",
          "2006-09-30T00:00:00",
          "2006-12-31T00:00:00",
          "2007-03-31T00:00:00",
          "2007-06-30T00:00:00",
          "2007-09-30T00:00:00",
          "2007-12-31T00:00:00",
          "2008-03-31T00:00:00",
          "2008-06-30T00:00:00",
          "2008-09-30T00:00:00",
          "2008-12-31T00:00:00",
          "2009-03-31T00:00:00",
          "2009-06-30T00:00:00",
          "2009-09-30T00:00:00",
          "2009-12-31T00:00:00",
          "2010-03-31T00:00:00",
          "2010-06-30T00:00:00",
          "2010-09-30T00:00:00",
          "2010-12-31T00:00:00",
          "2011-03-31T00:00:00",
          "2011-06-30T00:00:00",
          "2011-09-30T00:00:00",
          "2011-12-31T00:00:00",
          "2012-03-31T00:00:00",
          "2012-06-30T00:00:00",
          "2012-09-30T00:00:00",
          "2012-12-31T00:00:00",
          "2013-03-31T00:00:00",
          "2013-06-30T00:00:00",
          "2013-09-30T00:00:00",
          "2013-12-31T00:00:00",
          "2014-03-31T00:00:00",
          "2014-06-30T00:00:00",
          "2014-09-30T00:00:00",
          "2014-12-31T00:00:00",
          "2015-03-31T00:00:00",
          "2015-06-30T00:00:00",
          "2015-09-30T00:00:00",
          "2015-12-31T00:00:00",
          "2016-03-31T00:00:00",
          "2016-06-30T00:00:00",
          "2016-09-30T00:00:00",
          "2016-12-31T00:00:00",
          "2017-03-31T00:00:00",
          "2017-06-30T00:00:00",
          "2017-09-30T00:00:00",
          "2017-12-31T00:00:00",
          "2018-03-31T00:00:00",
          "2018-06-30T00:00:00",
          "2018-09-30T00:00:00",
          "2018-12-31T00:00:00",
          "2019-03-31T00:00:00",
          "2019-06-30T00:00:00",
          "2019-09-30T00:00:00",
          "2019-12-31T00:00:00",
          "2020-03-31T00:00:00",
          "2020-06-30T00:00:00",
          "2020-09-30T00:00:00",
          "2020-12-31T00:00:00"
         ],
         "y": [
          38188343,
          55827567,
          64032730,
          70450273,
          78274945,
          74338168,
          70892175,
          81257483,
          89665709,
          82504655,
          85363858,
          89062315,
          93217320,
          84790529,
          78747651,
          83474993,
          81168886,
          83399206,
          117043149,
          116369783,
          117147316,
          107886467,
          106288468,
          108374335,
          106004394,
          101835009,
          99471858,
          100578255,
          112934116,
          112522128,
          107778249,
          114737783,
          116168655,
          110516949,
          105704679,
          116442528,
          111502113,
          111490894,
          114495185,
          120937480,
          126588457,
          124570536,
          122617622,
          125322240,
          127116379,
          128838464,
          131788062,
          136676615,
          136254996,
          140012600,
          143400920,
          150588266,
          147507792,
          153577383,
          137337933,
          157314034,
          155791169,
          155862232,
          156144705,
          165748234,
          96099097,
          91090872,
          80535517,
          87704967,
          87747247,
          83417084,
          81620224,
          80542629,
          86508832,
          92227286,
          81488800,
          88438829,
          88972257,
          105357102,
          93676444,
          95927814,
          105218948,
          140542001,
          146795640,
          158447436,
          162127532,
          158911736,
          138654421,
          154760694,
          159280459,
          158660817,
          161426596,
          158527010,
          157304950,
          153554464,
          146504083,
          149325815,
          150188306,
          166503516,
          168298772,
          173660448,
          172038137,
          180667794,
          179725050,
          185029278,
          196544890,
          186883808,
          183266041,
          202477399,
          200240407,
          204761614,
          186054344,
          198710924,
          214846197,
          210888987,
          200006116,
          206331768,
          212553427,
          205091468,
          204424117,
          207425516,
          209635114,
          176710736,
          200795598,
          209231713
         ]
        },
        {
         "hoverinfo": "skip",
         "line": {
          "width": 0
         },
         "mode": "lines",
         "type": "scatter",
         "x": [
          "1991-03-31T00:00:00",
          "1991-06-30T00:00:00",
          "1991-09-30T00:00:00",
          "1991-12-31T00:00:00",
          "1992-03-31T00:00:00",
          "1992-06-30T00:00:00",
          "1992-09-30T00:00:00",
          "1992-12-31T00:00:00",
          "1993-03-31T00:00:00",
          "1993-06-30T00:00:00",
          "1993-09-30T00:00:00",
          "1993-12-31T00:00:00",
          "1994-03-31T00:00:00",
          "1994-06-30T00:00:00",
          "1994-09-30T00:00:00",
          "1994-12-31T00:00:00",
          "1995-03-31T00:00:00",
          "1995-06-30T00:00:00",
          "1995-09-30T00:00:00",
          "1995-12-31T00:00:00",
          "1996-03-31T00:00:00",
          "1996-06-30T00:00:00",
          "1996-09-30T00:00:00",
          "1996-12-31T00:00:00",
          "1997-03-31T00:00:00",
          "1997-06-30T00:00:00",
          "1997-09-30T00:00:00",
          "1997-12-31T00:00:00",
          "1998-03-31T00:00:00",
          "1998-06-30T00:00:00",
          "1998-09-30T00:00:00",
          "1998-12-31T00:00:00",
          "1999-03-31T00:00:00",
          "1999-06-30T00:00:00",
          "1999-09-30T00:00:00",
          "1999-12-31T00:00:00",
          "2000-03-31T00:00:00",
          "2000-06-30T00:00:00",
          "2000-09-30T00:00:00",
          "2000-12-31T00:00:00",
          "2001-03-31T00:00:00",
          "2001-06-30T00:00:00",
          "2001-09-30T00:00:00",
          "2001-12-31T00:00:00",
          "2002-03-31T00:00:00",
          "2002-06-30T00:00:00",
          "2002-09-30T00:00:00",
          "2002-12-31T00:00:00",
          "2003-03-31T00:00:00",
          "2003-06-30T00:00:00",
          "2003-09-30T00:00:00",
          "2003-12-31T00:00:00",
          "2004-03-31T00:00:00",
          "2004-06-30T00:00:00",
          "2004-09-30T00:00:00",
          "2004-12-31T00:00:00",
          "2005-03-31T00:00:00",
          "2005-06-30T00:00:00",
          "2005-09-30T00:00:00",
          "2005-12-31T00:00:00",
          "2006-03-31T00:00:00",
          "2006-06-30T00:00:00",
          "2006-09-30T00:00:00",
          "2006-12-31T00:00:00",
          "2007-03-31T00:00:00",
          "2007-06-30T00:00:00",
          "2007-09-30T00:00:00",
          "2007-12-31T00:00:00",
          "2008-03-31T00:00:00",
          "2008-06-30T00:00:00",
          "2008-09-30T00:00:00",
          "2008-12-31T00:00:00",
          "2009-03-31T00:00:00",
          "2009-06-30T00:00:00",
          "2009-09-30T00:00:00",
          "2009-12-31T00:00:00",
          "2010-03-31T00:00:00",
          "2010-06-30T00:00:00",
          "2010-09-30T00:00:00",
          "2010-12-31T00:00:00",
          "2011-03-31T00:00:00",
          "2011-06-30T00:00:00",
          "2011-09-30T00:00:00",
          "2011-12-31T00:00:00",
          "2012-03-31T00:00:00",
          "2012-06-30T00:00:00",
          "2012-09-30T00:00:00",
          "2012-12-31T00:00:00",
          "2013-03-31T00:00:00",
          "2013-06-30T00:00:00",
          "2013-09-30T00:00:00",
          "2013-12-31T00:00:00",
          "2014-03-31T00:00:00",
          "2014-06-30T00:00:00",
          "2014-09-30T00:00:00",
          "2014-12-31T00:00:00",
          "2015-03-31T00:00:00",
          "2015-06-30T00:00:00",
          "2015-09-30T00:00:00",
          "2015-12-31T00:00:00",
          "2016-03-31T00:00:00",
          "2016-06-30T00:00:00",
          "2016-09-30T00:00:00",
          "2016-12-31T00:00:00",
          "2017-03-31T00:00:00",
          "2017-06-30T00:00:00",
          "2017-09-30T00:00:00",
          "2017-12-31T00:00:00",
          "2018-03-31T00:00:00",
          "2018-06-30T00:00:00",
          "2018-09-30T00:00:00",
          "2018-12-31T00:00:00",
          "2019-03-31T00:00:00",
          "2019-06-30T00:00:00",
          "2019-09-30T00:00:00",
          "2019-12-31T00:00:00",
          "2020-03-31T00:00:00",
          "2020-06-30T00:00:00",
          "2020-09-30T00:00:00",
          "2020-12-31T00:00:00",
          "2021-03-31T00:00:00",
          "2021-06-30T00:00:00",
          "2021-09-30T00:00:00",
          "2021-12-31T00:00:00",
          "2022-03-31T00:00:00",
          "2022-06-30T00:00:00"
         ],
         "y": [
          42094421.2248709,
          48568867.49904745,
          49612223.04442603,
          55536634.08690468,
          60910500.7288066,
          57983640.040910035,
          56301897.55171221,
          64856166.347320974,
          67173549.20522991,
          68282143.08727552,
          66210104.93217252,
          73607857.05159687,
          73175700.36816971,
          74340621.81142275,
          75068551.31903194,
          81336318.15519385,
          78132633.96943392,
          83420396.86596726,
          84116526.60206363,
          90359655.53300454,
          94064037.26456855,
          89477276.39843296,
          85667083.65188578,
          92949510.9651328,
          94876356.79958098,
          92454809.690928,
          90123221.12079683,
          97795202.73794644,
          96277826.16415066,
          96392603.48505984,
          94413964.15142901,
          100816848.66782232,
          96107764.40304221,
          100318412.13285033,
          99608438.75980558,
          105224494.908723,
          108642735.08394676,
          105183063.18752895,
          101235806.60791996,
          108923455.4814894,
          111802430.3004339,
          111387111.15345691,
          110061426.77189171,
          117886850.60022622,
          116008109.19763467,
          119416099.70138739,
          118119762.26013283,
          124708680.48819444,
          120738389.97425154,
          126166203.717306,
          126963900.94265509,
          133440482.20976724,
          138258922.38118145,
          134863913.113262,
          128105282.01353972,
          132481050.4604006,
          131695598.22491355,
          126760223.37782228,
          116107885.94968846,
          116024868.56175244,
          105632900.59080844,
          99058174.0984764,
          89936312.91099583,
          89129861.28158809,
          75398180.41124676,
          72149308.4600442,
          68240233.63630004,
          71270533.80856737,
          73423703.41564916,
          71824183.93424852,
          71306610.69591987,
          81230395.2781699,
          84501341.45275295,
          89411557.0768073,
          92082938.76878591,
          102580860.80447082,
          107046832.05126019,
          112436481.71589911,
          116264233.29679288,
          128032250.04078522,
          127075006.40727244,
          132885124.41926783,
          133868321.62574692,
          139420447.8519914,
          145650150.2499735,
          141449176.36399803,
          139602474.04879555,
          146386201.72663477,
          150294725.84826508,
          149194980.77285933,
          146661134.50962618,
          155240960.24104682,
          154528642.3101914,
          156861975.45311219,
          156185515.0306763,
          163442913.2244883,
          158802229.8108597,
          164004915.15049642,
          163624206.97846,
          169901661.70304814,
          174390452.60199425,
          170713203.0204649,
          167656703.777163,
          176658013.7668616,
          178921598.36410454,
          177147561.22542554,
          176166249.53147727,
          182968403.3835102,
          181996236.95422208,
          183863386.29841578,
          183777345.6102751,
          190320333.19949803,
          186087824.82869312,
          189988958.02028036,
          190402071.61098263,
          197103370.5277525,
          201111281.4800453,
          197705160.6494402,
          195816046.87362358,
          202463245.34812793,
          204886480.9348633,
          204354103.13021907,
          201534287.85094103,
          208985389.03071123,
          207663633.24563938,
          210019508.97146323
         ]
        },
        {
         "fill": "tonexty",
         "fillcolor": "rgba(0, 114, 178, 0.2)",
         "line": {
          "color": "#0072B2",
          "width": 2
         },
         "mode": "lines",
         "name": "Predicted",
         "type": "scatter",
         "x": [
          "1991-03-31T00:00:00",
          "1991-06-30T00:00:00",
          "1991-09-30T00:00:00",
          "1991-12-31T00:00:00",
          "1992-03-31T00:00:00",
          "1992-06-30T00:00:00",
          "1992-09-30T00:00:00",
          "1992-12-31T00:00:00",
          "1993-03-31T00:00:00",
          "1993-06-30T00:00:00",
          "1993-09-30T00:00:00",
          "1993-12-31T00:00:00",
          "1994-03-31T00:00:00",
          "1994-06-30T00:00:00",
          "1994-09-30T00:00:00",
          "1994-12-31T00:00:00",
          "1995-03-31T00:00:00",
          "1995-06-30T00:00:00",
          "1995-09-30T00:00:00",
          "1995-12-31T00:00:00",
          "1996-03-31T00:00:00",
          "1996-06-30T00:00:00",
          "1996-09-30T00:00:00",
          "1996-12-31T00:00:00",
          "1997-03-31T00:00:00",
          "1997-06-30T00:00:00",
          "1997-09-30T00:00:00",
          "1997-12-31T00:00:00",
          "1998-03-31T00:00:00",
          "1998-06-30T00:00:00",
          "1998-09-30T00:00:00",
          "1998-12-31T00:00:00",
          "1999-03-31T00:00:00",
          "1999-06-30T00:00:00",
          "1999-09-30T00:00:00",
          "1999-12-31T00:00:00",
          "2000-03-31T00:00:00",
          "2000-06-30T00:00:00",
          "2000-09-30T00:00:00",
          "2000-12-31T00:00:00",
          "2001-03-31T00:00:00",
          "2001-06-30T00:00:00",
          "2001-09-30T00:00:00",
          "2001-12-31T00:00:00",
          "2002-03-31T00:00:00",
          "2002-06-30T00:00:00",
          "2002-09-30T00:00:00",
          "2002-12-31T00:00:00",
          "2003-03-31T00:00:00",
          "2003-06-30T00:00:00",
          "2003-09-30T00:00:00",
          "2003-12-31T00:00:00",
          "2004-03-31T00:00:00",
          "2004-06-30T00:00:00",
          "2004-09-30T00:00:00",
          "2004-12-31T00:00:00",
          "2005-03-31T00:00:00",
          "2005-06-30T00:00:00",
          "2005-09-30T00:00:00",
          "2005-12-31T00:00:00",
          "2006-03-31T00:00:00",
          "2006-06-30T00:00:00",
          "2006-09-30T00:00:00",
          "2006-12-31T00:00:00",
          "2007-03-31T00:00:00",
          "2007-06-30T00:00:00",
          "2007-09-30T00:00:00",
          "2007-12-31T00:00:00",
          "2008-03-31T00:00:00",
          "2008-06-30T00:00:00",
          "2008-09-30T00:00:00",
          "2008-12-31T00:00:00",
          "2009-03-31T00:00:00",
          "2009-06-30T00:00:00",
          "2009-09-30T00:00:00",
          "2009-12-31T00:00:00",
          "2010-03-31T00:00:00",
          "2010-06-30T00:00:00",
          "2010-09-30T00:00:00",
          "2010-12-31T00:00:00",
          "2011-03-31T00:00:00",
          "2011-06-30T00:00:00",
          "2011-09-30T00:00:00",
          "2011-12-31T00:00:00",
          "2012-03-31T00:00:00",
          "2012-06-30T00:00:00",
          "2012-09-30T00:00:00",
          "2012-12-31T00:00:00",
          "2013-03-31T00:00:00",
          "2013-06-30T00:00:00",
          "2013-09-30T00:00:00",
          "2013-12-31T00:00:00",
          "2014-03-31T00:00:00",
          "2014-06-30T00:00:00",
          "2014-09-30T00:00:00",
          "2014-12-31T00:00:00",
          "2015-03-31T00:00:00",
          "2015-06-30T00:00:00",
          "2015-09-30T00:00:00",
          "2015-12-31T00:00:00",
          "2016-03-31T00:00:00",
          "2016-06-30T00:00:00",
          "2016-09-30T00:00:00",
          "2016-12-31T00:00:00",
          "2017-03-31T00:00:00",
          "2017-06-30T00:00:00",
          "2017-09-30T00:00:00",
          "2017-12-31T00:00:00",
          "2018-03-31T00:00:00",
          "2018-06-30T00:00:00",
          "2018-09-30T00:00:00",
          "2018-12-31T00:00:00",
          "2019-03-31T00:00:00",
          "2019-06-30T00:00:00",
          "2019-09-30T00:00:00",
          "2019-12-31T00:00:00",
          "2020-03-31T00:00:00",
          "2020-06-30T00:00:00",
          "2020-09-30T00:00:00",
          "2020-12-31T00:00:00",
          "2021-03-31T00:00:00",
          "2021-06-30T00:00:00",
          "2021-09-30T00:00:00",
          "2021-12-31T00:00:00",
          "2022-03-31T00:00:00",
          "2022-06-30T00:00:00"
         ],
         "y": [
          55291128.91639601,
          60961500.77782005,
          62114836.82298962,
          68859634.45917186,
          74396616.99074605,
          71268651.59122144,
          69203954.39397335,
          78032110.32005656,
          81079843.89261255,
          80472026.19017415,
          79097665.96384297,
          86852532.85684998,
          86178155.87973405,
          88503212.29346082,
          88201584.30827968,
          95261938.6251848,
          91271722.21865942,
          96548231.79654783,
          97303377.40123087,
          103649984.5969201,
          107653409.7611328,
          102991887.1106116,
          99376780.38486615,
          106654526.78244518,
          108185555.382526,
          106438030.25924377,
          103911438.35469699,
          110514073.56949387,
          108712525.42132045,
          109897886.53986005,
          108444039.13537326,
          114352174.00748588,
          109234786.80400126,
          113371601.46497346,
          112974528.03276731,
          118214834.32747874,
          122263678.68432787,
          117647575.22641778,
          114078386.80528507,
          122427436.81029856,
          125006479.807902,
          124318613.68651988,
          122863325.38829863,
          130537268.191893,
          129783738.14817053,
          132028762.016749,
          131646222.00792061,
          138625664.19695187,
          134556295.0208802,
          139752772.35404658,
          140427006.3208757,
          146692701.87870887,
          151755789.96320218,
          148153930.2329638,
          141578756.0855651,
          145896435.06150275,
          144531745.53064626,
          139856327.63054273,
          129605258.17470287,
          128483415.83819084,
          119125313.3748007,
          112670158.46352486,
          103491833.61376812,
          101675491.0661098,
          89001549.8650345,
          85497848.81729934,
          82568489.25028498,
          85230591.27427748,
          86729255.31987137,
          84933075.37410685,
          84214798.6355921,
          94389375.02040848,
          98754259.04173791,
          102200477.42198855,
          104924703.12540875,
          116778155.94819646,
          120113277.01021096,
          126492381.37280619,
          130289351.31397535,
          141448303.55722228,
          141467585.5211453,
          146632869.34554416,
          147275566.9356988,
          153509726.11685148,
          158541620.61138737,
          154908567.23183754,
          152333231.63718563,
          160650749.16588038,
          163198945.25280637,
          162479889.47731534,
          160993068.78152108,
          168635475.20509475,
          167851094.285129,
          170064924.48996833,
          169650848.02987602,
          176598753.87186208,
          172241963.31993088,
          177147825.70641518,
          177528251.07361746,
          183500138.03180245,
          188272611.08839506,
          184380136.3302535,
          181542528.57262942,
          189597773.9383283,
          191889399.3539723,
          190910922.12202248,
          189161829.18451613,
          196541963.3663539,
          195501011.84483254,
          197455420.6636424,
          196779072.03304565,
          203464705.70456466,
          199107915.1526676,
          204013777.5391203,
          204394202.9063021,
          210366089.86450654,
          215138562.92110518,
          211246088.16295722,
          208408480.40531406,
          216463725.7710326,
          218755351.18670893,
          217776873.95472538,
          216027781.01721403,
          223407915.19905794,
          222366963.67754275,
          224321372.49634537
         ]
        },
        {
         "fill": "tonexty",
         "fillcolor": "rgba(0, 114, 178, 0.2)",
         "hoverinfo": "skip",
         "line": {
          "width": 0
         },
         "mode": "lines",
         "type": "scatter",
         "x": [
          "1991-03-31T00:00:00",
          "1991-06-30T00:00:00",
          "1991-09-30T00:00:00",
          "1991-12-31T00:00:00",
          "1992-03-31T00:00:00",
          "1992-06-30T00:00:00",
          "1992-09-30T00:00:00",
          "1992-12-31T00:00:00",
          "1993-03-31T00:00:00",
          "1993-06-30T00:00:00",
          "1993-09-30T00:00:00",
          "1993-12-31T00:00:00",
          "1994-03-31T00:00:00",
          "1994-06-30T00:00:00",
          "1994-09-30T00:00:00",
          "1994-12-31T00:00:00",
          "1995-03-31T00:00:00",
          "1995-06-30T00:00:00",
          "1995-09-30T00:00:00",
          "1995-12-31T00:00:00",
          "1996-03-31T00:00:00",
          "1996-06-30T00:00:00",
          "1996-09-30T00:00:00",
          "1996-12-31T00:00:00",
          "1997-03-31T00:00:00",
          "1997-06-30T00:00:00",
          "1997-09-30T00:00:00",
          "1997-12-31T00:00:00",
          "1998-03-31T00:00:00",
          "1998-06-30T00:00:00",
          "1998-09-30T00:00:00",
          "1998-12-31T00:00:00",
          "1999-03-31T00:00:00",
          "1999-06-30T00:00:00",
          "1999-09-30T00:00:00",
          "1999-12-31T00:00:00",
          "2000-03-31T00:00:00",
          "2000-06-30T00:00:00",
          "2000-09-30T00:00:00",
          "2000-12-31T00:00:00",
          "2001-03-31T00:00:00",
          "2001-06-30T00:00:00",
          "2001-09-30T00:00:00",
          "2001-12-31T00:00:00",
          "2002-03-31T00:00:00",
          "2002-06-30T00:00:00",
          "2002-09-30T00:00:00",
          "2002-12-31T00:00:00",
          "2003-03-31T00:00:00",
          "2003-06-30T00:00:00",
          "2003-09-30T00:00:00",
          "2003-12-31T00:00:00",
          "2004-03-31T00:00:00",
          "2004-06-30T00:00:00",
          "2004-09-30T00:00:00",
          "2004-12-31T00:00:00",
          "2005-03-31T00:00:00",
          "2005-06-30T00:00:00",
          "2005-09-30T00:00:00",
          "2005-12-31T00:00:00",
          "2006-03-31T00:00:00",
          "2006-06-30T00:00:00",
          "2006-09-30T00:00:00",
          "2006-12-31T00:00:00",
          "2007-03-31T00:00:00",
          "2007-06-30T00:00:00",
          "2007-09-30T00:00:00",
          "2007-12-31T00:00:00",
          "2008-03-31T00:00:00",
          "2008-06-30T00:00:00",
          "2008-09-30T00:00:00",
          "2008-12-31T00:00:00",
          "2009-03-31T00:00:00",
          "2009-06-30T00:00:00",
          "2009-09-30T00:00:00",
          "2009-12-31T00:00:00",
          "2010-03-31T00:00:00",
          "2010-06-30T00:00:00",
          "2010-09-30T00:00:00",
          "2010-12-31T00:00:00",
          "2011-03-31T00:00:00",
          "2011-06-30T00:00:00",
          "2011-09-30T00:00:00",
          "2011-12-31T00:00:00",
          "2012-03-31T00:00:00",
          "2012-06-30T00:00:00",
          "2012-09-30T00:00:00",
          "2012-12-31T00:00:00",
          "2013-03-31T00:00:00",
          "2013-06-30T00:00:00",
          "2013-09-30T00:00:00",
          "2013-12-31T00:00:00",
          "2014-03-31T00:00:00",
          "2014-06-30T00:00:00",
          "2014-09-30T00:00:00",
          "2014-12-31T00:00:00",
          "2015-03-31T00:00:00",
          "2015-06-30T00:00:00",
          "2015-09-30T00:00:00",
          "2015-12-31T00:00:00",
          "2016-03-31T00:00:00",
          "2016-06-30T00:00:00",
          "2016-09-30T00:00:00",
          "2016-12-31T00:00:00",
          "2017-03-31T00:00:00",
          "2017-06-30T00:00:00",
          "2017-09-30T00:00:00",
          "2017-12-31T00:00:00",
          "2018-03-31T00:00:00",
          "2018-06-30T00:00:00",
          "2018-09-30T00:00:00",
          "2018-12-31T00:00:00",
          "2019-03-31T00:00:00",
          "2019-06-30T00:00:00",
          "2019-09-30T00:00:00",
          "2019-12-31T00:00:00",
          "2020-03-31T00:00:00",
          "2020-06-30T00:00:00",
          "2020-09-30T00:00:00",
          "2020-12-31T00:00:00",
          "2021-03-31T00:00:00",
          "2021-06-30T00:00:00",
          "2021-09-30T00:00:00",
          "2021-12-31T00:00:00",
          "2022-03-31T00:00:00",
          "2022-06-30T00:00:00"
         ],
         "y": [
          68031057.05989397,
          74357394.88410725,
          75823507.39843056,
          82516486.03687726,
          88902222.86250718,
          84244570.72111692,
          81627823.38348185,
          92003751.49836603,
          94468673.9476024,
          93630591.03550652,
          93014112.3942151,
          101110116.63532525,
          98865503.69265401,
          101733775.69080019,
          100421848.24361177,
          107848727.46300973,
          104183769.20861319,
          110036933.86242983,
          110613672.74006373,
          116044154.98393695,
          120624903.20428343,
          116314344.82409562,
          112805437.26578142,
          120612419.02262858,
          121690690.71678866,
          119503027.94739409,
          116747412.10512662,
          123663041.2608562,
          122499121.33883262,
          123468664.70386727,
          120058769.85779102,
          127728534.88972196,
          122970469.96128462,
          126396041.73763146,
          126193346.21114089,
          131926835.70855707,
          135278325.80661145,
          130536176.86301914,
          127643148.029492,
          135550387.95920166,
          138926918.9192535,
          136567067.29572272,
          136672466.98734146,
          143467632.39078757,
          142847673.64776632,
          146045301.9688698,
          144596788.05384818,
          152399337.10879046,
          147245418.94838306,
          152639831.70241812,
          153411864.3722332,
          161718335.92082077,
          164775855.32223672,
          162953287.8418151,
          155539180.8325366,
          158736055.93126094,
          157786332.10374254,
          151766321.1702347,
          142642883.54325834,
          141449052.9105018,
          132089192.94594081,
          126375983.76902656,
          115959361.24399938,
          115030030.734654,
          101810965.70766854,
          98436914.50943306,
          96019873.10641885,
          97961305.64811067,
          100153312.15938547,
          97841881.81913117,
          96993489.15031675,
          108229772.1588227,
          112687394.09983052,
          115425630.93781418,
          118377413.97114775,
          129615277.71870089,
          133047190.06515796,
          139929193.78096434,
          144269856.228648,
          154332308.16106936,
          154130528.5019466,
          159884817.59397876,
          160229327.27469668,
          166735999.06634176,
          172233403.5052726,
          167740599.55149093,
          165539827.61103368,
          173739981.78270018,
          176567955.38618246,
          176310372.99401745,
          173662876.56936747,
          181775354.35969824,
          180721848.7891943,
          183699730.54008913,
          182611791.53328905,
          189337637.94533652,
          185320834.13029516,
          188973630.04884514,
          190395585.7778306,
          197630504.41116384,
          201870883.60912597,
          198212277.70939803,
          194946666.60879952,
          202674861.6457394,
          204410822.23687103,
          204131861.9085821,
          202124950.4543219,
          210402513.6503015,
          208589751.21430862,
          211464734.7631443,
          210425241.53848904,
          215676619.54272264,
          213203612.63894036,
          216436387.02192822,
          217710209.8503329,
          222947321.3980179,
          228876004.39747274,
          225048522.98659578,
          221546284.26410094,
          229499144.10773382,
          231888924.7916329,
          230723583.83512583,
          228784445.10675701,
          237808425.93849975,
          236900881.0817677,
          240078063.62231538
         ]
        }
       ],
       "layout": {
        "height": 600,
        "showlegend": false,
        "template": {
         "data": {
          "bar": [
           {
            "error_x": {
             "color": "#2a3f5f"
            },
            "error_y": {
             "color": "#2a3f5f"
            },
            "marker": {
             "line": {
              "color": "#E5ECF6",
              "width": 0.5
             },
             "pattern": {
              "fillmode": "overlay",
              "size": 10,
              "solidity": 0.2
             }
            },
            "type": "bar"
           }
          ],
          "barpolar": [
           {
            "marker": {
             "line": {
              "color": "#E5ECF6",
              "width": 0.5
             },
             "pattern": {
              "fillmode": "overlay",
              "size": 10,
              "solidity": 0.2
             }
            },
            "type": "barpolar"
           }
          ],
          "carpet": [
           {
            "aaxis": {
             "endlinecolor": "#2a3f5f",
             "gridcolor": "white",
             "linecolor": "white",
             "minorgridcolor": "white",
             "startlinecolor": "#2a3f5f"
            },
            "baxis": {
             "endlinecolor": "#2a3f5f",
             "gridcolor": "white",
             "linecolor": "white",
             "minorgridcolor": "white",
             "startlinecolor": "#2a3f5f"
            },
            "type": "carpet"
           }
          ],
          "choropleth": [
           {
            "colorbar": {
             "outlinewidth": 0,
             "ticks": ""
            },
            "type": "choropleth"
           }
          ],
          "contour": [
           {
            "colorbar": {
             "outlinewidth": 0,
             "ticks": ""
            },
            "colorscale": [
             [
              0,
              "#0d0887"
             ],
             [
              0.1111111111111111,
              "#46039f"
             ],
             [
              0.2222222222222222,
              "#7201a8"
             ],
             [
              0.3333333333333333,
              "#9c179e"
             ],
             [
              0.4444444444444444,
              "#bd3786"
             ],
             [
              0.5555555555555556,
              "#d8576b"
             ],
             [
              0.6666666666666666,
              "#ed7953"
             ],
             [
              0.7777777777777778,
              "#fb9f3a"
             ],
             [
              0.8888888888888888,
              "#fdca26"
             ],
             [
              1,
              "#f0f921"
             ]
            ],
            "type": "contour"
           }
          ],
          "contourcarpet": [
           {
            "colorbar": {
             "outlinewidth": 0,
             "ticks": ""
            },
            "type": "contourcarpet"
           }
          ],
          "heatmap": [
           {
            "colorbar": {
             "outlinewidth": 0,
             "ticks": ""
            },
            "colorscale": [
             [
              0,
              "#0d0887"
             ],
             [
              0.1111111111111111,
              "#46039f"
             ],
             [
              0.2222222222222222,
              "#7201a8"
             ],
             [
              0.3333333333333333,
              "#9c179e"
             ],
             [
              0.4444444444444444,
              "#bd3786"
             ],
             [
              0.5555555555555556,
              "#d8576b"
             ],
             [
              0.6666666666666666,
              "#ed7953"
             ],
             [
              0.7777777777777778,
              "#fb9f3a"
             ],
             [
              0.8888888888888888,
              "#fdca26"
             ],
             [
              1,
              "#f0f921"
             ]
            ],
            "type": "heatmap"
           }
          ],
          "heatmapgl": [
           {
            "colorbar": {
             "outlinewidth": 0,
             "ticks": ""
            },
            "colorscale": [
             [
              0,
              "#0d0887"
             ],
             [
              0.1111111111111111,
              "#46039f"
             ],
             [
              0.2222222222222222,
              "#7201a8"
             ],
             [
              0.3333333333333333,
              "#9c179e"
             ],
             [
              0.4444444444444444,
              "#bd3786"
             ],
             [
              0.5555555555555556,
              "#d8576b"
             ],
             [
              0.6666666666666666,
              "#ed7953"
             ],
             [
              0.7777777777777778,
              "#fb9f3a"
             ],
             [
              0.8888888888888888,
              "#fdca26"
             ],
             [
              1,
              "#f0f921"
             ]
            ],
            "type": "heatmapgl"
           }
          ],
          "histogram": [
           {
            "marker": {
             "pattern": {
              "fillmode": "overlay",
              "size": 10,
              "solidity": 0.2
             }
            },
            "type": "histogram"
           }
          ],
          "histogram2d": [
           {
            "colorbar": {
             "outlinewidth": 0,
             "ticks": ""
            },
            "colorscale": [
             [
              0,
              "#0d0887"
             ],
             [
              0.1111111111111111,
              "#46039f"
             ],
             [
              0.2222222222222222,
              "#7201a8"
             ],
             [
              0.3333333333333333,
              "#9c179e"
             ],
             [
              0.4444444444444444,
              "#bd3786"
             ],
             [
              0.5555555555555556,
              "#d8576b"
             ],
             [
              0.6666666666666666,
              "#ed7953"
             ],
             [
              0.7777777777777778,
              "#fb9f3a"
             ],
             [
              0.8888888888888888,
              "#fdca26"
             ],
             [
              1,
              "#f0f921"
             ]
            ],
            "type": "histogram2d"
           }
          ],
          "histogram2dcontour": [
           {
            "colorbar": {
             "outlinewidth": 0,
             "ticks": ""
            },
            "colorscale": [
             [
              0,
              "#0d0887"
             ],
             [
              0.1111111111111111,
              "#46039f"
             ],
             [
              0.2222222222222222,
              "#7201a8"
             ],
             [
              0.3333333333333333,
              "#9c179e"
             ],
             [
              0.4444444444444444,
              "#bd3786"
             ],
             [
              0.5555555555555556,
              "#d8576b"
             ],
             [
              0.6666666666666666,
              "#ed7953"
             ],
             [
              0.7777777777777778,
              "#fb9f3a"
             ],
             [
              0.8888888888888888,
              "#fdca26"
             ],
             [
              1,
              "#f0f921"
             ]
            ],
            "type": "histogram2dcontour"
           }
          ],
          "mesh3d": [
           {
            "colorbar": {
             "outlinewidth": 0,
             "ticks": ""
            },
            "type": "mesh3d"
           }
          ],
          "parcoords": [
           {
            "line": {
             "colorbar": {
              "outlinewidth": 0,
              "ticks": ""
             }
            },
            "type": "parcoords"
           }
          ],
          "pie": [
           {
            "automargin": true,
            "type": "pie"
           }
          ],
          "scatter": [
           {
            "fillpattern": {
             "fillmode": "overlay",
             "size": 10,
             "solidity": 0.2
            },
            "type": "scatter"
           }
          ],
          "scatter3d": [
           {
            "line": {
             "colorbar": {
              "outlinewidth": 0,
              "ticks": ""
             }
            },
            "marker": {
             "colorbar": {
              "outlinewidth": 0,
              "ticks": ""
             }
            },
            "type": "scatter3d"
           }
          ],
          "scattercarpet": [
           {
            "marker": {
             "colorbar": {
              "outlinewidth": 0,
              "ticks": ""
             }
            },
            "type": "scattercarpet"
           }
          ],
          "scattergeo": [
           {
            "marker": {
             "colorbar": {
              "outlinewidth": 0,
              "ticks": ""
             }
            },
            "type": "scattergeo"
           }
          ],
          "scattergl": [
           {
            "marker": {
             "colorbar": {
              "outlinewidth": 0,
              "ticks": ""
             }
            },
            "type": "scattergl"
           }
          ],
          "scattermapbox": [
           {
            "marker": {
             "colorbar": {
              "outlinewidth": 0,
              "ticks": ""
             }
            },
            "type": "scattermapbox"
           }
          ],
          "scatterpolar": [
           {
            "marker": {
             "colorbar": {
              "outlinewidth": 0,
              "ticks": ""
             }
            },
            "type": "scatterpolar"
           }
          ],
          "scatterpolargl": [
           {
            "marker": {
             "colorbar": {
              "outlinewidth": 0,
              "ticks": ""
             }
            },
            "type": "scatterpolargl"
           }
          ],
          "scatterternary": [
           {
            "marker": {
             "colorbar": {
              "outlinewidth": 0,
              "ticks": ""
             }
            },
            "type": "scatterternary"
           }
          ],
          "surface": [
           {
            "colorbar": {
             "outlinewidth": 0,
             "ticks": ""
            },
            "colorscale": [
             [
              0,
              "#0d0887"
             ],
             [
              0.1111111111111111,
              "#46039f"
             ],
             [
              0.2222222222222222,
              "#7201a8"
             ],
             [
              0.3333333333333333,
              "#9c179e"
             ],
             [
              0.4444444444444444,
              "#bd3786"
             ],
             [
              0.5555555555555556,
              "#d8576b"
             ],
             [
              0.6666666666666666,
              "#ed7953"
             ],
             [
              0.7777777777777778,
              "#fb9f3a"
             ],
             [
              0.8888888888888888,
              "#fdca26"
             ],
             [
              1,
              "#f0f921"
             ]
            ],
            "type": "surface"
           }
          ],
          "table": [
           {
            "cells": {
             "fill": {
              "color": "#EBF0F8"
             },
             "line": {
              "color": "white"
             }
            },
            "header": {
             "fill": {
              "color": "#C8D4E3"
             },
             "line": {
              "color": "white"
             }
            },
            "type": "table"
           }
          ]
         },
         "layout": {
          "annotationdefaults": {
           "arrowcolor": "#2a3f5f",
           "arrowhead": 0,
           "arrowwidth": 1
          },
          "autotypenumbers": "strict",
          "coloraxis": {
           "colorbar": {
            "outlinewidth": 0,
            "ticks": ""
           }
          },
          "colorscale": {
           "diverging": [
            [
             0,
             "#8e0152"
            ],
            [
             0.1,
             "#c51b7d"
            ],
            [
             0.2,
             "#de77ae"
            ],
            [
             0.3,
             "#f1b6da"
            ],
            [
             0.4,
             "#fde0ef"
            ],
            [
             0.5,
             "#f7f7f7"
            ],
            [
             0.6,
             "#e6f5d0"
            ],
            [
             0.7,
             "#b8e186"
            ],
            [
             0.8,
             "#7fbc41"
            ],
            [
             0.9,
             "#4d9221"
            ],
            [
             1,
             "#276419"
            ]
           ],
           "sequential": [
            [
             0,
             "#0d0887"
            ],
            [
             0.1111111111111111,
             "#46039f"
            ],
            [
             0.2222222222222222,
             "#7201a8"
            ],
            [
             0.3333333333333333,
             "#9c179e"
            ],
            [
             0.4444444444444444,
             "#bd3786"
            ],
            [
             0.5555555555555556,
             "#d8576b"
            ],
            [
             0.6666666666666666,
             "#ed7953"
            ],
            [
             0.7777777777777778,
             "#fb9f3a"
            ],
            [
             0.8888888888888888,
             "#fdca26"
            ],
            [
             1,
             "#f0f921"
            ]
           ],
           "sequentialminus": [
            [
             0,
             "#0d0887"
            ],
            [
             0.1111111111111111,
             "#46039f"
            ],
            [
             0.2222222222222222,
             "#7201a8"
            ],
            [
             0.3333333333333333,
             "#9c179e"
            ],
            [
             0.4444444444444444,
             "#bd3786"
            ],
            [
             0.5555555555555556,
             "#d8576b"
            ],
            [
             0.6666666666666666,
             "#ed7953"
            ],
            [
             0.7777777777777778,
             "#fb9f3a"
            ],
            [
             0.8888888888888888,
             "#fdca26"
            ],
            [
             1,
             "#f0f921"
            ]
           ]
          },
          "colorway": [
           "#636efa",
           "#EF553B",
           "#00cc96",
           "#ab63fa",
           "#FFA15A",
           "#19d3f3",
           "#FF6692",
           "#B6E880",
           "#FF97FF",
           "#FECB52"
          ],
          "font": {
           "color": "#2a3f5f"
          },
          "geo": {
           "bgcolor": "white",
           "lakecolor": "white",
           "landcolor": "#E5ECF6",
           "showlakes": true,
           "showland": true,
           "subunitcolor": "white"
          },
          "hoverlabel": {
           "align": "left"
          },
          "hovermode": "closest",
          "mapbox": {
           "style": "light"
          },
          "paper_bgcolor": "white",
          "plot_bgcolor": "#E5ECF6",
          "polar": {
           "angularaxis": {
            "gridcolor": "white",
            "linecolor": "white",
            "ticks": ""
           },
           "bgcolor": "#E5ECF6",
           "radialaxis": {
            "gridcolor": "white",
            "linecolor": "white",
            "ticks": ""
           }
          },
          "scene": {
           "xaxis": {
            "backgroundcolor": "#E5ECF6",
            "gridcolor": "white",
            "gridwidth": 2,
            "linecolor": "white",
            "showbackground": true,
            "ticks": "",
            "zerolinecolor": "white"
           },
           "yaxis": {
            "backgroundcolor": "#E5ECF6",
            "gridcolor": "white",
            "gridwidth": 2,
            "linecolor": "white",
            "showbackground": true,
            "ticks": "",
            "zerolinecolor": "white"
           },
           "zaxis": {
            "backgroundcolor": "#E5ECF6",
            "gridcolor": "white",
            "gridwidth": 2,
            "linecolor": "white",
            "showbackground": true,
            "ticks": "",
            "zerolinecolor": "white"
           }
          },
          "shapedefaults": {
           "line": {
            "color": "#2a3f5f"
           }
          },
          "ternary": {
           "aaxis": {
            "gridcolor": "white",
            "linecolor": "white",
            "ticks": ""
           },
           "baxis": {
            "gridcolor": "white",
            "linecolor": "white",
            "ticks": ""
           },
           "bgcolor": "#E5ECF6",
           "caxis": {
            "gridcolor": "white",
            "linecolor": "white",
            "ticks": ""
           }
          },
          "title": {
           "x": 0.05
          },
          "xaxis": {
           "automargin": true,
           "gridcolor": "white",
           "linecolor": "white",
           "ticks": "",
           "title": {
            "standoff": 15
           },
           "zerolinecolor": "white",
           "zerolinewidth": 2
          },
          "yaxis": {
           "automargin": true,
           "gridcolor": "white",
           "linecolor": "white",
           "ticks": "",
           "title": {
            "standoff": 15
           },
           "zerolinecolor": "white",
           "zerolinewidth": 2
          }
         }
        },
        "width": 900,
        "xaxis": {
         "rangeselector": {
          "buttons": [
           {
            "count": 7,
            "label": "1w",
            "step": "day",
            "stepmode": "backward"
           },
           {
            "count": 1,
            "label": "1m",
            "step": "month",
            "stepmode": "backward"
           },
           {
            "count": 6,
            "label": "6m",
            "step": "month",
            "stepmode": "backward"
           },
           {
            "count": 1,
            "label": "1y",
            "step": "year",
            "stepmode": "backward"
           },
           {
            "step": "all"
           }
          ]
         },
         "rangeslider": {
          "visible": true
         },
         "title": {
          "text": "ds"
         },
         "type": "date"
        },
        "yaxis": {
         "title": {
          "text": "y"
         }
        }
       }
      }
     },
     "metadata": {},
     "output_type": "display_data"
    },
    {
     "name": "stderr",
     "output_type": "stream",
     "text": [
      "10:42:31 - cmdstanpy - INFO - Chain [1] start processing\n",
      "10:42:32 - cmdstanpy - INFO - Chain [1] done processing\n"
     ]
    },
    {
     "name": "stdout",
     "output_type": "stream",
     "text": [
      "The train SMAPE is 3.06% and the test SMAPE is 1.89%\n"
     ]
    },
    {
     "data": {
      "application/vnd.plotly.v1+json": {
       "config": {
        "plotlyServerURL": "https://plot.ly"
       },
       "data": [
        {
         "marker": {
          "color": "black",
          "size": 4
         },
         "mode": "markers",
         "name": "Actual",
         "type": "scatter",
         "x": [
          "1991-03-31T00:00:00",
          "1991-06-30T00:00:00",
          "1991-09-30T00:00:00",
          "1991-12-31T00:00:00",
          "1992-03-31T00:00:00",
          "1992-06-30T00:00:00",
          "1992-09-30T00:00:00",
          "1992-12-31T00:00:00",
          "1993-03-31T00:00:00",
          "1993-06-30T00:00:00",
          "1993-09-30T00:00:00",
          "1993-12-31T00:00:00",
          "1994-03-31T00:00:00",
          "1994-06-30T00:00:00",
          "1994-09-30T00:00:00",
          "1994-12-31T00:00:00",
          "1995-03-31T00:00:00",
          "1995-06-30T00:00:00",
          "1995-09-30T00:00:00",
          "1995-12-31T00:00:00",
          "1996-03-31T00:00:00",
          "1996-06-30T00:00:00",
          "1996-09-30T00:00:00",
          "1996-12-31T00:00:00",
          "1997-03-31T00:00:00",
          "1997-06-30T00:00:00",
          "1997-09-30T00:00:00",
          "1997-12-31T00:00:00",
          "1998-03-31T00:00:00",
          "1998-06-30T00:00:00",
          "1998-09-30T00:00:00",
          "1998-12-31T00:00:00",
          "1999-03-31T00:00:00",
          "1999-06-30T00:00:00",
          "1999-09-30T00:00:00",
          "1999-12-31T00:00:00",
          "2000-03-31T00:00:00",
          "2000-06-30T00:00:00",
          "2000-09-30T00:00:00",
          "2000-12-31T00:00:00",
          "2001-03-31T00:00:00",
          "2001-06-30T00:00:00",
          "2001-09-30T00:00:00",
          "2001-12-31T00:00:00",
          "2002-03-31T00:00:00",
          "2002-06-30T00:00:00",
          "2002-09-30T00:00:00",
          "2002-12-31T00:00:00",
          "2003-03-31T00:00:00",
          "2003-06-30T00:00:00",
          "2003-09-30T00:00:00",
          "2003-12-31T00:00:00",
          "2004-03-31T00:00:00",
          "2004-06-30T00:00:00",
          "2004-09-30T00:00:00",
          "2004-12-31T00:00:00",
          "2005-03-31T00:00:00",
          "2005-06-30T00:00:00",
          "2005-09-30T00:00:00",
          "2005-12-31T00:00:00",
          "2006-03-31T00:00:00",
          "2006-06-30T00:00:00",
          "2006-09-30T00:00:00",
          "2006-12-31T00:00:00",
          "2007-03-31T00:00:00",
          "2007-06-30T00:00:00",
          "2007-09-30T00:00:00",
          "2007-12-31T00:00:00",
          "2008-03-31T00:00:00",
          "2008-06-30T00:00:00",
          "2008-09-30T00:00:00",
          "2008-12-31T00:00:00",
          "2009-03-31T00:00:00",
          "2009-06-30T00:00:00",
          "2009-09-30T00:00:00",
          "2009-12-31T00:00:00",
          "2010-03-31T00:00:00",
          "2010-06-30T00:00:00",
          "2010-09-30T00:00:00",
          "2010-12-31T00:00:00",
          "2011-03-31T00:00:00",
          "2011-06-30T00:00:00",
          "2011-09-30T00:00:00",
          "2011-12-31T00:00:00",
          "2012-03-31T00:00:00",
          "2012-06-30T00:00:00",
          "2012-09-30T00:00:00",
          "2012-12-31T00:00:00",
          "2013-03-31T00:00:00",
          "2013-06-30T00:00:00",
          "2013-09-30T00:00:00",
          "2013-12-31T00:00:00",
          "2014-03-31T00:00:00",
          "2014-06-30T00:00:00",
          "2014-09-30T00:00:00",
          "2014-12-31T00:00:00",
          "2015-03-31T00:00:00",
          "2015-06-30T00:00:00",
          "2015-09-30T00:00:00",
          "2015-12-31T00:00:00",
          "2016-03-31T00:00:00",
          "2016-06-30T00:00:00",
          "2016-09-30T00:00:00",
          "2016-12-31T00:00:00",
          "2017-03-31T00:00:00",
          "2017-06-30T00:00:00",
          "2017-09-30T00:00:00",
          "2017-12-31T00:00:00",
          "2018-03-31T00:00:00",
          "2018-06-30T00:00:00",
          "2018-09-30T00:00:00",
          "2018-12-31T00:00:00",
          "2019-03-31T00:00:00",
          "2019-06-30T00:00:00",
          "2019-09-30T00:00:00",
          "2019-12-31T00:00:00",
          "2020-03-31T00:00:00",
          "2020-06-30T00:00:00",
          "2020-09-30T00:00:00",
          "2020-12-31T00:00:00"
         ],
         "y": [
          38188343,
          55827567,
          64032730,
          70450273,
          78274945,
          74338168,
          70892175,
          81257483,
          89665709,
          82504655,
          85363858,
          89062315,
          93217320,
          84790529,
          78747651,
          83474993,
          81168886,
          83399206,
          117043149,
          116369783,
          117147316,
          107886467,
          106288468,
          108374335,
          106004394,
          101835009,
          99471858,
          100578255,
          112934116,
          112522128,
          107778249,
          114737783,
          116168655,
          110516949,
          105704679,
          116442528,
          111502113,
          111490894,
          114495185,
          120937480,
          126588457,
          124570536,
          122617622,
          125322240,
          127116379,
          128838464,
          131788062,
          136676615,
          136254996,
          140012600,
          143400920,
          150588266,
          147507792,
          153577383,
          137337933,
          157314034,
          155791169,
          155862232,
          156144705,
          165748234,
          96099097,
          91090872,
          80535517,
          87704967,
          87747247,
          83417084,
          81620224,
          80542629,
          86508832,
          92227286,
          81488800,
          88438829,
          88972257,
          105357102,
          93676444,
          95927814,
          105218948,
          140542001,
          146795640,
          158447436,
          162127532,
          158911736,
          138654421,
          154760694,
          159280459,
          158660817,
          161426596,
          158527010,
          157304950,
          153554464,
          146504083,
          149325815,
          150188306,
          166503516,
          168298772,
          173660448,
          172038137,
          180667794,
          179725050,
          185029278,
          196544890,
          186883808,
          183266041,
          202477399,
          200240407,
          204761614,
          186054344,
          198710924,
          214846197,
          210888987,
          200006116,
          206331768,
          212553427,
          205091468,
          204424117,
          207425516,
          209635114,
          176710736,
          200795598,
          209231713
         ]
        },
        {
         "hoverinfo": "skip",
         "line": {
          "width": 0
         },
         "mode": "lines",
         "type": "scatter",
         "x": [
          "1991-03-31T00:00:00",
          "1991-06-30T00:00:00",
          "1991-09-30T00:00:00",
          "1991-12-31T00:00:00",
          "1992-03-31T00:00:00",
          "1992-06-30T00:00:00",
          "1992-09-30T00:00:00",
          "1992-12-31T00:00:00",
          "1993-03-31T00:00:00",
          "1993-06-30T00:00:00",
          "1993-09-30T00:00:00",
          "1993-12-31T00:00:00",
          "1994-03-31T00:00:00",
          "1994-06-30T00:00:00",
          "1994-09-30T00:00:00",
          "1994-12-31T00:00:00",
          "1995-03-31T00:00:00",
          "1995-06-30T00:00:00",
          "1995-09-30T00:00:00",
          "1995-12-31T00:00:00",
          "1996-03-31T00:00:00",
          "1996-06-30T00:00:00",
          "1996-09-30T00:00:00",
          "1996-12-31T00:00:00",
          "1997-03-31T00:00:00",
          "1997-06-30T00:00:00",
          "1997-09-30T00:00:00",
          "1997-12-31T00:00:00",
          "1998-03-31T00:00:00",
          "1998-06-30T00:00:00",
          "1998-09-30T00:00:00",
          "1998-12-31T00:00:00",
          "1999-03-31T00:00:00",
          "1999-06-30T00:00:00",
          "1999-09-30T00:00:00",
          "1999-12-31T00:00:00",
          "2000-03-31T00:00:00",
          "2000-06-30T00:00:00",
          "2000-09-30T00:00:00",
          "2000-12-31T00:00:00",
          "2001-03-31T00:00:00",
          "2001-06-30T00:00:00",
          "2001-09-30T00:00:00",
          "2001-12-31T00:00:00",
          "2002-03-31T00:00:00",
          "2002-06-30T00:00:00",
          "2002-09-30T00:00:00",
          "2002-12-31T00:00:00",
          "2003-03-31T00:00:00",
          "2003-06-30T00:00:00",
          "2003-09-30T00:00:00",
          "2003-12-31T00:00:00",
          "2004-03-31T00:00:00",
          "2004-06-30T00:00:00",
          "2004-09-30T00:00:00",
          "2004-12-31T00:00:00",
          "2005-03-31T00:00:00",
          "2005-06-30T00:00:00",
          "2005-09-30T00:00:00",
          "2005-12-31T00:00:00",
          "2006-03-31T00:00:00",
          "2006-06-30T00:00:00",
          "2006-09-30T00:00:00",
          "2006-12-31T00:00:00",
          "2007-03-31T00:00:00",
          "2007-06-30T00:00:00",
          "2007-09-30T00:00:00",
          "2007-12-31T00:00:00",
          "2008-03-31T00:00:00",
          "2008-06-30T00:00:00",
          "2008-09-30T00:00:00",
          "2008-12-31T00:00:00",
          "2009-03-31T00:00:00",
          "2009-06-30T00:00:00",
          "2009-09-30T00:00:00",
          "2009-12-31T00:00:00",
          "2010-03-31T00:00:00",
          "2010-06-30T00:00:00",
          "2010-09-30T00:00:00",
          "2010-12-31T00:00:00",
          "2011-03-31T00:00:00",
          "2011-06-30T00:00:00",
          "2011-09-30T00:00:00",
          "2011-12-31T00:00:00",
          "2012-03-31T00:00:00",
          "2012-06-30T00:00:00",
          "2012-09-30T00:00:00",
          "2012-12-31T00:00:00",
          "2013-03-31T00:00:00",
          "2013-06-30T00:00:00",
          "2013-09-30T00:00:00",
          "2013-12-31T00:00:00",
          "2014-03-31T00:00:00",
          "2014-06-30T00:00:00",
          "2014-09-30T00:00:00",
          "2014-12-31T00:00:00",
          "2015-03-31T00:00:00",
          "2015-06-30T00:00:00",
          "2015-09-30T00:00:00",
          "2015-12-31T00:00:00",
          "2016-03-31T00:00:00",
          "2016-06-30T00:00:00",
          "2016-09-30T00:00:00",
          "2016-12-31T00:00:00",
          "2017-03-31T00:00:00",
          "2017-06-30T00:00:00",
          "2017-09-30T00:00:00",
          "2017-12-31T00:00:00",
          "2018-03-31T00:00:00",
          "2018-06-30T00:00:00",
          "2018-09-30T00:00:00",
          "2018-12-31T00:00:00",
          "2019-03-31T00:00:00",
          "2019-06-30T00:00:00",
          "2019-09-30T00:00:00",
          "2019-12-31T00:00:00",
          "2020-03-31T00:00:00",
          "2020-06-30T00:00:00",
          "2020-09-30T00:00:00",
          "2020-12-31T00:00:00",
          "2021-03-31T00:00:00",
          "2021-06-30T00:00:00",
          "2021-09-30T00:00:00",
          "2021-12-31T00:00:00",
          "2022-03-31T00:00:00",
          "2022-06-30T00:00:00"
         ],
         "y": [
          35162228.376373634,
          44723988.96537038,
          49351904.37070446,
          59930928.10754321,
          67589594.97861725,
          66174879.07316333,
          65138148.056464165,
          74645059.9250528,
          76711382.75440192,
          76335892.97386257,
          75237264.4935388,
          82928286.47401889,
          77720985.14484224,
          75182258.44010869,
          69114781.585309,
          70088310.01167409,
          76250312.98112044,
          88174549.56398642,
          96576227.73295975,
          108969656.65556185,
          107958300.86447908,
          100386503.36845349,
          94375299.47608632,
          99651401.99418257,
          98220401.5181415,
          94197439.4121113,
          88713298.65548158,
          94579394.80194725,
          97038162.12586899,
          101490657.2392491,
          102904905.45442791,
          106232843.86474627,
          101385773.12681907,
          102297037.41560753,
          98970787.40608244,
          103857667.85276733,
          107964319.12617078,
          105021721.53267021,
          104241989.18038356,
          112148100.44597149,
          113440382.60998431,
          113897546.7592417,
          111672034.29881436,
          118825271.48738925,
          119743135.54229198,
          121568404.38377829,
          119806083.51633577,
          128392461.74317802,
          127740658.92269494,
          133206130.46324304,
          131867454.99618725,
          136534899.289881,
          139153573.16631934,
          136969042.82934523,
          137413981.49612972,
          150676299.4811642,
          155067269.52497184,
          157488755.44325742,
          136277920.75057533,
          122782720.79248144,
          102990776.86014675,
          84966451.37323433,
          79092844.00118482,
          79921182.10326426,
          74063774.68851529,
          72491818.98847991,
          72382674.90550214,
          78026698.68940671,
          79754390.99735582,
          75893462.38778542,
          72966072.86893876,
          80975612.17814119,
          81488644.57526839,
          85158166.65421368,
          87224061.5881078,
          100330519.71913369,
          104074265.82881916,
          117143729.49207662,
          125870017.40709533,
          143291063.15649247,
          152965379.22734484,
          152106538.5266739,
          147919219.52526549,
          147634147.49003536,
          146470440.04061085,
          144965992.60458732,
          143361134.99484652,
          153886945.16673034,
          150585971.65306422,
          143757170.7751507,
          136893817.1722693,
          138897398.43534866,
          145200166.30795577,
          154462099.7050964,
          161034333.4307781,
          174156953.67968938,
          173509184.66756067,
          176117384.71418735,
          174850200.66384262,
          179072119.38595644,
          181283698.991442,
          178940245.68244514,
          176039710.5283876,
          184792456.16399997,
          185042048.7548345,
          183805513.9820189,
          182278253.9007338,
          188998342.24115956,
          188865956.48466122,
          190002003.47923478,
          188079890.46340442,
          194110898.07754108,
          191686826.7622334,
          195545925.51732537,
          194492258.90357888,
          198849635.0206614,
          201331597.75399098,
          197760273.47545838,
          194530988.2401973,
          203319501.49105826,
          204852208.53176,
          201475081.0999482,
          197211473.01941603,
          200520989.25202882,
          191650701.02134854,
          181596690.03329664
         ]
        },
        {
         "fill": "tonexty",
         "fillcolor": "rgba(0, 114, 178, 0.2)",
         "line": {
          "color": "#0072B2",
          "width": 2
         },
         "mode": "lines",
         "name": "Predicted",
         "type": "scatter",
         "x": [
          "1991-03-31T00:00:00",
          "1991-06-30T00:00:00",
          "1991-09-30T00:00:00",
          "1991-12-31T00:00:00",
          "1992-03-31T00:00:00",
          "1992-06-30T00:00:00",
          "1992-09-30T00:00:00",
          "1992-12-31T00:00:00",
          "1993-03-31T00:00:00",
          "1993-06-30T00:00:00",
          "1993-09-30T00:00:00",
          "1993-12-31T00:00:00",
          "1994-03-31T00:00:00",
          "1994-06-30T00:00:00",
          "1994-09-30T00:00:00",
          "1994-12-31T00:00:00",
          "1995-03-31T00:00:00",
          "1995-06-30T00:00:00",
          "1995-09-30T00:00:00",
          "1995-12-31T00:00:00",
          "1996-03-31T00:00:00",
          "1996-06-30T00:00:00",
          "1996-09-30T00:00:00",
          "1996-12-31T00:00:00",
          "1997-03-31T00:00:00",
          "1997-06-30T00:00:00",
          "1997-09-30T00:00:00",
          "1997-12-31T00:00:00",
          "1998-03-31T00:00:00",
          "1998-06-30T00:00:00",
          "1998-09-30T00:00:00",
          "1998-12-31T00:00:00",
          "1999-03-31T00:00:00",
          "1999-06-30T00:00:00",
          "1999-09-30T00:00:00",
          "1999-12-31T00:00:00",
          "2000-03-31T00:00:00",
          "2000-06-30T00:00:00",
          "2000-09-30T00:00:00",
          "2000-12-31T00:00:00",
          "2001-03-31T00:00:00",
          "2001-06-30T00:00:00",
          "2001-09-30T00:00:00",
          "2001-12-31T00:00:00",
          "2002-03-31T00:00:00",
          "2002-06-30T00:00:00",
          "2002-09-30T00:00:00",
          "2002-12-31T00:00:00",
          "2003-03-31T00:00:00",
          "2003-06-30T00:00:00",
          "2003-09-30T00:00:00",
          "2003-12-31T00:00:00",
          "2004-03-31T00:00:00",
          "2004-06-30T00:00:00",
          "2004-09-30T00:00:00",
          "2004-12-31T00:00:00",
          "2005-03-31T00:00:00",
          "2005-06-30T00:00:00",
          "2005-09-30T00:00:00",
          "2005-12-31T00:00:00",
          "2006-03-31T00:00:00",
          "2006-06-30T00:00:00",
          "2006-09-30T00:00:00",
          "2006-12-31T00:00:00",
          "2007-03-31T00:00:00",
          "2007-06-30T00:00:00",
          "2007-09-30T00:00:00",
          "2007-12-31T00:00:00",
          "2008-03-31T00:00:00",
          "2008-06-30T00:00:00",
          "2008-09-30T00:00:00",
          "2008-12-31T00:00:00",
          "2009-03-31T00:00:00",
          "2009-06-30T00:00:00",
          "2009-09-30T00:00:00",
          "2009-12-31T00:00:00",
          "2010-03-31T00:00:00",
          "2010-06-30T00:00:00",
          "2010-09-30T00:00:00",
          "2010-12-31T00:00:00",
          "2011-03-31T00:00:00",
          "2011-06-30T00:00:00",
          "2011-09-30T00:00:00",
          "2011-12-31T00:00:00",
          "2012-03-31T00:00:00",
          "2012-06-30T00:00:00",
          "2012-09-30T00:00:00",
          "2012-12-31T00:00:00",
          "2013-03-31T00:00:00",
          "2013-06-30T00:00:00",
          "2013-09-30T00:00:00",
          "2013-12-31T00:00:00",
          "2014-03-31T00:00:00",
          "2014-06-30T00:00:00",
          "2014-09-30T00:00:00",
          "2014-12-31T00:00:00",
          "2015-03-31T00:00:00",
          "2015-06-30T00:00:00",
          "2015-09-30T00:00:00",
          "2015-12-31T00:00:00",
          "2016-03-31T00:00:00",
          "2016-06-30T00:00:00",
          "2016-09-30T00:00:00",
          "2016-12-31T00:00:00",
          "2017-03-31T00:00:00",
          "2017-06-30T00:00:00",
          "2017-09-30T00:00:00",
          "2017-12-31T00:00:00",
          "2018-03-31T00:00:00",
          "2018-06-30T00:00:00",
          "2018-09-30T00:00:00",
          "2018-12-31T00:00:00",
          "2019-03-31T00:00:00",
          "2019-06-30T00:00:00",
          "2019-09-30T00:00:00",
          "2019-12-31T00:00:00",
          "2020-03-31T00:00:00",
          "2020-06-30T00:00:00",
          "2020-09-30T00:00:00",
          "2020-12-31T00:00:00",
          "2021-03-31T00:00:00",
          "2021-06-30T00:00:00",
          "2021-09-30T00:00:00",
          "2021-12-31T00:00:00",
          "2022-03-31T00:00:00",
          "2022-06-30T00:00:00"
         ],
         "y": [
          44227346.90879847,
          53856125.95229273,
          58785658.21614198,
          69136547.52049917,
          77672867.15301266,
          75200126.7352651,
          73874709.74789128,
          83782347.32487586,
          85677630.80257908,
          85362180.3789791,
          84248123.6996316,
          92419854.71948886,
          87346488.74443677,
          84038094.44133407,
          77904955.97915731,
          79120274.82950671,
          85498624.27463906,
          97569346.73518124,
          104967656.95914395,
          117787324.22360447,
          116686743.9029644,
          109462749.74068467,
          103333867.4291588,
          108438039.68198402,
          107003684.12484668,
          103563115.0997608,
          99289597.8562711,
          104301868.31199242,
          106695253.58522815,
          110936574.43317549,
          112436115.02480133,
          115396897.75505248,
          110657830.08414738,
          111487608.57181095,
          107521447.9660429,
          112896095.35479113,
          116510262.65773067,
          114001016.11902197,
          112638691.84449613,
          121917632.43615307,
          123197886.25429219,
          122502088.93085659,
          121003505.71541753,
          128820276.04074585,
          128738672.97824407,
          130477505.62003437,
          129447058.13512507,
          136985492.80979994,
          136724562.9106008,
          142082236.25635567,
          141328396.22340143,
          145995913.23095366,
          148910636.35248822,
          145701945.63238674,
          147038353.55964923,
          159607816.05127326,
          164107058.6846039,
          166666016.71878535,
          144828416.28380397,
          132276603.54803061,
          112269212.70835432,
          93860859.93103902,
          87834197.34629226,
          89155992.07407813,
          82813566.57467374,
          82022172.14684087,
          81404608.81152683,
          86208402.51669878,
          89257921.06741384,
          85138707.28154534,
          82148723.81211795,
          90391794.90704201,
          90658698.13056603,
          94381917.72900444,
          97350912.06093769,
          109605694.09210837,
          113865624.22009446,
          126264312.54496771,
          136010862.01438573,
          153105868.79632783,
          162193759.4368446,
          161905709.8146793,
          156809437.27369332,
          157134521.77319682,
          155754012.7400408,
          153776900.34597325,
          152952557.84407133,
          163361269.9065392,
          159107180.8959922,
          152815548.04579908,
          145659636.60548267,
          147789512.8643952,
          154868006.45523232,
          163846492.37984928,
          170135254.8072403,
          183772474.54714772,
          181773227.98222476,
          185373270.0326367,
          184207815.44633102,
          188463717.90051824,
          190971300.53992397,
          187355469.33769327,
          184874400.1286375,
          193626385.48392507,
          194391139.6143139,
          193174114.82886556,
          191148576.3770945,
          198408825.62451875,
          197782799.7684223,
          198971160.4744726,
          197384191.9116498,
          203145680.66138262,
          201146434.09647352,
          204746476.14685637,
          203581021.56054336,
          207836924.0147456,
          210344506.65415376,
          206728675.45192122,
          204247606.24284896,
          212999591.5981567,
          213764345.72856247,
          212547320.94310012,
          210521782.4913156,
          217782031.7387457,
          217156005.88265252,
          218344366.58870697
         ]
        },
        {
         "fill": "tonexty",
         "fillcolor": "rgba(0, 114, 178, 0.2)",
         "hoverinfo": "skip",
         "line": {
          "width": 0
         },
         "mode": "lines",
         "type": "scatter",
         "x": [
          "1991-03-31T00:00:00",
          "1991-06-30T00:00:00",
          "1991-09-30T00:00:00",
          "1991-12-31T00:00:00",
          "1992-03-31T00:00:00",
          "1992-06-30T00:00:00",
          "1992-09-30T00:00:00",
          "1992-12-31T00:00:00",
          "1993-03-31T00:00:00",
          "1993-06-30T00:00:00",
          "1993-09-30T00:00:00",
          "1993-12-31T00:00:00",
          "1994-03-31T00:00:00",
          "1994-06-30T00:00:00",
          "1994-09-30T00:00:00",
          "1994-12-31T00:00:00",
          "1995-03-31T00:00:00",
          "1995-06-30T00:00:00",
          "1995-09-30T00:00:00",
          "1995-12-31T00:00:00",
          "1996-03-31T00:00:00",
          "1996-06-30T00:00:00",
          "1996-09-30T00:00:00",
          "1996-12-31T00:00:00",
          "1997-03-31T00:00:00",
          "1997-06-30T00:00:00",
          "1997-09-30T00:00:00",
          "1997-12-31T00:00:00",
          "1998-03-31T00:00:00",
          "1998-06-30T00:00:00",
          "1998-09-30T00:00:00",
          "1998-12-31T00:00:00",
          "1999-03-31T00:00:00",
          "1999-06-30T00:00:00",
          "1999-09-30T00:00:00",
          "1999-12-31T00:00:00",
          "2000-03-31T00:00:00",
          "2000-06-30T00:00:00",
          "2000-09-30T00:00:00",
          "2000-12-31T00:00:00",
          "2001-03-31T00:00:00",
          "2001-06-30T00:00:00",
          "2001-09-30T00:00:00",
          "2001-12-31T00:00:00",
          "2002-03-31T00:00:00",
          "2002-06-30T00:00:00",
          "2002-09-30T00:00:00",
          "2002-12-31T00:00:00",
          "2003-03-31T00:00:00",
          "2003-06-30T00:00:00",
          "2003-09-30T00:00:00",
          "2003-12-31T00:00:00",
          "2004-03-31T00:00:00",
          "2004-06-30T00:00:00",
          "2004-09-30T00:00:00",
          "2004-12-31T00:00:00",
          "2005-03-31T00:00:00",
          "2005-06-30T00:00:00",
          "2005-09-30T00:00:00",
          "2005-12-31T00:00:00",
          "2006-03-31T00:00:00",
          "2006-06-30T00:00:00",
          "2006-09-30T00:00:00",
          "2006-12-31T00:00:00",
          "2007-03-31T00:00:00",
          "2007-06-30T00:00:00",
          "2007-09-30T00:00:00",
          "2007-12-31T00:00:00",
          "2008-03-31T00:00:00",
          "2008-06-30T00:00:00",
          "2008-09-30T00:00:00",
          "2008-12-31T00:00:00",
          "2009-03-31T00:00:00",
          "2009-06-30T00:00:00",
          "2009-09-30T00:00:00",
          "2009-12-31T00:00:00",
          "2010-03-31T00:00:00",
          "2010-06-30T00:00:00",
          "2010-09-30T00:00:00",
          "2010-12-31T00:00:00",
          "2011-03-31T00:00:00",
          "2011-06-30T00:00:00",
          "2011-09-30T00:00:00",
          "2011-12-31T00:00:00",
          "2012-03-31T00:00:00",
          "2012-06-30T00:00:00",
          "2012-09-30T00:00:00",
          "2012-12-31T00:00:00",
          "2013-03-31T00:00:00",
          "2013-06-30T00:00:00",
          "2013-09-30T00:00:00",
          "2013-12-31T00:00:00",
          "2014-03-31T00:00:00",
          "2014-06-30T00:00:00",
          "2014-09-30T00:00:00",
          "2014-12-31T00:00:00",
          "2015-03-31T00:00:00",
          "2015-06-30T00:00:00",
          "2015-09-30T00:00:00",
          "2015-12-31T00:00:00",
          "2016-03-31T00:00:00",
          "2016-06-30T00:00:00",
          "2016-09-30T00:00:00",
          "2016-12-31T00:00:00",
          "2017-03-31T00:00:00",
          "2017-06-30T00:00:00",
          "2017-09-30T00:00:00",
          "2017-12-31T00:00:00",
          "2018-03-31T00:00:00",
          "2018-06-30T00:00:00",
          "2018-09-30T00:00:00",
          "2018-12-31T00:00:00",
          "2019-03-31T00:00:00",
          "2019-06-30T00:00:00",
          "2019-09-30T00:00:00",
          "2019-12-31T00:00:00",
          "2020-03-31T00:00:00",
          "2020-06-30T00:00:00",
          "2020-09-30T00:00:00",
          "2020-12-31T00:00:00",
          "2021-03-31T00:00:00",
          "2021-06-30T00:00:00",
          "2021-09-30T00:00:00",
          "2021-12-31T00:00:00",
          "2022-03-31T00:00:00",
          "2022-06-30T00:00:00"
         ],
         "y": [
          53360428.66303923,
          63569689.110524476,
          67809871.24248432,
          78829807.02770784,
          86565951.43218242,
          84384689.13918439,
          82429068.15453985,
          92830058.62511322,
          94456688.23099872,
          95282071.9965204,
          93427096.47841369,
          101013989.22529128,
          96312572.0380479,
          92936697.57339193,
          86977781.51956491,
          88739479.32324183,
          94347911.5486095,
          106521566.85934488,
          113781925.17163976,
          127702377.94142717,
          125778026.94261083,
          118637733.40201257,
          112735708.38855435,
          117181858.36095618,
          116428485.32867572,
          112600230.22654553,
          107886497.38957031,
          113652549.28037535,
          115646636.74705638,
          119671608.28756212,
          121752196.20379807,
          124698709.5350088,
          120240796.95613039,
          120555860.56755406,
          117040606.48091257,
          121674928.81474167,
          126224665.17086731,
          123527394.02391294,
          121692949.40934707,
          130829027.67322485,
          132519479.03485182,
          131871336.23583351,
          130262501.64661264,
          137233411.64911386,
          138023357.20128572,
          139237962.58573726,
          138530663.5765974,
          146317878.9076554,
          147077783.61060533,
          151783652.55864722,
          150884247.67913046,
          155416117.93443507,
          158230360.5680559,
          155289084.90387374,
          156140109.05087087,
          168374893.18496573,
          173310717.95707014,
          175595569.53759864,
          154151244.36113918,
          141297556.09031686,
          121309412.48528597,
          103315142.27150731,
          96905332.62735096,
          97951453.99621582,
          92715990.31193398,
          91428571.81290685,
          90938552.54037032,
          95630055.09806292,
          98599570.28053422,
          94040823.61569838,
          91636051.24967058,
          99521301.20444994,
          99660396.70185687,
          103099903.28582647,
          106300153.69527686,
          119011393.38046803,
          123015441.55117041,
          135375417.71893948,
          145310730.62828127,
          162242415.22723827,
          172149299.9660447,
          171047966.67501092,
          166023116.79165736,
          166021287.1911022,
          164852970.7281685,
          162678535.4828957,
          162451330.93223035,
          172271847.7530676,
          168893248.85079533,
          162169857.5514484,
          154953451.04259142,
          157082317.82234213,
          163818930.33861873,
          173495184.3574449,
          179138710.05468017,
          192906635.51343933,
          190970244.20124078,
          194981066.0105347,
          193035750.8694333,
          196826610.07521564,
          200739358.7707767,
          196920478.36503157,
          193609106.14150652,
          202973859.46906486,
          203886399.3938582,
          201961438.9585442,
          200103299.89434028,
          206169837.12339753,
          206636954.08911496,
          208391367.33069587,
          206943010.7520039,
          212127116.74610236,
          210478131.62200055,
          214295853.24193212,
          212911670.98348662,
          217288996.41810685,
          218800783.52786386,
          215850923.8535975,
          213231403.65407616,
          222505173.347484,
          223252641.3265336,
          223902776.3180599,
          225428364.2721029,
          241600077.29630134,
          252206181.50935826,
          263654808.1233103
         ]
        }
       ],
       "layout": {
        "height": 600,
        "showlegend": false,
        "template": {
         "data": {
          "bar": [
           {
            "error_x": {
             "color": "#2a3f5f"
            },
            "error_y": {
             "color": "#2a3f5f"
            },
            "marker": {
             "line": {
              "color": "#E5ECF6",
              "width": 0.5
             },
             "pattern": {
              "fillmode": "overlay",
              "size": 10,
              "solidity": 0.2
             }
            },
            "type": "bar"
           }
          ],
          "barpolar": [
           {
            "marker": {
             "line": {
              "color": "#E5ECF6",
              "width": 0.5
             },
             "pattern": {
              "fillmode": "overlay",
              "size": 10,
              "solidity": 0.2
             }
            },
            "type": "barpolar"
           }
          ],
          "carpet": [
           {
            "aaxis": {
             "endlinecolor": "#2a3f5f",
             "gridcolor": "white",
             "linecolor": "white",
             "minorgridcolor": "white",
             "startlinecolor": "#2a3f5f"
            },
            "baxis": {
             "endlinecolor": "#2a3f5f",
             "gridcolor": "white",
             "linecolor": "white",
             "minorgridcolor": "white",
             "startlinecolor": "#2a3f5f"
            },
            "type": "carpet"
           }
          ],
          "choropleth": [
           {
            "colorbar": {
             "outlinewidth": 0,
             "ticks": ""
            },
            "type": "choropleth"
           }
          ],
          "contour": [
           {
            "colorbar": {
             "outlinewidth": 0,
             "ticks": ""
            },
            "colorscale": [
             [
              0,
              "#0d0887"
             ],
             [
              0.1111111111111111,
              "#46039f"
             ],
             [
              0.2222222222222222,
              "#7201a8"
             ],
             [
              0.3333333333333333,
              "#9c179e"
             ],
             [
              0.4444444444444444,
              "#bd3786"
             ],
             [
              0.5555555555555556,
              "#d8576b"
             ],
             [
              0.6666666666666666,
              "#ed7953"
             ],
             [
              0.7777777777777778,
              "#fb9f3a"
             ],
             [
              0.8888888888888888,
              "#fdca26"
             ],
             [
              1,
              "#f0f921"
             ]
            ],
            "type": "contour"
           }
          ],
          "contourcarpet": [
           {
            "colorbar": {
             "outlinewidth": 0,
             "ticks": ""
            },
            "type": "contourcarpet"
           }
          ],
          "heatmap": [
           {
            "colorbar": {
             "outlinewidth": 0,
             "ticks": ""
            },
            "colorscale": [
             [
              0,
              "#0d0887"
             ],
             [
              0.1111111111111111,
              "#46039f"
             ],
             [
              0.2222222222222222,
              "#7201a8"
             ],
             [
              0.3333333333333333,
              "#9c179e"
             ],
             [
              0.4444444444444444,
              "#bd3786"
             ],
             [
              0.5555555555555556,
              "#d8576b"
             ],
             [
              0.6666666666666666,
              "#ed7953"
             ],
             [
              0.7777777777777778,
              "#fb9f3a"
             ],
             [
              0.8888888888888888,
              "#fdca26"
             ],
             [
              1,
              "#f0f921"
             ]
            ],
            "type": "heatmap"
           }
          ],
          "heatmapgl": [
           {
            "colorbar": {
             "outlinewidth": 0,
             "ticks": ""
            },
            "colorscale": [
             [
              0,
              "#0d0887"
             ],
             [
              0.1111111111111111,
              "#46039f"
             ],
             [
              0.2222222222222222,
              "#7201a8"
             ],
             [
              0.3333333333333333,
              "#9c179e"
             ],
             [
              0.4444444444444444,
              "#bd3786"
             ],
             [
              0.5555555555555556,
              "#d8576b"
             ],
             [
              0.6666666666666666,
              "#ed7953"
             ],
             [
              0.7777777777777778,
              "#fb9f3a"
             ],
             [
              0.8888888888888888,
              "#fdca26"
             ],
             [
              1,
              "#f0f921"
             ]
            ],
            "type": "heatmapgl"
           }
          ],
          "histogram": [
           {
            "marker": {
             "pattern": {
              "fillmode": "overlay",
              "size": 10,
              "solidity": 0.2
             }
            },
            "type": "histogram"
           }
          ],
          "histogram2d": [
           {
            "colorbar": {
             "outlinewidth": 0,
             "ticks": ""
            },
            "colorscale": [
             [
              0,
              "#0d0887"
             ],
             [
              0.1111111111111111,
              "#46039f"
             ],
             [
              0.2222222222222222,
              "#7201a8"
             ],
             [
              0.3333333333333333,
              "#9c179e"
             ],
             [
              0.4444444444444444,
              "#bd3786"
             ],
             [
              0.5555555555555556,
              "#d8576b"
             ],
             [
              0.6666666666666666,
              "#ed7953"
             ],
             [
              0.7777777777777778,
              "#fb9f3a"
             ],
             [
              0.8888888888888888,
              "#fdca26"
             ],
             [
              1,
              "#f0f921"
             ]
            ],
            "type": "histogram2d"
           }
          ],
          "histogram2dcontour": [
           {
            "colorbar": {
             "outlinewidth": 0,
             "ticks": ""
            },
            "colorscale": [
             [
              0,
              "#0d0887"
             ],
             [
              0.1111111111111111,
              "#46039f"
             ],
             [
              0.2222222222222222,
              "#7201a8"
             ],
             [
              0.3333333333333333,
              "#9c179e"
             ],
             [
              0.4444444444444444,
              "#bd3786"
             ],
             [
              0.5555555555555556,
              "#d8576b"
             ],
             [
              0.6666666666666666,
              "#ed7953"
             ],
             [
              0.7777777777777778,
              "#fb9f3a"
             ],
             [
              0.8888888888888888,
              "#fdca26"
             ],
             [
              1,
              "#f0f921"
             ]
            ],
            "type": "histogram2dcontour"
           }
          ],
          "mesh3d": [
           {
            "colorbar": {
             "outlinewidth": 0,
             "ticks": ""
            },
            "type": "mesh3d"
           }
          ],
          "parcoords": [
           {
            "line": {
             "colorbar": {
              "outlinewidth": 0,
              "ticks": ""
             }
            },
            "type": "parcoords"
           }
          ],
          "pie": [
           {
            "automargin": true,
            "type": "pie"
           }
          ],
          "scatter": [
           {
            "fillpattern": {
             "fillmode": "overlay",
             "size": 10,
             "solidity": 0.2
            },
            "type": "scatter"
           }
          ],
          "scatter3d": [
           {
            "line": {
             "colorbar": {
              "outlinewidth": 0,
              "ticks": ""
             }
            },
            "marker": {
             "colorbar": {
              "outlinewidth": 0,
              "ticks": ""
             }
            },
            "type": "scatter3d"
           }
          ],
          "scattercarpet": [
           {
            "marker": {
             "colorbar": {
              "outlinewidth": 0,
              "ticks": ""
             }
            },
            "type": "scattercarpet"
           }
          ],
          "scattergeo": [
           {
            "marker": {
             "colorbar": {
              "outlinewidth": 0,
              "ticks": ""
             }
            },
            "type": "scattergeo"
           }
          ],
          "scattergl": [
           {
            "marker": {
             "colorbar": {
              "outlinewidth": 0,
              "ticks": ""
             }
            },
            "type": "scattergl"
           }
          ],
          "scattermapbox": [
           {
            "marker": {
             "colorbar": {
              "outlinewidth": 0,
              "ticks": ""
             }
            },
            "type": "scattermapbox"
           }
          ],
          "scatterpolar": [
           {
            "marker": {
             "colorbar": {
              "outlinewidth": 0,
              "ticks": ""
             }
            },
            "type": "scatterpolar"
           }
          ],
          "scatterpolargl": [
           {
            "marker": {
             "colorbar": {
              "outlinewidth": 0,
              "ticks": ""
             }
            },
            "type": "scatterpolargl"
           }
          ],
          "scatterternary": [
           {
            "marker": {
             "colorbar": {
              "outlinewidth": 0,
              "ticks": ""
             }
            },
            "type": "scatterternary"
           }
          ],
          "surface": [
           {
            "colorbar": {
             "outlinewidth": 0,
             "ticks": ""
            },
            "colorscale": [
             [
              0,
              "#0d0887"
             ],
             [
              0.1111111111111111,
              "#46039f"
             ],
             [
              0.2222222222222222,
              "#7201a8"
             ],
             [
              0.3333333333333333,
              "#9c179e"
             ],
             [
              0.4444444444444444,
              "#bd3786"
             ],
             [
              0.5555555555555556,
              "#d8576b"
             ],
             [
              0.6666666666666666,
              "#ed7953"
             ],
             [
              0.7777777777777778,
              "#fb9f3a"
             ],
             [
              0.8888888888888888,
              "#fdca26"
             ],
             [
              1,
              "#f0f921"
             ]
            ],
            "type": "surface"
           }
          ],
          "table": [
           {
            "cells": {
             "fill": {
              "color": "#EBF0F8"
             },
             "line": {
              "color": "white"
             }
            },
            "header": {
             "fill": {
              "color": "#C8D4E3"
             },
             "line": {
              "color": "white"
             }
            },
            "type": "table"
           }
          ]
         },
         "layout": {
          "annotationdefaults": {
           "arrowcolor": "#2a3f5f",
           "arrowhead": 0,
           "arrowwidth": 1
          },
          "autotypenumbers": "strict",
          "coloraxis": {
           "colorbar": {
            "outlinewidth": 0,
            "ticks": ""
           }
          },
          "colorscale": {
           "diverging": [
            [
             0,
             "#8e0152"
            ],
            [
             0.1,
             "#c51b7d"
            ],
            [
             0.2,
             "#de77ae"
            ],
            [
             0.3,
             "#f1b6da"
            ],
            [
             0.4,
             "#fde0ef"
            ],
            [
             0.5,
             "#f7f7f7"
            ],
            [
             0.6,
             "#e6f5d0"
            ],
            [
             0.7,
             "#b8e186"
            ],
            [
             0.8,
             "#7fbc41"
            ],
            [
             0.9,
             "#4d9221"
            ],
            [
             1,
             "#276419"
            ]
           ],
           "sequential": [
            [
             0,
             "#0d0887"
            ],
            [
             0.1111111111111111,
             "#46039f"
            ],
            [
             0.2222222222222222,
             "#7201a8"
            ],
            [
             0.3333333333333333,
             "#9c179e"
            ],
            [
             0.4444444444444444,
             "#bd3786"
            ],
            [
             0.5555555555555556,
             "#d8576b"
            ],
            [
             0.6666666666666666,
             "#ed7953"
            ],
            [
             0.7777777777777778,
             "#fb9f3a"
            ],
            [
             0.8888888888888888,
             "#fdca26"
            ],
            [
             1,
             "#f0f921"
            ]
           ],
           "sequentialminus": [
            [
             0,
             "#0d0887"
            ],
            [
             0.1111111111111111,
             "#46039f"
            ],
            [
             0.2222222222222222,
             "#7201a8"
            ],
            [
             0.3333333333333333,
             "#9c179e"
            ],
            [
             0.4444444444444444,
             "#bd3786"
            ],
            [
             0.5555555555555556,
             "#d8576b"
            ],
            [
             0.6666666666666666,
             "#ed7953"
            ],
            [
             0.7777777777777778,
             "#fb9f3a"
            ],
            [
             0.8888888888888888,
             "#fdca26"
            ],
            [
             1,
             "#f0f921"
            ]
           ]
          },
          "colorway": [
           "#636efa",
           "#EF553B",
           "#00cc96",
           "#ab63fa",
           "#FFA15A",
           "#19d3f3",
           "#FF6692",
           "#B6E880",
           "#FF97FF",
           "#FECB52"
          ],
          "font": {
           "color": "#2a3f5f"
          },
          "geo": {
           "bgcolor": "white",
           "lakecolor": "white",
           "landcolor": "#E5ECF6",
           "showlakes": true,
           "showland": true,
           "subunitcolor": "white"
          },
          "hoverlabel": {
           "align": "left"
          },
          "hovermode": "closest",
          "mapbox": {
           "style": "light"
          },
          "paper_bgcolor": "white",
          "plot_bgcolor": "#E5ECF6",
          "polar": {
           "angularaxis": {
            "gridcolor": "white",
            "linecolor": "white",
            "ticks": ""
           },
           "bgcolor": "#E5ECF6",
           "radialaxis": {
            "gridcolor": "white",
            "linecolor": "white",
            "ticks": ""
           }
          },
          "scene": {
           "xaxis": {
            "backgroundcolor": "#E5ECF6",
            "gridcolor": "white",
            "gridwidth": 2,
            "linecolor": "white",
            "showbackground": true,
            "ticks": "",
            "zerolinecolor": "white"
           },
           "yaxis": {
            "backgroundcolor": "#E5ECF6",
            "gridcolor": "white",
            "gridwidth": 2,
            "linecolor": "white",
            "showbackground": true,
            "ticks": "",
            "zerolinecolor": "white"
           },
           "zaxis": {
            "backgroundcolor": "#E5ECF6",
            "gridcolor": "white",
            "gridwidth": 2,
            "linecolor": "white",
            "showbackground": true,
            "ticks": "",
            "zerolinecolor": "white"
           }
          },
          "shapedefaults": {
           "line": {
            "color": "#2a3f5f"
           }
          },
          "ternary": {
           "aaxis": {
            "gridcolor": "white",
            "linecolor": "white",
            "ticks": ""
           },
           "baxis": {
            "gridcolor": "white",
            "linecolor": "white",
            "ticks": ""
           },
           "bgcolor": "#E5ECF6",
           "caxis": {
            "gridcolor": "white",
            "linecolor": "white",
            "ticks": ""
           }
          },
          "title": {
           "x": 0.05
          },
          "xaxis": {
           "automargin": true,
           "gridcolor": "white",
           "linecolor": "white",
           "ticks": "",
           "title": {
            "standoff": 15
           },
           "zerolinecolor": "white",
           "zerolinewidth": 2
          },
          "yaxis": {
           "automargin": true,
           "gridcolor": "white",
           "linecolor": "white",
           "ticks": "",
           "title": {
            "standoff": 15
           },
           "zerolinecolor": "white",
           "zerolinewidth": 2
          }
         }
        },
        "width": 900,
        "xaxis": {
         "rangeselector": {
          "buttons": [
           {
            "count": 7,
            "label": "1w",
            "step": "day",
            "stepmode": "backward"
           },
           {
            "count": 1,
            "label": "1m",
            "step": "month",
            "stepmode": "backward"
           },
           {
            "count": 6,
            "label": "6m",
            "step": "month",
            "stepmode": "backward"
           },
           {
            "count": 1,
            "label": "1y",
            "step": "year",
            "stepmode": "backward"
           },
           {
            "step": "all"
           }
          ]
         },
         "rangeslider": {
          "visible": true
         },
         "title": {
          "text": "ds"
         },
         "type": "date"
        },
        "yaxis": {
         "title": {
          "text": "y"
         }
        }
       }
      }
     },
     "metadata": {},
     "output_type": "display_data"
    },
    {
     "name": "stdout",
     "output_type": "stream",
     "text": [
      "The train SMAPE is 1.89% and the test SMAPE is 2.44%\n"
     ]
    }
   ],
   "source": [
    "start = '03/31/1991'\n",
    "end = '12/31/2020'\n",
    "\n",
    "start = pd.to_datetime(start)\n",
    "end = pd.to_datetime(end)\n",
    "\n",
    "for x in [1,1000]:\n",
    "    predict_df = summary_df.copy(deep=True)\n",
    "    predict_df.reset_index(inplace=True,names=['date'])\n",
    "    predict_df['date'] = pd.to_datetime(predict_df['date'])\n",
    "    prophet_train = predict_df.loc[predict_df['date'] <= end]\n",
    "    prophet_test = predict_df.loc[predict_df['date'] > end]\n",
    "    prophet_train = prophet_train.loc[prophet_train['date'] >= start]\n",
    "    prophet_train.rename(columns={\"date\": \"ds\", 'Prescriptions': \"y\"}, inplace=True)\n",
    "    prophet_test.rename(columns={\"date\": \"ds\", 'Prescriptions': \"y\"}, inplace=True)\n",
    "    model = Prophet(yearly_seasonality=4,changepoint_prior_scale=(.5*x))\n",
    "    model.fit(prophet_train)\n",
    "    future = model.make_future_dataframe(periods=(len(predict_df)-len(predict_df.loc[predict_df['date'] <= end])), freq=\"Q\", include_history=True)\n",
    "    forecast = model.predict(future)\n",
    "    fig = plot_plotly(model, forecast)\n",
    "    fig.show()\n",
    "    predict_train = forecast['yhat'][0:len(model.history)]\n",
    "    predict_test = forecast['yhat'][len(model.history):]\n",
    "    real_train = predict_df['Prescriptions'][0:len(model.history)]\n",
    "    real_test = predict_df['Prescriptions'][len(model.history):]\n",
    "\n",
    "    train_smape = symmetric_mean_absolute_percentage_error(real_train, predict_train)\n",
    "    test_smape = symmetric_mean_absolute_percentage_error(real_test, predict_test)\n",
    "    print(f\"The train SMAPE is {train_smape}% and the test SMAPE is {test_smape}%\")"
   ]
  },
  {
   "attachments": {},
   "cell_type": "markdown",
   "metadata": {},
   "source": [
    "# CNN"
   ]
  }
 ],
 "metadata": {
  "kernelspec": {
   "display_name": "AKStandard",
   "language": "python",
   "name": "python3"
  },
  "language_info": {
   "codemirror_mode": {
    "name": "ipython",
    "version": 3
   },
   "file_extension": ".py",
   "mimetype": "text/x-python",
   "name": "python",
   "nbconvert_exporter": "python",
   "pygments_lexer": "ipython3",
   "version": "3.10.8"
  },
  "orig_nbformat": 4
 },
 "nbformat": 4,
 "nbformat_minor": 2
}
