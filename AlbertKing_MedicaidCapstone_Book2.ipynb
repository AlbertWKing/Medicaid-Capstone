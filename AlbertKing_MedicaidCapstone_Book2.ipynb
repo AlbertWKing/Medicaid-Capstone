{
 "cells": [
  {
   "cell_type": "markdown",
   "metadata": {},
   "source": [
    "# Forecasting Medicaid Prescription Drug Demand\n",
    "*Capstone project for BrainStation Data Science diploma*\n",
    "\n",
    "Author - Albert King<br>\n",
    "Last Modified - 11 April 2023<br>\n",
    "Contact - awkchemistry@gmail.com<br>"
   ]
  },
  {
   "attachments": {},
   "cell_type": "markdown",
   "metadata": {},
   "source": [
    "## Notebook 2\n",
    "\n",
    "Drug shortages directly contribute to preventable deaths, drug stockpiling and rationing by hospitals and governments, and inflated drug costs. In effort to characterize the situation of current drug shortages, this project looks at reported US Medicaid drug claims by states for years 1991-2022, the most recent data currently available. In combination with the FDA's current list of shortages and anticipated shortages, time series analysis is used to forecast future demand.\n",
    "\n",
    "This project is divided into 4 Jupyter notebooks:\n",
    "\n",
    "- Notebook 1 imports Medicaid data into a MySQL database, explores and cleans prescription data, and prepares a list of drugs common to the Medicaid data and current FDA shortages.\n",
    "- Notebook 2 explores and models the prescription data aggregated to total prescriptions per year nationwide. Fitting is accomplished through ARIMA and Facebook Prophet models.\n",
    "- Notebook 3 models the data using an ARIMA multiple-point output convolutional neural network (CNN). It is separate due incompatabilities between the environments used for Notebooks 1, 2, and 4 with TensorFlow/Keras.\n",
    "- Notebook 4 ingests, cleans, models, and forecasts prescription demand for individual drugs en masse.\n",
    "\n",
    "Medicaid datasets were downloaded locally as CSV files from https://data.medicaid.gov/datasets?theme%5B0%5D=State+Drug+Utilization for all years available. The CSV files were brought into MySQL initially using command line as MySQLWorkbench was not able to handle the size of the files. This method is recreated below so as to aggregate methods into Jupyter notebooks, though the initial command line code is included in an appendix. Current drug shortages were downloaded from https://www.accessdata.fda.gov/scripts/drugshortages/default.cfm as CSV files.\n",
    "\n",
    "Raw data area available at https://1drv.ms/f/s!Ah-g64c_vUtNoCNJ86SVWQk5qyoh?e=GNFof6.\n",
    "\n",
    "## Aggregate Data Fitting\n",
    "\n",
    "This notebook imports processed Medicaid data from notebook 1 and applies ARIMA and Facebook Prophet models to fit aggregate nationwide prescription demand. Notebook 3 continues this process using a NN. Summary of the results is described in this notebook. Methodology is summarized in the capstone summary PDF document."
   ]
  },
  {
   "attachments": {},
   "cell_type": "markdown",
   "metadata": {},
   "source": [
    "## Table of Contents\n",
    "\n",
    "- [Imports](#imports)\n",
    "- [Decompositon](#decomposition)\n",
    "- [Baseline Determination](#baseline-determination)\n",
    "- [ARIMA Model](#arima-model)\n",
    "- [Facebook Prophet](#facebook-prophet)\n",
    "- [Multiple-Output RNN](#multiple-output-rnn)\n",
    "- [Conclusions](#conclusions)"
   ]
  },
  {
   "attachments": {},
   "cell_type": "markdown",
   "metadata": {},
   "source": [
    "## Imports\n",
    "\n",
    "Notebook imports are listed below."
   ]
  },
  {
   "cell_type": "code",
   "execution_count": 42,
   "metadata": {},
   "outputs": [],
   "source": [
    "import pandas as pd\n",
    "import seaborn as sns\n",
    "import numpy as np\n",
    "\n",
    "from statsmodels.tsa.statespace.sarimax import SARIMAX\n",
    "from statsmodels.graphics.tsaplots import plot_acf, plot_pacf\n",
    "from pandas.tseries.offsets import QuarterEnd\n",
    "from statsmodels.api import tsa\n",
    "\n",
    "import matplotlib.pyplot as plt\n",
    "import plotly.graph_objects as go\n",
    "import plotly.express as px\n",
    "from plotly.subplots import make_subplots\n",
    "\n",
    "from prophet import Prophet\n",
    "from prophet.plot import plot_plotly\n",
    "\n",
    "# warnings occur due to SARIMAX fitting - they are silenced here for clarity.\n",
    "# WARNING WARNING WARNING\n",
    "import warnings\n",
    "warnings.filterwarnings(\"ignore\")\n",
    "# WARNING WARNING WARNING"
   ]
  },
  {
   "attachments": {},
   "cell_type": "markdown",
   "metadata": {},
   "source": [
    "Example data from Notebook 1, quarterly prescriptions by state and year, will be imported for fitting in this notebook."
   ]
  },
  {
   "cell_type": "code",
   "execution_count": 43,
   "metadata": {},
   "outputs": [
    {
     "data": {
      "text/html": [
       "<div>\n",
       "<style scoped>\n",
       "    .dataframe tbody tr th:only-of-type {\n",
       "        vertical-align: middle;\n",
       "    }\n",
       "\n",
       "    .dataframe tbody tr th {\n",
       "        vertical-align: top;\n",
       "    }\n",
       "\n",
       "    .dataframe thead th {\n",
       "        text-align: right;\n",
       "    }\n",
       "</style>\n",
       "<table border=\"1\" class=\"dataframe\">\n",
       "  <thead>\n",
       "    <tr style=\"text-align: right;\">\n",
       "      <th></th>\n",
       "      <th>AK</th>\n",
       "      <th>AL</th>\n",
       "      <th>AZ</th>\n",
       "      <th>AR</th>\n",
       "      <th>CA</th>\n",
       "      <th>CO</th>\n",
       "      <th>CT</th>\n",
       "      <th>DE</th>\n",
       "      <th>DC</th>\n",
       "      <th>FL</th>\n",
       "      <th>...</th>\n",
       "      <th>SD</th>\n",
       "      <th>TN</th>\n",
       "      <th>TX</th>\n",
       "      <th>UT</th>\n",
       "      <th>VT</th>\n",
       "      <th>VA</th>\n",
       "      <th>WA</th>\n",
       "      <th>WV</th>\n",
       "      <th>WI</th>\n",
       "      <th>WY</th>\n",
       "    </tr>\n",
       "  </thead>\n",
       "  <tbody>\n",
       "    <tr>\n",
       "      <th>03/31/1991</th>\n",
       "      <td>44447.0</td>\n",
       "      <td>541209.0</td>\n",
       "      <td>NaN</td>\n",
       "      <td>905764.0</td>\n",
       "      <td>6200227.0</td>\n",
       "      <td>379533.0</td>\n",
       "      <td>454890.0</td>\n",
       "      <td>58932.0</td>\n",
       "      <td>130940.0</td>\n",
       "      <td>2489054.0</td>\n",
       "      <td>...</td>\n",
       "      <td>59310.0</td>\n",
       "      <td>1530412.0</td>\n",
       "      <td>2118592.0</td>\n",
       "      <td>NaN</td>\n",
       "      <td>128515.0</td>\n",
       "      <td>1069960.0</td>\n",
       "      <td>893352.0</td>\n",
       "      <td>NaN</td>\n",
       "      <td>747579.0</td>\n",
       "      <td>38003.0</td>\n",
       "    </tr>\n",
       "    <tr>\n",
       "      <th>06/30/1991</th>\n",
       "      <td>64671.0</td>\n",
       "      <td>908574.0</td>\n",
       "      <td>NaN</td>\n",
       "      <td>904910.0</td>\n",
       "      <td>7569682.0</td>\n",
       "      <td>559830.0</td>\n",
       "      <td>950321.0</td>\n",
       "      <td>NaN</td>\n",
       "      <td>180563.0</td>\n",
       "      <td>3393291.0</td>\n",
       "      <td>...</td>\n",
       "      <td>122473.0</td>\n",
       "      <td>2044949.0</td>\n",
       "      <td>3066577.0</td>\n",
       "      <td>303904.0</td>\n",
       "      <td>193322.0</td>\n",
       "      <td>1482027.0</td>\n",
       "      <td>1264073.0</td>\n",
       "      <td>790213.0</td>\n",
       "      <td>1181954.0</td>\n",
       "      <td>75244.0</td>\n",
       "    </tr>\n",
       "    <tr>\n",
       "      <th>09/30/1991</th>\n",
       "      <td>78263.0</td>\n",
       "      <td>1055462.0</td>\n",
       "      <td>NaN</td>\n",
       "      <td>913206.0</td>\n",
       "      <td>9900547.0</td>\n",
       "      <td>541989.0</td>\n",
       "      <td>665685.0</td>\n",
       "      <td>106161.0</td>\n",
       "      <td>195679.0</td>\n",
       "      <td>3206257.0</td>\n",
       "      <td>...</td>\n",
       "      <td>114451.0</td>\n",
       "      <td>2119905.0</td>\n",
       "      <td>3447844.0</td>\n",
       "      <td>281662.0</td>\n",
       "      <td>207355.0</td>\n",
       "      <td>1407907.0</td>\n",
       "      <td>1294843.0</td>\n",
       "      <td>751653.0</td>\n",
       "      <td>1418717.0</td>\n",
       "      <td>65111.0</td>\n",
       "    </tr>\n",
       "    <tr>\n",
       "      <th>12/31/1991</th>\n",
       "      <td>88664.0</td>\n",
       "      <td>1329204.0</td>\n",
       "      <td>NaN</td>\n",
       "      <td>970455.0</td>\n",
       "      <td>8893709.0</td>\n",
       "      <td>571188.0</td>\n",
       "      <td>816080.0</td>\n",
       "      <td>110418.0</td>\n",
       "      <td>200222.0</td>\n",
       "      <td>3938687.0</td>\n",
       "      <td>...</td>\n",
       "      <td>122966.0</td>\n",
       "      <td>2298385.0</td>\n",
       "      <td>3524320.0</td>\n",
       "      <td>348601.0</td>\n",
       "      <td>189977.0</td>\n",
       "      <td>1654946.0</td>\n",
       "      <td>1611392.0</td>\n",
       "      <td>719667.0</td>\n",
       "      <td>1898152.0</td>\n",
       "      <td>78369.0</td>\n",
       "    </tr>\n",
       "    <tr>\n",
       "      <th>03/31/1992</th>\n",
       "      <td>85188.0</td>\n",
       "      <td>1560547.0</td>\n",
       "      <td>NaN</td>\n",
       "      <td>906149.0</td>\n",
       "      <td>11371060.0</td>\n",
       "      <td>578758.0</td>\n",
       "      <td>718913.0</td>\n",
       "      <td>131572.0</td>\n",
       "      <td>202459.0</td>\n",
       "      <td>3841718.0</td>\n",
       "      <td>...</td>\n",
       "      <td>143393.0</td>\n",
       "      <td>2514538.0</td>\n",
       "      <td>4221591.0</td>\n",
       "      <td>370368.0</td>\n",
       "      <td>210985.0</td>\n",
       "      <td>1754570.0</td>\n",
       "      <td>1835231.0</td>\n",
       "      <td>785094.0</td>\n",
       "      <td>1985105.0</td>\n",
       "      <td>61453.0</td>\n",
       "    </tr>\n",
       "  </tbody>\n",
       "</table>\n",
       "<p>5 rows × 51 columns</p>\n",
       "</div>"
      ],
      "text/plain": [
       "                 AK         AL  AZ        AR          CA        CO        CT  \\\n",
       "03/31/1991  44447.0   541209.0 NaN  905764.0   6200227.0  379533.0  454890.0   \n",
       "06/30/1991  64671.0   908574.0 NaN  904910.0   7569682.0  559830.0  950321.0   \n",
       "09/30/1991  78263.0  1055462.0 NaN  913206.0   9900547.0  541989.0  665685.0   \n",
       "12/31/1991  88664.0  1329204.0 NaN  970455.0   8893709.0  571188.0  816080.0   \n",
       "03/31/1992  85188.0  1560547.0 NaN  906149.0  11371060.0  578758.0  718913.0   \n",
       "\n",
       "                  DE        DC         FL  ...        SD         TN  \\\n",
       "03/31/1991   58932.0  130940.0  2489054.0  ...   59310.0  1530412.0   \n",
       "06/30/1991       NaN  180563.0  3393291.0  ...  122473.0  2044949.0   \n",
       "09/30/1991  106161.0  195679.0  3206257.0  ...  114451.0  2119905.0   \n",
       "12/31/1991  110418.0  200222.0  3938687.0  ...  122966.0  2298385.0   \n",
       "03/31/1992  131572.0  202459.0  3841718.0  ...  143393.0  2514538.0   \n",
       "\n",
       "                   TX        UT        VT         VA         WA        WV  \\\n",
       "03/31/1991  2118592.0       NaN  128515.0  1069960.0   893352.0       NaN   \n",
       "06/30/1991  3066577.0  303904.0  193322.0  1482027.0  1264073.0  790213.0   \n",
       "09/30/1991  3447844.0  281662.0  207355.0  1407907.0  1294843.0  751653.0   \n",
       "12/31/1991  3524320.0  348601.0  189977.0  1654946.0  1611392.0  719667.0   \n",
       "03/31/1992  4221591.0  370368.0  210985.0  1754570.0  1835231.0  785094.0   \n",
       "\n",
       "                   WI       WY  \n",
       "03/31/1991   747579.0  38003.0  \n",
       "06/30/1991  1181954.0  75244.0  \n",
       "09/30/1991  1418717.0  65111.0  \n",
       "12/31/1991  1898152.0  78369.0  \n",
       "03/31/1992  1985105.0  61453.0  \n",
       "\n",
       "[5 rows x 51 columns]"
      ]
     },
     "execution_count": 43,
     "metadata": {},
     "output_type": "execute_result"
    }
   ],
   "source": [
    "# import data exported from Book 1\n",
    "parent_df = pd.read_csv('data/quarterly_prescriptions.csv',index_col=0).T\n",
    "\n",
    "# make sure data look as expected\n",
    "parent_df.head()"
   ]
  },
  {
   "attachments": {},
   "cell_type": "markdown",
   "metadata": {},
   "source": [
    "The data look as expected from Notebook 1. In order to fit nationwide data, the states' data will be summed below."
   ]
  },
  {
   "cell_type": "code",
   "execution_count": 44,
   "metadata": {},
   "outputs": [],
   "source": [
    "# find total for each date\n",
    "\n",
    "# instantiate empty dict \n",
    "summary_dict = {}\n",
    "\n",
    "# loop through rows\n",
    "for i in parent_df.index:\n",
    "    # for each date add sum of that quarter to dict\n",
    "    summary_dict[i] = parent_df.loc[i].sum()\n",
    "\n",
    "# convert to a dataframe\n",
    "summary_df = pd.DataFrame.from_dict(summary_dict, orient='index', columns=['Prescriptions'])\n",
    "\n",
    "# ensure that index is datetime type\n",
    "summary_df.index = pd.to_datetime(summary_df.index)"
   ]
  },
  {
   "attachments": {},
   "cell_type": "markdown",
   "metadata": {},
   "source": [
    "The data can be visualized as below."
   ]
  },
  {
   "cell_type": "code",
   "execution_count": 45,
   "metadata": {},
   "outputs": [
    {
     "data": {
      "application/vnd.plotly.v1+json": {
       "config": {
        "plotlyServerURL": "https://plot.ly"
       },
       "data": [
        {
         "mode": "markers",
         "type": "scatter",
         "x": [
          "1991-03-31T00:00:00",
          "1991-06-30T00:00:00",
          "1991-09-30T00:00:00",
          "1991-12-31T00:00:00",
          "1992-03-31T00:00:00",
          "1992-06-30T00:00:00",
          "1992-09-30T00:00:00",
          "1992-12-31T00:00:00",
          "1993-03-31T00:00:00",
          "1993-06-30T00:00:00",
          "1993-09-30T00:00:00",
          "1993-12-31T00:00:00",
          "1994-03-31T00:00:00",
          "1994-06-30T00:00:00",
          "1994-09-30T00:00:00",
          "1994-12-31T00:00:00",
          "1995-03-31T00:00:00",
          "1995-06-30T00:00:00",
          "1995-09-30T00:00:00",
          "1995-12-31T00:00:00",
          "1996-03-31T00:00:00",
          "1996-06-30T00:00:00",
          "1996-09-30T00:00:00",
          "1996-12-31T00:00:00",
          "1997-03-31T00:00:00",
          "1997-06-30T00:00:00",
          "1997-09-30T00:00:00",
          "1997-12-31T00:00:00",
          "1998-03-31T00:00:00",
          "1998-06-30T00:00:00",
          "1998-09-30T00:00:00",
          "1998-12-31T00:00:00",
          "1999-03-31T00:00:00",
          "1999-06-30T00:00:00",
          "1999-09-30T00:00:00",
          "1999-12-31T00:00:00",
          "2000-03-31T00:00:00",
          "2000-06-30T00:00:00",
          "2000-09-30T00:00:00",
          "2000-12-31T00:00:00",
          "2001-03-31T00:00:00",
          "2001-06-30T00:00:00",
          "2001-09-30T00:00:00",
          "2001-12-31T00:00:00",
          "2002-03-31T00:00:00",
          "2002-06-30T00:00:00",
          "2002-09-30T00:00:00",
          "2002-12-31T00:00:00",
          "2003-03-31T00:00:00",
          "2003-06-30T00:00:00",
          "2003-09-30T00:00:00",
          "2003-12-31T00:00:00",
          "2004-03-31T00:00:00",
          "2004-06-30T00:00:00",
          "2004-09-30T00:00:00",
          "2004-12-31T00:00:00",
          "2005-03-31T00:00:00",
          "2005-06-30T00:00:00",
          "2005-09-30T00:00:00",
          "2005-12-31T00:00:00",
          "2006-03-31T00:00:00",
          "2006-06-30T00:00:00",
          "2006-09-30T00:00:00",
          "2006-12-31T00:00:00",
          "2007-03-31T00:00:00",
          "2007-06-30T00:00:00",
          "2007-09-30T00:00:00",
          "2007-12-31T00:00:00",
          "2008-03-31T00:00:00",
          "2008-06-30T00:00:00",
          "2008-09-30T00:00:00",
          "2008-12-31T00:00:00",
          "2009-03-31T00:00:00",
          "2009-06-30T00:00:00",
          "2009-09-30T00:00:00",
          "2009-12-31T00:00:00",
          "2010-03-31T00:00:00",
          "2010-06-30T00:00:00",
          "2010-09-30T00:00:00",
          "2010-12-31T00:00:00",
          "2011-03-31T00:00:00",
          "2011-06-30T00:00:00",
          "2011-09-30T00:00:00",
          "2011-12-31T00:00:00",
          "2012-03-31T00:00:00",
          "2012-06-30T00:00:00",
          "2012-09-30T00:00:00",
          "2012-12-31T00:00:00",
          "2013-03-31T00:00:00",
          "2013-06-30T00:00:00",
          "2013-09-30T00:00:00",
          "2013-12-31T00:00:00",
          "2014-03-31T00:00:00",
          "2014-06-30T00:00:00",
          "2014-09-30T00:00:00",
          "2014-12-31T00:00:00",
          "2015-03-31T00:00:00",
          "2015-06-30T00:00:00",
          "2015-09-30T00:00:00",
          "2015-12-31T00:00:00",
          "2016-03-31T00:00:00",
          "2016-06-30T00:00:00",
          "2016-09-30T00:00:00",
          "2016-12-31T00:00:00",
          "2017-03-31T00:00:00",
          "2017-06-30T00:00:00",
          "2017-09-30T00:00:00",
          "2017-12-31T00:00:00",
          "2018-03-31T00:00:00",
          "2018-06-30T00:00:00",
          "2018-09-30T00:00:00",
          "2018-12-31T00:00:00",
          "2019-03-31T00:00:00",
          "2019-06-30T00:00:00",
          "2019-09-30T00:00:00",
          "2019-12-31T00:00:00",
          "2020-03-31T00:00:00",
          "2020-06-30T00:00:00",
          "2020-09-30T00:00:00",
          "2020-12-31T00:00:00",
          "2021-03-31T00:00:00",
          "2021-06-30T00:00:00",
          "2021-09-30T00:00:00",
          "2021-12-31T00:00:00",
          "2022-03-31T00:00:00"
         ],
         "y": [
          40671417,
          59259062,
          67561929,
          74483016,
          82768107,
          76771911,
          75205718,
          85725818,
          94592593,
          87546897,
          90365485,
          91288201,
          95649251,
          86903138,
          80710031,
          85192833,
          81344496,
          85066309,
          118656269,
          118152327,
          118816430,
          109746553,
          108255354,
          110302647,
          108181714,
          104082407,
          101640278,
          102831754,
          115457635,
          114954963,
          110259724,
          117411919,
          119835397,
          114116641,
          109411018,
          120105562,
          115363517,
          115727207,
          120901051,
          143998778,
          136492477,
          133969846,
          130596243,
          134979726,
          134649367,
          136972367,
          140154979,
          145132430,
          145947666,
          148746142,
          366169219,
          178883335,
          226525799,
          363528419,
          274567736,
          333309563,
          484657321,
          241299355,
          167051950,
          338157239,
          96295892,
          91247082,
          80679087,
          87858219,
          92162500,
          87877891,
          86073000,
          84760915,
          91278368,
          96881224,
          86097352,
          93254818,
          94038855,
          110317402,
          97233671,
          100859933,
          110403567,
          145645056,
          152231412,
          163880199,
          167571475,
          166390382,
          144530171,
          162274733,
          165021240,
          164255682,
          167346136,
          163908723,
          163168995,
          158591581,
          151249924,
          154949611,
          156942717,
          173309001,
          175915786,
          182147561,
          179982587,
          188561670,
          187029956,
          193344331,
          204779756,
          195230026,
          191955696,
          210845769,
          208854028,
          212856351,
          195468627,
          207598039,
          225293382,
          221447889,
          210185491,
          216868482,
          223800327,
          215912716,
          215610424,
          218743695,
          221488850,
          186228229,
          211905808,
          222210513,
          228318503,
          237509501,
          244638796,
          247953922,
          242135394
         ]
        }
       ],
       "layout": {
        "template": {
         "data": {
          "bar": [
           {
            "error_x": {
             "color": "#2a3f5f"
            },
            "error_y": {
             "color": "#2a3f5f"
            },
            "marker": {
             "line": {
              "color": "#E5ECF6",
              "width": 0.5
             },
             "pattern": {
              "fillmode": "overlay",
              "size": 10,
              "solidity": 0.2
             }
            },
            "type": "bar"
           }
          ],
          "barpolar": [
           {
            "marker": {
             "line": {
              "color": "#E5ECF6",
              "width": 0.5
             },
             "pattern": {
              "fillmode": "overlay",
              "size": 10,
              "solidity": 0.2
             }
            },
            "type": "barpolar"
           }
          ],
          "carpet": [
           {
            "aaxis": {
             "endlinecolor": "#2a3f5f",
             "gridcolor": "white",
             "linecolor": "white",
             "minorgridcolor": "white",
             "startlinecolor": "#2a3f5f"
            },
            "baxis": {
             "endlinecolor": "#2a3f5f",
             "gridcolor": "white",
             "linecolor": "white",
             "minorgridcolor": "white",
             "startlinecolor": "#2a3f5f"
            },
            "type": "carpet"
           }
          ],
          "choropleth": [
           {
            "colorbar": {
             "outlinewidth": 0,
             "ticks": ""
            },
            "type": "choropleth"
           }
          ],
          "contour": [
           {
            "colorbar": {
             "outlinewidth": 0,
             "ticks": ""
            },
            "colorscale": [
             [
              0,
              "#0d0887"
             ],
             [
              0.1111111111111111,
              "#46039f"
             ],
             [
              0.2222222222222222,
              "#7201a8"
             ],
             [
              0.3333333333333333,
              "#9c179e"
             ],
             [
              0.4444444444444444,
              "#bd3786"
             ],
             [
              0.5555555555555556,
              "#d8576b"
             ],
             [
              0.6666666666666666,
              "#ed7953"
             ],
             [
              0.7777777777777778,
              "#fb9f3a"
             ],
             [
              0.8888888888888888,
              "#fdca26"
             ],
             [
              1,
              "#f0f921"
             ]
            ],
            "type": "contour"
           }
          ],
          "contourcarpet": [
           {
            "colorbar": {
             "outlinewidth": 0,
             "ticks": ""
            },
            "type": "contourcarpet"
           }
          ],
          "heatmap": [
           {
            "colorbar": {
             "outlinewidth": 0,
             "ticks": ""
            },
            "colorscale": [
             [
              0,
              "#0d0887"
             ],
             [
              0.1111111111111111,
              "#46039f"
             ],
             [
              0.2222222222222222,
              "#7201a8"
             ],
             [
              0.3333333333333333,
              "#9c179e"
             ],
             [
              0.4444444444444444,
              "#bd3786"
             ],
             [
              0.5555555555555556,
              "#d8576b"
             ],
             [
              0.6666666666666666,
              "#ed7953"
             ],
             [
              0.7777777777777778,
              "#fb9f3a"
             ],
             [
              0.8888888888888888,
              "#fdca26"
             ],
             [
              1,
              "#f0f921"
             ]
            ],
            "type": "heatmap"
           }
          ],
          "heatmapgl": [
           {
            "colorbar": {
             "outlinewidth": 0,
             "ticks": ""
            },
            "colorscale": [
             [
              0,
              "#0d0887"
             ],
             [
              0.1111111111111111,
              "#46039f"
             ],
             [
              0.2222222222222222,
              "#7201a8"
             ],
             [
              0.3333333333333333,
              "#9c179e"
             ],
             [
              0.4444444444444444,
              "#bd3786"
             ],
             [
              0.5555555555555556,
              "#d8576b"
             ],
             [
              0.6666666666666666,
              "#ed7953"
             ],
             [
              0.7777777777777778,
              "#fb9f3a"
             ],
             [
              0.8888888888888888,
              "#fdca26"
             ],
             [
              1,
              "#f0f921"
             ]
            ],
            "type": "heatmapgl"
           }
          ],
          "histogram": [
           {
            "marker": {
             "pattern": {
              "fillmode": "overlay",
              "size": 10,
              "solidity": 0.2
             }
            },
            "type": "histogram"
           }
          ],
          "histogram2d": [
           {
            "colorbar": {
             "outlinewidth": 0,
             "ticks": ""
            },
            "colorscale": [
             [
              0,
              "#0d0887"
             ],
             [
              0.1111111111111111,
              "#46039f"
             ],
             [
              0.2222222222222222,
              "#7201a8"
             ],
             [
              0.3333333333333333,
              "#9c179e"
             ],
             [
              0.4444444444444444,
              "#bd3786"
             ],
             [
              0.5555555555555556,
              "#d8576b"
             ],
             [
              0.6666666666666666,
              "#ed7953"
             ],
             [
              0.7777777777777778,
              "#fb9f3a"
             ],
             [
              0.8888888888888888,
              "#fdca26"
             ],
             [
              1,
              "#f0f921"
             ]
            ],
            "type": "histogram2d"
           }
          ],
          "histogram2dcontour": [
           {
            "colorbar": {
             "outlinewidth": 0,
             "ticks": ""
            },
            "colorscale": [
             [
              0,
              "#0d0887"
             ],
             [
              0.1111111111111111,
              "#46039f"
             ],
             [
              0.2222222222222222,
              "#7201a8"
             ],
             [
              0.3333333333333333,
              "#9c179e"
             ],
             [
              0.4444444444444444,
              "#bd3786"
             ],
             [
              0.5555555555555556,
              "#d8576b"
             ],
             [
              0.6666666666666666,
              "#ed7953"
             ],
             [
              0.7777777777777778,
              "#fb9f3a"
             ],
             [
              0.8888888888888888,
              "#fdca26"
             ],
             [
              1,
              "#f0f921"
             ]
            ],
            "type": "histogram2dcontour"
           }
          ],
          "mesh3d": [
           {
            "colorbar": {
             "outlinewidth": 0,
             "ticks": ""
            },
            "type": "mesh3d"
           }
          ],
          "parcoords": [
           {
            "line": {
             "colorbar": {
              "outlinewidth": 0,
              "ticks": ""
             }
            },
            "type": "parcoords"
           }
          ],
          "pie": [
           {
            "automargin": true,
            "type": "pie"
           }
          ],
          "scatter": [
           {
            "fillpattern": {
             "fillmode": "overlay",
             "size": 10,
             "solidity": 0.2
            },
            "type": "scatter"
           }
          ],
          "scatter3d": [
           {
            "line": {
             "colorbar": {
              "outlinewidth": 0,
              "ticks": ""
             }
            },
            "marker": {
             "colorbar": {
              "outlinewidth": 0,
              "ticks": ""
             }
            },
            "type": "scatter3d"
           }
          ],
          "scattercarpet": [
           {
            "marker": {
             "colorbar": {
              "outlinewidth": 0,
              "ticks": ""
             }
            },
            "type": "scattercarpet"
           }
          ],
          "scattergeo": [
           {
            "marker": {
             "colorbar": {
              "outlinewidth": 0,
              "ticks": ""
             }
            },
            "type": "scattergeo"
           }
          ],
          "scattergl": [
           {
            "marker": {
             "colorbar": {
              "outlinewidth": 0,
              "ticks": ""
             }
            },
            "type": "scattergl"
           }
          ],
          "scattermapbox": [
           {
            "marker": {
             "colorbar": {
              "outlinewidth": 0,
              "ticks": ""
             }
            },
            "type": "scattermapbox"
           }
          ],
          "scatterpolar": [
           {
            "marker": {
             "colorbar": {
              "outlinewidth": 0,
              "ticks": ""
             }
            },
            "type": "scatterpolar"
           }
          ],
          "scatterpolargl": [
           {
            "marker": {
             "colorbar": {
              "outlinewidth": 0,
              "ticks": ""
             }
            },
            "type": "scatterpolargl"
           }
          ],
          "scatterternary": [
           {
            "marker": {
             "colorbar": {
              "outlinewidth": 0,
              "ticks": ""
             }
            },
            "type": "scatterternary"
           }
          ],
          "surface": [
           {
            "colorbar": {
             "outlinewidth": 0,
             "ticks": ""
            },
            "colorscale": [
             [
              0,
              "#0d0887"
             ],
             [
              0.1111111111111111,
              "#46039f"
             ],
             [
              0.2222222222222222,
              "#7201a8"
             ],
             [
              0.3333333333333333,
              "#9c179e"
             ],
             [
              0.4444444444444444,
              "#bd3786"
             ],
             [
              0.5555555555555556,
              "#d8576b"
             ],
             [
              0.6666666666666666,
              "#ed7953"
             ],
             [
              0.7777777777777778,
              "#fb9f3a"
             ],
             [
              0.8888888888888888,
              "#fdca26"
             ],
             [
              1,
              "#f0f921"
             ]
            ],
            "type": "surface"
           }
          ],
          "table": [
           {
            "cells": {
             "fill": {
              "color": "#EBF0F8"
             },
             "line": {
              "color": "white"
             }
            },
            "header": {
             "fill": {
              "color": "#C8D4E3"
             },
             "line": {
              "color": "white"
             }
            },
            "type": "table"
           }
          ]
         },
         "layout": {
          "annotationdefaults": {
           "arrowcolor": "#2a3f5f",
           "arrowhead": 0,
           "arrowwidth": 1
          },
          "autotypenumbers": "strict",
          "coloraxis": {
           "colorbar": {
            "outlinewidth": 0,
            "ticks": ""
           }
          },
          "colorscale": {
           "diverging": [
            [
             0,
             "#8e0152"
            ],
            [
             0.1,
             "#c51b7d"
            ],
            [
             0.2,
             "#de77ae"
            ],
            [
             0.3,
             "#f1b6da"
            ],
            [
             0.4,
             "#fde0ef"
            ],
            [
             0.5,
             "#f7f7f7"
            ],
            [
             0.6,
             "#e6f5d0"
            ],
            [
             0.7,
             "#b8e186"
            ],
            [
             0.8,
             "#7fbc41"
            ],
            [
             0.9,
             "#4d9221"
            ],
            [
             1,
             "#276419"
            ]
           ],
           "sequential": [
            [
             0,
             "#0d0887"
            ],
            [
             0.1111111111111111,
             "#46039f"
            ],
            [
             0.2222222222222222,
             "#7201a8"
            ],
            [
             0.3333333333333333,
             "#9c179e"
            ],
            [
             0.4444444444444444,
             "#bd3786"
            ],
            [
             0.5555555555555556,
             "#d8576b"
            ],
            [
             0.6666666666666666,
             "#ed7953"
            ],
            [
             0.7777777777777778,
             "#fb9f3a"
            ],
            [
             0.8888888888888888,
             "#fdca26"
            ],
            [
             1,
             "#f0f921"
            ]
           ],
           "sequentialminus": [
            [
             0,
             "#0d0887"
            ],
            [
             0.1111111111111111,
             "#46039f"
            ],
            [
             0.2222222222222222,
             "#7201a8"
            ],
            [
             0.3333333333333333,
             "#9c179e"
            ],
            [
             0.4444444444444444,
             "#bd3786"
            ],
            [
             0.5555555555555556,
             "#d8576b"
            ],
            [
             0.6666666666666666,
             "#ed7953"
            ],
            [
             0.7777777777777778,
             "#fb9f3a"
            ],
            [
             0.8888888888888888,
             "#fdca26"
            ],
            [
             1,
             "#f0f921"
            ]
           ]
          },
          "colorway": [
           "#636efa",
           "#EF553B",
           "#00cc96",
           "#ab63fa",
           "#FFA15A",
           "#19d3f3",
           "#FF6692",
           "#B6E880",
           "#FF97FF",
           "#FECB52"
          ],
          "font": {
           "color": "#2a3f5f"
          },
          "geo": {
           "bgcolor": "white",
           "lakecolor": "white",
           "landcolor": "#E5ECF6",
           "showlakes": true,
           "showland": true,
           "subunitcolor": "white"
          },
          "hoverlabel": {
           "align": "left"
          },
          "hovermode": "closest",
          "mapbox": {
           "style": "light"
          },
          "paper_bgcolor": "white",
          "plot_bgcolor": "#E5ECF6",
          "polar": {
           "angularaxis": {
            "gridcolor": "white",
            "linecolor": "white",
            "ticks": ""
           },
           "bgcolor": "#E5ECF6",
           "radialaxis": {
            "gridcolor": "white",
            "linecolor": "white",
            "ticks": ""
           }
          },
          "scene": {
           "xaxis": {
            "backgroundcolor": "#E5ECF6",
            "gridcolor": "white",
            "gridwidth": 2,
            "linecolor": "white",
            "showbackground": true,
            "ticks": "",
            "zerolinecolor": "white"
           },
           "yaxis": {
            "backgroundcolor": "#E5ECF6",
            "gridcolor": "white",
            "gridwidth": 2,
            "linecolor": "white",
            "showbackground": true,
            "ticks": "",
            "zerolinecolor": "white"
           },
           "zaxis": {
            "backgroundcolor": "#E5ECF6",
            "gridcolor": "white",
            "gridwidth": 2,
            "linecolor": "white",
            "showbackground": true,
            "ticks": "",
            "zerolinecolor": "white"
           }
          },
          "shapedefaults": {
           "line": {
            "color": "#2a3f5f"
           }
          },
          "ternary": {
           "aaxis": {
            "gridcolor": "white",
            "linecolor": "white",
            "ticks": ""
           },
           "baxis": {
            "gridcolor": "white",
            "linecolor": "white",
            "ticks": ""
           },
           "bgcolor": "#E5ECF6",
           "caxis": {
            "gridcolor": "white",
            "linecolor": "white",
            "ticks": ""
           }
          },
          "title": {
           "x": 0.05
          },
          "xaxis": {
           "automargin": true,
           "gridcolor": "white",
           "linecolor": "white",
           "ticks": "",
           "title": {
            "standoff": 15
           },
           "zerolinecolor": "white",
           "zerolinewidth": 2
          },
          "yaxis": {
           "automargin": true,
           "gridcolor": "white",
           "linecolor": "white",
           "ticks": "",
           "title": {
            "standoff": 15
           },
           "zerolinecolor": "white",
           "zerolinewidth": 2
          }
         }
        },
        "title": {
         "text": "Prescriptions Reimbursed Annually, 1991-2022"
        },
        "xaxis": {
         "title": {
          "text": "Year"
         }
        },
        "yaxis": {
         "title": {
          "text": "Prescriptions"
         }
        }
       }
      }
     },
     "metadata": {},
     "output_type": "display_data"
    }
   ],
   "source": [
    "# visualize summed data\n",
    "layout = go.Layout(xaxis={'title': 'Year'}, yaxis={'title': 'Prescriptions'}, title={'text': 'Prescriptions Reimbursed Annually, 1991-2022'})\n",
    "fig = go.Figure(data=go.Scatter(x = list(summary_df.index), y = list(summary_df['Prescriptions']), mode='markers'),layout=layout)\n",
    "fig.update()\n",
    "fig.show()"
   ]
  },
  {
   "attachments": {},
   "cell_type": "markdown",
   "metadata": {},
   "source": [
    "The summed data show an increase in prescriptions from 1991 until 2008, when prescriptions suddenly decrease, and then regain rise with a slight plateau around 2020. After this time there is a slight decline in prescriptions. It looks like there could possibly be some seasonality, but it is not obvious if this is real. We'll decompose the data next."
   ]
  },
  {
   "attachments": {},
   "cell_type": "markdown",
   "metadata": {},
   "source": [
    "## Decomposition\n",
    "\n",
    "Let's do some classic time series analysis, trend, seasonal, and residual decomposition, to get familiar with the data."
   ]
  },
  {
   "cell_type": "code",
   "execution_count": 46,
   "metadata": {},
   "outputs": [
    {
     "data": {
      "text/plain": [
       "Prescriptions    0\n",
       "dtype: int64"
      ]
     },
     "execution_count": 46,
     "metadata": {},
     "output_type": "execute_result"
    }
   ],
   "source": [
    "summary_df = summary_df.asfreq(freq='Q')\n",
    "summary_df.interpolate(method='ffill', inplace=True)\n",
    "summary_df.isna().sum()"
   ]
  },
  {
   "cell_type": "code",
   "execution_count": 47,
   "metadata": {},
   "outputs": [
    {
     "data": {
      "application/vnd.plotly.v1+json": {
       "config": {
        "plotlyServerURL": "https://plot.ly"
       },
       "data": [
        {
         "name": "Trend",
         "type": "scatter",
         "x": [
          "1991-03-31T00:00:00",
          "1991-06-30T00:00:00",
          "1991-09-30T00:00:00",
          "1991-12-31T00:00:00",
          "1992-03-31T00:00:00",
          "1992-06-30T00:00:00",
          "1992-09-30T00:00:00",
          "1992-12-31T00:00:00",
          "1993-03-31T00:00:00",
          "1993-06-30T00:00:00",
          "1993-09-30T00:00:00",
          "1993-12-31T00:00:00",
          "1994-03-31T00:00:00",
          "1994-06-30T00:00:00",
          "1994-09-30T00:00:00",
          "1994-12-31T00:00:00",
          "1995-03-31T00:00:00",
          "1995-06-30T00:00:00",
          "1995-09-30T00:00:00",
          "1995-12-31T00:00:00",
          "1996-03-31T00:00:00",
          "1996-06-30T00:00:00",
          "1996-09-30T00:00:00",
          "1996-12-31T00:00:00",
          "1997-03-31T00:00:00",
          "1997-06-30T00:00:00",
          "1997-09-30T00:00:00",
          "1997-12-31T00:00:00",
          "1998-03-31T00:00:00",
          "1998-06-30T00:00:00",
          "1998-09-30T00:00:00",
          "1998-12-31T00:00:00",
          "1999-03-31T00:00:00",
          "1999-06-30T00:00:00",
          "1999-09-30T00:00:00",
          "1999-12-31T00:00:00",
          "2000-03-31T00:00:00",
          "2000-06-30T00:00:00",
          "2000-09-30T00:00:00",
          "2000-12-31T00:00:00",
          "2001-03-31T00:00:00",
          "2001-06-30T00:00:00",
          "2001-09-30T00:00:00",
          "2001-12-31T00:00:00",
          "2002-03-31T00:00:00",
          "2002-06-30T00:00:00",
          "2002-09-30T00:00:00",
          "2002-12-31T00:00:00",
          "2003-03-31T00:00:00",
          "2003-06-30T00:00:00",
          "2003-09-30T00:00:00",
          "2003-12-31T00:00:00",
          "2004-03-31T00:00:00",
          "2004-06-30T00:00:00",
          "2004-09-30T00:00:00",
          "2004-12-31T00:00:00",
          "2005-03-31T00:00:00",
          "2005-06-30T00:00:00",
          "2005-09-30T00:00:00",
          "2005-12-31T00:00:00",
          "2006-03-31T00:00:00",
          "2006-06-30T00:00:00",
          "2006-09-30T00:00:00",
          "2006-12-31T00:00:00",
          "2007-03-31T00:00:00",
          "2007-06-30T00:00:00",
          "2007-09-30T00:00:00",
          "2007-12-31T00:00:00",
          "2008-03-31T00:00:00",
          "2008-06-30T00:00:00",
          "2008-09-30T00:00:00",
          "2008-12-31T00:00:00",
          "2009-03-31T00:00:00",
          "2009-06-30T00:00:00",
          "2009-09-30T00:00:00",
          "2009-12-31T00:00:00",
          "2010-03-31T00:00:00",
          "2010-06-30T00:00:00",
          "2010-09-30T00:00:00",
          "2010-12-31T00:00:00",
          "2011-03-31T00:00:00",
          "2011-06-30T00:00:00",
          "2011-09-30T00:00:00",
          "2011-12-31T00:00:00",
          "2012-03-31T00:00:00",
          "2012-06-30T00:00:00",
          "2012-09-30T00:00:00",
          "2012-12-31T00:00:00",
          "2013-03-31T00:00:00",
          "2013-06-30T00:00:00",
          "2013-09-30T00:00:00",
          "2013-12-31T00:00:00",
          "2014-03-31T00:00:00",
          "2014-06-30T00:00:00",
          "2014-09-30T00:00:00",
          "2014-12-31T00:00:00",
          "2015-03-31T00:00:00",
          "2015-06-30T00:00:00",
          "2015-09-30T00:00:00",
          "2015-12-31T00:00:00",
          "2016-03-31T00:00:00",
          "2016-06-30T00:00:00",
          "2016-09-30T00:00:00",
          "2016-12-31T00:00:00",
          "2017-03-31T00:00:00",
          "2017-06-30T00:00:00",
          "2017-09-30T00:00:00",
          "2017-12-31T00:00:00",
          "2018-03-31T00:00:00",
          "2018-06-30T00:00:00",
          "2018-09-30T00:00:00",
          "2018-12-31T00:00:00",
          "2019-03-31T00:00:00",
          "2019-06-30T00:00:00",
          "2019-09-30T00:00:00",
          "2019-12-31T00:00:00",
          "2020-03-31T00:00:00",
          "2020-06-30T00:00:00",
          "2020-09-30T00:00:00",
          "2020-12-31T00:00:00",
          "2021-03-31T00:00:00",
          "2021-06-30T00:00:00",
          "2021-09-30T00:00:00",
          "2021-12-31T00:00:00",
          "2022-03-31T00:00:00"
         ],
         "xaxis": "x",
         "y": [
          null,
          null,
          65755942.25,
          73207134.625,
          76351714.375,
          78712538.25,
          81595949.25,
          84420883.25,
          87662727.375,
          90252996.125,
          91080376.25,
          91131988.625,
          89844587,
          87875734.25,
          85325718.875,
          83308020.875,
          87821697,
          96684913.5,
          105488842,
          113257864.25,
          115042780.375,
          112761456,
          110450906.5,
          108413548.75,
          106878646,
          105117899.875,
          105093528.375,
          107362088,
          109798588.25,
          112698539.625,
          115068280.5,
          115510710.5,
          115299832,
          115530449.125,
          115308169.5,
          114950505.25,
          116588080.125,
          121010986.25,
          126638758.25,
          131560208.125,
          135052437,
          135136954.5,
          133779184.25,
          133924110.625,
          135494267.75,
          137958197.75,
          140639573.125,
          143523582.375,
          173247084.25,
          205717727.375,
          220008857.125,
          256928908.375,
          272326507.625,
          280179600.75,
          331749319.5,
          348737126.75,
          320019020.5,
          307185506.75,
          259246287.625,
          191944574.875,
          162391432.875,
          120307447.5,
          88503396,
          87565573.125,
          87818663.375,
          88105739.5,
          87608060,
          88622960.125,
          89751420.75,
          90816202.625,
          92223001.375,
          94247584.5,
          97319146.625,
          99661825.875,
          102658054.25,
          109119600,
          120410274.375,
          135162525.25,
          150186047,
          159925201.25,
          161555711.875,
          160392373.5,
          159872910.875,
          159287294,
          161872452.125,
          164928696.5,
          164901414.625,
          163961871.375,
          161241832.25,
          158109916.75,
          156211743,
          157273135.75,
          162196046,
          168679022.5,
          174958750,
          179745317.375,
          183041172.25,
          185830039.75,
          190329282.125,
          194262472.75,
          195711734.75,
          198515132,
          201212095.75,
          203924670.375,
          206567077.375,
          206600227.5,
          208249180.5,
          211378042,
          214291592.25,
          217290005.625,
          218262179.125,
          217383650.625,
          217369870.625,
          218282388.875,
          218227855.875,
          214228360.375,
          210054722.5,
          210024997.75,
          211312056.625,
          218575922.25,
          229077704.75,
          236387254.375,
          241332291.875,
          null,
          null
         ],
         "yaxis": "y"
        },
        {
         "name": "Seasonal",
         "type": "scatter",
         "x": [
          "1991-03-31T00:00:00",
          "1991-06-30T00:00:00",
          "1991-09-30T00:00:00",
          "1991-12-31T00:00:00",
          "1992-03-31T00:00:00",
          "1992-06-30T00:00:00",
          "1992-09-30T00:00:00",
          "1992-12-31T00:00:00",
          "1993-03-31T00:00:00",
          "1993-06-30T00:00:00",
          "1993-09-30T00:00:00",
          "1993-12-31T00:00:00",
          "1994-03-31T00:00:00",
          "1994-06-30T00:00:00",
          "1994-09-30T00:00:00",
          "1994-12-31T00:00:00",
          "1995-03-31T00:00:00",
          "1995-06-30T00:00:00",
          "1995-09-30T00:00:00",
          "1995-12-31T00:00:00",
          "1996-03-31T00:00:00",
          "1996-06-30T00:00:00",
          "1996-09-30T00:00:00",
          "1996-12-31T00:00:00",
          "1997-03-31T00:00:00",
          "1997-06-30T00:00:00",
          "1997-09-30T00:00:00",
          "1997-12-31T00:00:00",
          "1998-03-31T00:00:00",
          "1998-06-30T00:00:00",
          "1998-09-30T00:00:00",
          "1998-12-31T00:00:00",
          "1999-03-31T00:00:00",
          "1999-06-30T00:00:00",
          "1999-09-30T00:00:00",
          "1999-12-31T00:00:00",
          "2000-03-31T00:00:00",
          "2000-06-30T00:00:00",
          "2000-09-30T00:00:00",
          "2000-12-31T00:00:00",
          "2001-03-31T00:00:00",
          "2001-06-30T00:00:00",
          "2001-09-30T00:00:00",
          "2001-12-31T00:00:00",
          "2002-03-31T00:00:00",
          "2002-06-30T00:00:00",
          "2002-09-30T00:00:00",
          "2002-12-31T00:00:00",
          "2003-03-31T00:00:00",
          "2003-06-30T00:00:00",
          "2003-09-30T00:00:00",
          "2003-12-31T00:00:00",
          "2004-03-31T00:00:00",
          "2004-06-30T00:00:00",
          "2004-09-30T00:00:00",
          "2004-12-31T00:00:00",
          "2005-03-31T00:00:00",
          "2005-06-30T00:00:00",
          "2005-09-30T00:00:00",
          "2005-12-31T00:00:00",
          "2006-03-31T00:00:00",
          "2006-06-30T00:00:00",
          "2006-09-30T00:00:00",
          "2006-12-31T00:00:00",
          "2007-03-31T00:00:00",
          "2007-06-30T00:00:00",
          "2007-09-30T00:00:00",
          "2007-12-31T00:00:00",
          "2008-03-31T00:00:00",
          "2008-06-30T00:00:00",
          "2008-09-30T00:00:00",
          "2008-12-31T00:00:00",
          "2009-03-31T00:00:00",
          "2009-06-30T00:00:00",
          "2009-09-30T00:00:00",
          "2009-12-31T00:00:00",
          "2010-03-31T00:00:00",
          "2010-06-30T00:00:00",
          "2010-09-30T00:00:00",
          "2010-12-31T00:00:00",
          "2011-03-31T00:00:00",
          "2011-06-30T00:00:00",
          "2011-09-30T00:00:00",
          "2011-12-31T00:00:00",
          "2012-03-31T00:00:00",
          "2012-06-30T00:00:00",
          "2012-09-30T00:00:00",
          "2012-12-31T00:00:00",
          "2013-03-31T00:00:00",
          "2013-06-30T00:00:00",
          "2013-09-30T00:00:00",
          "2013-12-31T00:00:00",
          "2014-03-31T00:00:00",
          "2014-06-30T00:00:00",
          "2014-09-30T00:00:00",
          "2014-12-31T00:00:00",
          "2015-03-31T00:00:00",
          "2015-06-30T00:00:00",
          "2015-09-30T00:00:00",
          "2015-12-31T00:00:00",
          "2016-03-31T00:00:00",
          "2016-06-30T00:00:00",
          "2016-09-30T00:00:00",
          "2016-12-31T00:00:00",
          "2017-03-31T00:00:00",
          "2017-06-30T00:00:00",
          "2017-09-30T00:00:00",
          "2017-12-31T00:00:00",
          "2018-03-31T00:00:00",
          "2018-06-30T00:00:00",
          "2018-09-30T00:00:00",
          "2018-12-31T00:00:00",
          "2019-03-31T00:00:00",
          "2019-06-30T00:00:00",
          "2019-09-30T00:00:00",
          "2019-12-31T00:00:00",
          "2020-03-31T00:00:00",
          "2020-06-30T00:00:00",
          "2020-09-30T00:00:00",
          "2020-12-31T00:00:00",
          "2021-03-31T00:00:00",
          "2021-06-30T00:00:00",
          "2021-09-30T00:00:00",
          "2021-12-31T00:00:00",
          "2022-03-31T00:00:00"
         ],
         "xaxis": "x2",
         "y": [
          2848311.2027553767,
          -2545270.3180779573,
          -3091145.095766129,
          2788104.2110887095,
          2848311.2027553767,
          -2545270.3180779573,
          -3091145.095766129,
          2788104.2110887095,
          2848311.2027553767,
          -2545270.3180779573,
          -3091145.095766129,
          2788104.2110887095,
          2848311.2027553767,
          -2545270.3180779573,
          -3091145.095766129,
          2788104.2110887095,
          2848311.2027553767,
          -2545270.3180779573,
          -3091145.095766129,
          2788104.2110887095,
          2848311.2027553767,
          -2545270.3180779573,
          -3091145.095766129,
          2788104.2110887095,
          2848311.2027553767,
          -2545270.3180779573,
          -3091145.095766129,
          2788104.2110887095,
          2848311.2027553767,
          -2545270.3180779573,
          -3091145.095766129,
          2788104.2110887095,
          2848311.2027553767,
          -2545270.3180779573,
          -3091145.095766129,
          2788104.2110887095,
          2848311.2027553767,
          -2545270.3180779573,
          -3091145.095766129,
          2788104.2110887095,
          2848311.2027553767,
          -2545270.3180779573,
          -3091145.095766129,
          2788104.2110887095,
          2848311.2027553767,
          -2545270.3180779573,
          -3091145.095766129,
          2788104.2110887095,
          2848311.2027553767,
          -2545270.3180779573,
          -3091145.095766129,
          2788104.2110887095,
          2848311.2027553767,
          -2545270.3180779573,
          -3091145.095766129,
          2788104.2110887095,
          2848311.2027553767,
          -2545270.3180779573,
          -3091145.095766129,
          2788104.2110887095,
          2848311.2027553767,
          -2545270.3180779573,
          -3091145.095766129,
          2788104.2110887095,
          2848311.2027553767,
          -2545270.3180779573,
          -3091145.095766129,
          2788104.2110887095,
          2848311.2027553767,
          -2545270.3180779573,
          -3091145.095766129,
          2788104.2110887095,
          2848311.2027553767,
          -2545270.3180779573,
          -3091145.095766129,
          2788104.2110887095,
          2848311.2027553767,
          -2545270.3180779573,
          -3091145.095766129,
          2788104.2110887095,
          2848311.2027553767,
          -2545270.3180779573,
          -3091145.095766129,
          2788104.2110887095,
          2848311.2027553767,
          -2545270.3180779573,
          -3091145.095766129,
          2788104.2110887095,
          2848311.2027553767,
          -2545270.3180779573,
          -3091145.095766129,
          2788104.2110887095,
          2848311.2027553767,
          -2545270.3180779573,
          -3091145.095766129,
          2788104.2110887095,
          2848311.2027553767,
          -2545270.3180779573,
          -3091145.095766129,
          2788104.2110887095,
          2848311.2027553767,
          -2545270.3180779573,
          -3091145.095766129,
          2788104.2110887095,
          2848311.2027553767,
          -2545270.3180779573,
          -3091145.095766129,
          2788104.2110887095,
          2848311.2027553767,
          -2545270.3180779573,
          -3091145.095766129,
          2788104.2110887095,
          2848311.2027553767,
          -2545270.3180779573,
          -3091145.095766129,
          2788104.2110887095,
          2848311.2027553767,
          -2545270.3180779573,
          -3091145.095766129,
          2788104.2110887095,
          2848311.2027553767,
          -2545270.3180779573,
          -3091145.095766129,
          2788104.2110887095,
          2848311.2027553767
         ],
         "yaxis": "y2"
        },
        {
         "name": "Residuals",
         "type": "scatter",
         "x": [
          "1991-03-31T00:00:00",
          "1991-06-30T00:00:00",
          "1991-09-30T00:00:00",
          "1991-12-31T00:00:00",
          "1992-03-31T00:00:00",
          "1992-06-30T00:00:00",
          "1992-09-30T00:00:00",
          "1992-12-31T00:00:00",
          "1993-03-31T00:00:00",
          "1993-06-30T00:00:00",
          "1993-09-30T00:00:00",
          "1993-12-31T00:00:00",
          "1994-03-31T00:00:00",
          "1994-06-30T00:00:00",
          "1994-09-30T00:00:00",
          "1994-12-31T00:00:00",
          "1995-03-31T00:00:00",
          "1995-06-30T00:00:00",
          "1995-09-30T00:00:00",
          "1995-12-31T00:00:00",
          "1996-03-31T00:00:00",
          "1996-06-30T00:00:00",
          "1996-09-30T00:00:00",
          "1996-12-31T00:00:00",
          "1997-03-31T00:00:00",
          "1997-06-30T00:00:00",
          "1997-09-30T00:00:00",
          "1997-12-31T00:00:00",
          "1998-03-31T00:00:00",
          "1998-06-30T00:00:00",
          "1998-09-30T00:00:00",
          "1998-12-31T00:00:00",
          "1999-03-31T00:00:00",
          "1999-06-30T00:00:00",
          "1999-09-30T00:00:00",
          "1999-12-31T00:00:00",
          "2000-03-31T00:00:00",
          "2000-06-30T00:00:00",
          "2000-09-30T00:00:00",
          "2000-12-31T00:00:00",
          "2001-03-31T00:00:00",
          "2001-06-30T00:00:00",
          "2001-09-30T00:00:00",
          "2001-12-31T00:00:00",
          "2002-03-31T00:00:00",
          "2002-06-30T00:00:00",
          "2002-09-30T00:00:00",
          "2002-12-31T00:00:00",
          "2003-03-31T00:00:00",
          "2003-06-30T00:00:00",
          "2003-09-30T00:00:00",
          "2003-12-31T00:00:00",
          "2004-03-31T00:00:00",
          "2004-06-30T00:00:00",
          "2004-09-30T00:00:00",
          "2004-12-31T00:00:00",
          "2005-03-31T00:00:00",
          "2005-06-30T00:00:00",
          "2005-09-30T00:00:00",
          "2005-12-31T00:00:00",
          "2006-03-31T00:00:00",
          "2006-06-30T00:00:00",
          "2006-09-30T00:00:00",
          "2006-12-31T00:00:00",
          "2007-03-31T00:00:00",
          "2007-06-30T00:00:00",
          "2007-09-30T00:00:00",
          "2007-12-31T00:00:00",
          "2008-03-31T00:00:00",
          "2008-06-30T00:00:00",
          "2008-09-30T00:00:00",
          "2008-12-31T00:00:00",
          "2009-03-31T00:00:00",
          "2009-06-30T00:00:00",
          "2009-09-30T00:00:00",
          "2009-12-31T00:00:00",
          "2010-03-31T00:00:00",
          "2010-06-30T00:00:00",
          "2010-09-30T00:00:00",
          "2010-12-31T00:00:00",
          "2011-03-31T00:00:00",
          "2011-06-30T00:00:00",
          "2011-09-30T00:00:00",
          "2011-12-31T00:00:00",
          "2012-03-31T00:00:00",
          "2012-06-30T00:00:00",
          "2012-09-30T00:00:00",
          "2012-12-31T00:00:00",
          "2013-03-31T00:00:00",
          "2013-06-30T00:00:00",
          "2013-09-30T00:00:00",
          "2013-12-31T00:00:00",
          "2014-03-31T00:00:00",
          "2014-06-30T00:00:00",
          "2014-09-30T00:00:00",
          "2014-12-31T00:00:00",
          "2015-03-31T00:00:00",
          "2015-06-30T00:00:00",
          "2015-09-30T00:00:00",
          "2015-12-31T00:00:00",
          "2016-03-31T00:00:00",
          "2016-06-30T00:00:00",
          "2016-09-30T00:00:00",
          "2016-12-31T00:00:00",
          "2017-03-31T00:00:00",
          "2017-06-30T00:00:00",
          "2017-09-30T00:00:00",
          "2017-12-31T00:00:00",
          "2018-03-31T00:00:00",
          "2018-06-30T00:00:00",
          "2018-09-30T00:00:00",
          "2018-12-31T00:00:00",
          "2019-03-31T00:00:00",
          "2019-06-30T00:00:00",
          "2019-09-30T00:00:00",
          "2019-12-31T00:00:00",
          "2020-03-31T00:00:00",
          "2020-06-30T00:00:00",
          "2020-09-30T00:00:00",
          "2020-12-31T00:00:00",
          "2021-03-31T00:00:00",
          "2021-06-30T00:00:00",
          "2021-09-30T00:00:00",
          "2021-12-31T00:00:00",
          "2022-03-31T00:00:00"
         ],
         "xaxis": "x3",
         "y": [
          null,
          null,
          4897131.845766129,
          -1512222.8360887095,
          3568081.4222446233,
          604643.0680779573,
          -3299086.154233871,
          -1483169.4610887095,
          4081554.4222446233,
          -160828.80692204274,
          2376253.845766129,
          -2631891.8360887095,
          2956352.7972446233,
          1572674.0680779573,
          -1524542.779233871,
          -903292.0860887095,
          -9325512.202755377,
          -9073334.181922043,
          16258572.095766129,
          2106358.5389112905,
          925338.4222446233,
          -469632.68192204274,
          895592.595766129,
          -899005.9610887095,
          -1545243.2027553767,
          1509777.4430779573,
          -362105.279233871,
          -7318438.2110887095,
          2810735.5472446233,
          4801693.693077957,
          -1717411.404233871,
          -886895.7110887095,
          1687253.7972446233,
          1131462.1930779573,
          -2806006.404233871,
          2366952.5389112905,
          -4072874.3277553767,
          -2738508.9319220427,
          -2646562.154233871,
          9650465.66391129,
          -1408271.2027553767,
          1378161.8180779573,
          -91796.15423387103,
          -1732488.8360887095,
          -3693211.9527553767,
          1559439.5680779573,
          2606550.970766129,
          -1179256.5860887095,
          -30147729.452755377,
          -54426315.05692204,
          149251506.97076613,
          -80833677.58608872,
          -48649019.82775538,
          85894088.56807795,
          -54090438.40423387,
          -18215667.96108871,
          161789989.2972446,
          -63340881.43192204,
          -89103192.52923387,
          143424559.91391128,
          -68943852.07775538,
          -26515095.18192204,
          -4733163.904233871,
          -2495458.3360887095,
          1495525.4222446233,
          2317421.8180779573,
          1556085.095766129,
          -6650149.3360887095,
          -1321363.9527553767,
          8610291.693077957,
          -3034504.279233871,
          -3780870.7110887095,
          -6128602.827755377,
          13200846.443077957,
          -2333238.154233871,
          -11047771.21108871,
          -12855018.577755377,
          13027801.068077957,
          5136510.095766129,
          1166893.5389112905,
          3167451.9222446233,
          8543278.818077957,
          -12251594.779233871,
          199334.78891129047,
          300476.6722446233,
          1872255.8180779573,
          5535866.470766129,
          -2841252.5860887095,
          -921148.4527553767,
          3026934.5680779573,
          -1870673.904233871,
          -5111628.9610887095,
          -8101640.202755377,
          7175248.818077957,
          4048181.095766129,
          -385860.58608870953,
          -5906896.452755377,
          5276900.568077957,
          -208181.02923387103,
          -3706245.9610887095,
          6219710.047244623,
          -739835.6819220427,
          -6165254.654233871,
          4132994.4139112905,
          -561360.5777553767,
          8801393.818077957,
          -9689408.404233871,
          -6568107.2110887095,
          8153478.547244623,
          6703153.693077957,
          -4985543.029233871,
          -3303272.8360887095,
          3582145.1722446233,
          175597.44307795726,
          473713.220766129,
          1727230.4139112905,
          8585816.297244623,
          -21251498.43192204,
          3684896.470766129,
          846486.5389112905,
          -3607512.9527553767,
          3667516.9430779573,
          6397649.220766129,
          null,
          null
         ],
         "yaxis": "y3"
        }
       ],
       "layout": {
        "height": 600,
        "template": {
         "data": {
          "bar": [
           {
            "error_x": {
             "color": "#2a3f5f"
            },
            "error_y": {
             "color": "#2a3f5f"
            },
            "marker": {
             "line": {
              "color": "#E5ECF6",
              "width": 0.5
             },
             "pattern": {
              "fillmode": "overlay",
              "size": 10,
              "solidity": 0.2
             }
            },
            "type": "bar"
           }
          ],
          "barpolar": [
           {
            "marker": {
             "line": {
              "color": "#E5ECF6",
              "width": 0.5
             },
             "pattern": {
              "fillmode": "overlay",
              "size": 10,
              "solidity": 0.2
             }
            },
            "type": "barpolar"
           }
          ],
          "carpet": [
           {
            "aaxis": {
             "endlinecolor": "#2a3f5f",
             "gridcolor": "white",
             "linecolor": "white",
             "minorgridcolor": "white",
             "startlinecolor": "#2a3f5f"
            },
            "baxis": {
             "endlinecolor": "#2a3f5f",
             "gridcolor": "white",
             "linecolor": "white",
             "minorgridcolor": "white",
             "startlinecolor": "#2a3f5f"
            },
            "type": "carpet"
           }
          ],
          "choropleth": [
           {
            "colorbar": {
             "outlinewidth": 0,
             "ticks": ""
            },
            "type": "choropleth"
           }
          ],
          "contour": [
           {
            "colorbar": {
             "outlinewidth": 0,
             "ticks": ""
            },
            "colorscale": [
             [
              0,
              "#0d0887"
             ],
             [
              0.1111111111111111,
              "#46039f"
             ],
             [
              0.2222222222222222,
              "#7201a8"
             ],
             [
              0.3333333333333333,
              "#9c179e"
             ],
             [
              0.4444444444444444,
              "#bd3786"
             ],
             [
              0.5555555555555556,
              "#d8576b"
             ],
             [
              0.6666666666666666,
              "#ed7953"
             ],
             [
              0.7777777777777778,
              "#fb9f3a"
             ],
             [
              0.8888888888888888,
              "#fdca26"
             ],
             [
              1,
              "#f0f921"
             ]
            ],
            "type": "contour"
           }
          ],
          "contourcarpet": [
           {
            "colorbar": {
             "outlinewidth": 0,
             "ticks": ""
            },
            "type": "contourcarpet"
           }
          ],
          "heatmap": [
           {
            "colorbar": {
             "outlinewidth": 0,
             "ticks": ""
            },
            "colorscale": [
             [
              0,
              "#0d0887"
             ],
             [
              0.1111111111111111,
              "#46039f"
             ],
             [
              0.2222222222222222,
              "#7201a8"
             ],
             [
              0.3333333333333333,
              "#9c179e"
             ],
             [
              0.4444444444444444,
              "#bd3786"
             ],
             [
              0.5555555555555556,
              "#d8576b"
             ],
             [
              0.6666666666666666,
              "#ed7953"
             ],
             [
              0.7777777777777778,
              "#fb9f3a"
             ],
             [
              0.8888888888888888,
              "#fdca26"
             ],
             [
              1,
              "#f0f921"
             ]
            ],
            "type": "heatmap"
           }
          ],
          "heatmapgl": [
           {
            "colorbar": {
             "outlinewidth": 0,
             "ticks": ""
            },
            "colorscale": [
             [
              0,
              "#0d0887"
             ],
             [
              0.1111111111111111,
              "#46039f"
             ],
             [
              0.2222222222222222,
              "#7201a8"
             ],
             [
              0.3333333333333333,
              "#9c179e"
             ],
             [
              0.4444444444444444,
              "#bd3786"
             ],
             [
              0.5555555555555556,
              "#d8576b"
             ],
             [
              0.6666666666666666,
              "#ed7953"
             ],
             [
              0.7777777777777778,
              "#fb9f3a"
             ],
             [
              0.8888888888888888,
              "#fdca26"
             ],
             [
              1,
              "#f0f921"
             ]
            ],
            "type": "heatmapgl"
           }
          ],
          "histogram": [
           {
            "marker": {
             "pattern": {
              "fillmode": "overlay",
              "size": 10,
              "solidity": 0.2
             }
            },
            "type": "histogram"
           }
          ],
          "histogram2d": [
           {
            "colorbar": {
             "outlinewidth": 0,
             "ticks": ""
            },
            "colorscale": [
             [
              0,
              "#0d0887"
             ],
             [
              0.1111111111111111,
              "#46039f"
             ],
             [
              0.2222222222222222,
              "#7201a8"
             ],
             [
              0.3333333333333333,
              "#9c179e"
             ],
             [
              0.4444444444444444,
              "#bd3786"
             ],
             [
              0.5555555555555556,
              "#d8576b"
             ],
             [
              0.6666666666666666,
              "#ed7953"
             ],
             [
              0.7777777777777778,
              "#fb9f3a"
             ],
             [
              0.8888888888888888,
              "#fdca26"
             ],
             [
              1,
              "#f0f921"
             ]
            ],
            "type": "histogram2d"
           }
          ],
          "histogram2dcontour": [
           {
            "colorbar": {
             "outlinewidth": 0,
             "ticks": ""
            },
            "colorscale": [
             [
              0,
              "#0d0887"
             ],
             [
              0.1111111111111111,
              "#46039f"
             ],
             [
              0.2222222222222222,
              "#7201a8"
             ],
             [
              0.3333333333333333,
              "#9c179e"
             ],
             [
              0.4444444444444444,
              "#bd3786"
             ],
             [
              0.5555555555555556,
              "#d8576b"
             ],
             [
              0.6666666666666666,
              "#ed7953"
             ],
             [
              0.7777777777777778,
              "#fb9f3a"
             ],
             [
              0.8888888888888888,
              "#fdca26"
             ],
             [
              1,
              "#f0f921"
             ]
            ],
            "type": "histogram2dcontour"
           }
          ],
          "mesh3d": [
           {
            "colorbar": {
             "outlinewidth": 0,
             "ticks": ""
            },
            "type": "mesh3d"
           }
          ],
          "parcoords": [
           {
            "line": {
             "colorbar": {
              "outlinewidth": 0,
              "ticks": ""
             }
            },
            "type": "parcoords"
           }
          ],
          "pie": [
           {
            "automargin": true,
            "type": "pie"
           }
          ],
          "scatter": [
           {
            "fillpattern": {
             "fillmode": "overlay",
             "size": 10,
             "solidity": 0.2
            },
            "type": "scatter"
           }
          ],
          "scatter3d": [
           {
            "line": {
             "colorbar": {
              "outlinewidth": 0,
              "ticks": ""
             }
            },
            "marker": {
             "colorbar": {
              "outlinewidth": 0,
              "ticks": ""
             }
            },
            "type": "scatter3d"
           }
          ],
          "scattercarpet": [
           {
            "marker": {
             "colorbar": {
              "outlinewidth": 0,
              "ticks": ""
             }
            },
            "type": "scattercarpet"
           }
          ],
          "scattergeo": [
           {
            "marker": {
             "colorbar": {
              "outlinewidth": 0,
              "ticks": ""
             }
            },
            "type": "scattergeo"
           }
          ],
          "scattergl": [
           {
            "marker": {
             "colorbar": {
              "outlinewidth": 0,
              "ticks": ""
             }
            },
            "type": "scattergl"
           }
          ],
          "scattermapbox": [
           {
            "marker": {
             "colorbar": {
              "outlinewidth": 0,
              "ticks": ""
             }
            },
            "type": "scattermapbox"
           }
          ],
          "scatterpolar": [
           {
            "marker": {
             "colorbar": {
              "outlinewidth": 0,
              "ticks": ""
             }
            },
            "type": "scatterpolar"
           }
          ],
          "scatterpolargl": [
           {
            "marker": {
             "colorbar": {
              "outlinewidth": 0,
              "ticks": ""
             }
            },
            "type": "scatterpolargl"
           }
          ],
          "scatterternary": [
           {
            "marker": {
             "colorbar": {
              "outlinewidth": 0,
              "ticks": ""
             }
            },
            "type": "scatterternary"
           }
          ],
          "surface": [
           {
            "colorbar": {
             "outlinewidth": 0,
             "ticks": ""
            },
            "colorscale": [
             [
              0,
              "#0d0887"
             ],
             [
              0.1111111111111111,
              "#46039f"
             ],
             [
              0.2222222222222222,
              "#7201a8"
             ],
             [
              0.3333333333333333,
              "#9c179e"
             ],
             [
              0.4444444444444444,
              "#bd3786"
             ],
             [
              0.5555555555555556,
              "#d8576b"
             ],
             [
              0.6666666666666666,
              "#ed7953"
             ],
             [
              0.7777777777777778,
              "#fb9f3a"
             ],
             [
              0.8888888888888888,
              "#fdca26"
             ],
             [
              1,
              "#f0f921"
             ]
            ],
            "type": "surface"
           }
          ],
          "table": [
           {
            "cells": {
             "fill": {
              "color": "#EBF0F8"
             },
             "line": {
              "color": "white"
             }
            },
            "header": {
             "fill": {
              "color": "#C8D4E3"
             },
             "line": {
              "color": "white"
             }
            },
            "type": "table"
           }
          ]
         },
         "layout": {
          "annotationdefaults": {
           "arrowcolor": "#2a3f5f",
           "arrowhead": 0,
           "arrowwidth": 1
          },
          "autotypenumbers": "strict",
          "coloraxis": {
           "colorbar": {
            "outlinewidth": 0,
            "ticks": ""
           }
          },
          "colorscale": {
           "diverging": [
            [
             0,
             "#8e0152"
            ],
            [
             0.1,
             "#c51b7d"
            ],
            [
             0.2,
             "#de77ae"
            ],
            [
             0.3,
             "#f1b6da"
            ],
            [
             0.4,
             "#fde0ef"
            ],
            [
             0.5,
             "#f7f7f7"
            ],
            [
             0.6,
             "#e6f5d0"
            ],
            [
             0.7,
             "#b8e186"
            ],
            [
             0.8,
             "#7fbc41"
            ],
            [
             0.9,
             "#4d9221"
            ],
            [
             1,
             "#276419"
            ]
           ],
           "sequential": [
            [
             0,
             "#0d0887"
            ],
            [
             0.1111111111111111,
             "#46039f"
            ],
            [
             0.2222222222222222,
             "#7201a8"
            ],
            [
             0.3333333333333333,
             "#9c179e"
            ],
            [
             0.4444444444444444,
             "#bd3786"
            ],
            [
             0.5555555555555556,
             "#d8576b"
            ],
            [
             0.6666666666666666,
             "#ed7953"
            ],
            [
             0.7777777777777778,
             "#fb9f3a"
            ],
            [
             0.8888888888888888,
             "#fdca26"
            ],
            [
             1,
             "#f0f921"
            ]
           ],
           "sequentialminus": [
            [
             0,
             "#0d0887"
            ],
            [
             0.1111111111111111,
             "#46039f"
            ],
            [
             0.2222222222222222,
             "#7201a8"
            ],
            [
             0.3333333333333333,
             "#9c179e"
            ],
            [
             0.4444444444444444,
             "#bd3786"
            ],
            [
             0.5555555555555556,
             "#d8576b"
            ],
            [
             0.6666666666666666,
             "#ed7953"
            ],
            [
             0.7777777777777778,
             "#fb9f3a"
            ],
            [
             0.8888888888888888,
             "#fdca26"
            ],
            [
             1,
             "#f0f921"
            ]
           ]
          },
          "colorway": [
           "#636efa",
           "#EF553B",
           "#00cc96",
           "#ab63fa",
           "#FFA15A",
           "#19d3f3",
           "#FF6692",
           "#B6E880",
           "#FF97FF",
           "#FECB52"
          ],
          "font": {
           "color": "#2a3f5f"
          },
          "geo": {
           "bgcolor": "white",
           "lakecolor": "white",
           "landcolor": "#E5ECF6",
           "showlakes": true,
           "showland": true,
           "subunitcolor": "white"
          },
          "hoverlabel": {
           "align": "left"
          },
          "hovermode": "closest",
          "mapbox": {
           "style": "light"
          },
          "paper_bgcolor": "white",
          "plot_bgcolor": "#E5ECF6",
          "polar": {
           "angularaxis": {
            "gridcolor": "white",
            "linecolor": "white",
            "ticks": ""
           },
           "bgcolor": "#E5ECF6",
           "radialaxis": {
            "gridcolor": "white",
            "linecolor": "white",
            "ticks": ""
           }
          },
          "scene": {
           "xaxis": {
            "backgroundcolor": "#E5ECF6",
            "gridcolor": "white",
            "gridwidth": 2,
            "linecolor": "white",
            "showbackground": true,
            "ticks": "",
            "zerolinecolor": "white"
           },
           "yaxis": {
            "backgroundcolor": "#E5ECF6",
            "gridcolor": "white",
            "gridwidth": 2,
            "linecolor": "white",
            "showbackground": true,
            "ticks": "",
            "zerolinecolor": "white"
           },
           "zaxis": {
            "backgroundcolor": "#E5ECF6",
            "gridcolor": "white",
            "gridwidth": 2,
            "linecolor": "white",
            "showbackground": true,
            "ticks": "",
            "zerolinecolor": "white"
           }
          },
          "shapedefaults": {
           "line": {
            "color": "#2a3f5f"
           }
          },
          "ternary": {
           "aaxis": {
            "gridcolor": "white",
            "linecolor": "white",
            "ticks": ""
           },
           "baxis": {
            "gridcolor": "white",
            "linecolor": "white",
            "ticks": ""
           },
           "bgcolor": "#E5ECF6",
           "caxis": {
            "gridcolor": "white",
            "linecolor": "white",
            "ticks": ""
           }
          },
          "title": {
           "x": 0.05
          },
          "xaxis": {
           "automargin": true,
           "gridcolor": "white",
           "linecolor": "white",
           "ticks": "",
           "title": {
            "standoff": 15
           },
           "zerolinecolor": "white",
           "zerolinewidth": 2
          },
          "yaxis": {
           "automargin": true,
           "gridcolor": "white",
           "linecolor": "white",
           "ticks": "",
           "title": {
            "standoff": 15
           },
           "zerolinecolor": "white",
           "zerolinewidth": 2
          }
         }
        },
        "title": {
         "text": "Prescription Stacked Subplots"
        },
        "width": 800,
        "xaxis": {
         "anchor": "y",
         "domain": [
          0,
          1
         ]
        },
        "xaxis2": {
         "anchor": "y2",
         "domain": [
          0,
          1
         ]
        },
        "xaxis3": {
         "anchor": "y3",
         "domain": [
          0,
          1
         ]
        },
        "yaxis": {
         "anchor": "x",
         "domain": [
          0.7333333333333333,
          1
         ]
        },
        "yaxis2": {
         "anchor": "x2",
         "domain": [
          0.36666666666666664,
          0.6333333333333333
         ]
        },
        "yaxis3": {
         "anchor": "x3",
         "domain": [
          0,
          0.26666666666666666
         ]
        }
       }
      }
     },
     "metadata": {},
     "output_type": "display_data"
    }
   ],
   "source": [
    "# decomposition of dataset\n",
    "\n",
    "# instantiate dict and df containers\n",
    "analysis_dict = {}\n",
    "analysis_df_full = pd.DataFrame.empty\n",
    "\n",
    "# instantiate decomposition model\n",
    "decomposition = tsa.seasonal_decompose(summary_df, model='additive')\n",
    "\n",
    "# decomposition components to dict\n",
    "analysis_dict={'trend':dict(decomposition.trend),'seasonal':dict(decomposition.seasonal),'residual':dict(decomposition.resid)}\n",
    "\n",
    "# dict to df\n",
    "analysis_df_full = pd.DataFrame(analysis_dict)\n",
    "\n",
    "# now we can visualize the components\n",
    "fig = make_subplots(rows=3, cols=1)\n",
    "fig.append_trace(go.Scatter(\n",
    "    name = 'Trend',\n",
    "    x = list(analysis_df_full.index),\n",
    "    y = list(analysis_df_full['trend']),), row=1, col=1)\n",
    "fig.append_trace(go.Scatter(\n",
    "    name = 'Seasonal',\n",
    "    x = list(analysis_df_full.index),\n",
    "    y = list(analysis_df_full['seasonal']),), row=2, col=1)\n",
    "fig.append_trace(go.Scatter(\n",
    "    name = 'Residuals',\n",
    "    x = list(analysis_df_full.index),\n",
    "    y = list(analysis_df_full['residual']),), row=3, col=1)\n",
    "fig.update_layout(height=600, width=800, title_text=f\"Prescription Stacked Subplots\")\n",
    "fig.show()"
   ]
  },
  {
   "attachments": {},
   "cell_type": "markdown",
   "metadata": {},
   "source": [
    "There's a clear trend in the data increasing with time. The decomposition has found some seasonality, and the residuals look pretty good/stationary. Nevertheless, let's try differencing to address some of the trend. Because the data are divided into quarters I'll try differencing across 4 quarters."
   ]
  },
  {
   "cell_type": "code",
   "execution_count": 48,
   "metadata": {},
   "outputs": [
    {
     "data": {
      "application/vnd.plotly.v1+json": {
       "config": {
        "plotlyServerURL": "https://plot.ly"
       },
       "data": [
        {
         "mode": "markers",
         "type": "scatter",
         "x": [
          "1991-06-30T00:00:00",
          "1991-09-30T00:00:00",
          "1991-12-31T00:00:00",
          "1992-03-31T00:00:00",
          "1992-06-30T00:00:00",
          "1992-09-30T00:00:00",
          "1992-12-31T00:00:00",
          "1993-03-31T00:00:00",
          "1993-06-30T00:00:00",
          "1993-09-30T00:00:00",
          "1993-12-31T00:00:00",
          "1994-03-31T00:00:00",
          "1994-06-30T00:00:00",
          "1994-09-30T00:00:00",
          "1994-12-31T00:00:00",
          "1995-03-31T00:00:00",
          "1995-06-30T00:00:00",
          "1995-09-30T00:00:00",
          "1995-12-31T00:00:00",
          "1996-03-31T00:00:00",
          "1996-06-30T00:00:00",
          "1996-09-30T00:00:00",
          "1996-12-31T00:00:00",
          "1997-03-31T00:00:00",
          "1997-06-30T00:00:00",
          "1997-09-30T00:00:00",
          "1997-12-31T00:00:00",
          "1998-03-31T00:00:00",
          "1998-06-30T00:00:00",
          "1998-09-30T00:00:00",
          "1998-12-31T00:00:00",
          "1999-03-31T00:00:00",
          "1999-06-30T00:00:00",
          "1999-09-30T00:00:00",
          "1999-12-31T00:00:00",
          "2000-03-31T00:00:00",
          "2000-06-30T00:00:00",
          "2000-09-30T00:00:00",
          "2000-12-31T00:00:00",
          "2001-03-31T00:00:00",
          "2001-06-30T00:00:00",
          "2001-09-30T00:00:00",
          "2001-12-31T00:00:00",
          "2002-03-31T00:00:00",
          "2002-06-30T00:00:00",
          "2002-09-30T00:00:00",
          "2002-12-31T00:00:00",
          "2003-03-31T00:00:00",
          "2003-06-30T00:00:00",
          "2003-09-30T00:00:00",
          "2003-12-31T00:00:00",
          "2004-03-31T00:00:00",
          "2004-06-30T00:00:00",
          "2004-09-30T00:00:00",
          "2004-12-31T00:00:00",
          "2005-03-31T00:00:00",
          "2005-06-30T00:00:00",
          "2005-09-30T00:00:00",
          "2005-12-31T00:00:00",
          "2006-03-31T00:00:00",
          "2006-06-30T00:00:00",
          "2006-09-30T00:00:00",
          "2006-12-31T00:00:00",
          "2007-03-31T00:00:00",
          "2007-06-30T00:00:00",
          "2007-09-30T00:00:00",
          "2007-12-31T00:00:00",
          "2008-03-31T00:00:00",
          "2008-06-30T00:00:00",
          "2008-09-30T00:00:00",
          "2008-12-31T00:00:00",
          "2009-03-31T00:00:00",
          "2009-06-30T00:00:00",
          "2009-09-30T00:00:00",
          "2009-12-31T00:00:00",
          "2010-03-31T00:00:00",
          "2010-06-30T00:00:00",
          "2010-09-30T00:00:00",
          "2010-12-31T00:00:00",
          "2011-03-31T00:00:00",
          "2011-06-30T00:00:00",
          "2011-09-30T00:00:00",
          "2011-12-31T00:00:00",
          "2012-03-31T00:00:00",
          "2012-06-30T00:00:00",
          "2012-09-30T00:00:00",
          "2012-12-31T00:00:00",
          "2013-03-31T00:00:00",
          "2013-06-30T00:00:00",
          "2013-09-30T00:00:00",
          "2013-12-31T00:00:00",
          "2014-03-31T00:00:00",
          "2014-06-30T00:00:00",
          "2014-09-30T00:00:00",
          "2014-12-31T00:00:00",
          "2015-03-31T00:00:00",
          "2015-06-30T00:00:00",
          "2015-09-30T00:00:00",
          "2015-12-31T00:00:00",
          "2016-03-31T00:00:00",
          "2016-06-30T00:00:00",
          "2016-09-30T00:00:00",
          "2016-12-31T00:00:00",
          "2017-03-31T00:00:00",
          "2017-06-30T00:00:00",
          "2017-09-30T00:00:00",
          "2017-12-31T00:00:00",
          "2018-03-31T00:00:00",
          "2018-06-30T00:00:00",
          "2018-09-30T00:00:00",
          "2018-12-31T00:00:00",
          "2019-03-31T00:00:00",
          "2019-06-30T00:00:00",
          "2019-09-30T00:00:00",
          "2019-12-31T00:00:00",
          "2020-03-31T00:00:00",
          "2020-06-30T00:00:00",
          "2020-09-30T00:00:00",
          "2020-12-31T00:00:00",
          "2021-03-31T00:00:00",
          "2021-06-30T00:00:00",
          "2021-09-30T00:00:00",
          "2021-12-31T00:00:00",
          "2022-03-31T00:00:00"
         ],
         "y": [
          18587645,
          8302867,
          6921087,
          8285091,
          -5996196,
          -1566193,
          10520100,
          8866775,
          -7045696,
          2818588,
          922716,
          4361050,
          -8746113,
          -6193107,
          4482802,
          -3848337,
          3721813,
          33589960,
          -503942,
          664103,
          -9069877,
          -1491199,
          2047293,
          -2120933,
          -4099307,
          -2442129,
          1191476,
          12625881,
          -502672,
          -4695239,
          7152195,
          2423478,
          -5718756,
          -4705623,
          10694544,
          -4742045,
          363690,
          5173844,
          23097727,
          -7506301,
          -2522631,
          -3373603,
          4383483,
          -330359,
          2323000,
          3182612,
          4977451,
          815236,
          2798476,
          217423077,
          -187285884,
          47642464,
          137002620,
          -88960683,
          58741827,
          151347758,
          -243357966,
          -74247405,
          171105289,
          -241861347,
          -5048810,
          -10567995,
          7179132,
          4304281,
          -4284609,
          -1804891,
          -1312085,
          6517453,
          5602856,
          -10783872,
          7157466,
          784037,
          16278547,
          -13083731,
          3626262,
          9543634,
          35241489,
          6586356,
          11648787,
          3691276,
          -1181093,
          -21860211,
          17744562,
          2746507,
          -765558,
          3090454,
          -3437413,
          -739728,
          -4577414,
          -7341657,
          3699687,
          1993106,
          16366284,
          2606785,
          6231775,
          -2164974,
          8579083,
          -1531714,
          6314375,
          11435425,
          -9549730,
          -3274330,
          18890073,
          -1991741,
          4002323,
          -17387724,
          12129412,
          17695343,
          -3845493,
          -11262398,
          6682991,
          6931845,
          -7887611,
          -302292,
          3133271,
          2745155,
          -35260621,
          25677579,
          10304705,
          6107990,
          9190998,
          7129295,
          3315126,
          -5818528
         ]
        }
       ],
       "layout": {
        "template": {
         "data": {
          "bar": [
           {
            "error_x": {
             "color": "#2a3f5f"
            },
            "error_y": {
             "color": "#2a3f5f"
            },
            "marker": {
             "line": {
              "color": "#E5ECF6",
              "width": 0.5
             },
             "pattern": {
              "fillmode": "overlay",
              "size": 10,
              "solidity": 0.2
             }
            },
            "type": "bar"
           }
          ],
          "barpolar": [
           {
            "marker": {
             "line": {
              "color": "#E5ECF6",
              "width": 0.5
             },
             "pattern": {
              "fillmode": "overlay",
              "size": 10,
              "solidity": 0.2
             }
            },
            "type": "barpolar"
           }
          ],
          "carpet": [
           {
            "aaxis": {
             "endlinecolor": "#2a3f5f",
             "gridcolor": "white",
             "linecolor": "white",
             "minorgridcolor": "white",
             "startlinecolor": "#2a3f5f"
            },
            "baxis": {
             "endlinecolor": "#2a3f5f",
             "gridcolor": "white",
             "linecolor": "white",
             "minorgridcolor": "white",
             "startlinecolor": "#2a3f5f"
            },
            "type": "carpet"
           }
          ],
          "choropleth": [
           {
            "colorbar": {
             "outlinewidth": 0,
             "ticks": ""
            },
            "type": "choropleth"
           }
          ],
          "contour": [
           {
            "colorbar": {
             "outlinewidth": 0,
             "ticks": ""
            },
            "colorscale": [
             [
              0,
              "#0d0887"
             ],
             [
              0.1111111111111111,
              "#46039f"
             ],
             [
              0.2222222222222222,
              "#7201a8"
             ],
             [
              0.3333333333333333,
              "#9c179e"
             ],
             [
              0.4444444444444444,
              "#bd3786"
             ],
             [
              0.5555555555555556,
              "#d8576b"
             ],
             [
              0.6666666666666666,
              "#ed7953"
             ],
             [
              0.7777777777777778,
              "#fb9f3a"
             ],
             [
              0.8888888888888888,
              "#fdca26"
             ],
             [
              1,
              "#f0f921"
             ]
            ],
            "type": "contour"
           }
          ],
          "contourcarpet": [
           {
            "colorbar": {
             "outlinewidth": 0,
             "ticks": ""
            },
            "type": "contourcarpet"
           }
          ],
          "heatmap": [
           {
            "colorbar": {
             "outlinewidth": 0,
             "ticks": ""
            },
            "colorscale": [
             [
              0,
              "#0d0887"
             ],
             [
              0.1111111111111111,
              "#46039f"
             ],
             [
              0.2222222222222222,
              "#7201a8"
             ],
             [
              0.3333333333333333,
              "#9c179e"
             ],
             [
              0.4444444444444444,
              "#bd3786"
             ],
             [
              0.5555555555555556,
              "#d8576b"
             ],
             [
              0.6666666666666666,
              "#ed7953"
             ],
             [
              0.7777777777777778,
              "#fb9f3a"
             ],
             [
              0.8888888888888888,
              "#fdca26"
             ],
             [
              1,
              "#f0f921"
             ]
            ],
            "type": "heatmap"
           }
          ],
          "heatmapgl": [
           {
            "colorbar": {
             "outlinewidth": 0,
             "ticks": ""
            },
            "colorscale": [
             [
              0,
              "#0d0887"
             ],
             [
              0.1111111111111111,
              "#46039f"
             ],
             [
              0.2222222222222222,
              "#7201a8"
             ],
             [
              0.3333333333333333,
              "#9c179e"
             ],
             [
              0.4444444444444444,
              "#bd3786"
             ],
             [
              0.5555555555555556,
              "#d8576b"
             ],
             [
              0.6666666666666666,
              "#ed7953"
             ],
             [
              0.7777777777777778,
              "#fb9f3a"
             ],
             [
              0.8888888888888888,
              "#fdca26"
             ],
             [
              1,
              "#f0f921"
             ]
            ],
            "type": "heatmapgl"
           }
          ],
          "histogram": [
           {
            "marker": {
             "pattern": {
              "fillmode": "overlay",
              "size": 10,
              "solidity": 0.2
             }
            },
            "type": "histogram"
           }
          ],
          "histogram2d": [
           {
            "colorbar": {
             "outlinewidth": 0,
             "ticks": ""
            },
            "colorscale": [
             [
              0,
              "#0d0887"
             ],
             [
              0.1111111111111111,
              "#46039f"
             ],
             [
              0.2222222222222222,
              "#7201a8"
             ],
             [
              0.3333333333333333,
              "#9c179e"
             ],
             [
              0.4444444444444444,
              "#bd3786"
             ],
             [
              0.5555555555555556,
              "#d8576b"
             ],
             [
              0.6666666666666666,
              "#ed7953"
             ],
             [
              0.7777777777777778,
              "#fb9f3a"
             ],
             [
              0.8888888888888888,
              "#fdca26"
             ],
             [
              1,
              "#f0f921"
             ]
            ],
            "type": "histogram2d"
           }
          ],
          "histogram2dcontour": [
           {
            "colorbar": {
             "outlinewidth": 0,
             "ticks": ""
            },
            "colorscale": [
             [
              0,
              "#0d0887"
             ],
             [
              0.1111111111111111,
              "#46039f"
             ],
             [
              0.2222222222222222,
              "#7201a8"
             ],
             [
              0.3333333333333333,
              "#9c179e"
             ],
             [
              0.4444444444444444,
              "#bd3786"
             ],
             [
              0.5555555555555556,
              "#d8576b"
             ],
             [
              0.6666666666666666,
              "#ed7953"
             ],
             [
              0.7777777777777778,
              "#fb9f3a"
             ],
             [
              0.8888888888888888,
              "#fdca26"
             ],
             [
              1,
              "#f0f921"
             ]
            ],
            "type": "histogram2dcontour"
           }
          ],
          "mesh3d": [
           {
            "colorbar": {
             "outlinewidth": 0,
             "ticks": ""
            },
            "type": "mesh3d"
           }
          ],
          "parcoords": [
           {
            "line": {
             "colorbar": {
              "outlinewidth": 0,
              "ticks": ""
             }
            },
            "type": "parcoords"
           }
          ],
          "pie": [
           {
            "automargin": true,
            "type": "pie"
           }
          ],
          "scatter": [
           {
            "fillpattern": {
             "fillmode": "overlay",
             "size": 10,
             "solidity": 0.2
            },
            "type": "scatter"
           }
          ],
          "scatter3d": [
           {
            "line": {
             "colorbar": {
              "outlinewidth": 0,
              "ticks": ""
             }
            },
            "marker": {
             "colorbar": {
              "outlinewidth": 0,
              "ticks": ""
             }
            },
            "type": "scatter3d"
           }
          ],
          "scattercarpet": [
           {
            "marker": {
             "colorbar": {
              "outlinewidth": 0,
              "ticks": ""
             }
            },
            "type": "scattercarpet"
           }
          ],
          "scattergeo": [
           {
            "marker": {
             "colorbar": {
              "outlinewidth": 0,
              "ticks": ""
             }
            },
            "type": "scattergeo"
           }
          ],
          "scattergl": [
           {
            "marker": {
             "colorbar": {
              "outlinewidth": 0,
              "ticks": ""
             }
            },
            "type": "scattergl"
           }
          ],
          "scattermapbox": [
           {
            "marker": {
             "colorbar": {
              "outlinewidth": 0,
              "ticks": ""
             }
            },
            "type": "scattermapbox"
           }
          ],
          "scatterpolar": [
           {
            "marker": {
             "colorbar": {
              "outlinewidth": 0,
              "ticks": ""
             }
            },
            "type": "scatterpolar"
           }
          ],
          "scatterpolargl": [
           {
            "marker": {
             "colorbar": {
              "outlinewidth": 0,
              "ticks": ""
             }
            },
            "type": "scatterpolargl"
           }
          ],
          "scatterternary": [
           {
            "marker": {
             "colorbar": {
              "outlinewidth": 0,
              "ticks": ""
             }
            },
            "type": "scatterternary"
           }
          ],
          "surface": [
           {
            "colorbar": {
             "outlinewidth": 0,
             "ticks": ""
            },
            "colorscale": [
             [
              0,
              "#0d0887"
             ],
             [
              0.1111111111111111,
              "#46039f"
             ],
             [
              0.2222222222222222,
              "#7201a8"
             ],
             [
              0.3333333333333333,
              "#9c179e"
             ],
             [
              0.4444444444444444,
              "#bd3786"
             ],
             [
              0.5555555555555556,
              "#d8576b"
             ],
             [
              0.6666666666666666,
              "#ed7953"
             ],
             [
              0.7777777777777778,
              "#fb9f3a"
             ],
             [
              0.8888888888888888,
              "#fdca26"
             ],
             [
              1,
              "#f0f921"
             ]
            ],
            "type": "surface"
           }
          ],
          "table": [
           {
            "cells": {
             "fill": {
              "color": "#EBF0F8"
             },
             "line": {
              "color": "white"
             }
            },
            "header": {
             "fill": {
              "color": "#C8D4E3"
             },
             "line": {
              "color": "white"
             }
            },
            "type": "table"
           }
          ]
         },
         "layout": {
          "annotationdefaults": {
           "arrowcolor": "#2a3f5f",
           "arrowhead": 0,
           "arrowwidth": 1
          },
          "autotypenumbers": "strict",
          "coloraxis": {
           "colorbar": {
            "outlinewidth": 0,
            "ticks": ""
           }
          },
          "colorscale": {
           "diverging": [
            [
             0,
             "#8e0152"
            ],
            [
             0.1,
             "#c51b7d"
            ],
            [
             0.2,
             "#de77ae"
            ],
            [
             0.3,
             "#f1b6da"
            ],
            [
             0.4,
             "#fde0ef"
            ],
            [
             0.5,
             "#f7f7f7"
            ],
            [
             0.6,
             "#e6f5d0"
            ],
            [
             0.7,
             "#b8e186"
            ],
            [
             0.8,
             "#7fbc41"
            ],
            [
             0.9,
             "#4d9221"
            ],
            [
             1,
             "#276419"
            ]
           ],
           "sequential": [
            [
             0,
             "#0d0887"
            ],
            [
             0.1111111111111111,
             "#46039f"
            ],
            [
             0.2222222222222222,
             "#7201a8"
            ],
            [
             0.3333333333333333,
             "#9c179e"
            ],
            [
             0.4444444444444444,
             "#bd3786"
            ],
            [
             0.5555555555555556,
             "#d8576b"
            ],
            [
             0.6666666666666666,
             "#ed7953"
            ],
            [
             0.7777777777777778,
             "#fb9f3a"
            ],
            [
             0.8888888888888888,
             "#fdca26"
            ],
            [
             1,
             "#f0f921"
            ]
           ],
           "sequentialminus": [
            [
             0,
             "#0d0887"
            ],
            [
             0.1111111111111111,
             "#46039f"
            ],
            [
             0.2222222222222222,
             "#7201a8"
            ],
            [
             0.3333333333333333,
             "#9c179e"
            ],
            [
             0.4444444444444444,
             "#bd3786"
            ],
            [
             0.5555555555555556,
             "#d8576b"
            ],
            [
             0.6666666666666666,
             "#ed7953"
            ],
            [
             0.7777777777777778,
             "#fb9f3a"
            ],
            [
             0.8888888888888888,
             "#fdca26"
            ],
            [
             1,
             "#f0f921"
            ]
           ]
          },
          "colorway": [
           "#636efa",
           "#EF553B",
           "#00cc96",
           "#ab63fa",
           "#FFA15A",
           "#19d3f3",
           "#FF6692",
           "#B6E880",
           "#FF97FF",
           "#FECB52"
          ],
          "font": {
           "color": "#2a3f5f"
          },
          "geo": {
           "bgcolor": "white",
           "lakecolor": "white",
           "landcolor": "#E5ECF6",
           "showlakes": true,
           "showland": true,
           "subunitcolor": "white"
          },
          "hoverlabel": {
           "align": "left"
          },
          "hovermode": "closest",
          "mapbox": {
           "style": "light"
          },
          "paper_bgcolor": "white",
          "plot_bgcolor": "#E5ECF6",
          "polar": {
           "angularaxis": {
            "gridcolor": "white",
            "linecolor": "white",
            "ticks": ""
           },
           "bgcolor": "#E5ECF6",
           "radialaxis": {
            "gridcolor": "white",
            "linecolor": "white",
            "ticks": ""
           }
          },
          "scene": {
           "xaxis": {
            "backgroundcolor": "#E5ECF6",
            "gridcolor": "white",
            "gridwidth": 2,
            "linecolor": "white",
            "showbackground": true,
            "ticks": "",
            "zerolinecolor": "white"
           },
           "yaxis": {
            "backgroundcolor": "#E5ECF6",
            "gridcolor": "white",
            "gridwidth": 2,
            "linecolor": "white",
            "showbackground": true,
            "ticks": "",
            "zerolinecolor": "white"
           },
           "zaxis": {
            "backgroundcolor": "#E5ECF6",
            "gridcolor": "white",
            "gridwidth": 2,
            "linecolor": "white",
            "showbackground": true,
            "ticks": "",
            "zerolinecolor": "white"
           }
          },
          "shapedefaults": {
           "line": {
            "color": "#2a3f5f"
           }
          },
          "ternary": {
           "aaxis": {
            "gridcolor": "white",
            "linecolor": "white",
            "ticks": ""
           },
           "baxis": {
            "gridcolor": "white",
            "linecolor": "white",
            "ticks": ""
           },
           "bgcolor": "#E5ECF6",
           "caxis": {
            "gridcolor": "white",
            "linecolor": "white",
            "ticks": ""
           }
          },
          "title": {
           "x": 0.05
          },
          "xaxis": {
           "automargin": true,
           "gridcolor": "white",
           "linecolor": "white",
           "ticks": "",
           "title": {
            "standoff": 15
           },
           "zerolinecolor": "white",
           "zerolinewidth": 2
          },
          "yaxis": {
           "automargin": true,
           "gridcolor": "white",
           "linecolor": "white",
           "ticks": "",
           "title": {
            "standoff": 15
           },
           "zerolinecolor": "white",
           "zerolinewidth": 2
          }
         }
        },
        "title": {
         "text": "Prescriptions Reimbursed Annually, 1991-2022"
        },
        "xaxis": {
         "title": {
          "text": "Year"
         }
        },
        "yaxis": {
         "title": {
          "text": "Prescriptions"
         }
        }
       }
      }
     },
     "metadata": {},
     "output_type": "display_data"
    },
    {
     "data": {
      "application/vnd.plotly.v1+json": {
       "config": {
        "plotlyServerURL": "https://plot.ly"
       },
       "data": [
        {
         "name": "Trend",
         "type": "scatter",
         "x": [
          "1991-06-30T00:00:00",
          "1991-09-30T00:00:00",
          "1991-12-31T00:00:00",
          "1992-03-31T00:00:00",
          "1992-06-30T00:00:00",
          "1992-09-30T00:00:00",
          "1992-12-31T00:00:00",
          "1993-03-31T00:00:00",
          "1993-06-30T00:00:00",
          "1993-09-30T00:00:00",
          "1993-12-31T00:00:00",
          "1994-03-31T00:00:00",
          "1994-06-30T00:00:00",
          "1994-09-30T00:00:00",
          "1994-12-31T00:00:00",
          "1995-03-31T00:00:00",
          "1995-06-30T00:00:00",
          "1995-09-30T00:00:00",
          "1995-12-31T00:00:00",
          "1996-03-31T00:00:00",
          "1996-06-30T00:00:00",
          "1996-09-30T00:00:00",
          "1996-12-31T00:00:00",
          "1997-03-31T00:00:00",
          "1997-06-30T00:00:00",
          "1997-09-30T00:00:00",
          "1997-12-31T00:00:00",
          "1998-03-31T00:00:00",
          "1998-06-30T00:00:00",
          "1998-09-30T00:00:00",
          "1998-12-31T00:00:00",
          "1999-03-31T00:00:00",
          "1999-06-30T00:00:00",
          "1999-09-30T00:00:00",
          "1999-12-31T00:00:00",
          "2000-03-31T00:00:00",
          "2000-06-30T00:00:00",
          "2000-09-30T00:00:00",
          "2000-12-31T00:00:00",
          "2001-03-31T00:00:00",
          "2001-06-30T00:00:00",
          "2001-09-30T00:00:00",
          "2001-12-31T00:00:00",
          "2002-03-31T00:00:00",
          "2002-06-30T00:00:00",
          "2002-09-30T00:00:00",
          "2002-12-31T00:00:00",
          "2003-03-31T00:00:00",
          "2003-06-30T00:00:00",
          "2003-09-30T00:00:00",
          "2003-12-31T00:00:00",
          "2004-03-31T00:00:00",
          "2004-06-30T00:00:00",
          "2004-09-30T00:00:00",
          "2004-12-31T00:00:00",
          "2005-03-31T00:00:00",
          "2005-06-30T00:00:00",
          "2005-09-30T00:00:00",
          "2005-12-31T00:00:00",
          "2006-03-31T00:00:00",
          "2006-06-30T00:00:00",
          "2006-09-30T00:00:00",
          "2006-12-31T00:00:00",
          "2007-03-31T00:00:00",
          "2007-06-30T00:00:00",
          "2007-09-30T00:00:00",
          "2007-12-31T00:00:00",
          "2008-03-31T00:00:00",
          "2008-06-30T00:00:00",
          "2008-09-30T00:00:00",
          "2008-12-31T00:00:00",
          "2009-03-31T00:00:00",
          "2009-06-30T00:00:00",
          "2009-09-30T00:00:00",
          "2009-12-31T00:00:00",
          "2010-03-31T00:00:00",
          "2010-06-30T00:00:00",
          "2010-09-30T00:00:00",
          "2010-12-31T00:00:00",
          "2011-03-31T00:00:00",
          "2011-06-30T00:00:00",
          "2011-09-30T00:00:00",
          "2011-12-31T00:00:00",
          "2012-03-31T00:00:00",
          "2012-06-30T00:00:00",
          "2012-09-30T00:00:00",
          "2012-12-31T00:00:00",
          "2013-03-31T00:00:00",
          "2013-06-30T00:00:00",
          "2013-09-30T00:00:00",
          "2013-12-31T00:00:00",
          "2014-03-31T00:00:00",
          "2014-06-30T00:00:00",
          "2014-09-30T00:00:00",
          "2014-12-31T00:00:00",
          "2015-03-31T00:00:00",
          "2015-06-30T00:00:00",
          "2015-09-30T00:00:00",
          "2015-12-31T00:00:00",
          "2016-03-31T00:00:00",
          "2016-06-30T00:00:00",
          "2016-09-30T00:00:00",
          "2016-12-31T00:00:00",
          "2017-03-31T00:00:00",
          "2017-06-30T00:00:00",
          "2017-09-30T00:00:00",
          "2017-12-31T00:00:00",
          "2018-03-31T00:00:00",
          "2018-06-30T00:00:00",
          "2018-09-30T00:00:00",
          "2018-12-31T00:00:00",
          "2019-03-31T00:00:00",
          "2019-06-30T00:00:00",
          "2019-09-30T00:00:00",
          "2019-12-31T00:00:00",
          "2020-03-31T00:00:00",
          "2020-06-30T00:00:00",
          "2020-09-30T00:00:00",
          "2020-12-31T00:00:00",
          "2021-03-31T00:00:00",
          "2021-06-30T00:00:00",
          "2021-09-30T00:00:00",
          "2021-12-31T00:00:00",
          "2022-03-31T00:00:00"
         ],
         "xaxis": "x",
         "y": [
          null,
          null,
          7451192.375,
          3144579.75,
          2360823.875,
          2883411,
          2824934,
          3241844.125,
          2590268.75,
          827380.125,
          51612.375,
          -1287401.625,
          -1968852.75,
          -2550015.375,
          -2017698,
          4513676.125,
          8863216.5,
          8803928.5,
          7769022.25,
          1784916.125,
          -2281324.375,
          -2310549.5,
          -2037357.75,
          -1534902.75,
          -1760746.125,
          -24371.5,
          2268559.625,
          2436500.25,
          2899951.375,
          2369740.875,
          442430,
          -210878.5,
          230617.125,
          -222279.625,
          -357664.25,
          1637574.875,
          4422906.125,
          5627772,
          4921449.875,
          3492228.875,
          84517.5,
          -1357770.25,
          144926.375,
          1570157.125,
          2463930,
          2681375.375,
          2884009.25,
          29723501.875,
          32470643.125,
          14291129.75,
          36920051.25,
          15397599.25,
          7853093.125,
          51569718.75,
          16987807.25,
          -28718106.25,
          -12833513.75,
          -47939219.125,
          -67301712.75,
          -29553142,
          -42083985.375,
          -31804051.5,
          -937822.875,
          253090.25,
          287076.125,
          -497679.5,
          1014900.125,
          1128460.625,
          1064781.875,
          1406798.75,
          2024583.125,
          3071562.125,
          2342679.25,
          2996228.375,
          6461545.75,
          11290674.375,
          14752250.875,
          15023521.75,
          9739154.25,
          1630510.625,
          -1163338.375,
          -519462.625,
          -585616.875,
          2585158.125,
          3056244.375,
          -27281.875,
          -939543.25,
          -2720039.125,
          -3131915.5,
          -1898173.75,
          1061392.75,
          4922910.25,
          6482976.5,
          6279727.5,
          4786567.375,
          3295854.875,
          2788867.5,
          4499242.375,
          3933190.625,
          1449262,
          2803397.25,
          2696963.75,
          2712574.625,
          2642407,
          33150.125,
          1648953,
          3128861.5,
          2913550.25,
          2998413.375,
          972173.5,
          -878528.5,
          -13780,
          912518.25,
          -54533,
          -3999495.5,
          -4173637.875,
          -29724.75,
          1287058.875,
          7263865.625,
          10501782.5,
          7309549.625,
          4945037.5,
          null,
          null
         ],
         "yaxis": "y"
        },
        {
         "name": "Seasonal",
         "type": "scatter",
         "x": [
          "1991-06-30T00:00:00",
          "1991-09-30T00:00:00",
          "1991-12-31T00:00:00",
          "1992-03-31T00:00:00",
          "1992-06-30T00:00:00",
          "1992-09-30T00:00:00",
          "1992-12-31T00:00:00",
          "1993-03-31T00:00:00",
          "1993-06-30T00:00:00",
          "1993-09-30T00:00:00",
          "1993-12-31T00:00:00",
          "1994-03-31T00:00:00",
          "1994-06-30T00:00:00",
          "1994-09-30T00:00:00",
          "1994-12-31T00:00:00",
          "1995-03-31T00:00:00",
          "1995-06-30T00:00:00",
          "1995-09-30T00:00:00",
          "1995-12-31T00:00:00",
          "1996-03-31T00:00:00",
          "1996-06-30T00:00:00",
          "1996-09-30T00:00:00",
          "1996-12-31T00:00:00",
          "1997-03-31T00:00:00",
          "1997-06-30T00:00:00",
          "1997-09-30T00:00:00",
          "1997-12-31T00:00:00",
          "1998-03-31T00:00:00",
          "1998-06-30T00:00:00",
          "1998-09-30T00:00:00",
          "1998-12-31T00:00:00",
          "1999-03-31T00:00:00",
          "1999-06-30T00:00:00",
          "1999-09-30T00:00:00",
          "1999-12-31T00:00:00",
          "2000-03-31T00:00:00",
          "2000-06-30T00:00:00",
          "2000-09-30T00:00:00",
          "2000-12-31T00:00:00",
          "2001-03-31T00:00:00",
          "2001-06-30T00:00:00",
          "2001-09-30T00:00:00",
          "2001-12-31T00:00:00",
          "2002-03-31T00:00:00",
          "2002-06-30T00:00:00",
          "2002-09-30T00:00:00",
          "2002-12-31T00:00:00",
          "2003-03-31T00:00:00",
          "2003-06-30T00:00:00",
          "2003-09-30T00:00:00",
          "2003-12-31T00:00:00",
          "2004-03-31T00:00:00",
          "2004-06-30T00:00:00",
          "2004-09-30T00:00:00",
          "2004-12-31T00:00:00",
          "2005-03-31T00:00:00",
          "2005-06-30T00:00:00",
          "2005-09-30T00:00:00",
          "2005-12-31T00:00:00",
          "2006-03-31T00:00:00",
          "2006-06-30T00:00:00",
          "2006-09-30T00:00:00",
          "2006-12-31T00:00:00",
          "2007-03-31T00:00:00",
          "2007-06-30T00:00:00",
          "2007-09-30T00:00:00",
          "2007-12-31T00:00:00",
          "2008-03-31T00:00:00",
          "2008-06-30T00:00:00",
          "2008-09-30T00:00:00",
          "2008-12-31T00:00:00",
          "2009-03-31T00:00:00",
          "2009-06-30T00:00:00",
          "2009-09-30T00:00:00",
          "2009-12-31T00:00:00",
          "2010-03-31T00:00:00",
          "2010-06-30T00:00:00",
          "2010-09-30T00:00:00",
          "2010-12-31T00:00:00",
          "2011-03-31T00:00:00",
          "2011-06-30T00:00:00",
          "2011-09-30T00:00:00",
          "2011-12-31T00:00:00",
          "2012-03-31T00:00:00",
          "2012-06-30T00:00:00",
          "2012-09-30T00:00:00",
          "2012-12-31T00:00:00",
          "2013-03-31T00:00:00",
          "2013-06-30T00:00:00",
          "2013-09-30T00:00:00",
          "2013-12-31T00:00:00",
          "2014-03-31T00:00:00",
          "2014-06-30T00:00:00",
          "2014-09-30T00:00:00",
          "2014-12-31T00:00:00",
          "2015-03-31T00:00:00",
          "2015-06-30T00:00:00",
          "2015-09-30T00:00:00",
          "2015-12-31T00:00:00",
          "2016-03-31T00:00:00",
          "2016-06-30T00:00:00",
          "2016-09-30T00:00:00",
          "2016-12-31T00:00:00",
          "2017-03-31T00:00:00",
          "2017-06-30T00:00:00",
          "2017-09-30T00:00:00",
          "2017-12-31T00:00:00",
          "2018-03-31T00:00:00",
          "2018-06-30T00:00:00",
          "2018-09-30T00:00:00",
          "2018-12-31T00:00:00",
          "2019-03-31T00:00:00",
          "2019-06-30T00:00:00",
          "2019-09-30T00:00:00",
          "2019-12-31T00:00:00",
          "2020-03-31T00:00:00",
          "2020-06-30T00:00:00",
          "2020-09-30T00:00:00",
          "2020-12-31T00:00:00",
          "2021-03-31T00:00:00",
          "2021-06-30T00:00:00",
          "2021-09-30T00:00:00",
          "2021-12-31T00:00:00",
          "2022-03-31T00:00:00"
         ],
         "xaxis": "x2",
         "y": [
          -5406085.832291666,
          -719244.9822916668,
          6077628.134375,
          47702.680208333164,
          -5406085.832291666,
          -719244.9822916668,
          6077628.134375,
          47702.680208333164,
          -5406085.832291666,
          -719244.9822916668,
          6077628.134375,
          47702.680208333164,
          -5406085.832291666,
          -719244.9822916668,
          6077628.134375,
          47702.680208333164,
          -5406085.832291666,
          -719244.9822916668,
          6077628.134375,
          47702.680208333164,
          -5406085.832291666,
          -719244.9822916668,
          6077628.134375,
          47702.680208333164,
          -5406085.832291666,
          -719244.9822916668,
          6077628.134375,
          47702.680208333164,
          -5406085.832291666,
          -719244.9822916668,
          6077628.134375,
          47702.680208333164,
          -5406085.832291666,
          -719244.9822916668,
          6077628.134375,
          47702.680208333164,
          -5406085.832291666,
          -719244.9822916668,
          6077628.134375,
          47702.680208333164,
          -5406085.832291666,
          -719244.9822916668,
          6077628.134375,
          47702.680208333164,
          -5406085.832291666,
          -719244.9822916668,
          6077628.134375,
          47702.680208333164,
          -5406085.832291666,
          -719244.9822916668,
          6077628.134375,
          47702.680208333164,
          -5406085.832291666,
          -719244.9822916668,
          6077628.134375,
          47702.680208333164,
          -5406085.832291666,
          -719244.9822916668,
          6077628.134375,
          47702.680208333164,
          -5406085.832291666,
          -719244.9822916668,
          6077628.134375,
          47702.680208333164,
          -5406085.832291666,
          -719244.9822916668,
          6077628.134375,
          47702.680208333164,
          -5406085.832291666,
          -719244.9822916668,
          6077628.134375,
          47702.680208333164,
          -5406085.832291666,
          -719244.9822916668,
          6077628.134375,
          47702.680208333164,
          -5406085.832291666,
          -719244.9822916668,
          6077628.134375,
          47702.680208333164,
          -5406085.832291666,
          -719244.9822916668,
          6077628.134375,
          47702.680208333164,
          -5406085.832291666,
          -719244.9822916668,
          6077628.134375,
          47702.680208333164,
          -5406085.832291666,
          -719244.9822916668,
          6077628.134375,
          47702.680208333164,
          -5406085.832291666,
          -719244.9822916668,
          6077628.134375,
          47702.680208333164,
          -5406085.832291666,
          -719244.9822916668,
          6077628.134375,
          47702.680208333164,
          -5406085.832291666,
          -719244.9822916668,
          6077628.134375,
          47702.680208333164,
          -5406085.832291666,
          -719244.9822916668,
          6077628.134375,
          47702.680208333164,
          -5406085.832291666,
          -719244.9822916668,
          6077628.134375,
          47702.680208333164,
          -5406085.832291666,
          -719244.9822916668,
          6077628.134375,
          47702.680208333164,
          -5406085.832291666,
          -719244.9822916668,
          6077628.134375,
          47702.680208333164,
          -5406085.832291666,
          -719244.9822916668,
          6077628.134375,
          47702.680208333164
         ],
         "yaxis": "y2"
        },
        {
         "name": "Residuals",
         "type": "scatter",
         "x": [
          "1991-06-30T00:00:00",
          "1991-09-30T00:00:00",
          "1991-12-31T00:00:00",
          "1992-03-31T00:00:00",
          "1992-06-30T00:00:00",
          "1992-09-30T00:00:00",
          "1992-12-31T00:00:00",
          "1993-03-31T00:00:00",
          "1993-06-30T00:00:00",
          "1993-09-30T00:00:00",
          "1993-12-31T00:00:00",
          "1994-03-31T00:00:00",
          "1994-06-30T00:00:00",
          "1994-09-30T00:00:00",
          "1994-12-31T00:00:00",
          "1995-03-31T00:00:00",
          "1995-06-30T00:00:00",
          "1995-09-30T00:00:00",
          "1995-12-31T00:00:00",
          "1996-03-31T00:00:00",
          "1996-06-30T00:00:00",
          "1996-09-30T00:00:00",
          "1996-12-31T00:00:00",
          "1997-03-31T00:00:00",
          "1997-06-30T00:00:00",
          "1997-09-30T00:00:00",
          "1997-12-31T00:00:00",
          "1998-03-31T00:00:00",
          "1998-06-30T00:00:00",
          "1998-09-30T00:00:00",
          "1998-12-31T00:00:00",
          "1999-03-31T00:00:00",
          "1999-06-30T00:00:00",
          "1999-09-30T00:00:00",
          "1999-12-31T00:00:00",
          "2000-03-31T00:00:00",
          "2000-06-30T00:00:00",
          "2000-09-30T00:00:00",
          "2000-12-31T00:00:00",
          "2001-03-31T00:00:00",
          "2001-06-30T00:00:00",
          "2001-09-30T00:00:00",
          "2001-12-31T00:00:00",
          "2002-03-31T00:00:00",
          "2002-06-30T00:00:00",
          "2002-09-30T00:00:00",
          "2002-12-31T00:00:00",
          "2003-03-31T00:00:00",
          "2003-06-30T00:00:00",
          "2003-09-30T00:00:00",
          "2003-12-31T00:00:00",
          "2004-03-31T00:00:00",
          "2004-06-30T00:00:00",
          "2004-09-30T00:00:00",
          "2004-12-31T00:00:00",
          "2005-03-31T00:00:00",
          "2005-06-30T00:00:00",
          "2005-09-30T00:00:00",
          "2005-12-31T00:00:00",
          "2006-03-31T00:00:00",
          "2006-06-30T00:00:00",
          "2006-09-30T00:00:00",
          "2006-12-31T00:00:00",
          "2007-03-31T00:00:00",
          "2007-06-30T00:00:00",
          "2007-09-30T00:00:00",
          "2007-12-31T00:00:00",
          "2008-03-31T00:00:00",
          "2008-06-30T00:00:00",
          "2008-09-30T00:00:00",
          "2008-12-31T00:00:00",
          "2009-03-31T00:00:00",
          "2009-06-30T00:00:00",
          "2009-09-30T00:00:00",
          "2009-12-31T00:00:00",
          "2010-03-31T00:00:00",
          "2010-06-30T00:00:00",
          "2010-09-30T00:00:00",
          "2010-12-31T00:00:00",
          "2011-03-31T00:00:00",
          "2011-06-30T00:00:00",
          "2011-09-30T00:00:00",
          "2011-12-31T00:00:00",
          "2012-03-31T00:00:00",
          "2012-06-30T00:00:00",
          "2012-09-30T00:00:00",
          "2012-12-31T00:00:00",
          "2013-03-31T00:00:00",
          "2013-06-30T00:00:00",
          "2013-09-30T00:00:00",
          "2013-12-31T00:00:00",
          "2014-03-31T00:00:00",
          "2014-06-30T00:00:00",
          "2014-09-30T00:00:00",
          "2014-12-31T00:00:00",
          "2015-03-31T00:00:00",
          "2015-06-30T00:00:00",
          "2015-09-30T00:00:00",
          "2015-12-31T00:00:00",
          "2016-03-31T00:00:00",
          "2016-06-30T00:00:00",
          "2016-09-30T00:00:00",
          "2016-12-31T00:00:00",
          "2017-03-31T00:00:00",
          "2017-06-30T00:00:00",
          "2017-09-30T00:00:00",
          "2017-12-31T00:00:00",
          "2018-03-31T00:00:00",
          "2018-06-30T00:00:00",
          "2018-09-30T00:00:00",
          "2018-12-31T00:00:00",
          "2019-03-31T00:00:00",
          "2019-06-30T00:00:00",
          "2019-09-30T00:00:00",
          "2019-12-31T00:00:00",
          "2020-03-31T00:00:00",
          "2020-06-30T00:00:00",
          "2020-09-30T00:00:00",
          "2020-12-31T00:00:00",
          "2021-03-31T00:00:00",
          "2021-06-30T00:00:00",
          "2021-09-30T00:00:00",
          "2021-12-31T00:00:00",
          "2022-03-31T00:00:00"
         ],
         "xaxis": "x3",
         "y": [
          null,
          null,
          -6607733.509375,
          5092808.569791667,
          -2950934.0427083336,
          -3730359.017708333,
          1617537.8656249996,
          5577228.194791667,
          -4229878.917708334,
          2710452.857291667,
          -5206524.509375,
          5600748.944791667,
          -1371174.4177083336,
          -2923846.642708333,
          422871.8656249996,
          -8409715.805208333,
          264682.3322916664,
          25505276.48229167,
          -14350592.384375,
          -1168515.805208333,
          -1382466.7927083336,
          1538595.4822916668,
          -1992977.3843750004,
          -633732.9302083332,
          3067524.9572916664,
          -1698512.5177083332,
          -7154711.759375,
          10141678.069791667,
          2003462.4572916664,
          -6345734.892708333,
          632136.8656249996,
          2586653.8197916667,
          -543287.2927083336,
          -3764098.392708333,
          4974580.115625,
          -6427322.555208333,
          1346869.7072916664,
          265316.9822916668,
          12098648.990625,
          -11046232.555208333,
          2798937.3322916664,
          -1296587.7677083332,
          -1839071.5093750004,
          -1948218.805208333,
          5265155.832291666,
          1220481.6072916668,
          -3984186.3843750004,
          -28955968.555208333,
          -24266081.292708334,
          203851192.23229167,
          -230283563.384375,
          32197162.069791667,
          134555612.70729166,
          -139811156.76770833,
          35676391.615625,
          180018161.56979167,
          -225118366.41770834,
          -25588940.89270833,
          232329373.615625,
          -212355907.68020833,
          42441261.20729166,
          21955301.48229167,
          2039326.7406249996,
          4003488.0697916667,
          834400.7072916664,
          -587966.5177083332,
          -8404613.259375,
          5341289.694791667,
          9944159.957291666,
          -11471425.767708333,
          -944745.2593750004,
          -2335227.8052083333,
          19341953.582291666,
          -15360714.392708333,
          -8912911.884375,
          -1794743.055208333,
          25895323.957291666,
          -7717920.767708333,
          -4167995.3843750004,
          2013062.694791667,
          5388331.207291666,
          -20621503.39270833,
          12252550.740625,
          113646.19479166684,
          1584283.4572916664,
          3836980.857291667,
          -8575497.884375,
          1932608.444791667,
          3960587.3322916664,
          -4724238.267708333,
          -3439333.8843750004,
          -2977506.9302083333,
          15289393.332291666,
          -2953697.517708333,
          -4632420.509375,
          -5508531.555208333,
          11196301.332291666,
          -5311711.392708333,
          -3696443.7593750004,
          9938460.319791667,
          -6947041.417708334,
          -5252048.767708333,
          10099870.240625,
          -4681850.680208333,
          9375258.707291666,
          -18317432.01770833,
          2922922.3656249996,
          14734090.069791667,
          -1437820.5427083336,
          -11515326.517708333,
          1483891.3656249996,
          6897922.319791667,
          -3394043.4177083336,
          471485.9822916668,
          1055138.3656249996,
          6871090.194791667,
          -29824810.417708334,
          25109765.10729167,
          -3036788.7593750004,
          -4441495.180208333,
          7287534.207291666,
          2903502.482291667,
          null,
          null
         ],
         "yaxis": "y3"
        }
       ],
       "layout": {
        "height": 600,
        "template": {
         "data": {
          "bar": [
           {
            "error_x": {
             "color": "#2a3f5f"
            },
            "error_y": {
             "color": "#2a3f5f"
            },
            "marker": {
             "line": {
              "color": "#E5ECF6",
              "width": 0.5
             },
             "pattern": {
              "fillmode": "overlay",
              "size": 10,
              "solidity": 0.2
             }
            },
            "type": "bar"
           }
          ],
          "barpolar": [
           {
            "marker": {
             "line": {
              "color": "#E5ECF6",
              "width": 0.5
             },
             "pattern": {
              "fillmode": "overlay",
              "size": 10,
              "solidity": 0.2
             }
            },
            "type": "barpolar"
           }
          ],
          "carpet": [
           {
            "aaxis": {
             "endlinecolor": "#2a3f5f",
             "gridcolor": "white",
             "linecolor": "white",
             "minorgridcolor": "white",
             "startlinecolor": "#2a3f5f"
            },
            "baxis": {
             "endlinecolor": "#2a3f5f",
             "gridcolor": "white",
             "linecolor": "white",
             "minorgridcolor": "white",
             "startlinecolor": "#2a3f5f"
            },
            "type": "carpet"
           }
          ],
          "choropleth": [
           {
            "colorbar": {
             "outlinewidth": 0,
             "ticks": ""
            },
            "type": "choropleth"
           }
          ],
          "contour": [
           {
            "colorbar": {
             "outlinewidth": 0,
             "ticks": ""
            },
            "colorscale": [
             [
              0,
              "#0d0887"
             ],
             [
              0.1111111111111111,
              "#46039f"
             ],
             [
              0.2222222222222222,
              "#7201a8"
             ],
             [
              0.3333333333333333,
              "#9c179e"
             ],
             [
              0.4444444444444444,
              "#bd3786"
             ],
             [
              0.5555555555555556,
              "#d8576b"
             ],
             [
              0.6666666666666666,
              "#ed7953"
             ],
             [
              0.7777777777777778,
              "#fb9f3a"
             ],
             [
              0.8888888888888888,
              "#fdca26"
             ],
             [
              1,
              "#f0f921"
             ]
            ],
            "type": "contour"
           }
          ],
          "contourcarpet": [
           {
            "colorbar": {
             "outlinewidth": 0,
             "ticks": ""
            },
            "type": "contourcarpet"
           }
          ],
          "heatmap": [
           {
            "colorbar": {
             "outlinewidth": 0,
             "ticks": ""
            },
            "colorscale": [
             [
              0,
              "#0d0887"
             ],
             [
              0.1111111111111111,
              "#46039f"
             ],
             [
              0.2222222222222222,
              "#7201a8"
             ],
             [
              0.3333333333333333,
              "#9c179e"
             ],
             [
              0.4444444444444444,
              "#bd3786"
             ],
             [
              0.5555555555555556,
              "#d8576b"
             ],
             [
              0.6666666666666666,
              "#ed7953"
             ],
             [
              0.7777777777777778,
              "#fb9f3a"
             ],
             [
              0.8888888888888888,
              "#fdca26"
             ],
             [
              1,
              "#f0f921"
             ]
            ],
            "type": "heatmap"
           }
          ],
          "heatmapgl": [
           {
            "colorbar": {
             "outlinewidth": 0,
             "ticks": ""
            },
            "colorscale": [
             [
              0,
              "#0d0887"
             ],
             [
              0.1111111111111111,
              "#46039f"
             ],
             [
              0.2222222222222222,
              "#7201a8"
             ],
             [
              0.3333333333333333,
              "#9c179e"
             ],
             [
              0.4444444444444444,
              "#bd3786"
             ],
             [
              0.5555555555555556,
              "#d8576b"
             ],
             [
              0.6666666666666666,
              "#ed7953"
             ],
             [
              0.7777777777777778,
              "#fb9f3a"
             ],
             [
              0.8888888888888888,
              "#fdca26"
             ],
             [
              1,
              "#f0f921"
             ]
            ],
            "type": "heatmapgl"
           }
          ],
          "histogram": [
           {
            "marker": {
             "pattern": {
              "fillmode": "overlay",
              "size": 10,
              "solidity": 0.2
             }
            },
            "type": "histogram"
           }
          ],
          "histogram2d": [
           {
            "colorbar": {
             "outlinewidth": 0,
             "ticks": ""
            },
            "colorscale": [
             [
              0,
              "#0d0887"
             ],
             [
              0.1111111111111111,
              "#46039f"
             ],
             [
              0.2222222222222222,
              "#7201a8"
             ],
             [
              0.3333333333333333,
              "#9c179e"
             ],
             [
              0.4444444444444444,
              "#bd3786"
             ],
             [
              0.5555555555555556,
              "#d8576b"
             ],
             [
              0.6666666666666666,
              "#ed7953"
             ],
             [
              0.7777777777777778,
              "#fb9f3a"
             ],
             [
              0.8888888888888888,
              "#fdca26"
             ],
             [
              1,
              "#f0f921"
             ]
            ],
            "type": "histogram2d"
           }
          ],
          "histogram2dcontour": [
           {
            "colorbar": {
             "outlinewidth": 0,
             "ticks": ""
            },
            "colorscale": [
             [
              0,
              "#0d0887"
             ],
             [
              0.1111111111111111,
              "#46039f"
             ],
             [
              0.2222222222222222,
              "#7201a8"
             ],
             [
              0.3333333333333333,
              "#9c179e"
             ],
             [
              0.4444444444444444,
              "#bd3786"
             ],
             [
              0.5555555555555556,
              "#d8576b"
             ],
             [
              0.6666666666666666,
              "#ed7953"
             ],
             [
              0.7777777777777778,
              "#fb9f3a"
             ],
             [
              0.8888888888888888,
              "#fdca26"
             ],
             [
              1,
              "#f0f921"
             ]
            ],
            "type": "histogram2dcontour"
           }
          ],
          "mesh3d": [
           {
            "colorbar": {
             "outlinewidth": 0,
             "ticks": ""
            },
            "type": "mesh3d"
           }
          ],
          "parcoords": [
           {
            "line": {
             "colorbar": {
              "outlinewidth": 0,
              "ticks": ""
             }
            },
            "type": "parcoords"
           }
          ],
          "pie": [
           {
            "automargin": true,
            "type": "pie"
           }
          ],
          "scatter": [
           {
            "fillpattern": {
             "fillmode": "overlay",
             "size": 10,
             "solidity": 0.2
            },
            "type": "scatter"
           }
          ],
          "scatter3d": [
           {
            "line": {
             "colorbar": {
              "outlinewidth": 0,
              "ticks": ""
             }
            },
            "marker": {
             "colorbar": {
              "outlinewidth": 0,
              "ticks": ""
             }
            },
            "type": "scatter3d"
           }
          ],
          "scattercarpet": [
           {
            "marker": {
             "colorbar": {
              "outlinewidth": 0,
              "ticks": ""
             }
            },
            "type": "scattercarpet"
           }
          ],
          "scattergeo": [
           {
            "marker": {
             "colorbar": {
              "outlinewidth": 0,
              "ticks": ""
             }
            },
            "type": "scattergeo"
           }
          ],
          "scattergl": [
           {
            "marker": {
             "colorbar": {
              "outlinewidth": 0,
              "ticks": ""
             }
            },
            "type": "scattergl"
           }
          ],
          "scattermapbox": [
           {
            "marker": {
             "colorbar": {
              "outlinewidth": 0,
              "ticks": ""
             }
            },
            "type": "scattermapbox"
           }
          ],
          "scatterpolar": [
           {
            "marker": {
             "colorbar": {
              "outlinewidth": 0,
              "ticks": ""
             }
            },
            "type": "scatterpolar"
           }
          ],
          "scatterpolargl": [
           {
            "marker": {
             "colorbar": {
              "outlinewidth": 0,
              "ticks": ""
             }
            },
            "type": "scatterpolargl"
           }
          ],
          "scatterternary": [
           {
            "marker": {
             "colorbar": {
              "outlinewidth": 0,
              "ticks": ""
             }
            },
            "type": "scatterternary"
           }
          ],
          "surface": [
           {
            "colorbar": {
             "outlinewidth": 0,
             "ticks": ""
            },
            "colorscale": [
             [
              0,
              "#0d0887"
             ],
             [
              0.1111111111111111,
              "#46039f"
             ],
             [
              0.2222222222222222,
              "#7201a8"
             ],
             [
              0.3333333333333333,
              "#9c179e"
             ],
             [
              0.4444444444444444,
              "#bd3786"
             ],
             [
              0.5555555555555556,
              "#d8576b"
             ],
             [
              0.6666666666666666,
              "#ed7953"
             ],
             [
              0.7777777777777778,
              "#fb9f3a"
             ],
             [
              0.8888888888888888,
              "#fdca26"
             ],
             [
              1,
              "#f0f921"
             ]
            ],
            "type": "surface"
           }
          ],
          "table": [
           {
            "cells": {
             "fill": {
              "color": "#EBF0F8"
             },
             "line": {
              "color": "white"
             }
            },
            "header": {
             "fill": {
              "color": "#C8D4E3"
             },
             "line": {
              "color": "white"
             }
            },
            "type": "table"
           }
          ]
         },
         "layout": {
          "annotationdefaults": {
           "arrowcolor": "#2a3f5f",
           "arrowhead": 0,
           "arrowwidth": 1
          },
          "autotypenumbers": "strict",
          "coloraxis": {
           "colorbar": {
            "outlinewidth": 0,
            "ticks": ""
           }
          },
          "colorscale": {
           "diverging": [
            [
             0,
             "#8e0152"
            ],
            [
             0.1,
             "#c51b7d"
            ],
            [
             0.2,
             "#de77ae"
            ],
            [
             0.3,
             "#f1b6da"
            ],
            [
             0.4,
             "#fde0ef"
            ],
            [
             0.5,
             "#f7f7f7"
            ],
            [
             0.6,
             "#e6f5d0"
            ],
            [
             0.7,
             "#b8e186"
            ],
            [
             0.8,
             "#7fbc41"
            ],
            [
             0.9,
             "#4d9221"
            ],
            [
             1,
             "#276419"
            ]
           ],
           "sequential": [
            [
             0,
             "#0d0887"
            ],
            [
             0.1111111111111111,
             "#46039f"
            ],
            [
             0.2222222222222222,
             "#7201a8"
            ],
            [
             0.3333333333333333,
             "#9c179e"
            ],
            [
             0.4444444444444444,
             "#bd3786"
            ],
            [
             0.5555555555555556,
             "#d8576b"
            ],
            [
             0.6666666666666666,
             "#ed7953"
            ],
            [
             0.7777777777777778,
             "#fb9f3a"
            ],
            [
             0.8888888888888888,
             "#fdca26"
            ],
            [
             1,
             "#f0f921"
            ]
           ],
           "sequentialminus": [
            [
             0,
             "#0d0887"
            ],
            [
             0.1111111111111111,
             "#46039f"
            ],
            [
             0.2222222222222222,
             "#7201a8"
            ],
            [
             0.3333333333333333,
             "#9c179e"
            ],
            [
             0.4444444444444444,
             "#bd3786"
            ],
            [
             0.5555555555555556,
             "#d8576b"
            ],
            [
             0.6666666666666666,
             "#ed7953"
            ],
            [
             0.7777777777777778,
             "#fb9f3a"
            ],
            [
             0.8888888888888888,
             "#fdca26"
            ],
            [
             1,
             "#f0f921"
            ]
           ]
          },
          "colorway": [
           "#636efa",
           "#EF553B",
           "#00cc96",
           "#ab63fa",
           "#FFA15A",
           "#19d3f3",
           "#FF6692",
           "#B6E880",
           "#FF97FF",
           "#FECB52"
          ],
          "font": {
           "color": "#2a3f5f"
          },
          "geo": {
           "bgcolor": "white",
           "lakecolor": "white",
           "landcolor": "#E5ECF6",
           "showlakes": true,
           "showland": true,
           "subunitcolor": "white"
          },
          "hoverlabel": {
           "align": "left"
          },
          "hovermode": "closest",
          "mapbox": {
           "style": "light"
          },
          "paper_bgcolor": "white",
          "plot_bgcolor": "#E5ECF6",
          "polar": {
           "angularaxis": {
            "gridcolor": "white",
            "linecolor": "white",
            "ticks": ""
           },
           "bgcolor": "#E5ECF6",
           "radialaxis": {
            "gridcolor": "white",
            "linecolor": "white",
            "ticks": ""
           }
          },
          "scene": {
           "xaxis": {
            "backgroundcolor": "#E5ECF6",
            "gridcolor": "white",
            "gridwidth": 2,
            "linecolor": "white",
            "showbackground": true,
            "ticks": "",
            "zerolinecolor": "white"
           },
           "yaxis": {
            "backgroundcolor": "#E5ECF6",
            "gridcolor": "white",
            "gridwidth": 2,
            "linecolor": "white",
            "showbackground": true,
            "ticks": "",
            "zerolinecolor": "white"
           },
           "zaxis": {
            "backgroundcolor": "#E5ECF6",
            "gridcolor": "white",
            "gridwidth": 2,
            "linecolor": "white",
            "showbackground": true,
            "ticks": "",
            "zerolinecolor": "white"
           }
          },
          "shapedefaults": {
           "line": {
            "color": "#2a3f5f"
           }
          },
          "ternary": {
           "aaxis": {
            "gridcolor": "white",
            "linecolor": "white",
            "ticks": ""
           },
           "baxis": {
            "gridcolor": "white",
            "linecolor": "white",
            "ticks": ""
           },
           "bgcolor": "#E5ECF6",
           "caxis": {
            "gridcolor": "white",
            "linecolor": "white",
            "ticks": ""
           }
          },
          "title": {
           "x": 0.05
          },
          "xaxis": {
           "automargin": true,
           "gridcolor": "white",
           "linecolor": "white",
           "ticks": "",
           "title": {
            "standoff": 15
           },
           "zerolinecolor": "white",
           "zerolinewidth": 2
          },
          "yaxis": {
           "automargin": true,
           "gridcolor": "white",
           "linecolor": "white",
           "ticks": "",
           "title": {
            "standoff": 15
           },
           "zerolinecolor": "white",
           "zerolinewidth": 2
          }
         }
        },
        "title": {
         "text": "Prescription Stacked Subplots"
        },
        "width": 800,
        "xaxis": {
         "anchor": "y",
         "domain": [
          0,
          1
         ]
        },
        "xaxis2": {
         "anchor": "y2",
         "domain": [
          0,
          1
         ]
        },
        "xaxis3": {
         "anchor": "y3",
         "domain": [
          0,
          1
         ]
        },
        "yaxis": {
         "anchor": "x",
         "domain": [
          0.7333333333333333,
          1
         ]
        },
        "yaxis2": {
         "anchor": "x2",
         "domain": [
          0.36666666666666664,
          0.6333333333333333
         ]
        },
        "yaxis3": {
         "anchor": "x3",
         "domain": [
          0,
          0.26666666666666666
         ]
        }
       }
      }
     },
     "metadata": {},
     "output_type": "display_data"
    }
   ],
   "source": [
    "# differencing 1 quarter\n",
    "\n",
    "# local copy of df so no changes are made.\n",
    "increment_1_df = summary_df.copy(deep=True)\n",
    "\n",
    "# container for differenced values\n",
    "new_prescription_values = []\n",
    "\n",
    "# increment index, exclude the first data point as it cannot be differenced\n",
    "for h, i in enumerate(increment_1_df.index):\n",
    "    # skip first data point\n",
    "    if h == 0:\n",
    "        pass\n",
    "    \n",
    "    # increment by 1 quarter, subtract prior quarter\n",
    "    else:\n",
    "        increment = i-QuarterEnd(1)\n",
    "        new_prescription_values.append(increment_1_df.loc[i]['Prescriptions'] - increment_1_df.loc[increment]['Prescriptions'])\n",
    "\n",
    "# dropt first data point\n",
    "increment_1_df.drop(increment_1_df.index[0],axis=0,inplace=True)\n",
    "\n",
    "# update df\n",
    "increment_1_df['Prescriptions'] = new_prescription_values\n",
    "\n",
    "# display differenced data\n",
    "layout = go.Layout(xaxis={'title': 'Year'}, yaxis={'title': 'Prescriptions'}, title={'text': 'Prescriptions Reimbursed Annually, 1991-2022'})\n",
    "fig = go.Figure(data=go.Scatter(x = list(increment_1_df.index), y = list(increment_1_df['Prescriptions']), mode='markers'),layout=layout)\n",
    "fig.update()\n",
    "fig.show()\n",
    "\n",
    "\n",
    "# create decomposition\n",
    "\n",
    "# instantiate containers\n",
    "analysis_dict = {}\n",
    "analysis_df_full = pd.DataFrame.empty\n",
    "\n",
    "# decompose\n",
    "decomposition = tsa.seasonal_decompose(increment_1_df, model='additive')\n",
    "\n",
    "# decomposition to dict\n",
    "analysis_dict={'trend':dict(decomposition.trend),'seasonal':dict(decomposition.seasonal),'residual':dict(decomposition.resid)}\n",
    "\n",
    "# dict to df\n",
    "analysis_df_full = pd.DataFrame(analysis_dict)\n",
    "\n",
    "# display decomposed data\n",
    "fig = make_subplots(rows=3, cols=1)\n",
    "fig.append_trace(go.Scatter(\n",
    "    name = 'Trend',\n",
    "    x = list(analysis_df_full.index),\n",
    "    y = list(analysis_df_full['trend']),\n",
    "), row=1, col=1)\n",
    "fig.append_trace(go.Scatter(\n",
    "    name = 'Seasonal',\n",
    "    x = list(analysis_df_full.index),\n",
    "    y = list(analysis_df_full['seasonal']),\n",
    "), row=2, col=1)\n",
    "fig.append_trace(go.Scatter(\n",
    "    name = 'Residuals',\n",
    "    x = list(analysis_df_full.index),\n",
    "    y = list(analysis_df_full['residual']),\n",
    "), row=3, col=1)\n",
    "fig.update_layout(height=600, width=800, title_text=f\"Prescription Stacked Subplots\")\n",
    "fig.show()"
   ]
  },
  {
   "cell_type": "code",
   "execution_count": 49,
   "metadata": {},
   "outputs": [
    {
     "data": {
      "application/vnd.plotly.v1+json": {
       "config": {
        "plotlyServerURL": "https://plot.ly"
       },
       "data": [
        {
         "mode": "markers",
         "type": "scatter",
         "x": [
          "1991-09-30T00:00:00",
          "1991-12-31T00:00:00",
          "1992-03-31T00:00:00",
          "1992-06-30T00:00:00",
          "1992-09-30T00:00:00",
          "1992-12-31T00:00:00",
          "1993-03-31T00:00:00",
          "1993-06-30T00:00:00",
          "1993-09-30T00:00:00",
          "1993-12-31T00:00:00",
          "1994-03-31T00:00:00",
          "1994-06-30T00:00:00",
          "1994-09-30T00:00:00",
          "1994-12-31T00:00:00",
          "1995-03-31T00:00:00",
          "1995-06-30T00:00:00",
          "1995-09-30T00:00:00",
          "1995-12-31T00:00:00",
          "1996-03-31T00:00:00",
          "1996-06-30T00:00:00",
          "1996-09-30T00:00:00",
          "1996-12-31T00:00:00",
          "1997-03-31T00:00:00",
          "1997-06-30T00:00:00",
          "1997-09-30T00:00:00",
          "1997-12-31T00:00:00",
          "1998-03-31T00:00:00",
          "1998-06-30T00:00:00",
          "1998-09-30T00:00:00",
          "1998-12-31T00:00:00",
          "1999-03-31T00:00:00",
          "1999-06-30T00:00:00",
          "1999-09-30T00:00:00",
          "1999-12-31T00:00:00",
          "2000-03-31T00:00:00",
          "2000-06-30T00:00:00",
          "2000-09-30T00:00:00",
          "2000-12-31T00:00:00",
          "2001-03-31T00:00:00",
          "2001-06-30T00:00:00",
          "2001-09-30T00:00:00",
          "2001-12-31T00:00:00",
          "2002-03-31T00:00:00",
          "2002-06-30T00:00:00",
          "2002-09-30T00:00:00",
          "2002-12-31T00:00:00",
          "2003-03-31T00:00:00",
          "2003-06-30T00:00:00",
          "2003-09-30T00:00:00",
          "2003-12-31T00:00:00",
          "2004-03-31T00:00:00",
          "2004-06-30T00:00:00",
          "2004-09-30T00:00:00",
          "2004-12-31T00:00:00",
          "2005-03-31T00:00:00",
          "2005-06-30T00:00:00",
          "2005-09-30T00:00:00",
          "2005-12-31T00:00:00",
          "2006-03-31T00:00:00",
          "2006-06-30T00:00:00",
          "2006-09-30T00:00:00",
          "2006-12-31T00:00:00",
          "2007-03-31T00:00:00",
          "2007-06-30T00:00:00",
          "2007-09-30T00:00:00",
          "2007-12-31T00:00:00",
          "2008-03-31T00:00:00",
          "2008-06-30T00:00:00",
          "2008-09-30T00:00:00",
          "2008-12-31T00:00:00",
          "2009-03-31T00:00:00",
          "2009-06-30T00:00:00",
          "2009-09-30T00:00:00",
          "2009-12-31T00:00:00",
          "2010-03-31T00:00:00",
          "2010-06-30T00:00:00",
          "2010-09-30T00:00:00",
          "2010-12-31T00:00:00",
          "2011-03-31T00:00:00",
          "2011-06-30T00:00:00",
          "2011-09-30T00:00:00",
          "2011-12-31T00:00:00",
          "2012-03-31T00:00:00",
          "2012-06-30T00:00:00",
          "2012-09-30T00:00:00",
          "2012-12-31T00:00:00",
          "2013-03-31T00:00:00",
          "2013-06-30T00:00:00",
          "2013-09-30T00:00:00",
          "2013-12-31T00:00:00",
          "2014-03-31T00:00:00",
          "2014-06-30T00:00:00",
          "2014-09-30T00:00:00",
          "2014-12-31T00:00:00",
          "2015-03-31T00:00:00",
          "2015-06-30T00:00:00",
          "2015-09-30T00:00:00",
          "2015-12-31T00:00:00",
          "2016-03-31T00:00:00",
          "2016-06-30T00:00:00",
          "2016-09-30T00:00:00",
          "2016-12-31T00:00:00",
          "2017-03-31T00:00:00",
          "2017-06-30T00:00:00",
          "2017-09-30T00:00:00",
          "2017-12-31T00:00:00",
          "2018-03-31T00:00:00",
          "2018-06-30T00:00:00",
          "2018-09-30T00:00:00",
          "2018-12-31T00:00:00",
          "2019-03-31T00:00:00",
          "2019-06-30T00:00:00",
          "2019-09-30T00:00:00",
          "2019-12-31T00:00:00",
          "2020-03-31T00:00:00",
          "2020-06-30T00:00:00",
          "2020-09-30T00:00:00",
          "2020-12-31T00:00:00",
          "2021-03-31T00:00:00",
          "2021-06-30T00:00:00",
          "2021-09-30T00:00:00",
          "2021-12-31T00:00:00",
          "2022-03-31T00:00:00"
         ],
         "y": [
          26890512,
          15223954,
          15206178,
          2288895,
          -7562389,
          8953907,
          19386875,
          1821079,
          -4227108,
          3741304,
          5283766,
          -4385063,
          -14939220,
          -1710305,
          634465,
          -126524,
          37311773,
          33086018,
          160161,
          -8405774,
          -10561076,
          556094,
          -73640,
          -6220240,
          -6541436,
          -1250653,
          13817357,
          12123209,
          -5197911,
          2456956,
          9575673,
          -3295278,
          -10424379,
          5988921,
          5952499,
          -4378355,
          5537534,
          28271571,
          15591426,
          -10028932,
          -5896234,
          1009880,
          4053124,
          1992641,
          5505612,
          8160063,
          5792687,
          3613712,
          220221553,
          30137193,
          -139643420,
          184645084,
          48041937,
          -30218856,
          210089585,
          -92010208,
          -317605371,
          96857884,
          -70756058,
          -246910157,
          -15616805,
          -3388863,
          11483413,
          19672,
          -6089500,
          -3116976,
          5205368,
          12120309,
          -5181016,
          -3626406,
          7941503,
          17062584,
          3194816,
          -9457469,
          13169896,
          44785123,
          41827845,
          18235143,
          15340063,
          2510183,
          -23041304,
          -4115649,
          20491069,
          1980949,
          2324896,
          -346959,
          -4177141,
          -5317142,
          -11919071,
          -3641970,
          5692793,
          18359390,
          18973069,
          8838560,
          4066801,
          6414109,
          7047369,
          4782661,
          17749800,
          1885695,
          -12824060,
          15615743,
          16898332,
          2010582,
          -13385401,
          -5258312,
          29824755,
          13849850,
          -15107891,
          -4579407,
          13614836,
          -955766,
          -8189903,
          2830979,
          5878426,
          -32515466,
          -9583042,
          35982284,
          16412695,
          15298988,
          16320293,
          10444421,
          -2503402
         ]
        }
       ],
       "layout": {
        "template": {
         "data": {
          "bar": [
           {
            "error_x": {
             "color": "#2a3f5f"
            },
            "error_y": {
             "color": "#2a3f5f"
            },
            "marker": {
             "line": {
              "color": "#E5ECF6",
              "width": 0.5
             },
             "pattern": {
              "fillmode": "overlay",
              "size": 10,
              "solidity": 0.2
             }
            },
            "type": "bar"
           }
          ],
          "barpolar": [
           {
            "marker": {
             "line": {
              "color": "#E5ECF6",
              "width": 0.5
             },
             "pattern": {
              "fillmode": "overlay",
              "size": 10,
              "solidity": 0.2
             }
            },
            "type": "barpolar"
           }
          ],
          "carpet": [
           {
            "aaxis": {
             "endlinecolor": "#2a3f5f",
             "gridcolor": "white",
             "linecolor": "white",
             "minorgridcolor": "white",
             "startlinecolor": "#2a3f5f"
            },
            "baxis": {
             "endlinecolor": "#2a3f5f",
             "gridcolor": "white",
             "linecolor": "white",
             "minorgridcolor": "white",
             "startlinecolor": "#2a3f5f"
            },
            "type": "carpet"
           }
          ],
          "choropleth": [
           {
            "colorbar": {
             "outlinewidth": 0,
             "ticks": ""
            },
            "type": "choropleth"
           }
          ],
          "contour": [
           {
            "colorbar": {
             "outlinewidth": 0,
             "ticks": ""
            },
            "colorscale": [
             [
              0,
              "#0d0887"
             ],
             [
              0.1111111111111111,
              "#46039f"
             ],
             [
              0.2222222222222222,
              "#7201a8"
             ],
             [
              0.3333333333333333,
              "#9c179e"
             ],
             [
              0.4444444444444444,
              "#bd3786"
             ],
             [
              0.5555555555555556,
              "#d8576b"
             ],
             [
              0.6666666666666666,
              "#ed7953"
             ],
             [
              0.7777777777777778,
              "#fb9f3a"
             ],
             [
              0.8888888888888888,
              "#fdca26"
             ],
             [
              1,
              "#f0f921"
             ]
            ],
            "type": "contour"
           }
          ],
          "contourcarpet": [
           {
            "colorbar": {
             "outlinewidth": 0,
             "ticks": ""
            },
            "type": "contourcarpet"
           }
          ],
          "heatmap": [
           {
            "colorbar": {
             "outlinewidth": 0,
             "ticks": ""
            },
            "colorscale": [
             [
              0,
              "#0d0887"
             ],
             [
              0.1111111111111111,
              "#46039f"
             ],
             [
              0.2222222222222222,
              "#7201a8"
             ],
             [
              0.3333333333333333,
              "#9c179e"
             ],
             [
              0.4444444444444444,
              "#bd3786"
             ],
             [
              0.5555555555555556,
              "#d8576b"
             ],
             [
              0.6666666666666666,
              "#ed7953"
             ],
             [
              0.7777777777777778,
              "#fb9f3a"
             ],
             [
              0.8888888888888888,
              "#fdca26"
             ],
             [
              1,
              "#f0f921"
             ]
            ],
            "type": "heatmap"
           }
          ],
          "heatmapgl": [
           {
            "colorbar": {
             "outlinewidth": 0,
             "ticks": ""
            },
            "colorscale": [
             [
              0,
              "#0d0887"
             ],
             [
              0.1111111111111111,
              "#46039f"
             ],
             [
              0.2222222222222222,
              "#7201a8"
             ],
             [
              0.3333333333333333,
              "#9c179e"
             ],
             [
              0.4444444444444444,
              "#bd3786"
             ],
             [
              0.5555555555555556,
              "#d8576b"
             ],
             [
              0.6666666666666666,
              "#ed7953"
             ],
             [
              0.7777777777777778,
              "#fb9f3a"
             ],
             [
              0.8888888888888888,
              "#fdca26"
             ],
             [
              1,
              "#f0f921"
             ]
            ],
            "type": "heatmapgl"
           }
          ],
          "histogram": [
           {
            "marker": {
             "pattern": {
              "fillmode": "overlay",
              "size": 10,
              "solidity": 0.2
             }
            },
            "type": "histogram"
           }
          ],
          "histogram2d": [
           {
            "colorbar": {
             "outlinewidth": 0,
             "ticks": ""
            },
            "colorscale": [
             [
              0,
              "#0d0887"
             ],
             [
              0.1111111111111111,
              "#46039f"
             ],
             [
              0.2222222222222222,
              "#7201a8"
             ],
             [
              0.3333333333333333,
              "#9c179e"
             ],
             [
              0.4444444444444444,
              "#bd3786"
             ],
             [
              0.5555555555555556,
              "#d8576b"
             ],
             [
              0.6666666666666666,
              "#ed7953"
             ],
             [
              0.7777777777777778,
              "#fb9f3a"
             ],
             [
              0.8888888888888888,
              "#fdca26"
             ],
             [
              1,
              "#f0f921"
             ]
            ],
            "type": "histogram2d"
           }
          ],
          "histogram2dcontour": [
           {
            "colorbar": {
             "outlinewidth": 0,
             "ticks": ""
            },
            "colorscale": [
             [
              0,
              "#0d0887"
             ],
             [
              0.1111111111111111,
              "#46039f"
             ],
             [
              0.2222222222222222,
              "#7201a8"
             ],
             [
              0.3333333333333333,
              "#9c179e"
             ],
             [
              0.4444444444444444,
              "#bd3786"
             ],
             [
              0.5555555555555556,
              "#d8576b"
             ],
             [
              0.6666666666666666,
              "#ed7953"
             ],
             [
              0.7777777777777778,
              "#fb9f3a"
             ],
             [
              0.8888888888888888,
              "#fdca26"
             ],
             [
              1,
              "#f0f921"
             ]
            ],
            "type": "histogram2dcontour"
           }
          ],
          "mesh3d": [
           {
            "colorbar": {
             "outlinewidth": 0,
             "ticks": ""
            },
            "type": "mesh3d"
           }
          ],
          "parcoords": [
           {
            "line": {
             "colorbar": {
              "outlinewidth": 0,
              "ticks": ""
             }
            },
            "type": "parcoords"
           }
          ],
          "pie": [
           {
            "automargin": true,
            "type": "pie"
           }
          ],
          "scatter": [
           {
            "fillpattern": {
             "fillmode": "overlay",
             "size": 10,
             "solidity": 0.2
            },
            "type": "scatter"
           }
          ],
          "scatter3d": [
           {
            "line": {
             "colorbar": {
              "outlinewidth": 0,
              "ticks": ""
             }
            },
            "marker": {
             "colorbar": {
              "outlinewidth": 0,
              "ticks": ""
             }
            },
            "type": "scatter3d"
           }
          ],
          "scattercarpet": [
           {
            "marker": {
             "colorbar": {
              "outlinewidth": 0,
              "ticks": ""
             }
            },
            "type": "scattercarpet"
           }
          ],
          "scattergeo": [
           {
            "marker": {
             "colorbar": {
              "outlinewidth": 0,
              "ticks": ""
             }
            },
            "type": "scattergeo"
           }
          ],
          "scattergl": [
           {
            "marker": {
             "colorbar": {
              "outlinewidth": 0,
              "ticks": ""
             }
            },
            "type": "scattergl"
           }
          ],
          "scattermapbox": [
           {
            "marker": {
             "colorbar": {
              "outlinewidth": 0,
              "ticks": ""
             }
            },
            "type": "scattermapbox"
           }
          ],
          "scatterpolar": [
           {
            "marker": {
             "colorbar": {
              "outlinewidth": 0,
              "ticks": ""
             }
            },
            "type": "scatterpolar"
           }
          ],
          "scatterpolargl": [
           {
            "marker": {
             "colorbar": {
              "outlinewidth": 0,
              "ticks": ""
             }
            },
            "type": "scatterpolargl"
           }
          ],
          "scatterternary": [
           {
            "marker": {
             "colorbar": {
              "outlinewidth": 0,
              "ticks": ""
             }
            },
            "type": "scatterternary"
           }
          ],
          "surface": [
           {
            "colorbar": {
             "outlinewidth": 0,
             "ticks": ""
            },
            "colorscale": [
             [
              0,
              "#0d0887"
             ],
             [
              0.1111111111111111,
              "#46039f"
             ],
             [
              0.2222222222222222,
              "#7201a8"
             ],
             [
              0.3333333333333333,
              "#9c179e"
             ],
             [
              0.4444444444444444,
              "#bd3786"
             ],
             [
              0.5555555555555556,
              "#d8576b"
             ],
             [
              0.6666666666666666,
              "#ed7953"
             ],
             [
              0.7777777777777778,
              "#fb9f3a"
             ],
             [
              0.8888888888888888,
              "#fdca26"
             ],
             [
              1,
              "#f0f921"
             ]
            ],
            "type": "surface"
           }
          ],
          "table": [
           {
            "cells": {
             "fill": {
              "color": "#EBF0F8"
             },
             "line": {
              "color": "white"
             }
            },
            "header": {
             "fill": {
              "color": "#C8D4E3"
             },
             "line": {
              "color": "white"
             }
            },
            "type": "table"
           }
          ]
         },
         "layout": {
          "annotationdefaults": {
           "arrowcolor": "#2a3f5f",
           "arrowhead": 0,
           "arrowwidth": 1
          },
          "autotypenumbers": "strict",
          "coloraxis": {
           "colorbar": {
            "outlinewidth": 0,
            "ticks": ""
           }
          },
          "colorscale": {
           "diverging": [
            [
             0,
             "#8e0152"
            ],
            [
             0.1,
             "#c51b7d"
            ],
            [
             0.2,
             "#de77ae"
            ],
            [
             0.3,
             "#f1b6da"
            ],
            [
             0.4,
             "#fde0ef"
            ],
            [
             0.5,
             "#f7f7f7"
            ],
            [
             0.6,
             "#e6f5d0"
            ],
            [
             0.7,
             "#b8e186"
            ],
            [
             0.8,
             "#7fbc41"
            ],
            [
             0.9,
             "#4d9221"
            ],
            [
             1,
             "#276419"
            ]
           ],
           "sequential": [
            [
             0,
             "#0d0887"
            ],
            [
             0.1111111111111111,
             "#46039f"
            ],
            [
             0.2222222222222222,
             "#7201a8"
            ],
            [
             0.3333333333333333,
             "#9c179e"
            ],
            [
             0.4444444444444444,
             "#bd3786"
            ],
            [
             0.5555555555555556,
             "#d8576b"
            ],
            [
             0.6666666666666666,
             "#ed7953"
            ],
            [
             0.7777777777777778,
             "#fb9f3a"
            ],
            [
             0.8888888888888888,
             "#fdca26"
            ],
            [
             1,
             "#f0f921"
            ]
           ],
           "sequentialminus": [
            [
             0,
             "#0d0887"
            ],
            [
             0.1111111111111111,
             "#46039f"
            ],
            [
             0.2222222222222222,
             "#7201a8"
            ],
            [
             0.3333333333333333,
             "#9c179e"
            ],
            [
             0.4444444444444444,
             "#bd3786"
            ],
            [
             0.5555555555555556,
             "#d8576b"
            ],
            [
             0.6666666666666666,
             "#ed7953"
            ],
            [
             0.7777777777777778,
             "#fb9f3a"
            ],
            [
             0.8888888888888888,
             "#fdca26"
            ],
            [
             1,
             "#f0f921"
            ]
           ]
          },
          "colorway": [
           "#636efa",
           "#EF553B",
           "#00cc96",
           "#ab63fa",
           "#FFA15A",
           "#19d3f3",
           "#FF6692",
           "#B6E880",
           "#FF97FF",
           "#FECB52"
          ],
          "font": {
           "color": "#2a3f5f"
          },
          "geo": {
           "bgcolor": "white",
           "lakecolor": "white",
           "landcolor": "#E5ECF6",
           "showlakes": true,
           "showland": true,
           "subunitcolor": "white"
          },
          "hoverlabel": {
           "align": "left"
          },
          "hovermode": "closest",
          "mapbox": {
           "style": "light"
          },
          "paper_bgcolor": "white",
          "plot_bgcolor": "#E5ECF6",
          "polar": {
           "angularaxis": {
            "gridcolor": "white",
            "linecolor": "white",
            "ticks": ""
           },
           "bgcolor": "#E5ECF6",
           "radialaxis": {
            "gridcolor": "white",
            "linecolor": "white",
            "ticks": ""
           }
          },
          "scene": {
           "xaxis": {
            "backgroundcolor": "#E5ECF6",
            "gridcolor": "white",
            "gridwidth": 2,
            "linecolor": "white",
            "showbackground": true,
            "ticks": "",
            "zerolinecolor": "white"
           },
           "yaxis": {
            "backgroundcolor": "#E5ECF6",
            "gridcolor": "white",
            "gridwidth": 2,
            "linecolor": "white",
            "showbackground": true,
            "ticks": "",
            "zerolinecolor": "white"
           },
           "zaxis": {
            "backgroundcolor": "#E5ECF6",
            "gridcolor": "white",
            "gridwidth": 2,
            "linecolor": "white",
            "showbackground": true,
            "ticks": "",
            "zerolinecolor": "white"
           }
          },
          "shapedefaults": {
           "line": {
            "color": "#2a3f5f"
           }
          },
          "ternary": {
           "aaxis": {
            "gridcolor": "white",
            "linecolor": "white",
            "ticks": ""
           },
           "baxis": {
            "gridcolor": "white",
            "linecolor": "white",
            "ticks": ""
           },
           "bgcolor": "#E5ECF6",
           "caxis": {
            "gridcolor": "white",
            "linecolor": "white",
            "ticks": ""
           }
          },
          "title": {
           "x": 0.05
          },
          "xaxis": {
           "automargin": true,
           "gridcolor": "white",
           "linecolor": "white",
           "ticks": "",
           "title": {
            "standoff": 15
           },
           "zerolinecolor": "white",
           "zerolinewidth": 2
          },
          "yaxis": {
           "automargin": true,
           "gridcolor": "white",
           "linecolor": "white",
           "ticks": "",
           "title": {
            "standoff": 15
           },
           "zerolinecolor": "white",
           "zerolinewidth": 2
          }
         }
        },
        "title": {
         "text": "Prescriptions Reimbursed Annually, 1991-2022"
        },
        "xaxis": {
         "title": {
          "text": "Year"
         }
        },
        "yaxis": {
         "title": {
          "text": "Prescriptions"
         }
        }
       }
      }
     },
     "metadata": {},
     "output_type": "display_data"
    },
    {
     "data": {
      "application/vnd.plotly.v1+json": {
       "config": {
        "plotlyServerURL": "https://plot.ly"
       },
       "data": [
        {
         "name": "Trend",
         "type": "scatter",
         "x": [
          "1991-09-30T00:00:00",
          "1991-12-31T00:00:00",
          "1992-03-31T00:00:00",
          "1992-06-30T00:00:00",
          "1992-09-30T00:00:00",
          "1992-12-31T00:00:00",
          "1993-03-31T00:00:00",
          "1993-06-30T00:00:00",
          "1993-09-30T00:00:00",
          "1993-12-31T00:00:00",
          "1994-03-31T00:00:00",
          "1994-06-30T00:00:00",
          "1994-09-30T00:00:00",
          "1994-12-31T00:00:00",
          "1995-03-31T00:00:00",
          "1995-06-30T00:00:00",
          "1995-09-30T00:00:00",
          "1995-12-31T00:00:00",
          "1996-03-31T00:00:00",
          "1996-06-30T00:00:00",
          "1996-09-30T00:00:00",
          "1996-12-31T00:00:00",
          "1997-03-31T00:00:00",
          "1997-06-30T00:00:00",
          "1997-09-30T00:00:00",
          "1997-12-31T00:00:00",
          "1998-03-31T00:00:00",
          "1998-06-30T00:00:00",
          "1998-09-30T00:00:00",
          "1998-12-31T00:00:00",
          "1999-03-31T00:00:00",
          "1999-06-30T00:00:00",
          "1999-09-30T00:00:00",
          "1999-12-31T00:00:00",
          "2000-03-31T00:00:00",
          "2000-06-30T00:00:00",
          "2000-09-30T00:00:00",
          "2000-12-31T00:00:00",
          "2001-03-31T00:00:00",
          "2001-06-30T00:00:00",
          "2001-09-30T00:00:00",
          "2001-12-31T00:00:00",
          "2002-03-31T00:00:00",
          "2002-06-30T00:00:00",
          "2002-09-30T00:00:00",
          "2002-12-31T00:00:00",
          "2003-03-31T00:00:00",
          "2003-06-30T00:00:00",
          "2003-09-30T00:00:00",
          "2003-12-31T00:00:00",
          "2004-03-31T00:00:00",
          "2004-06-30T00:00:00",
          "2004-09-30T00:00:00",
          "2004-12-31T00:00:00",
          "2005-03-31T00:00:00",
          "2005-06-30T00:00:00",
          "2005-09-30T00:00:00",
          "2005-12-31T00:00:00",
          "2006-03-31T00:00:00",
          "2006-06-30T00:00:00",
          "2006-09-30T00:00:00",
          "2006-12-31T00:00:00",
          "2007-03-31T00:00:00",
          "2007-06-30T00:00:00",
          "2007-09-30T00:00:00",
          "2007-12-31T00:00:00",
          "2008-03-31T00:00:00",
          "2008-06-30T00:00:00",
          "2008-09-30T00:00:00",
          "2008-12-31T00:00:00",
          "2009-03-31T00:00:00",
          "2009-06-30T00:00:00",
          "2009-09-30T00:00:00",
          "2009-12-31T00:00:00",
          "2010-03-31T00:00:00",
          "2010-06-30T00:00:00",
          "2010-09-30T00:00:00",
          "2010-12-31T00:00:00",
          "2011-03-31T00:00:00",
          "2011-06-30T00:00:00",
          "2011-09-30T00:00:00",
          "2011-12-31T00:00:00",
          "2012-03-31T00:00:00",
          "2012-06-30T00:00:00",
          "2012-09-30T00:00:00",
          "2012-12-31T00:00:00",
          "2013-03-31T00:00:00",
          "2013-06-30T00:00:00",
          "2013-09-30T00:00:00",
          "2013-12-31T00:00:00",
          "2014-03-31T00:00:00",
          "2014-06-30T00:00:00",
          "2014-09-30T00:00:00",
          "2014-12-31T00:00:00",
          "2015-03-31T00:00:00",
          "2015-06-30T00:00:00",
          "2015-09-30T00:00:00",
          "2015-12-31T00:00:00",
          "2016-03-31T00:00:00",
          "2016-06-30T00:00:00",
          "2016-09-30T00:00:00",
          "2016-12-31T00:00:00",
          "2017-03-31T00:00:00",
          "2017-06-30T00:00:00",
          "2017-09-30T00:00:00",
          "2017-12-31T00:00:00",
          "2018-03-31T00:00:00",
          "2018-06-30T00:00:00",
          "2018-09-30T00:00:00",
          "2018-12-31T00:00:00",
          "2019-03-31T00:00:00",
          "2019-06-30T00:00:00",
          "2019-09-30T00:00:00",
          "2019-12-31T00:00:00",
          "2020-03-31T00:00:00",
          "2020-06-30T00:00:00",
          "2020-09-30T00:00:00",
          "2020-12-31T00:00:00",
          "2021-03-31T00:00:00",
          "2021-06-30T00:00:00",
          "2021-09-30T00:00:00",
          "2021-12-31T00:00:00",
          "2022-03-31T00:00:00"
         ],
         "xaxis": "x",
         "y": [
          null,
          null,
          10595772.125,
          5505403.625,
          5244234.875,
          5708345,
          6066778.125,
          5832112.875,
          3417648.875,
          878992.5,
          -1235789.25,
          -3256254.375,
          -4518868.125,
          -4567713.375,
          2495978.125,
          13376892.625,
          17667145,
          16572950.75,
          9553938.375,
          -496408.25,
          -4591873.875,
          -4347907.25,
          -3572260.5,
          -3295648.875,
          -1785117.625,
          2244188.125,
          4705059.875,
          5336451.625,
          5269692.25,
          2812170.875,
          231551.5,
          19738.625,
          8337.5,
          -579943.875,
          1279910.625,
          6060481,
          10050678.125,
          10549221.875,
          8413678.75,
          3576746.375,
          -1273252.75,
          -1212843.875,
          1715083.5,
          4034087.125,
          5145305.375,
          5565384.625,
          32607511.125,
          62194145,
          46761772.875,
          51211181,
          52317650.5,
          23250692.375,
          59422811.875,
          68557526,
          -11730299,
          -41551620,
          -60772732.875,
          -115240931.875,
          -96854854.75,
          -71637127.375,
          -73888036.875,
          -32741874.375,
          -684732.625,
          540166.375,
          -210603.375,
          517220.625,
          2143360.75,
          2193242.5,
          2471580.625,
          3431381.875,
          5096145.25,
          5414241.375,
          5338907.625,
          9457774.125,
          17752220.125,
          26042925.25,
          29775772.625,
          24762676,
          11369664.875,
          467172.25,
          -1682801,
          -1105079.5,
          1999541.25,
          5641402.5,
          3028962.5,
          -966825.125,
          -3659582.375,
          -5851954.625,
          -5030089.25,
          -836781,
          5984303,
          11405886.75,
          12762704,
          11066294.875,
          8082422.25,
          6084722.375,
          7288109.875,
          8432433,
          5382452.625,
          4252659.25,
          5500361,
          5409538.375,
          5354981.625,
          2675557.125,
          1682103.125,
          4777814.5,
          6042411.75,
          5911963.625,
          3970586.875,
          93645,
          -892308.5,
          898738.25,
          857985.25,
          -4054028.5,
          -8173133.375,
          -4203362.625,
          1257334.125,
          8550924.5,
          17765648.125,
          17811332.125,
          12254587.125,
          null,
          null
         ],
         "yaxis": "y"
        },
        {
         "name": "Seasonal",
         "type": "scatter",
         "x": [
          "1991-09-30T00:00:00",
          "1991-12-31T00:00:00",
          "1992-03-31T00:00:00",
          "1992-06-30T00:00:00",
          "1992-09-30T00:00:00",
          "1992-12-31T00:00:00",
          "1993-03-31T00:00:00",
          "1993-06-30T00:00:00",
          "1993-09-30T00:00:00",
          "1993-12-31T00:00:00",
          "1994-03-31T00:00:00",
          "1994-06-30T00:00:00",
          "1994-09-30T00:00:00",
          "1994-12-31T00:00:00",
          "1995-03-31T00:00:00",
          "1995-06-30T00:00:00",
          "1995-09-30T00:00:00",
          "1995-12-31T00:00:00",
          "1996-03-31T00:00:00",
          "1996-06-30T00:00:00",
          "1996-09-30T00:00:00",
          "1996-12-31T00:00:00",
          "1997-03-31T00:00:00",
          "1997-06-30T00:00:00",
          "1997-09-30T00:00:00",
          "1997-12-31T00:00:00",
          "1998-03-31T00:00:00",
          "1998-06-30T00:00:00",
          "1998-09-30T00:00:00",
          "1998-12-31T00:00:00",
          "1999-03-31T00:00:00",
          "1999-06-30T00:00:00",
          "1999-09-30T00:00:00",
          "1999-12-31T00:00:00",
          "2000-03-31T00:00:00",
          "2000-06-30T00:00:00",
          "2000-09-30T00:00:00",
          "2000-12-31T00:00:00",
          "2001-03-31T00:00:00",
          "2001-06-30T00:00:00",
          "2001-09-30T00:00:00",
          "2001-12-31T00:00:00",
          "2002-03-31T00:00:00",
          "2002-06-30T00:00:00",
          "2002-09-30T00:00:00",
          "2002-12-31T00:00:00",
          "2003-03-31T00:00:00",
          "2003-06-30T00:00:00",
          "2003-09-30T00:00:00",
          "2003-12-31T00:00:00",
          "2004-03-31T00:00:00",
          "2004-06-30T00:00:00",
          "2004-09-30T00:00:00",
          "2004-12-31T00:00:00",
          "2005-03-31T00:00:00",
          "2005-06-30T00:00:00",
          "2005-09-30T00:00:00",
          "2005-12-31T00:00:00",
          "2006-03-31T00:00:00",
          "2006-06-30T00:00:00",
          "2006-09-30T00:00:00",
          "2006-12-31T00:00:00",
          "2007-03-31T00:00:00",
          "2007-06-30T00:00:00",
          "2007-09-30T00:00:00",
          "2007-12-31T00:00:00",
          "2008-03-31T00:00:00",
          "2008-06-30T00:00:00",
          "2008-09-30T00:00:00",
          "2008-12-31T00:00:00",
          "2009-03-31T00:00:00",
          "2009-06-30T00:00:00",
          "2009-09-30T00:00:00",
          "2009-12-31T00:00:00",
          "2010-03-31T00:00:00",
          "2010-06-30T00:00:00",
          "2010-09-30T00:00:00",
          "2010-12-31T00:00:00",
          "2011-03-31T00:00:00",
          "2011-06-30T00:00:00",
          "2011-09-30T00:00:00",
          "2011-12-31T00:00:00",
          "2012-03-31T00:00:00",
          "2012-06-30T00:00:00",
          "2012-09-30T00:00:00",
          "2012-12-31T00:00:00",
          "2013-03-31T00:00:00",
          "2013-06-30T00:00:00",
          "2013-09-30T00:00:00",
          "2013-12-31T00:00:00",
          "2014-03-31T00:00:00",
          "2014-06-30T00:00:00",
          "2014-09-30T00:00:00",
          "2014-12-31T00:00:00",
          "2015-03-31T00:00:00",
          "2015-06-30T00:00:00",
          "2015-09-30T00:00:00",
          "2015-12-31T00:00:00",
          "2016-03-31T00:00:00",
          "2016-06-30T00:00:00",
          "2016-09-30T00:00:00",
          "2016-12-31T00:00:00",
          "2017-03-31T00:00:00",
          "2017-06-30T00:00:00",
          "2017-09-30T00:00:00",
          "2017-12-31T00:00:00",
          "2018-03-31T00:00:00",
          "2018-06-30T00:00:00",
          "2018-09-30T00:00:00",
          "2018-12-31T00:00:00",
          "2019-03-31T00:00:00",
          "2019-06-30T00:00:00",
          "2019-09-30T00:00:00",
          "2019-12-31T00:00:00",
          "2020-03-31T00:00:00",
          "2020-06-30T00:00:00",
          "2020-09-30T00:00:00",
          "2020-12-31T00:00:00",
          "2021-03-31T00:00:00",
          "2021-06-30T00:00:00",
          "2021-09-30T00:00:00",
          "2021-12-31T00:00:00",
          "2022-03-31T00:00:00"
         ],
         "xaxis": "x2",
         "y": [
          -6157479.432255747,
          5454829.005100574,
          6093182.19691092,
          -5390531.769755747,
          -6157479.432255747,
          5454829.005100574,
          6093182.19691092,
          -5390531.769755747,
          -6157479.432255747,
          5454829.005100574,
          6093182.19691092,
          -5390531.769755747,
          -6157479.432255747,
          5454829.005100574,
          6093182.19691092,
          -5390531.769755747,
          -6157479.432255747,
          5454829.005100574,
          6093182.19691092,
          -5390531.769755747,
          -6157479.432255747,
          5454829.005100574,
          6093182.19691092,
          -5390531.769755747,
          -6157479.432255747,
          5454829.005100574,
          6093182.19691092,
          -5390531.769755747,
          -6157479.432255747,
          5454829.005100574,
          6093182.19691092,
          -5390531.769755747,
          -6157479.432255747,
          5454829.005100574,
          6093182.19691092,
          -5390531.769755747,
          -6157479.432255747,
          5454829.005100574,
          6093182.19691092,
          -5390531.769755747,
          -6157479.432255747,
          5454829.005100574,
          6093182.19691092,
          -5390531.769755747,
          -6157479.432255747,
          5454829.005100574,
          6093182.19691092,
          -5390531.769755747,
          -6157479.432255747,
          5454829.005100574,
          6093182.19691092,
          -5390531.769755747,
          -6157479.432255747,
          5454829.005100574,
          6093182.19691092,
          -5390531.769755747,
          -6157479.432255747,
          5454829.005100574,
          6093182.19691092,
          -5390531.769755747,
          -6157479.432255747,
          5454829.005100574,
          6093182.19691092,
          -5390531.769755747,
          -6157479.432255747,
          5454829.005100574,
          6093182.19691092,
          -5390531.769755747,
          -6157479.432255747,
          5454829.005100574,
          6093182.19691092,
          -5390531.769755747,
          -6157479.432255747,
          5454829.005100574,
          6093182.19691092,
          -5390531.769755747,
          -6157479.432255747,
          5454829.005100574,
          6093182.19691092,
          -5390531.769755747,
          -6157479.432255747,
          5454829.005100574,
          6093182.19691092,
          -5390531.769755747,
          -6157479.432255747,
          5454829.005100574,
          6093182.19691092,
          -5390531.769755747,
          -6157479.432255747,
          5454829.005100574,
          6093182.19691092,
          -5390531.769755747,
          -6157479.432255747,
          5454829.005100574,
          6093182.19691092,
          -5390531.769755747,
          -6157479.432255747,
          5454829.005100574,
          6093182.19691092,
          -5390531.769755747,
          -6157479.432255747,
          5454829.005100574,
          6093182.19691092,
          -5390531.769755747,
          -6157479.432255747,
          5454829.005100574,
          6093182.19691092,
          -5390531.769755747,
          -6157479.432255747,
          5454829.005100574,
          6093182.19691092,
          -5390531.769755747,
          -6157479.432255747,
          5454829.005100574,
          6093182.19691092,
          -5390531.769755747,
          -6157479.432255747,
          5454829.005100574,
          6093182.19691092,
          -5390531.769755747,
          -6157479.432255747,
          5454829.005100574,
          6093182.19691092
         ],
         "yaxis": "y2"
        },
        {
         "name": "Residuals",
         "type": "scatter",
         "x": [
          "1991-09-30T00:00:00",
          "1991-12-31T00:00:00",
          "1992-03-31T00:00:00",
          "1992-06-30T00:00:00",
          "1992-09-30T00:00:00",
          "1992-12-31T00:00:00",
          "1993-03-31T00:00:00",
          "1993-06-30T00:00:00",
          "1993-09-30T00:00:00",
          "1993-12-31T00:00:00",
          "1994-03-31T00:00:00",
          "1994-06-30T00:00:00",
          "1994-09-30T00:00:00",
          "1994-12-31T00:00:00",
          "1995-03-31T00:00:00",
          "1995-06-30T00:00:00",
          "1995-09-30T00:00:00",
          "1995-12-31T00:00:00",
          "1996-03-31T00:00:00",
          "1996-06-30T00:00:00",
          "1996-09-30T00:00:00",
          "1996-12-31T00:00:00",
          "1997-03-31T00:00:00",
          "1997-06-30T00:00:00",
          "1997-09-30T00:00:00",
          "1997-12-31T00:00:00",
          "1998-03-31T00:00:00",
          "1998-06-30T00:00:00",
          "1998-09-30T00:00:00",
          "1998-12-31T00:00:00",
          "1999-03-31T00:00:00",
          "1999-06-30T00:00:00",
          "1999-09-30T00:00:00",
          "1999-12-31T00:00:00",
          "2000-03-31T00:00:00",
          "2000-06-30T00:00:00",
          "2000-09-30T00:00:00",
          "2000-12-31T00:00:00",
          "2001-03-31T00:00:00",
          "2001-06-30T00:00:00",
          "2001-09-30T00:00:00",
          "2001-12-31T00:00:00",
          "2002-03-31T00:00:00",
          "2002-06-30T00:00:00",
          "2002-09-30T00:00:00",
          "2002-12-31T00:00:00",
          "2003-03-31T00:00:00",
          "2003-06-30T00:00:00",
          "2003-09-30T00:00:00",
          "2003-12-31T00:00:00",
          "2004-03-31T00:00:00",
          "2004-06-30T00:00:00",
          "2004-09-30T00:00:00",
          "2004-12-31T00:00:00",
          "2005-03-31T00:00:00",
          "2005-06-30T00:00:00",
          "2005-09-30T00:00:00",
          "2005-12-31T00:00:00",
          "2006-03-31T00:00:00",
          "2006-06-30T00:00:00",
          "2006-09-30T00:00:00",
          "2006-12-31T00:00:00",
          "2007-03-31T00:00:00",
          "2007-06-30T00:00:00",
          "2007-09-30T00:00:00",
          "2007-12-31T00:00:00",
          "2008-03-31T00:00:00",
          "2008-06-30T00:00:00",
          "2008-09-30T00:00:00",
          "2008-12-31T00:00:00",
          "2009-03-31T00:00:00",
          "2009-06-30T00:00:00",
          "2009-09-30T00:00:00",
          "2009-12-31T00:00:00",
          "2010-03-31T00:00:00",
          "2010-06-30T00:00:00",
          "2010-09-30T00:00:00",
          "2010-12-31T00:00:00",
          "2011-03-31T00:00:00",
          "2011-06-30T00:00:00",
          "2011-09-30T00:00:00",
          "2011-12-31T00:00:00",
          "2012-03-31T00:00:00",
          "2012-06-30T00:00:00",
          "2012-09-30T00:00:00",
          "2012-12-31T00:00:00",
          "2013-03-31T00:00:00",
          "2013-06-30T00:00:00",
          "2013-09-30T00:00:00",
          "2013-12-31T00:00:00",
          "2014-03-31T00:00:00",
          "2014-06-30T00:00:00",
          "2014-09-30T00:00:00",
          "2014-12-31T00:00:00",
          "2015-03-31T00:00:00",
          "2015-06-30T00:00:00",
          "2015-09-30T00:00:00",
          "2015-12-31T00:00:00",
          "2016-03-31T00:00:00",
          "2016-06-30T00:00:00",
          "2016-09-30T00:00:00",
          "2016-12-31T00:00:00",
          "2017-03-31T00:00:00",
          "2017-06-30T00:00:00",
          "2017-09-30T00:00:00",
          "2017-12-31T00:00:00",
          "2018-03-31T00:00:00",
          "2018-06-30T00:00:00",
          "2018-09-30T00:00:00",
          "2018-12-31T00:00:00",
          "2019-03-31T00:00:00",
          "2019-06-30T00:00:00",
          "2019-09-30T00:00:00",
          "2019-12-31T00:00:00",
          "2020-03-31T00:00:00",
          "2020-06-30T00:00:00",
          "2020-09-30T00:00:00",
          "2020-12-31T00:00:00",
          "2021-03-31T00:00:00",
          "2021-06-30T00:00:00",
          "2021-09-30T00:00:00",
          "2021-12-31T00:00:00",
          "2022-03-31T00:00:00"
         ],
         "xaxis": "x3",
         "y": [
          null,
          null,
          -1482776.3219109196,
          2174023.144755747,
          -6649144.442744253,
          -2209267.0051005743,
          7226914.67808908,
          1379497.8947557472,
          -1487277.4427442532,
          -2592517.5051005743,
          426373.0530890804,
          4261723.144755747,
          -4262872.442744253,
          -2597420.6301005743,
          -7954695.32191092,
          -8112884.855244253,
          25802107.432255745,
          11058238.244899426,
          -15486959.57191092,
          -2518833.980244253,
          188277.3072557468,
          -550827.7551005743,
          -2594561.6969109196,
          2465940.644755747,
          1401161.0572557468,
          -8949670.130100574,
          3019114.9280890804,
          12177289.144755747,
          -4310123.817744253,
          -5810043.880100574,
          3250939.3030890804,
          2075515.1447557472,
          -4275237.067744253,
          1114035.8698994257,
          -1420593.8219109196,
          -5048304.230244253,
          1644335.3072557468,
          12267520.119899426,
          1084565.0530890804,
          -8215146.605244253,
          1534498.1822557468,
          -3232105.1301005743,
          -3755141.6969109196,
          3349085.644755747,
          6517786.057255747,
          -2860150.6301005743,
          -32908006.321910918,
          -53189901.23024425,
          179617259.55725574,
          -26528817.005100574,
          -198054252.69691092,
          166784923.39475575,
          -5223395.442744253,
          -104231211.00510058,
          215726701.80308908,
          -45068056.23024425,
          -250675158.69274426,
          206643986.86989942,
          20005614.553089082,
          -169882497.85524425,
          64428711.307255745,
          23898182.369899426,
          6074963.42808908,
          4870037.394755747,
          278582.8072557468,
          -9089025.630100574,
          -3031174.9469109196,
          15317598.269755747,
          -1495117.1927442532,
          -12512616.880100574,
          -3247824.4469109196,
          17038874.394755747,
          4013387.807255747,
          -24370072.130100574,
          -10675506.32191092,
          24132729.519755747,
          18209551.807255745,
          -11982362.005100574,
          -2122784.0719109196,
          7433542.519755747,
          -15201023.567744253,
          -8465398.505100574,
          12398345.55308908,
          1730078.2697557472,
          5453412.932255747,
          -4834962.880100574,
          -6610740.82191092,
          5925344.394755747,
          -731502.3177442532,
          -8260018.005100574,
          -6384692.19691092,
          12344035.019755747,
          12367844.432255747,
          -7682563.880100574,
          -10108803.44691092,
          5719918.394755747,
          5916738.557255747,
          -9104601.005100574,
          6274165.17808908,
          3023567.519755747,
          -12166941.567744253,
          4751375.619899426,
          5450168.17808908,
          4725556.644755747,
          -8910024.692744253,
          -15490955.505100574,
          17689161.053089082,
          13328418.144755747,
          -12920998.442744253,
          -10127881.005100574,
          8413962.30308908,
          3536027.519755747,
          -2890408.817744253,
          1430178.4948994257,
          7958377.17808908,
          -22921571.605244253,
          -4682896.692744253,
          21976530.494899426,
          -7446135.32191092,
          2878187.644755747,
          10223185.307255747,
          null,
          null
         ],
         "yaxis": "y3"
        }
       ],
       "layout": {
        "height": 600,
        "template": {
         "data": {
          "bar": [
           {
            "error_x": {
             "color": "#2a3f5f"
            },
            "error_y": {
             "color": "#2a3f5f"
            },
            "marker": {
             "line": {
              "color": "#E5ECF6",
              "width": 0.5
             },
             "pattern": {
              "fillmode": "overlay",
              "size": 10,
              "solidity": 0.2
             }
            },
            "type": "bar"
           }
          ],
          "barpolar": [
           {
            "marker": {
             "line": {
              "color": "#E5ECF6",
              "width": 0.5
             },
             "pattern": {
              "fillmode": "overlay",
              "size": 10,
              "solidity": 0.2
             }
            },
            "type": "barpolar"
           }
          ],
          "carpet": [
           {
            "aaxis": {
             "endlinecolor": "#2a3f5f",
             "gridcolor": "white",
             "linecolor": "white",
             "minorgridcolor": "white",
             "startlinecolor": "#2a3f5f"
            },
            "baxis": {
             "endlinecolor": "#2a3f5f",
             "gridcolor": "white",
             "linecolor": "white",
             "minorgridcolor": "white",
             "startlinecolor": "#2a3f5f"
            },
            "type": "carpet"
           }
          ],
          "choropleth": [
           {
            "colorbar": {
             "outlinewidth": 0,
             "ticks": ""
            },
            "type": "choropleth"
           }
          ],
          "contour": [
           {
            "colorbar": {
             "outlinewidth": 0,
             "ticks": ""
            },
            "colorscale": [
             [
              0,
              "#0d0887"
             ],
             [
              0.1111111111111111,
              "#46039f"
             ],
             [
              0.2222222222222222,
              "#7201a8"
             ],
             [
              0.3333333333333333,
              "#9c179e"
             ],
             [
              0.4444444444444444,
              "#bd3786"
             ],
             [
              0.5555555555555556,
              "#d8576b"
             ],
             [
              0.6666666666666666,
              "#ed7953"
             ],
             [
              0.7777777777777778,
              "#fb9f3a"
             ],
             [
              0.8888888888888888,
              "#fdca26"
             ],
             [
              1,
              "#f0f921"
             ]
            ],
            "type": "contour"
           }
          ],
          "contourcarpet": [
           {
            "colorbar": {
             "outlinewidth": 0,
             "ticks": ""
            },
            "type": "contourcarpet"
           }
          ],
          "heatmap": [
           {
            "colorbar": {
             "outlinewidth": 0,
             "ticks": ""
            },
            "colorscale": [
             [
              0,
              "#0d0887"
             ],
             [
              0.1111111111111111,
              "#46039f"
             ],
             [
              0.2222222222222222,
              "#7201a8"
             ],
             [
              0.3333333333333333,
              "#9c179e"
             ],
             [
              0.4444444444444444,
              "#bd3786"
             ],
             [
              0.5555555555555556,
              "#d8576b"
             ],
             [
              0.6666666666666666,
              "#ed7953"
             ],
             [
              0.7777777777777778,
              "#fb9f3a"
             ],
             [
              0.8888888888888888,
              "#fdca26"
             ],
             [
              1,
              "#f0f921"
             ]
            ],
            "type": "heatmap"
           }
          ],
          "heatmapgl": [
           {
            "colorbar": {
             "outlinewidth": 0,
             "ticks": ""
            },
            "colorscale": [
             [
              0,
              "#0d0887"
             ],
             [
              0.1111111111111111,
              "#46039f"
             ],
             [
              0.2222222222222222,
              "#7201a8"
             ],
             [
              0.3333333333333333,
              "#9c179e"
             ],
             [
              0.4444444444444444,
              "#bd3786"
             ],
             [
              0.5555555555555556,
              "#d8576b"
             ],
             [
              0.6666666666666666,
              "#ed7953"
             ],
             [
              0.7777777777777778,
              "#fb9f3a"
             ],
             [
              0.8888888888888888,
              "#fdca26"
             ],
             [
              1,
              "#f0f921"
             ]
            ],
            "type": "heatmapgl"
           }
          ],
          "histogram": [
           {
            "marker": {
             "pattern": {
              "fillmode": "overlay",
              "size": 10,
              "solidity": 0.2
             }
            },
            "type": "histogram"
           }
          ],
          "histogram2d": [
           {
            "colorbar": {
             "outlinewidth": 0,
             "ticks": ""
            },
            "colorscale": [
             [
              0,
              "#0d0887"
             ],
             [
              0.1111111111111111,
              "#46039f"
             ],
             [
              0.2222222222222222,
              "#7201a8"
             ],
             [
              0.3333333333333333,
              "#9c179e"
             ],
             [
              0.4444444444444444,
              "#bd3786"
             ],
             [
              0.5555555555555556,
              "#d8576b"
             ],
             [
              0.6666666666666666,
              "#ed7953"
             ],
             [
              0.7777777777777778,
              "#fb9f3a"
             ],
             [
              0.8888888888888888,
              "#fdca26"
             ],
             [
              1,
              "#f0f921"
             ]
            ],
            "type": "histogram2d"
           }
          ],
          "histogram2dcontour": [
           {
            "colorbar": {
             "outlinewidth": 0,
             "ticks": ""
            },
            "colorscale": [
             [
              0,
              "#0d0887"
             ],
             [
              0.1111111111111111,
              "#46039f"
             ],
             [
              0.2222222222222222,
              "#7201a8"
             ],
             [
              0.3333333333333333,
              "#9c179e"
             ],
             [
              0.4444444444444444,
              "#bd3786"
             ],
             [
              0.5555555555555556,
              "#d8576b"
             ],
             [
              0.6666666666666666,
              "#ed7953"
             ],
             [
              0.7777777777777778,
              "#fb9f3a"
             ],
             [
              0.8888888888888888,
              "#fdca26"
             ],
             [
              1,
              "#f0f921"
             ]
            ],
            "type": "histogram2dcontour"
           }
          ],
          "mesh3d": [
           {
            "colorbar": {
             "outlinewidth": 0,
             "ticks": ""
            },
            "type": "mesh3d"
           }
          ],
          "parcoords": [
           {
            "line": {
             "colorbar": {
              "outlinewidth": 0,
              "ticks": ""
             }
            },
            "type": "parcoords"
           }
          ],
          "pie": [
           {
            "automargin": true,
            "type": "pie"
           }
          ],
          "scatter": [
           {
            "fillpattern": {
             "fillmode": "overlay",
             "size": 10,
             "solidity": 0.2
            },
            "type": "scatter"
           }
          ],
          "scatter3d": [
           {
            "line": {
             "colorbar": {
              "outlinewidth": 0,
              "ticks": ""
             }
            },
            "marker": {
             "colorbar": {
              "outlinewidth": 0,
              "ticks": ""
             }
            },
            "type": "scatter3d"
           }
          ],
          "scattercarpet": [
           {
            "marker": {
             "colorbar": {
              "outlinewidth": 0,
              "ticks": ""
             }
            },
            "type": "scattercarpet"
           }
          ],
          "scattergeo": [
           {
            "marker": {
             "colorbar": {
              "outlinewidth": 0,
              "ticks": ""
             }
            },
            "type": "scattergeo"
           }
          ],
          "scattergl": [
           {
            "marker": {
             "colorbar": {
              "outlinewidth": 0,
              "ticks": ""
             }
            },
            "type": "scattergl"
           }
          ],
          "scattermapbox": [
           {
            "marker": {
             "colorbar": {
              "outlinewidth": 0,
              "ticks": ""
             }
            },
            "type": "scattermapbox"
           }
          ],
          "scatterpolar": [
           {
            "marker": {
             "colorbar": {
              "outlinewidth": 0,
              "ticks": ""
             }
            },
            "type": "scatterpolar"
           }
          ],
          "scatterpolargl": [
           {
            "marker": {
             "colorbar": {
              "outlinewidth": 0,
              "ticks": ""
             }
            },
            "type": "scatterpolargl"
           }
          ],
          "scatterternary": [
           {
            "marker": {
             "colorbar": {
              "outlinewidth": 0,
              "ticks": ""
             }
            },
            "type": "scatterternary"
           }
          ],
          "surface": [
           {
            "colorbar": {
             "outlinewidth": 0,
             "ticks": ""
            },
            "colorscale": [
             [
              0,
              "#0d0887"
             ],
             [
              0.1111111111111111,
              "#46039f"
             ],
             [
              0.2222222222222222,
              "#7201a8"
             ],
             [
              0.3333333333333333,
              "#9c179e"
             ],
             [
              0.4444444444444444,
              "#bd3786"
             ],
             [
              0.5555555555555556,
              "#d8576b"
             ],
             [
              0.6666666666666666,
              "#ed7953"
             ],
             [
              0.7777777777777778,
              "#fb9f3a"
             ],
             [
              0.8888888888888888,
              "#fdca26"
             ],
             [
              1,
              "#f0f921"
             ]
            ],
            "type": "surface"
           }
          ],
          "table": [
           {
            "cells": {
             "fill": {
              "color": "#EBF0F8"
             },
             "line": {
              "color": "white"
             }
            },
            "header": {
             "fill": {
              "color": "#C8D4E3"
             },
             "line": {
              "color": "white"
             }
            },
            "type": "table"
           }
          ]
         },
         "layout": {
          "annotationdefaults": {
           "arrowcolor": "#2a3f5f",
           "arrowhead": 0,
           "arrowwidth": 1
          },
          "autotypenumbers": "strict",
          "coloraxis": {
           "colorbar": {
            "outlinewidth": 0,
            "ticks": ""
           }
          },
          "colorscale": {
           "diverging": [
            [
             0,
             "#8e0152"
            ],
            [
             0.1,
             "#c51b7d"
            ],
            [
             0.2,
             "#de77ae"
            ],
            [
             0.3,
             "#f1b6da"
            ],
            [
             0.4,
             "#fde0ef"
            ],
            [
             0.5,
             "#f7f7f7"
            ],
            [
             0.6,
             "#e6f5d0"
            ],
            [
             0.7,
             "#b8e186"
            ],
            [
             0.8,
             "#7fbc41"
            ],
            [
             0.9,
             "#4d9221"
            ],
            [
             1,
             "#276419"
            ]
           ],
           "sequential": [
            [
             0,
             "#0d0887"
            ],
            [
             0.1111111111111111,
             "#46039f"
            ],
            [
             0.2222222222222222,
             "#7201a8"
            ],
            [
             0.3333333333333333,
             "#9c179e"
            ],
            [
             0.4444444444444444,
             "#bd3786"
            ],
            [
             0.5555555555555556,
             "#d8576b"
            ],
            [
             0.6666666666666666,
             "#ed7953"
            ],
            [
             0.7777777777777778,
             "#fb9f3a"
            ],
            [
             0.8888888888888888,
             "#fdca26"
            ],
            [
             1,
             "#f0f921"
            ]
           ],
           "sequentialminus": [
            [
             0,
             "#0d0887"
            ],
            [
             0.1111111111111111,
             "#46039f"
            ],
            [
             0.2222222222222222,
             "#7201a8"
            ],
            [
             0.3333333333333333,
             "#9c179e"
            ],
            [
             0.4444444444444444,
             "#bd3786"
            ],
            [
             0.5555555555555556,
             "#d8576b"
            ],
            [
             0.6666666666666666,
             "#ed7953"
            ],
            [
             0.7777777777777778,
             "#fb9f3a"
            ],
            [
             0.8888888888888888,
             "#fdca26"
            ],
            [
             1,
             "#f0f921"
            ]
           ]
          },
          "colorway": [
           "#636efa",
           "#EF553B",
           "#00cc96",
           "#ab63fa",
           "#FFA15A",
           "#19d3f3",
           "#FF6692",
           "#B6E880",
           "#FF97FF",
           "#FECB52"
          ],
          "font": {
           "color": "#2a3f5f"
          },
          "geo": {
           "bgcolor": "white",
           "lakecolor": "white",
           "landcolor": "#E5ECF6",
           "showlakes": true,
           "showland": true,
           "subunitcolor": "white"
          },
          "hoverlabel": {
           "align": "left"
          },
          "hovermode": "closest",
          "mapbox": {
           "style": "light"
          },
          "paper_bgcolor": "white",
          "plot_bgcolor": "#E5ECF6",
          "polar": {
           "angularaxis": {
            "gridcolor": "white",
            "linecolor": "white",
            "ticks": ""
           },
           "bgcolor": "#E5ECF6",
           "radialaxis": {
            "gridcolor": "white",
            "linecolor": "white",
            "ticks": ""
           }
          },
          "scene": {
           "xaxis": {
            "backgroundcolor": "#E5ECF6",
            "gridcolor": "white",
            "gridwidth": 2,
            "linecolor": "white",
            "showbackground": true,
            "ticks": "",
            "zerolinecolor": "white"
           },
           "yaxis": {
            "backgroundcolor": "#E5ECF6",
            "gridcolor": "white",
            "gridwidth": 2,
            "linecolor": "white",
            "showbackground": true,
            "ticks": "",
            "zerolinecolor": "white"
           },
           "zaxis": {
            "backgroundcolor": "#E5ECF6",
            "gridcolor": "white",
            "gridwidth": 2,
            "linecolor": "white",
            "showbackground": true,
            "ticks": "",
            "zerolinecolor": "white"
           }
          },
          "shapedefaults": {
           "line": {
            "color": "#2a3f5f"
           }
          },
          "ternary": {
           "aaxis": {
            "gridcolor": "white",
            "linecolor": "white",
            "ticks": ""
           },
           "baxis": {
            "gridcolor": "white",
            "linecolor": "white",
            "ticks": ""
           },
           "bgcolor": "#E5ECF6",
           "caxis": {
            "gridcolor": "white",
            "linecolor": "white",
            "ticks": ""
           }
          },
          "title": {
           "x": 0.05
          },
          "xaxis": {
           "automargin": true,
           "gridcolor": "white",
           "linecolor": "white",
           "ticks": "",
           "title": {
            "standoff": 15
           },
           "zerolinecolor": "white",
           "zerolinewidth": 2
          },
          "yaxis": {
           "automargin": true,
           "gridcolor": "white",
           "linecolor": "white",
           "ticks": "",
           "title": {
            "standoff": 15
           },
           "zerolinecolor": "white",
           "zerolinewidth": 2
          }
         }
        },
        "title": {
         "text": "Prescription Stacked Subplots"
        },
        "width": 800,
        "xaxis": {
         "anchor": "y",
         "domain": [
          0,
          1
         ]
        },
        "xaxis2": {
         "anchor": "y2",
         "domain": [
          0,
          1
         ]
        },
        "xaxis3": {
         "anchor": "y3",
         "domain": [
          0,
          1
         ]
        },
        "yaxis": {
         "anchor": "x",
         "domain": [
          0.7333333333333333,
          1
         ]
        },
        "yaxis2": {
         "anchor": "x2",
         "domain": [
          0.36666666666666664,
          0.6333333333333333
         ]
        },
        "yaxis3": {
         "anchor": "x3",
         "domain": [
          0,
          0.26666666666666666
         ]
        }
       }
      }
     },
     "metadata": {},
     "output_type": "display_data"
    }
   ],
   "source": [
    "# differencing 2 quarters\n",
    "\n",
    "# local copy of df so no changes are made.\n",
    "increment_2_df = summary_df.copy(deep=True)\n",
    "\n",
    "# container for differenced values\n",
    "new_prescription_values = []\n",
    "\n",
    "# increment index, exclude the first 2 data points as they cannot be differenced\n",
    "for h, i in enumerate(increment_2_df.index):\n",
    "    # skip first 2 data points\n",
    "    if h < 2:\n",
    "        pass\n",
    "    \n",
    "    # increment by 2 quarters, subtract 2 quarters prior\n",
    "    else:\n",
    "        increment = i-QuarterEnd(2)\n",
    "        new_prescription_values.append(increment_2_df.loc[i]['Prescriptions'] - increment_2_df.loc[increment]['Prescriptions'])\n",
    "\n",
    "# drop first 2 data points\n",
    "increment_2_df.drop(increment_2_df.index[0:2],axis=0,inplace=True)\n",
    "\n",
    "# update df\n",
    "increment_2_df['Prescriptions'] = new_prescription_values\n",
    "\n",
    "\n",
    "# display differenced data\n",
    "layout = go.Layout(xaxis={'title': 'Year'}, yaxis={'title': 'Prescriptions'}, title={'text': 'Prescriptions Reimbursed Annually, 1991-2022'})\n",
    "fig = go.Figure(data=go.Scatter(x = list(increment_2_df.index), y = list(increment_2_df['Prescriptions']), mode='markers'),layout=layout)\n",
    "fig.update()\n",
    "fig.show()\n",
    "\n",
    "\n",
    "# create decomposition\n",
    "\n",
    "# instantiate containers\n",
    "analysis_dict = {}\n",
    "analysis_df_full = pd.DataFrame.empty\n",
    "\n",
    "# decompose\n",
    "decomposition = tsa.seasonal_decompose(increment_2_df, model='additive')\n",
    "\n",
    "# decomposition to dict\n",
    "analysis_dict={'trend':dict(decomposition.trend),'seasonal':dict(decomposition.seasonal),'residual':dict(decomposition.resid)}\n",
    "\n",
    "# dict to df\n",
    "analysis_df_full = pd.DataFrame(analysis_dict)\n",
    "\n",
    "# display decomposed data\n",
    "fig = make_subplots(rows=3, cols=1)\n",
    "fig.append_trace(go.Scatter(\n",
    "    name = 'Trend',\n",
    "    x = list(analysis_df_full.index),\n",
    "    y = list(analysis_df_full['trend']),\n",
    "), row=1, col=1)\n",
    "fig.append_trace(go.Scatter(\n",
    "    name = 'Seasonal',\n",
    "    x = list(analysis_df_full.index),\n",
    "    y = list(analysis_df_full['seasonal']),\n",
    "), row=2, col=1)\n",
    "fig.append_trace(go.Scatter(\n",
    "    name = 'Residuals',\n",
    "    x = list(analysis_df_full.index),\n",
    "    y = list(analysis_df_full['residual']),\n",
    "), row=3, col=1)\n",
    "fig.update_layout(height=600, width=800, title_text=f\"Prescription Stacked Subplots\")\n",
    "fig.show()"
   ]
  },
  {
   "cell_type": "code",
   "execution_count": 50,
   "metadata": {},
   "outputs": [
    {
     "data": {
      "application/vnd.plotly.v1+json": {
       "config": {
        "plotlyServerURL": "https://plot.ly"
       },
       "data": [
        {
         "mode": "markers",
         "type": "scatter",
         "x": [
          "1991-12-31T00:00:00",
          "1992-03-31T00:00:00",
          "1992-06-30T00:00:00",
          "1992-09-30T00:00:00",
          "1992-12-31T00:00:00",
          "1993-03-31T00:00:00",
          "1993-06-30T00:00:00",
          "1993-09-30T00:00:00",
          "1993-12-31T00:00:00",
          "1994-03-31T00:00:00",
          "1994-06-30T00:00:00",
          "1994-09-30T00:00:00",
          "1994-12-31T00:00:00",
          "1995-03-31T00:00:00",
          "1995-06-30T00:00:00",
          "1995-09-30T00:00:00",
          "1995-12-31T00:00:00",
          "1996-03-31T00:00:00",
          "1996-06-30T00:00:00",
          "1996-09-30T00:00:00",
          "1996-12-31T00:00:00",
          "1997-03-31T00:00:00",
          "1997-06-30T00:00:00",
          "1997-09-30T00:00:00",
          "1997-12-31T00:00:00",
          "1998-03-31T00:00:00",
          "1998-06-30T00:00:00",
          "1998-09-30T00:00:00",
          "1998-12-31T00:00:00",
          "1999-03-31T00:00:00",
          "1999-06-30T00:00:00",
          "1999-09-30T00:00:00",
          "1999-12-31T00:00:00",
          "2000-03-31T00:00:00",
          "2000-06-30T00:00:00",
          "2000-09-30T00:00:00",
          "2000-12-31T00:00:00",
          "2001-03-31T00:00:00",
          "2001-06-30T00:00:00",
          "2001-09-30T00:00:00",
          "2001-12-31T00:00:00",
          "2002-03-31T00:00:00",
          "2002-06-30T00:00:00",
          "2002-09-30T00:00:00",
          "2002-12-31T00:00:00",
          "2003-03-31T00:00:00",
          "2003-06-30T00:00:00",
          "2003-09-30T00:00:00",
          "2003-12-31T00:00:00",
          "2004-03-31T00:00:00",
          "2004-06-30T00:00:00",
          "2004-09-30T00:00:00",
          "2004-12-31T00:00:00",
          "2005-03-31T00:00:00",
          "2005-06-30T00:00:00",
          "2005-09-30T00:00:00",
          "2005-12-31T00:00:00",
          "2006-03-31T00:00:00",
          "2006-06-30T00:00:00",
          "2006-09-30T00:00:00",
          "2006-12-31T00:00:00",
          "2007-03-31T00:00:00",
          "2007-06-30T00:00:00",
          "2007-09-30T00:00:00",
          "2007-12-31T00:00:00",
          "2008-03-31T00:00:00",
          "2008-06-30T00:00:00",
          "2008-09-30T00:00:00",
          "2008-12-31T00:00:00",
          "2009-03-31T00:00:00",
          "2009-06-30T00:00:00",
          "2009-09-30T00:00:00",
          "2009-12-31T00:00:00",
          "2010-03-31T00:00:00",
          "2010-06-30T00:00:00",
          "2010-09-30T00:00:00",
          "2010-12-31T00:00:00",
          "2011-03-31T00:00:00",
          "2011-06-30T00:00:00",
          "2011-09-30T00:00:00",
          "2011-12-31T00:00:00",
          "2012-03-31T00:00:00",
          "2012-06-30T00:00:00",
          "2012-09-30T00:00:00",
          "2012-12-31T00:00:00",
          "2013-03-31T00:00:00",
          "2013-06-30T00:00:00",
          "2013-09-30T00:00:00",
          "2013-12-31T00:00:00",
          "2014-03-31T00:00:00",
          "2014-06-30T00:00:00",
          "2014-09-30T00:00:00",
          "2014-12-31T00:00:00",
          "2015-03-31T00:00:00",
          "2015-06-30T00:00:00",
          "2015-09-30T00:00:00",
          "2015-12-31T00:00:00",
          "2016-03-31T00:00:00",
          "2016-06-30T00:00:00",
          "2016-09-30T00:00:00",
          "2016-12-31T00:00:00",
          "2017-03-31T00:00:00",
          "2017-06-30T00:00:00",
          "2017-09-30T00:00:00",
          "2017-12-31T00:00:00",
          "2018-03-31T00:00:00",
          "2018-06-30T00:00:00",
          "2018-09-30T00:00:00",
          "2018-12-31T00:00:00",
          "2019-03-31T00:00:00",
          "2019-06-30T00:00:00",
          "2019-09-30T00:00:00",
          "2019-12-31T00:00:00",
          "2020-03-31T00:00:00",
          "2020-06-30T00:00:00",
          "2020-09-30T00:00:00",
          "2020-12-31T00:00:00",
          "2021-03-31T00:00:00",
          "2021-06-30T00:00:00",
          "2021-09-30T00:00:00",
          "2021-12-31T00:00:00",
          "2022-03-31T00:00:00"
         ],
         "y": [
          33811599,
          23509045,
          9209982,
          722702,
          2957711,
          17820682,
          12341179,
          4639667,
          -3304392,
          8102354,
          -3462347,
          -10578170,
          -10456418,
          -5558642,
          4356278,
          33463436,
          36807831,
          33750121,
          -8909716,
          -9896973,
          -8513783,
          -1564839,
          -4172947,
          -8662369,
          -5349960,
          11375228,
          13314685,
          7427970,
          1954284,
          4880434,
          3856917,
          -8000901,
          270165,
          1246876,
          6316189,
          795489,
          28635261,
          20765270,
          13068795,
          -13402535,
          -1512751,
          679521,
          6376124,
          5175253,
          10483063,
          8975299,
          8591163,
          221036789,
          32935669,
          77779657,
          -2640800,
          95684401,
          106783764,
          121128902,
          -33268381,
          -166257613,
          -146500082,
          -145003463,
          -75804868,
          -257478152,
          -8437673,
          915418,
          7198804,
          -1785219,
          -7401585,
          3400477,
          10808224,
          1336437,
          1976450,
          -2842369,
          24220050,
          3978853,
          6821078,
          86165,
          48411385,
          51371479,
          53476632,
          21926419,
          14158970,
          -19350028,
          -5296742,
          -1369142,
          19725511,
          5071403,
          -1112517,
          -1086687,
          -8754555,
          -12658799,
          -8219384,
          -1648864,
          22059077,
          20966175,
          25204844,
          6673586,
          12645884,
          4882395,
          13361744,
          16218086,
          8200070,
          -1388635,
          6066013,
          13624002,
          20900655,
          -15377142,
          -1255989,
          12437031,
          25979262,
          2587452,
          -8424900,
          2352438,
          5727225,
          -1258058,
          -5056632,
          5576134,
          -29382195,
          -6837887,
          721663,
          42090274,
          25603693,
          22428283,
          19635419,
          4625893
         ]
        }
       ],
       "layout": {
        "template": {
         "data": {
          "bar": [
           {
            "error_x": {
             "color": "#2a3f5f"
            },
            "error_y": {
             "color": "#2a3f5f"
            },
            "marker": {
             "line": {
              "color": "#E5ECF6",
              "width": 0.5
             },
             "pattern": {
              "fillmode": "overlay",
              "size": 10,
              "solidity": 0.2
             }
            },
            "type": "bar"
           }
          ],
          "barpolar": [
           {
            "marker": {
             "line": {
              "color": "#E5ECF6",
              "width": 0.5
             },
             "pattern": {
              "fillmode": "overlay",
              "size": 10,
              "solidity": 0.2
             }
            },
            "type": "barpolar"
           }
          ],
          "carpet": [
           {
            "aaxis": {
             "endlinecolor": "#2a3f5f",
             "gridcolor": "white",
             "linecolor": "white",
             "minorgridcolor": "white",
             "startlinecolor": "#2a3f5f"
            },
            "baxis": {
             "endlinecolor": "#2a3f5f",
             "gridcolor": "white",
             "linecolor": "white",
             "minorgridcolor": "white",
             "startlinecolor": "#2a3f5f"
            },
            "type": "carpet"
           }
          ],
          "choropleth": [
           {
            "colorbar": {
             "outlinewidth": 0,
             "ticks": ""
            },
            "type": "choropleth"
           }
          ],
          "contour": [
           {
            "colorbar": {
             "outlinewidth": 0,
             "ticks": ""
            },
            "colorscale": [
             [
              0,
              "#0d0887"
             ],
             [
              0.1111111111111111,
              "#46039f"
             ],
             [
              0.2222222222222222,
              "#7201a8"
             ],
             [
              0.3333333333333333,
              "#9c179e"
             ],
             [
              0.4444444444444444,
              "#bd3786"
             ],
             [
              0.5555555555555556,
              "#d8576b"
             ],
             [
              0.6666666666666666,
              "#ed7953"
             ],
             [
              0.7777777777777778,
              "#fb9f3a"
             ],
             [
              0.8888888888888888,
              "#fdca26"
             ],
             [
              1,
              "#f0f921"
             ]
            ],
            "type": "contour"
           }
          ],
          "contourcarpet": [
           {
            "colorbar": {
             "outlinewidth": 0,
             "ticks": ""
            },
            "type": "contourcarpet"
           }
          ],
          "heatmap": [
           {
            "colorbar": {
             "outlinewidth": 0,
             "ticks": ""
            },
            "colorscale": [
             [
              0,
              "#0d0887"
             ],
             [
              0.1111111111111111,
              "#46039f"
             ],
             [
              0.2222222222222222,
              "#7201a8"
             ],
             [
              0.3333333333333333,
              "#9c179e"
             ],
             [
              0.4444444444444444,
              "#bd3786"
             ],
             [
              0.5555555555555556,
              "#d8576b"
             ],
             [
              0.6666666666666666,
              "#ed7953"
             ],
             [
              0.7777777777777778,
              "#fb9f3a"
             ],
             [
              0.8888888888888888,
              "#fdca26"
             ],
             [
              1,
              "#f0f921"
             ]
            ],
            "type": "heatmap"
           }
          ],
          "heatmapgl": [
           {
            "colorbar": {
             "outlinewidth": 0,
             "ticks": ""
            },
            "colorscale": [
             [
              0,
              "#0d0887"
             ],
             [
              0.1111111111111111,
              "#46039f"
             ],
             [
              0.2222222222222222,
              "#7201a8"
             ],
             [
              0.3333333333333333,
              "#9c179e"
             ],
             [
              0.4444444444444444,
              "#bd3786"
             ],
             [
              0.5555555555555556,
              "#d8576b"
             ],
             [
              0.6666666666666666,
              "#ed7953"
             ],
             [
              0.7777777777777778,
              "#fb9f3a"
             ],
             [
              0.8888888888888888,
              "#fdca26"
             ],
             [
              1,
              "#f0f921"
             ]
            ],
            "type": "heatmapgl"
           }
          ],
          "histogram": [
           {
            "marker": {
             "pattern": {
              "fillmode": "overlay",
              "size": 10,
              "solidity": 0.2
             }
            },
            "type": "histogram"
           }
          ],
          "histogram2d": [
           {
            "colorbar": {
             "outlinewidth": 0,
             "ticks": ""
            },
            "colorscale": [
             [
              0,
              "#0d0887"
             ],
             [
              0.1111111111111111,
              "#46039f"
             ],
             [
              0.2222222222222222,
              "#7201a8"
             ],
             [
              0.3333333333333333,
              "#9c179e"
             ],
             [
              0.4444444444444444,
              "#bd3786"
             ],
             [
              0.5555555555555556,
              "#d8576b"
             ],
             [
              0.6666666666666666,
              "#ed7953"
             ],
             [
              0.7777777777777778,
              "#fb9f3a"
             ],
             [
              0.8888888888888888,
              "#fdca26"
             ],
             [
              1,
              "#f0f921"
             ]
            ],
            "type": "histogram2d"
           }
          ],
          "histogram2dcontour": [
           {
            "colorbar": {
             "outlinewidth": 0,
             "ticks": ""
            },
            "colorscale": [
             [
              0,
              "#0d0887"
             ],
             [
              0.1111111111111111,
              "#46039f"
             ],
             [
              0.2222222222222222,
              "#7201a8"
             ],
             [
              0.3333333333333333,
              "#9c179e"
             ],
             [
              0.4444444444444444,
              "#bd3786"
             ],
             [
              0.5555555555555556,
              "#d8576b"
             ],
             [
              0.6666666666666666,
              "#ed7953"
             ],
             [
              0.7777777777777778,
              "#fb9f3a"
             ],
             [
              0.8888888888888888,
              "#fdca26"
             ],
             [
              1,
              "#f0f921"
             ]
            ],
            "type": "histogram2dcontour"
           }
          ],
          "mesh3d": [
           {
            "colorbar": {
             "outlinewidth": 0,
             "ticks": ""
            },
            "type": "mesh3d"
           }
          ],
          "parcoords": [
           {
            "line": {
             "colorbar": {
              "outlinewidth": 0,
              "ticks": ""
             }
            },
            "type": "parcoords"
           }
          ],
          "pie": [
           {
            "automargin": true,
            "type": "pie"
           }
          ],
          "scatter": [
           {
            "fillpattern": {
             "fillmode": "overlay",
             "size": 10,
             "solidity": 0.2
            },
            "type": "scatter"
           }
          ],
          "scatter3d": [
           {
            "line": {
             "colorbar": {
              "outlinewidth": 0,
              "ticks": ""
             }
            },
            "marker": {
             "colorbar": {
              "outlinewidth": 0,
              "ticks": ""
             }
            },
            "type": "scatter3d"
           }
          ],
          "scattercarpet": [
           {
            "marker": {
             "colorbar": {
              "outlinewidth": 0,
              "ticks": ""
             }
            },
            "type": "scattercarpet"
           }
          ],
          "scattergeo": [
           {
            "marker": {
             "colorbar": {
              "outlinewidth": 0,
              "ticks": ""
             }
            },
            "type": "scattergeo"
           }
          ],
          "scattergl": [
           {
            "marker": {
             "colorbar": {
              "outlinewidth": 0,
              "ticks": ""
             }
            },
            "type": "scattergl"
           }
          ],
          "scattermapbox": [
           {
            "marker": {
             "colorbar": {
              "outlinewidth": 0,
              "ticks": ""
             }
            },
            "type": "scattermapbox"
           }
          ],
          "scatterpolar": [
           {
            "marker": {
             "colorbar": {
              "outlinewidth": 0,
              "ticks": ""
             }
            },
            "type": "scatterpolar"
           }
          ],
          "scatterpolargl": [
           {
            "marker": {
             "colorbar": {
              "outlinewidth": 0,
              "ticks": ""
             }
            },
            "type": "scatterpolargl"
           }
          ],
          "scatterternary": [
           {
            "marker": {
             "colorbar": {
              "outlinewidth": 0,
              "ticks": ""
             }
            },
            "type": "scatterternary"
           }
          ],
          "surface": [
           {
            "colorbar": {
             "outlinewidth": 0,
             "ticks": ""
            },
            "colorscale": [
             [
              0,
              "#0d0887"
             ],
             [
              0.1111111111111111,
              "#46039f"
             ],
             [
              0.2222222222222222,
              "#7201a8"
             ],
             [
              0.3333333333333333,
              "#9c179e"
             ],
             [
              0.4444444444444444,
              "#bd3786"
             ],
             [
              0.5555555555555556,
              "#d8576b"
             ],
             [
              0.6666666666666666,
              "#ed7953"
             ],
             [
              0.7777777777777778,
              "#fb9f3a"
             ],
             [
              0.8888888888888888,
              "#fdca26"
             ],
             [
              1,
              "#f0f921"
             ]
            ],
            "type": "surface"
           }
          ],
          "table": [
           {
            "cells": {
             "fill": {
              "color": "#EBF0F8"
             },
             "line": {
              "color": "white"
             }
            },
            "header": {
             "fill": {
              "color": "#C8D4E3"
             },
             "line": {
              "color": "white"
             }
            },
            "type": "table"
           }
          ]
         },
         "layout": {
          "annotationdefaults": {
           "arrowcolor": "#2a3f5f",
           "arrowhead": 0,
           "arrowwidth": 1
          },
          "autotypenumbers": "strict",
          "coloraxis": {
           "colorbar": {
            "outlinewidth": 0,
            "ticks": ""
           }
          },
          "colorscale": {
           "diverging": [
            [
             0,
             "#8e0152"
            ],
            [
             0.1,
             "#c51b7d"
            ],
            [
             0.2,
             "#de77ae"
            ],
            [
             0.3,
             "#f1b6da"
            ],
            [
             0.4,
             "#fde0ef"
            ],
            [
             0.5,
             "#f7f7f7"
            ],
            [
             0.6,
             "#e6f5d0"
            ],
            [
             0.7,
             "#b8e186"
            ],
            [
             0.8,
             "#7fbc41"
            ],
            [
             0.9,
             "#4d9221"
            ],
            [
             1,
             "#276419"
            ]
           ],
           "sequential": [
            [
             0,
             "#0d0887"
            ],
            [
             0.1111111111111111,
             "#46039f"
            ],
            [
             0.2222222222222222,
             "#7201a8"
            ],
            [
             0.3333333333333333,
             "#9c179e"
            ],
            [
             0.4444444444444444,
             "#bd3786"
            ],
            [
             0.5555555555555556,
             "#d8576b"
            ],
            [
             0.6666666666666666,
             "#ed7953"
            ],
            [
             0.7777777777777778,
             "#fb9f3a"
            ],
            [
             0.8888888888888888,
             "#fdca26"
            ],
            [
             1,
             "#f0f921"
            ]
           ],
           "sequentialminus": [
            [
             0,
             "#0d0887"
            ],
            [
             0.1111111111111111,
             "#46039f"
            ],
            [
             0.2222222222222222,
             "#7201a8"
            ],
            [
             0.3333333333333333,
             "#9c179e"
            ],
            [
             0.4444444444444444,
             "#bd3786"
            ],
            [
             0.5555555555555556,
             "#d8576b"
            ],
            [
             0.6666666666666666,
             "#ed7953"
            ],
            [
             0.7777777777777778,
             "#fb9f3a"
            ],
            [
             0.8888888888888888,
             "#fdca26"
            ],
            [
             1,
             "#f0f921"
            ]
           ]
          },
          "colorway": [
           "#636efa",
           "#EF553B",
           "#00cc96",
           "#ab63fa",
           "#FFA15A",
           "#19d3f3",
           "#FF6692",
           "#B6E880",
           "#FF97FF",
           "#FECB52"
          ],
          "font": {
           "color": "#2a3f5f"
          },
          "geo": {
           "bgcolor": "white",
           "lakecolor": "white",
           "landcolor": "#E5ECF6",
           "showlakes": true,
           "showland": true,
           "subunitcolor": "white"
          },
          "hoverlabel": {
           "align": "left"
          },
          "hovermode": "closest",
          "mapbox": {
           "style": "light"
          },
          "paper_bgcolor": "white",
          "plot_bgcolor": "#E5ECF6",
          "polar": {
           "angularaxis": {
            "gridcolor": "white",
            "linecolor": "white",
            "ticks": ""
           },
           "bgcolor": "#E5ECF6",
           "radialaxis": {
            "gridcolor": "white",
            "linecolor": "white",
            "ticks": ""
           }
          },
          "scene": {
           "xaxis": {
            "backgroundcolor": "#E5ECF6",
            "gridcolor": "white",
            "gridwidth": 2,
            "linecolor": "white",
            "showbackground": true,
            "ticks": "",
            "zerolinecolor": "white"
           },
           "yaxis": {
            "backgroundcolor": "#E5ECF6",
            "gridcolor": "white",
            "gridwidth": 2,
            "linecolor": "white",
            "showbackground": true,
            "ticks": "",
            "zerolinecolor": "white"
           },
           "zaxis": {
            "backgroundcolor": "#E5ECF6",
            "gridcolor": "white",
            "gridwidth": 2,
            "linecolor": "white",
            "showbackground": true,
            "ticks": "",
            "zerolinecolor": "white"
           }
          },
          "shapedefaults": {
           "line": {
            "color": "#2a3f5f"
           }
          },
          "ternary": {
           "aaxis": {
            "gridcolor": "white",
            "linecolor": "white",
            "ticks": ""
           },
           "baxis": {
            "gridcolor": "white",
            "linecolor": "white",
            "ticks": ""
           },
           "bgcolor": "#E5ECF6",
           "caxis": {
            "gridcolor": "white",
            "linecolor": "white",
            "ticks": ""
           }
          },
          "title": {
           "x": 0.05
          },
          "xaxis": {
           "automargin": true,
           "gridcolor": "white",
           "linecolor": "white",
           "ticks": "",
           "title": {
            "standoff": 15
           },
           "zerolinecolor": "white",
           "zerolinewidth": 2
          },
          "yaxis": {
           "automargin": true,
           "gridcolor": "white",
           "linecolor": "white",
           "ticks": "",
           "title": {
            "standoff": 15
           },
           "zerolinecolor": "white",
           "zerolinewidth": 2
          }
         }
        },
        "title": {
         "text": "Prescriptions Reimbursed Annually, 1991-2022"
        },
        "xaxis": {
         "title": {
          "text": "Year"
         }
        },
        "yaxis": {
         "title": {
          "text": "Prescriptions"
         }
        }
       }
      }
     },
     "metadata": {},
     "output_type": "display_data"
    },
    {
     "data": {
      "application/vnd.plotly.v1+json": {
       "config": {
        "plotlyServerURL": "https://plot.ly"
       },
       "data": [
        {
         "name": "Trend",
         "type": "scatter",
         "x": [
          "1991-12-31T00:00:00",
          "1992-03-31T00:00:00",
          "1992-06-30T00:00:00",
          "1992-09-30T00:00:00",
          "1992-12-31T00:00:00",
          "1993-03-31T00:00:00",
          "1993-06-30T00:00:00",
          "1993-09-30T00:00:00",
          "1993-12-31T00:00:00",
          "1994-03-31T00:00:00",
          "1994-06-30T00:00:00",
          "1994-09-30T00:00:00",
          "1994-12-31T00:00:00",
          "1995-03-31T00:00:00",
          "1995-06-30T00:00:00",
          "1995-09-30T00:00:00",
          "1995-12-31T00:00:00",
          "1996-03-31T00:00:00",
          "1996-06-30T00:00:00",
          "1996-09-30T00:00:00",
          "1996-12-31T00:00:00",
          "1997-03-31T00:00:00",
          "1997-06-30T00:00:00",
          "1997-09-30T00:00:00",
          "1997-12-31T00:00:00",
          "1998-03-31T00:00:00",
          "1998-06-30T00:00:00",
          "1998-09-30T00:00:00",
          "1998-12-31T00:00:00",
          "1999-03-31T00:00:00",
          "1999-06-30T00:00:00",
          "1999-09-30T00:00:00",
          "1999-12-31T00:00:00",
          "2000-03-31T00:00:00",
          "2000-06-30T00:00:00",
          "2000-09-30T00:00:00",
          "2000-12-31T00:00:00",
          "2001-03-31T00:00:00",
          "2001-06-30T00:00:00",
          "2001-09-30T00:00:00",
          "2001-12-31T00:00:00",
          "2002-03-31T00:00:00",
          "2002-06-30T00:00:00",
          "2002-09-30T00:00:00",
          "2002-12-31T00:00:00",
          "2003-03-31T00:00:00",
          "2003-06-30T00:00:00",
          "2003-09-30T00:00:00",
          "2003-12-31T00:00:00",
          "2004-03-31T00:00:00",
          "2004-06-30T00:00:00",
          "2004-09-30T00:00:00",
          "2004-12-31T00:00:00",
          "2005-03-31T00:00:00",
          "2005-06-30T00:00:00",
          "2005-09-30T00:00:00",
          "2005-12-31T00:00:00",
          "2006-03-31T00:00:00",
          "2006-06-30T00:00:00",
          "2006-09-30T00:00:00",
          "2006-12-31T00:00:00",
          "2007-03-31T00:00:00",
          "2007-06-30T00:00:00",
          "2007-09-30T00:00:00",
          "2007-12-31T00:00:00",
          "2008-03-31T00:00:00",
          "2008-06-30T00:00:00",
          "2008-09-30T00:00:00",
          "2008-12-31T00:00:00",
          "2009-03-31T00:00:00",
          "2009-06-30T00:00:00",
          "2009-09-30T00:00:00",
          "2009-12-31T00:00:00",
          "2010-03-31T00:00:00",
          "2010-06-30T00:00:00",
          "2010-09-30T00:00:00",
          "2010-12-31T00:00:00",
          "2011-03-31T00:00:00",
          "2011-06-30T00:00:00",
          "2011-09-30T00:00:00",
          "2011-12-31T00:00:00",
          "2012-03-31T00:00:00",
          "2012-06-30T00:00:00",
          "2012-09-30T00:00:00",
          "2012-12-31T00:00:00",
          "2013-03-31T00:00:00",
          "2013-06-30T00:00:00",
          "2013-09-30T00:00:00",
          "2013-12-31T00:00:00",
          "2014-03-31T00:00:00",
          "2014-06-30T00:00:00",
          "2014-09-30T00:00:00",
          "2014-12-31T00:00:00",
          "2015-03-31T00:00:00",
          "2015-06-30T00:00:00",
          "2015-09-30T00:00:00",
          "2015-12-31T00:00:00",
          "2016-03-31T00:00:00",
          "2016-06-30T00:00:00",
          "2016-09-30T00:00:00",
          "2016-12-31T00:00:00",
          "2017-03-31T00:00:00",
          "2017-06-30T00:00:00",
          "2017-09-30T00:00:00",
          "2017-12-31T00:00:00",
          "2018-03-31T00:00:00",
          "2018-06-30T00:00:00",
          "2018-09-30T00:00:00",
          "2018-12-31T00:00:00",
          "2019-03-31T00:00:00",
          "2019-06-30T00:00:00",
          "2019-09-30T00:00:00",
          "2019-12-31T00:00:00",
          "2020-03-31T00:00:00",
          "2020-06-30T00:00:00",
          "2020-09-30T00:00:00",
          "2020-12-31T00:00:00",
          "2021-03-31T00:00:00",
          "2021-06-30T00:00:00",
          "2021-09-30T00:00:00",
          "2021-12-31T00:00:00",
          "2022-03-31T00:00:00"
         ],
         "xaxis": "x",
         "y": [
          null,
          null,
          12956596,
          8388814.625,
          8069168.875,
          8950189.125,
          8657046.875,
          6659493,
          3469261.25,
          -408409.125,
          -3204642,
          -5806269.75,
          -6536566.125,
          -54037.25,
          11359194.625,
          22180821.125,
          25436167.25,
          18357866.875,
          7272614,
          -2806957.75,
          -6629231.625,
          -5882810,
          -5333006.625,
          -3320020.375,
          483442,
          4680688.375,
          7605011.25,
          7706192.5,
          5712122.25,
          2601292.375,
          462168.625,
          -202541,
          -349326.75,
          1057631,
          5702816.75,
          11688253,
          14972128,
          14041450.75,
          8498196.25,
          2218976.125,
          -1128326.375,
          357313.25,
          4179013.5,
          6715462.5,
          8029314.625,
          35288886.5,
          65078154.25,
          76485274.75,
          83681824.125,
          66608780.25,
          60170743.625,
          74820411.125,
          76410619.125,
          39839419.75,
          -24563812.75,
          -89490839.125,
          -128074445.625,
          -144794073.875,
          -138938840.125,
          -103441178.875,
          -74825859.75,
          -32488784.125,
          -397656.5,
          42486.875,
          804296.75,
          1645681.25,
          3208142.625,
          3600041.25,
          4496163.75,
          6502944,
          7438824.5,
          8410469.75,
          11800453.375,
          20748448.5,
          32504471,
          41066447,
          39514926.875,
          26393186.625,
          10206326.5,
          -52290.375,
          -2268417.875,
          1480078.625,
          5055785.625,
          5614120.625,
          2089419.25,
          -3686864.25,
          -6791497.875,
          -7750128.375,
          -3968696.5,
          4086129.25,
          12467279.5,
          17685614.25,
          17549271.375,
          14362149.75,
          10871289.75,
          10583964.75,
          11221300.5,
          9881695,
          8185849.875,
          6949623,
          8212935.625,
          8051945.375,
          5388131.75,
          4324510.125,
          4810964.625,
          7691364.75,
          9040825.125,
          6884137.125,
          3092058.375,
          79865,
          20209.75,
          844205.25,
          -3141510.25,
          -8227666.375,
          -8202858.125,
          -2916303.75,
          8521199.75,
          19052707,
          25075197.75,
          22756369.625,
          null,
          null
         ],
         "yaxis": "y"
        },
        {
         "name": "Seasonal",
         "type": "scatter",
         "x": [
          "1991-12-31T00:00:00",
          "1992-03-31T00:00:00",
          "1992-06-30T00:00:00",
          "1992-09-30T00:00:00",
          "1992-12-31T00:00:00",
          "1993-03-31T00:00:00",
          "1993-06-30T00:00:00",
          "1993-09-30T00:00:00",
          "1993-12-31T00:00:00",
          "1994-03-31T00:00:00",
          "1994-06-30T00:00:00",
          "1994-09-30T00:00:00",
          "1994-12-31T00:00:00",
          "1995-03-31T00:00:00",
          "1995-06-30T00:00:00",
          "1995-09-30T00:00:00",
          "1995-12-31T00:00:00",
          "1996-03-31T00:00:00",
          "1996-06-30T00:00:00",
          "1996-09-30T00:00:00",
          "1996-12-31T00:00:00",
          "1997-03-31T00:00:00",
          "1997-06-30T00:00:00",
          "1997-09-30T00:00:00",
          "1997-12-31T00:00:00",
          "1998-03-31T00:00:00",
          "1998-06-30T00:00:00",
          "1998-09-30T00:00:00",
          "1998-12-31T00:00:00",
          "1999-03-31T00:00:00",
          "1999-06-30T00:00:00",
          "1999-09-30T00:00:00",
          "1999-12-31T00:00:00",
          "2000-03-31T00:00:00",
          "2000-06-30T00:00:00",
          "2000-09-30T00:00:00",
          "2000-12-31T00:00:00",
          "2001-03-31T00:00:00",
          "2001-06-30T00:00:00",
          "2001-09-30T00:00:00",
          "2001-12-31T00:00:00",
          "2002-03-31T00:00:00",
          "2002-06-30T00:00:00",
          "2002-09-30T00:00:00",
          "2002-12-31T00:00:00",
          "2003-03-31T00:00:00",
          "2003-06-30T00:00:00",
          "2003-09-30T00:00:00",
          "2003-12-31T00:00:00",
          "2004-03-31T00:00:00",
          "2004-06-30T00:00:00",
          "2004-09-30T00:00:00",
          "2004-12-31T00:00:00",
          "2005-03-31T00:00:00",
          "2005-06-30T00:00:00",
          "2005-09-30T00:00:00",
          "2005-12-31T00:00:00",
          "2006-03-31T00:00:00",
          "2006-06-30T00:00:00",
          "2006-09-30T00:00:00",
          "2006-12-31T00:00:00",
          "2007-03-31T00:00:00",
          "2007-06-30T00:00:00",
          "2007-09-30T00:00:00",
          "2007-12-31T00:00:00",
          "2008-03-31T00:00:00",
          "2008-06-30T00:00:00",
          "2008-09-30T00:00:00",
          "2008-12-31T00:00:00",
          "2009-03-31T00:00:00",
          "2009-06-30T00:00:00",
          "2009-09-30T00:00:00",
          "2009-12-31T00:00:00",
          "2010-03-31T00:00:00",
          "2010-06-30T00:00:00",
          "2010-09-30T00:00:00",
          "2010-12-31T00:00:00",
          "2011-03-31T00:00:00",
          "2011-06-30T00:00:00",
          "2011-09-30T00:00:00",
          "2011-12-31T00:00:00",
          "2012-03-31T00:00:00",
          "2012-06-30T00:00:00",
          "2012-09-30T00:00:00",
          "2012-12-31T00:00:00",
          "2013-03-31T00:00:00",
          "2013-06-30T00:00:00",
          "2013-09-30T00:00:00",
          "2013-12-31T00:00:00",
          "2014-03-31T00:00:00",
          "2014-06-30T00:00:00",
          "2014-09-30T00:00:00",
          "2014-12-31T00:00:00",
          "2015-03-31T00:00:00",
          "2015-06-30T00:00:00",
          "2015-09-30T00:00:00",
          "2015-12-31T00:00:00",
          "2016-03-31T00:00:00",
          "2016-06-30T00:00:00",
          "2016-09-30T00:00:00",
          "2016-12-31T00:00:00",
          "2017-03-31T00:00:00",
          "2017-06-30T00:00:00",
          "2017-09-30T00:00:00",
          "2017-12-31T00:00:00",
          "2018-03-31T00:00:00",
          "2018-06-30T00:00:00",
          "2018-09-30T00:00:00",
          "2018-12-31T00:00:00",
          "2019-03-31T00:00:00",
          "2019-06-30T00:00:00",
          "2019-09-30T00:00:00",
          "2019-12-31T00:00:00",
          "2020-03-31T00:00:00",
          "2020-06-30T00:00:00",
          "2020-09-30T00:00:00",
          "2020-12-31T00:00:00",
          "2021-03-31T00:00:00",
          "2021-06-30T00:00:00",
          "2021-09-30T00:00:00",
          "2021-12-31T00:00:00",
          "2022-03-31T00:00:00"
         ],
         "xaxis": "x2",
         "y": [
          -127757.04339080467,
          5401711.663505747,
          761459.248275862,
          -6035413.868390805,
          -127757.04339080467,
          5401711.663505747,
          761459.248275862,
          -6035413.868390805,
          -127757.04339080467,
          5401711.663505747,
          761459.248275862,
          -6035413.868390805,
          -127757.04339080467,
          5401711.663505747,
          761459.248275862,
          -6035413.868390805,
          -127757.04339080467,
          5401711.663505747,
          761459.248275862,
          -6035413.868390805,
          -127757.04339080467,
          5401711.663505747,
          761459.248275862,
          -6035413.868390805,
          -127757.04339080467,
          5401711.663505747,
          761459.248275862,
          -6035413.868390805,
          -127757.04339080467,
          5401711.663505747,
          761459.248275862,
          -6035413.868390805,
          -127757.04339080467,
          5401711.663505747,
          761459.248275862,
          -6035413.868390805,
          -127757.04339080467,
          5401711.663505747,
          761459.248275862,
          -6035413.868390805,
          -127757.04339080467,
          5401711.663505747,
          761459.248275862,
          -6035413.868390805,
          -127757.04339080467,
          5401711.663505747,
          761459.248275862,
          -6035413.868390805,
          -127757.04339080467,
          5401711.663505747,
          761459.248275862,
          -6035413.868390805,
          -127757.04339080467,
          5401711.663505747,
          761459.248275862,
          -6035413.868390805,
          -127757.04339080467,
          5401711.663505747,
          761459.248275862,
          -6035413.868390805,
          -127757.04339080467,
          5401711.663505747,
          761459.248275862,
          -6035413.868390805,
          -127757.04339080467,
          5401711.663505747,
          761459.248275862,
          -6035413.868390805,
          -127757.04339080467,
          5401711.663505747,
          761459.248275862,
          -6035413.868390805,
          -127757.04339080467,
          5401711.663505747,
          761459.248275862,
          -6035413.868390805,
          -127757.04339080467,
          5401711.663505747,
          761459.248275862,
          -6035413.868390805,
          -127757.04339080467,
          5401711.663505747,
          761459.248275862,
          -6035413.868390805,
          -127757.04339080467,
          5401711.663505747,
          761459.248275862,
          -6035413.868390805,
          -127757.04339080467,
          5401711.663505747,
          761459.248275862,
          -6035413.868390805,
          -127757.04339080467,
          5401711.663505747,
          761459.248275862,
          -6035413.868390805,
          -127757.04339080467,
          5401711.663505747,
          761459.248275862,
          -6035413.868390805,
          -127757.04339080467,
          5401711.663505747,
          761459.248275862,
          -6035413.868390805,
          -127757.04339080467,
          5401711.663505747,
          761459.248275862,
          -6035413.868390805,
          -127757.04339080467,
          5401711.663505747,
          761459.248275862,
          -6035413.868390805,
          -127757.04339080467,
          5401711.663505747,
          761459.248275862,
          -6035413.868390805,
          -127757.04339080467,
          5401711.663505747,
          761459.248275862,
          -6035413.868390805,
          -127757.04339080467,
          5401711.663505747
         ],
         "yaxis": "y2"
        },
        {
         "name": "Residuals",
         "type": "scatter",
         "x": [
          "1991-12-31T00:00:00",
          "1992-03-31T00:00:00",
          "1992-06-30T00:00:00",
          "1992-09-30T00:00:00",
          "1992-12-31T00:00:00",
          "1993-03-31T00:00:00",
          "1993-06-30T00:00:00",
          "1993-09-30T00:00:00",
          "1993-12-31T00:00:00",
          "1994-03-31T00:00:00",
          "1994-06-30T00:00:00",
          "1994-09-30T00:00:00",
          "1994-12-31T00:00:00",
          "1995-03-31T00:00:00",
          "1995-06-30T00:00:00",
          "1995-09-30T00:00:00",
          "1995-12-31T00:00:00",
          "1996-03-31T00:00:00",
          "1996-06-30T00:00:00",
          "1996-09-30T00:00:00",
          "1996-12-31T00:00:00",
          "1997-03-31T00:00:00",
          "1997-06-30T00:00:00",
          "1997-09-30T00:00:00",
          "1997-12-31T00:00:00",
          "1998-03-31T00:00:00",
          "1998-06-30T00:00:00",
          "1998-09-30T00:00:00",
          "1998-12-31T00:00:00",
          "1999-03-31T00:00:00",
          "1999-06-30T00:00:00",
          "1999-09-30T00:00:00",
          "1999-12-31T00:00:00",
          "2000-03-31T00:00:00",
          "2000-06-30T00:00:00",
          "2000-09-30T00:00:00",
          "2000-12-31T00:00:00",
          "2001-03-31T00:00:00",
          "2001-06-30T00:00:00",
          "2001-09-30T00:00:00",
          "2001-12-31T00:00:00",
          "2002-03-31T00:00:00",
          "2002-06-30T00:00:00",
          "2002-09-30T00:00:00",
          "2002-12-31T00:00:00",
          "2003-03-31T00:00:00",
          "2003-06-30T00:00:00",
          "2003-09-30T00:00:00",
          "2003-12-31T00:00:00",
          "2004-03-31T00:00:00",
          "2004-06-30T00:00:00",
          "2004-09-30T00:00:00",
          "2004-12-31T00:00:00",
          "2005-03-31T00:00:00",
          "2005-06-30T00:00:00",
          "2005-09-30T00:00:00",
          "2005-12-31T00:00:00",
          "2006-03-31T00:00:00",
          "2006-06-30T00:00:00",
          "2006-09-30T00:00:00",
          "2006-12-31T00:00:00",
          "2007-03-31T00:00:00",
          "2007-06-30T00:00:00",
          "2007-09-30T00:00:00",
          "2007-12-31T00:00:00",
          "2008-03-31T00:00:00",
          "2008-06-30T00:00:00",
          "2008-09-30T00:00:00",
          "2008-12-31T00:00:00",
          "2009-03-31T00:00:00",
          "2009-06-30T00:00:00",
          "2009-09-30T00:00:00",
          "2009-12-31T00:00:00",
          "2010-03-31T00:00:00",
          "2010-06-30T00:00:00",
          "2010-09-30T00:00:00",
          "2010-12-31T00:00:00",
          "2011-03-31T00:00:00",
          "2011-06-30T00:00:00",
          "2011-09-30T00:00:00",
          "2011-12-31T00:00:00",
          "2012-03-31T00:00:00",
          "2012-06-30T00:00:00",
          "2012-09-30T00:00:00",
          "2012-12-31T00:00:00",
          "2013-03-31T00:00:00",
          "2013-06-30T00:00:00",
          "2013-09-30T00:00:00",
          "2013-12-31T00:00:00",
          "2014-03-31T00:00:00",
          "2014-06-30T00:00:00",
          "2014-09-30T00:00:00",
          "2014-12-31T00:00:00",
          "2015-03-31T00:00:00",
          "2015-06-30T00:00:00",
          "2015-09-30T00:00:00",
          "2015-12-31T00:00:00",
          "2016-03-31T00:00:00",
          "2016-06-30T00:00:00",
          "2016-09-30T00:00:00",
          "2016-12-31T00:00:00",
          "2017-03-31T00:00:00",
          "2017-06-30T00:00:00",
          "2017-09-30T00:00:00",
          "2017-12-31T00:00:00",
          "2018-03-31T00:00:00",
          "2018-06-30T00:00:00",
          "2018-09-30T00:00:00",
          "2018-12-31T00:00:00",
          "2019-03-31T00:00:00",
          "2019-06-30T00:00:00",
          "2019-09-30T00:00:00",
          "2019-12-31T00:00:00",
          "2020-03-31T00:00:00",
          "2020-06-30T00:00:00",
          "2020-09-30T00:00:00",
          "2020-12-31T00:00:00",
          "2021-03-31T00:00:00",
          "2021-06-30T00:00:00",
          "2021-09-30T00:00:00",
          "2021-12-31T00:00:00",
          "2022-03-31T00:00:00"
         ],
         "xaxis": "x3",
         "y": [
          null,
          null,
          -4508073.248275862,
          -1630698.756609195,
          -4983700.831609195,
          3468781.211494253,
          2922672.876724138,
          4015587.868390805,
          -6645896.206609195,
          3109051.461494253,
          -1019164.248275862,
          1263513.618390805,
          -3792094.831609195,
          -10906316.413505748,
          -7764375.873275862,
          17318028.743390806,
          11499420.793390805,
          9990542.461494252,
          -16943789.24827586,
          -1054601.381609195,
          -1756794.3316091953,
          -1083740.663505747,
          398600.37672413804,
          693065.2433908051,
          -5705644.956609195,
          1292827.961494253,
          4948214.501724138,
          5757191.368390805,
          -3630081.206609195,
          -3122570.038505747,
          2633289.126724138,
          -1762946.131609195,
          747248.7933908047,
          -5212466.663505747,
          -148086.99827586196,
          -4857350.131609195,
          13790890.043390805,
          1322107.586494253,
          3809139.501724138,
          -9586097.256609194,
          -256667.58160919533,
          -5079503.913505747,
          1435651.251724138,
          4495204.368390805,
          2581505.418390805,
          -31715299.163505748,
          -57248450.49827586,
          150586928.1183908,
          -50618398.0816092,
          5769165.086494253,
          -63573002.87327586,
          26899403.743390806,
          30500901.918390803,
          75887770.58649425,
          -9466027.498275861,
          -70731360.0066092,
          -18297879.331609197,
          -5611100.788505747,
          62372512.87672414,
          -148001559.2566092,
          66515943.7933908,
          28002490.461494252,
          6835001.251724138,
          4207707.993390805,
          -8078124.706609195,
          -3646915.913505747,
          6838622.126724138,
          3771809.618390805,
          -2391956.706609195,
          -14747024.663505748,
          16019766.251724139,
          1603797.118390805,
          -4851618.331609195,
          -26063995.163505748,
          15145454.751724139,
          16340445.868390806,
          14089462.168390805,
          -9868479.288505748,
          3191184.251724138,
          -13262323.756609194,
          -2900567.081609195,
          -8250932.288505747,
          13908266.126724139,
          5492696.243390805,
          -3074179.206609195,
          -2801534.413505747,
          -2724516.373275862,
          1126743.243390805,
          -4122930.456609195,
          -11136704.913505748,
          8830338.251724139,
          9315974.618390806,
          7783329.668390805,
          -13090275.413505748,
          1013135.001724138,
          333844.1183908051,
          2268200.543390805,
          934679.336494253,
          -747239.123275862,
          -2302844.131609195,
          -2019165.5816091953,
          170344.96149425302,
          14751064.001724139,
          -13666238.256609194,
          -5939196.581609195,
          -656045.413505747,
          16176977.626724139,
          1738728.743390805,
          -11389201.331609195,
          -3129138.663505747,
          4945556.001724138,
          3933150.618390805,
          -1787364.7066091953,
          8402088.711494252,
          -21940796.12327586,
          2113830.618390805,
          -7671779.706609195,
          17635855.336494252,
          -232963.99827586196,
          5707327.243390805,
          null,
          null
         ],
         "yaxis": "y3"
        }
       ],
       "layout": {
        "height": 600,
        "template": {
         "data": {
          "bar": [
           {
            "error_x": {
             "color": "#2a3f5f"
            },
            "error_y": {
             "color": "#2a3f5f"
            },
            "marker": {
             "line": {
              "color": "#E5ECF6",
              "width": 0.5
             },
             "pattern": {
              "fillmode": "overlay",
              "size": 10,
              "solidity": 0.2
             }
            },
            "type": "bar"
           }
          ],
          "barpolar": [
           {
            "marker": {
             "line": {
              "color": "#E5ECF6",
              "width": 0.5
             },
             "pattern": {
              "fillmode": "overlay",
              "size": 10,
              "solidity": 0.2
             }
            },
            "type": "barpolar"
           }
          ],
          "carpet": [
           {
            "aaxis": {
             "endlinecolor": "#2a3f5f",
             "gridcolor": "white",
             "linecolor": "white",
             "minorgridcolor": "white",
             "startlinecolor": "#2a3f5f"
            },
            "baxis": {
             "endlinecolor": "#2a3f5f",
             "gridcolor": "white",
             "linecolor": "white",
             "minorgridcolor": "white",
             "startlinecolor": "#2a3f5f"
            },
            "type": "carpet"
           }
          ],
          "choropleth": [
           {
            "colorbar": {
             "outlinewidth": 0,
             "ticks": ""
            },
            "type": "choropleth"
           }
          ],
          "contour": [
           {
            "colorbar": {
             "outlinewidth": 0,
             "ticks": ""
            },
            "colorscale": [
             [
              0,
              "#0d0887"
             ],
             [
              0.1111111111111111,
              "#46039f"
             ],
             [
              0.2222222222222222,
              "#7201a8"
             ],
             [
              0.3333333333333333,
              "#9c179e"
             ],
             [
              0.4444444444444444,
              "#bd3786"
             ],
             [
              0.5555555555555556,
              "#d8576b"
             ],
             [
              0.6666666666666666,
              "#ed7953"
             ],
             [
              0.7777777777777778,
              "#fb9f3a"
             ],
             [
              0.8888888888888888,
              "#fdca26"
             ],
             [
              1,
              "#f0f921"
             ]
            ],
            "type": "contour"
           }
          ],
          "contourcarpet": [
           {
            "colorbar": {
             "outlinewidth": 0,
             "ticks": ""
            },
            "type": "contourcarpet"
           }
          ],
          "heatmap": [
           {
            "colorbar": {
             "outlinewidth": 0,
             "ticks": ""
            },
            "colorscale": [
             [
              0,
              "#0d0887"
             ],
             [
              0.1111111111111111,
              "#46039f"
             ],
             [
              0.2222222222222222,
              "#7201a8"
             ],
             [
              0.3333333333333333,
              "#9c179e"
             ],
             [
              0.4444444444444444,
              "#bd3786"
             ],
             [
              0.5555555555555556,
              "#d8576b"
             ],
             [
              0.6666666666666666,
              "#ed7953"
             ],
             [
              0.7777777777777778,
              "#fb9f3a"
             ],
             [
              0.8888888888888888,
              "#fdca26"
             ],
             [
              1,
              "#f0f921"
             ]
            ],
            "type": "heatmap"
           }
          ],
          "heatmapgl": [
           {
            "colorbar": {
             "outlinewidth": 0,
             "ticks": ""
            },
            "colorscale": [
             [
              0,
              "#0d0887"
             ],
             [
              0.1111111111111111,
              "#46039f"
             ],
             [
              0.2222222222222222,
              "#7201a8"
             ],
             [
              0.3333333333333333,
              "#9c179e"
             ],
             [
              0.4444444444444444,
              "#bd3786"
             ],
             [
              0.5555555555555556,
              "#d8576b"
             ],
             [
              0.6666666666666666,
              "#ed7953"
             ],
             [
              0.7777777777777778,
              "#fb9f3a"
             ],
             [
              0.8888888888888888,
              "#fdca26"
             ],
             [
              1,
              "#f0f921"
             ]
            ],
            "type": "heatmapgl"
           }
          ],
          "histogram": [
           {
            "marker": {
             "pattern": {
              "fillmode": "overlay",
              "size": 10,
              "solidity": 0.2
             }
            },
            "type": "histogram"
           }
          ],
          "histogram2d": [
           {
            "colorbar": {
             "outlinewidth": 0,
             "ticks": ""
            },
            "colorscale": [
             [
              0,
              "#0d0887"
             ],
             [
              0.1111111111111111,
              "#46039f"
             ],
             [
              0.2222222222222222,
              "#7201a8"
             ],
             [
              0.3333333333333333,
              "#9c179e"
             ],
             [
              0.4444444444444444,
              "#bd3786"
             ],
             [
              0.5555555555555556,
              "#d8576b"
             ],
             [
              0.6666666666666666,
              "#ed7953"
             ],
             [
              0.7777777777777778,
              "#fb9f3a"
             ],
             [
              0.8888888888888888,
              "#fdca26"
             ],
             [
              1,
              "#f0f921"
             ]
            ],
            "type": "histogram2d"
           }
          ],
          "histogram2dcontour": [
           {
            "colorbar": {
             "outlinewidth": 0,
             "ticks": ""
            },
            "colorscale": [
             [
              0,
              "#0d0887"
             ],
             [
              0.1111111111111111,
              "#46039f"
             ],
             [
              0.2222222222222222,
              "#7201a8"
             ],
             [
              0.3333333333333333,
              "#9c179e"
             ],
             [
              0.4444444444444444,
              "#bd3786"
             ],
             [
              0.5555555555555556,
              "#d8576b"
             ],
             [
              0.6666666666666666,
              "#ed7953"
             ],
             [
              0.7777777777777778,
              "#fb9f3a"
             ],
             [
              0.8888888888888888,
              "#fdca26"
             ],
             [
              1,
              "#f0f921"
             ]
            ],
            "type": "histogram2dcontour"
           }
          ],
          "mesh3d": [
           {
            "colorbar": {
             "outlinewidth": 0,
             "ticks": ""
            },
            "type": "mesh3d"
           }
          ],
          "parcoords": [
           {
            "line": {
             "colorbar": {
              "outlinewidth": 0,
              "ticks": ""
             }
            },
            "type": "parcoords"
           }
          ],
          "pie": [
           {
            "automargin": true,
            "type": "pie"
           }
          ],
          "scatter": [
           {
            "fillpattern": {
             "fillmode": "overlay",
             "size": 10,
             "solidity": 0.2
            },
            "type": "scatter"
           }
          ],
          "scatter3d": [
           {
            "line": {
             "colorbar": {
              "outlinewidth": 0,
              "ticks": ""
             }
            },
            "marker": {
             "colorbar": {
              "outlinewidth": 0,
              "ticks": ""
             }
            },
            "type": "scatter3d"
           }
          ],
          "scattercarpet": [
           {
            "marker": {
             "colorbar": {
              "outlinewidth": 0,
              "ticks": ""
             }
            },
            "type": "scattercarpet"
           }
          ],
          "scattergeo": [
           {
            "marker": {
             "colorbar": {
              "outlinewidth": 0,
              "ticks": ""
             }
            },
            "type": "scattergeo"
           }
          ],
          "scattergl": [
           {
            "marker": {
             "colorbar": {
              "outlinewidth": 0,
              "ticks": ""
             }
            },
            "type": "scattergl"
           }
          ],
          "scattermapbox": [
           {
            "marker": {
             "colorbar": {
              "outlinewidth": 0,
              "ticks": ""
             }
            },
            "type": "scattermapbox"
           }
          ],
          "scatterpolar": [
           {
            "marker": {
             "colorbar": {
              "outlinewidth": 0,
              "ticks": ""
             }
            },
            "type": "scatterpolar"
           }
          ],
          "scatterpolargl": [
           {
            "marker": {
             "colorbar": {
              "outlinewidth": 0,
              "ticks": ""
             }
            },
            "type": "scatterpolargl"
           }
          ],
          "scatterternary": [
           {
            "marker": {
             "colorbar": {
              "outlinewidth": 0,
              "ticks": ""
             }
            },
            "type": "scatterternary"
           }
          ],
          "surface": [
           {
            "colorbar": {
             "outlinewidth": 0,
             "ticks": ""
            },
            "colorscale": [
             [
              0,
              "#0d0887"
             ],
             [
              0.1111111111111111,
              "#46039f"
             ],
             [
              0.2222222222222222,
              "#7201a8"
             ],
             [
              0.3333333333333333,
              "#9c179e"
             ],
             [
              0.4444444444444444,
              "#bd3786"
             ],
             [
              0.5555555555555556,
              "#d8576b"
             ],
             [
              0.6666666666666666,
              "#ed7953"
             ],
             [
              0.7777777777777778,
              "#fb9f3a"
             ],
             [
              0.8888888888888888,
              "#fdca26"
             ],
             [
              1,
              "#f0f921"
             ]
            ],
            "type": "surface"
           }
          ],
          "table": [
           {
            "cells": {
             "fill": {
              "color": "#EBF0F8"
             },
             "line": {
              "color": "white"
             }
            },
            "header": {
             "fill": {
              "color": "#C8D4E3"
             },
             "line": {
              "color": "white"
             }
            },
            "type": "table"
           }
          ]
         },
         "layout": {
          "annotationdefaults": {
           "arrowcolor": "#2a3f5f",
           "arrowhead": 0,
           "arrowwidth": 1
          },
          "autotypenumbers": "strict",
          "coloraxis": {
           "colorbar": {
            "outlinewidth": 0,
            "ticks": ""
           }
          },
          "colorscale": {
           "diverging": [
            [
             0,
             "#8e0152"
            ],
            [
             0.1,
             "#c51b7d"
            ],
            [
             0.2,
             "#de77ae"
            ],
            [
             0.3,
             "#f1b6da"
            ],
            [
             0.4,
             "#fde0ef"
            ],
            [
             0.5,
             "#f7f7f7"
            ],
            [
             0.6,
             "#e6f5d0"
            ],
            [
             0.7,
             "#b8e186"
            ],
            [
             0.8,
             "#7fbc41"
            ],
            [
             0.9,
             "#4d9221"
            ],
            [
             1,
             "#276419"
            ]
           ],
           "sequential": [
            [
             0,
             "#0d0887"
            ],
            [
             0.1111111111111111,
             "#46039f"
            ],
            [
             0.2222222222222222,
             "#7201a8"
            ],
            [
             0.3333333333333333,
             "#9c179e"
            ],
            [
             0.4444444444444444,
             "#bd3786"
            ],
            [
             0.5555555555555556,
             "#d8576b"
            ],
            [
             0.6666666666666666,
             "#ed7953"
            ],
            [
             0.7777777777777778,
             "#fb9f3a"
            ],
            [
             0.8888888888888888,
             "#fdca26"
            ],
            [
             1,
             "#f0f921"
            ]
           ],
           "sequentialminus": [
            [
             0,
             "#0d0887"
            ],
            [
             0.1111111111111111,
             "#46039f"
            ],
            [
             0.2222222222222222,
             "#7201a8"
            ],
            [
             0.3333333333333333,
             "#9c179e"
            ],
            [
             0.4444444444444444,
             "#bd3786"
            ],
            [
             0.5555555555555556,
             "#d8576b"
            ],
            [
             0.6666666666666666,
             "#ed7953"
            ],
            [
             0.7777777777777778,
             "#fb9f3a"
            ],
            [
             0.8888888888888888,
             "#fdca26"
            ],
            [
             1,
             "#f0f921"
            ]
           ]
          },
          "colorway": [
           "#636efa",
           "#EF553B",
           "#00cc96",
           "#ab63fa",
           "#FFA15A",
           "#19d3f3",
           "#FF6692",
           "#B6E880",
           "#FF97FF",
           "#FECB52"
          ],
          "font": {
           "color": "#2a3f5f"
          },
          "geo": {
           "bgcolor": "white",
           "lakecolor": "white",
           "landcolor": "#E5ECF6",
           "showlakes": true,
           "showland": true,
           "subunitcolor": "white"
          },
          "hoverlabel": {
           "align": "left"
          },
          "hovermode": "closest",
          "mapbox": {
           "style": "light"
          },
          "paper_bgcolor": "white",
          "plot_bgcolor": "#E5ECF6",
          "polar": {
           "angularaxis": {
            "gridcolor": "white",
            "linecolor": "white",
            "ticks": ""
           },
           "bgcolor": "#E5ECF6",
           "radialaxis": {
            "gridcolor": "white",
            "linecolor": "white",
            "ticks": ""
           }
          },
          "scene": {
           "xaxis": {
            "backgroundcolor": "#E5ECF6",
            "gridcolor": "white",
            "gridwidth": 2,
            "linecolor": "white",
            "showbackground": true,
            "ticks": "",
            "zerolinecolor": "white"
           },
           "yaxis": {
            "backgroundcolor": "#E5ECF6",
            "gridcolor": "white",
            "gridwidth": 2,
            "linecolor": "white",
            "showbackground": true,
            "ticks": "",
            "zerolinecolor": "white"
           },
           "zaxis": {
            "backgroundcolor": "#E5ECF6",
            "gridcolor": "white",
            "gridwidth": 2,
            "linecolor": "white",
            "showbackground": true,
            "ticks": "",
            "zerolinecolor": "white"
           }
          },
          "shapedefaults": {
           "line": {
            "color": "#2a3f5f"
           }
          },
          "ternary": {
           "aaxis": {
            "gridcolor": "white",
            "linecolor": "white",
            "ticks": ""
           },
           "baxis": {
            "gridcolor": "white",
            "linecolor": "white",
            "ticks": ""
           },
           "bgcolor": "#E5ECF6",
           "caxis": {
            "gridcolor": "white",
            "linecolor": "white",
            "ticks": ""
           }
          },
          "title": {
           "x": 0.05
          },
          "xaxis": {
           "automargin": true,
           "gridcolor": "white",
           "linecolor": "white",
           "ticks": "",
           "title": {
            "standoff": 15
           },
           "zerolinecolor": "white",
           "zerolinewidth": 2
          },
          "yaxis": {
           "automargin": true,
           "gridcolor": "white",
           "linecolor": "white",
           "ticks": "",
           "title": {
            "standoff": 15
           },
           "zerolinecolor": "white",
           "zerolinewidth": 2
          }
         }
        },
        "title": {
         "text": "Prescription Stacked Subplots"
        },
        "width": 800,
        "xaxis": {
         "anchor": "y",
         "domain": [
          0,
          1
         ]
        },
        "xaxis2": {
         "anchor": "y2",
         "domain": [
          0,
          1
         ]
        },
        "xaxis3": {
         "anchor": "y3",
         "domain": [
          0,
          1
         ]
        },
        "yaxis": {
         "anchor": "x",
         "domain": [
          0.7333333333333333,
          1
         ]
        },
        "yaxis2": {
         "anchor": "x2",
         "domain": [
          0.36666666666666664,
          0.6333333333333333
         ]
        },
        "yaxis3": {
         "anchor": "x3",
         "domain": [
          0,
          0.26666666666666666
         ]
        }
       }
      }
     },
     "metadata": {},
     "output_type": "display_data"
    }
   ],
   "source": [
    "# differencing 3 quarters\n",
    "\n",
    "# local copy of df so no changes are made.\n",
    "increment_3_df = summary_df.copy(deep=True)\n",
    "\n",
    "# container for differenced values\n",
    "new_prescription_values = []\n",
    "\n",
    "# increment index, exclude the first 3 data points as they cannot be differenced\n",
    "for h, i in enumerate(increment_3_df.index):\n",
    "    # skip first 3 data points\n",
    "    if h < 3:\n",
    "        pass\n",
    "    \n",
    "    # increment by 3 quarters, subtract 3 quarters prior\n",
    "    else:\n",
    "        increment = i-QuarterEnd(3)\n",
    "        new_prescription_values.append(increment_3_df.loc[i]['Prescriptions'] - increment_3_df.loc[increment]['Prescriptions'])\n",
    "\n",
    "# drop first 3 data points\n",
    "increment_3_df.drop(increment_3_df.index[0:3],axis=0,inplace=True)\n",
    "\n",
    "# update df\n",
    "increment_3_df['Prescriptions'] = new_prescription_values\n",
    "\n",
    "# display differenced data\n",
    "layout = go.Layout(xaxis={'title': 'Year'}, yaxis={'title': 'Prescriptions'}, title={'text': 'Prescriptions Reimbursed Annually, 1991-2022'})\n",
    "fig = go.Figure(data=go.Scatter(x = list(increment_3_df.index), y = list(increment_3_df['Prescriptions']), mode='markers'),layout=layout)\n",
    "fig.update()\n",
    "fig.show()\n",
    "\n",
    "\n",
    "# create decomposition\n",
    "\n",
    "# instantiate containers\n",
    "analysis_dict = {}\n",
    "analysis_df_full = pd.DataFrame.empty\n",
    "\n",
    "# decompose\n",
    "decomposition = tsa.seasonal_decompose(increment_3_df, model='additive')\n",
    "\n",
    "# decomposition to dict\n",
    "analysis_dict={'trend':dict(decomposition.trend),'seasonal':dict(decomposition.seasonal),'residual':dict(decomposition.resid)}\n",
    "\n",
    "# dict to df\n",
    "analysis_df_full = pd.DataFrame(analysis_dict)\n",
    "\n",
    "# display decomposed data\n",
    "fig = make_subplots(rows=3, cols=1)\n",
    "fig.append_trace(go.Scatter(\n",
    "    name = 'Trend',\n",
    "    x = list(analysis_df_full.index),\n",
    "    y = list(analysis_df_full['trend']),\n",
    "), row=1, col=1)\n",
    "fig.append_trace(go.Scatter(\n",
    "    name = 'Seasonal',\n",
    "    x = list(analysis_df_full.index),\n",
    "    y = list(analysis_df_full['seasonal']),\n",
    "), row=2, col=1)\n",
    "fig.append_trace(go.Scatter(\n",
    "    name = 'Residuals',\n",
    "    x = list(analysis_df_full.index),\n",
    "    y = list(analysis_df_full['residual']),\n",
    "), row=3, col=1)\n",
    "fig.update_layout(height=600, width=800, title_text=f\"Prescription Stacked Subplots\")\n",
    "fig.show()"
   ]
  },
  {
   "cell_type": "code",
   "execution_count": 51,
   "metadata": {},
   "outputs": [
    {
     "data": {
      "application/vnd.plotly.v1+json": {
       "config": {
        "plotlyServerURL": "https://plot.ly"
       },
       "data": [
        {
         "mode": "markers",
         "type": "scatter",
         "x": [
          "1992-03-31T00:00:00",
          "1992-06-30T00:00:00",
          "1992-09-30T00:00:00",
          "1992-12-31T00:00:00",
          "1993-03-31T00:00:00",
          "1993-06-30T00:00:00",
          "1993-09-30T00:00:00",
          "1993-12-31T00:00:00",
          "1994-03-31T00:00:00",
          "1994-06-30T00:00:00",
          "1994-09-30T00:00:00",
          "1994-12-31T00:00:00",
          "1995-03-31T00:00:00",
          "1995-06-30T00:00:00",
          "1995-09-30T00:00:00",
          "1995-12-31T00:00:00",
          "1996-03-31T00:00:00",
          "1996-06-30T00:00:00",
          "1996-09-30T00:00:00",
          "1996-12-31T00:00:00",
          "1997-03-31T00:00:00",
          "1997-06-30T00:00:00",
          "1997-09-30T00:00:00",
          "1997-12-31T00:00:00",
          "1998-03-31T00:00:00",
          "1998-06-30T00:00:00",
          "1998-09-30T00:00:00",
          "1998-12-31T00:00:00",
          "1999-03-31T00:00:00",
          "1999-06-30T00:00:00",
          "1999-09-30T00:00:00",
          "1999-12-31T00:00:00",
          "2000-03-31T00:00:00",
          "2000-06-30T00:00:00",
          "2000-09-30T00:00:00",
          "2000-12-31T00:00:00",
          "2001-03-31T00:00:00",
          "2001-06-30T00:00:00",
          "2001-09-30T00:00:00",
          "2001-12-31T00:00:00",
          "2002-03-31T00:00:00",
          "2002-06-30T00:00:00",
          "2002-09-30T00:00:00",
          "2002-12-31T00:00:00",
          "2003-03-31T00:00:00",
          "2003-06-30T00:00:00",
          "2003-09-30T00:00:00",
          "2003-12-31T00:00:00",
          "2004-03-31T00:00:00",
          "2004-06-30T00:00:00",
          "2004-09-30T00:00:00",
          "2004-12-31T00:00:00",
          "2005-03-31T00:00:00",
          "2005-06-30T00:00:00",
          "2005-09-30T00:00:00",
          "2005-12-31T00:00:00",
          "2006-03-31T00:00:00",
          "2006-06-30T00:00:00",
          "2006-09-30T00:00:00",
          "2006-12-31T00:00:00",
          "2007-03-31T00:00:00",
          "2007-06-30T00:00:00",
          "2007-09-30T00:00:00",
          "2007-12-31T00:00:00",
          "2008-03-31T00:00:00",
          "2008-06-30T00:00:00",
          "2008-09-30T00:00:00",
          "2008-12-31T00:00:00",
          "2009-03-31T00:00:00",
          "2009-06-30T00:00:00",
          "2009-09-30T00:00:00",
          "2009-12-31T00:00:00",
          "2010-03-31T00:00:00",
          "2010-06-30T00:00:00",
          "2010-09-30T00:00:00",
          "2010-12-31T00:00:00",
          "2011-03-31T00:00:00",
          "2011-06-30T00:00:00",
          "2011-09-30T00:00:00",
          "2011-12-31T00:00:00",
          "2012-03-31T00:00:00",
          "2012-06-30T00:00:00",
          "2012-09-30T00:00:00",
          "2012-12-31T00:00:00",
          "2013-03-31T00:00:00",
          "2013-06-30T00:00:00",
          "2013-09-30T00:00:00",
          "2013-12-31T00:00:00",
          "2014-03-31T00:00:00",
          "2014-06-30T00:00:00",
          "2014-09-30T00:00:00",
          "2014-12-31T00:00:00",
          "2015-03-31T00:00:00",
          "2015-06-30T00:00:00",
          "2015-09-30T00:00:00",
          "2015-12-31T00:00:00",
          "2016-03-31T00:00:00",
          "2016-06-30T00:00:00",
          "2016-09-30T00:00:00",
          "2016-12-31T00:00:00",
          "2017-03-31T00:00:00",
          "2017-06-30T00:00:00",
          "2017-09-30T00:00:00",
          "2017-12-31T00:00:00",
          "2018-03-31T00:00:00",
          "2018-06-30T00:00:00",
          "2018-09-30T00:00:00",
          "2018-12-31T00:00:00",
          "2019-03-31T00:00:00",
          "2019-06-30T00:00:00",
          "2019-09-30T00:00:00",
          "2019-12-31T00:00:00",
          "2020-03-31T00:00:00",
          "2020-06-30T00:00:00",
          "2020-09-30T00:00:00",
          "2020-12-31T00:00:00",
          "2021-03-31T00:00:00",
          "2021-06-30T00:00:00",
          "2021-09-30T00:00:00",
          "2021-12-31T00:00:00",
          "2022-03-31T00:00:00"
         ],
         "y": [
          15206178,
          2288895,
          -7562389,
          8953907,
          19386875,
          1821079,
          -4227108,
          3741304,
          5283766,
          -4385063,
          -14939220,
          -1710305,
          634465,
          -126524,
          37311773,
          33086018,
          160161,
          -8405774,
          -10561076,
          556094,
          -73640,
          -6220240,
          -6541436,
          -1250653,
          13817357,
          12123209,
          -5197911,
          2456956,
          9575673,
          -3295278,
          -10424379,
          5988921,
          5952499,
          -4378355,
          5537534,
          28271571,
          15591426,
          -10028932,
          -5896234,
          1009880,
          4053124,
          1992641,
          5505612,
          8160063,
          5792687,
          3613712,
          220221553,
          30137193,
          -139643420,
          184645084,
          48041937,
          -30218856,
          210089585,
          -92010208,
          -317605371,
          96857884,
          -70756058,
          -246910157,
          -15616805,
          -3388863,
          11483413,
          19672,
          -6089500,
          -3116976,
          5205368,
          12120309,
          -5181016,
          -3626406,
          7941503,
          17062584,
          3194816,
          -9457469,
          13169896,
          44785123,
          41827845,
          18235143,
          15340063,
          2510183,
          -23041304,
          -4115649,
          20491069,
          1980949,
          2324896,
          -346959,
          -4177141,
          -5317142,
          -11919071,
          -3641970,
          5692793,
          18359390,
          18973069,
          8838560,
          4066801,
          6414109,
          7047369,
          4782661,
          17749800,
          1885695,
          -12824060,
          15615743,
          16898332,
          2010582,
          -13385401,
          -5258312,
          29824755,
          13849850,
          -15107891,
          -4579407,
          13614836,
          -955766,
          -8189903,
          2830979,
          5878426,
          -32515466,
          -9583042,
          35982284,
          16412695,
          15298988,
          16320293,
          10444421,
          -2503402
         ]
        }
       ],
       "layout": {
        "template": {
         "data": {
          "bar": [
           {
            "error_x": {
             "color": "#2a3f5f"
            },
            "error_y": {
             "color": "#2a3f5f"
            },
            "marker": {
             "line": {
              "color": "#E5ECF6",
              "width": 0.5
             },
             "pattern": {
              "fillmode": "overlay",
              "size": 10,
              "solidity": 0.2
             }
            },
            "type": "bar"
           }
          ],
          "barpolar": [
           {
            "marker": {
             "line": {
              "color": "#E5ECF6",
              "width": 0.5
             },
             "pattern": {
              "fillmode": "overlay",
              "size": 10,
              "solidity": 0.2
             }
            },
            "type": "barpolar"
           }
          ],
          "carpet": [
           {
            "aaxis": {
             "endlinecolor": "#2a3f5f",
             "gridcolor": "white",
             "linecolor": "white",
             "minorgridcolor": "white",
             "startlinecolor": "#2a3f5f"
            },
            "baxis": {
             "endlinecolor": "#2a3f5f",
             "gridcolor": "white",
             "linecolor": "white",
             "minorgridcolor": "white",
             "startlinecolor": "#2a3f5f"
            },
            "type": "carpet"
           }
          ],
          "choropleth": [
           {
            "colorbar": {
             "outlinewidth": 0,
             "ticks": ""
            },
            "type": "choropleth"
           }
          ],
          "contour": [
           {
            "colorbar": {
             "outlinewidth": 0,
             "ticks": ""
            },
            "colorscale": [
             [
              0,
              "#0d0887"
             ],
             [
              0.1111111111111111,
              "#46039f"
             ],
             [
              0.2222222222222222,
              "#7201a8"
             ],
             [
              0.3333333333333333,
              "#9c179e"
             ],
             [
              0.4444444444444444,
              "#bd3786"
             ],
             [
              0.5555555555555556,
              "#d8576b"
             ],
             [
              0.6666666666666666,
              "#ed7953"
             ],
             [
              0.7777777777777778,
              "#fb9f3a"
             ],
             [
              0.8888888888888888,
              "#fdca26"
             ],
             [
              1,
              "#f0f921"
             ]
            ],
            "type": "contour"
           }
          ],
          "contourcarpet": [
           {
            "colorbar": {
             "outlinewidth": 0,
             "ticks": ""
            },
            "type": "contourcarpet"
           }
          ],
          "heatmap": [
           {
            "colorbar": {
             "outlinewidth": 0,
             "ticks": ""
            },
            "colorscale": [
             [
              0,
              "#0d0887"
             ],
             [
              0.1111111111111111,
              "#46039f"
             ],
             [
              0.2222222222222222,
              "#7201a8"
             ],
             [
              0.3333333333333333,
              "#9c179e"
             ],
             [
              0.4444444444444444,
              "#bd3786"
             ],
             [
              0.5555555555555556,
              "#d8576b"
             ],
             [
              0.6666666666666666,
              "#ed7953"
             ],
             [
              0.7777777777777778,
              "#fb9f3a"
             ],
             [
              0.8888888888888888,
              "#fdca26"
             ],
             [
              1,
              "#f0f921"
             ]
            ],
            "type": "heatmap"
           }
          ],
          "heatmapgl": [
           {
            "colorbar": {
             "outlinewidth": 0,
             "ticks": ""
            },
            "colorscale": [
             [
              0,
              "#0d0887"
             ],
             [
              0.1111111111111111,
              "#46039f"
             ],
             [
              0.2222222222222222,
              "#7201a8"
             ],
             [
              0.3333333333333333,
              "#9c179e"
             ],
             [
              0.4444444444444444,
              "#bd3786"
             ],
             [
              0.5555555555555556,
              "#d8576b"
             ],
             [
              0.6666666666666666,
              "#ed7953"
             ],
             [
              0.7777777777777778,
              "#fb9f3a"
             ],
             [
              0.8888888888888888,
              "#fdca26"
             ],
             [
              1,
              "#f0f921"
             ]
            ],
            "type": "heatmapgl"
           }
          ],
          "histogram": [
           {
            "marker": {
             "pattern": {
              "fillmode": "overlay",
              "size": 10,
              "solidity": 0.2
             }
            },
            "type": "histogram"
           }
          ],
          "histogram2d": [
           {
            "colorbar": {
             "outlinewidth": 0,
             "ticks": ""
            },
            "colorscale": [
             [
              0,
              "#0d0887"
             ],
             [
              0.1111111111111111,
              "#46039f"
             ],
             [
              0.2222222222222222,
              "#7201a8"
             ],
             [
              0.3333333333333333,
              "#9c179e"
             ],
             [
              0.4444444444444444,
              "#bd3786"
             ],
             [
              0.5555555555555556,
              "#d8576b"
             ],
             [
              0.6666666666666666,
              "#ed7953"
             ],
             [
              0.7777777777777778,
              "#fb9f3a"
             ],
             [
              0.8888888888888888,
              "#fdca26"
             ],
             [
              1,
              "#f0f921"
             ]
            ],
            "type": "histogram2d"
           }
          ],
          "histogram2dcontour": [
           {
            "colorbar": {
             "outlinewidth": 0,
             "ticks": ""
            },
            "colorscale": [
             [
              0,
              "#0d0887"
             ],
             [
              0.1111111111111111,
              "#46039f"
             ],
             [
              0.2222222222222222,
              "#7201a8"
             ],
             [
              0.3333333333333333,
              "#9c179e"
             ],
             [
              0.4444444444444444,
              "#bd3786"
             ],
             [
              0.5555555555555556,
              "#d8576b"
             ],
             [
              0.6666666666666666,
              "#ed7953"
             ],
             [
              0.7777777777777778,
              "#fb9f3a"
             ],
             [
              0.8888888888888888,
              "#fdca26"
             ],
             [
              1,
              "#f0f921"
             ]
            ],
            "type": "histogram2dcontour"
           }
          ],
          "mesh3d": [
           {
            "colorbar": {
             "outlinewidth": 0,
             "ticks": ""
            },
            "type": "mesh3d"
           }
          ],
          "parcoords": [
           {
            "line": {
             "colorbar": {
              "outlinewidth": 0,
              "ticks": ""
             }
            },
            "type": "parcoords"
           }
          ],
          "pie": [
           {
            "automargin": true,
            "type": "pie"
           }
          ],
          "scatter": [
           {
            "fillpattern": {
             "fillmode": "overlay",
             "size": 10,
             "solidity": 0.2
            },
            "type": "scatter"
           }
          ],
          "scatter3d": [
           {
            "line": {
             "colorbar": {
              "outlinewidth": 0,
              "ticks": ""
             }
            },
            "marker": {
             "colorbar": {
              "outlinewidth": 0,
              "ticks": ""
             }
            },
            "type": "scatter3d"
           }
          ],
          "scattercarpet": [
           {
            "marker": {
             "colorbar": {
              "outlinewidth": 0,
              "ticks": ""
             }
            },
            "type": "scattercarpet"
           }
          ],
          "scattergeo": [
           {
            "marker": {
             "colorbar": {
              "outlinewidth": 0,
              "ticks": ""
             }
            },
            "type": "scattergeo"
           }
          ],
          "scattergl": [
           {
            "marker": {
             "colorbar": {
              "outlinewidth": 0,
              "ticks": ""
             }
            },
            "type": "scattergl"
           }
          ],
          "scattermapbox": [
           {
            "marker": {
             "colorbar": {
              "outlinewidth": 0,
              "ticks": ""
             }
            },
            "type": "scattermapbox"
           }
          ],
          "scatterpolar": [
           {
            "marker": {
             "colorbar": {
              "outlinewidth": 0,
              "ticks": ""
             }
            },
            "type": "scatterpolar"
           }
          ],
          "scatterpolargl": [
           {
            "marker": {
             "colorbar": {
              "outlinewidth": 0,
              "ticks": ""
             }
            },
            "type": "scatterpolargl"
           }
          ],
          "scatterternary": [
           {
            "marker": {
             "colorbar": {
              "outlinewidth": 0,
              "ticks": ""
             }
            },
            "type": "scatterternary"
           }
          ],
          "surface": [
           {
            "colorbar": {
             "outlinewidth": 0,
             "ticks": ""
            },
            "colorscale": [
             [
              0,
              "#0d0887"
             ],
             [
              0.1111111111111111,
              "#46039f"
             ],
             [
              0.2222222222222222,
              "#7201a8"
             ],
             [
              0.3333333333333333,
              "#9c179e"
             ],
             [
              0.4444444444444444,
              "#bd3786"
             ],
             [
              0.5555555555555556,
              "#d8576b"
             ],
             [
              0.6666666666666666,
              "#ed7953"
             ],
             [
              0.7777777777777778,
              "#fb9f3a"
             ],
             [
              0.8888888888888888,
              "#fdca26"
             ],
             [
              1,
              "#f0f921"
             ]
            ],
            "type": "surface"
           }
          ],
          "table": [
           {
            "cells": {
             "fill": {
              "color": "#EBF0F8"
             },
             "line": {
              "color": "white"
             }
            },
            "header": {
             "fill": {
              "color": "#C8D4E3"
             },
             "line": {
              "color": "white"
             }
            },
            "type": "table"
           }
          ]
         },
         "layout": {
          "annotationdefaults": {
           "arrowcolor": "#2a3f5f",
           "arrowhead": 0,
           "arrowwidth": 1
          },
          "autotypenumbers": "strict",
          "coloraxis": {
           "colorbar": {
            "outlinewidth": 0,
            "ticks": ""
           }
          },
          "colorscale": {
           "diverging": [
            [
             0,
             "#8e0152"
            ],
            [
             0.1,
             "#c51b7d"
            ],
            [
             0.2,
             "#de77ae"
            ],
            [
             0.3,
             "#f1b6da"
            ],
            [
             0.4,
             "#fde0ef"
            ],
            [
             0.5,
             "#f7f7f7"
            ],
            [
             0.6,
             "#e6f5d0"
            ],
            [
             0.7,
             "#b8e186"
            ],
            [
             0.8,
             "#7fbc41"
            ],
            [
             0.9,
             "#4d9221"
            ],
            [
             1,
             "#276419"
            ]
           ],
           "sequential": [
            [
             0,
             "#0d0887"
            ],
            [
             0.1111111111111111,
             "#46039f"
            ],
            [
             0.2222222222222222,
             "#7201a8"
            ],
            [
             0.3333333333333333,
             "#9c179e"
            ],
            [
             0.4444444444444444,
             "#bd3786"
            ],
            [
             0.5555555555555556,
             "#d8576b"
            ],
            [
             0.6666666666666666,
             "#ed7953"
            ],
            [
             0.7777777777777778,
             "#fb9f3a"
            ],
            [
             0.8888888888888888,
             "#fdca26"
            ],
            [
             1,
             "#f0f921"
            ]
           ],
           "sequentialminus": [
            [
             0,
             "#0d0887"
            ],
            [
             0.1111111111111111,
             "#46039f"
            ],
            [
             0.2222222222222222,
             "#7201a8"
            ],
            [
             0.3333333333333333,
             "#9c179e"
            ],
            [
             0.4444444444444444,
             "#bd3786"
            ],
            [
             0.5555555555555556,
             "#d8576b"
            ],
            [
             0.6666666666666666,
             "#ed7953"
            ],
            [
             0.7777777777777778,
             "#fb9f3a"
            ],
            [
             0.8888888888888888,
             "#fdca26"
            ],
            [
             1,
             "#f0f921"
            ]
           ]
          },
          "colorway": [
           "#636efa",
           "#EF553B",
           "#00cc96",
           "#ab63fa",
           "#FFA15A",
           "#19d3f3",
           "#FF6692",
           "#B6E880",
           "#FF97FF",
           "#FECB52"
          ],
          "font": {
           "color": "#2a3f5f"
          },
          "geo": {
           "bgcolor": "white",
           "lakecolor": "white",
           "landcolor": "#E5ECF6",
           "showlakes": true,
           "showland": true,
           "subunitcolor": "white"
          },
          "hoverlabel": {
           "align": "left"
          },
          "hovermode": "closest",
          "mapbox": {
           "style": "light"
          },
          "paper_bgcolor": "white",
          "plot_bgcolor": "#E5ECF6",
          "polar": {
           "angularaxis": {
            "gridcolor": "white",
            "linecolor": "white",
            "ticks": ""
           },
           "bgcolor": "#E5ECF6",
           "radialaxis": {
            "gridcolor": "white",
            "linecolor": "white",
            "ticks": ""
           }
          },
          "scene": {
           "xaxis": {
            "backgroundcolor": "#E5ECF6",
            "gridcolor": "white",
            "gridwidth": 2,
            "linecolor": "white",
            "showbackground": true,
            "ticks": "",
            "zerolinecolor": "white"
           },
           "yaxis": {
            "backgroundcolor": "#E5ECF6",
            "gridcolor": "white",
            "gridwidth": 2,
            "linecolor": "white",
            "showbackground": true,
            "ticks": "",
            "zerolinecolor": "white"
           },
           "zaxis": {
            "backgroundcolor": "#E5ECF6",
            "gridcolor": "white",
            "gridwidth": 2,
            "linecolor": "white",
            "showbackground": true,
            "ticks": "",
            "zerolinecolor": "white"
           }
          },
          "shapedefaults": {
           "line": {
            "color": "#2a3f5f"
           }
          },
          "ternary": {
           "aaxis": {
            "gridcolor": "white",
            "linecolor": "white",
            "ticks": ""
           },
           "baxis": {
            "gridcolor": "white",
            "linecolor": "white",
            "ticks": ""
           },
           "bgcolor": "#E5ECF6",
           "caxis": {
            "gridcolor": "white",
            "linecolor": "white",
            "ticks": ""
           }
          },
          "title": {
           "x": 0.05
          },
          "xaxis": {
           "automargin": true,
           "gridcolor": "white",
           "linecolor": "white",
           "ticks": "",
           "title": {
            "standoff": 15
           },
           "zerolinecolor": "white",
           "zerolinewidth": 2
          },
          "yaxis": {
           "automargin": true,
           "gridcolor": "white",
           "linecolor": "white",
           "ticks": "",
           "title": {
            "standoff": 15
           },
           "zerolinecolor": "white",
           "zerolinewidth": 2
          }
         }
        },
        "title": {
         "text": "Prescriptions Reimbursed Annually, 1991-2022"
        },
        "xaxis": {
         "title": {
          "text": "Year"
         }
        },
        "yaxis": {
         "title": {
          "text": "Prescriptions"
         }
        }
       }
      }
     },
     "metadata": {},
     "output_type": "display_data"
    },
    {
     "data": {
      "application/vnd.plotly.v1+json": {
       "config": {
        "plotlyServerURL": "https://plot.ly"
       },
       "data": [
        {
         "name": "Trend",
         "type": "scatter",
         "x": [
          "1992-03-31T00:00:00",
          "1992-06-30T00:00:00",
          "1992-09-30T00:00:00",
          "1992-12-31T00:00:00",
          "1993-03-31T00:00:00",
          "1993-06-30T00:00:00",
          "1993-09-30T00:00:00",
          "1993-12-31T00:00:00",
          "1994-03-31T00:00:00",
          "1994-06-30T00:00:00",
          "1994-09-30T00:00:00",
          "1994-12-31T00:00:00",
          "1995-03-31T00:00:00",
          "1995-06-30T00:00:00",
          "1995-09-30T00:00:00",
          "1995-12-31T00:00:00",
          "1996-03-31T00:00:00",
          "1996-06-30T00:00:00",
          "1996-09-30T00:00:00",
          "1996-12-31T00:00:00",
          "1997-03-31T00:00:00",
          "1997-06-30T00:00:00",
          "1997-09-30T00:00:00",
          "1997-12-31T00:00:00",
          "1998-03-31T00:00:00",
          "1998-06-30T00:00:00",
          "1998-09-30T00:00:00",
          "1998-12-31T00:00:00",
          "1999-03-31T00:00:00",
          "1999-06-30T00:00:00",
          "1999-09-30T00:00:00",
          "1999-12-31T00:00:00",
          "2000-03-31T00:00:00",
          "2000-06-30T00:00:00",
          "2000-09-30T00:00:00",
          "2000-12-31T00:00:00",
          "2001-03-31T00:00:00",
          "2001-06-30T00:00:00",
          "2001-09-30T00:00:00",
          "2001-12-31T00:00:00",
          "2002-03-31T00:00:00",
          "2002-06-30T00:00:00",
          "2002-09-30T00:00:00",
          "2002-12-31T00:00:00",
          "2003-03-31T00:00:00",
          "2003-06-30T00:00:00",
          "2003-09-30T00:00:00",
          "2003-12-31T00:00:00",
          "2004-03-31T00:00:00",
          "2004-06-30T00:00:00",
          "2004-09-30T00:00:00",
          "2004-12-31T00:00:00",
          "2005-03-31T00:00:00",
          "2005-06-30T00:00:00",
          "2005-09-30T00:00:00",
          "2005-12-31T00:00:00",
          "2006-03-31T00:00:00",
          "2006-06-30T00:00:00",
          "2006-09-30T00:00:00",
          "2006-12-31T00:00:00",
          "2007-03-31T00:00:00",
          "2007-06-30T00:00:00",
          "2007-09-30T00:00:00",
          "2007-12-31T00:00:00",
          "2008-03-31T00:00:00",
          "2008-06-30T00:00:00",
          "2008-09-30T00:00:00",
          "2008-12-31T00:00:00",
          "2009-03-31T00:00:00",
          "2009-06-30T00:00:00",
          "2009-09-30T00:00:00",
          "2009-12-31T00:00:00",
          "2010-03-31T00:00:00",
          "2010-06-30T00:00:00",
          "2010-09-30T00:00:00",
          "2010-12-31T00:00:00",
          "2011-03-31T00:00:00",
          "2011-06-30T00:00:00",
          "2011-09-30T00:00:00",
          "2011-12-31T00:00:00",
          "2012-03-31T00:00:00",
          "2012-06-30T00:00:00",
          "2012-09-30T00:00:00",
          "2012-12-31T00:00:00",
          "2013-03-31T00:00:00",
          "2013-06-30T00:00:00",
          "2013-09-30T00:00:00",
          "2013-12-31T00:00:00",
          "2014-03-31T00:00:00",
          "2014-06-30T00:00:00",
          "2014-09-30T00:00:00",
          "2014-12-31T00:00:00",
          "2015-03-31T00:00:00",
          "2015-06-30T00:00:00",
          "2015-09-30T00:00:00",
          "2015-12-31T00:00:00",
          "2016-03-31T00:00:00",
          "2016-06-30T00:00:00",
          "2016-09-30T00:00:00",
          "2016-12-31T00:00:00",
          "2017-03-31T00:00:00",
          "2017-06-30T00:00:00",
          "2017-09-30T00:00:00",
          "2017-12-31T00:00:00",
          "2018-03-31T00:00:00",
          "2018-06-30T00:00:00",
          "2018-09-30T00:00:00",
          "2018-12-31T00:00:00",
          "2019-03-31T00:00:00",
          "2019-06-30T00:00:00",
          "2019-09-30T00:00:00",
          "2019-12-31T00:00:00",
          "2020-03-31T00:00:00",
          "2020-06-30T00:00:00",
          "2020-09-30T00:00:00",
          "2020-12-31T00:00:00",
          "2021-03-31T00:00:00",
          "2021-06-30T00:00:00",
          "2021-09-30T00:00:00",
          "2021-12-31T00:00:00",
          "2022-03-31T00:00:00"
         ],
         "xaxis": "x",
         "y": [
          null,
          null,
          5244234.875,
          5708345,
          6066778.125,
          5832112.875,
          3417648.875,
          878992.5,
          -1235789.25,
          -3256254.375,
          -4518868.125,
          -4567713.375,
          2495978.125,
          13376892.625,
          17667145,
          16572950.75,
          9553938.375,
          -496408.25,
          -4591873.875,
          -4347907.25,
          -3572260.5,
          -3295648.875,
          -1785117.625,
          2244188.125,
          4705059.875,
          5336451.625,
          5269692.25,
          2812170.875,
          231551.5,
          19738.625,
          8337.5,
          -579943.875,
          1279910.625,
          6060481,
          10050678.125,
          10549221.875,
          8413678.75,
          3576746.375,
          -1273252.75,
          -1212843.875,
          1715083.5,
          4034087.125,
          5145305.375,
          5565384.625,
          32607511.125,
          62194145,
          46761772.875,
          51211181,
          52317650.5,
          23250692.375,
          59422811.875,
          68557526,
          -11730299,
          -41551620,
          -60772732.875,
          -115240931.875,
          -96854854.75,
          -71637127.375,
          -73888036.875,
          -32741874.375,
          -684732.625,
          540166.375,
          -210603.375,
          517220.625,
          2143360.75,
          2193242.5,
          2471580.625,
          3431381.875,
          5096145.25,
          5414241.375,
          5338907.625,
          9457774.125,
          17752220.125,
          26042925.25,
          29775772.625,
          24762676,
          11369664.875,
          467172.25,
          -1682801,
          -1105079.5,
          1999541.25,
          5641402.5,
          3028962.5,
          -966825.125,
          -3659582.375,
          -5851954.625,
          -5030089.25,
          -836781,
          5984303,
          11405886.75,
          12762704,
          11066294.875,
          8082422.25,
          6084722.375,
          7288109.875,
          8432433,
          5382452.625,
          4252659.25,
          5500361,
          5409538.375,
          5354981.625,
          2675557.125,
          1682103.125,
          4777814.5,
          6042411.75,
          5911963.625,
          3970586.875,
          93645,
          -892308.5,
          898738.25,
          857985.25,
          -4054028.5,
          -8173133.375,
          -4203362.625,
          1257334.125,
          8550924.5,
          17765648.125,
          17811332.125,
          12254587.125,
          null,
          null
         ],
         "yaxis": "y"
        },
        {
         "name": "Seasonal",
         "type": "scatter",
         "x": [
          "1992-03-31T00:00:00",
          "1992-06-30T00:00:00",
          "1992-09-30T00:00:00",
          "1992-12-31T00:00:00",
          "1993-03-31T00:00:00",
          "1993-06-30T00:00:00",
          "1993-09-30T00:00:00",
          "1993-12-31T00:00:00",
          "1994-03-31T00:00:00",
          "1994-06-30T00:00:00",
          "1994-09-30T00:00:00",
          "1994-12-31T00:00:00",
          "1995-03-31T00:00:00",
          "1995-06-30T00:00:00",
          "1995-09-30T00:00:00",
          "1995-12-31T00:00:00",
          "1996-03-31T00:00:00",
          "1996-06-30T00:00:00",
          "1996-09-30T00:00:00",
          "1996-12-31T00:00:00",
          "1997-03-31T00:00:00",
          "1997-06-30T00:00:00",
          "1997-09-30T00:00:00",
          "1997-12-31T00:00:00",
          "1998-03-31T00:00:00",
          "1998-06-30T00:00:00",
          "1998-09-30T00:00:00",
          "1998-12-31T00:00:00",
          "1999-03-31T00:00:00",
          "1999-06-30T00:00:00",
          "1999-09-30T00:00:00",
          "1999-12-31T00:00:00",
          "2000-03-31T00:00:00",
          "2000-06-30T00:00:00",
          "2000-09-30T00:00:00",
          "2000-12-31T00:00:00",
          "2001-03-31T00:00:00",
          "2001-06-30T00:00:00",
          "2001-09-30T00:00:00",
          "2001-12-31T00:00:00",
          "2002-03-31T00:00:00",
          "2002-06-30T00:00:00",
          "2002-09-30T00:00:00",
          "2002-12-31T00:00:00",
          "2003-03-31T00:00:00",
          "2003-06-30T00:00:00",
          "2003-09-30T00:00:00",
          "2003-12-31T00:00:00",
          "2004-03-31T00:00:00",
          "2004-06-30T00:00:00",
          "2004-09-30T00:00:00",
          "2004-12-31T00:00:00",
          "2005-03-31T00:00:00",
          "2005-06-30T00:00:00",
          "2005-09-30T00:00:00",
          "2005-12-31T00:00:00",
          "2006-03-31T00:00:00",
          "2006-06-30T00:00:00",
          "2006-09-30T00:00:00",
          "2006-12-31T00:00:00",
          "2007-03-31T00:00:00",
          "2007-06-30T00:00:00",
          "2007-09-30T00:00:00",
          "2007-12-31T00:00:00",
          "2008-03-31T00:00:00",
          "2008-06-30T00:00:00",
          "2008-09-30T00:00:00",
          "2008-12-31T00:00:00",
          "2009-03-31T00:00:00",
          "2009-06-30T00:00:00",
          "2009-09-30T00:00:00",
          "2009-12-31T00:00:00",
          "2010-03-31T00:00:00",
          "2010-06-30T00:00:00",
          "2010-09-30T00:00:00",
          "2010-12-31T00:00:00",
          "2011-03-31T00:00:00",
          "2011-06-30T00:00:00",
          "2011-09-30T00:00:00",
          "2011-12-31T00:00:00",
          "2012-03-31T00:00:00",
          "2012-06-30T00:00:00",
          "2012-09-30T00:00:00",
          "2012-12-31T00:00:00",
          "2013-03-31T00:00:00",
          "2013-06-30T00:00:00",
          "2013-09-30T00:00:00",
          "2013-12-31T00:00:00",
          "2014-03-31T00:00:00",
          "2014-06-30T00:00:00",
          "2014-09-30T00:00:00",
          "2014-12-31T00:00:00",
          "2015-03-31T00:00:00",
          "2015-06-30T00:00:00",
          "2015-09-30T00:00:00",
          "2015-12-31T00:00:00",
          "2016-03-31T00:00:00",
          "2016-06-30T00:00:00",
          "2016-09-30T00:00:00",
          "2016-12-31T00:00:00",
          "2017-03-31T00:00:00",
          "2017-06-30T00:00:00",
          "2017-09-30T00:00:00",
          "2017-12-31T00:00:00",
          "2018-03-31T00:00:00",
          "2018-06-30T00:00:00",
          "2018-09-30T00:00:00",
          "2018-12-31T00:00:00",
          "2019-03-31T00:00:00",
          "2019-06-30T00:00:00",
          "2019-09-30T00:00:00",
          "2019-12-31T00:00:00",
          "2020-03-31T00:00:00",
          "2020-06-30T00:00:00",
          "2020-09-30T00:00:00",
          "2020-12-31T00:00:00",
          "2021-03-31T00:00:00",
          "2021-06-30T00:00:00",
          "2021-09-30T00:00:00",
          "2021-12-31T00:00:00",
          "2022-03-31T00:00:00"
         ],
         "xaxis": "x2",
         "y": [
          6151256.908908046,
          -5458553.591091954,
          -6152505.877586206,
          5459802.559770115,
          6151256.908908046,
          -5458553.591091954,
          -6152505.877586206,
          5459802.559770115,
          6151256.908908046,
          -5458553.591091954,
          -6152505.877586206,
          5459802.559770115,
          6151256.908908046,
          -5458553.591091954,
          -6152505.877586206,
          5459802.559770115,
          6151256.908908046,
          -5458553.591091954,
          -6152505.877586206,
          5459802.559770115,
          6151256.908908046,
          -5458553.591091954,
          -6152505.877586206,
          5459802.559770115,
          6151256.908908046,
          -5458553.591091954,
          -6152505.877586206,
          5459802.559770115,
          6151256.908908046,
          -5458553.591091954,
          -6152505.877586206,
          5459802.559770115,
          6151256.908908046,
          -5458553.591091954,
          -6152505.877586206,
          5459802.559770115,
          6151256.908908046,
          -5458553.591091954,
          -6152505.877586206,
          5459802.559770115,
          6151256.908908046,
          -5458553.591091954,
          -6152505.877586206,
          5459802.559770115,
          6151256.908908046,
          -5458553.591091954,
          -6152505.877586206,
          5459802.559770115,
          6151256.908908046,
          -5458553.591091954,
          -6152505.877586206,
          5459802.559770115,
          6151256.908908046,
          -5458553.591091954,
          -6152505.877586206,
          5459802.559770115,
          6151256.908908046,
          -5458553.591091954,
          -6152505.877586206,
          5459802.559770115,
          6151256.908908046,
          -5458553.591091954,
          -6152505.877586206,
          5459802.559770115,
          6151256.908908046,
          -5458553.591091954,
          -6152505.877586206,
          5459802.559770115,
          6151256.908908046,
          -5458553.591091954,
          -6152505.877586206,
          5459802.559770115,
          6151256.908908046,
          -5458553.591091954,
          -6152505.877586206,
          5459802.559770115,
          6151256.908908046,
          -5458553.591091954,
          -6152505.877586206,
          5459802.559770115,
          6151256.908908046,
          -5458553.591091954,
          -6152505.877586206,
          5459802.559770115,
          6151256.908908046,
          -5458553.591091954,
          -6152505.877586206,
          5459802.559770115,
          6151256.908908046,
          -5458553.591091954,
          -6152505.877586206,
          5459802.559770115,
          6151256.908908046,
          -5458553.591091954,
          -6152505.877586206,
          5459802.559770115,
          6151256.908908046,
          -5458553.591091954,
          -6152505.877586206,
          5459802.559770115,
          6151256.908908046,
          -5458553.591091954,
          -6152505.877586206,
          5459802.559770115,
          6151256.908908046,
          -5458553.591091954,
          -6152505.877586206,
          5459802.559770115,
          6151256.908908046,
          -5458553.591091954,
          -6152505.877586206,
          5459802.559770115,
          6151256.908908046,
          -5458553.591091954,
          -6152505.877586206,
          5459802.559770115,
          6151256.908908046,
          -5458553.591091954,
          -6152505.877586206,
          5459802.559770115,
          6151256.908908046
         ],
         "yaxis": "y2"
        },
        {
         "name": "Residuals",
         "type": "scatter",
         "x": [
          "1992-03-31T00:00:00",
          "1992-06-30T00:00:00",
          "1992-09-30T00:00:00",
          "1992-12-31T00:00:00",
          "1993-03-31T00:00:00",
          "1993-06-30T00:00:00",
          "1993-09-30T00:00:00",
          "1993-12-31T00:00:00",
          "1994-03-31T00:00:00",
          "1994-06-30T00:00:00",
          "1994-09-30T00:00:00",
          "1994-12-31T00:00:00",
          "1995-03-31T00:00:00",
          "1995-06-30T00:00:00",
          "1995-09-30T00:00:00",
          "1995-12-31T00:00:00",
          "1996-03-31T00:00:00",
          "1996-06-30T00:00:00",
          "1996-09-30T00:00:00",
          "1996-12-31T00:00:00",
          "1997-03-31T00:00:00",
          "1997-06-30T00:00:00",
          "1997-09-30T00:00:00",
          "1997-12-31T00:00:00",
          "1998-03-31T00:00:00",
          "1998-06-30T00:00:00",
          "1998-09-30T00:00:00",
          "1998-12-31T00:00:00",
          "1999-03-31T00:00:00",
          "1999-06-30T00:00:00",
          "1999-09-30T00:00:00",
          "1999-12-31T00:00:00",
          "2000-03-31T00:00:00",
          "2000-06-30T00:00:00",
          "2000-09-30T00:00:00",
          "2000-12-31T00:00:00",
          "2001-03-31T00:00:00",
          "2001-06-30T00:00:00",
          "2001-09-30T00:00:00",
          "2001-12-31T00:00:00",
          "2002-03-31T00:00:00",
          "2002-06-30T00:00:00",
          "2002-09-30T00:00:00",
          "2002-12-31T00:00:00",
          "2003-03-31T00:00:00",
          "2003-06-30T00:00:00",
          "2003-09-30T00:00:00",
          "2003-12-31T00:00:00",
          "2004-03-31T00:00:00",
          "2004-06-30T00:00:00",
          "2004-09-30T00:00:00",
          "2004-12-31T00:00:00",
          "2005-03-31T00:00:00",
          "2005-06-30T00:00:00",
          "2005-09-30T00:00:00",
          "2005-12-31T00:00:00",
          "2006-03-31T00:00:00",
          "2006-06-30T00:00:00",
          "2006-09-30T00:00:00",
          "2006-12-31T00:00:00",
          "2007-03-31T00:00:00",
          "2007-06-30T00:00:00",
          "2007-09-30T00:00:00",
          "2007-12-31T00:00:00",
          "2008-03-31T00:00:00",
          "2008-06-30T00:00:00",
          "2008-09-30T00:00:00",
          "2008-12-31T00:00:00",
          "2009-03-31T00:00:00",
          "2009-06-30T00:00:00",
          "2009-09-30T00:00:00",
          "2009-12-31T00:00:00",
          "2010-03-31T00:00:00",
          "2010-06-30T00:00:00",
          "2010-09-30T00:00:00",
          "2010-12-31T00:00:00",
          "2011-03-31T00:00:00",
          "2011-06-30T00:00:00",
          "2011-09-30T00:00:00",
          "2011-12-31T00:00:00",
          "2012-03-31T00:00:00",
          "2012-06-30T00:00:00",
          "2012-09-30T00:00:00",
          "2012-12-31T00:00:00",
          "2013-03-31T00:00:00",
          "2013-06-30T00:00:00",
          "2013-09-30T00:00:00",
          "2013-12-31T00:00:00",
          "2014-03-31T00:00:00",
          "2014-06-30T00:00:00",
          "2014-09-30T00:00:00",
          "2014-12-31T00:00:00",
          "2015-03-31T00:00:00",
          "2015-06-30T00:00:00",
          "2015-09-30T00:00:00",
          "2015-12-31T00:00:00",
          "2016-03-31T00:00:00",
          "2016-06-30T00:00:00",
          "2016-09-30T00:00:00",
          "2016-12-31T00:00:00",
          "2017-03-31T00:00:00",
          "2017-06-30T00:00:00",
          "2017-09-30T00:00:00",
          "2017-12-31T00:00:00",
          "2018-03-31T00:00:00",
          "2018-06-30T00:00:00",
          "2018-09-30T00:00:00",
          "2018-12-31T00:00:00",
          "2019-03-31T00:00:00",
          "2019-06-30T00:00:00",
          "2019-09-30T00:00:00",
          "2019-12-31T00:00:00",
          "2020-03-31T00:00:00",
          "2020-06-30T00:00:00",
          "2020-09-30T00:00:00",
          "2020-12-31T00:00:00",
          "2021-03-31T00:00:00",
          "2021-06-30T00:00:00",
          "2021-09-30T00:00:00",
          "2021-12-31T00:00:00",
          "2022-03-31T00:00:00"
         ],
         "xaxis": "x3",
         "y": [
          null,
          null,
          -6654117.997413794,
          -2214240.5597701147,
          7168839.966091954,
          1447519.7160919541,
          -1492250.9974137936,
          -2597491.0597701147,
          368298.34109195415,
          4329744.966091954,
          -4267845.997413794,
          -2602394.1847701147,
          -8012770.033908046,
          -8044863.033908046,
          25797133.87758621,
          11053264.690229885,
          -15545034.283908047,
          -2450812.158908046,
          183303.75258620642,
          -555801.3097701147,
          -2652636.408908046,
          2533962.466091954,
          1396187.5025862064,
          -8954643.684770115,
          2961040.216091954,
          12245310.966091953,
          -4315097.372413794,
          -5815017.434770115,
          3192864.591091954,
          2143536.966091954,
          -4280210.622413794,
          1109062.3152298853,
          -1478668.5339080459,
          -4980282.408908046,
          1639361.7525862064,
          12262546.565229885,
          1026490.3410919541,
          -8147124.783908046,
          1529524.6275862064,
          -3237078.6847701147,
          -3813216.408908046,
          3417107.466091954,
          6512812.502586206,
          -2865124.1847701147,
          -32966081.033908047,
          -53121879.40890805,
          179612286.00258622,
          -26533790.559770115,
          -198112327.40890804,
          166852945.21609196,
          -5228368.997413794,
          -104236184.5597701,
          215668627.09109196,
          -45000034.40890805,
          -250680132.24741378,
          206639013.3152299,
          19947539.841091953,
          -169814476.03390804,
          64423737.75258621,
          23893208.815229885,
          6016888.716091954,
          4938059.216091954,
          273609.2525862064,
          -9093999.184770115,
          -3089249.658908046,
          15385620.091091953,
          -1500090.7474137936,
          -12517590.434770115,
          -3305899.158908046,
          17106896.216091953,
          4008414.2525862064,
          -24375045.684770115,
          -10733581.033908047,
          24200751.341091953,
          18204578.25258621,
          -11987335.559770115,
          -2180858.783908046,
          7501564.341091954,
          -15205997.122413794,
          -8470372.059770115,
          12340270.841091953,
          1798100.0910919541,
          5448439.377586206,
          -4839936.434770115,
          -6668815.533908046,
          5993366.216091954,
          -736475.8724137936,
          -8264991.559770115,
          -6442766.908908046,
          12412056.841091953,
          12362870.877586206,
          -7687537.434770115,
          -10166878.158908047,
          5787940.216091954,
          5911765.002586206,
          -9109574.559770115,
          6216090.466091954,
          3091589.341091954,
          -12171915.122413794,
          4746402.065229885,
          5392093.466091954,
          4793578.466091954,
          -8914998.247413794,
          -15495929.059770115,
          17631086.341091953,
          13396439.966091953,
          -12925971.997413794,
          -10132854.559770115,
          8355887.591091954,
          3604049.341091954,
          -2895382.3724137936,
          1425204.9402298853,
          7900302.466091954,
          -22853549.783908047,
          -4687870.247413794,
          21971556.940229885,
          -7504210.033908046,
          2946209.466091954,
          10218211.752586206,
          null,
          null
         ],
         "yaxis": "y3"
        }
       ],
       "layout": {
        "height": 600,
        "template": {
         "data": {
          "bar": [
           {
            "error_x": {
             "color": "#2a3f5f"
            },
            "error_y": {
             "color": "#2a3f5f"
            },
            "marker": {
             "line": {
              "color": "#E5ECF6",
              "width": 0.5
             },
             "pattern": {
              "fillmode": "overlay",
              "size": 10,
              "solidity": 0.2
             }
            },
            "type": "bar"
           }
          ],
          "barpolar": [
           {
            "marker": {
             "line": {
              "color": "#E5ECF6",
              "width": 0.5
             },
             "pattern": {
              "fillmode": "overlay",
              "size": 10,
              "solidity": 0.2
             }
            },
            "type": "barpolar"
           }
          ],
          "carpet": [
           {
            "aaxis": {
             "endlinecolor": "#2a3f5f",
             "gridcolor": "white",
             "linecolor": "white",
             "minorgridcolor": "white",
             "startlinecolor": "#2a3f5f"
            },
            "baxis": {
             "endlinecolor": "#2a3f5f",
             "gridcolor": "white",
             "linecolor": "white",
             "minorgridcolor": "white",
             "startlinecolor": "#2a3f5f"
            },
            "type": "carpet"
           }
          ],
          "choropleth": [
           {
            "colorbar": {
             "outlinewidth": 0,
             "ticks": ""
            },
            "type": "choropleth"
           }
          ],
          "contour": [
           {
            "colorbar": {
             "outlinewidth": 0,
             "ticks": ""
            },
            "colorscale": [
             [
              0,
              "#0d0887"
             ],
             [
              0.1111111111111111,
              "#46039f"
             ],
             [
              0.2222222222222222,
              "#7201a8"
             ],
             [
              0.3333333333333333,
              "#9c179e"
             ],
             [
              0.4444444444444444,
              "#bd3786"
             ],
             [
              0.5555555555555556,
              "#d8576b"
             ],
             [
              0.6666666666666666,
              "#ed7953"
             ],
             [
              0.7777777777777778,
              "#fb9f3a"
             ],
             [
              0.8888888888888888,
              "#fdca26"
             ],
             [
              1,
              "#f0f921"
             ]
            ],
            "type": "contour"
           }
          ],
          "contourcarpet": [
           {
            "colorbar": {
             "outlinewidth": 0,
             "ticks": ""
            },
            "type": "contourcarpet"
           }
          ],
          "heatmap": [
           {
            "colorbar": {
             "outlinewidth": 0,
             "ticks": ""
            },
            "colorscale": [
             [
              0,
              "#0d0887"
             ],
             [
              0.1111111111111111,
              "#46039f"
             ],
             [
              0.2222222222222222,
              "#7201a8"
             ],
             [
              0.3333333333333333,
              "#9c179e"
             ],
             [
              0.4444444444444444,
              "#bd3786"
             ],
             [
              0.5555555555555556,
              "#d8576b"
             ],
             [
              0.6666666666666666,
              "#ed7953"
             ],
             [
              0.7777777777777778,
              "#fb9f3a"
             ],
             [
              0.8888888888888888,
              "#fdca26"
             ],
             [
              1,
              "#f0f921"
             ]
            ],
            "type": "heatmap"
           }
          ],
          "heatmapgl": [
           {
            "colorbar": {
             "outlinewidth": 0,
             "ticks": ""
            },
            "colorscale": [
             [
              0,
              "#0d0887"
             ],
             [
              0.1111111111111111,
              "#46039f"
             ],
             [
              0.2222222222222222,
              "#7201a8"
             ],
             [
              0.3333333333333333,
              "#9c179e"
             ],
             [
              0.4444444444444444,
              "#bd3786"
             ],
             [
              0.5555555555555556,
              "#d8576b"
             ],
             [
              0.6666666666666666,
              "#ed7953"
             ],
             [
              0.7777777777777778,
              "#fb9f3a"
             ],
             [
              0.8888888888888888,
              "#fdca26"
             ],
             [
              1,
              "#f0f921"
             ]
            ],
            "type": "heatmapgl"
           }
          ],
          "histogram": [
           {
            "marker": {
             "pattern": {
              "fillmode": "overlay",
              "size": 10,
              "solidity": 0.2
             }
            },
            "type": "histogram"
           }
          ],
          "histogram2d": [
           {
            "colorbar": {
             "outlinewidth": 0,
             "ticks": ""
            },
            "colorscale": [
             [
              0,
              "#0d0887"
             ],
             [
              0.1111111111111111,
              "#46039f"
             ],
             [
              0.2222222222222222,
              "#7201a8"
             ],
             [
              0.3333333333333333,
              "#9c179e"
             ],
             [
              0.4444444444444444,
              "#bd3786"
             ],
             [
              0.5555555555555556,
              "#d8576b"
             ],
             [
              0.6666666666666666,
              "#ed7953"
             ],
             [
              0.7777777777777778,
              "#fb9f3a"
             ],
             [
              0.8888888888888888,
              "#fdca26"
             ],
             [
              1,
              "#f0f921"
             ]
            ],
            "type": "histogram2d"
           }
          ],
          "histogram2dcontour": [
           {
            "colorbar": {
             "outlinewidth": 0,
             "ticks": ""
            },
            "colorscale": [
             [
              0,
              "#0d0887"
             ],
             [
              0.1111111111111111,
              "#46039f"
             ],
             [
              0.2222222222222222,
              "#7201a8"
             ],
             [
              0.3333333333333333,
              "#9c179e"
             ],
             [
              0.4444444444444444,
              "#bd3786"
             ],
             [
              0.5555555555555556,
              "#d8576b"
             ],
             [
              0.6666666666666666,
              "#ed7953"
             ],
             [
              0.7777777777777778,
              "#fb9f3a"
             ],
             [
              0.8888888888888888,
              "#fdca26"
             ],
             [
              1,
              "#f0f921"
             ]
            ],
            "type": "histogram2dcontour"
           }
          ],
          "mesh3d": [
           {
            "colorbar": {
             "outlinewidth": 0,
             "ticks": ""
            },
            "type": "mesh3d"
           }
          ],
          "parcoords": [
           {
            "line": {
             "colorbar": {
              "outlinewidth": 0,
              "ticks": ""
             }
            },
            "type": "parcoords"
           }
          ],
          "pie": [
           {
            "automargin": true,
            "type": "pie"
           }
          ],
          "scatter": [
           {
            "fillpattern": {
             "fillmode": "overlay",
             "size": 10,
             "solidity": 0.2
            },
            "type": "scatter"
           }
          ],
          "scatter3d": [
           {
            "line": {
             "colorbar": {
              "outlinewidth": 0,
              "ticks": ""
             }
            },
            "marker": {
             "colorbar": {
              "outlinewidth": 0,
              "ticks": ""
             }
            },
            "type": "scatter3d"
           }
          ],
          "scattercarpet": [
           {
            "marker": {
             "colorbar": {
              "outlinewidth": 0,
              "ticks": ""
             }
            },
            "type": "scattercarpet"
           }
          ],
          "scattergeo": [
           {
            "marker": {
             "colorbar": {
              "outlinewidth": 0,
              "ticks": ""
             }
            },
            "type": "scattergeo"
           }
          ],
          "scattergl": [
           {
            "marker": {
             "colorbar": {
              "outlinewidth": 0,
              "ticks": ""
             }
            },
            "type": "scattergl"
           }
          ],
          "scattermapbox": [
           {
            "marker": {
             "colorbar": {
              "outlinewidth": 0,
              "ticks": ""
             }
            },
            "type": "scattermapbox"
           }
          ],
          "scatterpolar": [
           {
            "marker": {
             "colorbar": {
              "outlinewidth": 0,
              "ticks": ""
             }
            },
            "type": "scatterpolar"
           }
          ],
          "scatterpolargl": [
           {
            "marker": {
             "colorbar": {
              "outlinewidth": 0,
              "ticks": ""
             }
            },
            "type": "scatterpolargl"
           }
          ],
          "scatterternary": [
           {
            "marker": {
             "colorbar": {
              "outlinewidth": 0,
              "ticks": ""
             }
            },
            "type": "scatterternary"
           }
          ],
          "surface": [
           {
            "colorbar": {
             "outlinewidth": 0,
             "ticks": ""
            },
            "colorscale": [
             [
              0,
              "#0d0887"
             ],
             [
              0.1111111111111111,
              "#46039f"
             ],
             [
              0.2222222222222222,
              "#7201a8"
             ],
             [
              0.3333333333333333,
              "#9c179e"
             ],
             [
              0.4444444444444444,
              "#bd3786"
             ],
             [
              0.5555555555555556,
              "#d8576b"
             ],
             [
              0.6666666666666666,
              "#ed7953"
             ],
             [
              0.7777777777777778,
              "#fb9f3a"
             ],
             [
              0.8888888888888888,
              "#fdca26"
             ],
             [
              1,
              "#f0f921"
             ]
            ],
            "type": "surface"
           }
          ],
          "table": [
           {
            "cells": {
             "fill": {
              "color": "#EBF0F8"
             },
             "line": {
              "color": "white"
             }
            },
            "header": {
             "fill": {
              "color": "#C8D4E3"
             },
             "line": {
              "color": "white"
             }
            },
            "type": "table"
           }
          ]
         },
         "layout": {
          "annotationdefaults": {
           "arrowcolor": "#2a3f5f",
           "arrowhead": 0,
           "arrowwidth": 1
          },
          "autotypenumbers": "strict",
          "coloraxis": {
           "colorbar": {
            "outlinewidth": 0,
            "ticks": ""
           }
          },
          "colorscale": {
           "diverging": [
            [
             0,
             "#8e0152"
            ],
            [
             0.1,
             "#c51b7d"
            ],
            [
             0.2,
             "#de77ae"
            ],
            [
             0.3,
             "#f1b6da"
            ],
            [
             0.4,
             "#fde0ef"
            ],
            [
             0.5,
             "#f7f7f7"
            ],
            [
             0.6,
             "#e6f5d0"
            ],
            [
             0.7,
             "#b8e186"
            ],
            [
             0.8,
             "#7fbc41"
            ],
            [
             0.9,
             "#4d9221"
            ],
            [
             1,
             "#276419"
            ]
           ],
           "sequential": [
            [
             0,
             "#0d0887"
            ],
            [
             0.1111111111111111,
             "#46039f"
            ],
            [
             0.2222222222222222,
             "#7201a8"
            ],
            [
             0.3333333333333333,
             "#9c179e"
            ],
            [
             0.4444444444444444,
             "#bd3786"
            ],
            [
             0.5555555555555556,
             "#d8576b"
            ],
            [
             0.6666666666666666,
             "#ed7953"
            ],
            [
             0.7777777777777778,
             "#fb9f3a"
            ],
            [
             0.8888888888888888,
             "#fdca26"
            ],
            [
             1,
             "#f0f921"
            ]
           ],
           "sequentialminus": [
            [
             0,
             "#0d0887"
            ],
            [
             0.1111111111111111,
             "#46039f"
            ],
            [
             0.2222222222222222,
             "#7201a8"
            ],
            [
             0.3333333333333333,
             "#9c179e"
            ],
            [
             0.4444444444444444,
             "#bd3786"
            ],
            [
             0.5555555555555556,
             "#d8576b"
            ],
            [
             0.6666666666666666,
             "#ed7953"
            ],
            [
             0.7777777777777778,
             "#fb9f3a"
            ],
            [
             0.8888888888888888,
             "#fdca26"
            ],
            [
             1,
             "#f0f921"
            ]
           ]
          },
          "colorway": [
           "#636efa",
           "#EF553B",
           "#00cc96",
           "#ab63fa",
           "#FFA15A",
           "#19d3f3",
           "#FF6692",
           "#B6E880",
           "#FF97FF",
           "#FECB52"
          ],
          "font": {
           "color": "#2a3f5f"
          },
          "geo": {
           "bgcolor": "white",
           "lakecolor": "white",
           "landcolor": "#E5ECF6",
           "showlakes": true,
           "showland": true,
           "subunitcolor": "white"
          },
          "hoverlabel": {
           "align": "left"
          },
          "hovermode": "closest",
          "mapbox": {
           "style": "light"
          },
          "paper_bgcolor": "white",
          "plot_bgcolor": "#E5ECF6",
          "polar": {
           "angularaxis": {
            "gridcolor": "white",
            "linecolor": "white",
            "ticks": ""
           },
           "bgcolor": "#E5ECF6",
           "radialaxis": {
            "gridcolor": "white",
            "linecolor": "white",
            "ticks": ""
           }
          },
          "scene": {
           "xaxis": {
            "backgroundcolor": "#E5ECF6",
            "gridcolor": "white",
            "gridwidth": 2,
            "linecolor": "white",
            "showbackground": true,
            "ticks": "",
            "zerolinecolor": "white"
           },
           "yaxis": {
            "backgroundcolor": "#E5ECF6",
            "gridcolor": "white",
            "gridwidth": 2,
            "linecolor": "white",
            "showbackground": true,
            "ticks": "",
            "zerolinecolor": "white"
           },
           "zaxis": {
            "backgroundcolor": "#E5ECF6",
            "gridcolor": "white",
            "gridwidth": 2,
            "linecolor": "white",
            "showbackground": true,
            "ticks": "",
            "zerolinecolor": "white"
           }
          },
          "shapedefaults": {
           "line": {
            "color": "#2a3f5f"
           }
          },
          "ternary": {
           "aaxis": {
            "gridcolor": "white",
            "linecolor": "white",
            "ticks": ""
           },
           "baxis": {
            "gridcolor": "white",
            "linecolor": "white",
            "ticks": ""
           },
           "bgcolor": "#E5ECF6",
           "caxis": {
            "gridcolor": "white",
            "linecolor": "white",
            "ticks": ""
           }
          },
          "title": {
           "x": 0.05
          },
          "xaxis": {
           "automargin": true,
           "gridcolor": "white",
           "linecolor": "white",
           "ticks": "",
           "title": {
            "standoff": 15
           },
           "zerolinecolor": "white",
           "zerolinewidth": 2
          },
          "yaxis": {
           "automargin": true,
           "gridcolor": "white",
           "linecolor": "white",
           "ticks": "",
           "title": {
            "standoff": 15
           },
           "zerolinecolor": "white",
           "zerolinewidth": 2
          }
         }
        },
        "title": {
         "text": "Prescription Stacked Subplots"
        },
        "width": 800,
        "xaxis": {
         "anchor": "y",
         "domain": [
          0,
          1
         ]
        },
        "xaxis2": {
         "anchor": "y2",
         "domain": [
          0,
          1
         ]
        },
        "xaxis3": {
         "anchor": "y3",
         "domain": [
          0,
          1
         ]
        },
        "yaxis": {
         "anchor": "x",
         "domain": [
          0.7333333333333333,
          1
         ]
        },
        "yaxis2": {
         "anchor": "x2",
         "domain": [
          0.36666666666666664,
          0.6333333333333333
         ]
        },
        "yaxis3": {
         "anchor": "x3",
         "domain": [
          0,
          0.26666666666666666
         ]
        }
       }
      }
     },
     "metadata": {},
     "output_type": "display_data"
    }
   ],
   "source": [
    "# differencing 4 quarters\n",
    "\n",
    "# local copy of df so no changes are made.\n",
    "increment_4_df = summary_df.copy(deep=True)\n",
    "\n",
    "# container for differenced values\n",
    "new_prescription_values = []\n",
    "\n",
    "# increment index, exclude the first 4 data points as they cannot be differenced\n",
    "for h, i in enumerate(increment_4_df.index):\n",
    "    # skip first 4 data points\n",
    "    if h < 4:\n",
    "        pass\n",
    "    \n",
    "    # increment by 4 quarters, subtract 4 quarters prior\n",
    "    else:\n",
    "        increment = i-QuarterEnd(2)\n",
    "        new_prescription_values.append(increment_4_df.loc[i]['Prescriptions'] - increment_4_df.loc[increment]['Prescriptions'])\n",
    "\n",
    "# drop first 4 data points\n",
    "increment_4_df.drop(increment_4_df.index[0:4],axis=0,inplace=True)\n",
    "\n",
    "# update df\n",
    "increment_4_df['Prescriptions'] = new_prescription_values\n",
    "\n",
    "\n",
    "# display differenced data\n",
    "layout = go.Layout(xaxis={'title': 'Year'}, yaxis={'title': 'Prescriptions'}, title={'text': 'Prescriptions Reimbursed Annually, 1991-2022'})\n",
    "fig = go.Figure(data=go.Scatter(x = list(increment_4_df.index), y = list(increment_4_df['Prescriptions']), mode='markers'),layout=layout)\n",
    "fig.update()\n",
    "fig.show()\n",
    "\n",
    "\n",
    "# create decomposition\n",
    "\n",
    "# instantiate containers\n",
    "analysis_dict = {}\n",
    "analysis_df_full = pd.DataFrame.empty\n",
    "\n",
    "# decompose\n",
    "decomposition = tsa.seasonal_decompose(increment_4_df, model='additive')\n",
    "\n",
    "# decomposition to dict\n",
    "analysis_dict={'trend':dict(decomposition.trend),'seasonal':dict(decomposition.seasonal),'residual':dict(decomposition.resid)}\n",
    "\n",
    "# dict to df\n",
    "analysis_df_full = pd.DataFrame(analysis_dict)\n",
    "\n",
    "# display decomposed data\n",
    "fig = make_subplots(rows=3, cols=1)\n",
    "fig.append_trace(go.Scatter(\n",
    "    name = 'Trend',\n",
    "    x = list(analysis_df_full.index),\n",
    "    y = list(analysis_df_full['trend']),\n",
    "), row=1, col=1)\n",
    "fig.append_trace(go.Scatter(\n",
    "    name = 'Seasonal',\n",
    "    x = list(analysis_df_full.index),\n",
    "    y = list(analysis_df_full['seasonal']),\n",
    "), row=2, col=1)\n",
    "fig.append_trace(go.Scatter(\n",
    "    name = 'Residuals',\n",
    "    x = list(analysis_df_full.index),\n",
    "    y = list(analysis_df_full['residual']),\n",
    "), row=3, col=1)\n",
    "fig.update_layout(height=600, width=800, title_text=f\"Prescription Stacked Subplots\")\n",
    "fig.show()"
   ]
  },
  {
   "attachments": {},
   "cell_type": "markdown",
   "metadata": {},
   "source": [
    "Reviewing the differenced data, a single difference seems to remove all trend. Seasonality is found in each version, and the residuals are comparable for each. This suggests that a single difference is enough to make the data stationary. This can be verified by autocorrelation functions."
   ]
  },
  {
   "cell_type": "code",
   "execution_count": 52,
   "metadata": {},
   "outputs": [
    {
     "data": {
      "image/png": "[encoded data removed]",
      "text/plain": [
       "<Figure size 1500x500 with 1 Axes>"
      ]
     },
     "metadata": {},
     "output_type": "display_data"
    }
   ],
   "source": [
    "# autocorrelation function\n",
    "\n",
    "plt.figure(figsize=(15, 5))\n",
    "plot_acf(summary_df, lags=15, ax=plt.gca())\n",
    "plt.xlabel('Lag')\n",
    "plt.ylabel('AC')\n",
    "plt.show()"
   ]
  },
  {
   "attachments": {},
   "cell_type": "markdown",
   "metadata": {},
   "source": [
    "The autocorrelation function shows differences of 1-6 are significant. To verify if all of these differences are significant, or how much each contributes to the significance, I'll run a partial autocorrelation function."
   ]
  },
  {
   "cell_type": "code",
   "execution_count": 53,
   "metadata": {},
   "outputs": [
    {
     "data": {
      "image/png": "[encoded data removed]",
      "text/plain": [
       "<Figure size 1500x500 with 1 Axes>"
      ]
     },
     "metadata": {},
     "output_type": "display_data"
    }
   ],
   "source": [
    "# partial autocorrelation function\n",
    "\n",
    "plt.figure(figsize=(15, 5))\n",
    "plot_pacf(summary_df, lags=15, ax=plt.gca(), method='ywm')\n",
    "plt.xlabel('Lag')\n",
    "plt.ylabel('Partial AC')\n",
    "plt.show()"
   ]
  },
  {
   "attachments": {},
   "cell_type": "markdown",
   "metadata": {},
   "source": [
    "The partial autocorrelation function shows that the greatest difference comes from the first step; there are minor contributions from the second, third, and fourth as well. This may be consistent with year-over-year changes. Next, let's get a baseline - just the mean - and calculate MAPE and SMAPE for the mean of the data."
   ]
  },
  {
   "attachments": {},
   "cell_type": "markdown",
   "metadata": {},
   "source": [
    "## Baseline Determination\n",
    "\n",
    "The Mean Absolute Percentage Error and Symmetric Mean Absolute Percentage Error - respectively MAPE and SMAPE - are instantiated as functions below. While MAPE is useful for this analysis, some data have zero prescriptions at some points, and the predictions could potentially predict zero. The SMAPE is more robust to zero values, so it will be used more frequently in these notebooks. Thee functions are defined, and then a baseline mean is determined."
   ]
  },
  {
   "cell_type": "code",
   "execution_count": 65,
   "metadata": {},
   "outputs": [],
   "source": [
    "# defining MAPE and SMAPE functions\n",
    "\n",
    "def mean_absolute_percentage_error(true_values, predicted_values):\n",
    "    \"\"\"\n",
    "    Input is series of known and then predicted values from time series.\n",
    "    \n",
    "    Calculate the mean absolute percentage error.\n",
    "    \n",
    "    Find the prediction error and divide by the true value, then average.\n",
    "    \"\"\"\n",
    "    \n",
    "    error = true_values - predicted_values\n",
    "    \n",
    "    absolute_percentage_error = np.abs(error/true_values)\n",
    "    \n",
    "    mape = absolute_percentage_error.mean() * 100\n",
    "    \n",
    "    return mape\n",
    "\n",
    "def symmetric_mean_absolute_percentage_error(true_values, predicted_values):\n",
    "    \"\"\"\n",
    "    Input is series of known and then predicted values from time series.\n",
    "\n",
    "    Calculation is more robust to zeros in data, such as years with zero prescriptions\n",
    "    or projections of zero.\n",
    "\n",
    "    Calculate the symmetric mean absolute percentage error.\n",
    "    \n",
    "    Find the prediction error and divide by the true+predicted value, then average.\n",
    "    \"\"\"\n",
    "\n",
    "    # calculate numerator - difference in values\n",
    "    numerator = abs(predicted_values-true_values)\n",
    "    \n",
    "    # calculate denominator, sum of absolute true/predicted\n",
    "    denominator = abs(true_values)+abs(predicted_values)\n",
    "    \n",
    "    division = numerator/denominator\n",
    "    \n",
    "    summed_div = division.sum()\n",
    "    \n",
    "    # average\n",
    "    smape = round((100/(len(true_values)))*summed_div,2)\n",
    "    \n",
    "    return smape"
   ]
  },
  {
   "attachments": {},
   "cell_type": "markdown",
   "metadata": {},
   "source": [
    "We'll now calculate the mean, plot the data with the mean, and determine evaluation metrics."
   ]
  },
  {
   "cell_type": "code",
   "execution_count": 70,
   "metadata": {},
   "outputs": [
    {
     "name": "stdout",
     "output_type": "stream",
     "text": [
      "The mean quarterly number of prescriptions for all available data is 153236124.0, plotted as a red line below.\n"
     ]
    },
    {
     "data": {
      "application/vnd.plotly.v1+json": {
       "config": {
        "plotlyServerURL": "https://plot.ly"
       },
       "data": [
        {
         "mode": "markers",
         "type": "scatter",
         "x": [
          "1991-03-31T00:00:00",
          "1991-06-30T00:00:00",
          "1991-09-30T00:00:00",
          "1991-12-31T00:00:00",
          "1992-03-31T00:00:00",
          "1992-06-30T00:00:00",
          "1992-09-30T00:00:00",
          "1992-12-31T00:00:00",
          "1993-03-31T00:00:00",
          "1993-06-30T00:00:00",
          "1993-09-30T00:00:00",
          "1993-12-31T00:00:00",
          "1994-03-31T00:00:00",
          "1994-06-30T00:00:00",
          "1994-09-30T00:00:00",
          "1994-12-31T00:00:00",
          "1995-03-31T00:00:00",
          "1995-06-30T00:00:00",
          "1995-09-30T00:00:00",
          "1995-12-31T00:00:00",
          "1996-03-31T00:00:00",
          "1996-06-30T00:00:00",
          "1996-09-30T00:00:00",
          "1996-12-31T00:00:00",
          "1997-03-31T00:00:00",
          "1997-06-30T00:00:00",
          "1997-09-30T00:00:00",
          "1997-12-31T00:00:00",
          "1998-03-31T00:00:00",
          "1998-06-30T00:00:00",
          "1998-09-30T00:00:00",
          "1998-12-31T00:00:00",
          "1999-03-31T00:00:00",
          "1999-06-30T00:00:00",
          "1999-09-30T00:00:00",
          "1999-12-31T00:00:00",
          "2000-03-31T00:00:00",
          "2000-06-30T00:00:00",
          "2000-09-30T00:00:00",
          "2000-12-31T00:00:00",
          "2001-03-31T00:00:00",
          "2001-06-30T00:00:00",
          "2001-09-30T00:00:00",
          "2001-12-31T00:00:00",
          "2002-03-31T00:00:00",
          "2002-06-30T00:00:00",
          "2002-09-30T00:00:00",
          "2002-12-31T00:00:00",
          "2003-03-31T00:00:00",
          "2003-06-30T00:00:00",
          "2003-09-30T00:00:00",
          "2003-12-31T00:00:00",
          "2004-03-31T00:00:00",
          "2004-06-30T00:00:00",
          "2004-09-30T00:00:00",
          "2004-12-31T00:00:00",
          "2005-03-31T00:00:00",
          "2005-06-30T00:00:00",
          "2005-09-30T00:00:00",
          "2005-12-31T00:00:00",
          "2006-03-31T00:00:00",
          "2006-06-30T00:00:00",
          "2006-09-30T00:00:00",
          "2006-12-31T00:00:00",
          "2007-03-31T00:00:00",
          "2007-06-30T00:00:00",
          "2007-09-30T00:00:00",
          "2007-12-31T00:00:00",
          "2008-03-31T00:00:00",
          "2008-06-30T00:00:00",
          "2008-09-30T00:00:00",
          "2008-12-31T00:00:00",
          "2009-03-31T00:00:00",
          "2009-06-30T00:00:00",
          "2009-09-30T00:00:00",
          "2009-12-31T00:00:00",
          "2010-03-31T00:00:00",
          "2010-06-30T00:00:00",
          "2010-09-30T00:00:00",
          "2010-12-31T00:00:00",
          "2011-03-31T00:00:00",
          "2011-06-30T00:00:00",
          "2011-09-30T00:00:00",
          "2011-12-31T00:00:00",
          "2012-03-31T00:00:00",
          "2012-06-30T00:00:00",
          "2012-09-30T00:00:00",
          "2012-12-31T00:00:00",
          "2013-03-31T00:00:00",
          "2013-06-30T00:00:00",
          "2013-09-30T00:00:00",
          "2013-12-31T00:00:00",
          "2014-03-31T00:00:00",
          "2014-06-30T00:00:00",
          "2014-09-30T00:00:00",
          "2014-12-31T00:00:00",
          "2015-03-31T00:00:00",
          "2015-06-30T00:00:00",
          "2015-09-30T00:00:00",
          "2015-12-31T00:00:00",
          "2016-03-31T00:00:00",
          "2016-06-30T00:00:00",
          "2016-09-30T00:00:00",
          "2016-12-31T00:00:00",
          "2017-03-31T00:00:00",
          "2017-06-30T00:00:00",
          "2017-09-30T00:00:00",
          "2017-12-31T00:00:00",
          "2018-03-31T00:00:00",
          "2018-06-30T00:00:00",
          "2018-09-30T00:00:00",
          "2018-12-31T00:00:00",
          "2019-03-31T00:00:00",
          "2019-06-30T00:00:00",
          "2019-09-30T00:00:00",
          "2019-12-31T00:00:00",
          "2020-03-31T00:00:00",
          "2020-06-30T00:00:00",
          "2020-09-30T00:00:00",
          "2020-12-31T00:00:00",
          "2021-03-31T00:00:00",
          "2021-06-30T00:00:00",
          "2021-09-30T00:00:00",
          "2021-12-31T00:00:00",
          "2022-03-31T00:00:00"
         ],
         "y": [
          40671417,
          59259062,
          67561929,
          74483016,
          82768107,
          76771911,
          75205718,
          85725818,
          94592593,
          87546897,
          90365485,
          91288201,
          95649251,
          86903138,
          80710031,
          85192833,
          81344496,
          85066309,
          118656269,
          118152327,
          118816430,
          109746553,
          108255354,
          110302647,
          108181714,
          104082407,
          101640278,
          102831754,
          115457635,
          114954963,
          110259724,
          117411919,
          119835397,
          114116641,
          109411018,
          120105562,
          115363517,
          115727207,
          120901051,
          143998778,
          136492477,
          133969846,
          130596243,
          134979726,
          134649367,
          136972367,
          140154979,
          145132430,
          145947666,
          148746142,
          366169219,
          178883335,
          226525799,
          363528419,
          274567736,
          333309563,
          484657321,
          241299355,
          167051950,
          338157239,
          96295892,
          91247082,
          80679087,
          87858219,
          92162500,
          87877891,
          86073000,
          84760915,
          91278368,
          96881224,
          86097352,
          93254818,
          94038855,
          110317402,
          97233671,
          100859933,
          110403567,
          145645056,
          152231412,
          163880199,
          167571475,
          166390382,
          144530171,
          162274733,
          165021240,
          164255682,
          167346136,
          163908723,
          163168995,
          158591581,
          151249924,
          154949611,
          156942717,
          173309001,
          175915786,
          182147561,
          179982587,
          188561670,
          187029956,
          193344331,
          204779756,
          195230026,
          191955696,
          210845769,
          208854028,
          212856351,
          195468627,
          207598039,
          225293382,
          221447889,
          210185491,
          216868482,
          223800327,
          215912716,
          215610424,
          218743695,
          221488850,
          186228229,
          211905808,
          222210513,
          228318503,
          237509501,
          244638796,
          247953922,
          242135394
         ]
        }
       ],
       "layout": {
        "shapes": [
         {
          "line": {
           "color": "red"
          },
          "type": "line",
          "x0": 0,
          "x1": 1,
          "xref": "x domain",
          "y0": 153236123.64,
          "y1": 153236123.64,
          "yref": "y"
         }
        ],
        "template": {
         "data": {
          "bar": [
           {
            "error_x": {
             "color": "#2a3f5f"
            },
            "error_y": {
             "color": "#2a3f5f"
            },
            "marker": {
             "line": {
              "color": "#E5ECF6",
              "width": 0.5
             },
             "pattern": {
              "fillmode": "overlay",
              "size": 10,
              "solidity": 0.2
             }
            },
            "type": "bar"
           }
          ],
          "barpolar": [
           {
            "marker": {
             "line": {
              "color": "#E5ECF6",
              "width": 0.5
             },
             "pattern": {
              "fillmode": "overlay",
              "size": 10,
              "solidity": 0.2
             }
            },
            "type": "barpolar"
           }
          ],
          "carpet": [
           {
            "aaxis": {
             "endlinecolor": "#2a3f5f",
             "gridcolor": "white",
             "linecolor": "white",
             "minorgridcolor": "white",
             "startlinecolor": "#2a3f5f"
            },
            "baxis": {
             "endlinecolor": "#2a3f5f",
             "gridcolor": "white",
             "linecolor": "white",
             "minorgridcolor": "white",
             "startlinecolor": "#2a3f5f"
            },
            "type": "carpet"
           }
          ],
          "choropleth": [
           {
            "colorbar": {
             "outlinewidth": 0,
             "ticks": ""
            },
            "type": "choropleth"
           }
          ],
          "contour": [
           {
            "colorbar": {
             "outlinewidth": 0,
             "ticks": ""
            },
            "colorscale": [
             [
              0,
              "#0d0887"
             ],
             [
              0.1111111111111111,
              "#46039f"
             ],
             [
              0.2222222222222222,
              "#7201a8"
             ],
             [
              0.3333333333333333,
              "#9c179e"
             ],
             [
              0.4444444444444444,
              "#bd3786"
             ],
             [
              0.5555555555555556,
              "#d8576b"
             ],
             [
              0.6666666666666666,
              "#ed7953"
             ],
             [
              0.7777777777777778,
              "#fb9f3a"
             ],
             [
              0.8888888888888888,
              "#fdca26"
             ],
             [
              1,
              "#f0f921"
             ]
            ],
            "type": "contour"
           }
          ],
          "contourcarpet": [
           {
            "colorbar": {
             "outlinewidth": 0,
             "ticks": ""
            },
            "type": "contourcarpet"
           }
          ],
          "heatmap": [
           {
            "colorbar": {
             "outlinewidth": 0,
             "ticks": ""
            },
            "colorscale": [
             [
              0,
              "#0d0887"
             ],
             [
              0.1111111111111111,
              "#46039f"
             ],
             [
              0.2222222222222222,
              "#7201a8"
             ],
             [
              0.3333333333333333,
              "#9c179e"
             ],
             [
              0.4444444444444444,
              "#bd3786"
             ],
             [
              0.5555555555555556,
              "#d8576b"
             ],
             [
              0.6666666666666666,
              "#ed7953"
             ],
             [
              0.7777777777777778,
              "#fb9f3a"
             ],
             [
              0.8888888888888888,
              "#fdca26"
             ],
             [
              1,
              "#f0f921"
             ]
            ],
            "type": "heatmap"
           }
          ],
          "heatmapgl": [
           {
            "colorbar": {
             "outlinewidth": 0,
             "ticks": ""
            },
            "colorscale": [
             [
              0,
              "#0d0887"
             ],
             [
              0.1111111111111111,
              "#46039f"
             ],
             [
              0.2222222222222222,
              "#7201a8"
             ],
             [
              0.3333333333333333,
              "#9c179e"
             ],
             [
              0.4444444444444444,
              "#bd3786"
             ],
             [
              0.5555555555555556,
              "#d8576b"
             ],
             [
              0.6666666666666666,
              "#ed7953"
             ],
             [
              0.7777777777777778,
              "#fb9f3a"
             ],
             [
              0.8888888888888888,
              "#fdca26"
             ],
             [
              1,
              "#f0f921"
             ]
            ],
            "type": "heatmapgl"
           }
          ],
          "histogram": [
           {
            "marker": {
             "pattern": {
              "fillmode": "overlay",
              "size": 10,
              "solidity": 0.2
             }
            },
            "type": "histogram"
           }
          ],
          "histogram2d": [
           {
            "colorbar": {
             "outlinewidth": 0,
             "ticks": ""
            },
            "colorscale": [
             [
              0,
              "#0d0887"
             ],
             [
              0.1111111111111111,
              "#46039f"
             ],
             [
              0.2222222222222222,
              "#7201a8"
             ],
             [
              0.3333333333333333,
              "#9c179e"
             ],
             [
              0.4444444444444444,
              "#bd3786"
             ],
             [
              0.5555555555555556,
              "#d8576b"
             ],
             [
              0.6666666666666666,
              "#ed7953"
             ],
             [
              0.7777777777777778,
              "#fb9f3a"
             ],
             [
              0.8888888888888888,
              "#fdca26"
             ],
             [
              1,
              "#f0f921"
             ]
            ],
            "type": "histogram2d"
           }
          ],
          "histogram2dcontour": [
           {
            "colorbar": {
             "outlinewidth": 0,
             "ticks": ""
            },
            "colorscale": [
             [
              0,
              "#0d0887"
             ],
             [
              0.1111111111111111,
              "#46039f"
             ],
             [
              0.2222222222222222,
              "#7201a8"
             ],
             [
              0.3333333333333333,
              "#9c179e"
             ],
             [
              0.4444444444444444,
              "#bd3786"
             ],
             [
              0.5555555555555556,
              "#d8576b"
             ],
             [
              0.6666666666666666,
              "#ed7953"
             ],
             [
              0.7777777777777778,
              "#fb9f3a"
             ],
             [
              0.8888888888888888,
              "#fdca26"
             ],
             [
              1,
              "#f0f921"
             ]
            ],
            "type": "histogram2dcontour"
           }
          ],
          "mesh3d": [
           {
            "colorbar": {
             "outlinewidth": 0,
             "ticks": ""
            },
            "type": "mesh3d"
           }
          ],
          "parcoords": [
           {
            "line": {
             "colorbar": {
              "outlinewidth": 0,
              "ticks": ""
             }
            },
            "type": "parcoords"
           }
          ],
          "pie": [
           {
            "automargin": true,
            "type": "pie"
           }
          ],
          "scatter": [
           {
            "fillpattern": {
             "fillmode": "overlay",
             "size": 10,
             "solidity": 0.2
            },
            "type": "scatter"
           }
          ],
          "scatter3d": [
           {
            "line": {
             "colorbar": {
              "outlinewidth": 0,
              "ticks": ""
             }
            },
            "marker": {
             "colorbar": {
              "outlinewidth": 0,
              "ticks": ""
             }
            },
            "type": "scatter3d"
           }
          ],
          "scattercarpet": [
           {
            "marker": {
             "colorbar": {
              "outlinewidth": 0,
              "ticks": ""
             }
            },
            "type": "scattercarpet"
           }
          ],
          "scattergeo": [
           {
            "marker": {
             "colorbar": {
              "outlinewidth": 0,
              "ticks": ""
             }
            },
            "type": "scattergeo"
           }
          ],
          "scattergl": [
           {
            "marker": {
             "colorbar": {
              "outlinewidth": 0,
              "ticks": ""
             }
            },
            "type": "scattergl"
           }
          ],
          "scattermapbox": [
           {
            "marker": {
             "colorbar": {
              "outlinewidth": 0,
              "ticks": ""
             }
            },
            "type": "scattermapbox"
           }
          ],
          "scatterpolar": [
           {
            "marker": {
             "colorbar": {
              "outlinewidth": 0,
              "ticks": ""
             }
            },
            "type": "scatterpolar"
           }
          ],
          "scatterpolargl": [
           {
            "marker": {
             "colorbar": {
              "outlinewidth": 0,
              "ticks": ""
             }
            },
            "type": "scatterpolargl"
           }
          ],
          "scatterternary": [
           {
            "marker": {
             "colorbar": {
              "outlinewidth": 0,
              "ticks": ""
             }
            },
            "type": "scatterternary"
           }
          ],
          "surface": [
           {
            "colorbar": {
             "outlinewidth": 0,
             "ticks": ""
            },
            "colorscale": [
             [
              0,
              "#0d0887"
             ],
             [
              0.1111111111111111,
              "#46039f"
             ],
             [
              0.2222222222222222,
              "#7201a8"
             ],
             [
              0.3333333333333333,
              "#9c179e"
             ],
             [
              0.4444444444444444,
              "#bd3786"
             ],
             [
              0.5555555555555556,
              "#d8576b"
             ],
             [
              0.6666666666666666,
              "#ed7953"
             ],
             [
              0.7777777777777778,
              "#fb9f3a"
             ],
             [
              0.8888888888888888,
              "#fdca26"
             ],
             [
              1,
              "#f0f921"
             ]
            ],
            "type": "surface"
           }
          ],
          "table": [
           {
            "cells": {
             "fill": {
              "color": "#EBF0F8"
             },
             "line": {
              "color": "white"
             }
            },
            "header": {
             "fill": {
              "color": "#C8D4E3"
             },
             "line": {
              "color": "white"
             }
            },
            "type": "table"
           }
          ]
         },
         "layout": {
          "annotationdefaults": {
           "arrowcolor": "#2a3f5f",
           "arrowhead": 0,
           "arrowwidth": 1
          },
          "autotypenumbers": "strict",
          "coloraxis": {
           "colorbar": {
            "outlinewidth": 0,
            "ticks": ""
           }
          },
          "colorscale": {
           "diverging": [
            [
             0,
             "#8e0152"
            ],
            [
             0.1,
             "#c51b7d"
            ],
            [
             0.2,
             "#de77ae"
            ],
            [
             0.3,
             "#f1b6da"
            ],
            [
             0.4,
             "#fde0ef"
            ],
            [
             0.5,
             "#f7f7f7"
            ],
            [
             0.6,
             "#e6f5d0"
            ],
            [
             0.7,
             "#b8e186"
            ],
            [
             0.8,
             "#7fbc41"
            ],
            [
             0.9,
             "#4d9221"
            ],
            [
             1,
             "#276419"
            ]
           ],
           "sequential": [
            [
             0,
             "#0d0887"
            ],
            [
             0.1111111111111111,
             "#46039f"
            ],
            [
             0.2222222222222222,
             "#7201a8"
            ],
            [
             0.3333333333333333,
             "#9c179e"
            ],
            [
             0.4444444444444444,
             "#bd3786"
            ],
            [
             0.5555555555555556,
             "#d8576b"
            ],
            [
             0.6666666666666666,
             "#ed7953"
            ],
            [
             0.7777777777777778,
             "#fb9f3a"
            ],
            [
             0.8888888888888888,
             "#fdca26"
            ],
            [
             1,
             "#f0f921"
            ]
           ],
           "sequentialminus": [
            [
             0,
             "#0d0887"
            ],
            [
             0.1111111111111111,
             "#46039f"
            ],
            [
             0.2222222222222222,
             "#7201a8"
            ],
            [
             0.3333333333333333,
             "#9c179e"
            ],
            [
             0.4444444444444444,
             "#bd3786"
            ],
            [
             0.5555555555555556,
             "#d8576b"
            ],
            [
             0.6666666666666666,
             "#ed7953"
            ],
            [
             0.7777777777777778,
             "#fb9f3a"
            ],
            [
             0.8888888888888888,
             "#fdca26"
            ],
            [
             1,
             "#f0f921"
            ]
           ]
          },
          "colorway": [
           "#636efa",
           "#EF553B",
           "#00cc96",
           "#ab63fa",
           "#FFA15A",
           "#19d3f3",
           "#FF6692",
           "#B6E880",
           "#FF97FF",
           "#FECB52"
          ],
          "font": {
           "color": "#2a3f5f"
          },
          "geo": {
           "bgcolor": "white",
           "lakecolor": "white",
           "landcolor": "#E5ECF6",
           "showlakes": true,
           "showland": true,
           "subunitcolor": "white"
          },
          "hoverlabel": {
           "align": "left"
          },
          "hovermode": "closest",
          "mapbox": {
           "style": "light"
          },
          "paper_bgcolor": "white",
          "plot_bgcolor": "#E5ECF6",
          "polar": {
           "angularaxis": {
            "gridcolor": "white",
            "linecolor": "white",
            "ticks": ""
           },
           "bgcolor": "#E5ECF6",
           "radialaxis": {
            "gridcolor": "white",
            "linecolor": "white",
            "ticks": ""
           }
          },
          "scene": {
           "xaxis": {
            "backgroundcolor": "#E5ECF6",
            "gridcolor": "white",
            "gridwidth": 2,
            "linecolor": "white",
            "showbackground": true,
            "ticks": "",
            "zerolinecolor": "white"
           },
           "yaxis": {
            "backgroundcolor": "#E5ECF6",
            "gridcolor": "white",
            "gridwidth": 2,
            "linecolor": "white",
            "showbackground": true,
            "ticks": "",
            "zerolinecolor": "white"
           },
           "zaxis": {
            "backgroundcolor": "#E5ECF6",
            "gridcolor": "white",
            "gridwidth": 2,
            "linecolor": "white",
            "showbackground": true,
            "ticks": "",
            "zerolinecolor": "white"
           }
          },
          "shapedefaults": {
           "line": {
            "color": "#2a3f5f"
           }
          },
          "ternary": {
           "aaxis": {
            "gridcolor": "white",
            "linecolor": "white",
            "ticks": ""
           },
           "baxis": {
            "gridcolor": "white",
            "linecolor": "white",
            "ticks": ""
           },
           "bgcolor": "#E5ECF6",
           "caxis": {
            "gridcolor": "white",
            "linecolor": "white",
            "ticks": ""
           }
          },
          "title": {
           "x": 0.05
          },
          "xaxis": {
           "automargin": true,
           "gridcolor": "white",
           "linecolor": "white",
           "ticks": "",
           "title": {
            "standoff": 15
           },
           "zerolinecolor": "white",
           "zerolinewidth": 2
          },
          "yaxis": {
           "automargin": true,
           "gridcolor": "white",
           "linecolor": "white",
           "ticks": "",
           "title": {
            "standoff": 15
           },
           "zerolinecolor": "white",
           "zerolinewidth": 2
          }
         }
        },
        "title": {
         "text": "Prescriptions Reimbursed Quarterly, 1991-2022"
        },
        "xaxis": {
         "title": {
          "text": "Year"
         }
        },
        "yaxis": {
         "title": {
          "text": "Prescriptions"
         }
        }
       }
      }
     },
     "metadata": {},
     "output_type": "display_data"
    },
    {
     "name": "stdout",
     "output_type": "stream",
     "text": [
      "Using mean prescriptions, the MAPE is 35.92%; the SMAPE is 17.17%.\n"
     ]
    }
   ],
   "source": [
    "# determine mean, plot, find MAPE/SMAPE\n",
    "\n",
    "# print and calculate mean\n",
    "print(f\"The mean quarterly number of prescriptions for all available data is {round(summary_df['Prescriptions'].mean(),0)}, plotted as a red line below.\")\n",
    "\n",
    "# print data with mean\n",
    "layout = go.Layout(xaxis={'title': 'Year'}, yaxis={'title': 'Prescriptions'}, title={'text': 'Prescriptions Reimbursed Quarterly, 1991-2022'})\n",
    "fig = go.Figure(data=go.Scatter(x = list(summary_df.index), y = list(summary_df['Prescriptions']), mode='markers'),layout=layout)\n",
    "fig.add_hline(y=summary_df['Prescriptions'].mean(), line_color='red')\n",
    "fig.show()\n",
    "\n",
    "# a dataframe of values of the mean is created for MAPE/SMAPE\n",
    "mean_prescriptions = pd.DataFrame.from_dict({i: 136620699 for i in summary_df.index}, orient='index', columns=['Prescriptions'])\n",
    "\n",
    "# MAPE/SMAPE is calculated for the mean value\n",
    "print(f\"Using mean prescriptions, the MAPE is {round(mean_absolute_percentage_error(summary_df['Prescriptions'],mean_prescriptions['Prescriptions']),2)}%;\\\n",
    " the SMAPE is {round(symmetric_mean_absolute_percentage_error(summary_df['Prescriptions'],mean_prescriptions['Prescriptions']),2)}%.\")"
   ]
  },
  {
   "attachments": {},
   "cell_type": "markdown",
   "metadata": {},
   "source": [
    "The mean number of prescriptions across all years data is available is 153236124.0. Comparing this as a baseline, the MAPE is and the SMAPE is. Having ingested and observed the data and established a baseline we'll move on to time series modeling."
   ]
  },
  {
   "attachments": {},
   "cell_type": "markdown",
   "metadata": {},
   "source": [
    "## ARIMA Model\n",
    "\n",
    "I start with the ARIMA model and will focus on this model in Notebook 4. In order to efficiently model and describe large quantities of data I will break down the method of employing the ARIMA model here, and it's use will be more condensed in Notebook 4. In summary, I want to be able to consider many ARIMA (p, d, q) parameters. So, I'll first iterate the data through a series of p, d, and q values, fitting and determining the SMAPE for each. From there, I'll manually review the SMAPE scores vial a 3D plot of parameters versus SMAPE, and choose promising values to investigate. I'll then move to choosing the most effective values, taking their mean, and evaluating the mean fit."
   ]
  },
  {
   "cell_type": "code",
   "execution_count": 56,
   "metadata": {},
   "outputs": [
    {
     "name": "stdout",
     "output_type": "stream",
     "text": [
      "Running series p 5, d 5, q 5\r"
     ]
    },
    {
     "data": {
      "application/vnd.plotly.v1+json": {
       "config": {
        "plotlyServerURL": "https://plot.ly"
       },
       "data": [
        {
         "hovertemplate": "p=%{x}<br>d=%{y}<br>q=%{z}<br>val=%{marker.color}<extra></extra>",
         "legendgroup": "",
         "marker": {
          "color": [
           17.056827842024166,
           12.280228361612306,
           11.581938085140473,
           9.42491600123014,
           8.824540229505399,
           8.165857417242144,
           5.748740971442631,
           6.35745115955975,
           6.756190495204699,
           6.805676318640511,
           6.474179932754912,
           6.504168617827986,
           9.883736417626997,
           6.941299942037757,
           6.753909154955075,
           7.322787178611122,
           7.095478160336907,
           6.661557834057844,
           13.78113121452931,
           10.649498582431082,
           6.879230198558547,
           9.894280205765112,
           9.421177553802089,
           9.064334758946845,
           21.57979177658192,
           13.95893539965982,
           10.850762291662166,
           11.663274333463459,
           12.046743024907425,
           12.799210735833903,
           33.36166292318242,
           21.79032314112744,
           14.814466144368778,
           12.837824381492172,
           13.204303915646046,
           15.760234488081041,
           7.49894074896559,
           6.943014888221688,
           7.470528206275997,
           6.6566278945344495,
           6.741668165397345,
           7.07649028475576,
           6.100480461420749,
           6.348293167570777,
           6.746535776167404,
           6.878024538137168,
           6.551079779202669,
           6.367189552085497,
           8.261586314278395,
           6.968169706452793,
           6.193824543466259,
           6.972610738948141,
           6.887683847167502,
           6.729051132639521,
           13.335741051044383,
           9.232199112517417,
           8.27516604089652,
           6.873619232412424,
           9.354850638633728,
           8.821833262900793,
           16.63831158124866,
           13.685520223136946,
           9.500996031007764,
           10.797915789616354,
           11.574730451567442,
           12.477786307767113,
           24.55690318982267,
           17.039887640139177,
           14.284931621744027,
           15.633212847318987,
           13.017975966500742,
           14.319008561148355,
           6.538981996867337,
           6.424403113912352,
           6.693122541030383,
           6.354657164075142,
           6.419588695688156,
           5.951251494074105,
           6.294544067040815,
           6.641298751341345,
           6.724420638942345,
           6.782144858877914,
           7.282555780810473,
           7.272091307813901,
           6.769352042231655,
           7.5716253929912165,
           7.419667934553886,
           6.816071084405959,
           6.751757646741793,
           7.042847716544838,
           9.950311365336866,
           7.603851392074885,
           7.895936007636317,
           7.978689238314809,
           8.207044554915969,
           8.649519927848246,
           15.900277883227243,
           10.594473941027891,
           8.560819751379196,
           9.776113058598142,
           9.942485492566194,
           11.812442845589786,
           24.002348358551636,
           16.873198191061732,
           11.689011394574335,
           12.886906947102853,
           13.424600740537958,
           14.00366942441129,
           6.041754427124804,
           5.921102448093747,
           6.019345652165771,
           6.06210526947267,
           6.356440378497439,
           6.727440497413519,
           6.701170252336778,
           6.682790839930772,
           6.653502615497232,
           6.696018872557893,
           7.265002644452631,
           6.7156024633431235,
           7.785277609195195,
           7.334855799206962,
           7.103974629976694,
           6.880585782013013,
           6.842842488534453,
           7.046452060413921,
           9.528369149352546,
           8.517580925109916,
           8.114599207804023,
           7.823600042031229,
           7.897462827592967,
           7.800761949079087,
           13.56376060876379,
           10.12802094990005,
           9.916959134821557,
           8.565929826591963,
           9.571266107632432,
           10.905366789721274,
           18.54201632521124,
           14.619397240333345,
           11.873661048168335,
           13.4134054246379,
           10.73835670857851,
           12.076018696288997,
           6.574033084610075,
           7.164466866876868,
           6.89329700909671,
           6.829109373288926,
           6.746627707421981,
           6.863740863673281,
           6.707955992435556,
           6.785329252596008,
           6.778135811762036,
           6.816130092799679,
           7.226621017829069,
           6.786599181208185,
           7.732891866829236,
           7.077034946486064,
           6.782620004829789,
           7.956868870918778,
           6.690157136475965,
           7.150296006648995,
           10.16522797067382,
           8.459473245120472,
           8.150787410386533,
           7.993581861472253,
           8.247249704185506,
           8.638160337405768,
           12.644751083816145,
           10.819921079723416,
           10.78754036223628,
           9.359520018628261,
           9.868319291632618,
           10.541376654829984,
           19.21374102058866,
           13.8003011529344,
           12.917795194316978,
           11.935270358000974,
           12.634172785531344,
           10.985947599680015,
           6.705838697352402,
           6.515329574398943,
           6.604794096174506,
           6.8142506244274825,
           6.86897789061279,
           6.506505294015631,
           6.726402836753328,
           6.824624597234509,
           6.8590870829260275,
           6.904865164009765,
           7.467798647711023,
           7.26719711783319,
           7.528249730476628,
           6.893449928924493,
           6.780557322917845,
           7.378433450206585,
           7.067711056300853,
           7.450189082302072,
           9.296945820066286,
           8.132705988061197,
           8.182308101078004,
           8.481732065941369,
           8.210483743854063,
           8.472250841321811,
           12.17467225570603,
           10.095776005006625,
           9.905993791784336,
           9.331247567767416,
           9.702010551100743,
           10.404490727321608,
           17.58414915850742,
           13.463163610208268,
           12.543756529948396,
           12.273663143617412,
           11.354217385736458,
           11.008677776409849
          ],
          "coloraxis": "coloraxis",
          "symbol": "circle"
         },
         "mode": "markers",
         "name": "",
         "scene": "scene",
         "showlegend": false,
         "type": "scatter3d",
         "x": [
          0,
          0,
          0,
          0,
          0,
          0,
          0,
          0,
          0,
          0,
          0,
          0,
          0,
          0,
          0,
          0,
          0,
          0,
          0,
          0,
          0,
          0,
          0,
          0,
          0,
          0,
          0,
          0,
          0,
          0,
          0,
          0,
          0,
          0,
          0,
          0,
          1,
          1,
          1,
          1,
          1,
          1,
          1,
          1,
          1,
          1,
          1,
          1,
          1,
          1,
          1,
          1,
          1,
          1,
          1,
          1,
          1,
          1,
          1,
          1,
          1,
          1,
          1,
          1,
          1,
          1,
          1,
          1,
          1,
          1,
          1,
          1,
          2,
          2,
          2,
          2,
          2,
          2,
          2,
          2,
          2,
          2,
          2,
          2,
          2,
          2,
          2,
          2,
          2,
          2,
          2,
          2,
          2,
          2,
          2,
          2,
          2,
          2,
          2,
          2,
          2,
          2,
          2,
          2,
          2,
          2,
          2,
          2,
          3,
          3,
          3,
          3,
          3,
          3,
          3,
          3,
          3,
          3,
          3,
          3,
          3,
          3,
          3,
          3,
          3,
          3,
          3,
          3,
          3,
          3,
          3,
          3,
          3,
          3,
          3,
          3,
          3,
          3,
          3,
          3,
          3,
          3,
          3,
          3,
          4,
          4,
          4,
          4,
          4,
          4,
          4,
          4,
          4,
          4,
          4,
          4,
          4,
          4,
          4,
          4,
          4,
          4,
          4,
          4,
          4,
          4,
          4,
          4,
          4,
          4,
          4,
          4,
          4,
          4,
          4,
          4,
          4,
          4,
          4,
          4,
          5,
          5,
          5,
          5,
          5,
          5,
          5,
          5,
          5,
          5,
          5,
          5,
          5,
          5,
          5,
          5,
          5,
          5,
          5,
          5,
          5,
          5,
          5,
          5,
          5,
          5,
          5,
          5,
          5,
          5,
          5,
          5,
          5,
          5,
          5,
          5
         ],
         "y": [
          0,
          0,
          0,
          0,
          0,
          0,
          1,
          1,
          1,
          1,
          1,
          1,
          2,
          2,
          2,
          2,
          2,
          2,
          3,
          3,
          3,
          3,
          3,
          3,
          4,
          4,
          4,
          4,
          4,
          4,
          5,
          5,
          5,
          5,
          5,
          5,
          0,
          0,
          0,
          0,
          0,
          0,
          1,
          1,
          1,
          1,
          1,
          1,
          2,
          2,
          2,
          2,
          2,
          2,
          3,
          3,
          3,
          3,
          3,
          3,
          4,
          4,
          4,
          4,
          4,
          4,
          5,
          5,
          5,
          5,
          5,
          5,
          0,
          0,
          0,
          0,
          0,
          0,
          1,
          1,
          1,
          1,
          1,
          1,
          2,
          2,
          2,
          2,
          2,
          2,
          3,
          3,
          3,
          3,
          3,
          3,
          4,
          4,
          4,
          4,
          4,
          4,
          5,
          5,
          5,
          5,
          5,
          5,
          0,
          0,
          0,
          0,
          0,
          0,
          1,
          1,
          1,
          1,
          1,
          1,
          2,
          2,
          2,
          2,
          2,
          2,
          3,
          3,
          3,
          3,
          3,
          3,
          4,
          4,
          4,
          4,
          4,
          4,
          5,
          5,
          5,
          5,
          5,
          5,
          0,
          0,
          0,
          0,
          0,
          0,
          1,
          1,
          1,
          1,
          1,
          1,
          2,
          2,
          2,
          2,
          2,
          2,
          3,
          3,
          3,
          3,
          3,
          3,
          4,
          4,
          4,
          4,
          4,
          4,
          5,
          5,
          5,
          5,
          5,
          5,
          0,
          0,
          0,
          0,
          0,
          0,
          1,
          1,
          1,
          1,
          1,
          1,
          2,
          2,
          2,
          2,
          2,
          2,
          3,
          3,
          3,
          3,
          3,
          3,
          4,
          4,
          4,
          4,
          4,
          4,
          5,
          5,
          5,
          5,
          5,
          5
         ],
         "z": [
          0,
          1,
          2,
          3,
          4,
          5,
          0,
          1,
          2,
          3,
          4,
          5,
          0,
          1,
          2,
          3,
          4,
          5,
          0,
          1,
          2,
          3,
          4,
          5,
          0,
          1,
          2,
          3,
          4,
          5,
          0,
          1,
          2,
          3,
          4,
          5,
          0,
          1,
          2,
          3,
          4,
          5,
          0,
          1,
          2,
          3,
          4,
          5,
          0,
          1,
          2,
          3,
          4,
          5,
          0,
          1,
          2,
          3,
          4,
          5,
          0,
          1,
          2,
          3,
          4,
          5,
          0,
          1,
          2,
          3,
          4,
          5,
          0,
          1,
          2,
          3,
          4,
          5,
          0,
          1,
          2,
          3,
          4,
          5,
          0,
          1,
          2,
          3,
          4,
          5,
          0,
          1,
          2,
          3,
          4,
          5,
          0,
          1,
          2,
          3,
          4,
          5,
          0,
          1,
          2,
          3,
          4,
          5,
          0,
          1,
          2,
          3,
          4,
          5,
          0,
          1,
          2,
          3,
          4,
          5,
          0,
          1,
          2,
          3,
          4,
          5,
          0,
          1,
          2,
          3,
          4,
          5,
          0,
          1,
          2,
          3,
          4,
          5,
          0,
          1,
          2,
          3,
          4,
          5,
          0,
          1,
          2,
          3,
          4,
          5,
          0,
          1,
          2,
          3,
          4,
          5,
          0,
          1,
          2,
          3,
          4,
          5,
          0,
          1,
          2,
          3,
          4,
          5,
          0,
          1,
          2,
          3,
          4,
          5,
          0,
          1,
          2,
          3,
          4,
          5,
          0,
          1,
          2,
          3,
          4,
          5,
          0,
          1,
          2,
          3,
          4,
          5,
          0,
          1,
          2,
          3,
          4,
          5,
          0,
          1,
          2,
          3,
          4,
          5,
          0,
          1,
          2,
          3,
          4,
          5,
          0,
          1,
          2,
          3,
          4,
          5
         ]
        }
       ],
       "layout": {
        "coloraxis": {
         "cmax": 9,
         "cmin": 6,
         "colorbar": {
          "title": {
           "text": "val"
          }
         },
         "colorscale": [
          [
           0,
           "#0d0887"
          ],
          [
           0.1111111111111111,
           "#46039f"
          ],
          [
           0.2222222222222222,
           "#7201a8"
          ],
          [
           0.3333333333333333,
           "#9c179e"
          ],
          [
           0.4444444444444444,
           "#bd3786"
          ],
          [
           0.5555555555555556,
           "#d8576b"
          ],
          [
           0.6666666666666666,
           "#ed7953"
          ],
          [
           0.7777777777777778,
           "#fb9f3a"
          ],
          [
           0.8888888888888888,
           "#fdca26"
          ],
          [
           1,
           "#f0f921"
          ]
         ]
        },
        "legend": {
         "tracegroupgap": 0
        },
        "margin": {
         "t": 60
        },
        "scene": {
         "domain": {
          "x": [
           0,
           1
          ],
          "y": [
           0,
           1
          ]
         },
         "xaxis": {
          "title": {
           "text": "p"
          }
         },
         "yaxis": {
          "title": {
           "text": "d"
          }
         },
         "zaxis": {
          "title": {
           "text": "q"
          }
         }
        },
        "template": {
         "data": {
          "bar": [
           {
            "error_x": {
             "color": "#2a3f5f"
            },
            "error_y": {
             "color": "#2a3f5f"
            },
            "marker": {
             "line": {
              "color": "#E5ECF6",
              "width": 0.5
             },
             "pattern": {
              "fillmode": "overlay",
              "size": 10,
              "solidity": 0.2
             }
            },
            "type": "bar"
           }
          ],
          "barpolar": [
           {
            "marker": {
             "line": {
              "color": "#E5ECF6",
              "width": 0.5
             },
             "pattern": {
              "fillmode": "overlay",
              "size": 10,
              "solidity": 0.2
             }
            },
            "type": "barpolar"
           }
          ],
          "carpet": [
           {
            "aaxis": {
             "endlinecolor": "#2a3f5f",
             "gridcolor": "white",
             "linecolor": "white",
             "minorgridcolor": "white",
             "startlinecolor": "#2a3f5f"
            },
            "baxis": {
             "endlinecolor": "#2a3f5f",
             "gridcolor": "white",
             "linecolor": "white",
             "minorgridcolor": "white",
             "startlinecolor": "#2a3f5f"
            },
            "type": "carpet"
           }
          ],
          "choropleth": [
           {
            "colorbar": {
             "outlinewidth": 0,
             "ticks": ""
            },
            "type": "choropleth"
           }
          ],
          "contour": [
           {
            "colorbar": {
             "outlinewidth": 0,
             "ticks": ""
            },
            "colorscale": [
             [
              0,
              "#0d0887"
             ],
             [
              0.1111111111111111,
              "#46039f"
             ],
             [
              0.2222222222222222,
              "#7201a8"
             ],
             [
              0.3333333333333333,
              "#9c179e"
             ],
             [
              0.4444444444444444,
              "#bd3786"
             ],
             [
              0.5555555555555556,
              "#d8576b"
             ],
             [
              0.6666666666666666,
              "#ed7953"
             ],
             [
              0.7777777777777778,
              "#fb9f3a"
             ],
             [
              0.8888888888888888,
              "#fdca26"
             ],
             [
              1,
              "#f0f921"
             ]
            ],
            "type": "contour"
           }
          ],
          "contourcarpet": [
           {
            "colorbar": {
             "outlinewidth": 0,
             "ticks": ""
            },
            "type": "contourcarpet"
           }
          ],
          "heatmap": [
           {
            "colorbar": {
             "outlinewidth": 0,
             "ticks": ""
            },
            "colorscale": [
             [
              0,
              "#0d0887"
             ],
             [
              0.1111111111111111,
              "#46039f"
             ],
             [
              0.2222222222222222,
              "#7201a8"
             ],
             [
              0.3333333333333333,
              "#9c179e"
             ],
             [
              0.4444444444444444,
              "#bd3786"
             ],
             [
              0.5555555555555556,
              "#d8576b"
             ],
             [
              0.6666666666666666,
              "#ed7953"
             ],
             [
              0.7777777777777778,
              "#fb9f3a"
             ],
             [
              0.8888888888888888,
              "#fdca26"
             ],
             [
              1,
              "#f0f921"
             ]
            ],
            "type": "heatmap"
           }
          ],
          "heatmapgl": [
           {
            "colorbar": {
             "outlinewidth": 0,
             "ticks": ""
            },
            "colorscale": [
             [
              0,
              "#0d0887"
             ],
             [
              0.1111111111111111,
              "#46039f"
             ],
             [
              0.2222222222222222,
              "#7201a8"
             ],
             [
              0.3333333333333333,
              "#9c179e"
             ],
             [
              0.4444444444444444,
              "#bd3786"
             ],
             [
              0.5555555555555556,
              "#d8576b"
             ],
             [
              0.6666666666666666,
              "#ed7953"
             ],
             [
              0.7777777777777778,
              "#fb9f3a"
             ],
             [
              0.8888888888888888,
              "#fdca26"
             ],
             [
              1,
              "#f0f921"
             ]
            ],
            "type": "heatmapgl"
           }
          ],
          "histogram": [
           {
            "marker": {
             "pattern": {
              "fillmode": "overlay",
              "size": 10,
              "solidity": 0.2
             }
            },
            "type": "histogram"
           }
          ],
          "histogram2d": [
           {
            "colorbar": {
             "outlinewidth": 0,
             "ticks": ""
            },
            "colorscale": [
             [
              0,
              "#0d0887"
             ],
             [
              0.1111111111111111,
              "#46039f"
             ],
             [
              0.2222222222222222,
              "#7201a8"
             ],
             [
              0.3333333333333333,
              "#9c179e"
             ],
             [
              0.4444444444444444,
              "#bd3786"
             ],
             [
              0.5555555555555556,
              "#d8576b"
             ],
             [
              0.6666666666666666,
              "#ed7953"
             ],
             [
              0.7777777777777778,
              "#fb9f3a"
             ],
             [
              0.8888888888888888,
              "#fdca26"
             ],
             [
              1,
              "#f0f921"
             ]
            ],
            "type": "histogram2d"
           }
          ],
          "histogram2dcontour": [
           {
            "colorbar": {
             "outlinewidth": 0,
             "ticks": ""
            },
            "colorscale": [
             [
              0,
              "#0d0887"
             ],
             [
              0.1111111111111111,
              "#46039f"
             ],
             [
              0.2222222222222222,
              "#7201a8"
             ],
             [
              0.3333333333333333,
              "#9c179e"
             ],
             [
              0.4444444444444444,
              "#bd3786"
             ],
             [
              0.5555555555555556,
              "#d8576b"
             ],
             [
              0.6666666666666666,
              "#ed7953"
             ],
             [
              0.7777777777777778,
              "#fb9f3a"
             ],
             [
              0.8888888888888888,
              "#fdca26"
             ],
             [
              1,
              "#f0f921"
             ]
            ],
            "type": "histogram2dcontour"
           }
          ],
          "mesh3d": [
           {
            "colorbar": {
             "outlinewidth": 0,
             "ticks": ""
            },
            "type": "mesh3d"
           }
          ],
          "parcoords": [
           {
            "line": {
             "colorbar": {
              "outlinewidth": 0,
              "ticks": ""
             }
            },
            "type": "parcoords"
           }
          ],
          "pie": [
           {
            "automargin": true,
            "type": "pie"
           }
          ],
          "scatter": [
           {
            "fillpattern": {
             "fillmode": "overlay",
             "size": 10,
             "solidity": 0.2
            },
            "type": "scatter"
           }
          ],
          "scatter3d": [
           {
            "line": {
             "colorbar": {
              "outlinewidth": 0,
              "ticks": ""
             }
            },
            "marker": {
             "colorbar": {
              "outlinewidth": 0,
              "ticks": ""
             }
            },
            "type": "scatter3d"
           }
          ],
          "scattercarpet": [
           {
            "marker": {
             "colorbar": {
              "outlinewidth": 0,
              "ticks": ""
             }
            },
            "type": "scattercarpet"
           }
          ],
          "scattergeo": [
           {
            "marker": {
             "colorbar": {
              "outlinewidth": 0,
              "ticks": ""
             }
            },
            "type": "scattergeo"
           }
          ],
          "scattergl": [
           {
            "marker": {
             "colorbar": {
              "outlinewidth": 0,
              "ticks": ""
             }
            },
            "type": "scattergl"
           }
          ],
          "scattermapbox": [
           {
            "marker": {
             "colorbar": {
              "outlinewidth": 0,
              "ticks": ""
             }
            },
            "type": "scattermapbox"
           }
          ],
          "scatterpolar": [
           {
            "marker": {
             "colorbar": {
              "outlinewidth": 0,
              "ticks": ""
             }
            },
            "type": "scatterpolar"
           }
          ],
          "scatterpolargl": [
           {
            "marker": {
             "colorbar": {
              "outlinewidth": 0,
              "ticks": ""
             }
            },
            "type": "scatterpolargl"
           }
          ],
          "scatterternary": [
           {
            "marker": {
             "colorbar": {
              "outlinewidth": 0,
              "ticks": ""
             }
            },
            "type": "scatterternary"
           }
          ],
          "surface": [
           {
            "colorbar": {
             "outlinewidth": 0,
             "ticks": ""
            },
            "colorscale": [
             [
              0,
              "#0d0887"
             ],
             [
              0.1111111111111111,
              "#46039f"
             ],
             [
              0.2222222222222222,
              "#7201a8"
             ],
             [
              0.3333333333333333,
              "#9c179e"
             ],
             [
              0.4444444444444444,
              "#bd3786"
             ],
             [
              0.5555555555555556,
              "#d8576b"
             ],
             [
              0.6666666666666666,
              "#ed7953"
             ],
             [
              0.7777777777777778,
              "#fb9f3a"
             ],
             [
              0.8888888888888888,
              "#fdca26"
             ],
             [
              1,
              "#f0f921"
             ]
            ],
            "type": "surface"
           }
          ],
          "table": [
           {
            "cells": {
             "fill": {
              "color": "#EBF0F8"
             },
             "line": {
              "color": "white"
             }
            },
            "header": {
             "fill": {
              "color": "#C8D4E3"
             },
             "line": {
              "color": "white"
             }
            },
            "type": "table"
           }
          ]
         },
         "layout": {
          "annotationdefaults": {
           "arrowcolor": "#2a3f5f",
           "arrowhead": 0,
           "arrowwidth": 1
          },
          "autotypenumbers": "strict",
          "coloraxis": {
           "colorbar": {
            "outlinewidth": 0,
            "ticks": ""
           }
          },
          "colorscale": {
           "diverging": [
            [
             0,
             "#8e0152"
            ],
            [
             0.1,
             "#c51b7d"
            ],
            [
             0.2,
             "#de77ae"
            ],
            [
             0.3,
             "#f1b6da"
            ],
            [
             0.4,
             "#fde0ef"
            ],
            [
             0.5,
             "#f7f7f7"
            ],
            [
             0.6,
             "#e6f5d0"
            ],
            [
             0.7,
             "#b8e186"
            ],
            [
             0.8,
             "#7fbc41"
            ],
            [
             0.9,
             "#4d9221"
            ],
            [
             1,
             "#276419"
            ]
           ],
           "sequential": [
            [
             0,
             "#0d0887"
            ],
            [
             0.1111111111111111,
             "#46039f"
            ],
            [
             0.2222222222222222,
             "#7201a8"
            ],
            [
             0.3333333333333333,
             "#9c179e"
            ],
            [
             0.4444444444444444,
             "#bd3786"
            ],
            [
             0.5555555555555556,
             "#d8576b"
            ],
            [
             0.6666666666666666,
             "#ed7953"
            ],
            [
             0.7777777777777778,
             "#fb9f3a"
            ],
            [
             0.8888888888888888,
             "#fdca26"
            ],
            [
             1,
             "#f0f921"
            ]
           ],
           "sequentialminus": [
            [
             0,
             "#0d0887"
            ],
            [
             0.1111111111111111,
             "#46039f"
            ],
            [
             0.2222222222222222,
             "#7201a8"
            ],
            [
             0.3333333333333333,
             "#9c179e"
            ],
            [
             0.4444444444444444,
             "#bd3786"
            ],
            [
             0.5555555555555556,
             "#d8576b"
            ],
            [
             0.6666666666666666,
             "#ed7953"
            ],
            [
             0.7777777777777778,
             "#fb9f3a"
            ],
            [
             0.8888888888888888,
             "#fdca26"
            ],
            [
             1,
             "#f0f921"
            ]
           ]
          },
          "colorway": [
           "#636efa",
           "#EF553B",
           "#00cc96",
           "#ab63fa",
           "#FFA15A",
           "#19d3f3",
           "#FF6692",
           "#B6E880",
           "#FF97FF",
           "#FECB52"
          ],
          "font": {
           "color": "#2a3f5f"
          },
          "geo": {
           "bgcolor": "white",
           "lakecolor": "white",
           "landcolor": "#E5ECF6",
           "showlakes": true,
           "showland": true,
           "subunitcolor": "white"
          },
          "hoverlabel": {
           "align": "left"
          },
          "hovermode": "closest",
          "mapbox": {
           "style": "light"
          },
          "paper_bgcolor": "white",
          "plot_bgcolor": "#E5ECF6",
          "polar": {
           "angularaxis": {
            "gridcolor": "white",
            "linecolor": "white",
            "ticks": ""
           },
           "bgcolor": "#E5ECF6",
           "radialaxis": {
            "gridcolor": "white",
            "linecolor": "white",
            "ticks": ""
           }
          },
          "scene": {
           "xaxis": {
            "backgroundcolor": "#E5ECF6",
            "gridcolor": "white",
            "gridwidth": 2,
            "linecolor": "white",
            "showbackground": true,
            "ticks": "",
            "zerolinecolor": "white"
           },
           "yaxis": {
            "backgroundcolor": "#E5ECF6",
            "gridcolor": "white",
            "gridwidth": 2,
            "linecolor": "white",
            "showbackground": true,
            "ticks": "",
            "zerolinecolor": "white"
           },
           "zaxis": {
            "backgroundcolor": "#E5ECF6",
            "gridcolor": "white",
            "gridwidth": 2,
            "linecolor": "white",
            "showbackground": true,
            "ticks": "",
            "zerolinecolor": "white"
           }
          },
          "shapedefaults": {
           "line": {
            "color": "#2a3f5f"
           }
          },
          "ternary": {
           "aaxis": {
            "gridcolor": "white",
            "linecolor": "white",
            "ticks": ""
           },
           "baxis": {
            "gridcolor": "white",
            "linecolor": "white",
            "ticks": ""
           },
           "bgcolor": "#E5ECF6",
           "caxis": {
            "gridcolor": "white",
            "linecolor": "white",
            "ticks": ""
           }
          },
          "title": {
           "x": 0.05
          },
          "xaxis": {
           "automargin": true,
           "gridcolor": "white",
           "linecolor": "white",
           "ticks": "",
           "title": {
            "standoff": 15
           },
           "zerolinecolor": "white",
           "zerolinewidth": 2
          },
          "yaxis": {
           "automargin": true,
           "gridcolor": "white",
           "linecolor": "white",
           "ticks": "",
           "title": {
            "standoff": 15
           },
           "zerolinecolor": "white",
           "zerolinewidth": 2
          }
         }
        }
       }
      }
     },
     "metadata": {},
     "output_type": "display_data"
    }
   ],
   "source": [
    "# finding parameters\n",
    "\n",
    "# I'll use train data up to the cutoff date, leaving the remainder for test data.\n",
    "cutoff = '2020-12-31'\n",
    "\n",
    "# string to datatime\n",
    "cutoff = pd.to_datetime(cutoff)\n",
    "\n",
    "# instantiate empty containers, run counter.\n",
    "train_dict = {}\n",
    "test_dict = {}\n",
    "run_num = 0\n",
    "\n",
    "# iterate through possible p, d, and q values\n",
    "for p in range(0,6):\n",
    "    for d in range(0,6):\n",
    "        for q in range(0,6):\n",
    "\n",
    "            # provide an update for the slow process\n",
    "            print(f\"Running series p {p}, d {d}, q {q}\",end=\"\\r\")\n",
    "            \n",
    "            # there are often errors due to poor fits, so try is used to ignore these and keep iterating\n",
    "            try:\n",
    "                \n",
    "                # copy df so parent isn't modified\n",
    "                predict_df = summary_df.copy(deep=True)\n",
    "                \n",
    "                # rearrange dataframe to account for train/test\n",
    "                predict_df.index = pd.to_datetime(predict_df.index)\n",
    "                first_day = predict_df.index.min()\n",
    "                last_day = predict_df.index.max()\n",
    "                full_range = pd.date_range(start=first_day, end=last_day, freq=\"Q\")\n",
    "                \n",
    "                # fill any blanks\n",
    "                predict_df.fillna(method='ffill',inplace=True)\n",
    "\n",
    "                # instantiate train/test\n",
    "                train = predict_df.loc[predict_df.index <= cutoff].dropna()\n",
    "                test = predict_df.loc[predict_df.index > cutoff]\n",
    "\n",
    "                # model, fit to train\n",
    "                model = SARIMAX(train, order=(p, d, q), trend=\"c\")\n",
    "                model_fit = model.fit(disp=0)\n",
    "\n",
    "                # predicted fit\n",
    "                predictions = model_fit.predict(start=0, end=len(train)+len(test)-1)\n",
    "                \n",
    "                # deterine evaluation metrics\n",
    "                train_smape = symmetric_mean_absolute_percentage_error(pd.Series(list(train['Prescriptions'])), pd.Series(list(predictions[train.index])))\n",
    "                test_smape = symmetric_mean_absolute_percentage_error(pd.Series(list(test['Prescriptions'])), pd.Series(list(predictions[test.index])))\n",
    "\n",
    "                # convert to dfs\n",
    "                train_dict[run_num] = {'p':p,'d':d,'q':q,'val':train_smape}\n",
    "                test_dict[run_num] = {'p':p,'d':d,'q':q,'val':test_smape}\n",
    "                \n",
    "                # increment\n",
    "                run_num+=1\n",
    "            except:\n",
    "                pass\n",
    "\n",
    "# dicts to df\n",
    "train_vals_df = (pd.DataFrame(train_dict).T)\n",
    "test_vals_df = (pd.DataFrame(test_dict).T)\n",
    "\n",
    "# plot parameters versus train SMAPE\n",
    "px.scatter_3d(train_vals_df, x='p',y='d',z='q',color='val',range_color=[6,9]).show()"
   ]
  },
  {
   "attachments": {},
   "cell_type": "markdown",
   "metadata": {},
   "source": [
    "Based on the visualization the best parameters appear to be between d = and with p and q values of at least . The data are reduced to be a bit more manageable below."
   ]
  },
  {
   "cell_type": "code",
   "execution_count": 57,
   "metadata": {},
   "outputs": [
    {
     "data": {
      "application/vnd.plotly.v1+json": {
       "config": {
        "plotlyServerURL": "https://plot.ly"
       },
       "data": [
        {
         "hovertemplate": "p=%{x}<br>d=%{y}<br>q=%{z}<br>val=%{marker.color}<extra></extra>",
         "legendgroup": "",
         "marker": {
          "color": [
           4.292026974380814,
           4.814872389467798,
           5.8509607593464334,
           6.534791356548073,
           6.2134233941792125,
           5.99440231733359,
           6.182423795179734,
           8.456916831141994,
           6.755191242739743,
           7.810246634684774,
           8.229063371124406,
           7.740158881966558,
           5.3945038474760345,
           6.204463601390362,
           5.918985239571843,
           6.480157544404635,
           8.980003715842576,
           8.714989947872674,
           8.988760248836002,
           4.80973849032312,
           5.206637235244999,
           5.686777047775594,
           6.674455648052245,
           6.369714066337121,
           6.2145617917766955,
           7.1701507775211475,
           7.480049034077158,
           5.460252557466617,
           7.007332140474135,
           7.29790343224613,
           7.50021613979152,
           4.807456752892872,
           4.039967412446004,
           5.9744279520770265,
           8.417974132661227,
           8.310660919113763,
           8.626696819244755,
           8.477265848474495,
           5.974497830430376,
           6.454952914830965,
           6.318829170472547,
           6.443628809756885,
           7.029288229128603,
           7.005574366422515,
           5.85813968827142,
           7.874237003987648,
           7.623327509949231,
           7.173722386812685,
           6.234056076640796,
           6.297074083209946,
           5.80312033545008,
           6.2352880386005385,
           5.6827625251937075,
           5.607143725904061,
           5.934821300515003,
           6.828762176763686,
           6.920437525270784,
           7.921590896758943,
           7.798513822056652,
           7.810276161190249,
           7.963260022245734,
           6.286970464533045,
           6.2551029973561105,
           6.314220555121727,
           6.29840437918905,
           6.976483144254199,
           5.266649438535708,
           7.385960562942586,
           8.137731599856572,
           6.027988066251423,
           6.0744730766931285,
           5.70640379125292,
           5.721892978517561,
           5.509525268298206,
           5.519966205138212,
           6.48689916620308,
           6.390557571543492,
           5.671072836315641,
           6.55677796993499,
           6.513787821212064,
           6.5442282069004225,
           6.430643528726806,
           6.492165410682606,
           6.105492840722804,
           5.288457773350893,
           7.635376545987968,
           6.899043382535182,
           6.46239128846581,
           6.233441786497313,
           6.67514180966309,
           5.833267172764267,
           5.786032960982497,
           5.644030313656181,
           6.2318670787756005,
           6.476196969158581,
           6.328871420687633,
           6.335426626877745,
           5.042248755327041,
           4.959265480251334,
           5.557854208285095,
           5.44786131261569,
           6.1809639781562815,
           6.651138344064389,
           6.421268717195641,
           5.7102631018686605,
           6.099873326562859,
           6.148639280442897,
           6.851755620921865,
           6.453570647627733,
           6.410085176716085
          ],
          "coloraxis": "coloraxis",
          "symbol": "circle"
         },
         "mode": "markers",
         "name": "",
         "scene": "scene",
         "showlegend": false,
         "type": "scatter3d",
         "x": [
          0,
          0,
          0,
          0,
          0,
          0,
          0,
          0,
          0,
          0,
          0,
          0,
          0,
          0,
          0,
          0,
          0,
          0,
          1,
          1,
          1,
          1,
          1,
          1,
          1,
          1,
          1,
          1,
          1,
          1,
          1,
          1,
          1,
          1,
          1,
          2,
          2,
          2,
          2,
          2,
          2,
          2,
          2,
          2,
          2,
          2,
          2,
          2,
          2,
          2,
          2,
          2,
          2,
          2,
          2,
          2,
          2,
          3,
          3,
          3,
          3,
          3,
          3,
          3,
          3,
          3,
          3,
          3,
          3,
          3,
          3,
          3,
          3,
          3,
          3,
          3,
          3,
          3,
          3,
          4,
          4,
          4,
          4,
          4,
          4,
          4,
          4,
          4,
          4,
          4,
          4,
          4,
          4,
          4,
          4,
          4,
          5,
          5,
          5,
          5,
          5,
          5,
          5,
          5,
          5,
          5,
          5,
          5,
          5,
          5
         ],
         "y": [
          1,
          1,
          1,
          1,
          1,
          1,
          2,
          2,
          2,
          2,
          2,
          2,
          3,
          3,
          3,
          4,
          4,
          5,
          0,
          1,
          1,
          1,
          1,
          1,
          1,
          2,
          2,
          2,
          2,
          2,
          2,
          3,
          3,
          3,
          4,
          0,
          0,
          0,
          1,
          1,
          1,
          1,
          1,
          1,
          2,
          2,
          2,
          2,
          2,
          2,
          3,
          3,
          3,
          3,
          4,
          4,
          4,
          0,
          0,
          0,
          0,
          1,
          1,
          1,
          1,
          1,
          1,
          2,
          2,
          2,
          2,
          3,
          3,
          3,
          3,
          3,
          4,
          4,
          4,
          1,
          1,
          1,
          1,
          1,
          1,
          2,
          2,
          2,
          2,
          3,
          3,
          3,
          3,
          3,
          4,
          4,
          1,
          1,
          1,
          1,
          1,
          1,
          2,
          3,
          3,
          3,
          3,
          4,
          4,
          4
         ],
         "z": [
          0,
          1,
          2,
          3,
          4,
          5,
          0,
          1,
          2,
          3,
          4,
          5,
          2,
          3,
          4,
          2,
          4,
          5,
          1,
          0,
          1,
          2,
          3,
          4,
          5,
          0,
          1,
          2,
          3,
          4,
          5,
          2,
          3,
          4,
          2,
          1,
          2,
          5,
          0,
          1,
          2,
          3,
          4,
          5,
          0,
          1,
          2,
          3,
          4,
          5,
          1,
          2,
          3,
          4,
          2,
          3,
          4,
          0,
          1,
          2,
          3,
          0,
          1,
          2,
          3,
          4,
          5,
          0,
          3,
          4,
          5,
          1,
          2,
          3,
          4,
          5,
          2,
          3,
          4,
          0,
          1,
          2,
          3,
          4,
          5,
          0,
          2,
          4,
          5,
          0,
          1,
          2,
          3,
          4,
          3,
          4,
          0,
          1,
          2,
          3,
          4,
          5,
          5,
          0,
          1,
          2,
          4,
          1,
          2,
          3
         ]
        }
       ],
       "layout": {
        "coloraxis": {
         "cmax": 5.85275549157768,
         "cmin": 4.039967412446004,
         "colorbar": {
          "title": {
           "text": "val"
          }
         },
         "colorscale": [
          [
           0,
           "#0d0887"
          ],
          [
           0.1111111111111111,
           "#46039f"
          ],
          [
           0.2222222222222222,
           "#7201a8"
          ],
          [
           0.3333333333333333,
           "#9c179e"
          ],
          [
           0.4444444444444444,
           "#bd3786"
          ],
          [
           0.5555555555555556,
           "#d8576b"
          ],
          [
           0.6666666666666666,
           "#ed7953"
          ],
          [
           0.7777777777777778,
           "#fb9f3a"
          ],
          [
           0.8888888888888888,
           "#fdca26"
          ],
          [
           1,
           "#f0f921"
          ]
         ]
        },
        "legend": {
         "tracegroupgap": 0
        },
        "margin": {
         "t": 60
        },
        "scene": {
         "domain": {
          "x": [
           0,
           1
          ],
          "y": [
           0,
           1
          ]
         },
         "xaxis": {
          "title": {
           "text": "p"
          }
         },
         "yaxis": {
          "title": {
           "text": "d"
          }
         },
         "zaxis": {
          "title": {
           "text": "q"
          }
         }
        },
        "template": {
         "data": {
          "bar": [
           {
            "error_x": {
             "color": "#2a3f5f"
            },
            "error_y": {
             "color": "#2a3f5f"
            },
            "marker": {
             "line": {
              "color": "#E5ECF6",
              "width": 0.5
             },
             "pattern": {
              "fillmode": "overlay",
              "size": 10,
              "solidity": 0.2
             }
            },
            "type": "bar"
           }
          ],
          "barpolar": [
           {
            "marker": {
             "line": {
              "color": "#E5ECF6",
              "width": 0.5
             },
             "pattern": {
              "fillmode": "overlay",
              "size": 10,
              "solidity": 0.2
             }
            },
            "type": "barpolar"
           }
          ],
          "carpet": [
           {
            "aaxis": {
             "endlinecolor": "#2a3f5f",
             "gridcolor": "white",
             "linecolor": "white",
             "minorgridcolor": "white",
             "startlinecolor": "#2a3f5f"
            },
            "baxis": {
             "endlinecolor": "#2a3f5f",
             "gridcolor": "white",
             "linecolor": "white",
             "minorgridcolor": "white",
             "startlinecolor": "#2a3f5f"
            },
            "type": "carpet"
           }
          ],
          "choropleth": [
           {
            "colorbar": {
             "outlinewidth": 0,
             "ticks": ""
            },
            "type": "choropleth"
           }
          ],
          "contour": [
           {
            "colorbar": {
             "outlinewidth": 0,
             "ticks": ""
            },
            "colorscale": [
             [
              0,
              "#0d0887"
             ],
             [
              0.1111111111111111,
              "#46039f"
             ],
             [
              0.2222222222222222,
              "#7201a8"
             ],
             [
              0.3333333333333333,
              "#9c179e"
             ],
             [
              0.4444444444444444,
              "#bd3786"
             ],
             [
              0.5555555555555556,
              "#d8576b"
             ],
             [
              0.6666666666666666,
              "#ed7953"
             ],
             [
              0.7777777777777778,
              "#fb9f3a"
             ],
             [
              0.8888888888888888,
              "#fdca26"
             ],
             [
              1,
              "#f0f921"
             ]
            ],
            "type": "contour"
           }
          ],
          "contourcarpet": [
           {
            "colorbar": {
             "outlinewidth": 0,
             "ticks": ""
            },
            "type": "contourcarpet"
           }
          ],
          "heatmap": [
           {
            "colorbar": {
             "outlinewidth": 0,
             "ticks": ""
            },
            "colorscale": [
             [
              0,
              "#0d0887"
             ],
             [
              0.1111111111111111,
              "#46039f"
             ],
             [
              0.2222222222222222,
              "#7201a8"
             ],
             [
              0.3333333333333333,
              "#9c179e"
             ],
             [
              0.4444444444444444,
              "#bd3786"
             ],
             [
              0.5555555555555556,
              "#d8576b"
             ],
             [
              0.6666666666666666,
              "#ed7953"
             ],
             [
              0.7777777777777778,
              "#fb9f3a"
             ],
             [
              0.8888888888888888,
              "#fdca26"
             ],
             [
              1,
              "#f0f921"
             ]
            ],
            "type": "heatmap"
           }
          ],
          "heatmapgl": [
           {
            "colorbar": {
             "outlinewidth": 0,
             "ticks": ""
            },
            "colorscale": [
             [
              0,
              "#0d0887"
             ],
             [
              0.1111111111111111,
              "#46039f"
             ],
             [
              0.2222222222222222,
              "#7201a8"
             ],
             [
              0.3333333333333333,
              "#9c179e"
             ],
             [
              0.4444444444444444,
              "#bd3786"
             ],
             [
              0.5555555555555556,
              "#d8576b"
             ],
             [
              0.6666666666666666,
              "#ed7953"
             ],
             [
              0.7777777777777778,
              "#fb9f3a"
             ],
             [
              0.8888888888888888,
              "#fdca26"
             ],
             [
              1,
              "#f0f921"
             ]
            ],
            "type": "heatmapgl"
           }
          ],
          "histogram": [
           {
            "marker": {
             "pattern": {
              "fillmode": "overlay",
              "size": 10,
              "solidity": 0.2
             }
            },
            "type": "histogram"
           }
          ],
          "histogram2d": [
           {
            "colorbar": {
             "outlinewidth": 0,
             "ticks": ""
            },
            "colorscale": [
             [
              0,
              "#0d0887"
             ],
             [
              0.1111111111111111,
              "#46039f"
             ],
             [
              0.2222222222222222,
              "#7201a8"
             ],
             [
              0.3333333333333333,
              "#9c179e"
             ],
             [
              0.4444444444444444,
              "#bd3786"
             ],
             [
              0.5555555555555556,
              "#d8576b"
             ],
             [
              0.6666666666666666,
              "#ed7953"
             ],
             [
              0.7777777777777778,
              "#fb9f3a"
             ],
             [
              0.8888888888888888,
              "#fdca26"
             ],
             [
              1,
              "#f0f921"
             ]
            ],
            "type": "histogram2d"
           }
          ],
          "histogram2dcontour": [
           {
            "colorbar": {
             "outlinewidth": 0,
             "ticks": ""
            },
            "colorscale": [
             [
              0,
              "#0d0887"
             ],
             [
              0.1111111111111111,
              "#46039f"
             ],
             [
              0.2222222222222222,
              "#7201a8"
             ],
             [
              0.3333333333333333,
              "#9c179e"
             ],
             [
              0.4444444444444444,
              "#bd3786"
             ],
             [
              0.5555555555555556,
              "#d8576b"
             ],
             [
              0.6666666666666666,
              "#ed7953"
             ],
             [
              0.7777777777777778,
              "#fb9f3a"
             ],
             [
              0.8888888888888888,
              "#fdca26"
             ],
             [
              1,
              "#f0f921"
             ]
            ],
            "type": "histogram2dcontour"
           }
          ],
          "mesh3d": [
           {
            "colorbar": {
             "outlinewidth": 0,
             "ticks": ""
            },
            "type": "mesh3d"
           }
          ],
          "parcoords": [
           {
            "line": {
             "colorbar": {
              "outlinewidth": 0,
              "ticks": ""
             }
            },
            "type": "parcoords"
           }
          ],
          "pie": [
           {
            "automargin": true,
            "type": "pie"
           }
          ],
          "scatter": [
           {
            "fillpattern": {
             "fillmode": "overlay",
             "size": 10,
             "solidity": 0.2
            },
            "type": "scatter"
           }
          ],
          "scatter3d": [
           {
            "line": {
             "colorbar": {
              "outlinewidth": 0,
              "ticks": ""
             }
            },
            "marker": {
             "colorbar": {
              "outlinewidth": 0,
              "ticks": ""
             }
            },
            "type": "scatter3d"
           }
          ],
          "scattercarpet": [
           {
            "marker": {
             "colorbar": {
              "outlinewidth": 0,
              "ticks": ""
             }
            },
            "type": "scattercarpet"
           }
          ],
          "scattergeo": [
           {
            "marker": {
             "colorbar": {
              "outlinewidth": 0,
              "ticks": ""
             }
            },
            "type": "scattergeo"
           }
          ],
          "scattergl": [
           {
            "marker": {
             "colorbar": {
              "outlinewidth": 0,
              "ticks": ""
             }
            },
            "type": "scattergl"
           }
          ],
          "scattermapbox": [
           {
            "marker": {
             "colorbar": {
              "outlinewidth": 0,
              "ticks": ""
             }
            },
            "type": "scattermapbox"
           }
          ],
          "scatterpolar": [
           {
            "marker": {
             "colorbar": {
              "outlinewidth": 0,
              "ticks": ""
             }
            },
            "type": "scatterpolar"
           }
          ],
          "scatterpolargl": [
           {
            "marker": {
             "colorbar": {
              "outlinewidth": 0,
              "ticks": ""
             }
            },
            "type": "scatterpolargl"
           }
          ],
          "scatterternary": [
           {
            "marker": {
             "colorbar": {
              "outlinewidth": 0,
              "ticks": ""
             }
            },
            "type": "scatterternary"
           }
          ],
          "surface": [
           {
            "colorbar": {
             "outlinewidth": 0,
             "ticks": ""
            },
            "colorscale": [
             [
              0,
              "#0d0887"
             ],
             [
              0.1111111111111111,
              "#46039f"
             ],
             [
              0.2222222222222222,
              "#7201a8"
             ],
             [
              0.3333333333333333,
              "#9c179e"
             ],
             [
              0.4444444444444444,
              "#bd3786"
             ],
             [
              0.5555555555555556,
              "#d8576b"
             ],
             [
              0.6666666666666666,
              "#ed7953"
             ],
             [
              0.7777777777777778,
              "#fb9f3a"
             ],
             [
              0.8888888888888888,
              "#fdca26"
             ],
             [
              1,
              "#f0f921"
             ]
            ],
            "type": "surface"
           }
          ],
          "table": [
           {
            "cells": {
             "fill": {
              "color": "#EBF0F8"
             },
             "line": {
              "color": "white"
             }
            },
            "header": {
             "fill": {
              "color": "#C8D4E3"
             },
             "line": {
              "color": "white"
             }
            },
            "type": "table"
           }
          ]
         },
         "layout": {
          "annotationdefaults": {
           "arrowcolor": "#2a3f5f",
           "arrowhead": 0,
           "arrowwidth": 1
          },
          "autotypenumbers": "strict",
          "coloraxis": {
           "colorbar": {
            "outlinewidth": 0,
            "ticks": ""
           }
          },
          "colorscale": {
           "diverging": [
            [
             0,
             "#8e0152"
            ],
            [
             0.1,
             "#c51b7d"
            ],
            [
             0.2,
             "#de77ae"
            ],
            [
             0.3,
             "#f1b6da"
            ],
            [
             0.4,
             "#fde0ef"
            ],
            [
             0.5,
             "#f7f7f7"
            ],
            [
             0.6,
             "#e6f5d0"
            ],
            [
             0.7,
             "#b8e186"
            ],
            [
             0.8,
             "#7fbc41"
            ],
            [
             0.9,
             "#4d9221"
            ],
            [
             1,
             "#276419"
            ]
           ],
           "sequential": [
            [
             0,
             "#0d0887"
            ],
            [
             0.1111111111111111,
             "#46039f"
            ],
            [
             0.2222222222222222,
             "#7201a8"
            ],
            [
             0.3333333333333333,
             "#9c179e"
            ],
            [
             0.4444444444444444,
             "#bd3786"
            ],
            [
             0.5555555555555556,
             "#d8576b"
            ],
            [
             0.6666666666666666,
             "#ed7953"
            ],
            [
             0.7777777777777778,
             "#fb9f3a"
            ],
            [
             0.8888888888888888,
             "#fdca26"
            ],
            [
             1,
             "#f0f921"
            ]
           ],
           "sequentialminus": [
            [
             0,
             "#0d0887"
            ],
            [
             0.1111111111111111,
             "#46039f"
            ],
            [
             0.2222222222222222,
             "#7201a8"
            ],
            [
             0.3333333333333333,
             "#9c179e"
            ],
            [
             0.4444444444444444,
             "#bd3786"
            ],
            [
             0.5555555555555556,
             "#d8576b"
            ],
            [
             0.6666666666666666,
             "#ed7953"
            ],
            [
             0.7777777777777778,
             "#fb9f3a"
            ],
            [
             0.8888888888888888,
             "#fdca26"
            ],
            [
             1,
             "#f0f921"
            ]
           ]
          },
          "colorway": [
           "#636efa",
           "#EF553B",
           "#00cc96",
           "#ab63fa",
           "#FFA15A",
           "#19d3f3",
           "#FF6692",
           "#B6E880",
           "#FF97FF",
           "#FECB52"
          ],
          "font": {
           "color": "#2a3f5f"
          },
          "geo": {
           "bgcolor": "white",
           "lakecolor": "white",
           "landcolor": "#E5ECF6",
           "showlakes": true,
           "showland": true,
           "subunitcolor": "white"
          },
          "hoverlabel": {
           "align": "left"
          },
          "hovermode": "closest",
          "mapbox": {
           "style": "light"
          },
          "paper_bgcolor": "white",
          "plot_bgcolor": "#E5ECF6",
          "polar": {
           "angularaxis": {
            "gridcolor": "white",
            "linecolor": "white",
            "ticks": ""
           },
           "bgcolor": "#E5ECF6",
           "radialaxis": {
            "gridcolor": "white",
            "linecolor": "white",
            "ticks": ""
           }
          },
          "scene": {
           "xaxis": {
            "backgroundcolor": "#E5ECF6",
            "gridcolor": "white",
            "gridwidth": 2,
            "linecolor": "white",
            "showbackground": true,
            "ticks": "",
            "zerolinecolor": "white"
           },
           "yaxis": {
            "backgroundcolor": "#E5ECF6",
            "gridcolor": "white",
            "gridwidth": 2,
            "linecolor": "white",
            "showbackground": true,
            "ticks": "",
            "zerolinecolor": "white"
           },
           "zaxis": {
            "backgroundcolor": "#E5ECF6",
            "gridcolor": "white",
            "gridwidth": 2,
            "linecolor": "white",
            "showbackground": true,
            "ticks": "",
            "zerolinecolor": "white"
           }
          },
          "shapedefaults": {
           "line": {
            "color": "#2a3f5f"
           }
          },
          "ternary": {
           "aaxis": {
            "gridcolor": "white",
            "linecolor": "white",
            "ticks": ""
           },
           "baxis": {
            "gridcolor": "white",
            "linecolor": "white",
            "ticks": ""
           },
           "bgcolor": "#E5ECF6",
           "caxis": {
            "gridcolor": "white",
            "linecolor": "white",
            "ticks": ""
           }
          },
          "title": {
           "x": 0.05
          },
          "xaxis": {
           "automargin": true,
           "gridcolor": "white",
           "linecolor": "white",
           "ticks": "",
           "title": {
            "standoff": 15
           },
           "zerolinecolor": "white",
           "zerolinewidth": 2
          },
          "yaxis": {
           "automargin": true,
           "gridcolor": "white",
           "linecolor": "white",
           "ticks": "",
           "title": {
            "standoff": 15
           },
           "zerolinecolor": "white",
           "zerolinewidth": 2
          }
         }
        }
       }
      }
     },
     "metadata": {},
     "output_type": "display_data"
    },
    {
     "data": {
      "text/html": [
       "<div>\n",
       "<style scoped>\n",
       "    .dataframe tbody tr th:only-of-type {\n",
       "        vertical-align: middle;\n",
       "    }\n",
       "\n",
       "    .dataframe tbody tr th {\n",
       "        vertical-align: top;\n",
       "    }\n",
       "\n",
       "    .dataframe thead th {\n",
       "        text-align: right;\n",
       "    }\n",
       "</style>\n",
       "<table border=\"1\" class=\"dataframe\">\n",
       "  <thead>\n",
       "    <tr style=\"text-align: right;\">\n",
       "      <th></th>\n",
       "      <th>p</th>\n",
       "      <th>d</th>\n",
       "      <th>q</th>\n",
       "      <th>val</th>\n",
       "    </tr>\n",
       "  </thead>\n",
       "  <tbody>\n",
       "    <tr>\n",
       "      <th>57</th>\n",
       "      <td>1.0</td>\n",
       "      <td>3.0</td>\n",
       "      <td>3.0</td>\n",
       "      <td>4.039967</td>\n",
       "    </tr>\n",
       "    <tr>\n",
       "      <th>6</th>\n",
       "      <td>0.0</td>\n",
       "      <td>1.0</td>\n",
       "      <td>0.0</td>\n",
       "      <td>4.292027</td>\n",
       "    </tr>\n",
       "    <tr>\n",
       "      <th>56</th>\n",
       "      <td>1.0</td>\n",
       "      <td>3.0</td>\n",
       "      <td>2.0</td>\n",
       "      <td>4.807457</td>\n",
       "    </tr>\n",
       "    <tr>\n",
       "      <th>42</th>\n",
       "      <td>1.0</td>\n",
       "      <td>1.0</td>\n",
       "      <td>0.0</td>\n",
       "      <td>4.809738</td>\n",
       "    </tr>\n",
       "    <tr>\n",
       "      <th>7</th>\n",
       "      <td>0.0</td>\n",
       "      <td>1.0</td>\n",
       "      <td>1.0</td>\n",
       "      <td>4.814872</td>\n",
       "    </tr>\n",
       "    <tr>\n",
       "      <th>...</th>\n",
       "      <td>...</td>\n",
       "      <td>...</td>\n",
       "      <td>...</td>\n",
       "      <td>...</td>\n",
       "    </tr>\n",
       "    <tr>\n",
       "      <th>77</th>\n",
       "      <td>2.0</td>\n",
       "      <td>0.0</td>\n",
       "      <td>5.0</td>\n",
       "      <td>8.477266</td>\n",
       "    </tr>\n",
       "    <tr>\n",
       "      <th>74</th>\n",
       "      <td>2.0</td>\n",
       "      <td>0.0</td>\n",
       "      <td>2.0</td>\n",
       "      <td>8.626697</td>\n",
       "    </tr>\n",
       "    <tr>\n",
       "      <th>35</th>\n",
       "      <td>0.0</td>\n",
       "      <td>5.0</td>\n",
       "      <td>5.0</td>\n",
       "      <td>8.714990</td>\n",
       "    </tr>\n",
       "    <tr>\n",
       "      <th>28</th>\n",
       "      <td>0.0</td>\n",
       "      <td>4.0</td>\n",
       "      <td>4.0</td>\n",
       "      <td>8.980004</td>\n",
       "    </tr>\n",
       "    <tr>\n",
       "      <th>37</th>\n",
       "      <td>1.0</td>\n",
       "      <td>0.0</td>\n",
       "      <td>1.0</td>\n",
       "      <td>8.988760</td>\n",
       "    </tr>\n",
       "  </tbody>\n",
       "</table>\n",
       "<p>110 rows × 4 columns</p>\n",
       "</div>"
      ],
      "text/plain": [
       "      p    d    q       val\n",
       "57  1.0  3.0  3.0  4.039967\n",
       "6   0.0  1.0  0.0  4.292027\n",
       "56  1.0  3.0  2.0  4.807457\n",
       "42  1.0  1.0  0.0  4.809738\n",
       "7   0.0  1.0  1.0  4.814872\n",
       "..  ...  ...  ...       ...\n",
       "77  2.0  0.0  5.0  8.477266\n",
       "74  2.0  0.0  2.0  8.626697\n",
       "35  0.0  5.0  5.0  8.714990\n",
       "28  0.0  4.0  4.0  8.980004\n",
       "37  1.0  0.0  1.0  8.988760\n",
       "\n",
       "[110 rows x 4 columns]"
      ]
     },
     "metadata": {},
     "output_type": "display_data"
    }
   ],
   "source": [
    "# select hyperparameters\n",
    "\n",
    "# empty dict\n",
    "combined_dict = {}\n",
    "\n",
    "# find where both train and test SMAPE are < 100 adn summarize the best fits\n",
    "for i in train_vals_df.index: # make a list of places where they overlap then plot\n",
    "    \n",
    "    # instances where both train/test SMAPE are low\n",
    "    if 0 < train_vals_df.loc[i,'val'] < 100 and 0 < test_vals_df.loc[i,'val'] < 100:\n",
    "        \n",
    "        # aggregate their parameters\n",
    "        combined_dict[i] = {'p':train_vals_df.loc[i,'p'],\n",
    "                            'd':train_vals_df.loc[i,'d'],\n",
    "                            'q':train_vals_df.loc[i,'q'],\n",
    "                            'val':(train_vals_df.loc[i,'val']+test_vals_df.loc[i,'val'])/2}\n",
    "\n",
    "# dict to df\n",
    "combined_df = pd.DataFrame(combined_dict).T\n",
    "\n",
    "# remove instances lower than the mean\n",
    "for i in combined_df.index:\n",
    "    if combined_df.loc[i,'val'] > combined_df['val'].mean():\n",
    "        combined_df.drop(index=i,inplace=True)\n",
    "\n",
    "# choose color code threshold\n",
    "high_threshold = combined_df.describe()['val'][4]\n",
    "low_threshold = combined_df.describe()['val'][3]\n",
    "\n",
    "# visualize\n",
    "px.scatter_3d(combined_df, x='p',y='d',z='q',color='val',range_color=[low_threshold,high_threshold]).show()\n",
    "\n",
    "# display table of parameters\n",
    "#  NOTE THAT 'val' IS THE AVERAGE TRAIN/TEST SMAPE\n",
    "display(combined_df.sort_values('val'))"
   ]
  },
  {
   "attachments": {},
   "cell_type": "markdown",
   "metadata": {},
   "source": [
    "Looking at the winnowed down parameters, the best appears to be p = 1, d = 3, q = 3. So, I'll look at those values specifically next."
   ]
  },
  {
   "cell_type": "code",
   "execution_count": 73,
   "metadata": {},
   "outputs": [
    {
     "data": {
      "text/html": [
       "<table class=\"simpletable\">\n",
       "<caption>SARIMAX Results</caption>\n",
       "<tr>\n",
       "  <th>Dep. Variable:</th>     <td>Prescriptions</td>  <th>  No. Observations:  </th>    <td>120</td>   \n",
       "</tr>\n",
       "<tr>\n",
       "  <th>Model:</th>           <td>SARIMAX(1, 3, 3)</td> <th>  Log Likelihood     </th> <td>-2274.876</td>\n",
       "</tr>\n",
       "<tr>\n",
       "  <th>Date:</th>            <td>Mon, 10 Apr 2023</td> <th>  AIC                </th> <td>4561.752</td> \n",
       "</tr>\n",
       "<tr>\n",
       "  <th>Time:</th>                <td>21:02:48</td>     <th>  BIC                </th> <td>4578.325</td> \n",
       "</tr>\n",
       "<tr>\n",
       "  <th>Sample:</th>             <td>03-31-1991</td>    <th>  HQIC               </th> <td>4568.480</td> \n",
       "</tr>\n",
       "<tr>\n",
       "  <th></th>                   <td>- 12-31-2020</td>   <th>                     </th>     <td> </td>    \n",
       "</tr>\n",
       "<tr>\n",
       "  <th>Covariance Type:</th>        <td>opg</td>       <th>                     </th>     <td> </td>    \n",
       "</tr>\n",
       "</table>\n",
       "<table class=\"simpletable\">\n",
       "<tr>\n",
       "      <td></td>         <th>coef</th>     <th>std err</th>      <th>z</th>      <th>P>|z|</th>  <th>[0.025</th>    <th>0.975]</th>  \n",
       "</tr>\n",
       "<tr>\n",
       "  <th>intercept</th> <td> 5.709e+04</td> <td> 3.49e+05</td> <td>    0.164</td> <td> 0.870</td> <td>-6.27e+05</td> <td> 7.41e+05</td>\n",
       "</tr>\n",
       "<tr>\n",
       "  <th>ar.L1</th>     <td>   -0.8891</td> <td>    0.413</td> <td>   -2.152</td> <td> 0.031</td> <td>   -1.699</td> <td>   -0.079</td>\n",
       "</tr>\n",
       "<tr>\n",
       "  <th>ma.L1</th>     <td>   -0.9572</td> <td>    0.325</td> <td>   -2.946</td> <td> 0.003</td> <td>   -1.594</td> <td>   -0.320</td>\n",
       "</tr>\n",
       "<tr>\n",
       "  <th>ma.L2</th>     <td>   -0.9204</td> <td>    0.554</td> <td>   -1.660</td> <td> 0.097</td> <td>   -2.007</td> <td>    0.166</td>\n",
       "</tr>\n",
       "<tr>\n",
       "  <th>ma.L3</th>     <td>    0.8974</td> <td>    0.312</td> <td>    2.875</td> <td> 0.004</td> <td>    0.286</td> <td>    1.509</td>\n",
       "</tr>\n",
       "<tr>\n",
       "  <th>sigma2</th>    <td> 8.541e+15</td> <td> 5.37e-06</td> <td> 1.59e+21</td> <td> 0.000</td> <td> 8.54e+15</td> <td> 8.54e+15</td>\n",
       "</tr>\n",
       "</table>\n",
       "<table class=\"simpletable\">\n",
       "<tr>\n",
       "  <th>Ljung-Box (L1) (Q):</th>     <td>20.29</td> <th>  Jarque-Bera (JB):  </th> <td>1238.85</td>\n",
       "</tr>\n",
       "<tr>\n",
       "  <th>Prob(Q):</th>                <td>0.00</td>  <th>  Prob(JB):          </th>  <td>0.00</td>  \n",
       "</tr>\n",
       "<tr>\n",
       "  <th>Heteroskedasticity (H):</th> <td>2.51</td>  <th>  Skew:              </th>  <td>-2.09</td> \n",
       "</tr>\n",
       "<tr>\n",
       "  <th>Prob(H) (two-sided):</th>    <td>0.00</td>  <th>  Kurtosis:          </th>  <td>18.38</td> \n",
       "</tr>\n",
       "</table><br/><br/>Warnings:<br/>[1] Covariance matrix calculated using the outer product of gradients (complex-step).<br/>[2] Covariance matrix is singular or near-singular, with condition number 2.96e+43. Standard errors may be unstable."
      ],
      "text/plain": [
       "<class 'statsmodels.iolib.summary.Summary'>\n",
       "\"\"\"\n",
       "                               SARIMAX Results                                \n",
       "==============================================================================\n",
       "Dep. Variable:          Prescriptions   No. Observations:                  120\n",
       "Model:               SARIMAX(1, 3, 3)   Log Likelihood               -2274.876\n",
       "Date:                Mon, 10 Apr 2023   AIC                           4561.752\n",
       "Time:                        21:02:48   BIC                           4578.325\n",
       "Sample:                    03-31-1991   HQIC                          4568.480\n",
       "                         - 12-31-2020                                         \n",
       "Covariance Type:                  opg                                         \n",
       "==============================================================================\n",
       "                 coef    std err          z      P>|z|      [0.025      0.975]\n",
       "------------------------------------------------------------------------------\n",
       "intercept   5.709e+04   3.49e+05      0.164      0.870   -6.27e+05    7.41e+05\n",
       "ar.L1         -0.8891      0.413     -2.152      0.031      -1.699      -0.079\n",
       "ma.L1         -0.9572      0.325     -2.946      0.003      -1.594      -0.320\n",
       "ma.L2         -0.9204      0.554     -1.660      0.097      -2.007       0.166\n",
       "ma.L3          0.8974      0.312      2.875      0.004       0.286       1.509\n",
       "sigma2      8.541e+15   5.37e-06   1.59e+21      0.000    8.54e+15    8.54e+15\n",
       "===================================================================================\n",
       "Ljung-Box (L1) (Q):                  20.29   Jarque-Bera (JB):              1238.85\n",
       "Prob(Q):                              0.00   Prob(JB):                         0.00\n",
       "Heteroskedasticity (H):               2.51   Skew:                            -2.09\n",
       "Prob(H) (two-sided):                  0.00   Kurtosis:                        18.38\n",
       "===================================================================================\n",
       "\n",
       "Warnings:\n",
       "[1] Covariance matrix calculated using the outer product of gradients (complex-step).\n",
       "[2] Covariance matrix is singular or near-singular, with condition number 2.96e+43. Standard errors may be unstable.\n",
       "\"\"\""
      ]
     },
     "metadata": {},
     "output_type": "display_data"
    },
    {
     "data": {
      "application/vnd.plotly.v1+json": {
       "config": {
        "plotlyServerURL": "https://plot.ly"
       },
       "data": [
        {
         "name": "Train",
         "type": "scatter",
         "x": [
          "1991-03-31T00:00:00",
          "1991-06-30T00:00:00",
          "1991-09-30T00:00:00",
          "1991-12-31T00:00:00",
          "1992-03-31T00:00:00",
          "1992-06-30T00:00:00",
          "1992-09-30T00:00:00",
          "1992-12-31T00:00:00",
          "1993-03-31T00:00:00",
          "1993-06-30T00:00:00",
          "1993-09-30T00:00:00",
          "1993-12-31T00:00:00",
          "1994-03-31T00:00:00",
          "1994-06-30T00:00:00",
          "1994-09-30T00:00:00",
          "1994-12-31T00:00:00",
          "1995-03-31T00:00:00",
          "1995-06-30T00:00:00",
          "1995-09-30T00:00:00",
          "1995-12-31T00:00:00",
          "1996-03-31T00:00:00",
          "1996-06-30T00:00:00",
          "1996-09-30T00:00:00",
          "1996-12-31T00:00:00",
          "1997-03-31T00:00:00",
          "1997-06-30T00:00:00",
          "1997-09-30T00:00:00",
          "1997-12-31T00:00:00",
          "1998-03-31T00:00:00",
          "1998-06-30T00:00:00",
          "1998-09-30T00:00:00",
          "1998-12-31T00:00:00",
          "1999-03-31T00:00:00",
          "1999-06-30T00:00:00",
          "1999-09-30T00:00:00",
          "1999-12-31T00:00:00",
          "2000-03-31T00:00:00",
          "2000-06-30T00:00:00",
          "2000-09-30T00:00:00",
          "2000-12-31T00:00:00",
          "2001-03-31T00:00:00",
          "2001-06-30T00:00:00",
          "2001-09-30T00:00:00",
          "2001-12-31T00:00:00",
          "2002-03-31T00:00:00",
          "2002-06-30T00:00:00",
          "2002-09-30T00:00:00",
          "2002-12-31T00:00:00",
          "2003-03-31T00:00:00",
          "2003-06-30T00:00:00",
          "2003-09-30T00:00:00",
          "2003-12-31T00:00:00",
          "2004-03-31T00:00:00",
          "2004-06-30T00:00:00",
          "2004-09-30T00:00:00",
          "2004-12-31T00:00:00",
          "2005-03-31T00:00:00",
          "2005-06-30T00:00:00",
          "2005-09-30T00:00:00",
          "2005-12-31T00:00:00",
          "2006-03-31T00:00:00",
          "2006-06-30T00:00:00",
          "2006-09-30T00:00:00",
          "2006-12-31T00:00:00",
          "2007-03-31T00:00:00",
          "2007-06-30T00:00:00",
          "2007-09-30T00:00:00",
          "2007-12-31T00:00:00",
          "2008-03-31T00:00:00",
          "2008-06-30T00:00:00",
          "2008-09-30T00:00:00",
          "2008-12-31T00:00:00",
          "2009-03-31T00:00:00",
          "2009-06-30T00:00:00",
          "2009-09-30T00:00:00",
          "2009-12-31T00:00:00",
          "2010-03-31T00:00:00",
          "2010-06-30T00:00:00",
          "2010-09-30T00:00:00",
          "2010-12-31T00:00:00",
          "2011-03-31T00:00:00",
          "2011-06-30T00:00:00",
          "2011-09-30T00:00:00",
          "2011-12-31T00:00:00",
          "2012-03-31T00:00:00",
          "2012-06-30T00:00:00",
          "2012-09-30T00:00:00",
          "2012-12-31T00:00:00",
          "2013-03-31T00:00:00",
          "2013-06-30T00:00:00",
          "2013-09-30T00:00:00",
          "2013-12-31T00:00:00",
          "2014-03-31T00:00:00",
          "2014-06-30T00:00:00",
          "2014-09-30T00:00:00",
          "2014-12-31T00:00:00",
          "2015-03-31T00:00:00",
          "2015-06-30T00:00:00",
          "2015-09-30T00:00:00",
          "2015-12-31T00:00:00",
          "2016-03-31T00:00:00",
          "2016-06-30T00:00:00",
          "2016-09-30T00:00:00",
          "2016-12-31T00:00:00",
          "2017-03-31T00:00:00",
          "2017-06-30T00:00:00",
          "2017-09-30T00:00:00",
          "2017-12-31T00:00:00",
          "2018-03-31T00:00:00",
          "2018-06-30T00:00:00",
          "2018-09-30T00:00:00",
          "2018-12-31T00:00:00",
          "2019-03-31T00:00:00",
          "2019-06-30T00:00:00",
          "2019-09-30T00:00:00",
          "2019-12-31T00:00:00",
          "2020-03-31T00:00:00",
          "2020-06-30T00:00:00",
          "2020-09-30T00:00:00",
          "2020-12-31T00:00:00"
         ],
         "y": [
          40671417,
          59259062,
          67561929,
          74483016,
          82768107,
          76771911,
          75205718,
          85725818,
          94592593,
          87546897,
          90365485,
          91288201,
          95649251,
          86903138,
          80710031,
          85192833,
          81344496,
          85066309,
          118656269,
          118152327,
          118816430,
          109746553,
          108255354,
          110302647,
          108181714,
          104082407,
          101640278,
          102831754,
          115457635,
          114954963,
          110259724,
          117411919,
          119835397,
          114116641,
          109411018,
          120105562,
          115363517,
          115727207,
          120901051,
          143998778,
          136492477,
          133969846,
          130596243,
          134979726,
          134649367,
          136972367,
          140154979,
          145132430,
          145947666,
          148746142,
          366169219,
          178883335,
          226525799,
          363528419,
          274567736,
          333309563,
          484657321,
          241299355,
          167051950,
          338157239,
          96295892,
          91247082,
          80679087,
          87858219,
          92162500,
          87877891,
          86073000,
          84760915,
          91278368,
          96881224,
          86097352,
          93254818,
          94038855,
          110317402,
          97233671,
          100859933,
          110403567,
          145645056,
          152231412,
          163880199,
          167571475,
          166390382,
          144530171,
          162274733,
          165021240,
          164255682,
          167346136,
          163908723,
          163168995,
          158591581,
          151249924,
          154949611,
          156942717,
          173309001,
          175915786,
          182147561,
          179982587,
          188561670,
          187029956,
          193344331,
          204779756,
          195230026,
          191955696,
          210845769,
          208854028,
          212856351,
          195468627,
          207598039,
          225293382,
          221447889,
          210185491,
          216868482,
          223800327,
          215912716,
          215610424,
          218743695,
          221488850,
          186228229,
          211905808,
          222210513
         ]
        },
        {
         "name": "Test",
         "type": "scatter",
         "x": [
          "2021-03-31T00:00:00",
          "2021-06-30T00:00:00",
          "2021-09-30T00:00:00",
          "2021-12-31T00:00:00",
          "2022-03-31T00:00:00"
         ],
         "y": [
          228318503,
          237509501,
          244638796,
          247953922,
          242135394
         ]
        },
        {
         "name": "Fit",
         "type": "scatter",
         "x": [
          "1991-03-31T00:00:00",
          "1991-06-30T00:00:00",
          "1991-09-30T00:00:00",
          "1991-12-31T00:00:00",
          "1992-03-31T00:00:00",
          "1992-06-30T00:00:00",
          "1992-09-30T00:00:00",
          "1992-12-31T00:00:00",
          "1993-03-31T00:00:00",
          "1993-06-30T00:00:00",
          "1993-09-30T00:00:00",
          "1993-12-31T00:00:00",
          "1994-03-31T00:00:00",
          "1994-06-30T00:00:00",
          "1994-09-30T00:00:00",
          "1994-12-31T00:00:00",
          "1995-03-31T00:00:00",
          "1995-06-30T00:00:00",
          "1995-09-30T00:00:00",
          "1995-12-31T00:00:00",
          "1996-03-31T00:00:00",
          "1996-06-30T00:00:00",
          "1996-09-30T00:00:00",
          "1996-12-31T00:00:00",
          "1997-03-31T00:00:00",
          "1997-06-30T00:00:00",
          "1997-09-30T00:00:00",
          "1997-12-31T00:00:00",
          "1998-03-31T00:00:00",
          "1998-06-30T00:00:00",
          "1998-09-30T00:00:00",
          "1998-12-31T00:00:00",
          "1999-03-31T00:00:00",
          "1999-06-30T00:00:00",
          "1999-09-30T00:00:00",
          "1999-12-31T00:00:00",
          "2000-03-31T00:00:00",
          "2000-06-30T00:00:00",
          "2000-09-30T00:00:00",
          "2000-12-31T00:00:00",
          "2001-03-31T00:00:00",
          "2001-06-30T00:00:00",
          "2001-09-30T00:00:00",
          "2001-12-31T00:00:00",
          "2002-03-31T00:00:00",
          "2002-06-30T00:00:00",
          "2002-09-30T00:00:00",
          "2002-12-31T00:00:00",
          "2003-03-31T00:00:00",
          "2003-06-30T00:00:00",
          "2003-09-30T00:00:00",
          "2003-12-31T00:00:00",
          "2004-03-31T00:00:00",
          "2004-06-30T00:00:00",
          "2004-09-30T00:00:00",
          "2004-12-31T00:00:00",
          "2005-03-31T00:00:00",
          "2005-06-30T00:00:00",
          "2005-09-30T00:00:00",
          "2005-12-31T00:00:00",
          "2006-03-31T00:00:00",
          "2006-06-30T00:00:00",
          "2006-09-30T00:00:00",
          "2006-12-31T00:00:00",
          "2007-03-31T00:00:00",
          "2007-06-30T00:00:00",
          "2007-09-30T00:00:00",
          "2007-12-31T00:00:00",
          "2008-03-31T00:00:00",
          "2008-06-30T00:00:00",
          "2008-09-30T00:00:00",
          "2008-12-31T00:00:00",
          "2009-03-31T00:00:00",
          "2009-06-30T00:00:00",
          "2009-09-30T00:00:00",
          "2009-12-31T00:00:00",
          "2010-03-31T00:00:00",
          "2010-06-30T00:00:00",
          "2010-09-30T00:00:00",
          "2010-12-31T00:00:00",
          "2011-03-31T00:00:00",
          "2011-06-30T00:00:00",
          "2011-09-30T00:00:00",
          "2011-12-31T00:00:00",
          "2012-03-31T00:00:00",
          "2012-06-30T00:00:00",
          "2012-09-30T00:00:00",
          "2012-12-31T00:00:00",
          "2013-03-31T00:00:00",
          "2013-06-30T00:00:00",
          "2013-09-30T00:00:00",
          "2013-12-31T00:00:00",
          "2014-03-31T00:00:00",
          "2014-06-30T00:00:00",
          "2014-09-30T00:00:00",
          "2014-12-31T00:00:00",
          "2015-03-31T00:00:00",
          "2015-06-30T00:00:00",
          "2015-09-30T00:00:00",
          "2015-12-31T00:00:00",
          "2016-03-31T00:00:00",
          "2016-06-30T00:00:00",
          "2016-09-30T00:00:00",
          "2016-12-31T00:00:00",
          "2017-03-31T00:00:00",
          "2017-06-30T00:00:00",
          "2017-09-30T00:00:00",
          "2017-12-31T00:00:00",
          "2018-03-31T00:00:00",
          "2018-06-30T00:00:00",
          "2018-09-30T00:00:00",
          "2018-12-31T00:00:00",
          "2019-03-31T00:00:00",
          "2019-06-30T00:00:00",
          "2019-09-30T00:00:00",
          "2019-12-31T00:00:00",
          "2020-03-31T00:00:00",
          "2020-06-30T00:00:00",
          "2020-09-30T00:00:00",
          "2020-12-31T00:00:00",
          "2021-03-31T00:00:00",
          "2021-06-30T00:00:00",
          "2021-09-30T00:00:00",
          "2021-12-31T00:00:00",
          "2022-03-31T00:00:00"
         ],
         "y": [
          30221.599098976938,
          96680995.11612388,
          94197415.64763442,
          92668617.39870763,
          88882972.27321063,
          96708564.14294854,
          78523272.16485682,
          76981378.02797449,
          87514514.35967264,
          99558111.10785545,
          85373297.73498976,
          91722515.11951883,
          88461213.55810153,
          96969018.54995374,
          81244530.38093725,
          78082670.03370254,
          80007226.82900888,
          78129866.50943516,
          80612103.5210473,
          123633078.62379658,
          116230522.24209173,
          123233793.52530536,
          106008926.23950881,
          111429961.02130292,
          107173170.89454785,
          110810120.8927771,
          100471947.98314586,
          103616635.19068496,
          99808161.50266415,
          119674620.35971045,
          112618448.96210587,
          113760784.55818622,
          116770901.30756012,
          123990032.14387389,
          113132358.2732138,
          112946980.1774907,
          121319787.23197514,
          118448882.40644433,
          117414738.9906404,
          125082613.80266255,
          149781007.2118435,
          139971378.19130325,
          139623743.13276553,
          133879951.47977825,
          141421970.43764532,
          138139295.3935992,
          143770796.19999814,
          144326082.5833859,
          152645504.20740318,
          150366631.12223265,
          156540984.5819951,
          405038307.2703043,
          158892602.91909802,
          271051728.7775502,
          367103756.0091912,
          303630834.8226159,
          346995090.58240366,
          536288209.55785656,
          218082677.28768218,
          203917371.47975814,
          341696363.3298799,
          92142281.06397331,
          92152663.52830118,
          72177998.55572885,
          86917717.72567567,
          82261292.78332096,
          83995487.30330318,
          74508664.46106938,
          79081118.08507577,
          79918814.505972,
          91141765.8529365,
          72894100.6672595,
          88262661.85299343,
          81338020.88996154,
          107923272.11335248,
          83466692.01189722,
          99477189.52978048,
          99470111.44210958,
          150421304.685225,
          144119569.58875275,
          171512190.01710486,
          162146846.27491084,
          174940860.0157834,
          137758494.17975897,
          174419166.95133758,
          160526757.5533089,
          176894242.22923505,
          165073441.88946074,
          176479762.63008016,
          162226029.9759994,
          170727988.2550233,
          150290919.03656998,
          167681020.66848645,
          157134879.91164115,
          188392095.564276,
          177253296.20248562,
          197915328.39540395,
          181631381.95320553,
          205186848.2346468,
          188896017.93682855,
          210268418.87567064,
          208682887.42961478,
          209883274.3149439,
          195392901.38986358,
          227467235.92073974,
          211816238.96307632,
          229016961.6060314,
          195546944.21868107,
          224315468.82758364,
          227773737.6031619,
          236188521.81053674,
          210595230.40385294,
          231255661.8813408,
          224799984.13331982,
          227657927.45793146,
          216051694.38233447,
          229595437.3863582,
          221773338.57158303,
          190365218.94528532,
          215429651.06981462,
          226833517.42683607,
          230304755.94761467,
          234738849.7068287,
          238312786.08614445,
          242704492.40991536
         ]
        }
       ],
       "layout": {
        "template": {
         "data": {
          "bar": [
           {
            "error_x": {
             "color": "#2a3f5f"
            },
            "error_y": {
             "color": "#2a3f5f"
            },
            "marker": {
             "line": {
              "color": "#E5ECF6",
              "width": 0.5
             },
             "pattern": {
              "fillmode": "overlay",
              "size": 10,
              "solidity": 0.2
             }
            },
            "type": "bar"
           }
          ],
          "barpolar": [
           {
            "marker": {
             "line": {
              "color": "#E5ECF6",
              "width": 0.5
             },
             "pattern": {
              "fillmode": "overlay",
              "size": 10,
              "solidity": 0.2
             }
            },
            "type": "barpolar"
           }
          ],
          "carpet": [
           {
            "aaxis": {
             "endlinecolor": "#2a3f5f",
             "gridcolor": "white",
             "linecolor": "white",
             "minorgridcolor": "white",
             "startlinecolor": "#2a3f5f"
            },
            "baxis": {
             "endlinecolor": "#2a3f5f",
             "gridcolor": "white",
             "linecolor": "white",
             "minorgridcolor": "white",
             "startlinecolor": "#2a3f5f"
            },
            "type": "carpet"
           }
          ],
          "choropleth": [
           {
            "colorbar": {
             "outlinewidth": 0,
             "ticks": ""
            },
            "type": "choropleth"
           }
          ],
          "contour": [
           {
            "colorbar": {
             "outlinewidth": 0,
             "ticks": ""
            },
            "colorscale": [
             [
              0,
              "#0d0887"
             ],
             [
              0.1111111111111111,
              "#46039f"
             ],
             [
              0.2222222222222222,
              "#7201a8"
             ],
             [
              0.3333333333333333,
              "#9c179e"
             ],
             [
              0.4444444444444444,
              "#bd3786"
             ],
             [
              0.5555555555555556,
              "#d8576b"
             ],
             [
              0.6666666666666666,
              "#ed7953"
             ],
             [
              0.7777777777777778,
              "#fb9f3a"
             ],
             [
              0.8888888888888888,
              "#fdca26"
             ],
             [
              1,
              "#f0f921"
             ]
            ],
            "type": "contour"
           }
          ],
          "contourcarpet": [
           {
            "colorbar": {
             "outlinewidth": 0,
             "ticks": ""
            },
            "type": "contourcarpet"
           }
          ],
          "heatmap": [
           {
            "colorbar": {
             "outlinewidth": 0,
             "ticks": ""
            },
            "colorscale": [
             [
              0,
              "#0d0887"
             ],
             [
              0.1111111111111111,
              "#46039f"
             ],
             [
              0.2222222222222222,
              "#7201a8"
             ],
             [
              0.3333333333333333,
              "#9c179e"
             ],
             [
              0.4444444444444444,
              "#bd3786"
             ],
             [
              0.5555555555555556,
              "#d8576b"
             ],
             [
              0.6666666666666666,
              "#ed7953"
             ],
             [
              0.7777777777777778,
              "#fb9f3a"
             ],
             [
              0.8888888888888888,
              "#fdca26"
             ],
             [
              1,
              "#f0f921"
             ]
            ],
            "type": "heatmap"
           }
          ],
          "heatmapgl": [
           {
            "colorbar": {
             "outlinewidth": 0,
             "ticks": ""
            },
            "colorscale": [
             [
              0,
              "#0d0887"
             ],
             [
              0.1111111111111111,
              "#46039f"
             ],
             [
              0.2222222222222222,
              "#7201a8"
             ],
             [
              0.3333333333333333,
              "#9c179e"
             ],
             [
              0.4444444444444444,
              "#bd3786"
             ],
             [
              0.5555555555555556,
              "#d8576b"
             ],
             [
              0.6666666666666666,
              "#ed7953"
             ],
             [
              0.7777777777777778,
              "#fb9f3a"
             ],
             [
              0.8888888888888888,
              "#fdca26"
             ],
             [
              1,
              "#f0f921"
             ]
            ],
            "type": "heatmapgl"
           }
          ],
          "histogram": [
           {
            "marker": {
             "pattern": {
              "fillmode": "overlay",
              "size": 10,
              "solidity": 0.2
             }
            },
            "type": "histogram"
           }
          ],
          "histogram2d": [
           {
            "colorbar": {
             "outlinewidth": 0,
             "ticks": ""
            },
            "colorscale": [
             [
              0,
              "#0d0887"
             ],
             [
              0.1111111111111111,
              "#46039f"
             ],
             [
              0.2222222222222222,
              "#7201a8"
             ],
             [
              0.3333333333333333,
              "#9c179e"
             ],
             [
              0.4444444444444444,
              "#bd3786"
             ],
             [
              0.5555555555555556,
              "#d8576b"
             ],
             [
              0.6666666666666666,
              "#ed7953"
             ],
             [
              0.7777777777777778,
              "#fb9f3a"
             ],
             [
              0.8888888888888888,
              "#fdca26"
             ],
             [
              1,
              "#f0f921"
             ]
            ],
            "type": "histogram2d"
           }
          ],
          "histogram2dcontour": [
           {
            "colorbar": {
             "outlinewidth": 0,
             "ticks": ""
            },
            "colorscale": [
             [
              0,
              "#0d0887"
             ],
             [
              0.1111111111111111,
              "#46039f"
             ],
             [
              0.2222222222222222,
              "#7201a8"
             ],
             [
              0.3333333333333333,
              "#9c179e"
             ],
             [
              0.4444444444444444,
              "#bd3786"
             ],
             [
              0.5555555555555556,
              "#d8576b"
             ],
             [
              0.6666666666666666,
              "#ed7953"
             ],
             [
              0.7777777777777778,
              "#fb9f3a"
             ],
             [
              0.8888888888888888,
              "#fdca26"
             ],
             [
              1,
              "#f0f921"
             ]
            ],
            "type": "histogram2dcontour"
           }
          ],
          "mesh3d": [
           {
            "colorbar": {
             "outlinewidth": 0,
             "ticks": ""
            },
            "type": "mesh3d"
           }
          ],
          "parcoords": [
           {
            "line": {
             "colorbar": {
              "outlinewidth": 0,
              "ticks": ""
             }
            },
            "type": "parcoords"
           }
          ],
          "pie": [
           {
            "automargin": true,
            "type": "pie"
           }
          ],
          "scatter": [
           {
            "fillpattern": {
             "fillmode": "overlay",
             "size": 10,
             "solidity": 0.2
            },
            "type": "scatter"
           }
          ],
          "scatter3d": [
           {
            "line": {
             "colorbar": {
              "outlinewidth": 0,
              "ticks": ""
             }
            },
            "marker": {
             "colorbar": {
              "outlinewidth": 0,
              "ticks": ""
             }
            },
            "type": "scatter3d"
           }
          ],
          "scattercarpet": [
           {
            "marker": {
             "colorbar": {
              "outlinewidth": 0,
              "ticks": ""
             }
            },
            "type": "scattercarpet"
           }
          ],
          "scattergeo": [
           {
            "marker": {
             "colorbar": {
              "outlinewidth": 0,
              "ticks": ""
             }
            },
            "type": "scattergeo"
           }
          ],
          "scattergl": [
           {
            "marker": {
             "colorbar": {
              "outlinewidth": 0,
              "ticks": ""
             }
            },
            "type": "scattergl"
           }
          ],
          "scattermapbox": [
           {
            "marker": {
             "colorbar": {
              "outlinewidth": 0,
              "ticks": ""
             }
            },
            "type": "scattermapbox"
           }
          ],
          "scatterpolar": [
           {
            "marker": {
             "colorbar": {
              "outlinewidth": 0,
              "ticks": ""
             }
            },
            "type": "scatterpolar"
           }
          ],
          "scatterpolargl": [
           {
            "marker": {
             "colorbar": {
              "outlinewidth": 0,
              "ticks": ""
             }
            },
            "type": "scatterpolargl"
           }
          ],
          "scatterternary": [
           {
            "marker": {
             "colorbar": {
              "outlinewidth": 0,
              "ticks": ""
             }
            },
            "type": "scatterternary"
           }
          ],
          "surface": [
           {
            "colorbar": {
             "outlinewidth": 0,
             "ticks": ""
            },
            "colorscale": [
             [
              0,
              "#0d0887"
             ],
             [
              0.1111111111111111,
              "#46039f"
             ],
             [
              0.2222222222222222,
              "#7201a8"
             ],
             [
              0.3333333333333333,
              "#9c179e"
             ],
             [
              0.4444444444444444,
              "#bd3786"
             ],
             [
              0.5555555555555556,
              "#d8576b"
             ],
             [
              0.6666666666666666,
              "#ed7953"
             ],
             [
              0.7777777777777778,
              "#fb9f3a"
             ],
             [
              0.8888888888888888,
              "#fdca26"
             ],
             [
              1,
              "#f0f921"
             ]
            ],
            "type": "surface"
           }
          ],
          "table": [
           {
            "cells": {
             "fill": {
              "color": "#EBF0F8"
             },
             "line": {
              "color": "white"
             }
            },
            "header": {
             "fill": {
              "color": "#C8D4E3"
             },
             "line": {
              "color": "white"
             }
            },
            "type": "table"
           }
          ]
         },
         "layout": {
          "annotationdefaults": {
           "arrowcolor": "#2a3f5f",
           "arrowhead": 0,
           "arrowwidth": 1
          },
          "autotypenumbers": "strict",
          "coloraxis": {
           "colorbar": {
            "outlinewidth": 0,
            "ticks": ""
           }
          },
          "colorscale": {
           "diverging": [
            [
             0,
             "#8e0152"
            ],
            [
             0.1,
             "#c51b7d"
            ],
            [
             0.2,
             "#de77ae"
            ],
            [
             0.3,
             "#f1b6da"
            ],
            [
             0.4,
             "#fde0ef"
            ],
            [
             0.5,
             "#f7f7f7"
            ],
            [
             0.6,
             "#e6f5d0"
            ],
            [
             0.7,
             "#b8e186"
            ],
            [
             0.8,
             "#7fbc41"
            ],
            [
             0.9,
             "#4d9221"
            ],
            [
             1,
             "#276419"
            ]
           ],
           "sequential": [
            [
             0,
             "#0d0887"
            ],
            [
             0.1111111111111111,
             "#46039f"
            ],
            [
             0.2222222222222222,
             "#7201a8"
            ],
            [
             0.3333333333333333,
             "#9c179e"
            ],
            [
             0.4444444444444444,
             "#bd3786"
            ],
            [
             0.5555555555555556,
             "#d8576b"
            ],
            [
             0.6666666666666666,
             "#ed7953"
            ],
            [
             0.7777777777777778,
             "#fb9f3a"
            ],
            [
             0.8888888888888888,
             "#fdca26"
            ],
            [
             1,
             "#f0f921"
            ]
           ],
           "sequentialminus": [
            [
             0,
             "#0d0887"
            ],
            [
             0.1111111111111111,
             "#46039f"
            ],
            [
             0.2222222222222222,
             "#7201a8"
            ],
            [
             0.3333333333333333,
             "#9c179e"
            ],
            [
             0.4444444444444444,
             "#bd3786"
            ],
            [
             0.5555555555555556,
             "#d8576b"
            ],
            [
             0.6666666666666666,
             "#ed7953"
            ],
            [
             0.7777777777777778,
             "#fb9f3a"
            ],
            [
             0.8888888888888888,
             "#fdca26"
            ],
            [
             1,
             "#f0f921"
            ]
           ]
          },
          "colorway": [
           "#636efa",
           "#EF553B",
           "#00cc96",
           "#ab63fa",
           "#FFA15A",
           "#19d3f3",
           "#FF6692",
           "#B6E880",
           "#FF97FF",
           "#FECB52"
          ],
          "font": {
           "color": "#2a3f5f"
          },
          "geo": {
           "bgcolor": "white",
           "lakecolor": "white",
           "landcolor": "#E5ECF6",
           "showlakes": true,
           "showland": true,
           "subunitcolor": "white"
          },
          "hoverlabel": {
           "align": "left"
          },
          "hovermode": "closest",
          "mapbox": {
           "style": "light"
          },
          "paper_bgcolor": "white",
          "plot_bgcolor": "#E5ECF6",
          "polar": {
           "angularaxis": {
            "gridcolor": "white",
            "linecolor": "white",
            "ticks": ""
           },
           "bgcolor": "#E5ECF6",
           "radialaxis": {
            "gridcolor": "white",
            "linecolor": "white",
            "ticks": ""
           }
          },
          "scene": {
           "xaxis": {
            "backgroundcolor": "#E5ECF6",
            "gridcolor": "white",
            "gridwidth": 2,
            "linecolor": "white",
            "showbackground": true,
            "ticks": "",
            "zerolinecolor": "white"
           },
           "yaxis": {
            "backgroundcolor": "#E5ECF6",
            "gridcolor": "white",
            "gridwidth": 2,
            "linecolor": "white",
            "showbackground": true,
            "ticks": "",
            "zerolinecolor": "white"
           },
           "zaxis": {
            "backgroundcolor": "#E5ECF6",
            "gridcolor": "white",
            "gridwidth": 2,
            "linecolor": "white",
            "showbackground": true,
            "ticks": "",
            "zerolinecolor": "white"
           }
          },
          "shapedefaults": {
           "line": {
            "color": "#2a3f5f"
           }
          },
          "ternary": {
           "aaxis": {
            "gridcolor": "white",
            "linecolor": "white",
            "ticks": ""
           },
           "baxis": {
            "gridcolor": "white",
            "linecolor": "white",
            "ticks": ""
           },
           "bgcolor": "#E5ECF6",
           "caxis": {
            "gridcolor": "white",
            "linecolor": "white",
            "ticks": ""
           }
          },
          "title": {
           "x": 0.05
          },
          "xaxis": {
           "automargin": true,
           "gridcolor": "white",
           "linecolor": "white",
           "ticks": "",
           "title": {
            "standoff": 15
           },
           "zerolinecolor": "white",
           "zerolinewidth": 2
          },
          "yaxis": {
           "automargin": true,
           "gridcolor": "white",
           "linecolor": "white",
           "ticks": "",
           "title": {
            "standoff": 15
           },
           "zerolinecolor": "white",
           "zerolinewidth": 2
          }
         }
        },
        "title": {
         "text": "Prescriptions Annually<Br>p = 1, d = 3, q = 3,"
        },
        "xaxis": {
         "rangeslider": {
          "visible": true
         },
         "title": {
          "text": "Year"
         }
        },
        "yaxis": {
         "title": {
          "text": "Prescriptions"
         }
        }
       }
      }
     },
     "metadata": {},
     "output_type": "display_data"
    },
    {
     "name": "stdout",
     "output_type": "stream",
     "text": [
      "The train SMAPE is 14.66% and the test SMAPE is 2.37% with the parameters p = 1, d = 3, q = 3.\n"
     ]
    }
   ],
   "source": [
    "# specific parameter ARIMA\n",
    "\n",
    "# instantiate parameter values\n",
    "p, d, q = 1, 3, 3\n",
    "\n",
    "# copy to not damage df\n",
    "predict_df = summary_df.copy(deep=True)\n",
    "\n",
    "# index to datetime\n",
    "predict_df.index = pd.to_datetime(predict_df.index)\n",
    "\n",
    "# determine length of train/test\n",
    "first_day = predict_df.index.min()\n",
    "last_day = predict_df.index.max()\n",
    "full_range = pd.date_range(start=first_day, end=last_day, freq=\"Q\")\n",
    "\n",
    "# fill any blanks\n",
    "predict_df.fillna(method='ffill',inplace=True)\n",
    "\n",
    "# define train/test\n",
    "train = predict_df.loc[predict_df.index <= cutoff].dropna()\n",
    "test = predict_df.loc[predict_df.index > cutoff]\n",
    "\n",
    "# instantiate model, fit\n",
    "model = SARIMAX(train, order=(p, d, q), trend=\"c\")\n",
    "model_fit = model.fit(disp=0)\n",
    "\n",
    "# get fit model\n",
    "predictions = model_fit.predict(start=0, end=len(train)+len(test)-1)\n",
    "\n",
    "# determine SMAPE for train and test\n",
    "train_smape = mean_absolute_percentage_error(pd.Series(list(train['Prescriptions'])), pd.Series(list(predictions[train.index])))\n",
    "test_smape = mean_absolute_percentage_error(pd.Series(list(test['Prescriptions'])), pd.Series(list(predictions[test.index])))\n",
    "\n",
    "# display fit summary\n",
    "display(model_fit.summary())\n",
    "\n",
    "# visualize train, test, prediction data\n",
    "fig = go.Figure()\n",
    "fig.add_trace(go.Scatter(x=list(train.index), y = train['Prescriptions'], name = 'Train'))\n",
    "fig.add_trace(go.Scatter(x=list(test.index), y = test['Prescriptions'], name = 'Test'))\n",
    "fig.add_trace(go.Scatter(x=list(predictions.index), y = predictions, name = 'Fit'))\n",
    "fig.update_layout(title=f\"Prescriptions Annually<Br>p = {p}, d = {d}, q = {q},\")\n",
    "fig.update_xaxes(rangeslider_visible=True)\n",
    "fig.update_layout(xaxis_title = 'Year', yaxis_title='Prescriptions')\n",
    "fig.show()\n",
    "\n",
    "# print out SMAPE values\n",
    "print(f\"The train SMAPE is {round(train_smape,2)}% and the test SMAPE is {round(test_smape,2)}% with the parameters p = {p}, d = {d}, q = {q}.\")"
   ]
  },
  {
   "cell_type": "code",
   "execution_count": 74,
   "metadata": {},
   "outputs": [
    {
     "data": {
      "application/vnd.plotly.v1+json": {
       "config": {
        "plotlyServerURL": "https://plot.ly"
       },
       "data": [
        {
         "name": "Train",
         "type": "scatter",
         "x": [
          "1991-03-31T00:00:00",
          "1991-06-30T00:00:00",
          "1991-09-30T00:00:00",
          "1991-12-31T00:00:00",
          "1992-03-31T00:00:00",
          "1992-06-30T00:00:00",
          "1992-09-30T00:00:00",
          "1992-12-31T00:00:00",
          "1993-03-31T00:00:00",
          "1993-06-30T00:00:00",
          "1993-09-30T00:00:00",
          "1993-12-31T00:00:00",
          "1994-03-31T00:00:00",
          "1994-06-30T00:00:00",
          "1994-09-30T00:00:00",
          "1994-12-31T00:00:00",
          "1995-03-31T00:00:00",
          "1995-06-30T00:00:00",
          "1995-09-30T00:00:00",
          "1995-12-31T00:00:00",
          "1996-03-31T00:00:00",
          "1996-06-30T00:00:00",
          "1996-09-30T00:00:00",
          "1996-12-31T00:00:00",
          "1997-03-31T00:00:00",
          "1997-06-30T00:00:00",
          "1997-09-30T00:00:00",
          "1997-12-31T00:00:00",
          "1998-03-31T00:00:00",
          "1998-06-30T00:00:00",
          "1998-09-30T00:00:00",
          "1998-12-31T00:00:00",
          "1999-03-31T00:00:00",
          "1999-06-30T00:00:00",
          "1999-09-30T00:00:00",
          "1999-12-31T00:00:00",
          "2000-03-31T00:00:00",
          "2000-06-30T00:00:00",
          "2000-09-30T00:00:00",
          "2000-12-31T00:00:00",
          "2001-03-31T00:00:00",
          "2001-06-30T00:00:00",
          "2001-09-30T00:00:00",
          "2001-12-31T00:00:00",
          "2002-03-31T00:00:00",
          "2002-06-30T00:00:00",
          "2002-09-30T00:00:00",
          "2002-12-31T00:00:00",
          "2003-03-31T00:00:00",
          "2003-06-30T00:00:00",
          "2003-09-30T00:00:00",
          "2003-12-31T00:00:00",
          "2004-03-31T00:00:00",
          "2004-06-30T00:00:00",
          "2004-09-30T00:00:00",
          "2004-12-31T00:00:00",
          "2005-03-31T00:00:00",
          "2005-06-30T00:00:00",
          "2005-09-30T00:00:00",
          "2005-12-31T00:00:00",
          "2006-03-31T00:00:00",
          "2006-06-30T00:00:00",
          "2006-09-30T00:00:00",
          "2006-12-31T00:00:00",
          "2007-03-31T00:00:00",
          "2007-06-30T00:00:00",
          "2007-09-30T00:00:00",
          "2007-12-31T00:00:00",
          "2008-03-31T00:00:00",
          "2008-06-30T00:00:00",
          "2008-09-30T00:00:00",
          "2008-12-31T00:00:00",
          "2009-03-31T00:00:00",
          "2009-06-30T00:00:00",
          "2009-09-30T00:00:00",
          "2009-12-31T00:00:00",
          "2010-03-31T00:00:00",
          "2010-06-30T00:00:00",
          "2010-09-30T00:00:00",
          "2010-12-31T00:00:00",
          "2011-03-31T00:00:00",
          "2011-06-30T00:00:00",
          "2011-09-30T00:00:00",
          "2011-12-31T00:00:00",
          "2012-03-31T00:00:00",
          "2012-06-30T00:00:00",
          "2012-09-30T00:00:00",
          "2012-12-31T00:00:00",
          "2013-03-31T00:00:00",
          "2013-06-30T00:00:00",
          "2013-09-30T00:00:00",
          "2013-12-31T00:00:00",
          "2014-03-31T00:00:00",
          "2014-06-30T00:00:00",
          "2014-09-30T00:00:00",
          "2014-12-31T00:00:00",
          "2015-03-31T00:00:00",
          "2015-06-30T00:00:00",
          "2015-09-30T00:00:00",
          "2015-12-31T00:00:00",
          "2016-03-31T00:00:00",
          "2016-06-30T00:00:00",
          "2016-09-30T00:00:00",
          "2016-12-31T00:00:00",
          "2017-03-31T00:00:00",
          "2017-06-30T00:00:00",
          "2017-09-30T00:00:00",
          "2017-12-31T00:00:00",
          "2018-03-31T00:00:00",
          "2018-06-30T00:00:00",
          "2018-09-30T00:00:00",
          "2018-12-31T00:00:00",
          "2019-03-31T00:00:00",
          "2019-06-30T00:00:00",
          "2019-09-30T00:00:00",
          "2019-12-31T00:00:00",
          "2020-03-31T00:00:00",
          "2020-06-30T00:00:00",
          "2020-09-30T00:00:00",
          "2020-12-31T00:00:00"
         ],
         "y": [
          40671417,
          59259062,
          67561929,
          74483016,
          82768107,
          76771911,
          75205718,
          85725818,
          94592593,
          87546897,
          90365485,
          91288201,
          95649251,
          86903138,
          80710031,
          85192833,
          81344496,
          85066309,
          118656269,
          118152327,
          118816430,
          109746553,
          108255354,
          110302647,
          108181714,
          104082407,
          101640278,
          102831754,
          115457635,
          114954963,
          110259724,
          117411919,
          119835397,
          114116641,
          109411018,
          120105562,
          115363517,
          115727207,
          120901051,
          143998778,
          136492477,
          133969846,
          130596243,
          134979726,
          134649367,
          136972367,
          140154979,
          145132430,
          145947666,
          148746142,
          366169219,
          178883335,
          226525799,
          363528419,
          274567736,
          333309563,
          484657321,
          241299355,
          167051950,
          338157239,
          96295892,
          91247082,
          80679087,
          87858219,
          92162500,
          87877891,
          86073000,
          84760915,
          91278368,
          96881224,
          86097352,
          93254818,
          94038855,
          110317402,
          97233671,
          100859933,
          110403567,
          145645056,
          152231412,
          163880199,
          167571475,
          166390382,
          144530171,
          162274733,
          165021240,
          164255682,
          167346136,
          163908723,
          163168995,
          158591581,
          151249924,
          154949611,
          156942717,
          173309001,
          175915786,
          182147561,
          179982587,
          188561670,
          187029956,
          193344331,
          204779756,
          195230026,
          191955696,
          210845769,
          208854028,
          212856351,
          195468627,
          207598039,
          225293382,
          221447889,
          210185491,
          216868482,
          223800327,
          215912716,
          215610424,
          218743695,
          221488850,
          186228229,
          211905808,
          222210513
         ]
        },
        {
         "name": "Test",
         "type": "scatter",
         "x": [
          "2021-03-31T00:00:00",
          "2021-06-30T00:00:00",
          "2021-09-30T00:00:00",
          "2021-12-31T00:00:00",
          "2022-03-31T00:00:00"
         ],
         "y": [
          228318503,
          237509501,
          244638796,
          247953922,
          242135394
         ]
        },
        {
         "name": "Fit",
         "type": "scatter",
         "x": [
          "1991-03-31T00:00:00",
          "1991-06-30T00:00:00",
          "1991-09-30T00:00:00",
          "1991-12-31T00:00:00",
          "1992-03-31T00:00:00",
          "1992-06-30T00:00:00",
          "1992-09-30T00:00:00",
          "1992-12-31T00:00:00",
          "1993-03-31T00:00:00",
          "1993-06-30T00:00:00",
          "1993-09-30T00:00:00",
          "1993-12-31T00:00:00",
          "1994-03-31T00:00:00",
          "1994-06-30T00:00:00",
          "1994-09-30T00:00:00",
          "1994-12-31T00:00:00",
          "1995-03-31T00:00:00",
          "1995-06-30T00:00:00",
          "1995-09-30T00:00:00",
          "1995-12-31T00:00:00",
          "1996-03-31T00:00:00",
          "1996-06-30T00:00:00",
          "1996-09-30T00:00:00",
          "1996-12-31T00:00:00",
          "1997-03-31T00:00:00",
          "1997-06-30T00:00:00",
          "1997-09-30T00:00:00",
          "1997-12-31T00:00:00",
          "1998-03-31T00:00:00",
          "1998-06-30T00:00:00",
          "1998-09-30T00:00:00",
          "1998-12-31T00:00:00",
          "1999-03-31T00:00:00",
          "1999-06-30T00:00:00",
          "1999-09-30T00:00:00",
          "1999-12-31T00:00:00",
          "2000-03-31T00:00:00",
          "2000-06-30T00:00:00",
          "2000-09-30T00:00:00",
          "2000-12-31T00:00:00",
          "2001-03-31T00:00:00",
          "2001-06-30T00:00:00",
          "2001-09-30T00:00:00",
          "2001-12-31T00:00:00",
          "2002-03-31T00:00:00",
          "2002-06-30T00:00:00",
          "2002-09-30T00:00:00",
          "2002-12-31T00:00:00",
          "2003-03-31T00:00:00",
          "2003-06-30T00:00:00",
          "2003-09-30T00:00:00",
          "2003-12-31T00:00:00",
          "2004-03-31T00:00:00",
          "2004-06-30T00:00:00",
          "2004-09-30T00:00:00",
          "2004-12-31T00:00:00",
          "2005-03-31T00:00:00",
          "2005-06-30T00:00:00",
          "2005-09-30T00:00:00",
          "2005-12-31T00:00:00",
          "2006-03-31T00:00:00",
          "2006-06-30T00:00:00",
          "2006-09-30T00:00:00",
          "2006-12-31T00:00:00",
          "2007-03-31T00:00:00",
          "2007-06-30T00:00:00",
          "2007-09-30T00:00:00",
          "2007-12-31T00:00:00",
          "2008-03-31T00:00:00",
          "2008-06-30T00:00:00",
          "2008-09-30T00:00:00",
          "2008-12-31T00:00:00",
          "2009-03-31T00:00:00",
          "2009-06-30T00:00:00",
          "2009-09-30T00:00:00",
          "2009-12-31T00:00:00",
          "2010-03-31T00:00:00",
          "2010-06-30T00:00:00",
          "2010-09-30T00:00:00",
          "2010-12-31T00:00:00",
          "2011-03-31T00:00:00",
          "2011-06-30T00:00:00",
          "2011-09-30T00:00:00",
          "2011-12-31T00:00:00",
          "2012-03-31T00:00:00",
          "2012-06-30T00:00:00",
          "2012-09-30T00:00:00",
          "2012-12-31T00:00:00",
          "2013-03-31T00:00:00",
          "2013-06-30T00:00:00",
          "2013-09-30T00:00:00",
          "2013-12-31T00:00:00",
          "2014-03-31T00:00:00",
          "2014-06-30T00:00:00",
          "2014-09-30T00:00:00",
          "2014-12-31T00:00:00",
          "2015-03-31T00:00:00",
          "2015-06-30T00:00:00",
          "2015-09-30T00:00:00",
          "2015-12-31T00:00:00",
          "2016-03-31T00:00:00",
          "2016-06-30T00:00:00",
          "2016-09-30T00:00:00",
          "2016-12-31T00:00:00",
          "2017-03-31T00:00:00",
          "2017-06-30T00:00:00",
          "2017-09-30T00:00:00",
          "2017-12-31T00:00:00",
          "2018-03-31T00:00:00",
          "2018-06-30T00:00:00",
          "2018-09-30T00:00:00",
          "2018-12-31T00:00:00",
          "2019-03-31T00:00:00",
          "2019-06-30T00:00:00",
          "2019-09-30T00:00:00",
          "2019-12-31T00:00:00",
          "2020-03-31T00:00:00",
          "2020-06-30T00:00:00",
          "2020-09-30T00:00:00",
          "2020-12-31T00:00:00",
          "2021-03-31T00:00:00",
          "2021-06-30T00:00:00",
          "2021-09-30T00:00:00",
          "2021-12-31T00:00:00",
          "2022-03-31T00:00:00"
         ],
         "y": [
          30221.599098976938,
          96680995.11612388,
          94197415.64763442,
          92668617.39870763,
          88882972.27321063,
          96708564.14294854,
          78523272.16485682,
          76981378.02797449,
          87514514.35967264,
          99558111.10785545,
          85373297.73498976,
          91722515.11951883,
          88461213.55810153,
          96969018.54995374,
          81244530.38093725,
          78082670.03370254,
          80007226.82900888,
          78129866.50943516,
          80612103.5210473,
          123633078.62379658,
          116230522.24209173,
          123233793.52530536,
          106008926.23950881,
          111429961.02130292,
          107173170.89454785,
          110810120.8927771,
          100471947.98314586,
          103616635.19068496,
          99808161.50266415,
          119674620.35971045,
          112618448.96210587,
          113760784.55818622,
          116770901.30756012,
          123990032.14387389,
          113132358.2732138,
          112946980.1774907,
          121319787.23197514,
          118448882.40644433,
          117414738.9906404,
          125082613.80266255,
          149781007.2118435,
          139971378.19130325,
          139623743.13276553,
          133879951.47977825,
          141421970.43764532,
          138139295.3935992,
          143770796.19999814,
          144326082.5833859,
          152645504.20740318,
          150366631.12223265,
          156540984.5819951,
          405038307.2703043,
          158892602.91909802,
          271051728.7775502,
          367103756.0091912,
          303630834.8226159,
          346995090.58240366,
          536288209.55785656,
          218082677.28768218,
          203917371.47975814,
          341696363.3298799,
          92142281.06397331,
          92152663.52830118,
          72177998.55572885,
          86917717.72567567,
          82261292.78332096,
          83995487.30330318,
          74508664.46106938,
          79081118.08507577,
          79918814.505972,
          91141765.8529365,
          72894100.6672595,
          88262661.85299343,
          81338020.88996154,
          107923272.11335248,
          83466692.01189722,
          99477189.52978048,
          99470111.44210958,
          150421304.685225,
          144119569.58875275,
          171512190.01710486,
          162146846.27491084,
          174940860.0157834,
          137758494.17975897,
          174419166.95133758,
          160526757.5533089,
          176894242.22923505,
          165073441.88946074,
          176479762.63008016,
          162226029.9759994,
          170727988.2550233,
          150290919.03656998,
          167681020.66848645,
          157134879.91164115,
          188392095.564276,
          177253296.20248562,
          197915328.39540395,
          181631381.95320553,
          205186848.2346468,
          188896017.93682855,
          210268418.87567064,
          208682887.42961478,
          209883274.3149439,
          195392901.38986358,
          227467235.92073974,
          211816238.96307632,
          229016961.6060314,
          195546944.21868107,
          224315468.82758364,
          227773737.6031619,
          236188521.81053674,
          210595230.40385294,
          231255661.8813408,
          224799984.13331982,
          227657927.45793146,
          216051694.38233447,
          229595437.3863582,
          221773338.57158303,
          190365218.94528532,
          215429651.06981462,
          226833517.42683607,
          230304755.94761467,
          234738849.7068287,
          238312786.08614445,
          242704492.40991536
         ]
        }
       ],
       "layout": {
        "template": {
         "data": {
          "bar": [
           {
            "error_x": {
             "color": "#2a3f5f"
            },
            "error_y": {
             "color": "#2a3f5f"
            },
            "marker": {
             "line": {
              "color": "#E5ECF6",
              "width": 0.5
             },
             "pattern": {
              "fillmode": "overlay",
              "size": 10,
              "solidity": 0.2
             }
            },
            "type": "bar"
           }
          ],
          "barpolar": [
           {
            "marker": {
             "line": {
              "color": "#E5ECF6",
              "width": 0.5
             },
             "pattern": {
              "fillmode": "overlay",
              "size": 10,
              "solidity": 0.2
             }
            },
            "type": "barpolar"
           }
          ],
          "carpet": [
           {
            "aaxis": {
             "endlinecolor": "#2a3f5f",
             "gridcolor": "white",
             "linecolor": "white",
             "minorgridcolor": "white",
             "startlinecolor": "#2a3f5f"
            },
            "baxis": {
             "endlinecolor": "#2a3f5f",
             "gridcolor": "white",
             "linecolor": "white",
             "minorgridcolor": "white",
             "startlinecolor": "#2a3f5f"
            },
            "type": "carpet"
           }
          ],
          "choropleth": [
           {
            "colorbar": {
             "outlinewidth": 0,
             "ticks": ""
            },
            "type": "choropleth"
           }
          ],
          "contour": [
           {
            "colorbar": {
             "outlinewidth": 0,
             "ticks": ""
            },
            "colorscale": [
             [
              0,
              "#0d0887"
             ],
             [
              0.1111111111111111,
              "#46039f"
             ],
             [
              0.2222222222222222,
              "#7201a8"
             ],
             [
              0.3333333333333333,
              "#9c179e"
             ],
             [
              0.4444444444444444,
              "#bd3786"
             ],
             [
              0.5555555555555556,
              "#d8576b"
             ],
             [
              0.6666666666666666,
              "#ed7953"
             ],
             [
              0.7777777777777778,
              "#fb9f3a"
             ],
             [
              0.8888888888888888,
              "#fdca26"
             ],
             [
              1,
              "#f0f921"
             ]
            ],
            "type": "contour"
           }
          ],
          "contourcarpet": [
           {
            "colorbar": {
             "outlinewidth": 0,
             "ticks": ""
            },
            "type": "contourcarpet"
           }
          ],
          "heatmap": [
           {
            "colorbar": {
             "outlinewidth": 0,
             "ticks": ""
            },
            "colorscale": [
             [
              0,
              "#0d0887"
             ],
             [
              0.1111111111111111,
              "#46039f"
             ],
             [
              0.2222222222222222,
              "#7201a8"
             ],
             [
              0.3333333333333333,
              "#9c179e"
             ],
             [
              0.4444444444444444,
              "#bd3786"
             ],
             [
              0.5555555555555556,
              "#d8576b"
             ],
             [
              0.6666666666666666,
              "#ed7953"
             ],
             [
              0.7777777777777778,
              "#fb9f3a"
             ],
             [
              0.8888888888888888,
              "#fdca26"
             ],
             [
              1,
              "#f0f921"
             ]
            ],
            "type": "heatmap"
           }
          ],
          "heatmapgl": [
           {
            "colorbar": {
             "outlinewidth": 0,
             "ticks": ""
            },
            "colorscale": [
             [
              0,
              "#0d0887"
             ],
             [
              0.1111111111111111,
              "#46039f"
             ],
             [
              0.2222222222222222,
              "#7201a8"
             ],
             [
              0.3333333333333333,
              "#9c179e"
             ],
             [
              0.4444444444444444,
              "#bd3786"
             ],
             [
              0.5555555555555556,
              "#d8576b"
             ],
             [
              0.6666666666666666,
              "#ed7953"
             ],
             [
              0.7777777777777778,
              "#fb9f3a"
             ],
             [
              0.8888888888888888,
              "#fdca26"
             ],
             [
              1,
              "#f0f921"
             ]
            ],
            "type": "heatmapgl"
           }
          ],
          "histogram": [
           {
            "marker": {
             "pattern": {
              "fillmode": "overlay",
              "size": 10,
              "solidity": 0.2
             }
            },
            "type": "histogram"
           }
          ],
          "histogram2d": [
           {
            "colorbar": {
             "outlinewidth": 0,
             "ticks": ""
            },
            "colorscale": [
             [
              0,
              "#0d0887"
             ],
             [
              0.1111111111111111,
              "#46039f"
             ],
             [
              0.2222222222222222,
              "#7201a8"
             ],
             [
              0.3333333333333333,
              "#9c179e"
             ],
             [
              0.4444444444444444,
              "#bd3786"
             ],
             [
              0.5555555555555556,
              "#d8576b"
             ],
             [
              0.6666666666666666,
              "#ed7953"
             ],
             [
              0.7777777777777778,
              "#fb9f3a"
             ],
             [
              0.8888888888888888,
              "#fdca26"
             ],
             [
              1,
              "#f0f921"
             ]
            ],
            "type": "histogram2d"
           }
          ],
          "histogram2dcontour": [
           {
            "colorbar": {
             "outlinewidth": 0,
             "ticks": ""
            },
            "colorscale": [
             [
              0,
              "#0d0887"
             ],
             [
              0.1111111111111111,
              "#46039f"
             ],
             [
              0.2222222222222222,
              "#7201a8"
             ],
             [
              0.3333333333333333,
              "#9c179e"
             ],
             [
              0.4444444444444444,
              "#bd3786"
             ],
             [
              0.5555555555555556,
              "#d8576b"
             ],
             [
              0.6666666666666666,
              "#ed7953"
             ],
             [
              0.7777777777777778,
              "#fb9f3a"
             ],
             [
              0.8888888888888888,
              "#fdca26"
             ],
             [
              1,
              "#f0f921"
             ]
            ],
            "type": "histogram2dcontour"
           }
          ],
          "mesh3d": [
           {
            "colorbar": {
             "outlinewidth": 0,
             "ticks": ""
            },
            "type": "mesh3d"
           }
          ],
          "parcoords": [
           {
            "line": {
             "colorbar": {
              "outlinewidth": 0,
              "ticks": ""
             }
            },
            "type": "parcoords"
           }
          ],
          "pie": [
           {
            "automargin": true,
            "type": "pie"
           }
          ],
          "scatter": [
           {
            "fillpattern": {
             "fillmode": "overlay",
             "size": 10,
             "solidity": 0.2
            },
            "type": "scatter"
           }
          ],
          "scatter3d": [
           {
            "line": {
             "colorbar": {
              "outlinewidth": 0,
              "ticks": ""
             }
            },
            "marker": {
             "colorbar": {
              "outlinewidth": 0,
              "ticks": ""
             }
            },
            "type": "scatter3d"
           }
          ],
          "scattercarpet": [
           {
            "marker": {
             "colorbar": {
              "outlinewidth": 0,
              "ticks": ""
             }
            },
            "type": "scattercarpet"
           }
          ],
          "scattergeo": [
           {
            "marker": {
             "colorbar": {
              "outlinewidth": 0,
              "ticks": ""
             }
            },
            "type": "scattergeo"
           }
          ],
          "scattergl": [
           {
            "marker": {
             "colorbar": {
              "outlinewidth": 0,
              "ticks": ""
             }
            },
            "type": "scattergl"
           }
          ],
          "scattermapbox": [
           {
            "marker": {
             "colorbar": {
              "outlinewidth": 0,
              "ticks": ""
             }
            },
            "type": "scattermapbox"
           }
          ],
          "scatterpolar": [
           {
            "marker": {
             "colorbar": {
              "outlinewidth": 0,
              "ticks": ""
             }
            },
            "type": "scatterpolar"
           }
          ],
          "scatterpolargl": [
           {
            "marker": {
             "colorbar": {
              "outlinewidth": 0,
              "ticks": ""
             }
            },
            "type": "scatterpolargl"
           }
          ],
          "scatterternary": [
           {
            "marker": {
             "colorbar": {
              "outlinewidth": 0,
              "ticks": ""
             }
            },
            "type": "scatterternary"
           }
          ],
          "surface": [
           {
            "colorbar": {
             "outlinewidth": 0,
             "ticks": ""
            },
            "colorscale": [
             [
              0,
              "#0d0887"
             ],
             [
              0.1111111111111111,
              "#46039f"
             ],
             [
              0.2222222222222222,
              "#7201a8"
             ],
             [
              0.3333333333333333,
              "#9c179e"
             ],
             [
              0.4444444444444444,
              "#bd3786"
             ],
             [
              0.5555555555555556,
              "#d8576b"
             ],
             [
              0.6666666666666666,
              "#ed7953"
             ],
             [
              0.7777777777777778,
              "#fb9f3a"
             ],
             [
              0.8888888888888888,
              "#fdca26"
             ],
             [
              1,
              "#f0f921"
             ]
            ],
            "type": "surface"
           }
          ],
          "table": [
           {
            "cells": {
             "fill": {
              "color": "#EBF0F8"
             },
             "line": {
              "color": "white"
             }
            },
            "header": {
             "fill": {
              "color": "#C8D4E3"
             },
             "line": {
              "color": "white"
             }
            },
            "type": "table"
           }
          ]
         },
         "layout": {
          "annotationdefaults": {
           "arrowcolor": "#2a3f5f",
           "arrowhead": 0,
           "arrowwidth": 1
          },
          "autotypenumbers": "strict",
          "coloraxis": {
           "colorbar": {
            "outlinewidth": 0,
            "ticks": ""
           }
          },
          "colorscale": {
           "diverging": [
            [
             0,
             "#8e0152"
            ],
            [
             0.1,
             "#c51b7d"
            ],
            [
             0.2,
             "#de77ae"
            ],
            [
             0.3,
             "#f1b6da"
            ],
            [
             0.4,
             "#fde0ef"
            ],
            [
             0.5,
             "#f7f7f7"
            ],
            [
             0.6,
             "#e6f5d0"
            ],
            [
             0.7,
             "#b8e186"
            ],
            [
             0.8,
             "#7fbc41"
            ],
            [
             0.9,
             "#4d9221"
            ],
            [
             1,
             "#276419"
            ]
           ],
           "sequential": [
            [
             0,
             "#0d0887"
            ],
            [
             0.1111111111111111,
             "#46039f"
            ],
            [
             0.2222222222222222,
             "#7201a8"
            ],
            [
             0.3333333333333333,
             "#9c179e"
            ],
            [
             0.4444444444444444,
             "#bd3786"
            ],
            [
             0.5555555555555556,
             "#d8576b"
            ],
            [
             0.6666666666666666,
             "#ed7953"
            ],
            [
             0.7777777777777778,
             "#fb9f3a"
            ],
            [
             0.8888888888888888,
             "#fdca26"
            ],
            [
             1,
             "#f0f921"
            ]
           ],
           "sequentialminus": [
            [
             0,
             "#0d0887"
            ],
            [
             0.1111111111111111,
             "#46039f"
            ],
            [
             0.2222222222222222,
             "#7201a8"
            ],
            [
             0.3333333333333333,
             "#9c179e"
            ],
            [
             0.4444444444444444,
             "#bd3786"
            ],
            [
             0.5555555555555556,
             "#d8576b"
            ],
            [
             0.6666666666666666,
             "#ed7953"
            ],
            [
             0.7777777777777778,
             "#fb9f3a"
            ],
            [
             0.8888888888888888,
             "#fdca26"
            ],
            [
             1,
             "#f0f921"
            ]
           ]
          },
          "colorway": [
           "#636efa",
           "#EF553B",
           "#00cc96",
           "#ab63fa",
           "#FFA15A",
           "#19d3f3",
           "#FF6692",
           "#B6E880",
           "#FF97FF",
           "#FECB52"
          ],
          "font": {
           "color": "#2a3f5f"
          },
          "geo": {
           "bgcolor": "white",
           "lakecolor": "white",
           "landcolor": "#E5ECF6",
           "showlakes": true,
           "showland": true,
           "subunitcolor": "white"
          },
          "hoverlabel": {
           "align": "left"
          },
          "hovermode": "closest",
          "mapbox": {
           "style": "light"
          },
          "paper_bgcolor": "white",
          "plot_bgcolor": "#E5ECF6",
          "polar": {
           "angularaxis": {
            "gridcolor": "white",
            "linecolor": "white",
            "ticks": ""
           },
           "bgcolor": "#E5ECF6",
           "radialaxis": {
            "gridcolor": "white",
            "linecolor": "white",
            "ticks": ""
           }
          },
          "scene": {
           "xaxis": {
            "backgroundcolor": "#E5ECF6",
            "gridcolor": "white",
            "gridwidth": 2,
            "linecolor": "white",
            "showbackground": true,
            "ticks": "",
            "zerolinecolor": "white"
           },
           "yaxis": {
            "backgroundcolor": "#E5ECF6",
            "gridcolor": "white",
            "gridwidth": 2,
            "linecolor": "white",
            "showbackground": true,
            "ticks": "",
            "zerolinecolor": "white"
           },
           "zaxis": {
            "backgroundcolor": "#E5ECF6",
            "gridcolor": "white",
            "gridwidth": 2,
            "linecolor": "white",
            "showbackground": true,
            "ticks": "",
            "zerolinecolor": "white"
           }
          },
          "shapedefaults": {
           "line": {
            "color": "#2a3f5f"
           }
          },
          "ternary": {
           "aaxis": {
            "gridcolor": "white",
            "linecolor": "white",
            "ticks": ""
           },
           "baxis": {
            "gridcolor": "white",
            "linecolor": "white",
            "ticks": ""
           },
           "bgcolor": "#E5ECF6",
           "caxis": {
            "gridcolor": "white",
            "linecolor": "white",
            "ticks": ""
           }
          },
          "title": {
           "x": 0.05
          },
          "xaxis": {
           "automargin": true,
           "gridcolor": "white",
           "linecolor": "white",
           "ticks": "",
           "title": {
            "standoff": 15
           },
           "zerolinecolor": "white",
           "zerolinewidth": 2
          },
          "yaxis": {
           "automargin": true,
           "gridcolor": "white",
           "linecolor": "white",
           "ticks": "",
           "title": {
            "standoff": 15
           },
           "zerolinecolor": "white",
           "zerolinewidth": 2
          }
         }
        },
        "title": {
         "text": "Prescriptions Reimbursed Quarterly, 1991-2022<Br>p = 1, d = 3, q = 3,"
        },
        "xaxis": {
         "rangeslider": {
          "visible": false
         },
         "title": {
          "text": "Year"
         }
        },
        "yaxis": {
         "title": {
          "text": "Prescriptions"
         }
        }
       }
      }
     },
     "metadata": {},
     "output_type": "display_data"
    },
    {
     "name": "stdout",
     "output_type": "stream",
     "text": [
      "The train SMAPE is 14.66% and the test SMAPE is 2.37% with the parameters p = 1, d = 3, q = 3.\n"
     ]
    }
   ],
   "source": [
    "# figure for presentation\n",
    "\n",
    "# visualize train, test, prediction data\n",
    "fig = go.Figure()\n",
    "fig.add_trace(go.Scatter(x=list(train.index), y = train['Prescriptions'], name = 'Train'))\n",
    "fig.add_trace(go.Scatter(x=list(test.index), y = test['Prescriptions'], name = 'Test'))\n",
    "fig.add_trace(go.Scatter(x=list(predictions.index), y = predictions, name = 'Fit'))\n",
    "fig.update_layout(title=f\"Prescriptions Reimbursed Quarterly, 1991-2022<Br>p = {p}, d = {d}, q = {q},\")\n",
    "fig.update_xaxes(rangeslider_visible=False)\n",
    "fig.update_layout(xaxis_title = 'Year', yaxis_title='Prescriptions')\n",
    "fig.show()\n",
    "\n",
    "# print out SMAPE values\n",
    "print(f\"The train SMAPE is {round(train_smape,2)}% and the test SMAPE is {round(test_smape,2)}% with the parameters p = {p}, d = {d}, q = {q}.\")"
   ]
  },
  {
   "attachments": {},
   "cell_type": "markdown",
   "metadata": {},
   "source": [
    "Our model visually appears to fit well to both train and test data, and the test SMAPE is relatively low. I'll take the average of the top parameters to try to optimize the fit."
   ]
  },
  {
   "cell_type": "code",
   "execution_count": 75,
   "metadata": {},
   "outputs": [
    {
     "data": {
      "application/vnd.plotly.v1+json": {
       "config": {
        "plotlyServerURL": "https://plot.ly"
       },
       "data": [
        {
         "name": "Train",
         "type": "scatter",
         "x": [
          "1991-03-31T00:00:00",
          "1991-06-30T00:00:00",
          "1991-09-30T00:00:00",
          "1991-12-31T00:00:00",
          "1992-03-31T00:00:00",
          "1992-06-30T00:00:00",
          "1992-09-30T00:00:00",
          "1992-12-31T00:00:00",
          "1993-03-31T00:00:00",
          "1993-06-30T00:00:00",
          "1993-09-30T00:00:00",
          "1993-12-31T00:00:00",
          "1994-03-31T00:00:00",
          "1994-06-30T00:00:00",
          "1994-09-30T00:00:00",
          "1994-12-31T00:00:00",
          "1995-03-31T00:00:00",
          "1995-06-30T00:00:00",
          "1995-09-30T00:00:00",
          "1995-12-31T00:00:00",
          "1996-03-31T00:00:00",
          "1996-06-30T00:00:00",
          "1996-09-30T00:00:00",
          "1996-12-31T00:00:00",
          "1997-03-31T00:00:00",
          "1997-06-30T00:00:00",
          "1997-09-30T00:00:00",
          "1997-12-31T00:00:00",
          "1998-03-31T00:00:00",
          "1998-06-30T00:00:00",
          "1998-09-30T00:00:00",
          "1998-12-31T00:00:00",
          "1999-03-31T00:00:00",
          "1999-06-30T00:00:00",
          "1999-09-30T00:00:00",
          "1999-12-31T00:00:00",
          "2000-03-31T00:00:00",
          "2000-06-30T00:00:00",
          "2000-09-30T00:00:00",
          "2000-12-31T00:00:00",
          "2001-03-31T00:00:00",
          "2001-06-30T00:00:00",
          "2001-09-30T00:00:00",
          "2001-12-31T00:00:00",
          "2002-03-31T00:00:00",
          "2002-06-30T00:00:00",
          "2002-09-30T00:00:00",
          "2002-12-31T00:00:00",
          "2003-03-31T00:00:00",
          "2003-06-30T00:00:00",
          "2003-09-30T00:00:00",
          "2003-12-31T00:00:00",
          "2004-03-31T00:00:00",
          "2004-06-30T00:00:00",
          "2004-09-30T00:00:00",
          "2004-12-31T00:00:00",
          "2005-03-31T00:00:00",
          "2005-06-30T00:00:00",
          "2005-09-30T00:00:00",
          "2005-12-31T00:00:00",
          "2006-03-31T00:00:00",
          "2006-06-30T00:00:00",
          "2006-09-30T00:00:00",
          "2006-12-31T00:00:00",
          "2007-03-31T00:00:00",
          "2007-06-30T00:00:00",
          "2007-09-30T00:00:00",
          "2007-12-31T00:00:00",
          "2008-03-31T00:00:00",
          "2008-06-30T00:00:00",
          "2008-09-30T00:00:00",
          "2008-12-31T00:00:00",
          "2009-03-31T00:00:00",
          "2009-06-30T00:00:00",
          "2009-09-30T00:00:00",
          "2009-12-31T00:00:00",
          "2010-03-31T00:00:00",
          "2010-06-30T00:00:00",
          "2010-09-30T00:00:00",
          "2010-12-31T00:00:00",
          "2011-03-31T00:00:00",
          "2011-06-30T00:00:00",
          "2011-09-30T00:00:00",
          "2011-12-31T00:00:00",
          "2012-03-31T00:00:00",
          "2012-06-30T00:00:00",
          "2012-09-30T00:00:00",
          "2012-12-31T00:00:00",
          "2013-03-31T00:00:00",
          "2013-06-30T00:00:00",
          "2013-09-30T00:00:00",
          "2013-12-31T00:00:00",
          "2014-03-31T00:00:00",
          "2014-06-30T00:00:00",
          "2014-09-30T00:00:00",
          "2014-12-31T00:00:00",
          "2015-03-31T00:00:00",
          "2015-06-30T00:00:00",
          "2015-09-30T00:00:00",
          "2015-12-31T00:00:00",
          "2016-03-31T00:00:00",
          "2016-06-30T00:00:00",
          "2016-09-30T00:00:00",
          "2016-12-31T00:00:00",
          "2017-03-31T00:00:00",
          "2017-06-30T00:00:00",
          "2017-09-30T00:00:00",
          "2017-12-31T00:00:00",
          "2018-03-31T00:00:00",
          "2018-06-30T00:00:00",
          "2018-09-30T00:00:00",
          "2018-12-31T00:00:00",
          "2019-03-31T00:00:00",
          "2019-06-30T00:00:00",
          "2019-09-30T00:00:00",
          "2019-12-31T00:00:00",
          "2020-03-31T00:00:00",
          "2020-06-30T00:00:00",
          "2020-09-30T00:00:00",
          "2020-12-31T00:00:00"
         ],
         "y": [
          40671417,
          59259062,
          67561929,
          74483016,
          82768107,
          76771911,
          75205718,
          85725818,
          94592593,
          87546897,
          90365485,
          91288201,
          95649251,
          86903138,
          80710031,
          85192833,
          81344496,
          85066309,
          118656269,
          118152327,
          118816430,
          109746553,
          108255354,
          110302647,
          108181714,
          104082407,
          101640278,
          102831754,
          115457635,
          114954963,
          110259724,
          117411919,
          119835397,
          114116641,
          109411018,
          120105562,
          115363517,
          115727207,
          120901051,
          143998778,
          136492477,
          133969846,
          130596243,
          134979726,
          134649367,
          136972367,
          140154979,
          145132430,
          145947666,
          148746142,
          366169219,
          178883335,
          226525799,
          363528419,
          274567736,
          333309563,
          484657321,
          241299355,
          167051950,
          338157239,
          96295892,
          91247082,
          80679087,
          87858219,
          92162500,
          87877891,
          86073000,
          84760915,
          91278368,
          96881224,
          86097352,
          93254818,
          94038855,
          110317402,
          97233671,
          100859933,
          110403567,
          145645056,
          152231412,
          163880199,
          167571475,
          166390382,
          144530171,
          162274733,
          165021240,
          164255682,
          167346136,
          163908723,
          163168995,
          158591581,
          151249924,
          154949611,
          156942717,
          173309001,
          175915786,
          182147561,
          179982587,
          188561670,
          187029956,
          193344331,
          204779756,
          195230026,
          191955696,
          210845769,
          208854028,
          212856351,
          195468627,
          207598039,
          225293382,
          221447889,
          210185491,
          216868482,
          223800327,
          215912716,
          215610424,
          218743695,
          221488850,
          186228229,
          211905808,
          222210513
         ]
        },
        {
         "name": "Test",
         "type": "scatter",
         "x": [
          "2021-03-31T00:00:00",
          "2021-06-30T00:00:00",
          "2021-09-30T00:00:00",
          "2021-12-31T00:00:00",
          "2022-03-31T00:00:00"
         ],
         "y": [
          228318503,
          237509501,
          244638796,
          247953922,
          242135394
         ]
        },
        {
         "name": "Averaged Fit",
         "type": "scatter",
         "x": [
          "1991-03-31T00:00:00",
          "1991-06-30T00:00:00",
          "1991-09-30T00:00:00",
          "1991-12-31T00:00:00",
          "1992-03-31T00:00:00",
          "1992-06-30T00:00:00",
          "1992-09-30T00:00:00",
          "1992-12-31T00:00:00",
          "1993-03-31T00:00:00",
          "1993-06-30T00:00:00",
          "1993-09-30T00:00:00",
          "1993-12-31T00:00:00",
          "1994-03-31T00:00:00",
          "1994-06-30T00:00:00",
          "1994-09-30T00:00:00",
          "1994-12-31T00:00:00",
          "1995-03-31T00:00:00",
          "1995-06-30T00:00:00",
          "1995-09-30T00:00:00",
          "1995-12-31T00:00:00",
          "1996-03-31T00:00:00",
          "1996-06-30T00:00:00",
          "1996-09-30T00:00:00",
          "1996-12-31T00:00:00",
          "1997-03-31T00:00:00",
          "1997-06-30T00:00:00",
          "1997-09-30T00:00:00",
          "1997-12-31T00:00:00",
          "1998-03-31T00:00:00",
          "1998-06-30T00:00:00",
          "1998-09-30T00:00:00",
          "1998-12-31T00:00:00",
          "1999-03-31T00:00:00",
          "1999-06-30T00:00:00",
          "1999-09-30T00:00:00",
          "1999-12-31T00:00:00",
          "2000-03-31T00:00:00",
          "2000-06-30T00:00:00",
          "2000-09-30T00:00:00",
          "2000-12-31T00:00:00",
          "2001-03-31T00:00:00",
          "2001-06-30T00:00:00",
          "2001-09-30T00:00:00",
          "2001-12-31T00:00:00",
          "2002-03-31T00:00:00",
          "2002-06-30T00:00:00",
          "2002-09-30T00:00:00",
          "2002-12-31T00:00:00",
          "2003-03-31T00:00:00",
          "2003-06-30T00:00:00",
          "2003-09-30T00:00:00",
          "2003-12-31T00:00:00",
          "2004-03-31T00:00:00",
          "2004-06-30T00:00:00",
          "2004-09-30T00:00:00",
          "2004-12-31T00:00:00",
          "2005-03-31T00:00:00",
          "2005-06-30T00:00:00",
          "2005-09-30T00:00:00",
          "2005-12-31T00:00:00",
          "2006-03-31T00:00:00",
          "2006-06-30T00:00:00",
          "2006-09-30T00:00:00",
          "2006-12-31T00:00:00",
          "2007-03-31T00:00:00",
          "2007-06-30T00:00:00",
          "2007-09-30T00:00:00",
          "2007-12-31T00:00:00",
          "2008-03-31T00:00:00",
          "2008-06-30T00:00:00",
          "2008-09-30T00:00:00",
          "2008-12-31T00:00:00",
          "2009-03-31T00:00:00",
          "2009-06-30T00:00:00",
          "2009-09-30T00:00:00",
          "2009-12-31T00:00:00",
          "2010-03-31T00:00:00",
          "2010-06-30T00:00:00",
          "2010-09-30T00:00:00",
          "2010-12-31T00:00:00",
          "2011-03-31T00:00:00",
          "2011-06-30T00:00:00",
          "2011-09-30T00:00:00",
          "2011-12-31T00:00:00",
          "2012-03-31T00:00:00",
          "2012-06-30T00:00:00",
          "2012-09-30T00:00:00",
          "2012-12-31T00:00:00",
          "2013-03-31T00:00:00",
          "2013-06-30T00:00:00",
          "2013-09-30T00:00:00",
          "2013-12-31T00:00:00",
          "2014-03-31T00:00:00",
          "2014-06-30T00:00:00",
          "2014-09-30T00:00:00",
          "2014-12-31T00:00:00",
          "2015-03-31T00:00:00",
          "2015-06-30T00:00:00",
          "2015-09-30T00:00:00",
          "2015-12-31T00:00:00",
          "2016-03-31T00:00:00",
          "2016-06-30T00:00:00",
          "2016-09-30T00:00:00",
          "2016-12-31T00:00:00",
          "2017-03-31T00:00:00",
          "2017-06-30T00:00:00",
          "2017-09-30T00:00:00",
          "2017-12-31T00:00:00",
          "2018-03-31T00:00:00",
          "2018-06-30T00:00:00",
          "2018-09-30T00:00:00",
          "2018-12-31T00:00:00",
          "2019-03-31T00:00:00",
          "2019-06-30T00:00:00",
          "2019-09-30T00:00:00",
          "2019-12-31T00:00:00",
          "2020-03-31T00:00:00",
          "2020-06-30T00:00:00",
          "2020-09-30T00:00:00",
          "2020-12-31T00:00:00",
          "2021-03-31T00:00:00",
          "2021-06-30T00:00:00",
          "2021-09-30T00:00:00",
          "2021-12-31T00:00:00",
          "2022-03-31T00:00:00"
         ],
         "y": [
          1450683.9498096434,
          51944328.36927924,
          66816060.241528384,
          77530026.97609346,
          81364796.33630031,
          86248549.57183658,
          80791740.18284656,
          77970434.98012774,
          84437671.95429192,
          94025979.4140644,
          90977826.61395542,
          92420665.07544088,
          91572700.665987,
          96231952.43916988,
          89960644.20138508,
          84130514.23937966,
          84612465.0833639,
          82784524.27722977,
          85694317.79549843,
          112390200.1307456,
          119036875.0522805,
          124295100.76312183,
          114847812.63956957,
          111927816.01309836,
          111671857.80919433,
          111738248.59756638,
          107993431.6886701,
          105849262.50535929,
          104975742.77848883,
          115738457.5992475,
          117559898.10806094,
          116401626.39183839,
          119245240.51935107,
          122574556.16558693,
          119337376.05528282,
          115459365.03111981,
          120799636.26981895,
          119882787.70458698,
          120430224.72362,
          123823193.44844495,
          141959386.08376527,
          142286969.95234337,
          141279182.34911868,
          135904301.9340501,
          138153288.52617007,
          138787592.3326199,
          141467937.89418277,
          143793072.4271132,
          148735818.2805629,
          150279076.64509428,
          153348985.6134243,
          317783522.9675576,
          221071208.09076655,
          247603592.47810745,
          321886333.8257169,
          298030713.1214611,
          341269195.7106778,
          450480433.77709633,
          302054518.2969896,
          221010849.16386655,
          286340006.22712094,
          145597614.51060256,
          119811883.40032263,
          73517374.90689647,
          80763776.94900087,
          93960951.90904433,
          89419102.66606945,
          87299994.3076615,
          85275617.42778735,
          88942986.48121431,
          95652613.02350707,
          88788273.02513365,
          93516247.4620503,
          93018345.19656022,
          108220358.25476389,
          100986352.18141825,
          104274094.69932783,
          108726424.51293568,
          139828715.74214423,
          152397620.94038907,
          168281983.46462822,
          170656333.83992013,
          172963846.31229532,
          154514084.65792,
          164988563.81958488,
          166054695.42316893,
          171900903.60269105,
          171768543.1631442,
          171181878.48776188,
          168152056.6904622,
          166177794.89930317,
          157449407.15244624,
          160335203.6534745,
          159777901.91667178,
          175440219.51634607,
          178934987.6539166,
          187873706.060959,
          184886386.3720533,
          193090229.20106617,
          191097792.79467192,
          198623385.66559926,
          205878857.91750184,
          203668697.05473676,
          198390231.6495116,
          211778730.73697063,
          212099867.9424399,
          219444531.47819462,
          203861262.61188766,
          211333089.4424071,
          222919439.36655006,
          228002366.0893377,
          218636866.56315625,
          221333716.0313487,
          224242296.06102893,
          223399700.57168773,
          220257234.64844635,
          222650335.56709406,
          223787433.4526039,
          199997069.73501638,
          210607540.07193133,
          220108290.69739565,
          226014689.51504633,
          230446543.32405075,
          231424991.14842215,
          236648490.68567693
         ]
        }
       ],
       "layout": {
        "template": {
         "data": {
          "bar": [
           {
            "error_x": {
             "color": "#2a3f5f"
            },
            "error_y": {
             "color": "#2a3f5f"
            },
            "marker": {
             "line": {
              "color": "#E5ECF6",
              "width": 0.5
             },
             "pattern": {
              "fillmode": "overlay",
              "size": 10,
              "solidity": 0.2
             }
            },
            "type": "bar"
           }
          ],
          "barpolar": [
           {
            "marker": {
             "line": {
              "color": "#E5ECF6",
              "width": 0.5
             },
             "pattern": {
              "fillmode": "overlay",
              "size": 10,
              "solidity": 0.2
             }
            },
            "type": "barpolar"
           }
          ],
          "carpet": [
           {
            "aaxis": {
             "endlinecolor": "#2a3f5f",
             "gridcolor": "white",
             "linecolor": "white",
             "minorgridcolor": "white",
             "startlinecolor": "#2a3f5f"
            },
            "baxis": {
             "endlinecolor": "#2a3f5f",
             "gridcolor": "white",
             "linecolor": "white",
             "minorgridcolor": "white",
             "startlinecolor": "#2a3f5f"
            },
            "type": "carpet"
           }
          ],
          "choropleth": [
           {
            "colorbar": {
             "outlinewidth": 0,
             "ticks": ""
            },
            "type": "choropleth"
           }
          ],
          "contour": [
           {
            "colorbar": {
             "outlinewidth": 0,
             "ticks": ""
            },
            "colorscale": [
             [
              0,
              "#0d0887"
             ],
             [
              0.1111111111111111,
              "#46039f"
             ],
             [
              0.2222222222222222,
              "#7201a8"
             ],
             [
              0.3333333333333333,
              "#9c179e"
             ],
             [
              0.4444444444444444,
              "#bd3786"
             ],
             [
              0.5555555555555556,
              "#d8576b"
             ],
             [
              0.6666666666666666,
              "#ed7953"
             ],
             [
              0.7777777777777778,
              "#fb9f3a"
             ],
             [
              0.8888888888888888,
              "#fdca26"
             ],
             [
              1,
              "#f0f921"
             ]
            ],
            "type": "contour"
           }
          ],
          "contourcarpet": [
           {
            "colorbar": {
             "outlinewidth": 0,
             "ticks": ""
            },
            "type": "contourcarpet"
           }
          ],
          "heatmap": [
           {
            "colorbar": {
             "outlinewidth": 0,
             "ticks": ""
            },
            "colorscale": [
             [
              0,
              "#0d0887"
             ],
             [
              0.1111111111111111,
              "#46039f"
             ],
             [
              0.2222222222222222,
              "#7201a8"
             ],
             [
              0.3333333333333333,
              "#9c179e"
             ],
             [
              0.4444444444444444,
              "#bd3786"
             ],
             [
              0.5555555555555556,
              "#d8576b"
             ],
             [
              0.6666666666666666,
              "#ed7953"
             ],
             [
              0.7777777777777778,
              "#fb9f3a"
             ],
             [
              0.8888888888888888,
              "#fdca26"
             ],
             [
              1,
              "#f0f921"
             ]
            ],
            "type": "heatmap"
           }
          ],
          "heatmapgl": [
           {
            "colorbar": {
             "outlinewidth": 0,
             "ticks": ""
            },
            "colorscale": [
             [
              0,
              "#0d0887"
             ],
             [
              0.1111111111111111,
              "#46039f"
             ],
             [
              0.2222222222222222,
              "#7201a8"
             ],
             [
              0.3333333333333333,
              "#9c179e"
             ],
             [
              0.4444444444444444,
              "#bd3786"
             ],
             [
              0.5555555555555556,
              "#d8576b"
             ],
             [
              0.6666666666666666,
              "#ed7953"
             ],
             [
              0.7777777777777778,
              "#fb9f3a"
             ],
             [
              0.8888888888888888,
              "#fdca26"
             ],
             [
              1,
              "#f0f921"
             ]
            ],
            "type": "heatmapgl"
           }
          ],
          "histogram": [
           {
            "marker": {
             "pattern": {
              "fillmode": "overlay",
              "size": 10,
              "solidity": 0.2
             }
            },
            "type": "histogram"
           }
          ],
          "histogram2d": [
           {
            "colorbar": {
             "outlinewidth": 0,
             "ticks": ""
            },
            "colorscale": [
             [
              0,
              "#0d0887"
             ],
             [
              0.1111111111111111,
              "#46039f"
             ],
             [
              0.2222222222222222,
              "#7201a8"
             ],
             [
              0.3333333333333333,
              "#9c179e"
             ],
             [
              0.4444444444444444,
              "#bd3786"
             ],
             [
              0.5555555555555556,
              "#d8576b"
             ],
             [
              0.6666666666666666,
              "#ed7953"
             ],
             [
              0.7777777777777778,
              "#fb9f3a"
             ],
             [
              0.8888888888888888,
              "#fdca26"
             ],
             [
              1,
              "#f0f921"
             ]
            ],
            "type": "histogram2d"
           }
          ],
          "histogram2dcontour": [
           {
            "colorbar": {
             "outlinewidth": 0,
             "ticks": ""
            },
            "colorscale": [
             [
              0,
              "#0d0887"
             ],
             [
              0.1111111111111111,
              "#46039f"
             ],
             [
              0.2222222222222222,
              "#7201a8"
             ],
             [
              0.3333333333333333,
              "#9c179e"
             ],
             [
              0.4444444444444444,
              "#bd3786"
             ],
             [
              0.5555555555555556,
              "#d8576b"
             ],
             [
              0.6666666666666666,
              "#ed7953"
             ],
             [
              0.7777777777777778,
              "#fb9f3a"
             ],
             [
              0.8888888888888888,
              "#fdca26"
             ],
             [
              1,
              "#f0f921"
             ]
            ],
            "type": "histogram2dcontour"
           }
          ],
          "mesh3d": [
           {
            "colorbar": {
             "outlinewidth": 0,
             "ticks": ""
            },
            "type": "mesh3d"
           }
          ],
          "parcoords": [
           {
            "line": {
             "colorbar": {
              "outlinewidth": 0,
              "ticks": ""
             }
            },
            "type": "parcoords"
           }
          ],
          "pie": [
           {
            "automargin": true,
            "type": "pie"
           }
          ],
          "scatter": [
           {
            "fillpattern": {
             "fillmode": "overlay",
             "size": 10,
             "solidity": 0.2
            },
            "type": "scatter"
           }
          ],
          "scatter3d": [
           {
            "line": {
             "colorbar": {
              "outlinewidth": 0,
              "ticks": ""
             }
            },
            "marker": {
             "colorbar": {
              "outlinewidth": 0,
              "ticks": ""
             }
            },
            "type": "scatter3d"
           }
          ],
          "scattercarpet": [
           {
            "marker": {
             "colorbar": {
              "outlinewidth": 0,
              "ticks": ""
             }
            },
            "type": "scattercarpet"
           }
          ],
          "scattergeo": [
           {
            "marker": {
             "colorbar": {
              "outlinewidth": 0,
              "ticks": ""
             }
            },
            "type": "scattergeo"
           }
          ],
          "scattergl": [
           {
            "marker": {
             "colorbar": {
              "outlinewidth": 0,
              "ticks": ""
             }
            },
            "type": "scattergl"
           }
          ],
          "scattermapbox": [
           {
            "marker": {
             "colorbar": {
              "outlinewidth": 0,
              "ticks": ""
             }
            },
            "type": "scattermapbox"
           }
          ],
          "scatterpolar": [
           {
            "marker": {
             "colorbar": {
              "outlinewidth": 0,
              "ticks": ""
             }
            },
            "type": "scatterpolar"
           }
          ],
          "scatterpolargl": [
           {
            "marker": {
             "colorbar": {
              "outlinewidth": 0,
              "ticks": ""
             }
            },
            "type": "scatterpolargl"
           }
          ],
          "scatterternary": [
           {
            "marker": {
             "colorbar": {
              "outlinewidth": 0,
              "ticks": ""
             }
            },
            "type": "scatterternary"
           }
          ],
          "surface": [
           {
            "colorbar": {
             "outlinewidth": 0,
             "ticks": ""
            },
            "colorscale": [
             [
              0,
              "#0d0887"
             ],
             [
              0.1111111111111111,
              "#46039f"
             ],
             [
              0.2222222222222222,
              "#7201a8"
             ],
             [
              0.3333333333333333,
              "#9c179e"
             ],
             [
              0.4444444444444444,
              "#bd3786"
             ],
             [
              0.5555555555555556,
              "#d8576b"
             ],
             [
              0.6666666666666666,
              "#ed7953"
             ],
             [
              0.7777777777777778,
              "#fb9f3a"
             ],
             [
              0.8888888888888888,
              "#fdca26"
             ],
             [
              1,
              "#f0f921"
             ]
            ],
            "type": "surface"
           }
          ],
          "table": [
           {
            "cells": {
             "fill": {
              "color": "#EBF0F8"
             },
             "line": {
              "color": "white"
             }
            },
            "header": {
             "fill": {
              "color": "#C8D4E3"
             },
             "line": {
              "color": "white"
             }
            },
            "type": "table"
           }
          ]
         },
         "layout": {
          "annotationdefaults": {
           "arrowcolor": "#2a3f5f",
           "arrowhead": 0,
           "arrowwidth": 1
          },
          "autotypenumbers": "strict",
          "coloraxis": {
           "colorbar": {
            "outlinewidth": 0,
            "ticks": ""
           }
          },
          "colorscale": {
           "diverging": [
            [
             0,
             "#8e0152"
            ],
            [
             0.1,
             "#c51b7d"
            ],
            [
             0.2,
             "#de77ae"
            ],
            [
             0.3,
             "#f1b6da"
            ],
            [
             0.4,
             "#fde0ef"
            ],
            [
             0.5,
             "#f7f7f7"
            ],
            [
             0.6,
             "#e6f5d0"
            ],
            [
             0.7,
             "#b8e186"
            ],
            [
             0.8,
             "#7fbc41"
            ],
            [
             0.9,
             "#4d9221"
            ],
            [
             1,
             "#276419"
            ]
           ],
           "sequential": [
            [
             0,
             "#0d0887"
            ],
            [
             0.1111111111111111,
             "#46039f"
            ],
            [
             0.2222222222222222,
             "#7201a8"
            ],
            [
             0.3333333333333333,
             "#9c179e"
            ],
            [
             0.4444444444444444,
             "#bd3786"
            ],
            [
             0.5555555555555556,
             "#d8576b"
            ],
            [
             0.6666666666666666,
             "#ed7953"
            ],
            [
             0.7777777777777778,
             "#fb9f3a"
            ],
            [
             0.8888888888888888,
             "#fdca26"
            ],
            [
             1,
             "#f0f921"
            ]
           ],
           "sequentialminus": [
            [
             0,
             "#0d0887"
            ],
            [
             0.1111111111111111,
             "#46039f"
            ],
            [
             0.2222222222222222,
             "#7201a8"
            ],
            [
             0.3333333333333333,
             "#9c179e"
            ],
            [
             0.4444444444444444,
             "#bd3786"
            ],
            [
             0.5555555555555556,
             "#d8576b"
            ],
            [
             0.6666666666666666,
             "#ed7953"
            ],
            [
             0.7777777777777778,
             "#fb9f3a"
            ],
            [
             0.8888888888888888,
             "#fdca26"
            ],
            [
             1,
             "#f0f921"
            ]
           ]
          },
          "colorway": [
           "#636efa",
           "#EF553B",
           "#00cc96",
           "#ab63fa",
           "#FFA15A",
           "#19d3f3",
           "#FF6692",
           "#B6E880",
           "#FF97FF",
           "#FECB52"
          ],
          "font": {
           "color": "#2a3f5f"
          },
          "geo": {
           "bgcolor": "white",
           "lakecolor": "white",
           "landcolor": "#E5ECF6",
           "showlakes": true,
           "showland": true,
           "subunitcolor": "white"
          },
          "hoverlabel": {
           "align": "left"
          },
          "hovermode": "closest",
          "mapbox": {
           "style": "light"
          },
          "paper_bgcolor": "white",
          "plot_bgcolor": "#E5ECF6",
          "polar": {
           "angularaxis": {
            "gridcolor": "white",
            "linecolor": "white",
            "ticks": ""
           },
           "bgcolor": "#E5ECF6",
           "radialaxis": {
            "gridcolor": "white",
            "linecolor": "white",
            "ticks": ""
           }
          },
          "scene": {
           "xaxis": {
            "backgroundcolor": "#E5ECF6",
            "gridcolor": "white",
            "gridwidth": 2,
            "linecolor": "white",
            "showbackground": true,
            "ticks": "",
            "zerolinecolor": "white"
           },
           "yaxis": {
            "backgroundcolor": "#E5ECF6",
            "gridcolor": "white",
            "gridwidth": 2,
            "linecolor": "white",
            "showbackground": true,
            "ticks": "",
            "zerolinecolor": "white"
           },
           "zaxis": {
            "backgroundcolor": "#E5ECF6",
            "gridcolor": "white",
            "gridwidth": 2,
            "linecolor": "white",
            "showbackground": true,
            "ticks": "",
            "zerolinecolor": "white"
           }
          },
          "shapedefaults": {
           "line": {
            "color": "#2a3f5f"
           }
          },
          "ternary": {
           "aaxis": {
            "gridcolor": "white",
            "linecolor": "white",
            "ticks": ""
           },
           "baxis": {
            "gridcolor": "white",
            "linecolor": "white",
            "ticks": ""
           },
           "bgcolor": "#E5ECF6",
           "caxis": {
            "gridcolor": "white",
            "linecolor": "white",
            "ticks": ""
           }
          },
          "title": {
           "x": 0.05
          },
          "xaxis": {
           "automargin": true,
           "gridcolor": "white",
           "linecolor": "white",
           "ticks": "",
           "title": {
            "standoff": 15
           },
           "zerolinecolor": "white",
           "zerolinewidth": 2
          },
          "yaxis": {
           "automargin": true,
           "gridcolor": "white",
           "linecolor": "white",
           "ticks": "",
           "title": {
            "standoff": 15
           },
           "zerolinecolor": "white",
           "zerolinewidth": 2
          }
         }
        },
        "title": {
         "text": "Prescriptions Annually<Br>Averaged Fit"
        },
        "xaxis": {
         "rangeslider": {
          "visible": true
         },
         "title": {
          "text": "Year"
         }
        },
        "yaxis": {
         "title": {
          "text": "Prescriptions"
         }
        }
       }
      }
     },
     "metadata": {},
     "output_type": "display_data"
    },
    {
     "name": "stdout",
     "output_type": "stream",
     "text": [
      "The train SMAPE is 8.93% and the test SMAPE is 2.64% with the top 5 predictions averaged.\n"
     ]
    }
   ],
   "source": [
    "# optimized parameters\n",
    "\n",
    "# display avg of top parameters\n",
    "\n",
    "# select top 5 parameter sets\n",
    "top_combined = combined_df.sort_values('val').index[0:6]\n",
    "\n",
    "# empty dict\n",
    "avgd_fit_dict = {}\n",
    "\n",
    "# for each top parameter set fit, record prediction\n",
    "for ind in top_combined:\n",
    "    \n",
    "    # pull out parameters\n",
    "    p, d, q = combined_df.loc[ind,'p'], combined_df.loc[ind,'d'], combined_df.loc[ind,'q']\n",
    "    \n",
    "    # copy df for safety\n",
    "    predict_df = summary_df.copy(deep=True)\n",
    "    \n",
    "    # reorder dfs for train/test\n",
    "    predict_df.index = pd.to_datetime(predict_df.index)\n",
    "    first_day = predict_df.index.min()\n",
    "    last_day = predict_df.index.max()\n",
    "    full_range = pd.date_range(start=first_day, end=last_day, freq=\"Q\")\n",
    "    predict_df = predict_df.reindex(full_range)\n",
    "    \n",
    "    # fill any empty spaces\n",
    "    predict_df.fillna(method='ffill',inplace=True)\n",
    "\n",
    "    # define train/test\n",
    "    train = predict_df.loc[predict_df.index <= cutoff].dropna()\n",
    "    test = predict_df.loc[predict_df.index > cutoff]\n",
    "\n",
    "    # instantiate model, fit\n",
    "    model = SARIMAX(train, order=(p, d, q), trend=\"c\")\n",
    "    model_fit = model.fit(disp=0)\n",
    "\n",
    "    # collect predictions\n",
    "    predictions = model_fit.predict(start=0, end=len(train)+len(test)-1)\n",
    "\n",
    "    # predictions to dict\n",
    "    avgd_fit_dict[f'p{p}, d{d}, q{q}'] = predictions\n",
    "\n",
    "# dict to df\n",
    "avgd_fit_df = pd.DataFrame(avgd_fit_dict, index = list(predictions.index))\n",
    "\n",
    "# find average of fits\n",
    "avgd_fit_df['mean'] = avgd_fit_df.mean(axis=1)\n",
    "\n",
    "# find train/test SMAPE\n",
    "train_smape = mean_absolute_percentage_error(pd.Series(list(avgd_fit_df['mean'][0:len(predictions[train.index])])), pd.Series(list(predictions[train.index])))\n",
    "test_smape = mean_absolute_percentage_error(pd.Series(list(avgd_fit_df['mean'][len(predictions[train.index]):])), pd.Series(list(predictions[test.index])))\n",
    "\n",
    "# visualize data and fi\n",
    "fig = go.Figure()\n",
    "fig.add_trace(go.Scatter(x=list(train.index), y = train['Prescriptions'], name = 'Train'))\n",
    "fig.add_trace(go.Scatter(x=list(test.index), y = test['Prescriptions'], name = 'Test'))\n",
    "fig.add_trace(go.Scatter(x=list(avgd_fit_df.index), y = avgd_fit_df['mean'], name = 'Averaged Fit'))\n",
    "fig.update_layout(title=\"Prescriptions Annually<Br>Averaged Fit\")\n",
    "fig.update_xaxes(rangeslider_visible=True)\n",
    "fig.update_layout(xaxis_title = 'Year', yaxis_title='Prescriptions')\n",
    "fig.show()\n",
    "\n",
    "# print the evaluation metrics\n",
    "print(f\"The train SMAPE is {round(train_smape,2)}% and the test SMAPE is {round(test_smape,2)}% with the top 5 predictions averaged.\")"
   ]
  },
  {
   "cell_type": "code",
   "execution_count": 76,
   "metadata": {},
   "outputs": [
    {
     "data": {
      "application/vnd.plotly.v1+json": {
       "config": {
        "plotlyServerURL": "https://plot.ly"
       },
       "data": [
        {
         "name": "Train",
         "type": "scatter",
         "x": [
          "1991-03-31T00:00:00",
          "1991-06-30T00:00:00",
          "1991-09-30T00:00:00",
          "1991-12-31T00:00:00",
          "1992-03-31T00:00:00",
          "1992-06-30T00:00:00",
          "1992-09-30T00:00:00",
          "1992-12-31T00:00:00",
          "1993-03-31T00:00:00",
          "1993-06-30T00:00:00",
          "1993-09-30T00:00:00",
          "1993-12-31T00:00:00",
          "1994-03-31T00:00:00",
          "1994-06-30T00:00:00",
          "1994-09-30T00:00:00",
          "1994-12-31T00:00:00",
          "1995-03-31T00:00:00",
          "1995-06-30T00:00:00",
          "1995-09-30T00:00:00",
          "1995-12-31T00:00:00",
          "1996-03-31T00:00:00",
          "1996-06-30T00:00:00",
          "1996-09-30T00:00:00",
          "1996-12-31T00:00:00",
          "1997-03-31T00:00:00",
          "1997-06-30T00:00:00",
          "1997-09-30T00:00:00",
          "1997-12-31T00:00:00",
          "1998-03-31T00:00:00",
          "1998-06-30T00:00:00",
          "1998-09-30T00:00:00",
          "1998-12-31T00:00:00",
          "1999-03-31T00:00:00",
          "1999-06-30T00:00:00",
          "1999-09-30T00:00:00",
          "1999-12-31T00:00:00",
          "2000-03-31T00:00:00",
          "2000-06-30T00:00:00",
          "2000-09-30T00:00:00",
          "2000-12-31T00:00:00",
          "2001-03-31T00:00:00",
          "2001-06-30T00:00:00",
          "2001-09-30T00:00:00",
          "2001-12-31T00:00:00",
          "2002-03-31T00:00:00",
          "2002-06-30T00:00:00",
          "2002-09-30T00:00:00",
          "2002-12-31T00:00:00",
          "2003-03-31T00:00:00",
          "2003-06-30T00:00:00",
          "2003-09-30T00:00:00",
          "2003-12-31T00:00:00",
          "2004-03-31T00:00:00",
          "2004-06-30T00:00:00",
          "2004-09-30T00:00:00",
          "2004-12-31T00:00:00",
          "2005-03-31T00:00:00",
          "2005-06-30T00:00:00",
          "2005-09-30T00:00:00",
          "2005-12-31T00:00:00",
          "2006-03-31T00:00:00",
          "2006-06-30T00:00:00",
          "2006-09-30T00:00:00",
          "2006-12-31T00:00:00",
          "2007-03-31T00:00:00",
          "2007-06-30T00:00:00",
          "2007-09-30T00:00:00",
          "2007-12-31T00:00:00",
          "2008-03-31T00:00:00",
          "2008-06-30T00:00:00",
          "2008-09-30T00:00:00",
          "2008-12-31T00:00:00",
          "2009-03-31T00:00:00",
          "2009-06-30T00:00:00",
          "2009-09-30T00:00:00",
          "2009-12-31T00:00:00",
          "2010-03-31T00:00:00",
          "2010-06-30T00:00:00",
          "2010-09-30T00:00:00",
          "2010-12-31T00:00:00",
          "2011-03-31T00:00:00",
          "2011-06-30T00:00:00",
          "2011-09-30T00:00:00",
          "2011-12-31T00:00:00",
          "2012-03-31T00:00:00",
          "2012-06-30T00:00:00",
          "2012-09-30T00:00:00",
          "2012-12-31T00:00:00",
          "2013-03-31T00:00:00",
          "2013-06-30T00:00:00",
          "2013-09-30T00:00:00",
          "2013-12-31T00:00:00",
          "2014-03-31T00:00:00",
          "2014-06-30T00:00:00",
          "2014-09-30T00:00:00",
          "2014-12-31T00:00:00",
          "2015-03-31T00:00:00",
          "2015-06-30T00:00:00",
          "2015-09-30T00:00:00",
          "2015-12-31T00:00:00",
          "2016-03-31T00:00:00",
          "2016-06-30T00:00:00",
          "2016-09-30T00:00:00",
          "2016-12-31T00:00:00",
          "2017-03-31T00:00:00",
          "2017-06-30T00:00:00",
          "2017-09-30T00:00:00",
          "2017-12-31T00:00:00",
          "2018-03-31T00:00:00",
          "2018-06-30T00:00:00",
          "2018-09-30T00:00:00",
          "2018-12-31T00:00:00",
          "2019-03-31T00:00:00",
          "2019-06-30T00:00:00",
          "2019-09-30T00:00:00",
          "2019-12-31T00:00:00",
          "2020-03-31T00:00:00",
          "2020-06-30T00:00:00",
          "2020-09-30T00:00:00",
          "2020-12-31T00:00:00"
         ],
         "y": [
          40671417,
          59259062,
          67561929,
          74483016,
          82768107,
          76771911,
          75205718,
          85725818,
          94592593,
          87546897,
          90365485,
          91288201,
          95649251,
          86903138,
          80710031,
          85192833,
          81344496,
          85066309,
          118656269,
          118152327,
          118816430,
          109746553,
          108255354,
          110302647,
          108181714,
          104082407,
          101640278,
          102831754,
          115457635,
          114954963,
          110259724,
          117411919,
          119835397,
          114116641,
          109411018,
          120105562,
          115363517,
          115727207,
          120901051,
          143998778,
          136492477,
          133969846,
          130596243,
          134979726,
          134649367,
          136972367,
          140154979,
          145132430,
          145947666,
          148746142,
          366169219,
          178883335,
          226525799,
          363528419,
          274567736,
          333309563,
          484657321,
          241299355,
          167051950,
          338157239,
          96295892,
          91247082,
          80679087,
          87858219,
          92162500,
          87877891,
          86073000,
          84760915,
          91278368,
          96881224,
          86097352,
          93254818,
          94038855,
          110317402,
          97233671,
          100859933,
          110403567,
          145645056,
          152231412,
          163880199,
          167571475,
          166390382,
          144530171,
          162274733,
          165021240,
          164255682,
          167346136,
          163908723,
          163168995,
          158591581,
          151249924,
          154949611,
          156942717,
          173309001,
          175915786,
          182147561,
          179982587,
          188561670,
          187029956,
          193344331,
          204779756,
          195230026,
          191955696,
          210845769,
          208854028,
          212856351,
          195468627,
          207598039,
          225293382,
          221447889,
          210185491,
          216868482,
          223800327,
          215912716,
          215610424,
          218743695,
          221488850,
          186228229,
          211905808,
          222210513
         ]
        },
        {
         "name": "Test",
         "type": "scatter",
         "x": [
          "2021-03-31T00:00:00",
          "2021-06-30T00:00:00",
          "2021-09-30T00:00:00",
          "2021-12-31T00:00:00",
          "2022-03-31T00:00:00"
         ],
         "y": [
          228318503,
          237509501,
          244638796,
          247953922,
          242135394
         ]
        },
        {
         "name": "Averaged Fit",
         "type": "scatter",
         "x": [
          "1991-03-31T00:00:00",
          "1991-06-30T00:00:00",
          "1991-09-30T00:00:00",
          "1991-12-31T00:00:00",
          "1992-03-31T00:00:00",
          "1992-06-30T00:00:00",
          "1992-09-30T00:00:00",
          "1992-12-31T00:00:00",
          "1993-03-31T00:00:00",
          "1993-06-30T00:00:00",
          "1993-09-30T00:00:00",
          "1993-12-31T00:00:00",
          "1994-03-31T00:00:00",
          "1994-06-30T00:00:00",
          "1994-09-30T00:00:00",
          "1994-12-31T00:00:00",
          "1995-03-31T00:00:00",
          "1995-06-30T00:00:00",
          "1995-09-30T00:00:00",
          "1995-12-31T00:00:00",
          "1996-03-31T00:00:00",
          "1996-06-30T00:00:00",
          "1996-09-30T00:00:00",
          "1996-12-31T00:00:00",
          "1997-03-31T00:00:00",
          "1997-06-30T00:00:00",
          "1997-09-30T00:00:00",
          "1997-12-31T00:00:00",
          "1998-03-31T00:00:00",
          "1998-06-30T00:00:00",
          "1998-09-30T00:00:00",
          "1998-12-31T00:00:00",
          "1999-03-31T00:00:00",
          "1999-06-30T00:00:00",
          "1999-09-30T00:00:00",
          "1999-12-31T00:00:00",
          "2000-03-31T00:00:00",
          "2000-06-30T00:00:00",
          "2000-09-30T00:00:00",
          "2000-12-31T00:00:00",
          "2001-03-31T00:00:00",
          "2001-06-30T00:00:00",
          "2001-09-30T00:00:00",
          "2001-12-31T00:00:00",
          "2002-03-31T00:00:00",
          "2002-06-30T00:00:00",
          "2002-09-30T00:00:00",
          "2002-12-31T00:00:00",
          "2003-03-31T00:00:00",
          "2003-06-30T00:00:00",
          "2003-09-30T00:00:00",
          "2003-12-31T00:00:00",
          "2004-03-31T00:00:00",
          "2004-06-30T00:00:00",
          "2004-09-30T00:00:00",
          "2004-12-31T00:00:00",
          "2005-03-31T00:00:00",
          "2005-06-30T00:00:00",
          "2005-09-30T00:00:00",
          "2005-12-31T00:00:00",
          "2006-03-31T00:00:00",
          "2006-06-30T00:00:00",
          "2006-09-30T00:00:00",
          "2006-12-31T00:00:00",
          "2007-03-31T00:00:00",
          "2007-06-30T00:00:00",
          "2007-09-30T00:00:00",
          "2007-12-31T00:00:00",
          "2008-03-31T00:00:00",
          "2008-06-30T00:00:00",
          "2008-09-30T00:00:00",
          "2008-12-31T00:00:00",
          "2009-03-31T00:00:00",
          "2009-06-30T00:00:00",
          "2009-09-30T00:00:00",
          "2009-12-31T00:00:00",
          "2010-03-31T00:00:00",
          "2010-06-30T00:00:00",
          "2010-09-30T00:00:00",
          "2010-12-31T00:00:00",
          "2011-03-31T00:00:00",
          "2011-06-30T00:00:00",
          "2011-09-30T00:00:00",
          "2011-12-31T00:00:00",
          "2012-03-31T00:00:00",
          "2012-06-30T00:00:00",
          "2012-09-30T00:00:00",
          "2012-12-31T00:00:00",
          "2013-03-31T00:00:00",
          "2013-06-30T00:00:00",
          "2013-09-30T00:00:00",
          "2013-12-31T00:00:00",
          "2014-03-31T00:00:00",
          "2014-06-30T00:00:00",
          "2014-09-30T00:00:00",
          "2014-12-31T00:00:00",
          "2015-03-31T00:00:00",
          "2015-06-30T00:00:00",
          "2015-09-30T00:00:00",
          "2015-12-31T00:00:00",
          "2016-03-31T00:00:00",
          "2016-06-30T00:00:00",
          "2016-09-30T00:00:00",
          "2016-12-31T00:00:00",
          "2017-03-31T00:00:00",
          "2017-06-30T00:00:00",
          "2017-09-30T00:00:00",
          "2017-12-31T00:00:00",
          "2018-03-31T00:00:00",
          "2018-06-30T00:00:00",
          "2018-09-30T00:00:00",
          "2018-12-31T00:00:00",
          "2019-03-31T00:00:00",
          "2019-06-30T00:00:00",
          "2019-09-30T00:00:00",
          "2019-12-31T00:00:00",
          "2020-03-31T00:00:00",
          "2020-06-30T00:00:00",
          "2020-09-30T00:00:00",
          "2020-12-31T00:00:00",
          "2021-03-31T00:00:00",
          "2021-06-30T00:00:00",
          "2021-09-30T00:00:00",
          "2021-12-31T00:00:00",
          "2022-03-31T00:00:00"
         ],
         "y": [
          1450683.9498096434,
          51944328.36927924,
          66816060.241528384,
          77530026.97609346,
          81364796.33630031,
          86248549.57183658,
          80791740.18284656,
          77970434.98012774,
          84437671.95429192,
          94025979.4140644,
          90977826.61395542,
          92420665.07544088,
          91572700.665987,
          96231952.43916988,
          89960644.20138508,
          84130514.23937966,
          84612465.0833639,
          82784524.27722977,
          85694317.79549843,
          112390200.1307456,
          119036875.0522805,
          124295100.76312183,
          114847812.63956957,
          111927816.01309836,
          111671857.80919433,
          111738248.59756638,
          107993431.6886701,
          105849262.50535929,
          104975742.77848883,
          115738457.5992475,
          117559898.10806094,
          116401626.39183839,
          119245240.51935107,
          122574556.16558693,
          119337376.05528282,
          115459365.03111981,
          120799636.26981895,
          119882787.70458698,
          120430224.72362,
          123823193.44844495,
          141959386.08376527,
          142286969.95234337,
          141279182.34911868,
          135904301.9340501,
          138153288.52617007,
          138787592.3326199,
          141467937.89418277,
          143793072.4271132,
          148735818.2805629,
          150279076.64509428,
          153348985.6134243,
          317783522.9675576,
          221071208.09076655,
          247603592.47810745,
          321886333.8257169,
          298030713.1214611,
          341269195.7106778,
          450480433.77709633,
          302054518.2969896,
          221010849.16386655,
          286340006.22712094,
          145597614.51060256,
          119811883.40032263,
          73517374.90689647,
          80763776.94900087,
          93960951.90904433,
          89419102.66606945,
          87299994.3076615,
          85275617.42778735,
          88942986.48121431,
          95652613.02350707,
          88788273.02513365,
          93516247.4620503,
          93018345.19656022,
          108220358.25476389,
          100986352.18141825,
          104274094.69932783,
          108726424.51293568,
          139828715.74214423,
          152397620.94038907,
          168281983.46462822,
          170656333.83992013,
          172963846.31229532,
          154514084.65792,
          164988563.81958488,
          166054695.42316893,
          171900903.60269105,
          171768543.1631442,
          171181878.48776188,
          168152056.6904622,
          166177794.89930317,
          157449407.15244624,
          160335203.6534745,
          159777901.91667178,
          175440219.51634607,
          178934987.6539166,
          187873706.060959,
          184886386.3720533,
          193090229.20106617,
          191097792.79467192,
          198623385.66559926,
          205878857.91750184,
          203668697.05473676,
          198390231.6495116,
          211778730.73697063,
          212099867.9424399,
          219444531.47819462,
          203861262.61188766,
          211333089.4424071,
          222919439.36655006,
          228002366.0893377,
          218636866.56315625,
          221333716.0313487,
          224242296.06102893,
          223399700.57168773,
          220257234.64844635,
          222650335.56709406,
          223787433.4526039,
          199997069.73501638,
          210607540.07193133,
          220108290.69739565,
          226014689.51504633,
          230446543.32405075,
          231424991.14842215,
          236648490.68567693
         ]
        }
       ],
       "layout": {
        "template": {
         "data": {
          "bar": [
           {
            "error_x": {
             "color": "#2a3f5f"
            },
            "error_y": {
             "color": "#2a3f5f"
            },
            "marker": {
             "line": {
              "color": "#E5ECF6",
              "width": 0.5
             },
             "pattern": {
              "fillmode": "overlay",
              "size": 10,
              "solidity": 0.2
             }
            },
            "type": "bar"
           }
          ],
          "barpolar": [
           {
            "marker": {
             "line": {
              "color": "#E5ECF6",
              "width": 0.5
             },
             "pattern": {
              "fillmode": "overlay",
              "size": 10,
              "solidity": 0.2
             }
            },
            "type": "barpolar"
           }
          ],
          "carpet": [
           {
            "aaxis": {
             "endlinecolor": "#2a3f5f",
             "gridcolor": "white",
             "linecolor": "white",
             "minorgridcolor": "white",
             "startlinecolor": "#2a3f5f"
            },
            "baxis": {
             "endlinecolor": "#2a3f5f",
             "gridcolor": "white",
             "linecolor": "white",
             "minorgridcolor": "white",
             "startlinecolor": "#2a3f5f"
            },
            "type": "carpet"
           }
          ],
          "choropleth": [
           {
            "colorbar": {
             "outlinewidth": 0,
             "ticks": ""
            },
            "type": "choropleth"
           }
          ],
          "contour": [
           {
            "colorbar": {
             "outlinewidth": 0,
             "ticks": ""
            },
            "colorscale": [
             [
              0,
              "#0d0887"
             ],
             [
              0.1111111111111111,
              "#46039f"
             ],
             [
              0.2222222222222222,
              "#7201a8"
             ],
             [
              0.3333333333333333,
              "#9c179e"
             ],
             [
              0.4444444444444444,
              "#bd3786"
             ],
             [
              0.5555555555555556,
              "#d8576b"
             ],
             [
              0.6666666666666666,
              "#ed7953"
             ],
             [
              0.7777777777777778,
              "#fb9f3a"
             ],
             [
              0.8888888888888888,
              "#fdca26"
             ],
             [
              1,
              "#f0f921"
             ]
            ],
            "type": "contour"
           }
          ],
          "contourcarpet": [
           {
            "colorbar": {
             "outlinewidth": 0,
             "ticks": ""
            },
            "type": "contourcarpet"
           }
          ],
          "heatmap": [
           {
            "colorbar": {
             "outlinewidth": 0,
             "ticks": ""
            },
            "colorscale": [
             [
              0,
              "#0d0887"
             ],
             [
              0.1111111111111111,
              "#46039f"
             ],
             [
              0.2222222222222222,
              "#7201a8"
             ],
             [
              0.3333333333333333,
              "#9c179e"
             ],
             [
              0.4444444444444444,
              "#bd3786"
             ],
             [
              0.5555555555555556,
              "#d8576b"
             ],
             [
              0.6666666666666666,
              "#ed7953"
             ],
             [
              0.7777777777777778,
              "#fb9f3a"
             ],
             [
              0.8888888888888888,
              "#fdca26"
             ],
             [
              1,
              "#f0f921"
             ]
            ],
            "type": "heatmap"
           }
          ],
          "heatmapgl": [
           {
            "colorbar": {
             "outlinewidth": 0,
             "ticks": ""
            },
            "colorscale": [
             [
              0,
              "#0d0887"
             ],
             [
              0.1111111111111111,
              "#46039f"
             ],
             [
              0.2222222222222222,
              "#7201a8"
             ],
             [
              0.3333333333333333,
              "#9c179e"
             ],
             [
              0.4444444444444444,
              "#bd3786"
             ],
             [
              0.5555555555555556,
              "#d8576b"
             ],
             [
              0.6666666666666666,
              "#ed7953"
             ],
             [
              0.7777777777777778,
              "#fb9f3a"
             ],
             [
              0.8888888888888888,
              "#fdca26"
             ],
             [
              1,
              "#f0f921"
             ]
            ],
            "type": "heatmapgl"
           }
          ],
          "histogram": [
           {
            "marker": {
             "pattern": {
              "fillmode": "overlay",
              "size": 10,
              "solidity": 0.2
             }
            },
            "type": "histogram"
           }
          ],
          "histogram2d": [
           {
            "colorbar": {
             "outlinewidth": 0,
             "ticks": ""
            },
            "colorscale": [
             [
              0,
              "#0d0887"
             ],
             [
              0.1111111111111111,
              "#46039f"
             ],
             [
              0.2222222222222222,
              "#7201a8"
             ],
             [
              0.3333333333333333,
              "#9c179e"
             ],
             [
              0.4444444444444444,
              "#bd3786"
             ],
             [
              0.5555555555555556,
              "#d8576b"
             ],
             [
              0.6666666666666666,
              "#ed7953"
             ],
             [
              0.7777777777777778,
              "#fb9f3a"
             ],
             [
              0.8888888888888888,
              "#fdca26"
             ],
             [
              1,
              "#f0f921"
             ]
            ],
            "type": "histogram2d"
           }
          ],
          "histogram2dcontour": [
           {
            "colorbar": {
             "outlinewidth": 0,
             "ticks": ""
            },
            "colorscale": [
             [
              0,
              "#0d0887"
             ],
             [
              0.1111111111111111,
              "#46039f"
             ],
             [
              0.2222222222222222,
              "#7201a8"
             ],
             [
              0.3333333333333333,
              "#9c179e"
             ],
             [
              0.4444444444444444,
              "#bd3786"
             ],
             [
              0.5555555555555556,
              "#d8576b"
             ],
             [
              0.6666666666666666,
              "#ed7953"
             ],
             [
              0.7777777777777778,
              "#fb9f3a"
             ],
             [
              0.8888888888888888,
              "#fdca26"
             ],
             [
              1,
              "#f0f921"
             ]
            ],
            "type": "histogram2dcontour"
           }
          ],
          "mesh3d": [
           {
            "colorbar": {
             "outlinewidth": 0,
             "ticks": ""
            },
            "type": "mesh3d"
           }
          ],
          "parcoords": [
           {
            "line": {
             "colorbar": {
              "outlinewidth": 0,
              "ticks": ""
             }
            },
            "type": "parcoords"
           }
          ],
          "pie": [
           {
            "automargin": true,
            "type": "pie"
           }
          ],
          "scatter": [
           {
            "fillpattern": {
             "fillmode": "overlay",
             "size": 10,
             "solidity": 0.2
            },
            "type": "scatter"
           }
          ],
          "scatter3d": [
           {
            "line": {
             "colorbar": {
              "outlinewidth": 0,
              "ticks": ""
             }
            },
            "marker": {
             "colorbar": {
              "outlinewidth": 0,
              "ticks": ""
             }
            },
            "type": "scatter3d"
           }
          ],
          "scattercarpet": [
           {
            "marker": {
             "colorbar": {
              "outlinewidth": 0,
              "ticks": ""
             }
            },
            "type": "scattercarpet"
           }
          ],
          "scattergeo": [
           {
            "marker": {
             "colorbar": {
              "outlinewidth": 0,
              "ticks": ""
             }
            },
            "type": "scattergeo"
           }
          ],
          "scattergl": [
           {
            "marker": {
             "colorbar": {
              "outlinewidth": 0,
              "ticks": ""
             }
            },
            "type": "scattergl"
           }
          ],
          "scattermapbox": [
           {
            "marker": {
             "colorbar": {
              "outlinewidth": 0,
              "ticks": ""
             }
            },
            "type": "scattermapbox"
           }
          ],
          "scatterpolar": [
           {
            "marker": {
             "colorbar": {
              "outlinewidth": 0,
              "ticks": ""
             }
            },
            "type": "scatterpolar"
           }
          ],
          "scatterpolargl": [
           {
            "marker": {
             "colorbar": {
              "outlinewidth": 0,
              "ticks": ""
             }
            },
            "type": "scatterpolargl"
           }
          ],
          "scatterternary": [
           {
            "marker": {
             "colorbar": {
              "outlinewidth": 0,
              "ticks": ""
             }
            },
            "type": "scatterternary"
           }
          ],
          "surface": [
           {
            "colorbar": {
             "outlinewidth": 0,
             "ticks": ""
            },
            "colorscale": [
             [
              0,
              "#0d0887"
             ],
             [
              0.1111111111111111,
              "#46039f"
             ],
             [
              0.2222222222222222,
              "#7201a8"
             ],
             [
              0.3333333333333333,
              "#9c179e"
             ],
             [
              0.4444444444444444,
              "#bd3786"
             ],
             [
              0.5555555555555556,
              "#d8576b"
             ],
             [
              0.6666666666666666,
              "#ed7953"
             ],
             [
              0.7777777777777778,
              "#fb9f3a"
             ],
             [
              0.8888888888888888,
              "#fdca26"
             ],
             [
              1,
              "#f0f921"
             ]
            ],
            "type": "surface"
           }
          ],
          "table": [
           {
            "cells": {
             "fill": {
              "color": "#EBF0F8"
             },
             "line": {
              "color": "white"
             }
            },
            "header": {
             "fill": {
              "color": "#C8D4E3"
             },
             "line": {
              "color": "white"
             }
            },
            "type": "table"
           }
          ]
         },
         "layout": {
          "annotationdefaults": {
           "arrowcolor": "#2a3f5f",
           "arrowhead": 0,
           "arrowwidth": 1
          },
          "autotypenumbers": "strict",
          "coloraxis": {
           "colorbar": {
            "outlinewidth": 0,
            "ticks": ""
           }
          },
          "colorscale": {
           "diverging": [
            [
             0,
             "#8e0152"
            ],
            [
             0.1,
             "#c51b7d"
            ],
            [
             0.2,
             "#de77ae"
            ],
            [
             0.3,
             "#f1b6da"
            ],
            [
             0.4,
             "#fde0ef"
            ],
            [
             0.5,
             "#f7f7f7"
            ],
            [
             0.6,
             "#e6f5d0"
            ],
            [
             0.7,
             "#b8e186"
            ],
            [
             0.8,
             "#7fbc41"
            ],
            [
             0.9,
             "#4d9221"
            ],
            [
             1,
             "#276419"
            ]
           ],
           "sequential": [
            [
             0,
             "#0d0887"
            ],
            [
             0.1111111111111111,
             "#46039f"
            ],
            [
             0.2222222222222222,
             "#7201a8"
            ],
            [
             0.3333333333333333,
             "#9c179e"
            ],
            [
             0.4444444444444444,
             "#bd3786"
            ],
            [
             0.5555555555555556,
             "#d8576b"
            ],
            [
             0.6666666666666666,
             "#ed7953"
            ],
            [
             0.7777777777777778,
             "#fb9f3a"
            ],
            [
             0.8888888888888888,
             "#fdca26"
            ],
            [
             1,
             "#f0f921"
            ]
           ],
           "sequentialminus": [
            [
             0,
             "#0d0887"
            ],
            [
             0.1111111111111111,
             "#46039f"
            ],
            [
             0.2222222222222222,
             "#7201a8"
            ],
            [
             0.3333333333333333,
             "#9c179e"
            ],
            [
             0.4444444444444444,
             "#bd3786"
            ],
            [
             0.5555555555555556,
             "#d8576b"
            ],
            [
             0.6666666666666666,
             "#ed7953"
            ],
            [
             0.7777777777777778,
             "#fb9f3a"
            ],
            [
             0.8888888888888888,
             "#fdca26"
            ],
            [
             1,
             "#f0f921"
            ]
           ]
          },
          "colorway": [
           "#636efa",
           "#EF553B",
           "#00cc96",
           "#ab63fa",
           "#FFA15A",
           "#19d3f3",
           "#FF6692",
           "#B6E880",
           "#FF97FF",
           "#FECB52"
          ],
          "font": {
           "color": "#2a3f5f"
          },
          "geo": {
           "bgcolor": "white",
           "lakecolor": "white",
           "landcolor": "#E5ECF6",
           "showlakes": true,
           "showland": true,
           "subunitcolor": "white"
          },
          "hoverlabel": {
           "align": "left"
          },
          "hovermode": "closest",
          "mapbox": {
           "style": "light"
          },
          "paper_bgcolor": "white",
          "plot_bgcolor": "#E5ECF6",
          "polar": {
           "angularaxis": {
            "gridcolor": "white",
            "linecolor": "white",
            "ticks": ""
           },
           "bgcolor": "#E5ECF6",
           "radialaxis": {
            "gridcolor": "white",
            "linecolor": "white",
            "ticks": ""
           }
          },
          "scene": {
           "xaxis": {
            "backgroundcolor": "#E5ECF6",
            "gridcolor": "white",
            "gridwidth": 2,
            "linecolor": "white",
            "showbackground": true,
            "ticks": "",
            "zerolinecolor": "white"
           },
           "yaxis": {
            "backgroundcolor": "#E5ECF6",
            "gridcolor": "white",
            "gridwidth": 2,
            "linecolor": "white",
            "showbackground": true,
            "ticks": "",
            "zerolinecolor": "white"
           },
           "zaxis": {
            "backgroundcolor": "#E5ECF6",
            "gridcolor": "white",
            "gridwidth": 2,
            "linecolor": "white",
            "showbackground": true,
            "ticks": "",
            "zerolinecolor": "white"
           }
          },
          "shapedefaults": {
           "line": {
            "color": "#2a3f5f"
           }
          },
          "ternary": {
           "aaxis": {
            "gridcolor": "white",
            "linecolor": "white",
            "ticks": ""
           },
           "baxis": {
            "gridcolor": "white",
            "linecolor": "white",
            "ticks": ""
           },
           "bgcolor": "#E5ECF6",
           "caxis": {
            "gridcolor": "white",
            "linecolor": "white",
            "ticks": ""
           }
          },
          "title": {
           "x": 0.05
          },
          "xaxis": {
           "automargin": true,
           "gridcolor": "white",
           "linecolor": "white",
           "ticks": "",
           "title": {
            "standoff": 15
           },
           "zerolinecolor": "white",
           "zerolinewidth": 2
          },
          "yaxis": {
           "automargin": true,
           "gridcolor": "white",
           "linecolor": "white",
           "ticks": "",
           "title": {
            "standoff": 15
           },
           "zerolinecolor": "white",
           "zerolinewidth": 2
          }
         }
        },
        "title": {
         "text": "Prescriptions Reimbursed Quarterly, 1991-2022<Br>Averaged Fit"
        },
        "xaxis": {
         "rangeslider": {
          "visible": false
         },
         "title": {
          "text": "Year"
         }
        },
        "yaxis": {
         "title": {
          "text": "Prescriptions"
         }
        }
       }
      }
     },
     "metadata": {},
     "output_type": "display_data"
    },
    {
     "name": "stdout",
     "output_type": "stream",
     "text": [
      "The train SMAPE is 8.93% and the test SMAPE is 2.64% with the top 5 predictions averaged.\n"
     ]
    }
   ],
   "source": [
    "# figure for presentation\n",
    "\n",
    "# visualize data and fit\n",
    "fig = go.Figure()\n",
    "fig.add_trace(go.Scatter(x=list(train.index), y = train['Prescriptions'], name = 'Train'))\n",
    "fig.add_trace(go.Scatter(x=list(test.index), y = test['Prescriptions'], name = 'Test'))\n",
    "fig.add_trace(go.Scatter(x=list(avgd_fit_df.index), y = avgd_fit_df['mean'], name = 'Averaged Fit'))\n",
    "fig.update_layout(title=\"Prescriptions Reimbursed Quarterly, 1991-2022<Br>Averaged Fit\")\n",
    "fig.update_xaxes(rangeslider_visible=False)\n",
    "fig.update_layout(xaxis_title = 'Year', yaxis_title='Prescriptions')\n",
    "fig.show()\n",
    "\n",
    "# print the evaluation metrics\n",
    "print(f\"The train SMAPE is {round(train_smape,2)}% and the test SMAPE is {round(test_smape,2)}% with the top 5 predictions averaged.\")"
   ]
  },
  {
   "attachments": {},
   "cell_type": "markdown",
   "metadata": {},
   "source": [
    "The SMAPE values for train and test are still very good. This method will be streamlined and quasi-pipelined in Notebook 4."
   ]
  },
  {
   "attachments": {},
   "cell_type": "markdown",
   "metadata": {},
   "source": [
    "# Facebook Prophet\n",
    "\n",
    "We can also take a look at the Facebook Prophet tool. While powerful, the model does not seem toe be meant to be modified, at least not readily. Hyperparameters are less readily accessible compared to the ARIMA model, and use is straightforward. Because of the results of the model, I have chosen to focus on ARIMA in my large data processing in Notebook 4."
   ]
  },
  {
   "cell_type": "code",
   "execution_count": 71,
   "metadata": {},
   "outputs": [
    {
     "name": "stderr",
     "output_type": "stream",
     "text": [
      "15:49:15 - cmdstanpy - INFO - Chain [1] start processing\n",
      "15:49:15 - cmdstanpy - INFO - Chain [1] done processing\n"
     ]
    },
    {
     "data": {
      "application/vnd.plotly.v1+json": {
       "config": {
        "plotlyServerURL": "https://plot.ly"
       },
       "data": [
        {
         "marker": {
          "color": "black",
          "size": 4
         },
         "mode": "markers",
         "name": "Actual",
         "type": "scatter",
         "x": [
          "1991-03-31T00:00:00",
          "1991-06-30T00:00:00",
          "1991-09-30T00:00:00",
          "1991-12-31T00:00:00",
          "1992-03-31T00:00:00",
          "1992-06-30T00:00:00",
          "1992-09-30T00:00:00",
          "1992-12-31T00:00:00",
          "1993-03-31T00:00:00",
          "1993-06-30T00:00:00",
          "1993-09-30T00:00:00",
          "1993-12-31T00:00:00",
          "1994-03-31T00:00:00",
          "1994-06-30T00:00:00",
          "1994-09-30T00:00:00",
          "1994-12-31T00:00:00",
          "1995-03-31T00:00:00",
          "1995-06-30T00:00:00",
          "1995-09-30T00:00:00",
          "1995-12-31T00:00:00",
          "1996-03-31T00:00:00",
          "1996-06-30T00:00:00",
          "1996-09-30T00:00:00",
          "1996-12-31T00:00:00",
          "1997-03-31T00:00:00",
          "1997-06-30T00:00:00",
          "1997-09-30T00:00:00",
          "1997-12-31T00:00:00",
          "1998-03-31T00:00:00",
          "1998-06-30T00:00:00",
          "1998-09-30T00:00:00",
          "1998-12-31T00:00:00",
          "1999-03-31T00:00:00",
          "1999-06-30T00:00:00",
          "1999-09-30T00:00:00",
          "1999-12-31T00:00:00",
          "2000-03-31T00:00:00",
          "2000-06-30T00:00:00",
          "2000-09-30T00:00:00",
          "2000-12-31T00:00:00",
          "2001-03-31T00:00:00",
          "2001-06-30T00:00:00",
          "2001-09-30T00:00:00",
          "2001-12-31T00:00:00",
          "2002-03-31T00:00:00",
          "2002-06-30T00:00:00",
          "2002-09-30T00:00:00",
          "2002-12-31T00:00:00",
          "2003-03-31T00:00:00",
          "2003-06-30T00:00:00",
          "2003-09-30T00:00:00",
          "2003-12-31T00:00:00",
          "2004-03-31T00:00:00",
          "2004-06-30T00:00:00",
          "2004-09-30T00:00:00",
          "2004-12-31T00:00:00",
          "2005-03-31T00:00:00",
          "2005-06-30T00:00:00",
          "2005-09-30T00:00:00",
          "2005-12-31T00:00:00",
          "2006-03-31T00:00:00",
          "2006-06-30T00:00:00",
          "2006-09-30T00:00:00",
          "2006-12-31T00:00:00",
          "2007-03-31T00:00:00",
          "2007-06-30T00:00:00",
          "2007-09-30T00:00:00",
          "2007-12-31T00:00:00",
          "2008-03-31T00:00:00",
          "2008-06-30T00:00:00",
          "2008-09-30T00:00:00",
          "2008-12-31T00:00:00",
          "2009-03-31T00:00:00",
          "2009-06-30T00:00:00",
          "2009-09-30T00:00:00",
          "2009-12-31T00:00:00",
          "2010-03-31T00:00:00",
          "2010-06-30T00:00:00",
          "2010-09-30T00:00:00",
          "2010-12-31T00:00:00",
          "2011-03-31T00:00:00",
          "2011-06-30T00:00:00",
          "2011-09-30T00:00:00",
          "2011-12-31T00:00:00",
          "2012-03-31T00:00:00",
          "2012-06-30T00:00:00",
          "2012-09-30T00:00:00",
          "2012-12-31T00:00:00",
          "2013-03-31T00:00:00",
          "2013-06-30T00:00:00",
          "2013-09-30T00:00:00",
          "2013-12-31T00:00:00",
          "2014-03-31T00:00:00",
          "2014-06-30T00:00:00",
          "2014-09-30T00:00:00",
          "2014-12-31T00:00:00",
          "2015-03-31T00:00:00",
          "2015-06-30T00:00:00",
          "2015-09-30T00:00:00",
          "2015-12-31T00:00:00",
          "2016-03-31T00:00:00",
          "2016-06-30T00:00:00",
          "2016-09-30T00:00:00",
          "2016-12-31T00:00:00",
          "2017-03-31T00:00:00",
          "2017-06-30T00:00:00",
          "2017-09-30T00:00:00",
          "2017-12-31T00:00:00",
          "2018-03-31T00:00:00",
          "2018-06-30T00:00:00",
          "2018-09-30T00:00:00",
          "2018-12-31T00:00:00",
          "2019-03-31T00:00:00",
          "2019-06-30T00:00:00",
          "2019-09-30T00:00:00",
          "2019-12-31T00:00:00",
          "2020-03-31T00:00:00",
          "2020-06-30T00:00:00",
          "2020-09-30T00:00:00",
          "2020-12-31T00:00:00"
         ],
         "y": [
          40671417,
          59259062,
          67561929,
          74483016,
          82768107,
          76771911,
          75205718,
          85725818,
          94592593,
          87546897,
          90365485,
          91288201,
          95649251,
          86903138,
          80710031,
          85192833,
          81344496,
          85066309,
          118656269,
          118152327,
          118816430,
          109746553,
          108255354,
          110302647,
          108181714,
          104082407,
          101640278,
          102831754,
          115457635,
          114954963,
          110259724,
          117411919,
          119835397,
          114116641,
          109411018,
          120105562,
          115363517,
          115727207,
          120901051,
          143998778,
          136492477,
          133969846,
          130596243,
          134979726,
          134649367,
          136972367,
          140154979,
          145132430,
          145947666,
          148746142,
          366169219,
          178883335,
          226525799,
          363528419,
          274567736,
          333309563,
          484657321,
          241299355,
          167051950,
          338157239,
          96295892,
          91247082,
          80679087,
          87858219,
          92162500,
          87877891,
          86073000,
          84760915,
          91278368,
          96881224,
          86097352,
          93254818,
          94038855,
          110317402,
          97233671,
          100859933,
          110403567,
          145645056,
          152231412,
          163880199,
          167571475,
          166390382,
          144530171,
          162274733,
          165021240,
          164255682,
          167346136,
          163908723,
          163168995,
          158591581,
          151249924,
          154949611,
          156942717,
          173309001,
          175915786,
          182147561,
          179982587,
          188561670,
          187029956,
          193344331,
          204779756,
          195230026,
          191955696,
          210845769,
          208854028,
          212856351,
          195468627,
          207598039,
          225293382,
          221447889,
          210185491,
          216868482,
          223800327,
          215912716,
          215610424,
          218743695,
          221488850,
          186228229,
          211905808,
          222210513
         ]
        },
        {
         "hoverinfo": "skip",
         "line": {
          "width": 0
         },
         "mode": "lines",
         "type": "scatter",
         "x": [
          "1991-03-31T00:00:00",
          "1991-06-30T00:00:00",
          "1991-09-30T00:00:00",
          "1991-12-31T00:00:00",
          "1992-03-31T00:00:00",
          "1992-06-30T00:00:00",
          "1992-09-30T00:00:00",
          "1992-12-31T00:00:00",
          "1993-03-31T00:00:00",
          "1993-06-30T00:00:00",
          "1993-09-30T00:00:00",
          "1993-12-31T00:00:00",
          "1994-03-31T00:00:00",
          "1994-06-30T00:00:00",
          "1994-09-30T00:00:00",
          "1994-12-31T00:00:00",
          "1995-03-31T00:00:00",
          "1995-06-30T00:00:00",
          "1995-09-30T00:00:00",
          "1995-12-31T00:00:00",
          "1996-03-31T00:00:00",
          "1996-06-30T00:00:00",
          "1996-09-30T00:00:00",
          "1996-12-31T00:00:00",
          "1997-03-31T00:00:00",
          "1997-06-30T00:00:00",
          "1997-09-30T00:00:00",
          "1997-12-31T00:00:00",
          "1998-03-31T00:00:00",
          "1998-06-30T00:00:00",
          "1998-09-30T00:00:00",
          "1998-12-31T00:00:00",
          "1999-03-31T00:00:00",
          "1999-06-30T00:00:00",
          "1999-09-30T00:00:00",
          "1999-12-31T00:00:00",
          "2000-03-31T00:00:00",
          "2000-06-30T00:00:00",
          "2000-09-30T00:00:00",
          "2000-12-31T00:00:00",
          "2001-03-31T00:00:00",
          "2001-06-30T00:00:00",
          "2001-09-30T00:00:00",
          "2001-12-31T00:00:00",
          "2002-03-31T00:00:00",
          "2002-06-30T00:00:00",
          "2002-09-30T00:00:00",
          "2002-12-31T00:00:00",
          "2003-03-31T00:00:00",
          "2003-06-30T00:00:00",
          "2003-09-30T00:00:00",
          "2003-12-31T00:00:00",
          "2004-03-31T00:00:00",
          "2004-06-30T00:00:00",
          "2004-09-30T00:00:00",
          "2004-12-31T00:00:00",
          "2005-03-31T00:00:00",
          "2005-06-30T00:00:00",
          "2005-09-30T00:00:00",
          "2005-12-31T00:00:00",
          "2006-03-31T00:00:00",
          "2006-06-30T00:00:00",
          "2006-09-30T00:00:00",
          "2006-12-31T00:00:00",
          "2007-03-31T00:00:00",
          "2007-06-30T00:00:00",
          "2007-09-30T00:00:00",
          "2007-12-31T00:00:00",
          "2008-03-31T00:00:00",
          "2008-06-30T00:00:00",
          "2008-09-30T00:00:00",
          "2008-12-31T00:00:00",
          "2009-03-31T00:00:00",
          "2009-06-30T00:00:00",
          "2009-09-30T00:00:00",
          "2009-12-31T00:00:00",
          "2010-03-31T00:00:00",
          "2010-06-30T00:00:00",
          "2010-09-30T00:00:00",
          "2010-12-31T00:00:00",
          "2011-03-31T00:00:00",
          "2011-06-30T00:00:00",
          "2011-09-30T00:00:00",
          "2011-12-31T00:00:00",
          "2012-03-31T00:00:00",
          "2012-06-30T00:00:00",
          "2012-09-30T00:00:00",
          "2012-12-31T00:00:00",
          "2013-03-31T00:00:00",
          "2013-06-30T00:00:00",
          "2013-09-30T00:00:00",
          "2013-12-31T00:00:00",
          "2014-03-31T00:00:00",
          "2014-06-30T00:00:00",
          "2014-09-30T00:00:00",
          "2014-12-31T00:00:00",
          "2015-03-31T00:00:00",
          "2015-06-30T00:00:00",
          "2015-09-30T00:00:00",
          "2015-12-31T00:00:00",
          "2016-03-31T00:00:00",
          "2016-06-30T00:00:00",
          "2016-09-30T00:00:00",
          "2016-12-31T00:00:00",
          "2017-03-31T00:00:00",
          "2017-06-30T00:00:00",
          "2017-09-30T00:00:00",
          "2017-12-31T00:00:00",
          "2018-03-31T00:00:00",
          "2018-06-30T00:00:00",
          "2018-09-30T00:00:00",
          "2018-12-31T00:00:00",
          "2019-03-31T00:00:00",
          "2019-06-30T00:00:00",
          "2019-09-30T00:00:00",
          "2019-12-31T00:00:00",
          "2020-03-31T00:00:00",
          "2020-06-30T00:00:00",
          "2020-09-30T00:00:00",
          "2020-12-31T00:00:00",
          "2021-03-31T00:00:00",
          "2021-06-30T00:00:00",
          "2021-09-30T00:00:00",
          "2021-12-31T00:00:00",
          "2022-03-31T00:00:00"
         ],
         "y": [
          -14782318.602650128,
          -16337997.817717284,
          -4132065.45011204,
          -8370176.733041843,
          17380126.193796013,
          18333207.609764427,
          5056904.903856831,
          26988552.947358645,
          16283029.087943537,
          14394199.037529577,
          13780805.386694357,
          24346363.094707005,
          20828109.8865055,
          20613490.294265475,
          25814890.837845672,
          27979206.63673027,
          19562296.12628479,
          24528618.747712817,
          37640882.29849664,
          29259529.981035445,
          53380225.08607331,
          52780810.599874005,
          43375377.65969321,
          64298275.20815561,
          58842600.801960066,
          48244973.26555451,
          54415532.60702738,
          68221282.86167419,
          66350474.49372964,
          57841435.46042844,
          65296641.6535525,
          70494240.05590038,
          64579548.87509086,
          58228277.31099288,
          75741761.86677271,
          78511752.14594598,
          95649726.51912126,
          94143356.22551572,
          91850952.0366943,
          104302385.5176546,
          103532781.66574429,
          99576443.42241745,
          92529997.21768865,
          107090805.62559603,
          103087293.76239698,
          99877864.50395577,
          107626877.02884363,
          109354508.17028125,
          102966881.21388398,
          105126256.89144634,
          116198521.19206585,
          122007685.62328424,
          148475598.49840337,
          138440864.78503603,
          123366183.7275562,
          141281206.8882247,
          126245048.11989564,
          123967223.05329542,
          111153234.4078999,
          116715804.45457076,
          104046468.6295383,
          93819872.55470365,
          92025937.33050115,
          92567161.82259922,
          84387645.54834414,
          71541222.42799027,
          74477294.0571771,
          75963806.67590812,
          90132790.59868479,
          83007729.99599989,
          69535377.92829582,
          85688157.91205193,
          79019497.03874855,
          68707284.23022588,
          61765182.47840046,
          78905549.31998639,
          68904232.84482074,
          67402656.53011331,
          72460910.99270028,
          82610317.35290259,
          70408939.3776033,
          70320458.02144642,
          79348724.78247248,
          75103649.23535793,
          104328480.94540228,
          97221049.09424861,
          92994266.21382524,
          111512527.99965516,
          105484567.97270219,
          98594783.61661004,
          100120420.35870276,
          113407250.8583493,
          103677459.12165749,
          101458696.6586162,
          111450153.84046659,
          110351791.86658598,
          102591162.22823143,
          100389460.55812483,
          112179988.80766344,
          113274599.84525809,
          141092449.64050466,
          136789692.26537418,
          124878159.1215944,
          147610802.7421902,
          142441429.59201902,
          135715471.9755979,
          138286358.70222023,
          150964113.57285735,
          146074202.50491196,
          138656972.2649015,
          145161015.19841766,
          154931690.10246128,
          141864616.6320969,
          135921239.89918312,
          153619276.85526568,
          147129273.8205399,
          177133824.9038324,
          170067308.002321,
          159131193.58908993,
          184100546.17084652,
          169953962.9012606,
          170362238.44934025,
          171478889.618026,
          183359353.37780285,
          183373222.09710932
         ]
        },
        {
         "fill": "tonexty",
         "fillcolor": "rgba(0, 114, 178, 0.2)",
         "line": {
          "color": "#0072B2",
          "width": 2
         },
         "mode": "lines",
         "name": "Predicted",
         "type": "scatter",
         "x": [
          "1991-03-31T00:00:00",
          "1991-06-30T00:00:00",
          "1991-09-30T00:00:00",
          "1991-12-31T00:00:00",
          "1992-03-31T00:00:00",
          "1992-06-30T00:00:00",
          "1992-09-30T00:00:00",
          "1992-12-31T00:00:00",
          "1993-03-31T00:00:00",
          "1993-06-30T00:00:00",
          "1993-09-30T00:00:00",
          "1993-12-31T00:00:00",
          "1994-03-31T00:00:00",
          "1994-06-30T00:00:00",
          "1994-09-30T00:00:00",
          "1994-12-31T00:00:00",
          "1995-03-31T00:00:00",
          "1995-06-30T00:00:00",
          "1995-09-30T00:00:00",
          "1995-12-31T00:00:00",
          "1996-03-31T00:00:00",
          "1996-06-30T00:00:00",
          "1996-09-30T00:00:00",
          "1996-12-31T00:00:00",
          "1997-03-31T00:00:00",
          "1997-06-30T00:00:00",
          "1997-09-30T00:00:00",
          "1997-12-31T00:00:00",
          "1998-03-31T00:00:00",
          "1998-06-30T00:00:00",
          "1998-09-30T00:00:00",
          "1998-12-31T00:00:00",
          "1999-03-31T00:00:00",
          "1999-06-30T00:00:00",
          "1999-09-30T00:00:00",
          "1999-12-31T00:00:00",
          "2000-03-31T00:00:00",
          "2000-06-30T00:00:00",
          "2000-09-30T00:00:00",
          "2000-12-31T00:00:00",
          "2001-03-31T00:00:00",
          "2001-06-30T00:00:00",
          "2001-09-30T00:00:00",
          "2001-12-31T00:00:00",
          "2002-03-31T00:00:00",
          "2002-06-30T00:00:00",
          "2002-09-30T00:00:00",
          "2002-12-31T00:00:00",
          "2003-03-31T00:00:00",
          "2003-06-30T00:00:00",
          "2003-09-30T00:00:00",
          "2003-12-31T00:00:00",
          "2004-03-31T00:00:00",
          "2004-06-30T00:00:00",
          "2004-09-30T00:00:00",
          "2004-12-31T00:00:00",
          "2005-03-31T00:00:00",
          "2005-06-30T00:00:00",
          "2005-09-30T00:00:00",
          "2005-12-31T00:00:00",
          "2006-03-31T00:00:00",
          "2006-06-30T00:00:00",
          "2006-09-30T00:00:00",
          "2006-12-31T00:00:00",
          "2007-03-31T00:00:00",
          "2007-06-30T00:00:00",
          "2007-09-30T00:00:00",
          "2007-12-31T00:00:00",
          "2008-03-31T00:00:00",
          "2008-06-30T00:00:00",
          "2008-09-30T00:00:00",
          "2008-12-31T00:00:00",
          "2009-03-31T00:00:00",
          "2009-06-30T00:00:00",
          "2009-09-30T00:00:00",
          "2009-12-31T00:00:00",
          "2010-03-31T00:00:00",
          "2010-06-30T00:00:00",
          "2010-09-30T00:00:00",
          "2010-12-31T00:00:00",
          "2011-03-31T00:00:00",
          "2011-06-30T00:00:00",
          "2011-09-30T00:00:00",
          "2011-12-31T00:00:00",
          "2012-03-31T00:00:00",
          "2012-06-30T00:00:00",
          "2012-09-30T00:00:00",
          "2012-12-31T00:00:00",
          "2013-03-31T00:00:00",
          "2013-06-30T00:00:00",
          "2013-09-30T00:00:00",
          "2013-12-31T00:00:00",
          "2014-03-31T00:00:00",
          "2014-06-30T00:00:00",
          "2014-09-30T00:00:00",
          "2014-12-31T00:00:00",
          "2015-03-31T00:00:00",
          "2015-06-30T00:00:00",
          "2015-09-30T00:00:00",
          "2015-12-31T00:00:00",
          "2016-03-31T00:00:00",
          "2016-06-30T00:00:00",
          "2016-09-30T00:00:00",
          "2016-12-31T00:00:00",
          "2017-03-31T00:00:00",
          "2017-06-30T00:00:00",
          "2017-09-30T00:00:00",
          "2017-12-31T00:00:00",
          "2018-03-31T00:00:00",
          "2018-06-30T00:00:00",
          "2018-09-30T00:00:00",
          "2018-12-31T00:00:00",
          "2019-03-31T00:00:00",
          "2019-06-30T00:00:00",
          "2019-09-30T00:00:00",
          "2019-12-31T00:00:00",
          "2020-03-31T00:00:00",
          "2020-06-30T00:00:00",
          "2020-09-30T00:00:00",
          "2020-12-31T00:00:00",
          "2021-03-31T00:00:00",
          "2021-06-30T00:00:00",
          "2021-09-30T00:00:00",
          "2021-12-31T00:00:00",
          "2022-03-31T00:00:00"
         ],
         "y": [
          44818697.23736792,
          42833679.00670846,
          55569407.53792166,
          53794187.85671223,
          79669985.13005745,
          76179333.91033953,
          67101581.71880365,
          86321178.02593853,
          81476339.3779055,
          78451071.38203548,
          76680823.2025152,
          88941041.00292632,
          83279832.57503796,
          80756523.20490761,
          86257684.16729267,
          91519396.81701493,
          85082623.29652748,
          83097605.21706727,
          95833333.9010659,
          94058114.37267661,
          119934022.18125992,
          116443481.4670912,
          107365840.99540435,
          126585549.02242374,
          121745142.36909164,
          118724355.53968237,
          116958637.77021217,
          129223385.98068209,
          123583469.41909169,
          121081688.49148753,
          126604614.47278522,
          131949151.0259533,
          125593400.85847838,
          123690306.39152308,
          136508858.9474933,
          134892184.10307068,
          160924802.8998494,
          157590973.17374253,
          148671765.78890967,
          168050730.49306965,
          163361795.71173987,
          160494163.7749717,
          158883283.91897812,
          171302870.28772023,
          165797565.87657252,
          163431892.79003698,
          169092422.3029106,
          174513503.54318053,
          168232634.04777005,
          166405252.26040947,
          179300349.43113083,
          177684498.38940707,
          203717932.03437415,
          200384917.15658936,
          186253727.46331388,
          200419886.26876292,
          190631467.45592698,
          182607690.55410513,
          174433722.3894424,
          180290220.20463583,
          168364503.07816458,
          159507079.35720566,
          158604520.32867658,
          157462512.98748088,
          144761230.74947336,
          136442098.29999298,
          142775393.18806595,
          134597739.86377302,
          154140695.16402888,
          145777696.48770362,
          131774054.55968495,
          146067761.13037637,
          136404117.305439,
          131777712.021059,
          128388731.63780974,
          139030217.23450905,
          131785466.41605577,
          128971237.47166277,
          134178281.94145298,
          139145878.0985242,
          132421381.8914125,
          130145444.24777614,
          142587056.4492815,
          140517720.4384044,
          166102598.29870865,
          162321027.68022868,
          152949159.1733411,
          171874639.1652444,
          166742078.0420472,
          163425890.58187115,
          161361526.02097628,
          173327627.44005865,
          167378696.46399042,
          164564467.62848812,
          169771512.2084116,
          174739108.47564477,
          168014612.36766383,
          165738674.78321007,
          178180287.0446383,
          176110951.09352258,
          201695829.0130268,
          197914258.40971622,
          188542389.91823635,
          207467869.92542627,
          202335308.81002954,
          199019121.35787898,
          196954756.80493763,
          208920858.23195243,
          202971927.2474851,
          200157698.40343162,
          205364742.97461674,
          210332339.23315087,
          203607843.12530175,
          201331905.54081893,
          213773517.8021763,
          211704181.8511323,
          237289059.77061436,
          233507489.16732535,
          224135620.67577434,
          243061100.68293437,
          237928539.56766742,
          234612352.1153861,
          232547987.5625008,
          244514088.98956227,
          238565158.00507268
         ]
        },
        {
         "fill": "tonexty",
         "fillcolor": "rgba(0, 114, 178, 0.2)",
         "hoverinfo": "skip",
         "line": {
          "width": 0
         },
         "mode": "lines",
         "type": "scatter",
         "x": [
          "1991-03-31T00:00:00",
          "1991-06-30T00:00:00",
          "1991-09-30T00:00:00",
          "1991-12-31T00:00:00",
          "1992-03-31T00:00:00",
          "1992-06-30T00:00:00",
          "1992-09-30T00:00:00",
          "1992-12-31T00:00:00",
          "1993-03-31T00:00:00",
          "1993-06-30T00:00:00",
          "1993-09-30T00:00:00",
          "1993-12-31T00:00:00",
          "1994-03-31T00:00:00",
          "1994-06-30T00:00:00",
          "1994-09-30T00:00:00",
          "1994-12-31T00:00:00",
          "1995-03-31T00:00:00",
          "1995-06-30T00:00:00",
          "1995-09-30T00:00:00",
          "1995-12-31T00:00:00",
          "1996-03-31T00:00:00",
          "1996-06-30T00:00:00",
          "1996-09-30T00:00:00",
          "1996-12-31T00:00:00",
          "1997-03-31T00:00:00",
          "1997-06-30T00:00:00",
          "1997-09-30T00:00:00",
          "1997-12-31T00:00:00",
          "1998-03-31T00:00:00",
          "1998-06-30T00:00:00",
          "1998-09-30T00:00:00",
          "1998-12-31T00:00:00",
          "1999-03-31T00:00:00",
          "1999-06-30T00:00:00",
          "1999-09-30T00:00:00",
          "1999-12-31T00:00:00",
          "2000-03-31T00:00:00",
          "2000-06-30T00:00:00",
          "2000-09-30T00:00:00",
          "2000-12-31T00:00:00",
          "2001-03-31T00:00:00",
          "2001-06-30T00:00:00",
          "2001-09-30T00:00:00",
          "2001-12-31T00:00:00",
          "2002-03-31T00:00:00",
          "2002-06-30T00:00:00",
          "2002-09-30T00:00:00",
          "2002-12-31T00:00:00",
          "2003-03-31T00:00:00",
          "2003-06-30T00:00:00",
          "2003-09-30T00:00:00",
          "2003-12-31T00:00:00",
          "2004-03-31T00:00:00",
          "2004-06-30T00:00:00",
          "2004-09-30T00:00:00",
          "2004-12-31T00:00:00",
          "2005-03-31T00:00:00",
          "2005-06-30T00:00:00",
          "2005-09-30T00:00:00",
          "2005-12-31T00:00:00",
          "2006-03-31T00:00:00",
          "2006-06-30T00:00:00",
          "2006-09-30T00:00:00",
          "2006-12-31T00:00:00",
          "2007-03-31T00:00:00",
          "2007-06-30T00:00:00",
          "2007-09-30T00:00:00",
          "2007-12-31T00:00:00",
          "2008-03-31T00:00:00",
          "2008-06-30T00:00:00",
          "2008-09-30T00:00:00",
          "2008-12-31T00:00:00",
          "2009-03-31T00:00:00",
          "2009-06-30T00:00:00",
          "2009-09-30T00:00:00",
          "2009-12-31T00:00:00",
          "2010-03-31T00:00:00",
          "2010-06-30T00:00:00",
          "2010-09-30T00:00:00",
          "2010-12-31T00:00:00",
          "2011-03-31T00:00:00",
          "2011-06-30T00:00:00",
          "2011-09-30T00:00:00",
          "2011-12-31T00:00:00",
          "2012-03-31T00:00:00",
          "2012-06-30T00:00:00",
          "2012-09-30T00:00:00",
          "2012-12-31T00:00:00",
          "2013-03-31T00:00:00",
          "2013-06-30T00:00:00",
          "2013-09-30T00:00:00",
          "2013-12-31T00:00:00",
          "2014-03-31T00:00:00",
          "2014-06-30T00:00:00",
          "2014-09-30T00:00:00",
          "2014-12-31T00:00:00",
          "2015-03-31T00:00:00",
          "2015-06-30T00:00:00",
          "2015-09-30T00:00:00",
          "2015-12-31T00:00:00",
          "2016-03-31T00:00:00",
          "2016-06-30T00:00:00",
          "2016-09-30T00:00:00",
          "2016-12-31T00:00:00",
          "2017-03-31T00:00:00",
          "2017-06-30T00:00:00",
          "2017-09-30T00:00:00",
          "2017-12-31T00:00:00",
          "2018-03-31T00:00:00",
          "2018-06-30T00:00:00",
          "2018-09-30T00:00:00",
          "2018-12-31T00:00:00",
          "2019-03-31T00:00:00",
          "2019-06-30T00:00:00",
          "2019-09-30T00:00:00",
          "2019-12-31T00:00:00",
          "2020-03-31T00:00:00",
          "2020-06-30T00:00:00",
          "2020-09-30T00:00:00",
          "2020-12-31T00:00:00",
          "2021-03-31T00:00:00",
          "2021-06-30T00:00:00",
          "2021-09-30T00:00:00",
          "2021-12-31T00:00:00",
          "2022-03-31T00:00:00"
         ],
         "y": [
          109663687.29599154,
          103146067.94464062,
          117866313.74219197,
          117421292.70299122,
          143461253.22444004,
          137707169.39503324,
          122332378.99701837,
          146119255.9438291,
          143622173.58829018,
          139734187.25052035,
          139028644.71602908,
          155314009.85276574,
          144684986.22568998,
          144159127.93070915,
          144866964.5503727,
          153517465.62626144,
          149704366.82159626,
          152102589.66960672,
          158243312.365147,
          154246646.94964737,
          182640269.85796958,
          179318850.0128187,
          169847374.60510352,
          189935796.50687477,
          181235983.53594622,
          182218831.69534415,
          175654128.45747843,
          191890578.13354242,
          188902076.74500665,
          181532012.9817756,
          183816499.4135264,
          195974968.34322906,
          190153804.00767866,
          182288913.77878726,
          196640090.72740403,
          200328983.8663029,
          220952435.34070048,
          219077210.98244628,
          212674765.4996123,
          229296185.72371513,
          227840123.3372751,
          221403504.6336185,
          216852802.4499991,
          230862197.69217366,
          231063695.2232849,
          229508505.785983,
          229469603.60996795,
          237045632.1467949,
          230152192.3423689,
          228923377.19334492,
          244051197.0646903,
          239120313.54816952,
          267185439.03678656,
          264355928.72158813,
          246821880.42742586,
          262591388.26495987,
          247355595.06726372,
          248457795.4453348,
          239100727.51523376,
          243797233.44529602,
          227022472.17012918,
          222549580.8050711,
          218594786.3270148,
          220314393.61561605,
          207567965.49095932,
          199758520.04475754,
          205574719.3241757,
          198387098.81813976,
          215907032.29549408,
          204913141.72866237,
          190989763.76474053,
          205559214.07576144,
          198776014.25753188,
          190563576.72571677,
          186695672.88808882,
          199119121.63799796,
          197061106.3069978,
          195237384.48648784,
          196372951.6700707,
          203861123.61258507,
          192928929.5529614,
          192432672.99896118,
          204225459.25054383,
          204608033.69362777,
          225484995.25895417,
          226256752.884304,
          215942757.1245603,
          233636509.91760862,
          230920415.15673593,
          223334857.5557485,
          223243959.4463874,
          235726818.74667174,
          232397546.42072374,
          225613805.6240697,
          232809431.93075794,
          237396558.0432563,
          230452187.25791028,
          230456933.3247238,
          243338611.5788362,
          235392880.19845977,
          264900387.69749805,
          257879406.1427134,
          247466378.07039058,
          269145814.88017845,
          263743239.43884924,
          265903367.16939536,
          259601968.79597652,
          274274311.8416355,
          269838135.9118304,
          265783101.62045893,
          267363597.5270544,
          272257389.3187302,
          266476083.20118642,
          264830363.65898955,
          274405342.67295504,
          273746106.70849144,
          295106139.1028357,
          295071203.61639124,
          286536025.8295105,
          309638762.66810095,
          300666882.73958826,
          300618095.27984405,
          291762128.37861806,
          305163984.764036,
          303855414.75896853
         ]
        }
       ],
       "layout": {
        "height": 600,
        "showlegend": false,
        "template": {
         "data": {
          "bar": [
           {
            "error_x": {
             "color": "#2a3f5f"
            },
            "error_y": {
             "color": "#2a3f5f"
            },
            "marker": {
             "line": {
              "color": "#E5ECF6",
              "width": 0.5
             },
             "pattern": {
              "fillmode": "overlay",
              "size": 10,
              "solidity": 0.2
             }
            },
            "type": "bar"
           }
          ],
          "barpolar": [
           {
            "marker": {
             "line": {
              "color": "#E5ECF6",
              "width": 0.5
             },
             "pattern": {
              "fillmode": "overlay",
              "size": 10,
              "solidity": 0.2
             }
            },
            "type": "barpolar"
           }
          ],
          "carpet": [
           {
            "aaxis": {
             "endlinecolor": "#2a3f5f",
             "gridcolor": "white",
             "linecolor": "white",
             "minorgridcolor": "white",
             "startlinecolor": "#2a3f5f"
            },
            "baxis": {
             "endlinecolor": "#2a3f5f",
             "gridcolor": "white",
             "linecolor": "white",
             "minorgridcolor": "white",
             "startlinecolor": "#2a3f5f"
            },
            "type": "carpet"
           }
          ],
          "choropleth": [
           {
            "colorbar": {
             "outlinewidth": 0,
             "ticks": ""
            },
            "type": "choropleth"
           }
          ],
          "contour": [
           {
            "colorbar": {
             "outlinewidth": 0,
             "ticks": ""
            },
            "colorscale": [
             [
              0,
              "#0d0887"
             ],
             [
              0.1111111111111111,
              "#46039f"
             ],
             [
              0.2222222222222222,
              "#7201a8"
             ],
             [
              0.3333333333333333,
              "#9c179e"
             ],
             [
              0.4444444444444444,
              "#bd3786"
             ],
             [
              0.5555555555555556,
              "#d8576b"
             ],
             [
              0.6666666666666666,
              "#ed7953"
             ],
             [
              0.7777777777777778,
              "#fb9f3a"
             ],
             [
              0.8888888888888888,
              "#fdca26"
             ],
             [
              1,
              "#f0f921"
             ]
            ],
            "type": "contour"
           }
          ],
          "contourcarpet": [
           {
            "colorbar": {
             "outlinewidth": 0,
             "ticks": ""
            },
            "type": "contourcarpet"
           }
          ],
          "heatmap": [
           {
            "colorbar": {
             "outlinewidth": 0,
             "ticks": ""
            },
            "colorscale": [
             [
              0,
              "#0d0887"
             ],
             [
              0.1111111111111111,
              "#46039f"
             ],
             [
              0.2222222222222222,
              "#7201a8"
             ],
             [
              0.3333333333333333,
              "#9c179e"
             ],
             [
              0.4444444444444444,
              "#bd3786"
             ],
             [
              0.5555555555555556,
              "#d8576b"
             ],
             [
              0.6666666666666666,
              "#ed7953"
             ],
             [
              0.7777777777777778,
              "#fb9f3a"
             ],
             [
              0.8888888888888888,
              "#fdca26"
             ],
             [
              1,
              "#f0f921"
             ]
            ],
            "type": "heatmap"
           }
          ],
          "heatmapgl": [
           {
            "colorbar": {
             "outlinewidth": 0,
             "ticks": ""
            },
            "colorscale": [
             [
              0,
              "#0d0887"
             ],
             [
              0.1111111111111111,
              "#46039f"
             ],
             [
              0.2222222222222222,
              "#7201a8"
             ],
             [
              0.3333333333333333,
              "#9c179e"
             ],
             [
              0.4444444444444444,
              "#bd3786"
             ],
             [
              0.5555555555555556,
              "#d8576b"
             ],
             [
              0.6666666666666666,
              "#ed7953"
             ],
             [
              0.7777777777777778,
              "#fb9f3a"
             ],
             [
              0.8888888888888888,
              "#fdca26"
             ],
             [
              1,
              "#f0f921"
             ]
            ],
            "type": "heatmapgl"
           }
          ],
          "histogram": [
           {
            "marker": {
             "pattern": {
              "fillmode": "overlay",
              "size": 10,
              "solidity": 0.2
             }
            },
            "type": "histogram"
           }
          ],
          "histogram2d": [
           {
            "colorbar": {
             "outlinewidth": 0,
             "ticks": ""
            },
            "colorscale": [
             [
              0,
              "#0d0887"
             ],
             [
              0.1111111111111111,
              "#46039f"
             ],
             [
              0.2222222222222222,
              "#7201a8"
             ],
             [
              0.3333333333333333,
              "#9c179e"
             ],
             [
              0.4444444444444444,
              "#bd3786"
             ],
             [
              0.5555555555555556,
              "#d8576b"
             ],
             [
              0.6666666666666666,
              "#ed7953"
             ],
             [
              0.7777777777777778,
              "#fb9f3a"
             ],
             [
              0.8888888888888888,
              "#fdca26"
             ],
             [
              1,
              "#f0f921"
             ]
            ],
            "type": "histogram2d"
           }
          ],
          "histogram2dcontour": [
           {
            "colorbar": {
             "outlinewidth": 0,
             "ticks": ""
            },
            "colorscale": [
             [
              0,
              "#0d0887"
             ],
             [
              0.1111111111111111,
              "#46039f"
             ],
             [
              0.2222222222222222,
              "#7201a8"
             ],
             [
              0.3333333333333333,
              "#9c179e"
             ],
             [
              0.4444444444444444,
              "#bd3786"
             ],
             [
              0.5555555555555556,
              "#d8576b"
             ],
             [
              0.6666666666666666,
              "#ed7953"
             ],
             [
              0.7777777777777778,
              "#fb9f3a"
             ],
             [
              0.8888888888888888,
              "#fdca26"
             ],
             [
              1,
              "#f0f921"
             ]
            ],
            "type": "histogram2dcontour"
           }
          ],
          "mesh3d": [
           {
            "colorbar": {
             "outlinewidth": 0,
             "ticks": ""
            },
            "type": "mesh3d"
           }
          ],
          "parcoords": [
           {
            "line": {
             "colorbar": {
              "outlinewidth": 0,
              "ticks": ""
             }
            },
            "type": "parcoords"
           }
          ],
          "pie": [
           {
            "automargin": true,
            "type": "pie"
           }
          ],
          "scatter": [
           {
            "fillpattern": {
             "fillmode": "overlay",
             "size": 10,
             "solidity": 0.2
            },
            "type": "scatter"
           }
          ],
          "scatter3d": [
           {
            "line": {
             "colorbar": {
              "outlinewidth": 0,
              "ticks": ""
             }
            },
            "marker": {
             "colorbar": {
              "outlinewidth": 0,
              "ticks": ""
             }
            },
            "type": "scatter3d"
           }
          ],
          "scattercarpet": [
           {
            "marker": {
             "colorbar": {
              "outlinewidth": 0,
              "ticks": ""
             }
            },
            "type": "scattercarpet"
           }
          ],
          "scattergeo": [
           {
            "marker": {
             "colorbar": {
              "outlinewidth": 0,
              "ticks": ""
             }
            },
            "type": "scattergeo"
           }
          ],
          "scattergl": [
           {
            "marker": {
             "colorbar": {
              "outlinewidth": 0,
              "ticks": ""
             }
            },
            "type": "scattergl"
           }
          ],
          "scattermapbox": [
           {
            "marker": {
             "colorbar": {
              "outlinewidth": 0,
              "ticks": ""
             }
            },
            "type": "scattermapbox"
           }
          ],
          "scatterpolar": [
           {
            "marker": {
             "colorbar": {
              "outlinewidth": 0,
              "ticks": ""
             }
            },
            "type": "scatterpolar"
           }
          ],
          "scatterpolargl": [
           {
            "marker": {
             "colorbar": {
              "outlinewidth": 0,
              "ticks": ""
             }
            },
            "type": "scatterpolargl"
           }
          ],
          "scatterternary": [
           {
            "marker": {
             "colorbar": {
              "outlinewidth": 0,
              "ticks": ""
             }
            },
            "type": "scatterternary"
           }
          ],
          "surface": [
           {
            "colorbar": {
             "outlinewidth": 0,
             "ticks": ""
            },
            "colorscale": [
             [
              0,
              "#0d0887"
             ],
             [
              0.1111111111111111,
              "#46039f"
             ],
             [
              0.2222222222222222,
              "#7201a8"
             ],
             [
              0.3333333333333333,
              "#9c179e"
             ],
             [
              0.4444444444444444,
              "#bd3786"
             ],
             [
              0.5555555555555556,
              "#d8576b"
             ],
             [
              0.6666666666666666,
              "#ed7953"
             ],
             [
              0.7777777777777778,
              "#fb9f3a"
             ],
             [
              0.8888888888888888,
              "#fdca26"
             ],
             [
              1,
              "#f0f921"
             ]
            ],
            "type": "surface"
           }
          ],
          "table": [
           {
            "cells": {
             "fill": {
              "color": "#EBF0F8"
             },
             "line": {
              "color": "white"
             }
            },
            "header": {
             "fill": {
              "color": "#C8D4E3"
             },
             "line": {
              "color": "white"
             }
            },
            "type": "table"
           }
          ]
         },
         "layout": {
          "annotationdefaults": {
           "arrowcolor": "#2a3f5f",
           "arrowhead": 0,
           "arrowwidth": 1
          },
          "autotypenumbers": "strict",
          "coloraxis": {
           "colorbar": {
            "outlinewidth": 0,
            "ticks": ""
           }
          },
          "colorscale": {
           "diverging": [
            [
             0,
             "#8e0152"
            ],
            [
             0.1,
             "#c51b7d"
            ],
            [
             0.2,
             "#de77ae"
            ],
            [
             0.3,
             "#f1b6da"
            ],
            [
             0.4,
             "#fde0ef"
            ],
            [
             0.5,
             "#f7f7f7"
            ],
            [
             0.6,
             "#e6f5d0"
            ],
            [
             0.7,
             "#b8e186"
            ],
            [
             0.8,
             "#7fbc41"
            ],
            [
             0.9,
             "#4d9221"
            ],
            [
             1,
             "#276419"
            ]
           ],
           "sequential": [
            [
             0,
             "#0d0887"
            ],
            [
             0.1111111111111111,
             "#46039f"
            ],
            [
             0.2222222222222222,
             "#7201a8"
            ],
            [
             0.3333333333333333,
             "#9c179e"
            ],
            [
             0.4444444444444444,
             "#bd3786"
            ],
            [
             0.5555555555555556,
             "#d8576b"
            ],
            [
             0.6666666666666666,
             "#ed7953"
            ],
            [
             0.7777777777777778,
             "#fb9f3a"
            ],
            [
             0.8888888888888888,
             "#fdca26"
            ],
            [
             1,
             "#f0f921"
            ]
           ],
           "sequentialminus": [
            [
             0,
             "#0d0887"
            ],
            [
             0.1111111111111111,
             "#46039f"
            ],
            [
             0.2222222222222222,
             "#7201a8"
            ],
            [
             0.3333333333333333,
             "#9c179e"
            ],
            [
             0.4444444444444444,
             "#bd3786"
            ],
            [
             0.5555555555555556,
             "#d8576b"
            ],
            [
             0.6666666666666666,
             "#ed7953"
            ],
            [
             0.7777777777777778,
             "#fb9f3a"
            ],
            [
             0.8888888888888888,
             "#fdca26"
            ],
            [
             1,
             "#f0f921"
            ]
           ]
          },
          "colorway": [
           "#636efa",
           "#EF553B",
           "#00cc96",
           "#ab63fa",
           "#FFA15A",
           "#19d3f3",
           "#FF6692",
           "#B6E880",
           "#FF97FF",
           "#FECB52"
          ],
          "font": {
           "color": "#2a3f5f"
          },
          "geo": {
           "bgcolor": "white",
           "lakecolor": "white",
           "landcolor": "#E5ECF6",
           "showlakes": true,
           "showland": true,
           "subunitcolor": "white"
          },
          "hoverlabel": {
           "align": "left"
          },
          "hovermode": "closest",
          "mapbox": {
           "style": "light"
          },
          "paper_bgcolor": "white",
          "plot_bgcolor": "#E5ECF6",
          "polar": {
           "angularaxis": {
            "gridcolor": "white",
            "linecolor": "white",
            "ticks": ""
           },
           "bgcolor": "#E5ECF6",
           "radialaxis": {
            "gridcolor": "white",
            "linecolor": "white",
            "ticks": ""
           }
          },
          "scene": {
           "xaxis": {
            "backgroundcolor": "#E5ECF6",
            "gridcolor": "white",
            "gridwidth": 2,
            "linecolor": "white",
            "showbackground": true,
            "ticks": "",
            "zerolinecolor": "white"
           },
           "yaxis": {
            "backgroundcolor": "#E5ECF6",
            "gridcolor": "white",
            "gridwidth": 2,
            "linecolor": "white",
            "showbackground": true,
            "ticks": "",
            "zerolinecolor": "white"
           },
           "zaxis": {
            "backgroundcolor": "#E5ECF6",
            "gridcolor": "white",
            "gridwidth": 2,
            "linecolor": "white",
            "showbackground": true,
            "ticks": "",
            "zerolinecolor": "white"
           }
          },
          "shapedefaults": {
           "line": {
            "color": "#2a3f5f"
           }
          },
          "ternary": {
           "aaxis": {
            "gridcolor": "white",
            "linecolor": "white",
            "ticks": ""
           },
           "baxis": {
            "gridcolor": "white",
            "linecolor": "white",
            "ticks": ""
           },
           "bgcolor": "#E5ECF6",
           "caxis": {
            "gridcolor": "white",
            "linecolor": "white",
            "ticks": ""
           }
          },
          "title": {
           "x": 0.05
          },
          "xaxis": {
           "automargin": true,
           "gridcolor": "white",
           "linecolor": "white",
           "ticks": "",
           "title": {
            "standoff": 15
           },
           "zerolinecolor": "white",
           "zerolinewidth": 2
          },
          "yaxis": {
           "automargin": true,
           "gridcolor": "white",
           "linecolor": "white",
           "ticks": "",
           "title": {
            "standoff": 15
           },
           "zerolinecolor": "white",
           "zerolinewidth": 2
          }
         }
        },
        "width": 900,
        "xaxis": {
         "rangeselector": {
          "buttons": [
           {
            "count": 7,
            "label": "1w",
            "step": "day",
            "stepmode": "backward"
           },
           {
            "count": 1,
            "label": "1m",
            "step": "month",
            "stepmode": "backward"
           },
           {
            "count": 6,
            "label": "6m",
            "step": "month",
            "stepmode": "backward"
           },
           {
            "count": 1,
            "label": "1y",
            "step": "year",
            "stepmode": "backward"
           },
           {
            "step": "all"
           }
          ]
         },
         "rangeslider": {
          "visible": true
         },
         "title": {
          "text": "ds"
         },
         "type": "date"
        },
        "yaxis": {
         "title": {
          "text": "y"
         }
        }
       }
      }
     },
     "metadata": {},
     "output_type": "display_data"
    },
    {
     "name": "stderr",
     "output_type": "stream",
     "text": [
      "15:49:16 - cmdstanpy - INFO - Chain [1] start processing\n",
      "15:49:16 - cmdstanpy - INFO - Chain [1] done processing\n"
     ]
    },
    {
     "name": "stdout",
     "output_type": "stream",
     "text": [
      "The train SMAPE is 8.83% and the test SMAPE is 1.33%.\n"
     ]
    },
    {
     "data": {
      "application/vnd.plotly.v1+json": {
       "config": {
        "plotlyServerURL": "https://plot.ly"
       },
       "data": [
        {
         "marker": {
          "color": "black",
          "size": 4
         },
         "mode": "markers",
         "name": "Actual",
         "type": "scatter",
         "x": [
          "1991-03-31T00:00:00",
          "1991-06-30T00:00:00",
          "1991-09-30T00:00:00",
          "1991-12-31T00:00:00",
          "1992-03-31T00:00:00",
          "1992-06-30T00:00:00",
          "1992-09-30T00:00:00",
          "1992-12-31T00:00:00",
          "1993-03-31T00:00:00",
          "1993-06-30T00:00:00",
          "1993-09-30T00:00:00",
          "1993-12-31T00:00:00",
          "1994-03-31T00:00:00",
          "1994-06-30T00:00:00",
          "1994-09-30T00:00:00",
          "1994-12-31T00:00:00",
          "1995-03-31T00:00:00",
          "1995-06-30T00:00:00",
          "1995-09-30T00:00:00",
          "1995-12-31T00:00:00",
          "1996-03-31T00:00:00",
          "1996-06-30T00:00:00",
          "1996-09-30T00:00:00",
          "1996-12-31T00:00:00",
          "1997-03-31T00:00:00",
          "1997-06-30T00:00:00",
          "1997-09-30T00:00:00",
          "1997-12-31T00:00:00",
          "1998-03-31T00:00:00",
          "1998-06-30T00:00:00",
          "1998-09-30T00:00:00",
          "1998-12-31T00:00:00",
          "1999-03-31T00:00:00",
          "1999-06-30T00:00:00",
          "1999-09-30T00:00:00",
          "1999-12-31T00:00:00",
          "2000-03-31T00:00:00",
          "2000-06-30T00:00:00",
          "2000-09-30T00:00:00",
          "2000-12-31T00:00:00",
          "2001-03-31T00:00:00",
          "2001-06-30T00:00:00",
          "2001-09-30T00:00:00",
          "2001-12-31T00:00:00",
          "2002-03-31T00:00:00",
          "2002-06-30T00:00:00",
          "2002-09-30T00:00:00",
          "2002-12-31T00:00:00",
          "2003-03-31T00:00:00",
          "2003-06-30T00:00:00",
          "2003-09-30T00:00:00",
          "2003-12-31T00:00:00",
          "2004-03-31T00:00:00",
          "2004-06-30T00:00:00",
          "2004-09-30T00:00:00",
          "2004-12-31T00:00:00",
          "2005-03-31T00:00:00",
          "2005-06-30T00:00:00",
          "2005-09-30T00:00:00",
          "2005-12-31T00:00:00",
          "2006-03-31T00:00:00",
          "2006-06-30T00:00:00",
          "2006-09-30T00:00:00",
          "2006-12-31T00:00:00",
          "2007-03-31T00:00:00",
          "2007-06-30T00:00:00",
          "2007-09-30T00:00:00",
          "2007-12-31T00:00:00",
          "2008-03-31T00:00:00",
          "2008-06-30T00:00:00",
          "2008-09-30T00:00:00",
          "2008-12-31T00:00:00",
          "2009-03-31T00:00:00",
          "2009-06-30T00:00:00",
          "2009-09-30T00:00:00",
          "2009-12-31T00:00:00",
          "2010-03-31T00:00:00",
          "2010-06-30T00:00:00",
          "2010-09-30T00:00:00",
          "2010-12-31T00:00:00",
          "2011-03-31T00:00:00",
          "2011-06-30T00:00:00",
          "2011-09-30T00:00:00",
          "2011-12-31T00:00:00",
          "2012-03-31T00:00:00",
          "2012-06-30T00:00:00",
          "2012-09-30T00:00:00",
          "2012-12-31T00:00:00",
          "2013-03-31T00:00:00",
          "2013-06-30T00:00:00",
          "2013-09-30T00:00:00",
          "2013-12-31T00:00:00",
          "2014-03-31T00:00:00",
          "2014-06-30T00:00:00",
          "2014-09-30T00:00:00",
          "2014-12-31T00:00:00",
          "2015-03-31T00:00:00",
          "2015-06-30T00:00:00",
          "2015-09-30T00:00:00",
          "2015-12-31T00:00:00",
          "2016-03-31T00:00:00",
          "2016-06-30T00:00:00",
          "2016-09-30T00:00:00",
          "2016-12-31T00:00:00",
          "2017-03-31T00:00:00",
          "2017-06-30T00:00:00",
          "2017-09-30T00:00:00",
          "2017-12-31T00:00:00",
          "2018-03-31T00:00:00",
          "2018-06-30T00:00:00",
          "2018-09-30T00:00:00",
          "2018-12-31T00:00:00",
          "2019-03-31T00:00:00",
          "2019-06-30T00:00:00",
          "2019-09-30T00:00:00",
          "2019-12-31T00:00:00",
          "2020-03-31T00:00:00",
          "2020-06-30T00:00:00",
          "2020-09-30T00:00:00",
          "2020-12-31T00:00:00"
         ],
         "y": [
          40671417,
          59259062,
          67561929,
          74483016,
          82768107,
          76771911,
          75205718,
          85725818,
          94592593,
          87546897,
          90365485,
          91288201,
          95649251,
          86903138,
          80710031,
          85192833,
          81344496,
          85066309,
          118656269,
          118152327,
          118816430,
          109746553,
          108255354,
          110302647,
          108181714,
          104082407,
          101640278,
          102831754,
          115457635,
          114954963,
          110259724,
          117411919,
          119835397,
          114116641,
          109411018,
          120105562,
          115363517,
          115727207,
          120901051,
          143998778,
          136492477,
          133969846,
          130596243,
          134979726,
          134649367,
          136972367,
          140154979,
          145132430,
          145947666,
          148746142,
          366169219,
          178883335,
          226525799,
          363528419,
          274567736,
          333309563,
          484657321,
          241299355,
          167051950,
          338157239,
          96295892,
          91247082,
          80679087,
          87858219,
          92162500,
          87877891,
          86073000,
          84760915,
          91278368,
          96881224,
          86097352,
          93254818,
          94038855,
          110317402,
          97233671,
          100859933,
          110403567,
          145645056,
          152231412,
          163880199,
          167571475,
          166390382,
          144530171,
          162274733,
          165021240,
          164255682,
          167346136,
          163908723,
          163168995,
          158591581,
          151249924,
          154949611,
          156942717,
          173309001,
          175915786,
          182147561,
          179982587,
          188561670,
          187029956,
          193344331,
          204779756,
          195230026,
          191955696,
          210845769,
          208854028,
          212856351,
          195468627,
          207598039,
          225293382,
          221447889,
          210185491,
          216868482,
          223800327,
          215912716,
          215610424,
          218743695,
          221488850,
          186228229,
          211905808,
          222210513
         ]
        },
        {
         "hoverinfo": "skip",
         "line": {
          "width": 0
         },
         "mode": "lines",
         "type": "scatter",
         "x": [
          "1991-03-31T00:00:00",
          "1991-06-30T00:00:00",
          "1991-09-30T00:00:00",
          "1991-12-31T00:00:00",
          "1992-03-31T00:00:00",
          "1992-06-30T00:00:00",
          "1992-09-30T00:00:00",
          "1992-12-31T00:00:00",
          "1993-03-31T00:00:00",
          "1993-06-30T00:00:00",
          "1993-09-30T00:00:00",
          "1993-12-31T00:00:00",
          "1994-03-31T00:00:00",
          "1994-06-30T00:00:00",
          "1994-09-30T00:00:00",
          "1994-12-31T00:00:00",
          "1995-03-31T00:00:00",
          "1995-06-30T00:00:00",
          "1995-09-30T00:00:00",
          "1995-12-31T00:00:00",
          "1996-03-31T00:00:00",
          "1996-06-30T00:00:00",
          "1996-09-30T00:00:00",
          "1996-12-31T00:00:00",
          "1997-03-31T00:00:00",
          "1997-06-30T00:00:00",
          "1997-09-30T00:00:00",
          "1997-12-31T00:00:00",
          "1998-03-31T00:00:00",
          "1998-06-30T00:00:00",
          "1998-09-30T00:00:00",
          "1998-12-31T00:00:00",
          "1999-03-31T00:00:00",
          "1999-06-30T00:00:00",
          "1999-09-30T00:00:00",
          "1999-12-31T00:00:00",
          "2000-03-31T00:00:00",
          "2000-06-30T00:00:00",
          "2000-09-30T00:00:00",
          "2000-12-31T00:00:00",
          "2001-03-31T00:00:00",
          "2001-06-30T00:00:00",
          "2001-09-30T00:00:00",
          "2001-12-31T00:00:00",
          "2002-03-31T00:00:00",
          "2002-06-30T00:00:00",
          "2002-09-30T00:00:00",
          "2002-12-31T00:00:00",
          "2003-03-31T00:00:00",
          "2003-06-30T00:00:00",
          "2003-09-30T00:00:00",
          "2003-12-31T00:00:00",
          "2004-03-31T00:00:00",
          "2004-06-30T00:00:00",
          "2004-09-30T00:00:00",
          "2004-12-31T00:00:00",
          "2005-03-31T00:00:00",
          "2005-06-30T00:00:00",
          "2005-09-30T00:00:00",
          "2005-12-31T00:00:00",
          "2006-03-31T00:00:00",
          "2006-06-30T00:00:00",
          "2006-09-30T00:00:00",
          "2006-12-31T00:00:00",
          "2007-03-31T00:00:00",
          "2007-06-30T00:00:00",
          "2007-09-30T00:00:00",
          "2007-12-31T00:00:00",
          "2008-03-31T00:00:00",
          "2008-06-30T00:00:00",
          "2008-09-30T00:00:00",
          "2008-12-31T00:00:00",
          "2009-03-31T00:00:00",
          "2009-06-30T00:00:00",
          "2009-09-30T00:00:00",
          "2009-12-31T00:00:00",
          "2010-03-31T00:00:00",
          "2010-06-30T00:00:00",
          "2010-09-30T00:00:00",
          "2010-12-31T00:00:00",
          "2011-03-31T00:00:00",
          "2011-06-30T00:00:00",
          "2011-09-30T00:00:00",
          "2011-12-31T00:00:00",
          "2012-03-31T00:00:00",
          "2012-06-30T00:00:00",
          "2012-09-30T00:00:00",
          "2012-12-31T00:00:00",
          "2013-03-31T00:00:00",
          "2013-06-30T00:00:00",
          "2013-09-30T00:00:00",
          "2013-12-31T00:00:00",
          "2014-03-31T00:00:00",
          "2014-06-30T00:00:00",
          "2014-09-30T00:00:00",
          "2014-12-31T00:00:00",
          "2015-03-31T00:00:00",
          "2015-06-30T00:00:00",
          "2015-09-30T00:00:00",
          "2015-12-31T00:00:00",
          "2016-03-31T00:00:00",
          "2016-06-30T00:00:00",
          "2016-09-30T00:00:00",
          "2016-12-31T00:00:00",
          "2017-03-31T00:00:00",
          "2017-06-30T00:00:00",
          "2017-09-30T00:00:00",
          "2017-12-31T00:00:00",
          "2018-03-31T00:00:00",
          "2018-06-30T00:00:00",
          "2018-09-30T00:00:00",
          "2018-12-31T00:00:00",
          "2019-03-31T00:00:00",
          "2019-06-30T00:00:00",
          "2019-09-30T00:00:00",
          "2019-12-31T00:00:00",
          "2020-03-31T00:00:00",
          "2020-06-30T00:00:00",
          "2020-09-30T00:00:00",
          "2020-12-31T00:00:00",
          "2021-03-31T00:00:00",
          "2021-06-30T00:00:00",
          "2021-09-30T00:00:00",
          "2021-12-31T00:00:00",
          "2022-03-31T00:00:00"
         ],
         "y": [
          11078686.73918826,
          5424772.0106235435,
          27554732.082960274,
          16313331.490270538,
          43820918.764490336,
          39341982.62163407,
          19437408.859908994,
          45875481.69110244,
          34850969.59715986,
          38493607.10998963,
          29857054.901385274,
          45820857.0079396,
          36285775.97065078,
          31488679.374436773,
          38395042.43807407,
          41263709.21112758,
          28714632.83074965,
          30921821.181400545,
          48345676.771264575,
          38530848.26004386,
          68094715.65315036,
          66231420.66071813,
          40154089.26928611,
          67759428.44736502,
          61962305.26913617,
          58416455.66441799,
          52178968.07497895,
          68749627.27163856,
          56064608.657244176,
          51710016.481902555,
          60792692.56566163,
          65233845.20430623,
          54142798.04356479,
          54513580.38307669,
          73806135.23802122,
          59951449.96829207,
          89151288.63032733,
          83390728.93609013,
          64511136.93535261,
          98533400.78103739,
          92057091.10479444,
          94463290.47114757,
          94781132.30933256,
          117092127.99783722,
          115688961.9268001,
          120730170.9947751,
          139730098.46524143,
          146806592.94937438,
          143308580.71688342,
          150452849.8687124,
          178747452.78075933,
          175340485.4035645,
          212432017.40874624,
          207494953.29430088,
          184466810.84103993,
          207780330.30355242,
          194254348.92654267,
          181628865.99169168,
          156988157.80425164,
          160742014.69592413,
          137450583.33411267,
          121103413.89798795,
          108541720.41277626,
          92733280.08401228,
          71430021.13352573,
          52947149.6739348,
          66571516.68986825,
          47597916.64483076,
          70261393.74901676,
          58898150.97489218,
          41800124.731209576,
          70367958.48802738,
          67533538.72414924,
          64917342.15834379,
          59211814.78187561,
          76492220.4414115,
          75024677.00753792,
          68685094.40090725,
          80481650.66361523,
          83422658.365891,
          74545537.9551966,
          74417902.57598346,
          98741347.36045513,
          92705671.31786352,
          120718405.02108452,
          116374267.284106,
          94991475.17747766,
          124512033.536366,
          118401232.31821564,
          116326193.65948047,
          111552136.77534747,
          125913221.57736152,
          118418264.27848257,
          122331333.61469635,
          131310149.66063277,
          127845148.39546213,
          123010353.26645133,
          120500307.1081477,
          146398937.62889266,
          135822132.63220695,
          158496503.13493118,
          153236495.65318385,
          133396126.85233742,
          157779150.9744314,
          158877162.92611578,
          153133722.49484715,
          149507513.41649702,
          161896033.96821144,
          155799538.66947126,
          150517210.1091556,
          161256474.52345777,
          159943257.3404664,
          152617721.00605708,
          152024769.9557727,
          173094499.07318884,
          159774631.698345,
          192293765.50794986,
          186898039.725035,
          167720201.79557624,
          197480927.876724,
          192018422.4551365,
          185997904.3734951,
          180934126.50613543,
          194260131.2064025,
          190414739.17913723
         ]
        },
        {
         "fill": "tonexty",
         "fillcolor": "rgba(0, 114, 178, 0.2)",
         "line": {
          "color": "#0072B2",
          "width": 2
         },
         "mode": "lines",
         "name": "Predicted",
         "type": "scatter",
         "x": [
          "1991-03-31T00:00:00",
          "1991-06-30T00:00:00",
          "1991-09-30T00:00:00",
          "1991-12-31T00:00:00",
          "1992-03-31T00:00:00",
          "1992-06-30T00:00:00",
          "1992-09-30T00:00:00",
          "1992-12-31T00:00:00",
          "1993-03-31T00:00:00",
          "1993-06-30T00:00:00",
          "1993-09-30T00:00:00",
          "1993-12-31T00:00:00",
          "1994-03-31T00:00:00",
          "1994-06-30T00:00:00",
          "1994-09-30T00:00:00",
          "1994-12-31T00:00:00",
          "1995-03-31T00:00:00",
          "1995-06-30T00:00:00",
          "1995-09-30T00:00:00",
          "1995-12-31T00:00:00",
          "1996-03-31T00:00:00",
          "1996-06-30T00:00:00",
          "1996-09-30T00:00:00",
          "1996-12-31T00:00:00",
          "1997-03-31T00:00:00",
          "1997-06-30T00:00:00",
          "1997-09-30T00:00:00",
          "1997-12-31T00:00:00",
          "1998-03-31T00:00:00",
          "1998-06-30T00:00:00",
          "1998-09-30T00:00:00",
          "1998-12-31T00:00:00",
          "1999-03-31T00:00:00",
          "1999-06-30T00:00:00",
          "1999-09-30T00:00:00",
          "1999-12-31T00:00:00",
          "2000-03-31T00:00:00",
          "2000-06-30T00:00:00",
          "2000-09-30T00:00:00",
          "2000-12-31T00:00:00",
          "2001-03-31T00:00:00",
          "2001-06-30T00:00:00",
          "2001-09-30T00:00:00",
          "2001-12-31T00:00:00",
          "2002-03-31T00:00:00",
          "2002-06-30T00:00:00",
          "2002-09-30T00:00:00",
          "2002-12-31T00:00:00",
          "2003-03-31T00:00:00",
          "2003-06-30T00:00:00",
          "2003-09-30T00:00:00",
          "2003-12-31T00:00:00",
          "2004-03-31T00:00:00",
          "2004-06-30T00:00:00",
          "2004-09-30T00:00:00",
          "2004-12-31T00:00:00",
          "2005-03-31T00:00:00",
          "2005-06-30T00:00:00",
          "2005-09-30T00:00:00",
          "2005-12-31T00:00:00",
          "2006-03-31T00:00:00",
          "2006-06-30T00:00:00",
          "2006-09-30T00:00:00",
          "2006-12-31T00:00:00",
          "2007-03-31T00:00:00",
          "2007-06-30T00:00:00",
          "2007-09-30T00:00:00",
          "2007-12-31T00:00:00",
          "2008-03-31T00:00:00",
          "2008-06-30T00:00:00",
          "2008-09-30T00:00:00",
          "2008-12-31T00:00:00",
          "2009-03-31T00:00:00",
          "2009-06-30T00:00:00",
          "2009-09-30T00:00:00",
          "2009-12-31T00:00:00",
          "2010-03-31T00:00:00",
          "2010-06-30T00:00:00",
          "2010-09-30T00:00:00",
          "2010-12-31T00:00:00",
          "2011-03-31T00:00:00",
          "2011-06-30T00:00:00",
          "2011-09-30T00:00:00",
          "2011-12-31T00:00:00",
          "2012-03-31T00:00:00",
          "2012-06-30T00:00:00",
          "2012-09-30T00:00:00",
          "2012-12-31T00:00:00",
          "2013-03-31T00:00:00",
          "2013-06-30T00:00:00",
          "2013-09-30T00:00:00",
          "2013-12-31T00:00:00",
          "2014-03-31T00:00:00",
          "2014-06-30T00:00:00",
          "2014-09-30T00:00:00",
          "2014-12-31T00:00:00",
          "2015-03-31T00:00:00",
          "2015-06-30T00:00:00",
          "2015-09-30T00:00:00",
          "2015-12-31T00:00:00",
          "2016-03-31T00:00:00",
          "2016-06-30T00:00:00",
          "2016-09-30T00:00:00",
          "2016-12-31T00:00:00",
          "2017-03-31T00:00:00",
          "2017-06-30T00:00:00",
          "2017-09-30T00:00:00",
          "2017-12-31T00:00:00",
          "2018-03-31T00:00:00",
          "2018-06-30T00:00:00",
          "2018-09-30T00:00:00",
          "2018-12-31T00:00:00",
          "2019-03-31T00:00:00",
          "2019-06-30T00:00:00",
          "2019-09-30T00:00:00",
          "2019-12-31T00:00:00",
          "2020-03-31T00:00:00",
          "2020-06-30T00:00:00",
          "2020-09-30T00:00:00",
          "2020-12-31T00:00:00",
          "2021-03-31T00:00:00",
          "2021-06-30T00:00:00",
          "2021-09-30T00:00:00",
          "2021-12-31T00:00:00",
          "2022-03-31T00:00:00"
         ],
         "y": [
          57329766.06041978,
          56245027.127718516,
          77919272.19726387,
          65298471.581599265,
          93403970.04354036,
          86958542.17685592,
          67376871.29629323,
          95337550.17665556,
          89055897.26527771,
          84328188.09882222,
          78567995.3351211,
          93073257.06020379,
          84703830.2347681,
          81763204.93325232,
          89755460.89854178,
          90733100.20769405,
          80350128.6307744,
          79265389.40995964,
          100939634.18817022,
          88318833.28119314,
          116424331.36808804,
          109978903.17204377,
          90397231.95845003,
          118357910.50580613,
          112076257.20830634,
          107348547.69311213,
          101588354.5768427,
          116093615.94937555,
          107724188.96447596,
          104783563.50164443,
          112775819.3039815,
          113753458.68219717,
          103370487.24562366,
          102285748.16674325,
          123959993.08842404,
          111339192.37174645,
          139444690.733861,
          132999262.81290036,
          113417591.87737092,
          145938537.55055475,
          144118015.1973839,
          143901004.74793148,
          142701078.8190383,
          165009274.16675636,
          164273152.09799677,
          169050646.05040953,
          184845835.76700518,
          193966066.89916283,
          191548674.3521628,
          198518020.59509152,
          228334857.41694772,
          223856648.553551,
          260016232.3356247,
          261624889.8347607,
          234784489.20660108,
          255486438.33942953,
          242103854.15316117,
          230196314.51709837,
          208954453.70042264,
          207978047.37242898,
          184463510.62102383,
          166209496.39433298,
          158720084.44763532,
          144216055.84475783,
          118687974.42671743,
          102289846.36646658,
          115664704.09928748,
          94744516.14688098,
          114640838.00400586,
          109664927.23858978,
          91568921.99874027,
          121015266.51984839,
          116186982.17013001,
          113452581.80691543,
          109707602.33879025,
          126228077.35957035,
          119830054.97110094,
          118882738.49399641,
          128890207.77636413,
          131883060.40256585,
          123471493.23028971,
          124355716.69204105,
          148020561.10535225,
          137390359.83340546,
          167464820.6897143,
          162444520.471513,
          144303637.9826748,
          173705105.25491276,
          168794669.4042285,
          165453413.08514354,
          161094908.91449192,
          177001859.2327196,
          169998254.8746725,
          168438627.8456726,
          177827057.888844,
          180200871.27582332,
          170361066.8287845,
          169825529.928377,
          192055012.21739453,
          179989448.82100782,
          208644149.31518486,
          202747923.5263455,
          183721489.91128182,
          212237406.0570593,
          206498920.0357486,
          202320412.98877576,
          197115457.53264692,
          212175956.5652686,
          204349696.79712588,
          201958273.74233183,
          210505767.1438609,
          212038643.88936347,
          202198839.4424991,
          201663302.542027,
          223892784.8309084,
          211827221.43466127,
          240481921.92879784,
          234585696.13999826,
          215559262.52479574,
          244075178.6706022,
          238336692.64946318,
          234158185.60231775,
          228953230.14621156,
          244013729.1789225,
          236187469.41073897
         ]
        },
        {
         "fill": "tonexty",
         "fillcolor": "rgba(0, 114, 178, 0.2)",
         "hoverinfo": "skip",
         "line": {
          "width": 0
         },
         "mode": "lines",
         "type": "scatter",
         "x": [
          "1991-03-31T00:00:00",
          "1991-06-30T00:00:00",
          "1991-09-30T00:00:00",
          "1991-12-31T00:00:00",
          "1992-03-31T00:00:00",
          "1992-06-30T00:00:00",
          "1992-09-30T00:00:00",
          "1992-12-31T00:00:00",
          "1993-03-31T00:00:00",
          "1993-06-30T00:00:00",
          "1993-09-30T00:00:00",
          "1993-12-31T00:00:00",
          "1994-03-31T00:00:00",
          "1994-06-30T00:00:00",
          "1994-09-30T00:00:00",
          "1994-12-31T00:00:00",
          "1995-03-31T00:00:00",
          "1995-06-30T00:00:00",
          "1995-09-30T00:00:00",
          "1995-12-31T00:00:00",
          "1996-03-31T00:00:00",
          "1996-06-30T00:00:00",
          "1996-09-30T00:00:00",
          "1996-12-31T00:00:00",
          "1997-03-31T00:00:00",
          "1997-06-30T00:00:00",
          "1997-09-30T00:00:00",
          "1997-12-31T00:00:00",
          "1998-03-31T00:00:00",
          "1998-06-30T00:00:00",
          "1998-09-30T00:00:00",
          "1998-12-31T00:00:00",
          "1999-03-31T00:00:00",
          "1999-06-30T00:00:00",
          "1999-09-30T00:00:00",
          "1999-12-31T00:00:00",
          "2000-03-31T00:00:00",
          "2000-06-30T00:00:00",
          "2000-09-30T00:00:00",
          "2000-12-31T00:00:00",
          "2001-03-31T00:00:00",
          "2001-06-30T00:00:00",
          "2001-09-30T00:00:00",
          "2001-12-31T00:00:00",
          "2002-03-31T00:00:00",
          "2002-06-30T00:00:00",
          "2002-09-30T00:00:00",
          "2002-12-31T00:00:00",
          "2003-03-31T00:00:00",
          "2003-06-30T00:00:00",
          "2003-09-30T00:00:00",
          "2003-12-31T00:00:00",
          "2004-03-31T00:00:00",
          "2004-06-30T00:00:00",
          "2004-09-30T00:00:00",
          "2004-12-31T00:00:00",
          "2005-03-31T00:00:00",
          "2005-06-30T00:00:00",
          "2005-09-30T00:00:00",
          "2005-12-31T00:00:00",
          "2006-03-31T00:00:00",
          "2006-06-30T00:00:00",
          "2006-09-30T00:00:00",
          "2006-12-31T00:00:00",
          "2007-03-31T00:00:00",
          "2007-06-30T00:00:00",
          "2007-09-30T00:00:00",
          "2007-12-31T00:00:00",
          "2008-03-31T00:00:00",
          "2008-06-30T00:00:00",
          "2008-09-30T00:00:00",
          "2008-12-31T00:00:00",
          "2009-03-31T00:00:00",
          "2009-06-30T00:00:00",
          "2009-09-30T00:00:00",
          "2009-12-31T00:00:00",
          "2010-03-31T00:00:00",
          "2010-06-30T00:00:00",
          "2010-09-30T00:00:00",
          "2010-12-31T00:00:00",
          "2011-03-31T00:00:00",
          "2011-06-30T00:00:00",
          "2011-09-30T00:00:00",
          "2011-12-31T00:00:00",
          "2012-03-31T00:00:00",
          "2012-06-30T00:00:00",
          "2012-09-30T00:00:00",
          "2012-12-31T00:00:00",
          "2013-03-31T00:00:00",
          "2013-06-30T00:00:00",
          "2013-09-30T00:00:00",
          "2013-12-31T00:00:00",
          "2014-03-31T00:00:00",
          "2014-06-30T00:00:00",
          "2014-09-30T00:00:00",
          "2014-12-31T00:00:00",
          "2015-03-31T00:00:00",
          "2015-06-30T00:00:00",
          "2015-09-30T00:00:00",
          "2015-12-31T00:00:00",
          "2016-03-31T00:00:00",
          "2016-06-30T00:00:00",
          "2016-09-30T00:00:00",
          "2016-12-31T00:00:00",
          "2017-03-31T00:00:00",
          "2017-06-30T00:00:00",
          "2017-09-30T00:00:00",
          "2017-12-31T00:00:00",
          "2018-03-31T00:00:00",
          "2018-06-30T00:00:00",
          "2018-09-30T00:00:00",
          "2018-12-31T00:00:00",
          "2019-03-31T00:00:00",
          "2019-06-30T00:00:00",
          "2019-09-30T00:00:00",
          "2019-12-31T00:00:00",
          "2020-03-31T00:00:00",
          "2020-06-30T00:00:00",
          "2020-09-30T00:00:00",
          "2020-12-31T00:00:00",
          "2021-03-31T00:00:00",
          "2021-06-30T00:00:00",
          "2021-09-30T00:00:00",
          "2021-12-31T00:00:00",
          "2022-03-31T00:00:00"
         ],
         "y": [
          107071602.45681944,
          105381111.99174497,
          122430097.64911212,
          114550664.85733153,
          143524280.85581407,
          137408693.12514147,
          114419541.80152234,
          143396820.52425015,
          135755148.49951684,
          134451677.82026777,
          130751680.22749111,
          140881194.37917817,
          132956831.15534106,
          132931373.33858429,
          141685025.90833694,
          142324197.59941736,
          127623657.64302765,
          126179984.84732519,
          149029027.431769,
          135939786.54272735,
          166279024.535376,
          157025910.6117834,
          138708331.896561,
          168020855.42505047,
          158653533.9880646,
          153895749.39682212,
          152167186.23569185,
          163815342.4384274,
          155637124.77965295,
          154475529.88287815,
          162381001.45410004,
          161720533.15256166,
          155428561.9508395,
          147054496.27632275,
          173946902.4910255,
          160876279.61580876,
          183668270.67767397,
          179219035.99318412,
          165921635.5649932,
          198071482.2778501,
          192397984.0687266,
          195933541.8732489,
          187441340.88299593,
          212880220.18891907,
          214644264.21489775,
          214855321.2992073,
          232702794.433201,
          242909786.7581819,
          241893640.084149,
          247702946.84482083,
          275020186.1711439,
          272992648.7853461,
          307684626.99080783,
          309677438.2431502,
          281814635.809273,
          307709445.2117404,
          291805894.8091133,
          278159047.7919794,
          256451166.36628178,
          255679058.52403998,
          233505604.70911607,
          211316108.5324976,
          209023310.9655732,
          194502163.46882087,
          167171574.70764259,
          151287867.99834698,
          167246197.67243207,
          143166834.00797963,
          163416503.12451845,
          159353462.89064503,
          137450386.4469238,
          169052135.0819085,
          166017999.46635607,
          159418537.53518283,
          156583844.77074727,
          172097539.6505356,
          170420580.9982433,
          168027820.87617934,
          177236429.69113705,
          180166038.9540847,
          174648666.20914698,
          172506008.35842833,
          196762575.52711374,
          186626259.28984407,
          217648936.8615002,
          211436310.97162965,
          192328634.18951133,
          226267481.0487634,
          213322556.63412097,
          210038363.57661983,
          212725538.54145738,
          223175856.1784139,
          215111864.59793335,
          217771700.2403564,
          227175524.78121877,
          228269810.58415735,
          220918166.37910482,
          216854395.44317174,
          239960339.76344502,
          229395569.06378207,
          254163791.00764674,
          251708742.00064155,
          237381618.41215658,
          258666850.07386073,
          251570286.7061236,
          251032893.2610989,
          250395073.91441157,
          258471049.0742277,
          252853674.29784364,
          252082766.96196526,
          261506703.73754823,
          258040469.82397237,
          252993474.5646498,
          246783720.59164575,
          271842386.6642747,
          259454110.50449362,
          288778956.6440961,
          281009833.87731504,
          264758404.99645126,
          294469309.6915726,
          284280056.74277073,
          282077413.6839901,
          281248434.95845586,
          296734236.322528,
          288823341.137798
         ]
        }
       ],
       "layout": {
        "height": 600,
        "showlegend": false,
        "template": {
         "data": {
          "bar": [
           {
            "error_x": {
             "color": "#2a3f5f"
            },
            "error_y": {
             "color": "#2a3f5f"
            },
            "marker": {
             "line": {
              "color": "#E5ECF6",
              "width": 0.5
             },
             "pattern": {
              "fillmode": "overlay",
              "size": 10,
              "solidity": 0.2
             }
            },
            "type": "bar"
           }
          ],
          "barpolar": [
           {
            "marker": {
             "line": {
              "color": "#E5ECF6",
              "width": 0.5
             },
             "pattern": {
              "fillmode": "overlay",
              "size": 10,
              "solidity": 0.2
             }
            },
            "type": "barpolar"
           }
          ],
          "carpet": [
           {
            "aaxis": {
             "endlinecolor": "#2a3f5f",
             "gridcolor": "white",
             "linecolor": "white",
             "minorgridcolor": "white",
             "startlinecolor": "#2a3f5f"
            },
            "baxis": {
             "endlinecolor": "#2a3f5f",
             "gridcolor": "white",
             "linecolor": "white",
             "minorgridcolor": "white",
             "startlinecolor": "#2a3f5f"
            },
            "type": "carpet"
           }
          ],
          "choropleth": [
           {
            "colorbar": {
             "outlinewidth": 0,
             "ticks": ""
            },
            "type": "choropleth"
           }
          ],
          "contour": [
           {
            "colorbar": {
             "outlinewidth": 0,
             "ticks": ""
            },
            "colorscale": [
             [
              0,
              "#0d0887"
             ],
             [
              0.1111111111111111,
              "#46039f"
             ],
             [
              0.2222222222222222,
              "#7201a8"
             ],
             [
              0.3333333333333333,
              "#9c179e"
             ],
             [
              0.4444444444444444,
              "#bd3786"
             ],
             [
              0.5555555555555556,
              "#d8576b"
             ],
             [
              0.6666666666666666,
              "#ed7953"
             ],
             [
              0.7777777777777778,
              "#fb9f3a"
             ],
             [
              0.8888888888888888,
              "#fdca26"
             ],
             [
              1,
              "#f0f921"
             ]
            ],
            "type": "contour"
           }
          ],
          "contourcarpet": [
           {
            "colorbar": {
             "outlinewidth": 0,
             "ticks": ""
            },
            "type": "contourcarpet"
           }
          ],
          "heatmap": [
           {
            "colorbar": {
             "outlinewidth": 0,
             "ticks": ""
            },
            "colorscale": [
             [
              0,
              "#0d0887"
             ],
             [
              0.1111111111111111,
              "#46039f"
             ],
             [
              0.2222222222222222,
              "#7201a8"
             ],
             [
              0.3333333333333333,
              "#9c179e"
             ],
             [
              0.4444444444444444,
              "#bd3786"
             ],
             [
              0.5555555555555556,
              "#d8576b"
             ],
             [
              0.6666666666666666,
              "#ed7953"
             ],
             [
              0.7777777777777778,
              "#fb9f3a"
             ],
             [
              0.8888888888888888,
              "#fdca26"
             ],
             [
              1,
              "#f0f921"
             ]
            ],
            "type": "heatmap"
           }
          ],
          "heatmapgl": [
           {
            "colorbar": {
             "outlinewidth": 0,
             "ticks": ""
            },
            "colorscale": [
             [
              0,
              "#0d0887"
             ],
             [
              0.1111111111111111,
              "#46039f"
             ],
             [
              0.2222222222222222,
              "#7201a8"
             ],
             [
              0.3333333333333333,
              "#9c179e"
             ],
             [
              0.4444444444444444,
              "#bd3786"
             ],
             [
              0.5555555555555556,
              "#d8576b"
             ],
             [
              0.6666666666666666,
              "#ed7953"
             ],
             [
              0.7777777777777778,
              "#fb9f3a"
             ],
             [
              0.8888888888888888,
              "#fdca26"
             ],
             [
              1,
              "#f0f921"
             ]
            ],
            "type": "heatmapgl"
           }
          ],
          "histogram": [
           {
            "marker": {
             "pattern": {
              "fillmode": "overlay",
              "size": 10,
              "solidity": 0.2
             }
            },
            "type": "histogram"
           }
          ],
          "histogram2d": [
           {
            "colorbar": {
             "outlinewidth": 0,
             "ticks": ""
            },
            "colorscale": [
             [
              0,
              "#0d0887"
             ],
             [
              0.1111111111111111,
              "#46039f"
             ],
             [
              0.2222222222222222,
              "#7201a8"
             ],
             [
              0.3333333333333333,
              "#9c179e"
             ],
             [
              0.4444444444444444,
              "#bd3786"
             ],
             [
              0.5555555555555556,
              "#d8576b"
             ],
             [
              0.6666666666666666,
              "#ed7953"
             ],
             [
              0.7777777777777778,
              "#fb9f3a"
             ],
             [
              0.8888888888888888,
              "#fdca26"
             ],
             [
              1,
              "#f0f921"
             ]
            ],
            "type": "histogram2d"
           }
          ],
          "histogram2dcontour": [
           {
            "colorbar": {
             "outlinewidth": 0,
             "ticks": ""
            },
            "colorscale": [
             [
              0,
              "#0d0887"
             ],
             [
              0.1111111111111111,
              "#46039f"
             ],
             [
              0.2222222222222222,
              "#7201a8"
             ],
             [
              0.3333333333333333,
              "#9c179e"
             ],
             [
              0.4444444444444444,
              "#bd3786"
             ],
             [
              0.5555555555555556,
              "#d8576b"
             ],
             [
              0.6666666666666666,
              "#ed7953"
             ],
             [
              0.7777777777777778,
              "#fb9f3a"
             ],
             [
              0.8888888888888888,
              "#fdca26"
             ],
             [
              1,
              "#f0f921"
             ]
            ],
            "type": "histogram2dcontour"
           }
          ],
          "mesh3d": [
           {
            "colorbar": {
             "outlinewidth": 0,
             "ticks": ""
            },
            "type": "mesh3d"
           }
          ],
          "parcoords": [
           {
            "line": {
             "colorbar": {
              "outlinewidth": 0,
              "ticks": ""
             }
            },
            "type": "parcoords"
           }
          ],
          "pie": [
           {
            "automargin": true,
            "type": "pie"
           }
          ],
          "scatter": [
           {
            "fillpattern": {
             "fillmode": "overlay",
             "size": 10,
             "solidity": 0.2
            },
            "type": "scatter"
           }
          ],
          "scatter3d": [
           {
            "line": {
             "colorbar": {
              "outlinewidth": 0,
              "ticks": ""
             }
            },
            "marker": {
             "colorbar": {
              "outlinewidth": 0,
              "ticks": ""
             }
            },
            "type": "scatter3d"
           }
          ],
          "scattercarpet": [
           {
            "marker": {
             "colorbar": {
              "outlinewidth": 0,
              "ticks": ""
             }
            },
            "type": "scattercarpet"
           }
          ],
          "scattergeo": [
           {
            "marker": {
             "colorbar": {
              "outlinewidth": 0,
              "ticks": ""
             }
            },
            "type": "scattergeo"
           }
          ],
          "scattergl": [
           {
            "marker": {
             "colorbar": {
              "outlinewidth": 0,
              "ticks": ""
             }
            },
            "type": "scattergl"
           }
          ],
          "scattermapbox": [
           {
            "marker": {
             "colorbar": {
              "outlinewidth": 0,
              "ticks": ""
             }
            },
            "type": "scattermapbox"
           }
          ],
          "scatterpolar": [
           {
            "marker": {
             "colorbar": {
              "outlinewidth": 0,
              "ticks": ""
             }
            },
            "type": "scatterpolar"
           }
          ],
          "scatterpolargl": [
           {
            "marker": {
             "colorbar": {
              "outlinewidth": 0,
              "ticks": ""
             }
            },
            "type": "scatterpolargl"
           }
          ],
          "scatterternary": [
           {
            "marker": {
             "colorbar": {
              "outlinewidth": 0,
              "ticks": ""
             }
            },
            "type": "scatterternary"
           }
          ],
          "surface": [
           {
            "colorbar": {
             "outlinewidth": 0,
             "ticks": ""
            },
            "colorscale": [
             [
              0,
              "#0d0887"
             ],
             [
              0.1111111111111111,
              "#46039f"
             ],
             [
              0.2222222222222222,
              "#7201a8"
             ],
             [
              0.3333333333333333,
              "#9c179e"
             ],
             [
              0.4444444444444444,
              "#bd3786"
             ],
             [
              0.5555555555555556,
              "#d8576b"
             ],
             [
              0.6666666666666666,
              "#ed7953"
             ],
             [
              0.7777777777777778,
              "#fb9f3a"
             ],
             [
              0.8888888888888888,
              "#fdca26"
             ],
             [
              1,
              "#f0f921"
             ]
            ],
            "type": "surface"
           }
          ],
          "table": [
           {
            "cells": {
             "fill": {
              "color": "#EBF0F8"
             },
             "line": {
              "color": "white"
             }
            },
            "header": {
             "fill": {
              "color": "#C8D4E3"
             },
             "line": {
              "color": "white"
             }
            },
            "type": "table"
           }
          ]
         },
         "layout": {
          "annotationdefaults": {
           "arrowcolor": "#2a3f5f",
           "arrowhead": 0,
           "arrowwidth": 1
          },
          "autotypenumbers": "strict",
          "coloraxis": {
           "colorbar": {
            "outlinewidth": 0,
            "ticks": ""
           }
          },
          "colorscale": {
           "diverging": [
            [
             0,
             "#8e0152"
            ],
            [
             0.1,
             "#c51b7d"
            ],
            [
             0.2,
             "#de77ae"
            ],
            [
             0.3,
             "#f1b6da"
            ],
            [
             0.4,
             "#fde0ef"
            ],
            [
             0.5,
             "#f7f7f7"
            ],
            [
             0.6,
             "#e6f5d0"
            ],
            [
             0.7,
             "#b8e186"
            ],
            [
             0.8,
             "#7fbc41"
            ],
            [
             0.9,
             "#4d9221"
            ],
            [
             1,
             "#276419"
            ]
           ],
           "sequential": [
            [
             0,
             "#0d0887"
            ],
            [
             0.1111111111111111,
             "#46039f"
            ],
            [
             0.2222222222222222,
             "#7201a8"
            ],
            [
             0.3333333333333333,
             "#9c179e"
            ],
            [
             0.4444444444444444,
             "#bd3786"
            ],
            [
             0.5555555555555556,
             "#d8576b"
            ],
            [
             0.6666666666666666,
             "#ed7953"
            ],
            [
             0.7777777777777778,
             "#fb9f3a"
            ],
            [
             0.8888888888888888,
             "#fdca26"
            ],
            [
             1,
             "#f0f921"
            ]
           ],
           "sequentialminus": [
            [
             0,
             "#0d0887"
            ],
            [
             0.1111111111111111,
             "#46039f"
            ],
            [
             0.2222222222222222,
             "#7201a8"
            ],
            [
             0.3333333333333333,
             "#9c179e"
            ],
            [
             0.4444444444444444,
             "#bd3786"
            ],
            [
             0.5555555555555556,
             "#d8576b"
            ],
            [
             0.6666666666666666,
             "#ed7953"
            ],
            [
             0.7777777777777778,
             "#fb9f3a"
            ],
            [
             0.8888888888888888,
             "#fdca26"
            ],
            [
             1,
             "#f0f921"
            ]
           ]
          },
          "colorway": [
           "#636efa",
           "#EF553B",
           "#00cc96",
           "#ab63fa",
           "#FFA15A",
           "#19d3f3",
           "#FF6692",
           "#B6E880",
           "#FF97FF",
           "#FECB52"
          ],
          "font": {
           "color": "#2a3f5f"
          },
          "geo": {
           "bgcolor": "white",
           "lakecolor": "white",
           "landcolor": "#E5ECF6",
           "showlakes": true,
           "showland": true,
           "subunitcolor": "white"
          },
          "hoverlabel": {
           "align": "left"
          },
          "hovermode": "closest",
          "mapbox": {
           "style": "light"
          },
          "paper_bgcolor": "white",
          "plot_bgcolor": "#E5ECF6",
          "polar": {
           "angularaxis": {
            "gridcolor": "white",
            "linecolor": "white",
            "ticks": ""
           },
           "bgcolor": "#E5ECF6",
           "radialaxis": {
            "gridcolor": "white",
            "linecolor": "white",
            "ticks": ""
           }
          },
          "scene": {
           "xaxis": {
            "backgroundcolor": "#E5ECF6",
            "gridcolor": "white",
            "gridwidth": 2,
            "linecolor": "white",
            "showbackground": true,
            "ticks": "",
            "zerolinecolor": "white"
           },
           "yaxis": {
            "backgroundcolor": "#E5ECF6",
            "gridcolor": "white",
            "gridwidth": 2,
            "linecolor": "white",
            "showbackground": true,
            "ticks": "",
            "zerolinecolor": "white"
           },
           "zaxis": {
            "backgroundcolor": "#E5ECF6",
            "gridcolor": "white",
            "gridwidth": 2,
            "linecolor": "white",
            "showbackground": true,
            "ticks": "",
            "zerolinecolor": "white"
           }
          },
          "shapedefaults": {
           "line": {
            "color": "#2a3f5f"
           }
          },
          "ternary": {
           "aaxis": {
            "gridcolor": "white",
            "linecolor": "white",
            "ticks": ""
           },
           "baxis": {
            "gridcolor": "white",
            "linecolor": "white",
            "ticks": ""
           },
           "bgcolor": "#E5ECF6",
           "caxis": {
            "gridcolor": "white",
            "linecolor": "white",
            "ticks": ""
           }
          },
          "title": {
           "x": 0.05
          },
          "xaxis": {
           "automargin": true,
           "gridcolor": "white",
           "linecolor": "white",
           "ticks": "",
           "title": {
            "standoff": 15
           },
           "zerolinecolor": "white",
           "zerolinewidth": 2
          },
          "yaxis": {
           "automargin": true,
           "gridcolor": "white",
           "linecolor": "white",
           "ticks": "",
           "title": {
            "standoff": 15
           },
           "zerolinecolor": "white",
           "zerolinewidth": 2
          }
         }
        },
        "width": 900,
        "xaxis": {
         "rangeselector": {
          "buttons": [
           {
            "count": 7,
            "label": "1w",
            "step": "day",
            "stepmode": "backward"
           },
           {
            "count": 1,
            "label": "1m",
            "step": "month",
            "stepmode": "backward"
           },
           {
            "count": 6,
            "label": "6m",
            "step": "month",
            "stepmode": "backward"
           },
           {
            "count": 1,
            "label": "1y",
            "step": "year",
            "stepmode": "backward"
           },
           {
            "step": "all"
           }
          ]
         },
         "rangeslider": {
          "visible": true
         },
         "title": {
          "text": "ds"
         },
         "type": "date"
        },
        "yaxis": {
         "title": {
          "text": "y"
         }
        }
       }
      }
     },
     "metadata": {},
     "output_type": "display_data"
    },
    {
     "name": "stderr",
     "output_type": "stream",
     "text": [
      "15:49:16 - cmdstanpy - INFO - Chain [1] start processing\n",
      "15:49:16 - cmdstanpy - INFO - Chain [1] done processing\n"
     ]
    },
    {
     "name": "stdout",
     "output_type": "stream",
     "text": [
      "The train SMAPE is 6.9% and the test SMAPE is 1.64%.\n"
     ]
    },
    {
     "data": {
      "application/vnd.plotly.v1+json": {
       "config": {
        "plotlyServerURL": "https://plot.ly"
       },
       "data": [
        {
         "marker": {
          "color": "black",
          "size": 4
         },
         "mode": "markers",
         "name": "Actual",
         "type": "scatter",
         "x": [
          "1991-03-31T00:00:00",
          "1991-06-30T00:00:00",
          "1991-09-30T00:00:00",
          "1991-12-31T00:00:00",
          "1992-03-31T00:00:00",
          "1992-06-30T00:00:00",
          "1992-09-30T00:00:00",
          "1992-12-31T00:00:00",
          "1993-03-31T00:00:00",
          "1993-06-30T00:00:00",
          "1993-09-30T00:00:00",
          "1993-12-31T00:00:00",
          "1994-03-31T00:00:00",
          "1994-06-30T00:00:00",
          "1994-09-30T00:00:00",
          "1994-12-31T00:00:00",
          "1995-03-31T00:00:00",
          "1995-06-30T00:00:00",
          "1995-09-30T00:00:00",
          "1995-12-31T00:00:00",
          "1996-03-31T00:00:00",
          "1996-06-30T00:00:00",
          "1996-09-30T00:00:00",
          "1996-12-31T00:00:00",
          "1997-03-31T00:00:00",
          "1997-06-30T00:00:00",
          "1997-09-30T00:00:00",
          "1997-12-31T00:00:00",
          "1998-03-31T00:00:00",
          "1998-06-30T00:00:00",
          "1998-09-30T00:00:00",
          "1998-12-31T00:00:00",
          "1999-03-31T00:00:00",
          "1999-06-30T00:00:00",
          "1999-09-30T00:00:00",
          "1999-12-31T00:00:00",
          "2000-03-31T00:00:00",
          "2000-06-30T00:00:00",
          "2000-09-30T00:00:00",
          "2000-12-31T00:00:00",
          "2001-03-31T00:00:00",
          "2001-06-30T00:00:00",
          "2001-09-30T00:00:00",
          "2001-12-31T00:00:00",
          "2002-03-31T00:00:00",
          "2002-06-30T00:00:00",
          "2002-09-30T00:00:00",
          "2002-12-31T00:00:00",
          "2003-03-31T00:00:00",
          "2003-06-30T00:00:00",
          "2003-09-30T00:00:00",
          "2003-12-31T00:00:00",
          "2004-03-31T00:00:00",
          "2004-06-30T00:00:00",
          "2004-09-30T00:00:00",
          "2004-12-31T00:00:00",
          "2005-03-31T00:00:00",
          "2005-06-30T00:00:00",
          "2005-09-30T00:00:00",
          "2005-12-31T00:00:00",
          "2006-03-31T00:00:00",
          "2006-06-30T00:00:00",
          "2006-09-30T00:00:00",
          "2006-12-31T00:00:00",
          "2007-03-31T00:00:00",
          "2007-06-30T00:00:00",
          "2007-09-30T00:00:00",
          "2007-12-31T00:00:00",
          "2008-03-31T00:00:00",
          "2008-06-30T00:00:00",
          "2008-09-30T00:00:00",
          "2008-12-31T00:00:00",
          "2009-03-31T00:00:00",
          "2009-06-30T00:00:00",
          "2009-09-30T00:00:00",
          "2009-12-31T00:00:00",
          "2010-03-31T00:00:00",
          "2010-06-30T00:00:00",
          "2010-09-30T00:00:00",
          "2010-12-31T00:00:00",
          "2011-03-31T00:00:00",
          "2011-06-30T00:00:00",
          "2011-09-30T00:00:00",
          "2011-12-31T00:00:00",
          "2012-03-31T00:00:00",
          "2012-06-30T00:00:00",
          "2012-09-30T00:00:00",
          "2012-12-31T00:00:00",
          "2013-03-31T00:00:00",
          "2013-06-30T00:00:00",
          "2013-09-30T00:00:00",
          "2013-12-31T00:00:00",
          "2014-03-31T00:00:00",
          "2014-06-30T00:00:00",
          "2014-09-30T00:00:00",
          "2014-12-31T00:00:00",
          "2015-03-31T00:00:00",
          "2015-06-30T00:00:00",
          "2015-09-30T00:00:00",
          "2015-12-31T00:00:00",
          "2016-03-31T00:00:00",
          "2016-06-30T00:00:00",
          "2016-09-30T00:00:00",
          "2016-12-31T00:00:00",
          "2017-03-31T00:00:00",
          "2017-06-30T00:00:00",
          "2017-09-30T00:00:00",
          "2017-12-31T00:00:00",
          "2018-03-31T00:00:00",
          "2018-06-30T00:00:00",
          "2018-09-30T00:00:00",
          "2018-12-31T00:00:00",
          "2019-03-31T00:00:00",
          "2019-06-30T00:00:00",
          "2019-09-30T00:00:00",
          "2019-12-31T00:00:00",
          "2020-03-31T00:00:00",
          "2020-06-30T00:00:00",
          "2020-09-30T00:00:00",
          "2020-12-31T00:00:00"
         ],
         "y": [
          40671417,
          59259062,
          67561929,
          74483016,
          82768107,
          76771911,
          75205718,
          85725818,
          94592593,
          87546897,
          90365485,
          91288201,
          95649251,
          86903138,
          80710031,
          85192833,
          81344496,
          85066309,
          118656269,
          118152327,
          118816430,
          109746553,
          108255354,
          110302647,
          108181714,
          104082407,
          101640278,
          102831754,
          115457635,
          114954963,
          110259724,
          117411919,
          119835397,
          114116641,
          109411018,
          120105562,
          115363517,
          115727207,
          120901051,
          143998778,
          136492477,
          133969846,
          130596243,
          134979726,
          134649367,
          136972367,
          140154979,
          145132430,
          145947666,
          148746142,
          366169219,
          178883335,
          226525799,
          363528419,
          274567736,
          333309563,
          484657321,
          241299355,
          167051950,
          338157239,
          96295892,
          91247082,
          80679087,
          87858219,
          92162500,
          87877891,
          86073000,
          84760915,
          91278368,
          96881224,
          86097352,
          93254818,
          94038855,
          110317402,
          97233671,
          100859933,
          110403567,
          145645056,
          152231412,
          163880199,
          167571475,
          166390382,
          144530171,
          162274733,
          165021240,
          164255682,
          167346136,
          163908723,
          163168995,
          158591581,
          151249924,
          154949611,
          156942717,
          173309001,
          175915786,
          182147561,
          179982587,
          188561670,
          187029956,
          193344331,
          204779756,
          195230026,
          191955696,
          210845769,
          208854028,
          212856351,
          195468627,
          207598039,
          225293382,
          221447889,
          210185491,
          216868482,
          223800327,
          215912716,
          215610424,
          218743695,
          221488850,
          186228229,
          211905808,
          222210513
         ]
        },
        {
         "hoverinfo": "skip",
         "line": {
          "width": 0
         },
         "mode": "lines",
         "type": "scatter",
         "x": [
          "1991-03-31T00:00:00",
          "1991-06-30T00:00:00",
          "1991-09-30T00:00:00",
          "1991-12-31T00:00:00",
          "1992-03-31T00:00:00",
          "1992-06-30T00:00:00",
          "1992-09-30T00:00:00",
          "1992-12-31T00:00:00",
          "1993-03-31T00:00:00",
          "1993-06-30T00:00:00",
          "1993-09-30T00:00:00",
          "1993-12-31T00:00:00",
          "1994-03-31T00:00:00",
          "1994-06-30T00:00:00",
          "1994-09-30T00:00:00",
          "1994-12-31T00:00:00",
          "1995-03-31T00:00:00",
          "1995-06-30T00:00:00",
          "1995-09-30T00:00:00",
          "1995-12-31T00:00:00",
          "1996-03-31T00:00:00",
          "1996-06-30T00:00:00",
          "1996-09-30T00:00:00",
          "1996-12-31T00:00:00",
          "1997-03-31T00:00:00",
          "1997-06-30T00:00:00",
          "1997-09-30T00:00:00",
          "1997-12-31T00:00:00",
          "1998-03-31T00:00:00",
          "1998-06-30T00:00:00",
          "1998-09-30T00:00:00",
          "1998-12-31T00:00:00",
          "1999-03-31T00:00:00",
          "1999-06-30T00:00:00",
          "1999-09-30T00:00:00",
          "1999-12-31T00:00:00",
          "2000-03-31T00:00:00",
          "2000-06-30T00:00:00",
          "2000-09-30T00:00:00",
          "2000-12-31T00:00:00",
          "2001-03-31T00:00:00",
          "2001-06-30T00:00:00",
          "2001-09-30T00:00:00",
          "2001-12-31T00:00:00",
          "2002-03-31T00:00:00",
          "2002-06-30T00:00:00",
          "2002-09-30T00:00:00",
          "2002-12-31T00:00:00",
          "2003-03-31T00:00:00",
          "2003-06-30T00:00:00",
          "2003-09-30T00:00:00",
          "2003-12-31T00:00:00",
          "2004-03-31T00:00:00",
          "2004-06-30T00:00:00",
          "2004-09-30T00:00:00",
          "2004-12-31T00:00:00",
          "2005-03-31T00:00:00",
          "2005-06-30T00:00:00",
          "2005-09-30T00:00:00",
          "2005-12-31T00:00:00",
          "2006-03-31T00:00:00",
          "2006-06-30T00:00:00",
          "2006-09-30T00:00:00",
          "2006-12-31T00:00:00",
          "2007-03-31T00:00:00",
          "2007-06-30T00:00:00",
          "2007-09-30T00:00:00",
          "2007-12-31T00:00:00",
          "2008-03-31T00:00:00",
          "2008-06-30T00:00:00",
          "2008-09-30T00:00:00",
          "2008-12-31T00:00:00",
          "2009-03-31T00:00:00",
          "2009-06-30T00:00:00",
          "2009-09-30T00:00:00",
          "2009-12-31T00:00:00",
          "2010-03-31T00:00:00",
          "2010-06-30T00:00:00",
          "2010-09-30T00:00:00",
          "2010-12-31T00:00:00",
          "2011-03-31T00:00:00",
          "2011-06-30T00:00:00",
          "2011-09-30T00:00:00",
          "2011-12-31T00:00:00",
          "2012-03-31T00:00:00",
          "2012-06-30T00:00:00",
          "2012-09-30T00:00:00",
          "2012-12-31T00:00:00",
          "2013-03-31T00:00:00",
          "2013-06-30T00:00:00",
          "2013-09-30T00:00:00",
          "2013-12-31T00:00:00",
          "2014-03-31T00:00:00",
          "2014-06-30T00:00:00",
          "2014-09-30T00:00:00",
          "2014-12-31T00:00:00",
          "2015-03-31T00:00:00",
          "2015-06-30T00:00:00",
          "2015-09-30T00:00:00",
          "2015-12-31T00:00:00",
          "2016-03-31T00:00:00",
          "2016-06-30T00:00:00",
          "2016-09-30T00:00:00",
          "2016-12-31T00:00:00",
          "2017-03-31T00:00:00",
          "2017-06-30T00:00:00",
          "2017-09-30T00:00:00",
          "2017-12-31T00:00:00",
          "2018-03-31T00:00:00",
          "2018-06-30T00:00:00",
          "2018-09-30T00:00:00",
          "2018-12-31T00:00:00",
          "2019-03-31T00:00:00",
          "2019-06-30T00:00:00",
          "2019-09-30T00:00:00",
          "2019-12-31T00:00:00",
          "2020-03-31T00:00:00",
          "2020-06-30T00:00:00",
          "2020-09-30T00:00:00",
          "2020-12-31T00:00:00",
          "2021-03-31T00:00:00",
          "2021-06-30T00:00:00",
          "2021-09-30T00:00:00",
          "2021-12-31T00:00:00",
          "2022-03-31T00:00:00"
         ],
         "y": [
          14542126.34882556,
          21025804.090020947,
          36927102.348651916,
          27005026.012246218,
          42060760.57535139,
          39863409.6164551,
          27150994.752112247,
          57215670.04015629,
          53333910.93803509,
          46937831.211066626,
          41639101.031628616,
          57972182.64928571,
          55471052.53172741,
          53249941.59990304,
          58872131.5677402,
          58213279.588242345,
          55377857.093204945,
          58416616.71026108,
          74301943.10401869,
          59632913.12852617,
          73683848.42633155,
          64344402.28283565,
          52838096.83828963,
          81415423.89966542,
          75241936.30273794,
          69579848.57412586,
          66867349.715957046,
          78864178.18149592,
          73892037.31204203,
          69931041.08284181,
          79716245.48143138,
          79024853.76191409,
          74746013.2431414,
          71420725.43704686,
          93571599.93527988,
          78368701.16815226,
          94475990.5352056,
          87688881.43172894,
          68114449.65058059,
          100400533.17056529,
          89887286.75366344,
          89684388.44679469,
          87514844.20127693,
          102954021.2272825,
          99465012.78070861,
          96768034.29660445,
          101924706.27509303,
          118949420.52396795,
          134670931.8531861,
          152571121.05097657,
          196964801.7514539,
          215808729.80245024,
          257394170.0461726,
          278204024.5487103,
          261715255.57119596,
          291840112.9367045,
          281162573.76783174,
          275483701.2931326,
          218855922.52830726,
          180994368.69822636,
          118109476.7819692,
          61834655.725041084,
          64371577.08370859,
          55356242.6138539,
          47235162.78640858,
          40235045.28009942,
          58762365.096069396,
          43348044.88185138,
          61958564.04607256,
          49848138.2593447,
          38838177.2519453,
          67306408.79682904,
          64855495.59907318,
          63862556.53467689,
          65830026.354678586,
          85257745.41979596,
          88071946.595885,
          94828043.23033366,
          106744213.7799563,
          116459580.90597367,
          120384855.44865184,
          118176948.47711286,
          134086593.81446712,
          117931138.59833689,
          133803960.96986024,
          126604283.48504838,
          108621745.53034392,
          139269470.67150936,
          130828231.31906706,
          122170138.2633471,
          118106062.16693227,
          131060322.70692386,
          131813707.25063382,
          133750804.76027592,
          142193905.6233011,
          149318977.33032408,
          144817178.78633076,
          147509827.9885815,
          164252921.54379836,
          149129257.41626054,
          166256691.33438173,
          156580102.196017,
          140837534.7775808,
          172379762.7571183,
          164954438.47244024,
          165039042.38033155,
          158241057.46337858,
          175852435.09750298,
          167837465.8290156,
          170363650.4860645,
          175523826.0693478,
          173631161.81446704,
          173411032.1331319,
          170765660.2705557,
          190910997.98865506,
          176047528.26200357,
          189518550.79347566,
          183583321.24787492,
          170019427.180579,
          198991837.04475498,
          192034311.3691726,
          186467785.70637277,
          181270664.13617554,
          193477008.26123342,
          182143834.87868294
         ]
        },
        {
         "fill": "tonexty",
         "fillcolor": "rgba(0, 114, 178, 0.2)",
         "line": {
          "color": "#0072B2",
          "width": 2
         },
         "mode": "lines",
         "name": "Predicted",
         "type": "scatter",
         "x": [
          "1991-03-31T00:00:00",
          "1991-06-30T00:00:00",
          "1991-09-30T00:00:00",
          "1991-12-31T00:00:00",
          "1992-03-31T00:00:00",
          "1992-06-30T00:00:00",
          "1992-09-30T00:00:00",
          "1992-12-31T00:00:00",
          "1993-03-31T00:00:00",
          "1993-06-30T00:00:00",
          "1993-09-30T00:00:00",
          "1993-12-31T00:00:00",
          "1994-03-31T00:00:00",
          "1994-06-30T00:00:00",
          "1994-09-30T00:00:00",
          "1994-12-31T00:00:00",
          "1995-03-31T00:00:00",
          "1995-06-30T00:00:00",
          "1995-09-30T00:00:00",
          "1995-12-31T00:00:00",
          "1996-03-31T00:00:00",
          "1996-06-30T00:00:00",
          "1996-09-30T00:00:00",
          "1996-12-31T00:00:00",
          "1997-03-31T00:00:00",
          "1997-06-30T00:00:00",
          "1997-09-30T00:00:00",
          "1997-12-31T00:00:00",
          "1998-03-31T00:00:00",
          "1998-06-30T00:00:00",
          "1998-09-30T00:00:00",
          "1998-12-31T00:00:00",
          "1999-03-31T00:00:00",
          "1999-06-30T00:00:00",
          "1999-09-30T00:00:00",
          "1999-12-31T00:00:00",
          "2000-03-31T00:00:00",
          "2000-06-30T00:00:00",
          "2000-09-30T00:00:00",
          "2000-12-31T00:00:00",
          "2001-03-31T00:00:00",
          "2001-06-30T00:00:00",
          "2001-09-30T00:00:00",
          "2001-12-31T00:00:00",
          "2002-03-31T00:00:00",
          "2002-06-30T00:00:00",
          "2002-09-30T00:00:00",
          "2002-12-31T00:00:00",
          "2003-03-31T00:00:00",
          "2003-06-30T00:00:00",
          "2003-09-30T00:00:00",
          "2003-12-31T00:00:00",
          "2004-03-31T00:00:00",
          "2004-06-30T00:00:00",
          "2004-09-30T00:00:00",
          "2004-12-31T00:00:00",
          "2005-03-31T00:00:00",
          "2005-06-30T00:00:00",
          "2005-09-30T00:00:00",
          "2005-12-31T00:00:00",
          "2006-03-31T00:00:00",
          "2006-06-30T00:00:00",
          "2006-09-30T00:00:00",
          "2006-12-31T00:00:00",
          "2007-03-31T00:00:00",
          "2007-06-30T00:00:00",
          "2007-09-30T00:00:00",
          "2007-12-31T00:00:00",
          "2008-03-31T00:00:00",
          "2008-06-30T00:00:00",
          "2008-09-30T00:00:00",
          "2008-12-31T00:00:00",
          "2009-03-31T00:00:00",
          "2009-06-30T00:00:00",
          "2009-09-30T00:00:00",
          "2009-12-31T00:00:00",
          "2010-03-31T00:00:00",
          "2010-06-30T00:00:00",
          "2010-09-30T00:00:00",
          "2010-12-31T00:00:00",
          "2011-03-31T00:00:00",
          "2011-06-30T00:00:00",
          "2011-09-30T00:00:00",
          "2011-12-31T00:00:00",
          "2012-03-31T00:00:00",
          "2012-06-30T00:00:00",
          "2012-09-30T00:00:00",
          "2012-12-31T00:00:00",
          "2013-03-31T00:00:00",
          "2013-06-30T00:00:00",
          "2013-09-30T00:00:00",
          "2013-12-31T00:00:00",
          "2014-03-31T00:00:00",
          "2014-06-30T00:00:00",
          "2014-09-30T00:00:00",
          "2014-12-31T00:00:00",
          "2015-03-31T00:00:00",
          "2015-06-30T00:00:00",
          "2015-09-30T00:00:00",
          "2015-12-31T00:00:00",
          "2016-03-31T00:00:00",
          "2016-06-30T00:00:00",
          "2016-09-30T00:00:00",
          "2016-12-31T00:00:00",
          "2017-03-31T00:00:00",
          "2017-06-30T00:00:00",
          "2017-09-30T00:00:00",
          "2017-12-31T00:00:00",
          "2018-03-31T00:00:00",
          "2018-06-30T00:00:00",
          "2018-09-30T00:00:00",
          "2018-12-31T00:00:00",
          "2019-03-31T00:00:00",
          "2019-06-30T00:00:00",
          "2019-09-30T00:00:00",
          "2019-12-31T00:00:00",
          "2020-03-31T00:00:00",
          "2020-06-30T00:00:00",
          "2020-09-30T00:00:00",
          "2020-12-31T00:00:00",
          "2021-03-31T00:00:00",
          "2021-06-30T00:00:00",
          "2021-09-30T00:00:00",
          "2021-12-31T00:00:00",
          "2022-03-31T00:00:00"
         ],
         "y": [
          54175681.787573665,
          55830171.601531684,
          75303583.71004182,
          63538316.37833156,
          81040904.06318359,
          75886361.27480435,
          62731666.76626155,
          93407217.59843871,
          89708138.72792351,
          84947612.87157106,
          80884487.15826863,
          95599165.8788445,
          91484226.55377851,
          88877475.42465635,
          95573347.28026336,
          96023206.4362613,
          93660674.6670217,
          93646139.93320902,
          111432186.5648702,
          97979553.75629996,
          112887967.51934564,
          105487597.09922302,
          90062395.53439052,
          118467439.31028084,
          112547209.31439123,
          107260215.88306065,
          102664837.23680884,
          116847263.02445662,
          112211644.37451169,
          109078428.59464672,
          115242050.47375435,
          115159660.12730598,
          111882151.24456738,
          110942472.98490041,
          127793209.67830904,
          114109947.79504737,
          129715388.69526735,
          123012045.41227189,
          108291530.62333791,
          137401258.972596,
          132170397.23831274,
          127580431.71584758,
          123689740.62582873,
          138576852.39635882,
          134630592.23059678,
          132194394.47360465,
          139062693.91428992,
          157415176.06175947,
          172171781.57510805,
          189466596.76051056,
          235952372.6343376,
          251199469.06791937,
          295420807.86842895,
          317333362.4857762,
          300597828.9327075,
          327692540.72039914,
          320490467.1323888,
          313907387.40238416,
          254792959.46348083,
          214456335.95841122,
          156486856.50134772,
          99427181.461006,
          99697305.83055854,
          93721417.50044535,
          84678530.15541916,
          77909413.67273673,
          95125080.35269964,
          81102067.59233522,
          96371450.55977881,
          89333049.81237644,
          74273795.60896236,
          103044786.74626419,
          97482551.6525413,
          99599004.59294857,
          102488428.8719101,
          124155657.5849114,
          126842120.5150752,
          131116222.52922602,
          144768561.29897046,
          152174887.36912265,
          156223296.71992806,
          154621576.90548003,
          170802996.86219734,
          155745737.3785861,
          169992115.4349749,
          161929716.79699254,
          145835211.97887507,
          173570952.50158024,
          166996198.8818984,
          161047409.34206668,
          155782962.10261267,
          169296319.2971263,
          169111231.84579045,
          170477997.61110985,
          181191051.38210756,
          185658092.45344126,
          183035593.27484006,
          182758202.60500932,
          200278504.77388722,
          186560127.50240946,
          202130834.70345408,
          195392757.72128668,
          180637127.54432788,
          209711742.70796672,
          204446531.11825377,
          199821834.07546157,
          195896029.80005175,
          210748029.9584281,
          206767421.47656697,
          204296493.75549054,
          211129681.58403167,
          211716856.71310836,
          209094357.5345984,
          208816966.86469764,
          226337269.03347924,
          212618891.76212427,
          228189598.9631281,
          221451521.9810019,
          206695891.803919,
          235770506.96762392,
          230505295.37801257,
          225880598.3351308,
          221954794.0596857,
          236806794.21814314,
          232826185.73624122
         ]
        },
        {
         "fill": "tonexty",
         "fillcolor": "rgba(0, 114, 178, 0.2)",
         "hoverinfo": "skip",
         "line": {
          "width": 0
         },
         "mode": "lines",
         "type": "scatter",
         "x": [
          "1991-03-31T00:00:00",
          "1991-06-30T00:00:00",
          "1991-09-30T00:00:00",
          "1991-12-31T00:00:00",
          "1992-03-31T00:00:00",
          "1992-06-30T00:00:00",
          "1992-09-30T00:00:00",
          "1992-12-31T00:00:00",
          "1993-03-31T00:00:00",
          "1993-06-30T00:00:00",
          "1993-09-30T00:00:00",
          "1993-12-31T00:00:00",
          "1994-03-31T00:00:00",
          "1994-06-30T00:00:00",
          "1994-09-30T00:00:00",
          "1994-12-31T00:00:00",
          "1995-03-31T00:00:00",
          "1995-06-30T00:00:00",
          "1995-09-30T00:00:00",
          "1995-12-31T00:00:00",
          "1996-03-31T00:00:00",
          "1996-06-30T00:00:00",
          "1996-09-30T00:00:00",
          "1996-12-31T00:00:00",
          "1997-03-31T00:00:00",
          "1997-06-30T00:00:00",
          "1997-09-30T00:00:00",
          "1997-12-31T00:00:00",
          "1998-03-31T00:00:00",
          "1998-06-30T00:00:00",
          "1998-09-30T00:00:00",
          "1998-12-31T00:00:00",
          "1999-03-31T00:00:00",
          "1999-06-30T00:00:00",
          "1999-09-30T00:00:00",
          "1999-12-31T00:00:00",
          "2000-03-31T00:00:00",
          "2000-06-30T00:00:00",
          "2000-09-30T00:00:00",
          "2000-12-31T00:00:00",
          "2001-03-31T00:00:00",
          "2001-06-30T00:00:00",
          "2001-09-30T00:00:00",
          "2001-12-31T00:00:00",
          "2002-03-31T00:00:00",
          "2002-06-30T00:00:00",
          "2002-09-30T00:00:00",
          "2002-12-31T00:00:00",
          "2003-03-31T00:00:00",
          "2003-06-30T00:00:00",
          "2003-09-30T00:00:00",
          "2003-12-31T00:00:00",
          "2004-03-31T00:00:00",
          "2004-06-30T00:00:00",
          "2004-09-30T00:00:00",
          "2004-12-31T00:00:00",
          "2005-03-31T00:00:00",
          "2005-06-30T00:00:00",
          "2005-09-30T00:00:00",
          "2005-12-31T00:00:00",
          "2006-03-31T00:00:00",
          "2006-06-30T00:00:00",
          "2006-09-30T00:00:00",
          "2006-12-31T00:00:00",
          "2007-03-31T00:00:00",
          "2007-06-30T00:00:00",
          "2007-09-30T00:00:00",
          "2007-12-31T00:00:00",
          "2008-03-31T00:00:00",
          "2008-06-30T00:00:00",
          "2008-09-30T00:00:00",
          "2008-12-31T00:00:00",
          "2009-03-31T00:00:00",
          "2009-06-30T00:00:00",
          "2009-09-30T00:00:00",
          "2009-12-31T00:00:00",
          "2010-03-31T00:00:00",
          "2010-06-30T00:00:00",
          "2010-09-30T00:00:00",
          "2010-12-31T00:00:00",
          "2011-03-31T00:00:00",
          "2011-06-30T00:00:00",
          "2011-09-30T00:00:00",
          "2011-12-31T00:00:00",
          "2012-03-31T00:00:00",
          "2012-06-30T00:00:00",
          "2012-09-30T00:00:00",
          "2012-12-31T00:00:00",
          "2013-03-31T00:00:00",
          "2013-06-30T00:00:00",
          "2013-09-30T00:00:00",
          "2013-12-31T00:00:00",
          "2014-03-31T00:00:00",
          "2014-06-30T00:00:00",
          "2014-09-30T00:00:00",
          "2014-12-31T00:00:00",
          "2015-03-31T00:00:00",
          "2015-06-30T00:00:00",
          "2015-09-30T00:00:00",
          "2015-12-31T00:00:00",
          "2016-03-31T00:00:00",
          "2016-06-30T00:00:00",
          "2016-09-30T00:00:00",
          "2016-12-31T00:00:00",
          "2017-03-31T00:00:00",
          "2017-06-30T00:00:00",
          "2017-09-30T00:00:00",
          "2017-12-31T00:00:00",
          "2018-03-31T00:00:00",
          "2018-06-30T00:00:00",
          "2018-09-30T00:00:00",
          "2018-12-31T00:00:00",
          "2019-03-31T00:00:00",
          "2019-06-30T00:00:00",
          "2019-09-30T00:00:00",
          "2019-12-31T00:00:00",
          "2020-03-31T00:00:00",
          "2020-06-30T00:00:00",
          "2020-09-30T00:00:00",
          "2020-12-31T00:00:00",
          "2021-03-31T00:00:00",
          "2021-06-30T00:00:00",
          "2021-09-30T00:00:00",
          "2021-12-31T00:00:00",
          "2022-03-31T00:00:00"
         ],
         "y": [
          91985620.77709232,
          91453752.37037386,
          112723253.48786823,
          102485307.04937044,
          115916590.55338417,
          113938901.51639234,
          100792084.99942625,
          132216149.91405562,
          128736863.3262714,
          123827411.72467571,
          118473652.60028145,
          132589401.79620115,
          130741259.79127987,
          127726873.16803157,
          134103021.55712222,
          133546798.12057617,
          130325600.64319144,
          131345157.05417973,
          152396631.37105396,
          134461748.31712633,
          149312575.05964816,
          143767955.02803928,
          126348176.96150896,
          155014375.64252445,
          151110848.36142486,
          142463620.575366,
          138872739.5284457,
          153428998.63404652,
          150219758.7988274,
          149180760.95432404,
          153303815.8896375,
          150504914.10371307,
          146684832.23914123,
          144977988.64054152,
          168492047.2441178,
          148510174.77318755,
          166309147.159989,
          161811453.47431213,
          145779275.50204146,
          175421738.18212667,
          169299553.7390471,
          163607142.8068712,
          161293647.0223299,
          176160753.8381444,
          172221765.87351707,
          167544392.13803762,
          177339539.74562508,
          193259151.875344,
          210976150.76995504,
          228150124.4104782,
          277069541.69317025,
          289833861.1685565,
          330543042.80730695,
          353625786.17277545,
          339400888.34690577,
          364081524.9752044,
          360492492.79272634,
          352841266.7772387,
          291551367.83366054,
          250819051.0836749,
          191702470.6984361,
          136089088.80062208,
          136879521.7227437,
          131886156.70421234,
          123151191.51744789,
          116285162.04301661,
          136229807.43978342,
          118849190.62104788,
          135839575.95463976,
          123943759.65861315,
          112366407.09394678,
          141279566.07043204,
          137341389.3192762,
          136265991.65124518,
          138294780.82842964,
          163265965.16691825,
          164628684.371885,
          167113683.0375,
          182835134.15120834,
          192532777.98648214,
          193436242.1664491,
          191796149.4980662,
          209691089.6924293,
          193488235.7250031,
          206879630.60774472,
          200767741.52553964,
          183472728.06288216,
          211736501.0421469,
          203925201.54745987,
          196260477.5554671,
          193479477.80595484,
          205334959.81588992,
          204289662.1732927,
          207069026.21303156,
          218464871.215182,
          226655841.5724525,
          220111772.07228178,
          223184784.8177128,
          238683388.49127555,
          226173177.3459076,
          239890230.50859216,
          234653967.05982125,
          217867007.0994297,
          249539706.11895806,
          241206981.63850364,
          238865174.38963977,
          231401771.48620838,
          247208202.74283922,
          246876568.3090656,
          240931905.04669917,
          248328756.04145008,
          247863200.1494612,
          246323494.3185278,
          245818317.1855042,
          266262635.8256058,
          249672415.68399858,
          265846859.6678381,
          258771299.86967975,
          245286362.14920163,
          273321360.5711377,
          268700696.65766746,
          264410254.09262165,
          262311721.32858086,
          284864854.9664702,
          281865809.77090436
         ]
        }
       ],
       "layout": {
        "height": 600,
        "showlegend": false,
        "template": {
         "data": {
          "bar": [
           {
            "error_x": {
             "color": "#2a3f5f"
            },
            "error_y": {
             "color": "#2a3f5f"
            },
            "marker": {
             "line": {
              "color": "#E5ECF6",
              "width": 0.5
             },
             "pattern": {
              "fillmode": "overlay",
              "size": 10,
              "solidity": 0.2
             }
            },
            "type": "bar"
           }
          ],
          "barpolar": [
           {
            "marker": {
             "line": {
              "color": "#E5ECF6",
              "width": 0.5
             },
             "pattern": {
              "fillmode": "overlay",
              "size": 10,
              "solidity": 0.2
             }
            },
            "type": "barpolar"
           }
          ],
          "carpet": [
           {
            "aaxis": {
             "endlinecolor": "#2a3f5f",
             "gridcolor": "white",
             "linecolor": "white",
             "minorgridcolor": "white",
             "startlinecolor": "#2a3f5f"
            },
            "baxis": {
             "endlinecolor": "#2a3f5f",
             "gridcolor": "white",
             "linecolor": "white",
             "minorgridcolor": "white",
             "startlinecolor": "#2a3f5f"
            },
            "type": "carpet"
           }
          ],
          "choropleth": [
           {
            "colorbar": {
             "outlinewidth": 0,
             "ticks": ""
            },
            "type": "choropleth"
           }
          ],
          "contour": [
           {
            "colorbar": {
             "outlinewidth": 0,
             "ticks": ""
            },
            "colorscale": [
             [
              0,
              "#0d0887"
             ],
             [
              0.1111111111111111,
              "#46039f"
             ],
             [
              0.2222222222222222,
              "#7201a8"
             ],
             [
              0.3333333333333333,
              "#9c179e"
             ],
             [
              0.4444444444444444,
              "#bd3786"
             ],
             [
              0.5555555555555556,
              "#d8576b"
             ],
             [
              0.6666666666666666,
              "#ed7953"
             ],
             [
              0.7777777777777778,
              "#fb9f3a"
             ],
             [
              0.8888888888888888,
              "#fdca26"
             ],
             [
              1,
              "#f0f921"
             ]
            ],
            "type": "contour"
           }
          ],
          "contourcarpet": [
           {
            "colorbar": {
             "outlinewidth": 0,
             "ticks": ""
            },
            "type": "contourcarpet"
           }
          ],
          "heatmap": [
           {
            "colorbar": {
             "outlinewidth": 0,
             "ticks": ""
            },
            "colorscale": [
             [
              0,
              "#0d0887"
             ],
             [
              0.1111111111111111,
              "#46039f"
             ],
             [
              0.2222222222222222,
              "#7201a8"
             ],
             [
              0.3333333333333333,
              "#9c179e"
             ],
             [
              0.4444444444444444,
              "#bd3786"
             ],
             [
              0.5555555555555556,
              "#d8576b"
             ],
             [
              0.6666666666666666,
              "#ed7953"
             ],
             [
              0.7777777777777778,
              "#fb9f3a"
             ],
             [
              0.8888888888888888,
              "#fdca26"
             ],
             [
              1,
              "#f0f921"
             ]
            ],
            "type": "heatmap"
           }
          ],
          "heatmapgl": [
           {
            "colorbar": {
             "outlinewidth": 0,
             "ticks": ""
            },
            "colorscale": [
             [
              0,
              "#0d0887"
             ],
             [
              0.1111111111111111,
              "#46039f"
             ],
             [
              0.2222222222222222,
              "#7201a8"
             ],
             [
              0.3333333333333333,
              "#9c179e"
             ],
             [
              0.4444444444444444,
              "#bd3786"
             ],
             [
              0.5555555555555556,
              "#d8576b"
             ],
             [
              0.6666666666666666,
              "#ed7953"
             ],
             [
              0.7777777777777778,
              "#fb9f3a"
             ],
             [
              0.8888888888888888,
              "#fdca26"
             ],
             [
              1,
              "#f0f921"
             ]
            ],
            "type": "heatmapgl"
           }
          ],
          "histogram": [
           {
            "marker": {
             "pattern": {
              "fillmode": "overlay",
              "size": 10,
              "solidity": 0.2
             }
            },
            "type": "histogram"
           }
          ],
          "histogram2d": [
           {
            "colorbar": {
             "outlinewidth": 0,
             "ticks": ""
            },
            "colorscale": [
             [
              0,
              "#0d0887"
             ],
             [
              0.1111111111111111,
              "#46039f"
             ],
             [
              0.2222222222222222,
              "#7201a8"
             ],
             [
              0.3333333333333333,
              "#9c179e"
             ],
             [
              0.4444444444444444,
              "#bd3786"
             ],
             [
              0.5555555555555556,
              "#d8576b"
             ],
             [
              0.6666666666666666,
              "#ed7953"
             ],
             [
              0.7777777777777778,
              "#fb9f3a"
             ],
             [
              0.8888888888888888,
              "#fdca26"
             ],
             [
              1,
              "#f0f921"
             ]
            ],
            "type": "histogram2d"
           }
          ],
          "histogram2dcontour": [
           {
            "colorbar": {
             "outlinewidth": 0,
             "ticks": ""
            },
            "colorscale": [
             [
              0,
              "#0d0887"
             ],
             [
              0.1111111111111111,
              "#46039f"
             ],
             [
              0.2222222222222222,
              "#7201a8"
             ],
             [
              0.3333333333333333,
              "#9c179e"
             ],
             [
              0.4444444444444444,
              "#bd3786"
             ],
             [
              0.5555555555555556,
              "#d8576b"
             ],
             [
              0.6666666666666666,
              "#ed7953"
             ],
             [
              0.7777777777777778,
              "#fb9f3a"
             ],
             [
              0.8888888888888888,
              "#fdca26"
             ],
             [
              1,
              "#f0f921"
             ]
            ],
            "type": "histogram2dcontour"
           }
          ],
          "mesh3d": [
           {
            "colorbar": {
             "outlinewidth": 0,
             "ticks": ""
            },
            "type": "mesh3d"
           }
          ],
          "parcoords": [
           {
            "line": {
             "colorbar": {
              "outlinewidth": 0,
              "ticks": ""
             }
            },
            "type": "parcoords"
           }
          ],
          "pie": [
           {
            "automargin": true,
            "type": "pie"
           }
          ],
          "scatter": [
           {
            "fillpattern": {
             "fillmode": "overlay",
             "size": 10,
             "solidity": 0.2
            },
            "type": "scatter"
           }
          ],
          "scatter3d": [
           {
            "line": {
             "colorbar": {
              "outlinewidth": 0,
              "ticks": ""
             }
            },
            "marker": {
             "colorbar": {
              "outlinewidth": 0,
              "ticks": ""
             }
            },
            "type": "scatter3d"
           }
          ],
          "scattercarpet": [
           {
            "marker": {
             "colorbar": {
              "outlinewidth": 0,
              "ticks": ""
             }
            },
            "type": "scattercarpet"
           }
          ],
          "scattergeo": [
           {
            "marker": {
             "colorbar": {
              "outlinewidth": 0,
              "ticks": ""
             }
            },
            "type": "scattergeo"
           }
          ],
          "scattergl": [
           {
            "marker": {
             "colorbar": {
              "outlinewidth": 0,
              "ticks": ""
             }
            },
            "type": "scattergl"
           }
          ],
          "scattermapbox": [
           {
            "marker": {
             "colorbar": {
              "outlinewidth": 0,
              "ticks": ""
             }
            },
            "type": "scattermapbox"
           }
          ],
          "scatterpolar": [
           {
            "marker": {
             "colorbar": {
              "outlinewidth": 0,
              "ticks": ""
             }
            },
            "type": "scatterpolar"
           }
          ],
          "scatterpolargl": [
           {
            "marker": {
             "colorbar": {
              "outlinewidth": 0,
              "ticks": ""
             }
            },
            "type": "scatterpolargl"
           }
          ],
          "scatterternary": [
           {
            "marker": {
             "colorbar": {
              "outlinewidth": 0,
              "ticks": ""
             }
            },
            "type": "scatterternary"
           }
          ],
          "surface": [
           {
            "colorbar": {
             "outlinewidth": 0,
             "ticks": ""
            },
            "colorscale": [
             [
              0,
              "#0d0887"
             ],
             [
              0.1111111111111111,
              "#46039f"
             ],
             [
              0.2222222222222222,
              "#7201a8"
             ],
             [
              0.3333333333333333,
              "#9c179e"
             ],
             [
              0.4444444444444444,
              "#bd3786"
             ],
             [
              0.5555555555555556,
              "#d8576b"
             ],
             [
              0.6666666666666666,
              "#ed7953"
             ],
             [
              0.7777777777777778,
              "#fb9f3a"
             ],
             [
              0.8888888888888888,
              "#fdca26"
             ],
             [
              1,
              "#f0f921"
             ]
            ],
            "type": "surface"
           }
          ],
          "table": [
           {
            "cells": {
             "fill": {
              "color": "#EBF0F8"
             },
             "line": {
              "color": "white"
             }
            },
            "header": {
             "fill": {
              "color": "#C8D4E3"
             },
             "line": {
              "color": "white"
             }
            },
            "type": "table"
           }
          ]
         },
         "layout": {
          "annotationdefaults": {
           "arrowcolor": "#2a3f5f",
           "arrowhead": 0,
           "arrowwidth": 1
          },
          "autotypenumbers": "strict",
          "coloraxis": {
           "colorbar": {
            "outlinewidth": 0,
            "ticks": ""
           }
          },
          "colorscale": {
           "diverging": [
            [
             0,
             "#8e0152"
            ],
            [
             0.1,
             "#c51b7d"
            ],
            [
             0.2,
             "#de77ae"
            ],
            [
             0.3,
             "#f1b6da"
            ],
            [
             0.4,
             "#fde0ef"
            ],
            [
             0.5,
             "#f7f7f7"
            ],
            [
             0.6,
             "#e6f5d0"
            ],
            [
             0.7,
             "#b8e186"
            ],
            [
             0.8,
             "#7fbc41"
            ],
            [
             0.9,
             "#4d9221"
            ],
            [
             1,
             "#276419"
            ]
           ],
           "sequential": [
            [
             0,
             "#0d0887"
            ],
            [
             0.1111111111111111,
             "#46039f"
            ],
            [
             0.2222222222222222,
             "#7201a8"
            ],
            [
             0.3333333333333333,
             "#9c179e"
            ],
            [
             0.4444444444444444,
             "#bd3786"
            ],
            [
             0.5555555555555556,
             "#d8576b"
            ],
            [
             0.6666666666666666,
             "#ed7953"
            ],
            [
             0.7777777777777778,
             "#fb9f3a"
            ],
            [
             0.8888888888888888,
             "#fdca26"
            ],
            [
             1,
             "#f0f921"
            ]
           ],
           "sequentialminus": [
            [
             0,
             "#0d0887"
            ],
            [
             0.1111111111111111,
             "#46039f"
            ],
            [
             0.2222222222222222,
             "#7201a8"
            ],
            [
             0.3333333333333333,
             "#9c179e"
            ],
            [
             0.4444444444444444,
             "#bd3786"
            ],
            [
             0.5555555555555556,
             "#d8576b"
            ],
            [
             0.6666666666666666,
             "#ed7953"
            ],
            [
             0.7777777777777778,
             "#fb9f3a"
            ],
            [
             0.8888888888888888,
             "#fdca26"
            ],
            [
             1,
             "#f0f921"
            ]
           ]
          },
          "colorway": [
           "#636efa",
           "#EF553B",
           "#00cc96",
           "#ab63fa",
           "#FFA15A",
           "#19d3f3",
           "#FF6692",
           "#B6E880",
           "#FF97FF",
           "#FECB52"
          ],
          "font": {
           "color": "#2a3f5f"
          },
          "geo": {
           "bgcolor": "white",
           "lakecolor": "white",
           "landcolor": "#E5ECF6",
           "showlakes": true,
           "showland": true,
           "subunitcolor": "white"
          },
          "hoverlabel": {
           "align": "left"
          },
          "hovermode": "closest",
          "mapbox": {
           "style": "light"
          },
          "paper_bgcolor": "white",
          "plot_bgcolor": "#E5ECF6",
          "polar": {
           "angularaxis": {
            "gridcolor": "white",
            "linecolor": "white",
            "ticks": ""
           },
           "bgcolor": "#E5ECF6",
           "radialaxis": {
            "gridcolor": "white",
            "linecolor": "white",
            "ticks": ""
           }
          },
          "scene": {
           "xaxis": {
            "backgroundcolor": "#E5ECF6",
            "gridcolor": "white",
            "gridwidth": 2,
            "linecolor": "white",
            "showbackground": true,
            "ticks": "",
            "zerolinecolor": "white"
           },
           "yaxis": {
            "backgroundcolor": "#E5ECF6",
            "gridcolor": "white",
            "gridwidth": 2,
            "linecolor": "white",
            "showbackground": true,
            "ticks": "",
            "zerolinecolor": "white"
           },
           "zaxis": {
            "backgroundcolor": "#E5ECF6",
            "gridcolor": "white",
            "gridwidth": 2,
            "linecolor": "white",
            "showbackground": true,
            "ticks": "",
            "zerolinecolor": "white"
           }
          },
          "shapedefaults": {
           "line": {
            "color": "#2a3f5f"
           }
          },
          "ternary": {
           "aaxis": {
            "gridcolor": "white",
            "linecolor": "white",
            "ticks": ""
           },
           "baxis": {
            "gridcolor": "white",
            "linecolor": "white",
            "ticks": ""
           },
           "bgcolor": "#E5ECF6",
           "caxis": {
            "gridcolor": "white",
            "linecolor": "white",
            "ticks": ""
           }
          },
          "title": {
           "x": 0.05
          },
          "xaxis": {
           "automargin": true,
           "gridcolor": "white",
           "linecolor": "white",
           "ticks": "",
           "title": {
            "standoff": 15
           },
           "zerolinecolor": "white",
           "zerolinewidth": 2
          },
          "yaxis": {
           "automargin": true,
           "gridcolor": "white",
           "linecolor": "white",
           "ticks": "",
           "title": {
            "standoff": 15
           },
           "zerolinecolor": "white",
           "zerolinewidth": 2
          }
         }
        },
        "width": 900,
        "xaxis": {
         "rangeselector": {
          "buttons": [
           {
            "count": 7,
            "label": "1w",
            "step": "day",
            "stepmode": "backward"
           },
           {
            "count": 1,
            "label": "1m",
            "step": "month",
            "stepmode": "backward"
           },
           {
            "count": 6,
            "label": "6m",
            "step": "month",
            "stepmode": "backward"
           },
           {
            "count": 1,
            "label": "1y",
            "step": "year",
            "stepmode": "backward"
           },
           {
            "step": "all"
           }
          ]
         },
         "rangeslider": {
          "visible": true
         },
         "title": {
          "text": "ds"
         },
         "type": "date"
        },
        "yaxis": {
         "title": {
          "text": "y"
         }
        }
       }
      }
     },
     "metadata": {},
     "output_type": "display_data"
    },
    {
     "name": "stderr",
     "output_type": "stream",
     "text": [
      "15:49:16 - cmdstanpy - INFO - Chain [1] start processing\n"
     ]
    },
    {
     "name": "stdout",
     "output_type": "stream",
     "text": [
      "The train SMAPE is 4.6% and the test SMAPE is 2.42%.\n"
     ]
    },
    {
     "name": "stderr",
     "output_type": "stream",
     "text": [
      "15:49:16 - cmdstanpy - INFO - Chain [1] done processing\n"
     ]
    },
    {
     "data": {
      "application/vnd.plotly.v1+json": {
       "config": {
        "plotlyServerURL": "https://plot.ly"
       },
       "data": [
        {
         "marker": {
          "color": "black",
          "size": 4
         },
         "mode": "markers",
         "name": "Actual",
         "type": "scatter",
         "x": [
          "1991-03-31T00:00:00",
          "1991-06-30T00:00:00",
          "1991-09-30T00:00:00",
          "1991-12-31T00:00:00",
          "1992-03-31T00:00:00",
          "1992-06-30T00:00:00",
          "1992-09-30T00:00:00",
          "1992-12-31T00:00:00",
          "1993-03-31T00:00:00",
          "1993-06-30T00:00:00",
          "1993-09-30T00:00:00",
          "1993-12-31T00:00:00",
          "1994-03-31T00:00:00",
          "1994-06-30T00:00:00",
          "1994-09-30T00:00:00",
          "1994-12-31T00:00:00",
          "1995-03-31T00:00:00",
          "1995-06-30T00:00:00",
          "1995-09-30T00:00:00",
          "1995-12-31T00:00:00",
          "1996-03-31T00:00:00",
          "1996-06-30T00:00:00",
          "1996-09-30T00:00:00",
          "1996-12-31T00:00:00",
          "1997-03-31T00:00:00",
          "1997-06-30T00:00:00",
          "1997-09-30T00:00:00",
          "1997-12-31T00:00:00",
          "1998-03-31T00:00:00",
          "1998-06-30T00:00:00",
          "1998-09-30T00:00:00",
          "1998-12-31T00:00:00",
          "1999-03-31T00:00:00",
          "1999-06-30T00:00:00",
          "1999-09-30T00:00:00",
          "1999-12-31T00:00:00",
          "2000-03-31T00:00:00",
          "2000-06-30T00:00:00",
          "2000-09-30T00:00:00",
          "2000-12-31T00:00:00",
          "2001-03-31T00:00:00",
          "2001-06-30T00:00:00",
          "2001-09-30T00:00:00",
          "2001-12-31T00:00:00",
          "2002-03-31T00:00:00",
          "2002-06-30T00:00:00",
          "2002-09-30T00:00:00",
          "2002-12-31T00:00:00",
          "2003-03-31T00:00:00",
          "2003-06-30T00:00:00",
          "2003-09-30T00:00:00",
          "2003-12-31T00:00:00",
          "2004-03-31T00:00:00",
          "2004-06-30T00:00:00",
          "2004-09-30T00:00:00",
          "2004-12-31T00:00:00",
          "2005-03-31T00:00:00",
          "2005-06-30T00:00:00",
          "2005-09-30T00:00:00",
          "2005-12-31T00:00:00",
          "2006-03-31T00:00:00",
          "2006-06-30T00:00:00",
          "2006-09-30T00:00:00",
          "2006-12-31T00:00:00",
          "2007-03-31T00:00:00",
          "2007-06-30T00:00:00",
          "2007-09-30T00:00:00",
          "2007-12-31T00:00:00",
          "2008-03-31T00:00:00",
          "2008-06-30T00:00:00",
          "2008-09-30T00:00:00",
          "2008-12-31T00:00:00",
          "2009-03-31T00:00:00",
          "2009-06-30T00:00:00",
          "2009-09-30T00:00:00",
          "2009-12-31T00:00:00",
          "2010-03-31T00:00:00",
          "2010-06-30T00:00:00",
          "2010-09-30T00:00:00",
          "2010-12-31T00:00:00",
          "2011-03-31T00:00:00",
          "2011-06-30T00:00:00",
          "2011-09-30T00:00:00",
          "2011-12-31T00:00:00",
          "2012-03-31T00:00:00",
          "2012-06-30T00:00:00",
          "2012-09-30T00:00:00",
          "2012-12-31T00:00:00",
          "2013-03-31T00:00:00",
          "2013-06-30T00:00:00",
          "2013-09-30T00:00:00",
          "2013-12-31T00:00:00",
          "2014-03-31T00:00:00",
          "2014-06-30T00:00:00",
          "2014-09-30T00:00:00",
          "2014-12-31T00:00:00",
          "2015-03-31T00:00:00",
          "2015-06-30T00:00:00",
          "2015-09-30T00:00:00",
          "2015-12-31T00:00:00",
          "2016-03-31T00:00:00",
          "2016-06-30T00:00:00",
          "2016-09-30T00:00:00",
          "2016-12-31T00:00:00",
          "2017-03-31T00:00:00",
          "2017-06-30T00:00:00",
          "2017-09-30T00:00:00",
          "2017-12-31T00:00:00",
          "2018-03-31T00:00:00",
          "2018-06-30T00:00:00",
          "2018-09-30T00:00:00",
          "2018-12-31T00:00:00",
          "2019-03-31T00:00:00",
          "2019-06-30T00:00:00",
          "2019-09-30T00:00:00",
          "2019-12-31T00:00:00",
          "2020-03-31T00:00:00",
          "2020-06-30T00:00:00",
          "2020-09-30T00:00:00",
          "2020-12-31T00:00:00"
         ],
         "y": [
          40671417,
          59259062,
          67561929,
          74483016,
          82768107,
          76771911,
          75205718,
          85725818,
          94592593,
          87546897,
          90365485,
          91288201,
          95649251,
          86903138,
          80710031,
          85192833,
          81344496,
          85066309,
          118656269,
          118152327,
          118816430,
          109746553,
          108255354,
          110302647,
          108181714,
          104082407,
          101640278,
          102831754,
          115457635,
          114954963,
          110259724,
          117411919,
          119835397,
          114116641,
          109411018,
          120105562,
          115363517,
          115727207,
          120901051,
          143998778,
          136492477,
          133969846,
          130596243,
          134979726,
          134649367,
          136972367,
          140154979,
          145132430,
          145947666,
          148746142,
          366169219,
          178883335,
          226525799,
          363528419,
          274567736,
          333309563,
          484657321,
          241299355,
          167051950,
          338157239,
          96295892,
          91247082,
          80679087,
          87858219,
          92162500,
          87877891,
          86073000,
          84760915,
          91278368,
          96881224,
          86097352,
          93254818,
          94038855,
          110317402,
          97233671,
          100859933,
          110403567,
          145645056,
          152231412,
          163880199,
          167571475,
          166390382,
          144530171,
          162274733,
          165021240,
          164255682,
          167346136,
          163908723,
          163168995,
          158591581,
          151249924,
          154949611,
          156942717,
          173309001,
          175915786,
          182147561,
          179982587,
          188561670,
          187029956,
          193344331,
          204779756,
          195230026,
          191955696,
          210845769,
          208854028,
          212856351,
          195468627,
          207598039,
          225293382,
          221447889,
          210185491,
          216868482,
          223800327,
          215912716,
          215610424,
          218743695,
          221488850,
          186228229,
          211905808,
          222210513
         ]
        },
        {
         "hoverinfo": "skip",
         "line": {
          "width": 0
         },
         "mode": "lines",
         "type": "scatter",
         "x": [
          "1991-03-31T00:00:00",
          "1991-06-30T00:00:00",
          "1991-09-30T00:00:00",
          "1991-12-31T00:00:00",
          "1992-03-31T00:00:00",
          "1992-06-30T00:00:00",
          "1992-09-30T00:00:00",
          "1992-12-31T00:00:00",
          "1993-03-31T00:00:00",
          "1993-06-30T00:00:00",
          "1993-09-30T00:00:00",
          "1993-12-31T00:00:00",
          "1994-03-31T00:00:00",
          "1994-06-30T00:00:00",
          "1994-09-30T00:00:00",
          "1994-12-31T00:00:00",
          "1995-03-31T00:00:00",
          "1995-06-30T00:00:00",
          "1995-09-30T00:00:00",
          "1995-12-31T00:00:00",
          "1996-03-31T00:00:00",
          "1996-06-30T00:00:00",
          "1996-09-30T00:00:00",
          "1996-12-31T00:00:00",
          "1997-03-31T00:00:00",
          "1997-06-30T00:00:00",
          "1997-09-30T00:00:00",
          "1997-12-31T00:00:00",
          "1998-03-31T00:00:00",
          "1998-06-30T00:00:00",
          "1998-09-30T00:00:00",
          "1998-12-31T00:00:00",
          "1999-03-31T00:00:00",
          "1999-06-30T00:00:00",
          "1999-09-30T00:00:00",
          "1999-12-31T00:00:00",
          "2000-03-31T00:00:00",
          "2000-06-30T00:00:00",
          "2000-09-30T00:00:00",
          "2000-12-31T00:00:00",
          "2001-03-31T00:00:00",
          "2001-06-30T00:00:00",
          "2001-09-30T00:00:00",
          "2001-12-31T00:00:00",
          "2002-03-31T00:00:00",
          "2002-06-30T00:00:00",
          "2002-09-30T00:00:00",
          "2002-12-31T00:00:00",
          "2003-03-31T00:00:00",
          "2003-06-30T00:00:00",
          "2003-09-30T00:00:00",
          "2003-12-31T00:00:00",
          "2004-03-31T00:00:00",
          "2004-06-30T00:00:00",
          "2004-09-30T00:00:00",
          "2004-12-31T00:00:00",
          "2005-03-31T00:00:00",
          "2005-06-30T00:00:00",
          "2005-09-30T00:00:00",
          "2005-12-31T00:00:00",
          "2006-03-31T00:00:00",
          "2006-06-30T00:00:00",
          "2006-09-30T00:00:00",
          "2006-12-31T00:00:00",
          "2007-03-31T00:00:00",
          "2007-06-30T00:00:00",
          "2007-09-30T00:00:00",
          "2007-12-31T00:00:00",
          "2008-03-31T00:00:00",
          "2008-06-30T00:00:00",
          "2008-09-30T00:00:00",
          "2008-12-31T00:00:00",
          "2009-03-31T00:00:00",
          "2009-06-30T00:00:00",
          "2009-09-30T00:00:00",
          "2009-12-31T00:00:00",
          "2010-03-31T00:00:00",
          "2010-06-30T00:00:00",
          "2010-09-30T00:00:00",
          "2010-12-31T00:00:00",
          "2011-03-31T00:00:00",
          "2011-06-30T00:00:00",
          "2011-09-30T00:00:00",
          "2011-12-31T00:00:00",
          "2012-03-31T00:00:00",
          "2012-06-30T00:00:00",
          "2012-09-30T00:00:00",
          "2012-12-31T00:00:00",
          "2013-03-31T00:00:00",
          "2013-06-30T00:00:00",
          "2013-09-30T00:00:00",
          "2013-12-31T00:00:00",
          "2014-03-31T00:00:00",
          "2014-06-30T00:00:00",
          "2014-09-30T00:00:00",
          "2014-12-31T00:00:00",
          "2015-03-31T00:00:00",
          "2015-06-30T00:00:00",
          "2015-09-30T00:00:00",
          "2015-12-31T00:00:00",
          "2016-03-31T00:00:00",
          "2016-06-30T00:00:00",
          "2016-09-30T00:00:00",
          "2016-12-31T00:00:00",
          "2017-03-31T00:00:00",
          "2017-06-30T00:00:00",
          "2017-09-30T00:00:00",
          "2017-12-31T00:00:00",
          "2018-03-31T00:00:00",
          "2018-06-30T00:00:00",
          "2018-09-30T00:00:00",
          "2018-12-31T00:00:00",
          "2019-03-31T00:00:00",
          "2019-06-30T00:00:00",
          "2019-09-30T00:00:00",
          "2019-12-31T00:00:00",
          "2020-03-31T00:00:00",
          "2020-06-30T00:00:00",
          "2020-09-30T00:00:00",
          "2020-12-31T00:00:00",
          "2021-03-31T00:00:00",
          "2021-06-30T00:00:00",
          "2021-09-30T00:00:00",
          "2021-12-31T00:00:00",
          "2022-03-31T00:00:00"
         ],
         "y": [
          9928343.587857878,
          15753449.277872246,
          37730222.16301679,
          30222228.295462046,
          44062486.20271348,
          38767015.02976093,
          28460250.803875893,
          59833602.86099781,
          56987694.532760255,
          51122611.79558588,
          46339047.09229002,
          61746571.535729274,
          54498295.360094875,
          43076168.234722264,
          46621707.944785774,
          39750374.11810277,
          52373814.82271364,
          55837127.19164985,
          86788341.96127357,
          75687296.06986554,
          85344777.0445493,
          72274506.710456,
          57985882.54895392,
          81873695.6853731,
          71842795.68806055,
          66272440.378941216,
          62114409.031812444,
          74017610.87215938,
          74854773.84336391,
          75350504.11506787,
          83149648.90951604,
          80495170.90996547,
          77112604.63038836,
          71035801.46514244,
          85489523.32413033,
          73641616.62676322,
          86021835.21724887,
          86884067.38658646,
          76708652.94296733,
          108563648.68327264,
          100657555.92480375,
          94588787.6293046,
          93114730.30304697,
          108452669.48401824,
          99151534.0116165,
          96006108.54310352,
          94161606.54742913,
          111286391.39496595,
          130502883.69976266,
          145342708.7628693,
          193509359.81289,
          213455181.60954052,
          258718356.00409004,
          286995552.4307181,
          268767170.7394525,
          300448526.6575084,
          293948292.43494296,
          286765907.5594673,
          222940450.77225637,
          178459952.52368262,
          113974180.47943208,
          51193548.71941477,
          53268091.31857906,
          49468316.232355356,
          47060580.24157705,
          45651974.04500954,
          63111494.04071094,
          47850422.029833175,
          58420589.84609224,
          51585473.40279285,
          36644684.598330334,
          67501887.06546855,
          60093830.79508559,
          63766066.01400664,
          60902126.07450159,
          81121103.56173736,
          84642198.15314347,
          92460372.9232751,
          107530023.46612856,
          117994537.48032439,
          127725536.23248175,
          126513713.19552745,
          138977830.82063034,
          122807093.2407566,
          128463786.1986785,
          123956146.26517822,
          108550377.64465052,
          143756452.2408689,
          129819128.31901571,
          120263264.70706344,
          112195132.70626418,
          117906112.34028928,
          126913799.94505993,
          129859495.81742758,
          148657799.39104828,
          150515307.90314892,
          150622461.43234447,
          151494235.45971793,
          170905239.50968733,
          156078746.8991581,
          163997608.6105238,
          157985549.94182718,
          146666068.74229345,
          172861801.15825504,
          168239200.06506675,
          162798111.62130612,
          161204779.68261564,
          173809067.0628905,
          174599301.79232505,
          170970858.65524414,
          175143914.1321583,
          175799324.55537108,
          176179778.0418827,
          176983292.94128585,
          191622263.38429955,
          176165233.0263343,
          184799400.1455826,
          179491758.58395168,
          165770486.16122526,
          197205686.33018228,
          192532082.18772528,
          183024281.50252056,
          174965773.82002968,
          184996301.25626037,
          168208943.4366609
         ]
        },
        {
         "fill": "tonexty",
         "fillcolor": "rgba(0, 114, 178, 0.2)",
         "line": {
          "color": "#0072B2",
          "width": 2
         },
         "mode": "lines",
         "name": "Predicted",
         "type": "scatter",
         "x": [
          "1991-03-31T00:00:00",
          "1991-06-30T00:00:00",
          "1991-09-30T00:00:00",
          "1991-12-31T00:00:00",
          "1992-03-31T00:00:00",
          "1992-06-30T00:00:00",
          "1992-09-30T00:00:00",
          "1992-12-31T00:00:00",
          "1993-03-31T00:00:00",
          "1993-06-30T00:00:00",
          "1993-09-30T00:00:00",
          "1993-12-31T00:00:00",
          "1994-03-31T00:00:00",
          "1994-06-30T00:00:00",
          "1994-09-30T00:00:00",
          "1994-12-31T00:00:00",
          "1995-03-31T00:00:00",
          "1995-06-30T00:00:00",
          "1995-09-30T00:00:00",
          "1995-12-31T00:00:00",
          "1996-03-31T00:00:00",
          "1996-06-30T00:00:00",
          "1996-09-30T00:00:00",
          "1996-12-31T00:00:00",
          "1997-03-31T00:00:00",
          "1997-06-30T00:00:00",
          "1997-09-30T00:00:00",
          "1997-12-31T00:00:00",
          "1998-03-31T00:00:00",
          "1998-06-30T00:00:00",
          "1998-09-30T00:00:00",
          "1998-12-31T00:00:00",
          "1999-03-31T00:00:00",
          "1999-06-30T00:00:00",
          "1999-09-30T00:00:00",
          "1999-12-31T00:00:00",
          "2000-03-31T00:00:00",
          "2000-06-30T00:00:00",
          "2000-09-30T00:00:00",
          "2000-12-31T00:00:00",
          "2001-03-31T00:00:00",
          "2001-06-30T00:00:00",
          "2001-09-30T00:00:00",
          "2001-12-31T00:00:00",
          "2002-03-31T00:00:00",
          "2002-06-30T00:00:00",
          "2002-09-30T00:00:00",
          "2002-12-31T00:00:00",
          "2003-03-31T00:00:00",
          "2003-06-30T00:00:00",
          "2003-09-30T00:00:00",
          "2003-12-31T00:00:00",
          "2004-03-31T00:00:00",
          "2004-06-30T00:00:00",
          "2004-09-30T00:00:00",
          "2004-12-31T00:00:00",
          "2005-03-31T00:00:00",
          "2005-06-30T00:00:00",
          "2005-09-30T00:00:00",
          "2005-12-31T00:00:00",
          "2006-03-31T00:00:00",
          "2006-06-30T00:00:00",
          "2006-09-30T00:00:00",
          "2006-12-31T00:00:00",
          "2007-03-31T00:00:00",
          "2007-06-30T00:00:00",
          "2007-09-30T00:00:00",
          "2007-12-31T00:00:00",
          "2008-03-31T00:00:00",
          "2008-06-30T00:00:00",
          "2008-09-30T00:00:00",
          "2008-12-31T00:00:00",
          "2009-03-31T00:00:00",
          "2009-06-30T00:00:00",
          "2009-09-30T00:00:00",
          "2009-12-31T00:00:00",
          "2010-03-31T00:00:00",
          "2010-06-30T00:00:00",
          "2010-09-30T00:00:00",
          "2010-12-31T00:00:00",
          "2011-03-31T00:00:00",
          "2011-06-30T00:00:00",
          "2011-09-30T00:00:00",
          "2011-12-31T00:00:00",
          "2012-03-31T00:00:00",
          "2012-06-30T00:00:00",
          "2012-09-30T00:00:00",
          "2012-12-31T00:00:00",
          "2013-03-31T00:00:00",
          "2013-06-30T00:00:00",
          "2013-09-30T00:00:00",
          "2013-12-31T00:00:00",
          "2014-03-31T00:00:00",
          "2014-06-30T00:00:00",
          "2014-09-30T00:00:00",
          "2014-12-31T00:00:00",
          "2015-03-31T00:00:00",
          "2015-06-30T00:00:00",
          "2015-09-30T00:00:00",
          "2015-12-31T00:00:00",
          "2016-03-31T00:00:00",
          "2016-06-30T00:00:00",
          "2016-09-30T00:00:00",
          "2016-12-31T00:00:00",
          "2017-03-31T00:00:00",
          "2017-06-30T00:00:00",
          "2017-09-30T00:00:00",
          "2017-12-31T00:00:00",
          "2018-03-31T00:00:00",
          "2018-06-30T00:00:00",
          "2018-09-30T00:00:00",
          "2018-12-31T00:00:00",
          "2019-03-31T00:00:00",
          "2019-06-30T00:00:00",
          "2019-09-30T00:00:00",
          "2019-12-31T00:00:00",
          "2020-03-31T00:00:00",
          "2020-06-30T00:00:00",
          "2020-09-30T00:00:00",
          "2020-12-31T00:00:00",
          "2021-03-31T00:00:00",
          "2021-06-30T00:00:00",
          "2021-09-30T00:00:00",
          "2021-12-31T00:00:00",
          "2022-03-31T00:00:00"
         ],
         "y": [
          47528693.76136021,
          53189760.47988483,
          75591554.7273159,
          66309567.84064309,
          82874362.93196172,
          77649320.01190077,
          65264440.02559017,
          97517081.5333744,
          93649398.26865141,
          88358078.53459941,
          83934771.8813576,
          98661066.64267457,
          91080453.79336251,
          82833752.27049156,
          83349660.33067776,
          77573897.26654184,
          87317980.61902523,
          95248429.7348192,
          119944544.64767149,
          112956878.42639448,
          119940326.41076946,
          109876638.71794996,
          92599942.0382941,
          119960766.8527261,
          111832609.93684888,
          104321193.8606871,
          97653394.20222747,
          110135195.95834978,
          110612074.84136908,
          110512392.73673317,
          119264847.90112226,
          115348676.09084749,
          112963707.40084124,
          108630337.22924006,
          120927865.60975249,
          109911059.70476733,
          124759892.50627792,
          122561589.63058797,
          113236710.56811973,
          143418273.27756956,
          137524534.6665781,
          132272363.76530907,
          127888636.15180674,
          140441804.902549,
          135683722.48459053,
          130290912.84224993,
          133692074.23226604,
          149454012.6615462,
          166319369.2057498,
          181450216.77110526,
          231975160.91352645,
          250816323.92182684,
          295198582.4962219,
          322533705.3934314,
          307401226.88627315,
          336906269.8732408,
          330350718.490293,
          324429381.34190905,
          259175105.0108782,
          213070430.0943866,
          150929674.52371502,
          87516606.47151577,
          90286480.74132721,
          86764683.88674769,
          84765516.78380617,
          80822234.88356887,
          98964410.3640687,
          85422804.71031192,
          97774281.2386342,
          89652882.10851195,
          74339817.82192765,
          103664275.02941673,
          96932063.64487219,
          96936878.52687228,
          97867905.77108362,
          117948534.43004,
          120554271.48749724,
          128370911.91624305,
          145126682.16931888,
          155590781.29811177,
          167273468.9614266,
          163717024.76611197,
          176800016.77101618,
          158199227.64167804,
          165546511.8191095,
          159361021.86279583,
          146005140.4771359,
          177286780.58565512,
          166458165.0747713,
          156216285.30815786,
          146788016.86371452,
          156509349.8339179,
          162267899.60310203,
          167508573.61657712,
          181660070.13121182,
          189519895.52146524,
          190734763.67804736,
          190041228.54028422,
          206018590.1418272,
          190312170.6091539,
          200522363.84418765,
          193685421.40199596,
          179670928.7120465,
          210293957.51604414,
          204832087.9107061,
          200016584.55971354,
          196074323.0410254,
          211281662.93676943,
          209120052.29122758,
          206352564.10764384,
          212407896.64266428,
          212171558.05352762,
          213386426.21016398,
          212692891.0723278,
          228670252.6737894,
          212963833.141236,
          223174026.37622553,
          216337083.9340799,
          202322591.24400663,
          232945620.04808962,
          227483750.44282296,
          222668247.09177712,
          218725985.57302597,
          233933325.46885145,
          231771714.8232662
         ]
        },
        {
         "fill": "tonexty",
         "fillcolor": "rgba(0, 114, 178, 0.2)",
         "hoverinfo": "skip",
         "line": {
          "width": 0
         },
         "mode": "lines",
         "type": "scatter",
         "x": [
          "1991-03-31T00:00:00",
          "1991-06-30T00:00:00",
          "1991-09-30T00:00:00",
          "1991-12-31T00:00:00",
          "1992-03-31T00:00:00",
          "1992-06-30T00:00:00",
          "1992-09-30T00:00:00",
          "1992-12-31T00:00:00",
          "1993-03-31T00:00:00",
          "1993-06-30T00:00:00",
          "1993-09-30T00:00:00",
          "1993-12-31T00:00:00",
          "1994-03-31T00:00:00",
          "1994-06-30T00:00:00",
          "1994-09-30T00:00:00",
          "1994-12-31T00:00:00",
          "1995-03-31T00:00:00",
          "1995-06-30T00:00:00",
          "1995-09-30T00:00:00",
          "1995-12-31T00:00:00",
          "1996-03-31T00:00:00",
          "1996-06-30T00:00:00",
          "1996-09-30T00:00:00",
          "1996-12-31T00:00:00",
          "1997-03-31T00:00:00",
          "1997-06-30T00:00:00",
          "1997-09-30T00:00:00",
          "1997-12-31T00:00:00",
          "1998-03-31T00:00:00",
          "1998-06-30T00:00:00",
          "1998-09-30T00:00:00",
          "1998-12-31T00:00:00",
          "1999-03-31T00:00:00",
          "1999-06-30T00:00:00",
          "1999-09-30T00:00:00",
          "1999-12-31T00:00:00",
          "2000-03-31T00:00:00",
          "2000-06-30T00:00:00",
          "2000-09-30T00:00:00",
          "2000-12-31T00:00:00",
          "2001-03-31T00:00:00",
          "2001-06-30T00:00:00",
          "2001-09-30T00:00:00",
          "2001-12-31T00:00:00",
          "2002-03-31T00:00:00",
          "2002-06-30T00:00:00",
          "2002-09-30T00:00:00",
          "2002-12-31T00:00:00",
          "2003-03-31T00:00:00",
          "2003-06-30T00:00:00",
          "2003-09-30T00:00:00",
          "2003-12-31T00:00:00",
          "2004-03-31T00:00:00",
          "2004-06-30T00:00:00",
          "2004-09-30T00:00:00",
          "2004-12-31T00:00:00",
          "2005-03-31T00:00:00",
          "2005-06-30T00:00:00",
          "2005-09-30T00:00:00",
          "2005-12-31T00:00:00",
          "2006-03-31T00:00:00",
          "2006-06-30T00:00:00",
          "2006-09-30T00:00:00",
          "2006-12-31T00:00:00",
          "2007-03-31T00:00:00",
          "2007-06-30T00:00:00",
          "2007-09-30T00:00:00",
          "2007-12-31T00:00:00",
          "2008-03-31T00:00:00",
          "2008-06-30T00:00:00",
          "2008-09-30T00:00:00",
          "2008-12-31T00:00:00",
          "2009-03-31T00:00:00",
          "2009-06-30T00:00:00",
          "2009-09-30T00:00:00",
          "2009-12-31T00:00:00",
          "2010-03-31T00:00:00",
          "2010-06-30T00:00:00",
          "2010-09-30T00:00:00",
          "2010-12-31T00:00:00",
          "2011-03-31T00:00:00",
          "2011-06-30T00:00:00",
          "2011-09-30T00:00:00",
          "2011-12-31T00:00:00",
          "2012-03-31T00:00:00",
          "2012-06-30T00:00:00",
          "2012-09-30T00:00:00",
          "2012-12-31T00:00:00",
          "2013-03-31T00:00:00",
          "2013-06-30T00:00:00",
          "2013-09-30T00:00:00",
          "2013-12-31T00:00:00",
          "2014-03-31T00:00:00",
          "2014-06-30T00:00:00",
          "2014-09-30T00:00:00",
          "2014-12-31T00:00:00",
          "2015-03-31T00:00:00",
          "2015-06-30T00:00:00",
          "2015-09-30T00:00:00",
          "2015-12-31T00:00:00",
          "2016-03-31T00:00:00",
          "2016-06-30T00:00:00",
          "2016-09-30T00:00:00",
          "2016-12-31T00:00:00",
          "2017-03-31T00:00:00",
          "2017-06-30T00:00:00",
          "2017-09-30T00:00:00",
          "2017-12-31T00:00:00",
          "2018-03-31T00:00:00",
          "2018-06-30T00:00:00",
          "2018-09-30T00:00:00",
          "2018-12-31T00:00:00",
          "2019-03-31T00:00:00",
          "2019-06-30T00:00:00",
          "2019-09-30T00:00:00",
          "2019-12-31T00:00:00",
          "2020-03-31T00:00:00",
          "2020-06-30T00:00:00",
          "2020-09-30T00:00:00",
          "2020-12-31T00:00:00",
          "2021-03-31T00:00:00",
          "2021-06-30T00:00:00",
          "2021-09-30T00:00:00",
          "2021-12-31T00:00:00",
          "2022-03-31T00:00:00"
         ],
         "y": [
          86393270.52067032,
          89880511.6427798,
          109087375.23861426,
          102695308.415807,
          116682551.32156238,
          114714934.00835417,
          104299535.55037844,
          133210588.1756764,
          130592719.3277511,
          125573726.79072893,
          119847366.66960464,
          135958332.5262388,
          129105562.61039715,
          121040500.61952367,
          118290817.51962434,
          116168412.78335603,
          123423632.4011142,
          131321183.172417,
          157018562.65568665,
          151660610.36710286,
          156877009.26347226,
          145986010.08435374,
          132143303.06899956,
          156224987.9774639,
          147817822.94071147,
          141929145.66528264,
          136193677.39145166,
          146302343.5023588,
          149265421.30799156,
          146580262.18120554,
          152162426.2674349,
          152835503.79039052,
          148959500.20036042,
          145817261.54672578,
          158937596.98034883,
          146780792.68913493,
          161879424.27995688,
          159090575.2876031,
          148742289.876289,
          181913124.6719789,
          173267168.37347713,
          168277315.71831122,
          164591038.22762364,
          175084632.93483788,
          171589745.2158346,
          166721976.59663513,
          168296181.3668026,
          184041215.2846668,
          200883954.35742834,
          221088178.48846245,
          267648799.28581294,
          288590855.21491086,
          334146349.21438026,
          358238283.6529344,
          343138092.0803646,
          373212841.14710385,
          366004225.1199763,
          361294468.33444566,
          295661419.818692,
          248192456.2519285,
          185802961.49857813,
          124485070.04072192,
          126448124.7169127,
          122794339.81886472,
          122181810.20780644,
          117711306.21639633,
          136152168.8669233,
          122929765.19363084,
          135343954.87279242,
          123805607.19942491,
          110188501.20988296,
          140751069.21736777,
          133349322.18258883,
          135685984.02436805,
          133737477.26490597,
          154876075.3434771,
          156769708.37042367,
          163810358.91936567,
          178202780.33365712,
          192764158.15779436,
          204730973.64813387,
          199842419.45769694,
          212168679.98807847,
          194844092.51057878,
          203992568.885082,
          198268211.67391354,
          182058309.23166022,
          217016693.3468087,
          203794123.6490585,
          193589286.7039376,
          187192602.91196245,
          192153969.71108982,
          200923590.12764335,
          202214240.4252966,
          218408111.3023908,
          224265477.98955628,
          226857001.52629027,
          226849270.73251465,
          243890203.10811165,
          224952271.434589,
          237238641.07109737,
          231534796.99205542,
          217382272.69761065,
          245985082.38755053,
          242031277.9104853,
          235966470.58766538,
          232030074.63378996,
          250145507.7339716,
          243993342.35902366,
          240845615.48467717,
          247261460.87239042,
          249691471.87122026,
          248651635.11784405,
          250239686.8404077,
          264217085.60047957,
          247905578.6865191,
          257028140.48328406,
          254811734.56404343,
          237583237.53725266,
          270286534.2349801,
          266644174.17898333,
          266274925.13351324,
          262281756.12864068,
          286134984.1669316,
          293559500.57341117
         ]
        }
       ],
       "layout": {
        "height": 600,
        "showlegend": false,
        "template": {
         "data": {
          "bar": [
           {
            "error_x": {
             "color": "#2a3f5f"
            },
            "error_y": {
             "color": "#2a3f5f"
            },
            "marker": {
             "line": {
              "color": "#E5ECF6",
              "width": 0.5
             },
             "pattern": {
              "fillmode": "overlay",
              "size": 10,
              "solidity": 0.2
             }
            },
            "type": "bar"
           }
          ],
          "barpolar": [
           {
            "marker": {
             "line": {
              "color": "#E5ECF6",
              "width": 0.5
             },
             "pattern": {
              "fillmode": "overlay",
              "size": 10,
              "solidity": 0.2
             }
            },
            "type": "barpolar"
           }
          ],
          "carpet": [
           {
            "aaxis": {
             "endlinecolor": "#2a3f5f",
             "gridcolor": "white",
             "linecolor": "white",
             "minorgridcolor": "white",
             "startlinecolor": "#2a3f5f"
            },
            "baxis": {
             "endlinecolor": "#2a3f5f",
             "gridcolor": "white",
             "linecolor": "white",
             "minorgridcolor": "white",
             "startlinecolor": "#2a3f5f"
            },
            "type": "carpet"
           }
          ],
          "choropleth": [
           {
            "colorbar": {
             "outlinewidth": 0,
             "ticks": ""
            },
            "type": "choropleth"
           }
          ],
          "contour": [
           {
            "colorbar": {
             "outlinewidth": 0,
             "ticks": ""
            },
            "colorscale": [
             [
              0,
              "#0d0887"
             ],
             [
              0.1111111111111111,
              "#46039f"
             ],
             [
              0.2222222222222222,
              "#7201a8"
             ],
             [
              0.3333333333333333,
              "#9c179e"
             ],
             [
              0.4444444444444444,
              "#bd3786"
             ],
             [
              0.5555555555555556,
              "#d8576b"
             ],
             [
              0.6666666666666666,
              "#ed7953"
             ],
             [
              0.7777777777777778,
              "#fb9f3a"
             ],
             [
              0.8888888888888888,
              "#fdca26"
             ],
             [
              1,
              "#f0f921"
             ]
            ],
            "type": "contour"
           }
          ],
          "contourcarpet": [
           {
            "colorbar": {
             "outlinewidth": 0,
             "ticks": ""
            },
            "type": "contourcarpet"
           }
          ],
          "heatmap": [
           {
            "colorbar": {
             "outlinewidth": 0,
             "ticks": ""
            },
            "colorscale": [
             [
              0,
              "#0d0887"
             ],
             [
              0.1111111111111111,
              "#46039f"
             ],
             [
              0.2222222222222222,
              "#7201a8"
             ],
             [
              0.3333333333333333,
              "#9c179e"
             ],
             [
              0.4444444444444444,
              "#bd3786"
             ],
             [
              0.5555555555555556,
              "#d8576b"
             ],
             [
              0.6666666666666666,
              "#ed7953"
             ],
             [
              0.7777777777777778,
              "#fb9f3a"
             ],
             [
              0.8888888888888888,
              "#fdca26"
             ],
             [
              1,
              "#f0f921"
             ]
            ],
            "type": "heatmap"
           }
          ],
          "heatmapgl": [
           {
            "colorbar": {
             "outlinewidth": 0,
             "ticks": ""
            },
            "colorscale": [
             [
              0,
              "#0d0887"
             ],
             [
              0.1111111111111111,
              "#46039f"
             ],
             [
              0.2222222222222222,
              "#7201a8"
             ],
             [
              0.3333333333333333,
              "#9c179e"
             ],
             [
              0.4444444444444444,
              "#bd3786"
             ],
             [
              0.5555555555555556,
              "#d8576b"
             ],
             [
              0.6666666666666666,
              "#ed7953"
             ],
             [
              0.7777777777777778,
              "#fb9f3a"
             ],
             [
              0.8888888888888888,
              "#fdca26"
             ],
             [
              1,
              "#f0f921"
             ]
            ],
            "type": "heatmapgl"
           }
          ],
          "histogram": [
           {
            "marker": {
             "pattern": {
              "fillmode": "overlay",
              "size": 10,
              "solidity": 0.2
             }
            },
            "type": "histogram"
           }
          ],
          "histogram2d": [
           {
            "colorbar": {
             "outlinewidth": 0,
             "ticks": ""
            },
            "colorscale": [
             [
              0,
              "#0d0887"
             ],
             [
              0.1111111111111111,
              "#46039f"
             ],
             [
              0.2222222222222222,
              "#7201a8"
             ],
             [
              0.3333333333333333,
              "#9c179e"
             ],
             [
              0.4444444444444444,
              "#bd3786"
             ],
             [
              0.5555555555555556,
              "#d8576b"
             ],
             [
              0.6666666666666666,
              "#ed7953"
             ],
             [
              0.7777777777777778,
              "#fb9f3a"
             ],
             [
              0.8888888888888888,
              "#fdca26"
             ],
             [
              1,
              "#f0f921"
             ]
            ],
            "type": "histogram2d"
           }
          ],
          "histogram2dcontour": [
           {
            "colorbar": {
             "outlinewidth": 0,
             "ticks": ""
            },
            "colorscale": [
             [
              0,
              "#0d0887"
             ],
             [
              0.1111111111111111,
              "#46039f"
             ],
             [
              0.2222222222222222,
              "#7201a8"
             ],
             [
              0.3333333333333333,
              "#9c179e"
             ],
             [
              0.4444444444444444,
              "#bd3786"
             ],
             [
              0.5555555555555556,
              "#d8576b"
             ],
             [
              0.6666666666666666,
              "#ed7953"
             ],
             [
              0.7777777777777778,
              "#fb9f3a"
             ],
             [
              0.8888888888888888,
              "#fdca26"
             ],
             [
              1,
              "#f0f921"
             ]
            ],
            "type": "histogram2dcontour"
           }
          ],
          "mesh3d": [
           {
            "colorbar": {
             "outlinewidth": 0,
             "ticks": ""
            },
            "type": "mesh3d"
           }
          ],
          "parcoords": [
           {
            "line": {
             "colorbar": {
              "outlinewidth": 0,
              "ticks": ""
             }
            },
            "type": "parcoords"
           }
          ],
          "pie": [
           {
            "automargin": true,
            "type": "pie"
           }
          ],
          "scatter": [
           {
            "fillpattern": {
             "fillmode": "overlay",
             "size": 10,
             "solidity": 0.2
            },
            "type": "scatter"
           }
          ],
          "scatter3d": [
           {
            "line": {
             "colorbar": {
              "outlinewidth": 0,
              "ticks": ""
             }
            },
            "marker": {
             "colorbar": {
              "outlinewidth": 0,
              "ticks": ""
             }
            },
            "type": "scatter3d"
           }
          ],
          "scattercarpet": [
           {
            "marker": {
             "colorbar": {
              "outlinewidth": 0,
              "ticks": ""
             }
            },
            "type": "scattercarpet"
           }
          ],
          "scattergeo": [
           {
            "marker": {
             "colorbar": {
              "outlinewidth": 0,
              "ticks": ""
             }
            },
            "type": "scattergeo"
           }
          ],
          "scattergl": [
           {
            "marker": {
             "colorbar": {
              "outlinewidth": 0,
              "ticks": ""
             }
            },
            "type": "scattergl"
           }
          ],
          "scattermapbox": [
           {
            "marker": {
             "colorbar": {
              "outlinewidth": 0,
              "ticks": ""
             }
            },
            "type": "scattermapbox"
           }
          ],
          "scatterpolar": [
           {
            "marker": {
             "colorbar": {
              "outlinewidth": 0,
              "ticks": ""
             }
            },
            "type": "scatterpolar"
           }
          ],
          "scatterpolargl": [
           {
            "marker": {
             "colorbar": {
              "outlinewidth": 0,
              "ticks": ""
             }
            },
            "type": "scatterpolargl"
           }
          ],
          "scatterternary": [
           {
            "marker": {
             "colorbar": {
              "outlinewidth": 0,
              "ticks": ""
             }
            },
            "type": "scatterternary"
           }
          ],
          "surface": [
           {
            "colorbar": {
             "outlinewidth": 0,
             "ticks": ""
            },
            "colorscale": [
             [
              0,
              "#0d0887"
             ],
             [
              0.1111111111111111,
              "#46039f"
             ],
             [
              0.2222222222222222,
              "#7201a8"
             ],
             [
              0.3333333333333333,
              "#9c179e"
             ],
             [
              0.4444444444444444,
              "#bd3786"
             ],
             [
              0.5555555555555556,
              "#d8576b"
             ],
             [
              0.6666666666666666,
              "#ed7953"
             ],
             [
              0.7777777777777778,
              "#fb9f3a"
             ],
             [
              0.8888888888888888,
              "#fdca26"
             ],
             [
              1,
              "#f0f921"
             ]
            ],
            "type": "surface"
           }
          ],
          "table": [
           {
            "cells": {
             "fill": {
              "color": "#EBF0F8"
             },
             "line": {
              "color": "white"
             }
            },
            "header": {
             "fill": {
              "color": "#C8D4E3"
             },
             "line": {
              "color": "white"
             }
            },
            "type": "table"
           }
          ]
         },
         "layout": {
          "annotationdefaults": {
           "arrowcolor": "#2a3f5f",
           "arrowhead": 0,
           "arrowwidth": 1
          },
          "autotypenumbers": "strict",
          "coloraxis": {
           "colorbar": {
            "outlinewidth": 0,
            "ticks": ""
           }
          },
          "colorscale": {
           "diverging": [
            [
             0,
             "#8e0152"
            ],
            [
             0.1,
             "#c51b7d"
            ],
            [
             0.2,
             "#de77ae"
            ],
            [
             0.3,
             "#f1b6da"
            ],
            [
             0.4,
             "#fde0ef"
            ],
            [
             0.5,
             "#f7f7f7"
            ],
            [
             0.6,
             "#e6f5d0"
            ],
            [
             0.7,
             "#b8e186"
            ],
            [
             0.8,
             "#7fbc41"
            ],
            [
             0.9,
             "#4d9221"
            ],
            [
             1,
             "#276419"
            ]
           ],
           "sequential": [
            [
             0,
             "#0d0887"
            ],
            [
             0.1111111111111111,
             "#46039f"
            ],
            [
             0.2222222222222222,
             "#7201a8"
            ],
            [
             0.3333333333333333,
             "#9c179e"
            ],
            [
             0.4444444444444444,
             "#bd3786"
            ],
            [
             0.5555555555555556,
             "#d8576b"
            ],
            [
             0.6666666666666666,
             "#ed7953"
            ],
            [
             0.7777777777777778,
             "#fb9f3a"
            ],
            [
             0.8888888888888888,
             "#fdca26"
            ],
            [
             1,
             "#f0f921"
            ]
           ],
           "sequentialminus": [
            [
             0,
             "#0d0887"
            ],
            [
             0.1111111111111111,
             "#46039f"
            ],
            [
             0.2222222222222222,
             "#7201a8"
            ],
            [
             0.3333333333333333,
             "#9c179e"
            ],
            [
             0.4444444444444444,
             "#bd3786"
            ],
            [
             0.5555555555555556,
             "#d8576b"
            ],
            [
             0.6666666666666666,
             "#ed7953"
            ],
            [
             0.7777777777777778,
             "#fb9f3a"
            ],
            [
             0.8888888888888888,
             "#fdca26"
            ],
            [
             1,
             "#f0f921"
            ]
           ]
          },
          "colorway": [
           "#636efa",
           "#EF553B",
           "#00cc96",
           "#ab63fa",
           "#FFA15A",
           "#19d3f3",
           "#FF6692",
           "#B6E880",
           "#FF97FF",
           "#FECB52"
          ],
          "font": {
           "color": "#2a3f5f"
          },
          "geo": {
           "bgcolor": "white",
           "lakecolor": "white",
           "landcolor": "#E5ECF6",
           "showlakes": true,
           "showland": true,
           "subunitcolor": "white"
          },
          "hoverlabel": {
           "align": "left"
          },
          "hovermode": "closest",
          "mapbox": {
           "style": "light"
          },
          "paper_bgcolor": "white",
          "plot_bgcolor": "#E5ECF6",
          "polar": {
           "angularaxis": {
            "gridcolor": "white",
            "linecolor": "white",
            "ticks": ""
           },
           "bgcolor": "#E5ECF6",
           "radialaxis": {
            "gridcolor": "white",
            "linecolor": "white",
            "ticks": ""
           }
          },
          "scene": {
           "xaxis": {
            "backgroundcolor": "#E5ECF6",
            "gridcolor": "white",
            "gridwidth": 2,
            "linecolor": "white",
            "showbackground": true,
            "ticks": "",
            "zerolinecolor": "white"
           },
           "yaxis": {
            "backgroundcolor": "#E5ECF6",
            "gridcolor": "white",
            "gridwidth": 2,
            "linecolor": "white",
            "showbackground": true,
            "ticks": "",
            "zerolinecolor": "white"
           },
           "zaxis": {
            "backgroundcolor": "#E5ECF6",
            "gridcolor": "white",
            "gridwidth": 2,
            "linecolor": "white",
            "showbackground": true,
            "ticks": "",
            "zerolinecolor": "white"
           }
          },
          "shapedefaults": {
           "line": {
            "color": "#2a3f5f"
           }
          },
          "ternary": {
           "aaxis": {
            "gridcolor": "white",
            "linecolor": "white",
            "ticks": ""
           },
           "baxis": {
            "gridcolor": "white",
            "linecolor": "white",
            "ticks": ""
           },
           "bgcolor": "#E5ECF6",
           "caxis": {
            "gridcolor": "white",
            "linecolor": "white",
            "ticks": ""
           }
          },
          "title": {
           "x": 0.05
          },
          "xaxis": {
           "automargin": true,
           "gridcolor": "white",
           "linecolor": "white",
           "ticks": "",
           "title": {
            "standoff": 15
           },
           "zerolinecolor": "white",
           "zerolinewidth": 2
          },
          "yaxis": {
           "automargin": true,
           "gridcolor": "white",
           "linecolor": "white",
           "ticks": "",
           "title": {
            "standoff": 15
           },
           "zerolinecolor": "white",
           "zerolinewidth": 2
          }
         }
        },
        "width": 900,
        "xaxis": {
         "rangeselector": {
          "buttons": [
           {
            "count": 7,
            "label": "1w",
            "step": "day",
            "stepmode": "backward"
           },
           {
            "count": 1,
            "label": "1m",
            "step": "month",
            "stepmode": "backward"
           },
           {
            "count": 6,
            "label": "6m",
            "step": "month",
            "stepmode": "backward"
           },
           {
            "count": 1,
            "label": "1y",
            "step": "year",
            "stepmode": "backward"
           },
           {
            "step": "all"
           }
          ]
         },
         "rangeslider": {
          "visible": true
         },
         "title": {
          "text": "ds"
         },
         "type": "date"
        },
        "yaxis": {
         "title": {
          "text": "y"
         }
        }
       }
      }
     },
     "metadata": {},
     "output_type": "display_data"
    },
    {
     "name": "stdout",
     "output_type": "stream",
     "text": [
      "The train SMAPE is 3.96% and the test SMAPE is 2.82%.\n"
     ]
    }
   ],
   "source": [
    "# Prophet model\n",
    "\n",
    "# select start date = beginning data\n",
    "start = '03/31/1991'\n",
    "\n",
    "# select end of train data\n",
    "end = '12/31/2020'\n",
    "\n",
    "# start and end to datetime type\n",
    "start = pd.to_datetime(start)\n",
    "end = pd.to_datetime(end)\n",
    "\n",
    "# I chose variables to modify the changepoint scale, which is ultimately flexibility of the model\n",
    "# and display its ability. The model will iterate through this list and provide a fit for each.\n",
    "for x in [0.5,1,10,1000]:\n",
    "\n",
    "    # protect parent df\n",
    "    predict_df = summary_df.copy(deep=True)\n",
    "    \n",
    "    # update df for Prophet requirements - only accepts certain names\n",
    "    predict_df.reset_index(inplace=True,names=['date'])\n",
    "    predict_df['date'] = pd.to_datetime(predict_df['date'])\n",
    "\n",
    "    # define train and test\n",
    "    prophet_train = predict_df.loc[predict_df['date'] <= end]\n",
    "    prophet_test = predict_df.loc[predict_df['date'] > end]\n",
    "    prophet_train = prophet_train.loc[prophet_train['date'] >= start]\n",
    "    \n",
    "    # modify train/test for Prophet\n",
    "    prophet_train.rename(columns={\"date\": \"ds\", 'Prescriptions': \"y\"}, inplace=True)\n",
    "    prophet_test.rename(columns={\"date\": \"ds\", 'Prescriptions': \"y\"}, inplace=True)\n",
    "    \n",
    "    # instantiate model - note changgepoint is modified by loop variable\n",
    "    model = Prophet(yearly_seasonality=4, changepoint_prior_scale = (.5 * x))\n",
    "    \n",
    "    # fit model\n",
    "    model.fit(prophet_train)\n",
    "    \n",
    "    # model future\n",
    "    future = model.make_future_dataframe(periods=(len(predict_df)-len(predict_df.loc[predict_df['date'] <= end])), freq=\"Q\", include_history=True)\n",
    "    forecast = model.predict(future)\n",
    "    \n",
    "    # plot results\n",
    "    fig = plot_plotly(model, forecast)\n",
    "    fig.show()\n",
    "    \n",
    "    # reorder to collect SMAPE\n",
    "    predict_train = forecast['yhat'][0:len(model.history)]\n",
    "    predict_test = forecast['yhat'][len(model.history):]\n",
    "    real_train = predict_df['Prescriptions'][0:len(model.history)]\n",
    "    real_test = predict_df['Prescriptions'][len(model.history):]\n",
    "\n",
    "    # collect SMAPE\n",
    "    train_smape = symmetric_mean_absolute_percentage_error(real_train, predict_train)\n",
    "    test_smape = symmetric_mean_absolute_percentage_error(real_test, predict_test)\n",
    "    print(f\"The train SMAPE is {round(train_smape,2)}% and the test SMAPE is {round(test_smape,2)}%.\")"
   ]
  },
  {
   "attachments": {},
   "cell_type": "markdown",
   "metadata": {},
   "source": [
    "We can see that the fit improves as the `changepoint_prior_scale` modifying variable changes. The best test fit occurs at , and is comparable with the ARIMA model above."
   ]
  },
  {
   "attachments": {},
   "cell_type": "markdown",
   "metadata": {},
   "source": [
    "# Multiple-Output RNN"
   ]
  },
  {
   "attachments": {},
   "cell_type": "markdown",
   "metadata": {},
   "source": [
    "Neural networks have also been applied to time series analysis. Due to conflicts with this notebook's environment and TensorFlow/Keras, RNN fitting is continued in Notebook 3. That notebook may be reviewed before continued discussion below.\n",
    "\n",
    "A copy of a fit cell is included below. Three time windows have been used to fit the RNN function, and 5 data points are predicted from each window. The TensorFlow RNN (RN-LTSM) uses MAE, mean absolute error, rather than mean absolute percentage error. In the future, this may be modified to return MAPE or SMAPE values for better comparison with the ARIMA and Prophet methods."
   ]
  },
  {
   "cell_type": "code",
   "execution_count": null,
   "metadata": {},
   "outputs": [
    {
     "name": "stdout",
     "output_type": "stream",
     "text": [
      "2/2 [==============================] - 1s 48ms/step - loss: 0.1436 - mean_absolute_error: 0.1530\n"
     ]
    },
    {
     "data": {
      "image/png": "[encoded data removed]",
      "text/plain": [
       "<Figure size 1200x800 with 3 Axes>"
      ]
     },
     "metadata": {},
     "output_type": "display_data"
    }
   ],
   "source": [
    "# cell taken from notebook 3"
   ]
  },
  {
   "attachments": {},
   "cell_type": "markdown",
   "metadata": {},
   "source": [
    "## Conclusions\n",
    "\n",
    "All three models produce relatively good evaluation metrics for test datasets, indicating reliability in their predictions forecasting approximately one year out. Proceeding to Notebook 4, I'll condense the ARIMA model, which allows the most direct manipulation of parameters, and apply forecasting to drugs for which there are current or expected shortages.\n",
    "\n",
    "Using a constant prediction of the all-time mean of 153,236,124 for for all federal prescriptions returns an SMAPE of 17.17%. This will be the baseline for other models to meet. The most optimized single ARIMA model returns a train SMAPE of 14.66% and test SMAPE of 2.37% with the parameters p = 1, d = 3, q = 3 where the test SMAPE is being optimized. (In doing so there is some degree of data leakage through my choosing the optimized model.) Averaging the top 5 predictions results in a train SMAPE of 8.93% and test SMAPE of 2.64%.<Br>\n",
    "- This means that the ARIMA model fits the data better than a flat-line prediction.<Br>\n",
    "While the averaged model fits the training data significantly better than the top individual model, the test data increases slightly from 2.37% to 2.64% SMAPE.\n",
    "\n",
    "While the Prophet model is not maximally optimized, adjusting \"flexibility\" in number of inflection points through the the `changepoint_prior_scale` parameter allows some tuning of the model. As the `changepoint_prior_scale` (set at 0.5*modifier) is increased, train SMAPE deccreases while test SMAPE increases. The best test SMAPE found is 1.33%, an improvement over the ARIMA model and extreme improvement over the flat-line projection. Parameters and the respective SMAPEs are shown in the table below.\n",
    "\n",
    "|Modifier|Train SMAPE|Test SMAPE|\n",
    "|---|---|---|\n",
    "|0.5 |8.83% | 1.33%|\n",
    "|1 |6.9% |1.64%|\n",
    "|10 |4.6% |2.42%|\n",
    "|1000 |3.96% |2.82%|\n",
    "\n",
    "The RNN model does not currently provide a SMAPE, but does return Mean Average Error, MAE. In these terms the MAE is 0.1530 for the test dataset, reflecting a good fit at 1000 epochs."
   ]
  }
 ],
 "metadata": {
  "kernelspec": {
   "display_name": "AKStandard",
   "language": "python",
   "name": "python3"
  },
  "language_info": {
   "codemirror_mode": {
    "name": "ipython",
    "version": 3
   },
   "file_extension": ".py",
   "mimetype": "text/x-python",
   "name": "python",
   "nbconvert_exporter": "python",
   "pygments_lexer": "ipython3",
   "version": "3.10.8"
  },
  "orig_nbformat": 4
 },
 "nbformat": 4,
 "nbformat_minor": 2
}
