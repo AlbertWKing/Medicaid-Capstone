{
 "cells": [
  {
   "cell_type": "code",
   "execution_count": 20,
   "metadata": {},
   "outputs": [],
   "source": [
    "import pandas as pd"
   ]
  },
  {
   "cell_type": "code",
   "execution_count": null,
   "metadata": {},
   "outputs": [],
   "source": [
    "generics = pd.read_csv('data/scraped_generics.csv')"
   ]
  },
  {
   "cell_type": "code",
   "execution_count": null,
   "metadata": {},
   "outputs": [],
   "source": [
    "generics.head()"
   ]
  },
  {
   "cell_type": "code",
   "execution_count": null,
   "metadata": {},
   "outputs": [],
   "source": [
    "for i in generics.index:\n",
    "    generics['generic_name'][i] = list(generics['generic_name'][i])"
   ]
  },
  {
   "cell_type": "code",
   "execution_count": null,
   "metadata": {},
   "outputs": [],
   "source": [
    "generics['generic_name'][2]"
   ]
  },
  {
   "cell_type": "code",
   "execution_count": null,
   "metadata": {},
   "outputs": [],
   "source": [
    "generics['generic_name'][3]"
   ]
  },
  {
   "cell_type": "code",
   "execution_count": null,
   "metadata": {},
   "outputs": [],
   "source": [
    "type(generics['generic_name'][3])"
   ]
  },
  {
   "cell_type": "code",
   "execution_count": 32,
   "metadata": {},
   "outputs": [],
   "source": [
    "full = pd.read_csv('data/scraped_drugs.csv',index_col=0)"
   ]
  },
  {
   "cell_type": "code",
   "execution_count": 51,
   "metadata": {},
   "outputs": [
    {
     "data": {
      "text/html": [
       "<div>\n",
       "<style scoped>\n",
       "    .dataframe tbody tr th:only-of-type {\n",
       "        vertical-align: middle;\n",
       "    }\n",
       "\n",
       "    .dataframe tbody tr th {\n",
       "        vertical-align: top;\n",
       "    }\n",
       "\n",
       "    .dataframe thead th {\n",
       "        text-align: right;\n",
       "    }\n",
       "</style>\n",
       "<table border=\"1\" class=\"dataframe\">\n",
       "  <thead>\n",
       "    <tr style=\"text-align: right;\">\n",
       "      <th></th>\n",
       "      <th>generic_name</th>\n",
       "      <th>brand_name</th>\n",
       "      <th>drug_class</th>\n",
       "      <th>NDC</th>\n",
       "    </tr>\n",
       "  </thead>\n",
       "  <tbody>\n",
       "    <tr>\n",
       "      <th>0</th>\n",
       "      <td>methylprednisolone sodium succinate</td>\n",
       "      <td>['A-Methapred']</td>\n",
       "      <td>['Corticosteroids']</td>\n",
       "      <td>[]</td>\n",
       "    </tr>\n",
       "    <tr>\n",
       "      <th>2</th>\n",
       "      <td>abacavir sulfate</td>\n",
       "      <td>['Ziagen']</td>\n",
       "      <td>['HIV', ' NNRTIs', ' Antiretroviral Agents']</td>\n",
       "      <td>['49702-221-18', '49702-222-48']</td>\n",
       "    </tr>\n",
       "    <tr>\n",
       "      <th>3</th>\n",
       "      <td>abacavir sulfate and lamivudine tablets</td>\n",
       "      <td>['Epzicom']</td>\n",
       "      <td>['HIV', ' NNRTIs']</td>\n",
       "      <td>['49702-206-13']</td>\n",
       "    </tr>\n",
       "    <tr>\n",
       "      <th>4</th>\n",
       "      <td>abacavir sulfate, lamivudine,zidovudine</td>\n",
       "      <td>['Trizivir']</td>\n",
       "      <td>['HIV', ' NNRTIs']</td>\n",
       "      <td>['49702-217-18']</td>\n",
       "    </tr>\n",
       "    <tr>\n",
       "      <th>5</th>\n",
       "      <td>abacavir, dolutegravir,lamivudine film-coated ...</td>\n",
       "      <td>['Triumeq']</td>\n",
       "      <td>['HIV', ' ART Combos']</td>\n",
       "      <td>['49702-231-13', '49702-272-59', '49702-258-37']</td>\n",
       "    </tr>\n",
       "  </tbody>\n",
       "</table>\n",
       "</div>"
      ],
      "text/plain": [
       "                                        generic_name       brand_name  \\\n",
       "0                methylprednisolone sodium succinate  ['A-Methapred']   \n",
       "2                                   abacavir sulfate       ['Ziagen']   \n",
       "3            abacavir sulfate and lamivudine tablets      ['Epzicom']   \n",
       "4            abacavir sulfate, lamivudine,zidovudine     ['Trizivir']   \n",
       "5  abacavir, dolutegravir,lamivudine film-coated ...      ['Triumeq']   \n",
       "\n",
       "                                     drug_class  \\\n",
       "0                           ['Corticosteroids']   \n",
       "2  ['HIV', ' NNRTIs', ' Antiretroviral Agents']   \n",
       "3                            ['HIV', ' NNRTIs']   \n",
       "4                            ['HIV', ' NNRTIs']   \n",
       "5                        ['HIV', ' ART Combos']   \n",
       "\n",
       "                                                NDC  \n",
       "0                                                []  \n",
       "2                  ['49702-221-18', '49702-222-48']  \n",
       "3                                  ['49702-206-13']  \n",
       "4                                  ['49702-217-18']  \n",
       "5  ['49702-231-13', '49702-272-59', '49702-258-37']  "
      ]
     },
     "execution_count": 51,
     "metadata": {},
     "output_type": "execute_result"
    }
   ],
   "source": [
    "full.head()"
   ]
  },
  {
   "cell_type": "code",
   "execution_count": 48,
   "metadata": {},
   "outputs": [
    {
     "data": {
      "text/plain": [
       "0                  methylprednisolone sodium succinate\n",
       "2                                     abacavir sulfate\n",
       "3              abacavir sulfate and lamivudine tablets\n",
       "4              abacavir sulfate, lamivudine,zidovudine\n",
       "5    abacavir, dolutegravir,lamivudine film-coated ...\n",
       "Name: generic_name, dtype: object"
      ]
     },
     "execution_count": 48,
     "metadata": {},
     "output_type": "execute_result"
    }
   ],
   "source": [
    "generic = full['generic_name']\n",
    "for i in generic.index:\n",
    "    generic[i] = generic[i].replace(\"'\",\"\").replace(\"  \",\" \").replace(\"[\",\"\").replace(\"]\",\"\").replace(\", and\",\",\")\n",
    "\n",
    "brand = full['brand_name']\n",
    "for i in brand.index:\n",
    "    brand[i] = brand[i].replace(\"'\",\"\").replace(\"  \",\" \").replace(\"[\",\"\").replace(\"]\",\"\").replace(\", and\",\",\")\n",
    "\n",
    "drug_class = full['drug_class']\n",
    "for i in drug_class.index:\n",
    "    drug_class[i] = drug_class[i].replace(\"'\",\"\").replace(\"  \",\" \").replace(\"[\",\"\").replace(\"]\",\"\").replace(\", and\",\",\")\n",
    "\n",
    "ndc = full['NDC']\n",
    "for i in ndc.index:\n",
    "    ndc[i] = ndc[i].replace(\"'\",\"\").replace(\"  \",\" \").replace(\"[\",\"\").replace(\"]\",\"\").replace(\", and\",\",\")"
   ]
  }
 ],
 "metadata": {
  "kernelspec": {
   "display_name": "AKStandard",
   "language": "python",
   "name": "python3"
  },
  "language_info": {
   "codemirror_mode": {
    "name": "ipython",
    "version": 3
   },
   "file_extension": ".py",
   "mimetype": "text/x-python",
   "name": "python",
   "nbconvert_exporter": "python",
   "pygments_lexer": "ipython3",
   "version": "3.10.8"
  },
  "orig_nbformat": 4
 },
 "nbformat": 4,
 "nbformat_minor": 2
}
